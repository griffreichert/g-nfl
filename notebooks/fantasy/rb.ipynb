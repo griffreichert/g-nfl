{
 "cells": [
  {
   "cell_type": "code",
   "execution_count": null,
   "id": "c5edbca5",
   "metadata": {},
   "outputs": [],
   "source": [
    "import pandas as pd\n",
    "import nfl_data_py as nfl\n",
    "from fantasy.projections.rb.projector import RBFantasyProjector\n",
    "\n",
    "pd.set_option('display.max_columns', None)"
   ]
  },
  {
   "cell_type": "code",
   "execution_count": null,
   "id": "d68308f0",
   "metadata": {},
   "outputs": [],
   "source": [
    "pbp = nfl.import_pbp_data([2024])\n",
    "pbp.shape\n"
   ]
  },
  {
   "cell_type": "code",
   "execution_count": null,
   "id": "c68a7349",
   "metadata": {},
   "outputs": [],
   "source": [
    "pbp.head(4)"
   ]
  },
  {
   "cell_type": "code",
   "execution_count": null,
   "id": "44a44d98",
   "metadata": {},
   "outputs": [],
   "source": [
    "pbp_run_pass = pbp[pbp['play_type'].isin({\"run\", 'pass'})]\n",
    "pbp_run_pass.shape"
   ]
  },
  {
   "cell_type": "code",
   "execution_count": null,
   "id": "59cae6fe",
   "metadata": {},
   "outputs": [],
   "source": [
    "pbp_run_pass.sample(4)"
   ]
  },
  {
   "cell_type": "code",
   "execution_count": null,
   "id": "717442e3",
   "metadata": {},
   "outputs": [],
   "source": []
  },
  {
   "cell_type": "code",
   "execution_count": null,
   "id": "8f9422da",
   "metadata": {},
   "outputs": [],
   "source": [
    "pbp_run_pass[(~pbp_run_pass['rusher_id'].isna())].sample(4)"
   ]
  },
  {
   "cell_type": "code",
   "execution_count": null,
   "id": "c15cc8b1",
   "metadata": {},
   "outputs": [],
   "source": [
    "[col for col in pbp_run_pass.columns if \"rush\" in col]\n"
   ]
  },
  {
   "cell_type": "code",
   "execution_count": null,
   "id": "6abc93ea",
   "metadata": {},
   "outputs": [],
   "source": [
    "projector = RBFantasyProjector(current_season=2024)\n",
    "\n",
    "# Run analysis for next week (adjust as needed)\n",
    "target_week = 8  # Change this to current week\n",
    "projections, top_plays = projector.run_full_analysis(target_week)\n"
   ]
  },
  {
   "cell_type": "code",
   "execution_count": null,
   "id": "65b54319",
   "metadata": {},
   "outputs": [],
   "source": [
    "# Test the enhanced PBP-based projector with EPA matchup analysis\n",
    "from src.fantasy.projections.rb.pbp_projector import PBPRBFantasyProjector\n",
    "\n",
    "# Initialize the new projector\n",
    "pbp_projector = PBPRBFantasyProjector(current_season=2024)\n",
    "\n",
    "# Test with a small subset of weeks first\n",
    "test_weeks = [1, 2, 3, 4]  # First 4 weeks as sample\n",
    "\n",
    "try:\n",
    "    projections, top_plays = pbp_projector.run_full_analysis(\n",
    "        target_week=5, \n",
    "        weeks_filter=test_weeks\n",
    "    )\n",
    "    print(\"\\n✅ Enhanced PBP Projector working successfully!\")\n",
    "    print(f\"Generated {len(projections)} projections\")\n",
    "    print(f\"Found {len(top_plays)} top plays\")\n",
    "    \n",
    "    # Test the new matchup analysis feature\n",
    "    print(\"\\n--- Testing Matchup Analysis ---\")\n",
    "    matchups = pbp_projector.get_matchup_analysis(week_num=5)\n",
    "    print(f\"Week 5 Matchup Analysis (Top 5 EPA-friendly matchups):\")\n",
    "    print(matchups.head()[['offense', 'defense', 'def_epa_allowed', 'matchup_modifier']].to_string(index=False))\n",
    "    \n",
    "    # Show defensive rankings\n",
    "    print(\"\\n--- Defensive EPA Rankings (Worst = Best Matchups) ---\")\n",
    "    def_rankings = pbp_projector.defensive_stats.sort_values('rush_epa_allowed', ascending=False)\n",
    "    print(def_rankings[['defense', 'rush_epa_allowed', 'rush_success_rate_allowed', 'stuff_rate']].head(10).to_string(index=False))\n",
    "    \n",
    "except Exception as e:\n",
    "    print(f\"❌ Error: {e}\")\n",
    "    import traceback\n",
    "    traceback.print_exc()"
   ]
  }
 ],
 "metadata": {
  "kernelspec": {
   "display_name": "nfl-betting--tcbFQtn-py3.11",
   "language": "python",
   "name": "python3"
  },
  "language_info": {
   "codemirror_mode": {
    "name": "ipython",
    "version": 3
   },
   "file_extension": ".py",
   "mimetype": "text/x-python",
   "name": "python",
   "nbconvert_exporter": "python",
   "pygments_lexer": "ipython3",
   "version": "3.11.9"
  }
 },
 "nbformat": 4,
 "nbformat_minor": 5
}
