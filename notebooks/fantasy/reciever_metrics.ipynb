{
 "cells": [
  {
   "cell_type": "code",
   "execution_count": null,
   "metadata": {},
   "outputs": [],
   "source": [
    "import jupyter_black\n",
    "\n",
    "jupyter_black.load()\n",
    "\n",
    "import pandas as pd\n",
    "import nfl_data_py as nfl\n",
    "from typing import Literal, Tuple\n",
    "from src.modelling.metrics import success_rate_lambda\n",
    "from src.visualisation.visualisation import plot_team_scatter\n",
    "\n",
    "pd.set_option(\"display.max_columns\", None)"
   ]
  },
  {
   "cell_type": "code",
   "execution_count": null,
   "metadata": {},
   "outputs": [],
   "source": [
    "pbp: pd.DataFrame = nfl.import_pbp_data([2023])"
   ]
  },
  {
   "cell_type": "code",
   "execution_count": null,
   "metadata": {},
   "outputs": [],
   "source": [
    "# offense_players - list of id's\n",
    "id_df = nfl.import_ids()"
   ]
  },
  {
   "cell_type": "code",
   "execution_count": null,
   "metadata": {},
   "outputs": [],
   "source": [
    "pbp = pbp.query(\"week<=18\")"
   ]
  },
  {
   "cell_type": "code",
   "execution_count": null,
   "metadata": {},
   "outputs": [],
   "source": [
    "pbp[\"offense_players_list\"] = pbp[\"offense_players\"].apply(\n",
    "    lambda x: x.split(\";\") if type(x) == str else None\n",
    ")"
   ]
  },
  {
   "cell_type": "code",
   "execution_count": null,
   "metadata": {},
   "outputs": [],
   "source": [
    "pbp[\"offense_players_list\"]"
   ]
  },
  {
   "cell_type": "code",
   "execution_count": null,
   "metadata": {},
   "outputs": [],
   "source": [
    "id_df.sample(10)"
   ]
  },
  {
   "cell_type": "code",
   "execution_count": null,
   "metadata": {},
   "outputs": [],
   "source": [
    "pbp_player = (\n",
    "    pbp.explode(\"offense_players_list\")\n",
    "    .dropna(subset=[\"offense_players_list\"])\n",
    "    .rename(columns={\"offense_players_list\": \"player_id\"})\n",
    "    .query('player_id!=\"\"')\n",
    "    .query('play_type==\"pass\" or play_type==\"run\"')\n",
    "    .merge(\n",
    "        id_df[[\"gsis_id\", \"position\", \"name\"]],\n",
    "        how=\"left\",\n",
    "        left_on=\"player_id\",\n",
    "        right_on=\"gsis_id\",\n",
    "    )\n",
    "    .drop(columns=[\"gsis_id\"])\n",
    ")"
   ]
  },
  {
   "cell_type": "code",
   "execution_count": null,
   "metadata": {},
   "outputs": [],
   "source": [
    "pbp_wr = pbp_player.query('position==\"WR\"').copy()\n",
    "pbp_wr[\"own_target\"] = pbp_wr.apply(\n",
    "    lambda row: 1 if row[\"player_id\"] == row[\"receiver_id\"] else 0,\n",
    "    axis=1,\n",
    ")\n",
    "pbp_wr[\"own_rec\"] = pbp_wr.apply(\n",
    "    lambda row: row[\"complete_pass\"] if row[\"player_id\"] == row[\"receiver_id\"] else 0,\n",
    "    axis=1,\n",
    ")\n",
    "pbp_wr[\"own_rec_yds\"] = pbp_wr.apply(\n",
    "    lambda row: row[\"receiving_yards\"] if row[\"player_id\"] == row[\"receiver_id\"] else 0,\n",
    "    axis=1,\n",
    ")"
   ]
  },
  {
   "cell_type": "code",
   "execution_count": null,
   "metadata": {},
   "outputs": [],
   "source": [
    "# 00-0030279 keenan\n",
    "# 00-0036963 arsb"
   ]
  },
  {
   "cell_type": "code",
   "execution_count": null,
   "metadata": {},
   "outputs": [],
   "source": [
    "arsb = pbp_wr.query(\"player_id=='00-0036963'\")"
   ]
  },
  {
   "cell_type": "code",
   "execution_count": null,
   "metadata": {},
   "outputs": [],
   "source": [
    "[c for c in arsb.columns if \"rec\" in c]"
   ]
  },
  {
   "cell_type": "code",
   "execution_count": null,
   "metadata": {},
   "outputs": [],
   "source": [
    "arsb.head()"
   ]
  },
  {
   "cell_type": "code",
   "execution_count": null,
   "metadata": {},
   "outputs": [],
   "source": [
    "arsb_yrr = (\n",
    "    arsb.groupby(\"player_id\")\n",
    "    .agg(\n",
    "        {\n",
    "            \"play_id\": \"count\",\n",
    "            \"pass_attempt\": \"sum\",\n",
    "            \"own_target\": \"sum\",\n",
    "            \"own_rec\": \"sum\",\n",
    "            \"own_rec_yds\": \"sum\",\n",
    "        }\n",
    "    )\n",
    "    .rename(\n",
    "        columns={\n",
    "            \"play_id\": \"snaps\",\n",
    "            \"pass_attempt\": \"routes\",\n",
    "            \"own_target\": \"tgts\",\n",
    "            \"own_rec\": \"recs\",\n",
    "            \"own_rec_yds\": \"yds\",\n",
    "        }\n",
    "    )\n",
    "    .astype(int)\n",
    ")\n",
    "arsb_yrr[\"yrr\"] = (arsb_yrr[\"yds\"] / arsb_yrr[\"routes\"]).round(3)\n",
    "arsb_yrr"
   ]
  },
  {
   "cell_type": "code",
   "execution_count": null,
   "metadata": {},
   "outputs": [],
   "source": [
    "# these are snaps he was on the field for, i also need team totals"
   ]
  },
  {
   "cell_type": "code",
   "execution_count": null,
   "metadata": {},
   "outputs": [],
   "source": []
  }
 ],
 "metadata": {
  "kernelspec": {
   "display_name": "nfl-betting-2oCf1E4A-py3.11",
   "language": "python",
   "name": "python3"
  },
  "language_info": {
   "codemirror_mode": {
    "name": "ipython",
    "version": 3
   },
   "file_extension": ".py",
   "mimetype": "text/x-python",
   "name": "python",
   "nbconvert_exporter": "python",
   "pygments_lexer": "ipython3",
   "version": "3.11.9"
  }
 },
 "nbformat": 4,
 "nbformat_minor": 2
}
