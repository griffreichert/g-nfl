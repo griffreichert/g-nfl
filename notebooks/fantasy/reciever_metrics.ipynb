{
 "cells": [
  {
   "cell_type": "code",
   "execution_count": null,
   "metadata": {},
   "outputs": [],
   "source": [
    "import jupyter_black\n",
    "\n",
    "jupyter_black.load()\n",
    "import pandas as pd\n",
    "import nfl_data_py as nfl\n",
    "from src.visualisation.visualisation import plot_bar, plot_scatter\n",
    "from src.visualisation import colors\n",
    "import plotly.express as px\n",
    "\n",
    "pd.set_option(\"display.max_columns\", None)"
   ]
  },
  {
   "cell_type": "code",
   "execution_count": null,
   "metadata": {},
   "outputs": [],
   "source": [
    "pbp: pd.DataFrame = nfl.import_pbp_data([2023])"
   ]
  },
  {
   "cell_type": "code",
   "execution_count": null,
   "metadata": {},
   "outputs": [],
   "source": [
    "# offense_players - list of id's\n",
    "id_df = nfl.import_ids()\n",
    "id_df.sample(4)"
   ]
  },
  {
   "cell_type": "code",
   "execution_count": null,
   "metadata": {},
   "outputs": [],
   "source": [
    "pbp = pbp.query(\"week<=18\").query('play_type==\"pass\" or play_type==\"run\"')"
   ]
  },
  {
   "cell_type": "code",
   "execution_count": null,
   "metadata": {},
   "outputs": [],
   "source": [
    "pbp[\"offense_players_list\"] = pbp[\"offense_players\"].apply(\n",
    "    lambda x: x.split(\";\") if type(x) == str else None\n",
    ")"
   ]
  },
  {
   "cell_type": "code",
   "execution_count": null,
   "metadata": {},
   "outputs": [],
   "source": [
    "pbp[\"offense_players_list\"]"
   ]
  },
  {
   "cell_type": "code",
   "execution_count": null,
   "metadata": {},
   "outputs": [],
   "source": [
    "pbp_player = (\n",
    "    pbp.explode(\"offense_players_list\")\n",
    "    .dropna(subset=[\"offense_players_list\"])\n",
    "    .rename(columns={\"offense_players_list\": \"player_id\"})\n",
    "    # .query('player_id!=\"\"')\n",
    "    .merge(\n",
    "        id_df[[\"gsis_id\", \"position\", \"name\"]],\n",
    "        how=\"left\",\n",
    "        left_on=\"player_id\",\n",
    "        right_on=\"gsis_id\",\n",
    "    )\n",
    "    .drop(columns=[\"gsis_id\"])\n",
    ")"
   ]
  },
  {
   "cell_type": "code",
   "execution_count": null,
   "metadata": {},
   "outputs": [],
   "source": [
    "pbp_player.sample(8)"
   ]
  },
  {
   "cell_type": "code",
   "execution_count": null,
   "metadata": {},
   "outputs": [],
   "source": [
    "pbp_wr = pbp_player.query('position==\"WR\"').copy()\n",
    "pbp_wr[\"is_self\"] = pbp_wr.apply(\n",
    "    lambda row: 1 if row[\"player_id\"] == row[\"receiver_id\"] else 0,\n",
    "    axis=1,\n",
    ")\n",
    "pbp_wr[\"self_rec\"] = pbp_wr[\"complete_pass\"] * pbp_wr[\"is_self\"]\n",
    "pbp_wr[\"self_rec_yds\"] = pbp_wr[\"receiving_yards\"] * pbp_wr[\"is_self\"]\n",
    "pbp_wr[\"self_first_down\"] = pbp_wr[\"first_down\"] * pbp_wr[\"is_self\"]\n",
    "# lambda row: row[\"\"] if row[\"player_id\"] == row[\"receiver_id\"] else 0,\n",
    "# axis=1,\n",
    "# )\n",
    "# pbp_wr[\"own_rec_yds\"] = pbp_wr.apply(\n",
    "#     lambda row: row[\"receiving_yards\"] if row[\"player_id\"] == row[\"receiver_id\"] else 0,\n",
    "#     axis=1,\n",
    "# )"
   ]
  },
  {
   "cell_type": "code",
   "execution_count": null,
   "metadata": {},
   "outputs": [],
   "source": [
    "[c for c in pbp_wr.columns if \"recep\" in c]"
   ]
  },
  {
   "cell_type": "code",
   "execution_count": null,
   "metadata": {},
   "outputs": [],
   "source": [
    "yprr_df = (\n",
    "    pbp_wr.groupby([\"player_id\", \"name_y\", \"posteam\"])\n",
    "    .agg(\n",
    "        {\n",
    "            \"play_id\": \"count\",\n",
    "            \"pass_attempt\": \"sum\",\n",
    "            \"is_self\": \"sum\",\n",
    "            \"self_rec\": \"sum\",\n",
    "            \"self_rec_yds\": \"sum\",\n",
    "            \"self_first_down\": \"sum\",\n",
    "        }\n",
    "    )\n",
    "    .rename(\n",
    "        columns={\n",
    "            \"play_id\": \"snaps\",\n",
    "            \"pass_attempt\": \"routes\",\n",
    "            \"is_self\": \"tgts\",\n",
    "            \"self_rec\": \"recs\",\n",
    "            \"self_rec_yds\": \"yds\",\n",
    "            \"self_first_down\": \"first_downs\",\n",
    "        }\n",
    "    )\n",
    "    .astype(int)\n",
    ")\n",
    "yprr_df[\"yprr\"] = (yprr_df[\"yds\"] / yprr_df[\"routes\"]).round(3)\n",
    "yprr_df[\"fdprr\"] = (yprr_df[\"first_downs\"] / yprr_df[\"routes\"]).round(3)\n",
    "yprr_df = yprr_df.query(\"routes>50\").sort_values(\"yprr\", ascending=False)\n",
    "yprr_df = yprr_df.reset_index().rename(columns={\"name_y\": \"player\", \"posteam\": \"team\"})\n",
    "yprr_df.head()"
   ]
  },
  {
   "cell_type": "code",
   "execution_count": null,
   "metadata": {},
   "outputs": [],
   "source": [
    "import matplotlib.pyplot as plt\n",
    "from typing import Tuple, Union\n",
    "from matplotlib.offsetbox import AnnotationBbox\n",
    "from src.utils.logos import get_team_logo\n",
    "from adjustText import adjust_text\n",
    "\n",
    "\n",
    "def plot_team_scatter(\n",
    "    data: pd.DataFrame,\n",
    "    x: str,\n",
    "    y: str,\n",
    "    title: Union[str, None] = None,\n",
    "    ax_labels: Tuple[str, str] = (\"\", \"\"),\n",
    "    mean_reference: bool = True,\n",
    "    zero_reference: bool = True,\n",
    "    flip_def: bool = False,\n",
    "    alpha: float = 1.0,\n",
    ") -> None:\n",
    "\n",
    "    # if team is the index of the df, turn it into a regular column\n",
    "    if \"team\" not in data.columns:\n",
    "        data = data.reset_index(level=0)\n",
    "        data = data.rename(columns={data.columns[0]: \"team\"})\n",
    "\n",
    "    assert all(\n",
    "        col in data.columns for col in [\"team\", x, y]\n",
    "    )  # ensure columns are in df\n",
    "\n",
    "    plt.rcParams[\"figure.figsize\"] = [12, 8]\n",
    "    plt.rcParams[\"figure.autolayout\"] = True\n",
    "    fig, ax = plt.subplots()\n",
    "    # List to hold all text objects for adjustment\n",
    "    texts = []\n",
    "\n",
    "    # Iterate over the DataFrame rows\n",
    "    for _, row in data.iterrows():\n",
    "        # Add the team logo\n",
    "        ab = AnnotationBbox(\n",
    "            get_team_logo(row[\"team\"], size=(30, 30), alpha=alpha),\n",
    "            (row[x], row[y]),\n",
    "            frameon=False,\n",
    "        )\n",
    "        ax.add_artist(ab)\n",
    "\n",
    "        # Add the player name with a slight offset\n",
    "        text = ax.text(\n",
    "            row[x] + 0.01,  # Initial offset for text placement\n",
    "            row[y],\n",
    "            row[\"player\"],\n",
    "            fontsize=12,\n",
    "            ha=\"left\",\n",
    "            va=\"center\",\n",
    "        )\n",
    "\n",
    "        # Append the text object to the list\n",
    "        texts.append(text)\n",
    "\n",
    "    # Adjust text labels to avoid overlap, with parameters to keep them close\n",
    "\n",
    "    # Add padding to the axis limits\n",
    "    padding_percentage = 0.1  # Adjust this value as needed\n",
    "    x_min, x_max = data[x].min(), data[x].max()\n",
    "    y_min, y_max = data[y].min(), data[y].max()\n",
    "\n",
    "    x_padding = (x_max - x_min) * padding_percentage\n",
    "    y_padding = (y_max - y_min) * padding_percentage\n",
    "\n",
    "    plt.xlim(x_min - x_padding, x_max + x_padding)\n",
    "    plt.ylim(y_min - y_padding, y_max + y_padding)\n",
    "    # Set axis limits based on the plot\n",
    "    if flip_def:\n",
    "        # plt.xlim(x_max + x_padding, x_min - x_padding)\n",
    "        # plt.ylim(y_max + y_padding, y_min - y_padding)\n",
    "        plt.gca().invert_yaxis()\n",
    "        plt.gca().invert_xaxis()\n",
    "    # else:\n",
    "    #     plt.xlim(x_min - x_padding, x_max + x_padding)\n",
    "    #     plt.ylim(y_min - y_padding, y_max + y_padding)\n",
    "\n",
    "    # add reference lines for 0's if the min is negative and we show the flag\n",
    "    if zero_reference:\n",
    "        if y_min < 0:\n",
    "            plt.axhline(0, color=\"lightgrey\", linestyle=\"-\", linewidth=0.8)\n",
    "        if x_min < 0:\n",
    "            plt.axvline(0, color=\"lightgrey\", linestyle=\"-\", linewidth=0.8)\n",
    "\n",
    "    # add reference lines for league averages\n",
    "    if mean_reference:\n",
    "        plt.axhline(data[y].mean(), color=\"red\", linestyle=\"--\", linewidth=0.8)\n",
    "        plt.axvline(data[x].mean(), color=\"red\", linestyle=\"--\", linewidth=0.8)\n",
    "\n",
    "    # add a title\n",
    "    if title:\n",
    "        plt.title(title)\n",
    "\n",
    "    # label the axes\n",
    "    plt.xlabel(ax_labels[0] or x)\n",
    "    plt.ylabel(ax_labels[1] or y)\n",
    "    plt.subplots_adjust(left=0.1, right=0.9, top=0.9, bottom=0.1)\n",
    "\n",
    "    # Adjust text labels to avoid overlap, with controlled arrow properties\n",
    "    adjust_text(\n",
    "        texts,\n",
    "        arrowprops=dict(arrowstyle=\"-\", color=\"gray\", lw=0.5, shrinkA=5, shrinkB=5),\n",
    "        only_move={\n",
    "            \"points\": \"y\",\n",
    "            \"texts\": \"xy\",\n",
    "        },  # Limit movement to reduce displacement\n",
    "        force_text=0.1,  # Reduce the force to keep text closer\n",
    "        expand_text=(1.05, 1.2),  # Control expansion, adjust these values as needed\n",
    "        expand_points=(1.05, 1.2),  # Control expansion for points as well\n",
    "        lim=100,  # Limit the number of iterations\n",
    "    )\n",
    "    plt.show()"
   ]
  },
  {
   "cell_type": "code",
   "execution_count": null,
   "metadata": {},
   "outputs": [],
   "source": [
    "plot_team_scatter(yprr_df.iloc[1:40], x=\"yprr\", y=\"fdprr\", alpha=0.8)"
   ]
  },
  {
   "cell_type": "code",
   "execution_count": null,
   "metadata": {},
   "outputs": [],
   "source": [
    "plot_bar(\n",
    "    yprr_df.head(20),\n",
    "    x=\"fdprr\",\n",
    "    y=\"player\",\n",
    "    title=\"2023 First Downs per Route Run\",\n",
    "    ax_labels=(\"First Downs per Route Run\", \"\"),\n",
    "    dark_mode=True,\n",
    ")"
   ]
  },
  {
   "cell_type": "code",
   "execution_count": null,
   "metadata": {},
   "outputs": [],
   "source": [
    "plot_bar(\n",
    "    yprr_df.head(20),\n",
    "    x=\"yprr\",\n",
    "    y=\"player\",\n",
    "    title=\"2023 Yards per Route Run\",\n",
    "    ax_labels=(\"Yards per Route Run\", \"\"),\n",
    "    dark_mode=True,\n",
    ")"
   ]
  },
  {
   "cell_type": "markdown",
   "metadata": {},
   "source": [
    "Future TODOs\n",
    "* explosive play rate\n",
    "* target share"
   ]
  }
 ],
 "metadata": {
  "kernelspec": {
   "display_name": "nfl-betting-2oCf1E4A-py3.11",
   "language": "python",
   "name": "python3"
  },
  "language_info": {
   "codemirror_mode": {
    "name": "ipython",
    "version": 3
   },
   "file_extension": ".py",
   "mimetype": "text/x-python",
   "name": "python",
   "nbconvert_exporter": "python",
   "pygments_lexer": "ipython3",
   "version": "3.11.9"
  }
 },
 "nbformat": 4,
 "nbformat_minor": 2
}
