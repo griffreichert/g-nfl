{
 "cells": [
  {
   "cell_type": "code",
   "execution_count": null,
   "metadata": {},
   "outputs": [],
   "source": [
    "import jupyter_black\n",
    "\n",
    "jupyter_black.load()\n",
    "import pandas as pd\n",
    "import nfl_data_py as nfl\n",
    "from src.visualisation.visualisation import plot_bar\n",
    "from src.visualisation import colors\n",
    "import plotly.express as px\n",
    "\n",
    "pd.set_option(\"display.max_columns\", None)"
   ]
  },
  {
   "cell_type": "code",
   "execution_count": null,
   "metadata": {},
   "outputs": [],
   "source": [
    "pbp: pd.DataFrame = nfl.import_pbp_data([2023])"
   ]
  },
  {
   "cell_type": "code",
   "execution_count": null,
   "metadata": {},
   "outputs": [],
   "source": [
    "# offense_players - list of id's\n",
    "id_df = nfl.import_ids()\n",
    "id_df.sample(4)"
   ]
  },
  {
   "cell_type": "code",
   "execution_count": null,
   "metadata": {},
   "outputs": [],
   "source": [
    "pbp = pbp.query(\"week<=18\").query('play_type==\"pass\" or play_type==\"run\"')"
   ]
  },
  {
   "cell_type": "code",
   "execution_count": null,
   "metadata": {},
   "outputs": [],
   "source": [
    "pbp[\"offense_players_list\"] = pbp[\"offense_players\"].apply(\n",
    "    lambda x: x.split(\";\") if type(x) == str else None\n",
    ")"
   ]
  },
  {
   "cell_type": "code",
   "execution_count": null,
   "metadata": {},
   "outputs": [],
   "source": [
    "pbp[\"offense_players_list\"]"
   ]
  },
  {
   "cell_type": "code",
   "execution_count": null,
   "metadata": {},
   "outputs": [],
   "source": [
    "pbp_player = (\n",
    "    pbp.explode(\"offense_players_list\")\n",
    "    .dropna(subset=[\"offense_players_list\"])\n",
    "    .rename(columns={\"offense_players_list\": \"player_id\"})\n",
    "    # .query('player_id!=\"\"')\n",
    "    .merge(\n",
    "        id_df[[\"gsis_id\", \"position\", \"name\"]],\n",
    "        how=\"left\",\n",
    "        left_on=\"player_id\",\n",
    "        right_on=\"gsis_id\",\n",
    "    )\n",
    "    .drop(columns=[\"gsis_id\"])\n",
    ")"
   ]
  },
  {
   "cell_type": "code",
   "execution_count": null,
   "metadata": {},
   "outputs": [],
   "source": [
    "pbp_player.sample(8)"
   ]
  },
  {
   "cell_type": "code",
   "execution_count": null,
   "metadata": {},
   "outputs": [],
   "source": [
    "pbp_wr = pbp_player.query('position==\"WR\"').copy()\n",
    "pbp_wr[\"own_target\"] = pbp_wr.apply(\n",
    "    lambda row: 1 if row[\"player_id\"] == row[\"receiver_id\"] else 0,\n",
    "    axis=1,\n",
    ")\n",
    "pbp_wr[\"own_rec\"] = pbp_wr.apply(\n",
    "    lambda row: row[\"complete_pass\"] if row[\"player_id\"] == row[\"receiver_id\"] else 0,\n",
    "    axis=1,\n",
    ")\n",
    "pbp_wr[\"own_rec_yds\"] = pbp_wr.apply(\n",
    "    lambda row: row[\"receiving_yards\"] if row[\"player_id\"] == row[\"receiver_id\"] else 0,\n",
    "    axis=1,\n",
    ")"
   ]
  },
  {
   "cell_type": "code",
   "execution_count": null,
   "metadata": {},
   "outputs": [],
   "source": [
    "arsb = pbp_wr.query(\"player_id=='00-0036963'\")"
   ]
  },
  {
   "cell_type": "code",
   "execution_count": null,
   "metadata": {},
   "outputs": [],
   "source": [
    "# 00-0030279 keenan\n",
    "# 00-0036963 arsb"
   ]
  },
  {
   "cell_type": "code",
   "execution_count": null,
   "metadata": {},
   "outputs": [],
   "source": [
    "[c for c in arsb.columns if \"rec\" in c]"
   ]
  },
  {
   "cell_type": "code",
   "execution_count": null,
   "metadata": {},
   "outputs": [],
   "source": [
    "arsb.head()"
   ]
  },
  {
   "cell_type": "code",
   "execution_count": null,
   "metadata": {},
   "outputs": [],
   "source": [
    "yrr_df = (\n",
    "    pbp_wr.groupby([\"player_id\", \"name_y\", \"posteam\"])\n",
    "    .agg(\n",
    "        {\n",
    "            \"play_id\": \"count\",\n",
    "            \"pass_attempt\": \"sum\",\n",
    "            \"own_target\": \"sum\",\n",
    "            \"own_rec\": \"sum\",\n",
    "            \"own_rec_yds\": \"sum\",\n",
    "        }\n",
    "    )\n",
    "    .rename(\n",
    "        columns={\n",
    "            \"play_id\": \"snaps\",\n",
    "            \"pass_attempt\": \"routes\",\n",
    "            \"own_target\": \"tgts\",\n",
    "            \"own_rec\": \"recs\",\n",
    "            \"own_rec_yds\": \"yds\",\n",
    "        }\n",
    "    )\n",
    "    .astype(int)\n",
    ")\n",
    "yrr_df[\"yrr\"] = (yrr_df[\"yds\"] / yrr_df[\"routes\"]).round(3)\n",
    "yrr_df = yrr_df.query(\"routes>50\").sort_values(\"yrr\", ascending=False)\n",
    "yrr_df.head(25)"
   ]
  },
  {
   "cell_type": "code",
   "execution_count": null,
   "metadata": {},
   "outputs": [],
   "source": [
    "yrr_plot = (\n",
    "    yrr_df.reset_index()\n",
    "    .head(20)[[\"name_y\", \"posteam\", \"yrr\"]]\n",
    "    .rename(columns={\"name_y\": \"player\", \"posteam\": \"team\"})\n",
    "    .sort_values(\"yrr\", ascending=True)\n",
    ")\n",
    "yrr_plot"
   ]
  },
  {
   "cell_type": "code",
   "execution_count": null,
   "metadata": {},
   "outputs": [],
   "source": [
    "plot_bar(yrr_plot.head(20), x=\"yrr\", y=\"player\", dark_mode=False)"
   ]
  },
  {
   "cell_type": "code",
   "execution_count": null,
   "metadata": {},
   "outputs": [],
   "source": [
    "fig = px.bar(\n",
    "    yrr_plot,\n",
    "    x=\"yrr\",\n",
    "    y=\"player\",\n",
    "    orientation=\"h\",\n",
    "    color=\"team\",\n",
    "    color_discrete_map=colors.team_unique_colors,\n",
    "    opacity=0.85,\n",
    ")\n",
    "# Iterate through the data and add logos to the chart\n",
    "for index, row in yrr_plot.iterrows():\n",
    "    scale = 1.25\n",
    "    fig.add_layout_image(\n",
    "        dict(\n",
    "            source=f\"https://a.espncdn.com/i/teamlogos/nfl/500/{row['team']}.png\",\n",
    "            x=row[\"yrr\"],  # Adjust the position\n",
    "            y=row[\"player\"],\n",
    "            xref=\"x\",\n",
    "            yref=\"y\",\n",
    "            sizex=scale,  # Adjust the size\n",
    "            sizey=scale,  # Adjust the size\n",
    "            sizing=\"contain\",\n",
    "            opacity=1,\n",
    "            xanchor=\"center\",\n",
    "            yanchor=\"middle\",\n",
    "        )\n",
    "    )\n",
    "fig.update_yaxes(categoryorder=\"total ascending\")\n",
    "MARGIN = 100\n",
    "fig.update_layout(\n",
    "    height=800,\n",
    "    width=700,\n",
    "    template=\"plotly_dark\",\n",
    "    # template=\"plotly_white\",\n",
    "    xaxis_title=f\"Yards per Route Run\",\n",
    "    yaxis_title=\"\",\n",
    "    title=f\"2023 Yards per Route Run\",\n",
    "    title_x=0.5,  # Centers the title horizontally\n",
    "    annotations=[\n",
    "        dict(\n",
    "            text=\"Data: @nflfastR | Chart: @griffreichert\",\n",
    "            x=-0.25,  # centered\n",
    "            y=-0.1,  # position above\n",
    "            xref=\"paper\",\n",
    "            yref=\"paper\",\n",
    "            showarrow=False,\n",
    "            xanchor=\"left\",\n",
    "            yanchor=\"top\",\n",
    "            font=dict(size=12),\n",
    "        )\n",
    "    ],\n",
    "    margin=dict(\n",
    "        t=MARGIN, b=MARGIN, l=MARGIN, r=MARGIN\n",
    "    ),  # Adjust top and bottom margin to make space for the title and the note\n",
    ")\n",
    "fig.update_traces(showlegend=False)\n",
    "# Show the chart\n",
    "fig.show()"
   ]
  },
  {
   "cell_type": "code",
   "execution_count": null,
   "metadata": {},
   "outputs": [],
   "source": []
  }
 ],
 "metadata": {
  "kernelspec": {
   "display_name": "nfl-betting-2oCf1E4A-py3.11",
   "language": "python",
   "name": "python3"
  },
  "language_info": {
   "codemirror_mode": {
    "name": "ipython",
    "version": 3
   },
   "file_extension": ".py",
   "mimetype": "text/x-python",
   "name": "python",
   "nbconvert_exporter": "python",
   "pygments_lexer": "ipython3",
   "version": "3.11.9"
  }
 },
 "nbformat": 4,
 "nbformat_minor": 2
}
