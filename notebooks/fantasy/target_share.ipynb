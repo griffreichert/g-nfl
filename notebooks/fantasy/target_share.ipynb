{
 "cells": [
  {
   "cell_type": "code",
   "execution_count": null,
   "metadata": {},
   "outputs": [],
   "source": [
    "import jupyter_black\n",
    "\n",
    "jupyter_black.load()\n",
    "import pandas as pd\n",
    "import matplotlib.pyplot as plt\n",
    "import nfl_data_py as nfl\n",
    "from src.visualisation.visualisation import plot_bar, plot_scatter\n",
    "from src.utils.methods import flatten_grouped_cols\n",
    "from src.visualisation.colors import team_unique_colors, team_unique_alt_colors\n",
    "from src.utils.logos import get_team_logo\n",
    "from matplotlib.offsetbox import AnnotationBbox\n",
    "import matplotlib.ticker as mtick\n",
    "import matplotlib.image as mpimg\n",
    "\n",
    "pd.set_option(\"display.max_columns\", None)"
   ]
  },
  {
   "cell_type": "markdown",
   "metadata": {},
   "source": [
    "## Load Data"
   ]
  },
  {
   "cell_type": "code",
   "execution_count": null,
   "metadata": {},
   "outputs": [],
   "source": [
    "pbp: pd.DataFrame = nfl.import_pbp_data([2023])"
   ]
  },
  {
   "cell_type": "code",
   "execution_count": null,
   "metadata": {},
   "outputs": [],
   "source": [
    "# offense_players - list of id's\n",
    "id_df = nfl.import_ids()\n",
    "id_df.sample(4)"
   ]
  },
  {
   "cell_type": "code",
   "execution_count": null,
   "metadata": {},
   "outputs": [],
   "source": [
    "wp_alpha = 0.05\n",
    "pbp_pass = (\n",
    "    pbp.query(\"week<=18\")\n",
    "    .query('play_type==\"pass\"')\n",
    "    .query(f\"wp >= {wp_alpha} and def_wp >={wp_alpha}\")\n",
    ")"
   ]
  },
  {
   "cell_type": "markdown",
   "metadata": {},
   "source": [
    "# Target Shares"
   ]
  },
  {
   "cell_type": "code",
   "execution_count": null,
   "metadata": {},
   "outputs": [],
   "source": [
    "[col for col in pbp_pass.columns if \"yard\" in col]"
   ]
  },
  {
   "cell_type": "code",
   "execution_count": null,
   "metadata": {},
   "outputs": [],
   "source": [
    "target_df = (\n",
    "    pbp_pass.groupby([\"receiver_player_id\", \"receiver_player_name\", \"posteam\"])\n",
    "    .agg(\n",
    "        {\n",
    "            \"play_id\": \"count\",\n",
    "            \"complete_pass\": \"sum\",\n",
    "            \"air_yards\": \"sum\",\n",
    "            \"receiving_yards\": \"sum\",\n",
    "        }\n",
    "    )\n",
    "    .astype(int)\n",
    "    .reset_index()\n",
    "    .rename(\n",
    "        columns={\n",
    "            \"play_id\": \"targets\",\n",
    "            \"posteam\": \"team\",\n",
    "            \"complete_pass\": \"receptions\",\n",
    "            \"receiver_player_name\": \"player\",\n",
    "            \"receiver_player_id\": \"player_id\",\n",
    "        }\n",
    "    )\n",
    "    .merge(\n",
    "        id_df.dropna(subset=[\"gsis_id\"])[[\"gsis_id\", \"position\"]],\n",
    "        how=\"left\",\n",
    "        left_on=\"player_id\",\n",
    "        right_on=\"gsis_id\",\n",
    "    )\n",
    "    .drop(columns=[\"gsis_id\"])\n",
    "    .query(\"targets>=10\")\n",
    "    .sort_values(\"receptions\", ascending=False)\n",
    ")\n",
    "target_df[\"team_targets\"] = target_df.groupby(\"team\")[\"targets\"].transform(\"sum\")\n",
    "target_df[\"target_share\"] = target_df[\"targets\"] / target_df[\"team_targets\"]\n",
    "# Sort by team, then by target_share (descending), and then by receiving_yards (descending) to break any ties\n",
    "target_df = target_df.sort_values(\n",
    "    by=[\"team\", \"target_share\", \"receiving_yards\"], ascending=[True, False, False]\n",
    ")\n",
    "\n",
    "# Rank each player within their team\n",
    "target_df[\"target_share_rank\"] = target_df.groupby(\"team\").cumcount() + 1\n",
    "\n",
    "target_df = target_df.sort_values(\"target_share\", ascending=False)\n",
    "target_df.head(24)"
   ]
  },
  {
   "cell_type": "code",
   "execution_count": null,
   "metadata": {},
   "outputs": [],
   "source": [
    "target_df.query(\"target_share_rank<=3 and position!='WR'\")"
   ]
  },
  {
   "cell_type": "code",
   "execution_count": null,
   "metadata": {},
   "outputs": [],
   "source": [
    "target_df.query(\"position=='RB'\").head(12)"
   ]
  },
  {
   "cell_type": "code",
   "execution_count": null,
   "metadata": {},
   "outputs": [],
   "source": [
    "target_df.query(\"target_share_rank<=3\").sample(8)"
   ]
  },
  {
   "cell_type": "markdown",
   "metadata": {},
   "source": [
    "# Plot Target Share"
   ]
  },
  {
   "cell_type": "code",
   "execution_count": null,
   "metadata": {},
   "outputs": [],
   "source": [
    "# Prepare data for plotting\n",
    "# target_df = target_df.query(\"target_share_rank<=3\")\n",
    "teams = target_df[\"team\"].unique().tolist()\n",
    "bars_data = {}\n",
    "\n",
    "for team in teams:\n",
    "    team_data = target_df[\n",
    "        (target_df[\"team\"] == team) & (target_df[\"target_share_rank\"] <= 3)\n",
    "    ]\n",
    "    bars_data[team] = team_data[[\"player\", \"position\", \"target_share\"]].values\n",
    "plt.style.use(\"default\")\n",
    "# Plotting\n",
    "fig, ax = plt.subplots(figsize=(14, 12))\n",
    "\n",
    "# Calculate total widths for sorting\n",
    "team_total_widths = {}\n",
    "\n",
    "for team, team_data in bars_data.items():\n",
    "    cumulative_width = sum(team_data[:, 2])  # Sum of target_share for the top 3\n",
    "    team_total_widths[team] = cumulative_width\n",
    "\n",
    "# Sort teams by the total target share of the top 3 players\n",
    "sorted_teams = sorted(teams, key=team_total_widths.get)  # type: ignore\n",
    "\n",
    "for idx, team in enumerate(sorted_teams):\n",
    "    cumulative_width = 0\n",
    "    for player, position, target_share in bars_data[team]:\n",
    "        # Draw the bar with a border (edgecolor) and the main fill color\n",
    "        ax.barh(\n",
    "            idx,\n",
    "            target_share,\n",
    "            left=cumulative_width,\n",
    "            color=(team_unique_colors[team]),\n",
    "            edgecolor=(team_unique_alt_colors[team]),\n",
    "            linewidth=1.5,\n",
    "            height=0.85,  # space between bars\n",
    "        )\n",
    "        # Add text\n",
    "        ax.text(\n",
    "            cumulative_width + target_share / 2,\n",
    "            idx,\n",
    "            f\"{player} ({target_share*100:.1f}%)\",\n",
    "            va=\"center\",\n",
    "            ha=\"center\",\n",
    "            color=team_unique_alt_colors[team],\n",
    "            fontsize=8,\n",
    "            fontweight=\"heavy\",  # Use \"bold\" or any other weight like \"medium\", \"heavy\"\n",
    "        )\n",
    "        cumulative_width += target_share\n",
    "    team_total_widths[team] = cumulative_width\n",
    "    # Add the team logo to the right of the bars\n",
    "    ab = AnnotationBbox(\n",
    "        get_team_logo(team, alpha=0.9, size=(25, 25)),\n",
    "        (cumulative_width + 0.02, idx),  # Adjust the positioning as needed\n",
    "        frameon=False,\n",
    "    )\n",
    "    ax.add_artist(ab)\n",
    "\n",
    "# Customizing the plot\n",
    "ax.set_yticks([])\n",
    "ax.set_yticklabels([])  # Remove y-axis labels\n",
    "\n",
    "# Format x-axis as percentages\n",
    "ax.xaxis.set_major_formatter(mtick.PercentFormatter(1.0))\n",
    "\n",
    "# Add a note in the bottom right corner\n",
    "fig.text(\n",
    "    0.88,\n",
    "    0.06,  # X and Y position in figure coordinates\n",
    "    \"Data: @nflfastR | Chart: @griffreichert\",  # Text to display\n",
    "    ha=\"right\",  # Horizontal alignment\n",
    "    va=\"top\",  # Vertical alignment\n",
    "    fontsize=8,  # Font size\n",
    "    color=\"black\",  # Text color\n",
    "    # fontstyle=\"italic\",  # Font style\n",
    ")\n",
    "ax.set_xlabel(\"Target Share (%)\")\n",
    "ax.set_title(\"Combined target share of the top three players on each team - 2023\")\n",
    "ax.set_ylim(-0.75, len(sorted_teams) - 0.25)\n",
    "plt.show()"
   ]
  },
  {
   "cell_type": "code",
   "execution_count": null,
   "metadata": {},
   "outputs": [],
   "source": []
  },
  {
   "cell_type": "code",
   "execution_count": null,
   "metadata": {},
   "outputs": [],
   "source": [
    "plot_bar(\n",
    "    target_df.head(20),\n",
    "    x=\"target_share\",\n",
    "    y=\"player\",\n",
    "    citation=False,\n",
    "    title=\"Target Share 2023\",\n",
    ")"
   ]
  },
  {
   "cell_type": "code",
   "execution_count": null,
   "metadata": {},
   "outputs": [],
   "source": []
  }
 ],
 "metadata": {
  "kernelspec": {
   "display_name": "nfl-betting-2oCf1E4A-py3.11",
   "language": "python",
   "name": "python3"
  },
  "language_info": {
   "codemirror_mode": {
    "name": "ipython",
    "version": 3
   },
   "file_extension": ".py",
   "mimetype": "text/x-python",
   "name": "python",
   "nbconvert_exporter": "python",
   "pygments_lexer": "ipython3",
   "version": "3.11.9"
  }
 },
 "nbformat": 4,
 "nbformat_minor": 2
}
