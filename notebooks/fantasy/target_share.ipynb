{
 "cells": [
  {
   "cell_type": "code",
   "execution_count": null,
   "metadata": {},
   "outputs": [],
   "source": [
    "import jupyter_black\n",
    "\n",
    "jupyter_black.load()\n",
    "import pandas as pd\n",
    "import nfl_data_py as nfl\n",
    "from src.visualisation.visualisation import plot_bar, plot_scatter\n",
    "from src.utils.methods import flatten_grouped_cols\n",
    "\n",
    "pd.set_option(\"display.max_columns\", None)"
   ]
  },
  {
   "cell_type": "markdown",
   "metadata": {},
   "source": [
    "## Load Data"
   ]
  },
  {
   "cell_type": "code",
   "execution_count": null,
   "metadata": {},
   "outputs": [],
   "source": [
    "pbp: pd.DataFrame = nfl.import_pbp_data([2023])"
   ]
  },
  {
   "cell_type": "code",
   "execution_count": null,
   "metadata": {},
   "outputs": [],
   "source": [
    "# offense_players - list of id's\n",
    "id_df = nfl.import_ids()\n",
    "id_df.sample(4)"
   ]
  },
  {
   "cell_type": "code",
   "execution_count": null,
   "metadata": {},
   "outputs": [],
   "source": [
    "wp_alpha = 0.05\n",
    "pbp_pass = (\n",
    "    pbp.query(\"week<=18\")\n",
    "    .query('play_type==\"pass\"')\n",
    "    .query(f\"wp >= {wp_alpha} and def_wp >={wp_alpha}\")\n",
    ")"
   ]
  },
  {
   "cell_type": "markdown",
   "metadata": {},
   "source": [
    "# Target Shares"
   ]
  },
  {
   "cell_type": "code",
   "execution_count": null,
   "metadata": {},
   "outputs": [],
   "source": [
    "[col for col in pbp_pass.columns if \"yard\" in col]"
   ]
  },
  {
   "cell_type": "code",
   "execution_count": null,
   "metadata": {},
   "outputs": [],
   "source": [
    "target_df = (\n",
    "    pbp_pass.groupby([\"receiver_player_id\", \"receiver_player_name\", \"posteam\"])\n",
    "    .agg(\n",
    "        {\n",
    "            \"play_id\": \"count\",\n",
    "            \"complete_pass\": \"sum\",\n",
    "            \"air_yards\": \"sum\",\n",
    "            \"receiving_yards\": \"sum\",\n",
    "        }\n",
    "    )\n",
    "    .astype(int)\n",
    "    .reset_index()\n",
    "    .rename(\n",
    "        columns={\n",
    "            \"play_id\": \"targets\",\n",
    "            \"posteam\": \"team\",\n",
    "            \"complete_pass\": \"receptions\",\n",
    "            \"receiver_player_name\": \"player\",\n",
    "            \"receiver_player_id\": \"player_id\",\n",
    "        }\n",
    "    )\n",
    "    .query(\"targets>=25\")\n",
    "    .sort_values(\"receptions\", ascending=False)\n",
    ")\n",
    "target_df[\"team_targets\"] = target_df.groupby(\"team\")[\"targets\"].transform(\"sum\")\n",
    "target_df[\"target_share\"] = target_df[\"targets\"] / target_df[\"team_targets\"]\n",
    "target_df = target_df.sort_values(\"target_share\", ascending=False)\n",
    "target_df.head(20)"
   ]
  },
  {
   "cell_type": "code",
   "execution_count": null,
   "metadata": {},
   "outputs": [],
   "source": [
    "plot_bar(\n",
    "    target_df.head(20),\n",
    "    x=\"target_share\",\n",
    "    y=\"player\",\n",
    "    citation=False,\n",
    "    title=\"Target Share 2023\",\n",
    ")"
   ]
  },
  {
   "cell_type": "code",
   "execution_count": null,
   "metadata": {},
   "outputs": [],
   "source": []
  }
 ],
 "metadata": {
  "kernelspec": {
   "display_name": "nfl-betting-2oCf1E4A-py3.11",
   "language": "python",
   "name": "python3"
  },
  "language_info": {
   "codemirror_mode": {
    "name": "ipython",
    "version": 3
   },
   "file_extension": ".py",
   "mimetype": "text/x-python",
   "name": "python",
   "nbconvert_exporter": "python",
   "pygments_lexer": "ipython3",
   "version": "3.11.9"
  }
 },
 "nbformat": 4,
 "nbformat_minor": 2
}
