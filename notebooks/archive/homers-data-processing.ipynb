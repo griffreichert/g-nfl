{
 "cells": [
  {
   "cell_type": "code",
   "execution_count": null,
   "metadata": {},
   "outputs": [],
   "source": [
    "import sys\n",
    "import os\n",
    "# Navigate up one level to the parent directory and append it to sys.path\n",
    "sys.path.append(os.path.abspath(os.path.join(os.getcwd(), os.pardir)))\n",
    "import nfl_data_py as nfl\n",
    "import pandas as pd\n",
    "from src import utils\n",
    "from src import homers"
   ]
  },
  {
   "cell_type": "markdown",
   "metadata": {},
   "source": [
    "# Add Latest Week"
   ]
  },
  {
   "cell_type": "code",
   "execution_count": null,
   "metadata": {},
   "outputs": [],
   "source": [
    "SEASON, WEEK = 2023, 8"
   ]
  },
  {
   "cell_type": "code",
   "execution_count": null,
   "metadata": {},
   "outputs": [],
   "source": [
    "new_week_raw = pd.read_clipboard()\n",
    "print(new_week_raw.shape)\n",
    "new_week_raw.head()"
   ]
  },
  {
   "cell_type": "code",
   "execution_count": null,
   "metadata": {},
   "outputs": [],
   "source": [
    "new_week_processed = homers.process_picks(new_week_raw, WEEK, SEASON)\n",
    "print(new_week_processed.shape)\n",
    "new_week_processed.head()"
   ]
  },
  {
   "cell_type": "code",
   "execution_count": null,
   "metadata": {},
   "outputs": [],
   "source": [
    "pick_df = pd.read_pickle(homers.PROCESSED_FILE_PATH)\n",
    "pick_df.shape"
   ]
  },
  {
   "cell_type": "code",
   "execution_count": null,
   "metadata": {},
   "outputs": [],
   "source": [
    "pick_df = pd.concat([pick_df, new_week_processed], ignore_index=True).drop_duplicates()\n",
    "pick_df.shape"
   ]
  },
  {
   "cell_type": "code",
   "execution_count": null,
   "metadata": {},
   "outputs": [],
   "source": [
    "pick_df.to_pickle(homers.PROCESSED_FILE_PATH)"
   ]
  },
  {
   "cell_type": "markdown",
   "metadata": {},
   "source": [
    "# Add 2023 Data"
   ]
  },
  {
   "cell_type": "code",
   "execution_count": null,
   "metadata": {},
   "outputs": [],
   "source": [
    "season = 2023\n",
    "max_week = 4\n",
    "nfl_df = nfl.import_schedules([season])[['game_id', 'season', 'week', 'away_team', 'home_team', 'away_score', 'home_score', 'result', 'spread_line']] \n",
    "\n",
    "\n",
    "weekly_picks = [processed]\n",
    "\n",
    "for week in range(2, max_week + 1):\n",
    "    df = pd.read_excel(f'{HOMERS_PATH}/homers-{season}.xlsx', sheet_name=f'Wk {week}')\n",
    "    # df = df.dropna(axis=1, how='all')\n",
    "    df = utils.clean_df_columns(df)\n",
    "    df = df.rename(columns={'team': 'final', 'pick': 'pick_type'})\n",
    "    assert all(col in ['pick_type', 'final', 'ben', 'chuck', 'griffin', 'harry', 'hunter'] for col in df.columns), print(df.columns)\n",
    "    assert len(df) == 9\n",
    "    df['pick_type'] = df.pick_type.map({i: 'reg' for i in range(1, 6)}).fillna(df['pick_type']).apply(str.lower)\n",
    "    df['pick_type'] = df.pick_type.apply(lambda x: 'reg' if x not in ['bb', 'reg', 'sd', 'ud', 'mnf'] else x)\n",
    "    # melt picks into a long table format\n",
    "    transformed = pd.melt(df, id_vars=['pick_type'], var_name='picker', value_name='pick').dropna()\n",
    "    transformed['season'] = season\n",
    "    transformed['week'] = week\n",
    "    transformed['pick'] = transformed['pick'].apply(str.upper).apply(str.strip).apply(lambda x: x.split('/')[0] if '/' in x else x)\n",
    "    transformed = transformed[transformed['pick'] != '']\n",
    "    # Map bad team names\n",
    "    transformed['pick'] = transformed['pick'].apply(utils.standardize_teams)\n",
    "\n",
    "    # turn pick types into one hot cols to make lookup faster\n",
    "    transformed['spread_pick'] = transformed['pick_type'].map({'ud': False, 'sd': False}).fillna(True)\n",
    "    transformed['best_bet'] = transformed['pick_type'] == 'bb'\n",
    "    transformed['underdog_pick'] = transformed['pick_type'] == 'ud'\n",
    "    transformed['survivor_pick'] = transformed['pick_type'] == 'sd'\n",
    "    transformed['mnf_pick'] = transformed['pick_type'] == 'mnf'\n",
    "    transformed = transformed.drop(columns='pick_type')\n",
    "\n",
    "    # join home and away picks\n",
    "    joined_away = pd.merge(\n",
    "        transformed, \n",
    "        nfl_df,\n",
    "        left_on=['season', 'week', 'pick'],\n",
    "        right_on=['season', 'week', 'away_team']\n",
    "    )\n",
    "    joined_home = pd.merge(\n",
    "        transformed, \n",
    "        nfl_df,\n",
    "        left_on=['season', 'week', 'pick'],\n",
    "        right_on=['season', 'week', 'home_team']\n",
    "    )\n",
    "\n",
    "\n",
    "    week_final_picks = pd.concat([joined_home, joined_away], ignore_index=True)\n",
    "    week_final_picks['away_pick'] = week_final_picks['pick'] == week_final_picks['away_team']\n",
    "    week_final_picks['away_cover'] = week_final_picks.apply(utils.cover_result, axis=1)\n",
    "    week_final_picks['home_cover'] = 1 - week_final_picks['away_cover']\n",
    "    week_final_picks['pick_result'] = week_final_picks.apply(utils.pick_result, axis=1)\n",
    "\n",
    "    # add to list of picks\n",
    "    weekly_picks.append(week_final_picks)\n",
    "    print(f'{season} week {week}')\n",
    "    del df\n",
    "\n",
    "processed = pd.concat(weekly_picks, ignore_index=True)"
   ]
  },
  {
   "cell_type": "code",
   "execution_count": null,
   "metadata": {},
   "outputs": [],
   "source": [
    "processed"
   ]
  },
  {
   "cell_type": "code",
   "execution_count": null,
   "metadata": {},
   "outputs": [],
   "source": [
    "processed.to_pickle(f'{HOMERS_PATH}/homers-processed.pkl')"
   ]
  },
  {
   "cell_type": "markdown",
   "metadata": {},
   "source": [
    "# Process Raw Picks"
   ]
  },
  {
   "cell_type": "code",
   "execution_count": null,
   "metadata": {},
   "outputs": [],
   "source": [
    "seasons = [2021, 2022]\n",
    "\n",
    "nfl_df = nfl.import_schedules(seasons)[['game_id', 'season', 'week', 'away_team', 'home_team', 'away_score', 'home_score', 'result', 'spread_line']] \n",
    "print('imported seasons')\n",
    "\n",
    "season_picks = []\n",
    "\n",
    "for season in seasons:\n",
    "    weekly_picks = []\n",
    "\n",
    "    for week in range(1, 19):\n",
    "        df = pd.read_excel(f'{HOMERS_PATH}/homers-{season}.xlsx', sheet_name=f'Wk {week}', usecols=range(14), header=1)\n",
    "        df = df.drop(df.index[9:])\n",
    "        df = df.dropna(axis=1, how='all')\n",
    "        if 'Notes' in df.columns:\n",
    "            df = df.drop(columns=['Notes'])\n",
    "        df = df.drop(columns=[col for col in df.columns if 'Unnamed' in col])\n",
    "        df = utils.clean_df_columns(df)\n",
    "        df = df.rename(columns={'team': 'final', 'picks': 'pick_type'})\n",
    "        assert all(col in ['pick_type', 'final', 'ben', 'chuck', 'griffin', 'harry', 'hunter'] for col in df.columns)\n",
    "        assert len(df) == 9\n",
    "        df['pick_type'] = df.pick_type.map({i: 'reg' for i in range(1, 6)}).fillna(df['pick_type']).apply(str.lower)\n",
    "        df['pick_type'] = df.pick_type.map({'underdog': 'ud', 'survivor': 'sd'}).fillna(df['pick_type'])\n",
    "        df['pick_type'] = df.pick_type.apply(lambda x: 'reg' if x not in ['bb', 'reg', 'sd', 'ud', 'mnf'] else x)\n",
    "        # melt picks into a long table format\n",
    "        transformed = pd.melt(df, id_vars=['pick_type'], var_name='picker', value_name='pick').dropna()\n",
    "        transformed['season'] = season\n",
    "        transformed['week'] = week\n",
    "        transformed['pick'] = transformed['pick'].apply(str.upper).apply(str.strip).apply(lambda x: x.split('/')[0] if '/' in x else x)\n",
    "        transformed = transformed[transformed['pick'] != '']\n",
    "        # Map bad team names\n",
    "        transformed['pick'] = transformed['pick'].apply(utils.standardize_teams)\n",
    "\n",
    "        # turn pick types into one hot cols to make lookup faster\n",
    "        transformed['spread_pick'] = transformed['pick_type'].map({'ud': False, 'sd': False}).fillna(True)\n",
    "        transformed['best_bet'] = transformed['pick_type'] == 'bb'\n",
    "        transformed['underdog_pick'] = transformed['pick_type'] == 'ud'\n",
    "        transformed['survivor_pick'] = transformed['pick_type'] == 'sd'\n",
    "        transformed['mnf_pick'] = transformed['pick_type'] == 'mnf'\n",
    "        transformed = transformed.drop(columns='pick_type')\n",
    "\n",
    "        # join home and away picks\n",
    "        joined_away = pd.merge(\n",
    "            transformed, \n",
    "            nfl_df,\n",
    "            left_on=['season', 'week', 'pick'],\n",
    "            right_on=['season', 'week', 'away_team']\n",
    "        )\n",
    "        joined_home = pd.merge(\n",
    "            transformed, \n",
    "            nfl_df,\n",
    "            left_on=['season', 'week', 'pick'],\n",
    "            right_on=['season', 'week', 'home_team']\n",
    "        )\n",
    "\n",
    "\n",
    "        week_final_picks = pd.concat([joined_home, joined_away], ignore_index=True)\n",
    "        week_final_picks['away_pick'] = week_final_picks['pick'] == week_final_picks['away_team']\n",
    "        week_final_picks['away_cover'] = week_final_picks.apply(utils.cover_result, axis=1)\n",
    "        week_final_picks['home_cover'] = 1 - week_final_picks['away_cover']\n",
    "        week_final_picks['pick_result'] = week_final_picks.apply(utils.pick_result, axis=1)\n",
    "\n",
    "        # add to list of picks\n",
    "        weekly_picks.append(week_final_picks)\n",
    "        print(f'{season} week {week}')\n",
    "\n",
    "    season_picks.append(pd.concat(weekly_picks, ignore_index=True))\n",
    "\n",
    "df = pd.concat(season_picks, ignore_index=True)"
   ]
  },
  {
   "cell_type": "code",
   "execution_count": null,
   "metadata": {},
   "outputs": [],
   "source": [
    "df.head()"
   ]
  },
  {
   "cell_type": "code",
   "execution_count": null,
   "metadata": {},
   "outputs": [],
   "source": [
    "df.to_pickle(f'{HOMERS_PATH}/homers-processed.pkl')"
   ]
  }
 ],
 "metadata": {
  "kernelspec": {
   "display_name": "nfl",
   "language": "python",
   "name": "python3"
  },
  "language_info": {
   "codemirror_mode": {
    "name": "ipython",
    "version": 3
   },
   "file_extension": ".py",
   "mimetype": "text/x-python",
   "name": "python",
   "nbconvert_exporter": "python",
   "pygments_lexer": "ipython3",
   "version": "3.10.12"
  }
 },
 "nbformat": 4,
 "nbformat_minor": 2
}
