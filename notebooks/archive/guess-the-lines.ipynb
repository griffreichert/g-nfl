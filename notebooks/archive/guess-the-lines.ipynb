{
 "cells": [
  {
   "cell_type": "code",
   "execution_count": null,
   "metadata": {},
   "outputs": [],
   "source": [
    "import sys\n",
    "import os# Navigate up one level to the parent directory and append it to sys.path\n",
    "import importlib\n",
    "import requests\n",
    "\n",
    "sys.path.append(os.path.abspath(os.path.join(os.getcwd(), os.pardir)))\n",
    "import nfl_data_py as nfl\n",
    "import pandas as pd\n",
    "from src import utils\n",
    "from src import homers\n",
    "import plotly.express as px\n",
    "from src.config import LOGO_PATH,  BETTING_PATH\n",
    "\n",
    "POWER_RATING_PATH = BETTING_PATH / 'power-ratings.pkl'"
   ]
  },
  {
   "cell_type": "code",
   "execution_count": null,
   "metadata": {},
   "outputs": [],
   "source": [
    "SEASON, WEEK = 2023, 11\n",
    "HFA = 1.5\n",
    "AVG_POINTS = 21.5"
   ]
  },
  {
   "cell_type": "code",
   "execution_count": null,
   "metadata": {},
   "outputs": [],
   "source": [
    "def read_power(season, week):\n",
    "    power_df = pd.read_clipboard()\n",
    "    assert len(power_df) == 32\n",
    "    power_df['season']=season\n",
    "    power_df['week']=week\n",
    "    power_df['power_id'] = power_df.apply(lambda row: f'{row.season}_{row.week}_{row.team}', axis=1)\n",
    "    power_df = power_df.set_index('power_id').sort_values(by=['ovr', 'off'], ascending=False)\n",
    "    return power_df"
   ]
  },
  {
   "cell_type": "code",
   "execution_count": null,
   "metadata": {},
   "outputs": [],
   "source": [
    "current_week = read_power(SEASON, WEEK)\n",
    "pwr = pd.read_pickle(POWER_RATING_PATH)\n",
    "pwr = pd.concat([pwr, current_week])\n",
    "pwr.to_pickle(POWER_RATING_PATH)"
   ]
  },
  {
   "cell_type": "code",
   "execution_count": null,
   "metadata": {},
   "outputs": [],
   "source": [
    "sched = nfl.import_schedules([SEASON])"
   ]
  },
  {
   "cell_type": "code",
   "execution_count": null,
   "metadata": {},
   "outputs": [],
   "source": [
    "sched = sched[sched['week']==WEEK][['game_id', 'away_team', 'home_team']].copy().set_index('game_id')\n",
    "sched.head()"
   ]
  },
  {
   "cell_type": "code",
   "execution_count": null,
   "metadata": {},
   "outputs": [],
   "source": [
    "predict_home_score = lambda row: AVG_POINTS + row.home_off - row.away_def + HFA / 2\n",
    "predict_away_score = lambda row: AVG_POINTS + row.away_off - row.home_def - HFA / 2"
   ]
  },
  {
   "cell_type": "code",
   "execution_count": null,
   "metadata": {},
   "outputs": [],
   "source": []
  },
  {
   "cell_type": "markdown",
   "metadata": {},
   "source": [
    "# Evaluate Movement between Weeks"
   ]
  },
  {
   "cell_type": "code",
   "execution_count": null,
   "metadata": {},
   "outputs": [],
   "source": [
    "\n",
    "previous_power = pd.read_clipboard()\n",
    "previous_power"
   ]
  },
  {
   "cell_type": "code",
   "execution_count": null,
   "metadata": {},
   "outputs": [],
   "source": [
    "movement = pd.merge(power_df, previous_power, on='team', suffixes=('_cur', '_prev'))\n",
    "for col in ['ovr', 'off', 'def']:\n",
    "    movement[f'{col}_dif'] = movement[f'{col}_cur'] - movement[f'{col}_prev']\n",
    "movement"
   ]
  },
  {
   "cell_type": "code",
   "execution_count": null,
   "metadata": {},
   "outputs": [],
   "source": [
    "# utils.download_team_pngs()"
   ]
  },
  {
   "cell_type": "code",
   "execution_count": null,
   "metadata": {},
   "outputs": [],
   "source": [
    "col = 'ovr_cur'\n",
    "\n",
    "# Create the bar chart\n",
    "fig = px.bar(movement, x=col, y='team', orientation='h', color='team', color_discrete_map=utils.team_unique_colors)\n",
    "fig.update_yaxes(categoryorder='total ascending')\n",
    "fig.update_layout(\n",
    "    height=1000,\n",
    "    width=800,\n",
    "    xaxis_title=f'Generic Points Favored',\n",
    "    yaxis_title='Teams',\n",
    "    title=f'Week {WEEK} Power Ratings',\n",
    ")\n",
    "fig.update_traces(showlegend=False)\n",
    "\n",
    "# Iterate through the data and add logos to the chart\n",
    "for index, row in movement.iterrows():\n",
    "    team = row['team']\n",
    "    scale = 1.25\n",
    "    fig.add_layout_image(\n",
    "        dict(source=f'https://a.espncdn.com/i/teamlogos/nfl/500/{team}.png',\n",
    "            x=row[col],  # Adjust the position\n",
    "            y=team,\n",
    "            xref=\"x\",\n",
    "            yref=\"y\",\n",
    "            sizex=scale,  # Adjust the size\n",
    "            sizey=scale,  # Adjust the size\n",
    "            sizing=\"contain\",\n",
    "            opacity=1,\n",
    "            xanchor=\"center\",\n",
    "            yanchor=\"middle\",        \n",
    "        )\n",
    "    )\n",
    "\n",
    "# Show the chart\n",
    "fig.show()"
   ]
  },
  {
   "cell_type": "code",
   "execution_count": null,
   "metadata": {},
   "outputs": [],
   "source": [
    "col = 'ovr_dif'\n",
    "\n",
    "# Create the bar chart\n",
    "fig = px.bar(movement, x=col, y='team', orientation='h', color='team', color_discrete_map=utils.team_unique_colors)\n",
    "fig.update_yaxes(categoryorder='total ascending')\n",
    "fig.update_layout(\n",
    "    height=1000,\n",
    "    width=800,\n",
    "    xaxis_title=f'Generic Points Favored',\n",
    "    yaxis_title='Teams',\n",
    "    title=f'Week {WEEK} Power Ratings',\n",
    ")\n",
    "fig.update_traces(showlegend=False)\n",
    "\n",
    "# Iterate through the data and add logos to the chart\n",
    "for index, row in movement.iterrows():\n",
    "    team = row['team']\n",
    "    scale = 1.25\n",
    "    fig.add_layout_image(\n",
    "        dict(source=f'https://a.espncdn.com/i/teamlogos/nfl/500/{team}.png',\n",
    "            x=row[col],  # Adjust the position\n",
    "            y=team,\n",
    "            xref=\"x\",\n",
    "            yref=\"y\",\n",
    "            sizex=scale,  # Adjust the size\n",
    "            sizey=scale,  # Adjust the size\n",
    "            sizing=\"contain\",\n",
    "            opacity=1,\n",
    "            xanchor=\"center\",\n",
    "            yanchor=\"middle\",        \n",
    "        )\n",
    "    )\n",
    "\n",
    "# Show the chart\n",
    "fig.show()"
   ]
  },
  {
   "cell_type": "code",
   "execution_count": null,
   "metadata": {},
   "outputs": [],
   "source": [
    "\n",
    "\n",
    "fig = px.scatter(power_df, x='off', y='def', opacity=0, color='team', color_discrete_map=utils.team_unique_colors)\n",
    "fig.update_layout(\n",
    "    height=600,\n",
    "    width=1000,\n",
    "\n",
    "    xaxis_title=f'Generic Points Favored',\n",
    "    yaxis_title='Teams',\n",
    "    title=f'Week {WEEK} Power Ratings',\n",
    ")\n",
    "fig.update_traces(showlegend=False)\n",
    "# Iterate through the data and add logos to the chart\n",
    "for index, row in power_df.iterrows():\n",
    "    team = row['team']\n",
    "    scale = 0.9\n",
    "    fig.add_layout_image(\n",
    "        dict(source=f'https://a.espncdn.com/i/teamlogos/nfl/500/{team}.png',\n",
    "            x=row['off'],  # Adjust the position\n",
    "            y=row['def'],\n",
    "            xref=\"x\",\n",
    "            yref=\"y\",\n",
    "            sizex=scale,  # Adjust the size\n",
    "            sizey=scale,  # Adjust the size\n",
    "            sizing=\"contain\",\n",
    "            opacity=1,\n",
    "            xanchor=\"center\",\n",
    "            yanchor=\"middle\",        \n",
    "        )\n",
    "    )\n",
    "\n",
    "fig.show()"
   ]
  },
  {
   "cell_type": "code",
   "execution_count": null,
   "metadata": {},
   "outputs": [],
   "source": []
  }
 ],
 "metadata": {
  "kernelspec": {
   "display_name": "nfl",
   "language": "python",
   "name": "python3"
  },
  "language_info": {
   "codemirror_mode": {
    "name": "ipython",
    "version": 3
   },
   "file_extension": ".py",
   "mimetype": "text/x-python",
   "name": "python",
   "nbconvert_exporter": "python",
   "pygments_lexer": "ipython3",
   "version": "3.10.12"
  }
 },
 "nbformat": 4,
 "nbformat_minor": 2
}
