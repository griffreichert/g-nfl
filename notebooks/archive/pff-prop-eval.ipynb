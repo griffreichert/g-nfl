{
 "cells": [
  {
   "cell_type": "code",
   "execution_count": null,
   "metadata": {},
   "outputs": [],
   "source": [
    "import sys\n",
    "import os\n",
    "# Navigate up one level to the parent directory and append it to sys.path\n",
    "sys.path.append(os.path.abspath(os.path.join(os.getcwd(), os.pardir)))\n",
    "import nfl_data_py as nfl\n",
    "import pandas as pd\n",
    "from src import utils\n",
    "from src.config import DATA_PATH, PFF_PROP_PATH\n",
    "\n",
    "\n",
    "pd.set_option('display.max_columns', None)  # Display all columns"
   ]
  },
  {
   "cell_type": "code",
   "execution_count": null,
   "metadata": {},
   "outputs": [],
   "source": [
    "import importlib\n",
    "\n",
    "importlib.reload(utils)"
   ]
  },
  {
   "cell_type": "code",
   "execution_count": null,
   "metadata": {},
   "outputs": [],
   "source": [
    "year = 2023\n",
    "week = 3"
   ]
  },
  {
   "cell_type": "code",
   "execution_count": null,
   "metadata": {},
   "outputs": [],
   "source": [
    "# Read in PFF Prop Data\n",
    "pff_df = pd.read_csv(PFF_PROP_PATH /f'nfl-best-bets-2023-week-{week}.csv')\n",
    "pff_df.shape"
   ]
  },
  {
   "cell_type": "code",
   "execution_count": null,
   "metadata": {},
   "outputs": [],
   "source": [
    "pff_df.head()"
   ]
  },
  {
   "cell_type": "code",
   "execution_count": null,
   "metadata": {},
   "outputs": [],
   "source": [
    "edges = []\n",
    "overs = []\n",
    "implied = []\n",
    "\n",
    "for row in pff_df.itertuples():\n",
    "    side = 'One' if row.sideOneValue > row.sideTwoValue else 'Two'\n",
    "\n",
    "    # Use getattr to access column values dynamically\n",
    "    side_value = getattr(row, f'side{side}Value')\n",
    "    side_type = getattr(row, f'side{side}Type')\n",
    "    side_odds = getattr(row, f'side{side}Odds')\n",
    "\n",
    "    edges.append(side_value)\n",
    "    overs.append(True if side_type == 'over' else False)\n",
    "    implied.append(utils.implied_probability(side_odds))\n",
    "\n",
    "pff_df['pff_edge'] = edges\n",
    "pff_df['over_bet'] = overs\n",
    "pff_df['implied_prob'] = implied"
   ]
  },
  {
   "cell_type": "code",
   "execution_count": null,
   "metadata": {},
   "outputs": [],
   "source": [
    "pff_df.head()"
   ]
  },
  {
   "cell_type": "code",
   "execution_count": null,
   "metadata": {},
   "outputs": [],
   "source": [
    "pff_df = pff_df[['propType', 'player', 'position', 'team', 'opponent', 'line', 'pff_edge', 'over_bet', 'implied_prob']]"
   ]
  },
  {
   "cell_type": "code",
   "execution_count": null,
   "metadata": {},
   "outputs": [],
   "source": [
    "for team_col in ['team', 'opponent']:\n",
    "    pff_df[team_col] = pff_df[team_col].apply(utils.standardize_teams)\n",
    "\n",
    "pff_df['week'] = week\n",
    "pff_df['player'] = pff_df['player'].str.replace(r'\\s+', '', regex=True)\n"
   ]
  },
  {
   "cell_type": "code",
   "execution_count": null,
   "metadata": {},
   "outputs": [],
   "source": [
    "pff_df = pff_df[~pff_df['propType'].str.contains('game')]\n",
    "pff_df.shape"
   ]
  },
  {
   "cell_type": "code",
   "execution_count": null,
   "metadata": {},
   "outputs": [],
   "source": [
    "weekly_df = nfl.import_weekly_data([year])"
   ]
  },
  {
   "cell_type": "code",
   "execution_count": null,
   "metadata": {},
   "outputs": [],
   "source": [
    "weekly_df.head()"
   ]
  },
  {
   "cell_type": "code",
   "execution_count": null,
   "metadata": {},
   "outputs": [],
   "source": [
    "weekly_df.columns"
   ]
  },
  {
   "cell_type": "code",
   "execution_count": null,
   "metadata": {},
   "outputs": [],
   "source": [
    "weekly_df = weekly_df[weekly_df['week'] == week]\n",
    "weekly_df = weekly_df[[\n",
    "    'player_name',\n",
    "    'position',\n",
    "    'position_group', \n",
    "    'recent_team',\n",
    "    'opponent_team', \n",
    "    'completions', \n",
    "    'attempts',\n",
    "    'passing_yards', \n",
    "    'passing_tds', \n",
    "    'interceptions',\n",
    "    'carries',\n",
    "    'rushing_yards',\n",
    "    'receptions', \n",
    "    'targets', \n",
    "    'receiving_yards',\n",
    "    'target_share',\n",
    "]]\n",
    "weekly_df.head()"
   ]
  },
  {
   "cell_type": "code",
   "execution_count": null,
   "metadata": {},
   "outputs": [],
   "source": [
    "df = pd.merge(pff_df, weekly_df, how='left', left_on=['player', 'position', 'team'], right_on=['player_name', 'position', 'recent_team'])"
   ]
  },
  {
   "cell_type": "code",
   "execution_count": null,
   "metadata": {},
   "outputs": [],
   "source": [
    "df.shape"
   ]
  },
  {
   "cell_type": "code",
   "execution_count": null,
   "metadata": {},
   "outputs": [],
   "source": [
    "df['rush_recv_yd'] = df['rushing_yards'] + df['receiving_yards']"
   ]
  },
  {
   "cell_type": "code",
   "execution_count": null,
   "metadata": {},
   "outputs": [],
   "source": [
    "df.sort_values('pff_edge').head()"
   ]
  },
  {
   "cell_type": "code",
   "execution_count": null,
   "metadata": {},
   "outputs": [],
   "source": [
    "# remap columns to prop categories\n",
    "df = df.rename(columns={\n",
    "    'attempts': 'pass_att',\n",
    "    'completions': 'pass_comp',\n",
    "    'passing_yards': 'pass_yd',\n",
    "    'passing_tds': 'pass_td',\n",
    "    'interceptions': 'pass_int',\n",
    "    'receptions': 'recv_rec',\n",
    "    'receiving_yards': 'recv_yd',\n",
    "    'carries': 'rush_att',\n",
    "    'rushing_yards': 'rush_yd',\n",
    "})"
   ]
  },
  {
   "cell_type": "code",
   "execution_count": null,
   "metadata": {},
   "outputs": [],
   "source": [
    "df.head()"
   ]
  },
  {
   "cell_type": "code",
   "execution_count": null,
   "metadata": {},
   "outputs": [],
   "source": [
    "winners = []\n",
    "\n",
    "for row in df.itertuples():\n",
    "    res = False\n",
    "    if getattr(row, 'over_bet'):\n",
    "        res = getattr(row, getattr(row, 'propType')) > getattr(row, 'line')\n",
    "    else:\n",
    "        res = getattr(row, getattr(row, 'propType')) < getattr(row, 'line')\n",
    "    winners.append(res)\n",
    "\n",
    "df['win'] = winners"
   ]
  },
  {
   "cell_type": "code",
   "execution_count": null,
   "metadata": {},
   "outputs": [],
   "source": [
    "df.head()"
   ]
  },
  {
   "cell_type": "code",
   "execution_count": null,
   "metadata": {},
   "outputs": [],
   "source": [
    "df.win.mean()"
   ]
  },
  {
   "cell_type": "code",
   "execution_count": null,
   "metadata": {},
   "outputs": [],
   "source": [
    "df[df['pff_edge'] > 0.02].win.mean()"
   ]
  },
  {
   "cell_type": "code",
   "execution_count": null,
   "metadata": {},
   "outputs": [],
   "source": [
    "df['decimal_odds'] = df.implied_prob.apply(utils.decimal_odds)\n",
    "df['profit'] = df['win'] * df['decimal_odds']"
   ]
  },
  {
   "cell_type": "code",
   "execution_count": null,
   "metadata": {},
   "outputs": [],
   "source": [
    "df[df['pff_edge'] > 0.05].profit.mean()"
   ]
  },
  {
   "cell_type": "code",
   "execution_count": null,
   "metadata": {},
   "outputs": [],
   "source": [
    "df[df['pff_edge'] > 0.20].profit.mean()"
   ]
  },
  {
   "cell_type": "code",
   "execution_count": null,
   "metadata": {},
   "outputs": [],
   "source": [
    "df.head(25)"
   ]
  },
  {
   "cell_type": "code",
   "execution_count": null,
   "metadata": {},
   "outputs": [],
   "source": []
  }
 ],
 "metadata": {
  "kernelspec": {
   "display_name": "nfl",
   "language": "python",
   "name": "python3"
  },
  "language_info": {
   "codemirror_mode": {
    "name": "ipython",
    "version": 3
   },
   "file_extension": ".py",
   "mimetype": "text/x-python",
   "name": "python",
   "nbconvert_exporter": "python",
   "pygments_lexer": "ipython3",
   "version": "3.10.12"
  }
 },
 "nbformat": 4,
 "nbformat_minor": 2
}
