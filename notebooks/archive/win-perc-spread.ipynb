{
 "cells": [
  {
   "cell_type": "code",
   "execution_count": null,
   "metadata": {},
   "outputs": [],
   "source": [
    "import pandas as pd\n",
    "import numpy as np\n",
    "import jupyter_black\n",
    "import matplotlib.pyplot as plt\n",
    "import nfl_data_py as nfl\n",
    "from typing import Literal, Tuple\n",
    "\n",
    "from sklearn.preprocessing import PolynomialFeatures\n",
    "from sklearn.linear_model import LinearRegression\n",
    "from scipy.stats import norm\n",
    "\n",
    "jupyter_black.load()\n",
    "pd.set_option(\"display.max_columns\", None)"
   ]
  },
  {
   "cell_type": "code",
   "execution_count": null,
   "metadata": {},
   "outputs": [],
   "source": [
    "# pbp = nfl.import_pbp_data(range(2018, 2024))\n",
    "pbp: pd.DataFrame = nfl.import_pbp_data(range(2019, 2024))"
   ]
  },
  {
   "cell_type": "code",
   "execution_count": null,
   "metadata": {},
   "outputs": [],
   "source": [
    "wp_df = (\n",
    "    pbp.query('desc==\"GAME\"')[\n",
    "        [\"game_id\", \"spread_line\", \"vegas_home_wp\"]\n",
    "        # + [c for c in pbp.columns if \"wp\" in c]\n",
    "    ]\n",
    "    .copy()\n",
    "    .sort_values(\"vegas_home_wp\")\n",
    ")\n",
    "\n",
    "wp_df"
   ]
  },
  {
   "cell_type": "code",
   "execution_count": null,
   "metadata": {},
   "outputs": [],
   "source": [
    "X = wp_df[[\"vegas_home_wp\"]].to_numpy()\n",
    "y = wp_df[\"spread_line\"].to_numpy()\n",
    "\n",
    "# Transform features to include polynomial terms\n",
    "poly = PolynomialFeatures(degree=3)  # You can experiment with the degree\n",
    "X_poly = poly.fit_transform(X)\n",
    "\n",
    "# Fit the model\n",
    "model = LinearRegression()\n",
    "model.fit(X_poly, y)\n",
    "\n",
    "ROUND = 3\n",
    "\n",
    "\n",
    "# To predict\n",
    "def predict_spread_reg(percentile):\n",
    "    return round(model.predict(poly.transform([[percentile]]))[0], ROUND)\n",
    "\n",
    "\n",
    "def predict_spread_norm(percentile, stdev=11.5):\n",
    "    return round(float(norm.ppf(percentile)) * stdev, ROUND)"
   ]
  },
  {
   "cell_type": "code",
   "execution_count": null,
   "metadata": {},
   "outputs": [],
   "source": [
    "# Plot the actual data points\n",
    "ax = wp_df.plot(\n",
    "    x=\"vegas_home_wp\",\n",
    "    y=\"spread_line\",\n",
    "    kind=\"scatter\",\n",
    "    color=\"steelblue\",\n",
    "    title=\"Spread Line vs. Vegas Home WP\",\n",
    ")\n",
    "\n",
    "# Generate a range of percentiles\n",
    "percentiles = np.linspace(min(wp_df[\"vegas_home_wp\"]), max(wp_df[\"vegas_home_wp\"]), 100)\n",
    "\n",
    "# Predict using both models\n",
    "reg_predictions = [predict_spread_reg(p) for p in percentiles]\n",
    "norm_predictions = [predict_spread_norm(p, stdev=11.5) for p in percentiles]\n",
    "\n",
    "# Plot the polynomial regression line on the same axes\n",
    "# ax.plot(percentiles, reg_predictions, color=\"red\", label=\"Polynomial Regression\")\n",
    "\n",
    "# Plot the normal distribution prediction line on the same axes\n",
    "ax.plot(percentiles, norm_predictions, color=\"green\", label=\"Normal Distribution\")\n",
    "\n",
    "# Add labels and legend\n",
    "ax.set_xlabel(\"Vegas Home WP\")\n",
    "ax.set_ylabel(\"Spread Line\")\n",
    "# ax.legend()\n",
    "\n",
    "# Show the plot\n",
    "plt.show()"
   ]
  },
  {
   "cell_type": "code",
   "execution_count": null,
   "metadata": {},
   "outputs": [],
   "source": []
  }
 ],
 "metadata": {
  "kernelspec": {
   "display_name": "nfl-betting-2oCf1E4A-py3.11",
   "language": "python",
   "name": "python3"
  },
  "language_info": {
   "codemirror_mode": {
    "name": "ipython",
    "version": 3
   },
   "file_extension": ".py",
   "mimetype": "text/x-python",
   "name": "python",
   "nbconvert_exporter": "python",
   "pygments_lexer": "ipython3",
   "version": "3.11.9"
  }
 },
 "nbformat": 4,
 "nbformat_minor": 2
}
