{
 "cells": [
  {
   "cell_type": "code",
   "execution_count": 1,
   "metadata": {},
   "outputs": [],
   "source": [
    "import sys\n",
    "import os# Navigate up one level to the parent directory and append it to sys.path\n",
    "import importlib\n",
    "import requests\n",
    "\n",
    "sys.path.append(os.path.abspath(os.path.join(os.getcwd(), os.pardir)))\n",
    "import nfl_data_py as nfl\n",
    "import pandas as pd\n",
    "from src import utils\n",
    "from src import homers\n",
    "import plotly.express as px\n",
    "from src.config import LOGO_PATH,  BETTING_PATH\n",
    "\n",
    "POWER_RATING_PATH = BETTING_PATH / 'power-ratings.pkl'"
   ]
  },
  {
   "cell_type": "code",
   "execution_count": 19,
   "metadata": {},
   "outputs": [],
   "source": [
    "SEASON, WEEK = 2023, 11\n",
    "HFA = 1.5\n",
    "AVG_POINTS = 21.5"
   ]
  },
  {
   "cell_type": "code",
   "execution_count": 24,
   "metadata": {},
   "outputs": [],
   "source": [
    "def read_power(season, week):\n",
    "    power_df = pd.read_clipboard()\n",
    "    assert len(power_df) == 32\n",
    "    power_df['season']=season\n",
    "    power_df['week']=week\n",
    "    power_df['power_id'] = power_df.apply(lambda row: f'{row.season}_{row.week}_{row.team}', axis=1)\n",
    "    power_df = power_df.set_index('power_id').sort_values(by=['ovr', 'off'], ascending=False)\n",
    "    return power_df"
   ]
  },
  {
   "cell_type": "code",
   "execution_count": 30,
   "metadata": {},
   "outputs": [],
   "source": [
    "current_week = read_power(SEASON, WEEK)\n",
    "pwr = pd.read_pickle(POWER_RATING_PATH)\n",
    "pwr = pd.concat([pwr, current_week])\n",
    "pwr.to_pickle(POWER_RATING_PATH)"
   ]
  },
  {
   "cell_type": "code",
   "execution_count": 31,
   "metadata": {},
   "outputs": [],
   "source": [
    "sched = nfl.import_schedules([SEASON])"
   ]
  },
  {
   "cell_type": "code",
   "execution_count": 32,
   "metadata": {},
   "outputs": [
    {
     "data": {
      "text/html": [
       "<div>\n",
       "<style scoped>\n",
       "    .dataframe tbody tr th:only-of-type {\n",
       "        vertical-align: middle;\n",
       "    }\n",
       "\n",
       "    .dataframe tbody tr th {\n",
       "        vertical-align: top;\n",
       "    }\n",
       "\n",
       "    .dataframe thead th {\n",
       "        text-align: right;\n",
       "    }\n",
       "</style>\n",
       "<table border=\"1\" class=\"dataframe\">\n",
       "  <thead>\n",
       "    <tr style=\"text-align: right;\">\n",
       "      <th></th>\n",
       "      <th>away_team</th>\n",
       "      <th>home_team</th>\n",
       "    </tr>\n",
       "    <tr>\n",
       "      <th>game_id</th>\n",
       "      <th></th>\n",
       "      <th></th>\n",
       "    </tr>\n",
       "  </thead>\n",
       "  <tbody>\n",
       "    <tr>\n",
       "      <th>2023_11_CIN_BAL</th>\n",
       "      <td>CIN</td>\n",
       "      <td>BAL</td>\n",
       "    </tr>\n",
       "    <tr>\n",
       "      <th>2023_11_DAL_CAR</th>\n",
       "      <td>DAL</td>\n",
       "      <td>CAR</td>\n",
       "    </tr>\n",
       "    <tr>\n",
       "      <th>2023_11_PIT_CLE</th>\n",
       "      <td>PIT</td>\n",
       "      <td>CLE</td>\n",
       "    </tr>\n",
       "    <tr>\n",
       "      <th>2023_11_CHI_DET</th>\n",
       "      <td>CHI</td>\n",
       "      <td>DET</td>\n",
       "    </tr>\n",
       "    <tr>\n",
       "      <th>2023_11_LAC_GB</th>\n",
       "      <td>LAC</td>\n",
       "      <td>GB</td>\n",
       "    </tr>\n",
       "  </tbody>\n",
       "</table>\n",
       "</div>"
      ],
      "text/plain": [
       "                away_team home_team\n",
       "game_id                            \n",
       "2023_11_CIN_BAL       CIN       BAL\n",
       "2023_11_DAL_CAR       DAL       CAR\n",
       "2023_11_PIT_CLE       PIT       CLE\n",
       "2023_11_CHI_DET       CHI       DET\n",
       "2023_11_LAC_GB        LAC        GB"
      ]
     },
     "execution_count": 32,
     "metadata": {},
     "output_type": "execute_result"
    }
   ],
   "source": [
    "sched = sched[sched['week']==WEEK][['game_id', 'away_team', 'home_team']].copy().set_index('game_id')\n",
    "sched.head()"
   ]
  },
  {
   "cell_type": "code",
   "execution_count": 33,
   "metadata": {},
   "outputs": [],
   "source": [
    "predict_home_score = lambda row: AVG_POINTS + row.home_off - row.away_def + HFA / 2\n",
    "predict_away_score = lambda row: AVG_POINTS + row.away_off - row.home_def - HFA / 2"
   ]
  },
  {
   "cell_type": "code",
   "execution_count": 36,
   "metadata": {},
   "outputs": [
    {
     "data": {
      "text/html": [
       "<div>\n",
       "<style scoped>\n",
       "    .dataframe tbody tr th:only-of-type {\n",
       "        vertical-align: middle;\n",
       "    }\n",
       "\n",
       "    .dataframe tbody tr th {\n",
       "        vertical-align: top;\n",
       "    }\n",
       "\n",
       "    .dataframe thead th {\n",
       "        text-align: right;\n",
       "    }\n",
       "</style>\n",
       "<table border=\"1\" class=\"dataframe\">\n",
       "  <thead>\n",
       "    <tr style=\"text-align: right;\">\n",
       "      <th></th>\n",
       "      <th>away_team</th>\n",
       "      <th>home_team</th>\n",
       "      <th>spread</th>\n",
       "      <th>total</th>\n",
       "      <th>hfa</th>\n",
       "      <th>pred_away_score</th>\n",
       "      <th>pred_home_score</th>\n",
       "      <th>away_ovr</th>\n",
       "      <th>home_ovr</th>\n",
       "    </tr>\n",
       "    <tr>\n",
       "      <th>game_id</th>\n",
       "      <th></th>\n",
       "      <th></th>\n",
       "      <th></th>\n",
       "      <th></th>\n",
       "      <th></th>\n",
       "      <th></th>\n",
       "      <th></th>\n",
       "      <th></th>\n",
       "      <th></th>\n",
       "    </tr>\n",
       "  </thead>\n",
       "  <tbody>\n",
       "    <tr>\n",
       "      <th>2023_11_CIN_BAL</th>\n",
       "      <td>CIN</td>\n",
       "      <td>BAL</td>\n",
       "      <td>2.1</td>\n",
       "      <td>45.0</td>\n",
       "      <td>1.5</td>\n",
       "      <td>21.45</td>\n",
       "      <td>23.55</td>\n",
       "      <td>5.4</td>\n",
       "      <td>6.0</td>\n",
       "    </tr>\n",
       "    <tr>\n",
       "      <th>2023_11_DAL_CAR</th>\n",
       "      <td>DAL</td>\n",
       "      <td>CAR</td>\n",
       "      <td>-9.6</td>\n",
       "      <td>42.3</td>\n",
       "      <td>1.5</td>\n",
       "      <td>25.95</td>\n",
       "      <td>16.35</td>\n",
       "      <td>5.0</td>\n",
       "      <td>-6.1</td>\n",
       "    </tr>\n",
       "    <tr>\n",
       "      <th>2023_11_PIT_CLE</th>\n",
       "      <td>PIT</td>\n",
       "      <td>CLE</td>\n",
       "      <td>5.2</td>\n",
       "      <td>35.3</td>\n",
       "      <td>1.5</td>\n",
       "      <td>15.05</td>\n",
       "      <td>20.25</td>\n",
       "      <td>-1.4</td>\n",
       "      <td>2.3</td>\n",
       "    </tr>\n",
       "    <tr>\n",
       "      <th>2023_11_CHI_DET</th>\n",
       "      <td>CHI</td>\n",
       "      <td>DET</td>\n",
       "      <td>9.2</td>\n",
       "      <td>45.1</td>\n",
       "      <td>1.5</td>\n",
       "      <td>17.95</td>\n",
       "      <td>27.15</td>\n",
       "      <td>-4.6</td>\n",
       "      <td>3.1</td>\n",
       "    </tr>\n",
       "    <tr>\n",
       "      <th>2023_11_LAC_GB</th>\n",
       "      <td>LAC</td>\n",
       "      <td>GB</td>\n",
       "      <td>-3.8</td>\n",
       "      <td>46.1</td>\n",
       "      <td>1.5</td>\n",
       "      <td>24.95</td>\n",
       "      <td>21.15</td>\n",
       "      <td>1.6</td>\n",
       "      <td>-3.7</td>\n",
       "    </tr>\n",
       "    <tr>\n",
       "      <th>2023_11_ARI_HOU</th>\n",
       "      <td>ARI</td>\n",
       "      <td>HOU</td>\n",
       "      <td>5.4</td>\n",
       "      <td>48.1</td>\n",
       "      <td>1.5</td>\n",
       "      <td>21.35</td>\n",
       "      <td>26.75</td>\n",
       "      <td>-3.8</td>\n",
       "      <td>0.1</td>\n",
       "    </tr>\n",
       "    <tr>\n",
       "      <th>2023_11_TEN_JAX</th>\n",
       "      <td>TEN</td>\n",
       "      <td>JAX</td>\n",
       "      <td>6.3</td>\n",
       "      <td>42.4</td>\n",
       "      <td>1.5</td>\n",
       "      <td>18.05</td>\n",
       "      <td>24.35</td>\n",
       "      <td>-2.7</td>\n",
       "      <td>2.1</td>\n",
       "    </tr>\n",
       "    <tr>\n",
       "      <th>2023_11_LV_MIA</th>\n",
       "      <td>LV</td>\n",
       "      <td>MIA</td>\n",
       "      <td>10.7</td>\n",
       "      <td>47.8</td>\n",
       "      <td>1.5</td>\n",
       "      <td>18.55</td>\n",
       "      <td>29.25</td>\n",
       "      <td>-3.8</td>\n",
       "      <td>5.4</td>\n",
       "    </tr>\n",
       "    <tr>\n",
       "      <th>2023_11_NYG_WAS</th>\n",
       "      <td>NYG</td>\n",
       "      <td>WAS</td>\n",
       "      <td>7.0</td>\n",
       "      <td>36.3</td>\n",
       "      <td>1.5</td>\n",
       "      <td>14.65</td>\n",
       "      <td>21.65</td>\n",
       "      <td>-7.8</td>\n",
       "      <td>-2.3</td>\n",
       "    </tr>\n",
       "    <tr>\n",
       "      <th>2023_11_TB_SF</th>\n",
       "      <td>TB</td>\n",
       "      <td>SF</td>\n",
       "      <td>10.0</td>\n",
       "      <td>41.7</td>\n",
       "      <td>1.5</td>\n",
       "      <td>15.85</td>\n",
       "      <td>25.85</td>\n",
       "      <td>-2.1</td>\n",
       "      <td>6.4</td>\n",
       "    </tr>\n",
       "    <tr>\n",
       "      <th>2023_11_NYJ_BUF</th>\n",
       "      <td>NYJ</td>\n",
       "      <td>BUF</td>\n",
       "      <td>6.7</td>\n",
       "      <td>37.6</td>\n",
       "      <td>1.5</td>\n",
       "      <td>15.45</td>\n",
       "      <td>22.15</td>\n",
       "      <td>-1.5</td>\n",
       "      <td>3.7</td>\n",
       "    </tr>\n",
       "    <tr>\n",
       "      <th>2023_11_SEA_LA</th>\n",
       "      <td>SEA</td>\n",
       "      <td>LA</td>\n",
       "      <td>-2.8</td>\n",
       "      <td>43.1</td>\n",
       "      <td>1.5</td>\n",
       "      <td>22.95</td>\n",
       "      <td>20.15</td>\n",
       "      <td>0.9</td>\n",
       "      <td>-3.4</td>\n",
       "    </tr>\n",
       "    <tr>\n",
       "      <th>2023_11_MIN_DEN</th>\n",
       "      <td>MIN</td>\n",
       "      <td>DEN</td>\n",
       "      <td>1.0</td>\n",
       "      <td>43.9</td>\n",
       "      <td>1.5</td>\n",
       "      <td>21.45</td>\n",
       "      <td>22.45</td>\n",
       "      <td>-2.0</td>\n",
       "      <td>-2.5</td>\n",
       "    </tr>\n",
       "    <tr>\n",
       "      <th>2023_11_PHI_KC</th>\n",
       "      <td>PHI</td>\n",
       "      <td>KC</td>\n",
       "      <td>1.7</td>\n",
       "      <td>47.2</td>\n",
       "      <td>1.5</td>\n",
       "      <td>22.75</td>\n",
       "      <td>24.45</td>\n",
       "      <td>6.4</td>\n",
       "      <td>6.6</td>\n",
       "    </tr>\n",
       "  </tbody>\n",
       "</table>\n",
       "</div>"
      ],
      "text/plain": [
       "                away_team home_team  spread  total  hfa  pred_away_score  \\\n",
       "game_id                                                                    \n",
       "2023_11_CIN_BAL       CIN       BAL     2.1   45.0  1.5            21.45   \n",
       "2023_11_DAL_CAR       DAL       CAR    -9.6   42.3  1.5            25.95   \n",
       "2023_11_PIT_CLE       PIT       CLE     5.2   35.3  1.5            15.05   \n",
       "2023_11_CHI_DET       CHI       DET     9.2   45.1  1.5            17.95   \n",
       "2023_11_LAC_GB        LAC        GB    -3.8   46.1  1.5            24.95   \n",
       "2023_11_ARI_HOU       ARI       HOU     5.4   48.1  1.5            21.35   \n",
       "2023_11_TEN_JAX       TEN       JAX     6.3   42.4  1.5            18.05   \n",
       "2023_11_LV_MIA         LV       MIA    10.7   47.8  1.5            18.55   \n",
       "2023_11_NYG_WAS       NYG       WAS     7.0   36.3  1.5            14.65   \n",
       "2023_11_TB_SF          TB        SF    10.0   41.7  1.5            15.85   \n",
       "2023_11_NYJ_BUF       NYJ       BUF     6.7   37.6  1.5            15.45   \n",
       "2023_11_SEA_LA        SEA        LA    -2.8   43.1  1.5            22.95   \n",
       "2023_11_MIN_DEN       MIN       DEN     1.0   43.9  1.5            21.45   \n",
       "2023_11_PHI_KC        PHI        KC     1.7   47.2  1.5            22.75   \n",
       "\n",
       "                 pred_home_score  away_ovr  home_ovr  \n",
       "game_id                                               \n",
       "2023_11_CIN_BAL            23.55       5.4       6.0  \n",
       "2023_11_DAL_CAR            16.35       5.0      -6.1  \n",
       "2023_11_PIT_CLE            20.25      -1.4       2.3  \n",
       "2023_11_CHI_DET            27.15      -4.6       3.1  \n",
       "2023_11_LAC_GB             21.15       1.6      -3.7  \n",
       "2023_11_ARI_HOU            26.75      -3.8       0.1  \n",
       "2023_11_TEN_JAX            24.35      -2.7       2.1  \n",
       "2023_11_LV_MIA             29.25      -3.8       5.4  \n",
       "2023_11_NYG_WAS            21.65      -7.8      -2.3  \n",
       "2023_11_TB_SF              25.85      -2.1       6.4  \n",
       "2023_11_NYJ_BUF            22.15      -1.5       3.7  \n",
       "2023_11_SEA_LA             20.15       0.9      -3.4  \n",
       "2023_11_MIN_DEN            22.45      -2.0      -2.5  \n",
       "2023_11_PHI_KC             24.45       6.4       6.6  "
      ]
     },
     "execution_count": 36,
     "metadata": {},
     "output_type": "execute_result"
    }
   ],
   "source": [
    "# guess the lines\n",
    "gtl = pd.merge(sched, pwr[(pwr['week'] == WEEK) & (pwr['season']==SEASON)][['team', 'ovr', 'off', 'def']], left_on='away_team', right_on='team').drop(columns=['team']).rename(columns={'ovr': 'away_ovr', 'off': 'away_off', 'def': 'away_def'})\n",
    "gtl = pd.merge(gtl, pwr[(pwr['week'] == WEEK) & (pwr['season']==SEASON)][['team', 'ovr', 'off', 'def']], left_on='home_team', right_on='team').drop(columns=['team']).rename(columns={'ovr': 'home_ovr', 'off': 'home_off', 'def': 'home_def'})\n",
    "gtl['hfa'] = HFA\n",
    "gtl['pred_away_score'] = gtl.apply(predict_away_score, axis=1)\n",
    "gtl['pred_home_score'] = gtl.apply(predict_home_score, axis=1)\n",
    "gtl['spread'] = gtl['pred_home_score'] - gtl['pred_away_score']\n",
    "gtl['total'] = gtl['pred_home_score'] + gtl['pred_away_score']\n",
    "gtl = gtl[['away_team', 'home_team', 'spread', 'total', 'hfa', 'pred_away_score', 'pred_home_score', 'away_ovr', 'home_ovr']].copy()\n",
    "gtl['game_id'] = gtl.apply(lambda row: f'{SEASON}_{WEEK}_{row.away_team}_{row.home_team}', axis=1)\n",
    "gtl = gtl.set_index('game_id')\n",
    "gtl"
   ]
  },
  {
   "cell_type": "markdown",
   "metadata": {},
   "source": [
    "# Evaluate Movement between Weeks"
   ]
  },
  {
   "cell_type": "code",
   "execution_count": 11,
   "metadata": {},
   "outputs": [
    {
     "data": {
      "text/html": [
       "<div>\n",
       "<style scoped>\n",
       "    .dataframe tbody tr th:only-of-type {\n",
       "        vertical-align: middle;\n",
       "    }\n",
       "\n",
       "    .dataframe tbody tr th {\n",
       "        vertical-align: top;\n",
       "    }\n",
       "\n",
       "    .dataframe thead th {\n",
       "        text-align: right;\n",
       "    }\n",
       "</style>\n",
       "<table border=\"1\" class=\"dataframe\">\n",
       "  <thead>\n",
       "    <tr style=\"text-align: right;\">\n",
       "      <th></th>\n",
       "      <th>team</th>\n",
       "      <th>ovr</th>\n",
       "      <th>off</th>\n",
       "      <th>def</th>\n",
       "    </tr>\n",
       "  </thead>\n",
       "  <tbody>\n",
       "    <tr>\n",
       "      <th>0</th>\n",
       "      <td>KC</td>\n",
       "      <td>6.5</td>\n",
       "      <td>4.1</td>\n",
       "      <td>2.4</td>\n",
       "    </tr>\n",
       "    <tr>\n",
       "      <th>1</th>\n",
       "      <td>PHI</td>\n",
       "      <td>6.2</td>\n",
       "      <td>4.4</td>\n",
       "      <td>1.8</td>\n",
       "    </tr>\n",
       "    <tr>\n",
       "      <th>2</th>\n",
       "      <td>SF</td>\n",
       "      <td>5.9</td>\n",
       "      <td>3.1</td>\n",
       "      <td>2.8</td>\n",
       "    </tr>\n",
       "    <tr>\n",
       "      <th>3</th>\n",
       "      <td>BAL</td>\n",
       "      <td>5.1</td>\n",
       "      <td>2.5</td>\n",
       "      <td>2.6</td>\n",
       "    </tr>\n",
       "    <tr>\n",
       "      <th>4</th>\n",
       "      <td>MIA</td>\n",
       "      <td>4.9</td>\n",
       "      <td>5.6</td>\n",
       "      <td>-0.7</td>\n",
       "    </tr>\n",
       "    <tr>\n",
       "      <th>5</th>\n",
       "      <td>DAL</td>\n",
       "      <td>4.8</td>\n",
       "      <td>2.5</td>\n",
       "      <td>2.3</td>\n",
       "    </tr>\n",
       "    <tr>\n",
       "      <th>6</th>\n",
       "      <td>CIN</td>\n",
       "      <td>4.7</td>\n",
       "      <td>3.2</td>\n",
       "      <td>1.5</td>\n",
       "    </tr>\n",
       "    <tr>\n",
       "      <th>7</th>\n",
       "      <td>BUF</td>\n",
       "      <td>4.1</td>\n",
       "      <td>3.6</td>\n",
       "      <td>0.5</td>\n",
       "    </tr>\n",
       "    <tr>\n",
       "      <th>8</th>\n",
       "      <td>JAX</td>\n",
       "      <td>2.7</td>\n",
       "      <td>1.8</td>\n",
       "      <td>0.9</td>\n",
       "    </tr>\n",
       "    <tr>\n",
       "      <th>9</th>\n",
       "      <td>DET</td>\n",
       "      <td>2.5</td>\n",
       "      <td>2.6</td>\n",
       "      <td>-0.1</td>\n",
       "    </tr>\n",
       "    <tr>\n",
       "      <th>10</th>\n",
       "      <td>LAC</td>\n",
       "      <td>1.5</td>\n",
       "      <td>2.7</td>\n",
       "      <td>-1.2</td>\n",
       "    </tr>\n",
       "    <tr>\n",
       "      <th>11</th>\n",
       "      <td>SEA</td>\n",
       "      <td>1.4</td>\n",
       "      <td>0.9</td>\n",
       "      <td>0.5</td>\n",
       "    </tr>\n",
       "    <tr>\n",
       "      <th>12</th>\n",
       "      <td>NO</td>\n",
       "      <td>0.8</td>\n",
       "      <td>0.4</td>\n",
       "      <td>0.4</td>\n",
       "    </tr>\n",
       "    <tr>\n",
       "      <th>13</th>\n",
       "      <td>CLE</td>\n",
       "      <td>0.0</td>\n",
       "      <td>-3.3</td>\n",
       "      <td>3.3</td>\n",
       "    </tr>\n",
       "    <tr>\n",
       "      <th>14</th>\n",
       "      <td>IND</td>\n",
       "      <td>-0.5</td>\n",
       "      <td>0.6</td>\n",
       "      <td>-1.1</td>\n",
       "    </tr>\n",
       "    <tr>\n",
       "      <th>15</th>\n",
       "      <td>ATL</td>\n",
       "      <td>-0.9</td>\n",
       "      <td>-1.5</td>\n",
       "      <td>0.6</td>\n",
       "    </tr>\n",
       "    <tr>\n",
       "      <th>16</th>\n",
       "      <td>NYJ</td>\n",
       "      <td>-1.3</td>\n",
       "      <td>-4.7</td>\n",
       "      <td>3.4</td>\n",
       "    </tr>\n",
       "    <tr>\n",
       "      <th>17</th>\n",
       "      <td>PIT</td>\n",
       "      <td>-1.5</td>\n",
       "      <td>-2.4</td>\n",
       "      <td>0.9</td>\n",
       "    </tr>\n",
       "    <tr>\n",
       "      <th>18</th>\n",
       "      <td>HOU</td>\n",
       "      <td>-1.6</td>\n",
       "      <td>0.0</td>\n",
       "      <td>-1.6</td>\n",
       "    </tr>\n",
       "    <tr>\n",
       "      <th>19</th>\n",
       "      <td>LA</td>\n",
       "      <td>-2.3</td>\n",
       "      <td>-0.8</td>\n",
       "      <td>-1.5</td>\n",
       "    </tr>\n",
       "    <tr>\n",
       "      <th>20</th>\n",
       "      <td>TEN</td>\n",
       "      <td>-2.3</td>\n",
       "      <td>-2.1</td>\n",
       "      <td>-0.2</td>\n",
       "    </tr>\n",
       "    <tr>\n",
       "      <th>21</th>\n",
       "      <td>DEN</td>\n",
       "      <td>-2.5</td>\n",
       "      <td>-0.6</td>\n",
       "      <td>-1.9</td>\n",
       "    </tr>\n",
       "    <tr>\n",
       "      <th>22</th>\n",
       "      <td>TB</td>\n",
       "      <td>-2.6</td>\n",
       "      <td>-2.7</td>\n",
       "      <td>0.1</td>\n",
       "    </tr>\n",
       "    <tr>\n",
       "      <th>23</th>\n",
       "      <td>WAS</td>\n",
       "      <td>-2.6</td>\n",
       "      <td>-2.1</td>\n",
       "      <td>-0.5</td>\n",
       "    </tr>\n",
       "    <tr>\n",
       "      <th>24</th>\n",
       "      <td>NE</td>\n",
       "      <td>-3.2</td>\n",
       "      <td>-2.9</td>\n",
       "      <td>-0.3</td>\n",
       "    </tr>\n",
       "    <tr>\n",
       "      <th>25</th>\n",
       "      <td>MIN</td>\n",
       "      <td>-3.4</td>\n",
       "      <td>-2.5</td>\n",
       "      <td>-0.9</td>\n",
       "    </tr>\n",
       "    <tr>\n",
       "      <th>26</th>\n",
       "      <td>GB</td>\n",
       "      <td>-3.4</td>\n",
       "      <td>-2.1</td>\n",
       "      <td>-1.3</td>\n",
       "    </tr>\n",
       "    <tr>\n",
       "      <th>27</th>\n",
       "      <td>LV</td>\n",
       "      <td>-4.0</td>\n",
       "      <td>-2.3</td>\n",
       "      <td>-1.7</td>\n",
       "    </tr>\n",
       "    <tr>\n",
       "      <th>28</th>\n",
       "      <td>NYG</td>\n",
       "      <td>-4.3</td>\n",
       "      <td>-4.6</td>\n",
       "      <td>0.3</td>\n",
       "    </tr>\n",
       "    <tr>\n",
       "      <th>29</th>\n",
       "      <td>CHI</td>\n",
       "      <td>-5.4</td>\n",
       "      <td>-2.9</td>\n",
       "      <td>-2.5</td>\n",
       "    </tr>\n",
       "    <tr>\n",
       "      <th>30</th>\n",
       "      <td>CAR</td>\n",
       "      <td>-5.6</td>\n",
       "      <td>-3.0</td>\n",
       "      <td>-2.6</td>\n",
       "    </tr>\n",
       "    <tr>\n",
       "      <th>31</th>\n",
       "      <td>ARI</td>\n",
       "      <td>-6.1</td>\n",
       "      <td>-3.1</td>\n",
       "      <td>-3.0</td>\n",
       "    </tr>\n",
       "  </tbody>\n",
       "</table>\n",
       "</div>"
      ],
      "text/plain": [
       "   team  ovr  off  def\n",
       "0    KC  6.5  4.1  2.4\n",
       "1   PHI  6.2  4.4  1.8\n",
       "2    SF  5.9  3.1  2.8\n",
       "3   BAL  5.1  2.5  2.6\n",
       "4   MIA  4.9  5.6 -0.7\n",
       "5   DAL  4.8  2.5  2.3\n",
       "6   CIN  4.7  3.2  1.5\n",
       "7   BUF  4.1  3.6  0.5\n",
       "8   JAX  2.7  1.8  0.9\n",
       "9   DET  2.5  2.6 -0.1\n",
       "10  LAC  1.5  2.7 -1.2\n",
       "11  SEA  1.4  0.9  0.5\n",
       "12   NO  0.8  0.4  0.4\n",
       "13  CLE  0.0 -3.3  3.3\n",
       "14  IND -0.5  0.6 -1.1\n",
       "15  ATL -0.9 -1.5  0.6\n",
       "16  NYJ -1.3 -4.7  3.4\n",
       "17  PIT -1.5 -2.4  0.9\n",
       "18  HOU -1.6  0.0 -1.6\n",
       "19   LA -2.3 -0.8 -1.5\n",
       "20  TEN -2.3 -2.1 -0.2\n",
       "21  DEN -2.5 -0.6 -1.9\n",
       "22   TB -2.6 -2.7  0.1\n",
       "23  WAS -2.6 -2.1 -0.5\n",
       "24   NE -3.2 -2.9 -0.3\n",
       "25  MIN -3.4 -2.5 -0.9\n",
       "26   GB -3.4 -2.1 -1.3\n",
       "27   LV -4.0 -2.3 -1.7\n",
       "28  NYG -4.3 -4.6  0.3\n",
       "29  CHI -5.4 -2.9 -2.5\n",
       "30  CAR -5.6 -3.0 -2.6\n",
       "31  ARI -6.1 -3.1 -3.0"
      ]
     },
     "execution_count": 11,
     "metadata": {},
     "output_type": "execute_result"
    }
   ],
   "source": [
    "\n",
    "previous_power = pd.read_clipboard()\n",
    "previous_power"
   ]
  },
  {
   "cell_type": "code",
   "execution_count": 12,
   "metadata": {},
   "outputs": [
    {
     "data": {
      "text/html": [
       "<div>\n",
       "<style scoped>\n",
       "    .dataframe tbody tr th:only-of-type {\n",
       "        vertical-align: middle;\n",
       "    }\n",
       "\n",
       "    .dataframe tbody tr th {\n",
       "        vertical-align: top;\n",
       "    }\n",
       "\n",
       "    .dataframe thead th {\n",
       "        text-align: right;\n",
       "    }\n",
       "</style>\n",
       "<table border=\"1\" class=\"dataframe\">\n",
       "  <thead>\n",
       "    <tr style=\"text-align: right;\">\n",
       "      <th></th>\n",
       "      <th>team</th>\n",
       "      <th>ovr_cur</th>\n",
       "      <th>off_cur</th>\n",
       "      <th>def_cur</th>\n",
       "      <th>season</th>\n",
       "      <th>week</th>\n",
       "      <th>ovr_prev</th>\n",
       "      <th>off_prev</th>\n",
       "      <th>def_prev</th>\n",
       "      <th>ovr_dif</th>\n",
       "      <th>off_dif</th>\n",
       "      <th>def_dif</th>\n",
       "    </tr>\n",
       "  </thead>\n",
       "  <tbody>\n",
       "    <tr>\n",
       "      <th>0</th>\n",
       "      <td>KC</td>\n",
       "      <td>6.8</td>\n",
       "      <td>4.3</td>\n",
       "      <td>2.5</td>\n",
       "      <td>2023</td>\n",
       "      <td>10</td>\n",
       "      <td>6.5</td>\n",
       "      <td>4.1</td>\n",
       "      <td>2.4</td>\n",
       "      <td>0.3</td>\n",
       "      <td>0.2</td>\n",
       "      <td>0.1</td>\n",
       "    </tr>\n",
       "    <tr>\n",
       "      <th>1</th>\n",
       "      <td>PHI</td>\n",
       "      <td>6.4</td>\n",
       "      <td>4.5</td>\n",
       "      <td>1.9</td>\n",
       "      <td>2023</td>\n",
       "      <td>10</td>\n",
       "      <td>6.2</td>\n",
       "      <td>4.4</td>\n",
       "      <td>1.8</td>\n",
       "      <td>0.2</td>\n",
       "      <td>0.1</td>\n",
       "      <td>0.1</td>\n",
       "    </tr>\n",
       "    <tr>\n",
       "      <th>2</th>\n",
       "      <td>BAL</td>\n",
       "      <td>6.3</td>\n",
       "      <td>3.1</td>\n",
       "      <td>3.2</td>\n",
       "      <td>2023</td>\n",
       "      <td>10</td>\n",
       "      <td>5.1</td>\n",
       "      <td>2.5</td>\n",
       "      <td>2.6</td>\n",
       "      <td>1.2</td>\n",
       "      <td>0.6</td>\n",
       "      <td>0.6</td>\n",
       "    </tr>\n",
       "    <tr>\n",
       "      <th>3</th>\n",
       "      <td>SF</td>\n",
       "      <td>5.9</td>\n",
       "      <td>3.1</td>\n",
       "      <td>2.8</td>\n",
       "      <td>2023</td>\n",
       "      <td>10</td>\n",
       "      <td>5.9</td>\n",
       "      <td>3.1</td>\n",
       "      <td>2.8</td>\n",
       "      <td>0.0</td>\n",
       "      <td>0.0</td>\n",
       "      <td>0.0</td>\n",
       "    </tr>\n",
       "    <tr>\n",
       "      <th>4</th>\n",
       "      <td>MIA</td>\n",
       "      <td>5.5</td>\n",
       "      <td>5.4</td>\n",
       "      <td>0.1</td>\n",
       "      <td>2023</td>\n",
       "      <td>10</td>\n",
       "      <td>4.9</td>\n",
       "      <td>5.6</td>\n",
       "      <td>-0.7</td>\n",
       "      <td>0.6</td>\n",
       "      <td>-0.2</td>\n",
       "      <td>0.8</td>\n",
       "    </tr>\n",
       "    <tr>\n",
       "      <th>5</th>\n",
       "      <td>CIN</td>\n",
       "      <td>5.4</td>\n",
       "      <td>3.8</td>\n",
       "      <td>1.6</td>\n",
       "      <td>2023</td>\n",
       "      <td>10</td>\n",
       "      <td>4.7</td>\n",
       "      <td>3.2</td>\n",
       "      <td>1.5</td>\n",
       "      <td>0.7</td>\n",
       "      <td>0.6</td>\n",
       "      <td>0.1</td>\n",
       "    </tr>\n",
       "    <tr>\n",
       "      <th>6</th>\n",
       "      <td>DAL</td>\n",
       "      <td>4.6</td>\n",
       "      <td>2.4</td>\n",
       "      <td>2.2</td>\n",
       "      <td>2023</td>\n",
       "      <td>10</td>\n",
       "      <td>4.8</td>\n",
       "      <td>2.5</td>\n",
       "      <td>2.3</td>\n",
       "      <td>-0.2</td>\n",
       "      <td>-0.1</td>\n",
       "      <td>-0.1</td>\n",
       "    </tr>\n",
       "    <tr>\n",
       "      <th>7</th>\n",
       "      <td>BUF</td>\n",
       "      <td>3.7</td>\n",
       "      <td>3.2</td>\n",
       "      <td>0.5</td>\n",
       "      <td>2023</td>\n",
       "      <td>10</td>\n",
       "      <td>4.1</td>\n",
       "      <td>3.6</td>\n",
       "      <td>0.5</td>\n",
       "      <td>-0.4</td>\n",
       "      <td>-0.4</td>\n",
       "      <td>0.0</td>\n",
       "    </tr>\n",
       "    <tr>\n",
       "      <th>8</th>\n",
       "      <td>DET</td>\n",
       "      <td>2.9</td>\n",
       "      <td>2.6</td>\n",
       "      <td>0.3</td>\n",
       "      <td>2023</td>\n",
       "      <td>10</td>\n",
       "      <td>2.5</td>\n",
       "      <td>2.6</td>\n",
       "      <td>-0.1</td>\n",
       "      <td>0.4</td>\n",
       "      <td>0.0</td>\n",
       "      <td>0.4</td>\n",
       "    </tr>\n",
       "    <tr>\n",
       "      <th>9</th>\n",
       "      <td>JAX</td>\n",
       "      <td>2.7</td>\n",
       "      <td>1.8</td>\n",
       "      <td>0.9</td>\n",
       "      <td>2023</td>\n",
       "      <td>10</td>\n",
       "      <td>2.7</td>\n",
       "      <td>1.8</td>\n",
       "      <td>0.9</td>\n",
       "      <td>0.0</td>\n",
       "      <td>0.0</td>\n",
       "      <td>0.0</td>\n",
       "    </tr>\n",
       "    <tr>\n",
       "      <th>10</th>\n",
       "      <td>CLE</td>\n",
       "      <td>1.9</td>\n",
       "      <td>-1.5</td>\n",
       "      <td>3.4</td>\n",
       "      <td>2023</td>\n",
       "      <td>10</td>\n",
       "      <td>0.0</td>\n",
       "      <td>-3.3</td>\n",
       "      <td>3.3</td>\n",
       "      <td>1.9</td>\n",
       "      <td>1.8</td>\n",
       "      <td>0.1</td>\n",
       "    </tr>\n",
       "    <tr>\n",
       "      <th>11</th>\n",
       "      <td>LAC</td>\n",
       "      <td>1.5</td>\n",
       "      <td>2.7</td>\n",
       "      <td>-1.2</td>\n",
       "      <td>2023</td>\n",
       "      <td>10</td>\n",
       "      <td>1.5</td>\n",
       "      <td>2.7</td>\n",
       "      <td>-1.2</td>\n",
       "      <td>0.0</td>\n",
       "      <td>0.0</td>\n",
       "      <td>0.0</td>\n",
       "    </tr>\n",
       "    <tr>\n",
       "      <th>12</th>\n",
       "      <td>SEA</td>\n",
       "      <td>1.1</td>\n",
       "      <td>0.7</td>\n",
       "      <td>0.4</td>\n",
       "      <td>2023</td>\n",
       "      <td>10</td>\n",
       "      <td>1.4</td>\n",
       "      <td>0.9</td>\n",
       "      <td>0.5</td>\n",
       "      <td>-0.3</td>\n",
       "      <td>-0.2</td>\n",
       "      <td>-0.1</td>\n",
       "    </tr>\n",
       "    <tr>\n",
       "      <th>13</th>\n",
       "      <td>NO</td>\n",
       "      <td>0.8</td>\n",
       "      <td>0.5</td>\n",
       "      <td>0.3</td>\n",
       "      <td>2023</td>\n",
       "      <td>10</td>\n",
       "      <td>0.8</td>\n",
       "      <td>0.4</td>\n",
       "      <td>0.4</td>\n",
       "      <td>0.0</td>\n",
       "      <td>0.1</td>\n",
       "      <td>-0.1</td>\n",
       "    </tr>\n",
       "    <tr>\n",
       "      <th>14</th>\n",
       "      <td>IND</td>\n",
       "      <td>-0.3</td>\n",
       "      <td>0.6</td>\n",
       "      <td>-0.9</td>\n",
       "      <td>2023</td>\n",
       "      <td>10</td>\n",
       "      <td>-0.5</td>\n",
       "      <td>0.6</td>\n",
       "      <td>-1.1</td>\n",
       "      <td>0.2</td>\n",
       "      <td>0.0</td>\n",
       "      <td>0.2</td>\n",
       "    </tr>\n",
       "    <tr>\n",
       "      <th>15</th>\n",
       "      <td>HOU</td>\n",
       "      <td>-0.8</td>\n",
       "      <td>0.8</td>\n",
       "      <td>-1.6</td>\n",
       "      <td>2023</td>\n",
       "      <td>10</td>\n",
       "      <td>-1.6</td>\n",
       "      <td>0.0</td>\n",
       "      <td>-1.6</td>\n",
       "      <td>0.8</td>\n",
       "      <td>0.8</td>\n",
       "      <td>0.0</td>\n",
       "    </tr>\n",
       "    <tr>\n",
       "      <th>16</th>\n",
       "      <td>ATL</td>\n",
       "      <td>-1.0</td>\n",
       "      <td>-1.5</td>\n",
       "      <td>0.5</td>\n",
       "      <td>2023</td>\n",
       "      <td>10</td>\n",
       "      <td>-0.9</td>\n",
       "      <td>-1.5</td>\n",
       "      <td>0.6</td>\n",
       "      <td>-0.1</td>\n",
       "      <td>0.0</td>\n",
       "      <td>-0.1</td>\n",
       "    </tr>\n",
       "    <tr>\n",
       "      <th>17</th>\n",
       "      <td>NYJ</td>\n",
       "      <td>-1.3</td>\n",
       "      <td>-4.7</td>\n",
       "      <td>3.4</td>\n",
       "      <td>2023</td>\n",
       "      <td>10</td>\n",
       "      <td>-1.3</td>\n",
       "      <td>-4.7</td>\n",
       "      <td>3.4</td>\n",
       "      <td>0.0</td>\n",
       "      <td>0.0</td>\n",
       "      <td>0.0</td>\n",
       "    </tr>\n",
       "    <tr>\n",
       "      <th>18</th>\n",
       "      <td>PIT</td>\n",
       "      <td>-1.6</td>\n",
       "      <td>-2.4</td>\n",
       "      <td>0.8</td>\n",
       "      <td>2023</td>\n",
       "      <td>10</td>\n",
       "      <td>-1.5</td>\n",
       "      <td>-2.4</td>\n",
       "      <td>0.9</td>\n",
       "      <td>-0.1</td>\n",
       "      <td>0.0</td>\n",
       "      <td>-0.1</td>\n",
       "    </tr>\n",
       "    <tr>\n",
       "      <th>19</th>\n",
       "      <td>TEN</td>\n",
       "      <td>-2.3</td>\n",
       "      <td>-2.1</td>\n",
       "      <td>-0.2</td>\n",
       "      <td>2023</td>\n",
       "      <td>10</td>\n",
       "      <td>-2.3</td>\n",
       "      <td>-2.1</td>\n",
       "      <td>-0.2</td>\n",
       "      <td>0.0</td>\n",
       "      <td>0.0</td>\n",
       "      <td>0.0</td>\n",
       "    </tr>\n",
       "    <tr>\n",
       "      <th>20</th>\n",
       "      <td>WAS</td>\n",
       "      <td>-2.4</td>\n",
       "      <td>-1.8</td>\n",
       "      <td>-0.6</td>\n",
       "      <td>2023</td>\n",
       "      <td>10</td>\n",
       "      <td>-2.6</td>\n",
       "      <td>-2.1</td>\n",
       "      <td>-0.5</td>\n",
       "      <td>0.2</td>\n",
       "      <td>0.3</td>\n",
       "      <td>-0.1</td>\n",
       "    </tr>\n",
       "    <tr>\n",
       "      <th>21</th>\n",
       "      <td>TB</td>\n",
       "      <td>-2.5</td>\n",
       "      <td>-2.3</td>\n",
       "      <td>-0.2</td>\n",
       "      <td>2023</td>\n",
       "      <td>10</td>\n",
       "      <td>-2.6</td>\n",
       "      <td>-2.7</td>\n",
       "      <td>0.1</td>\n",
       "      <td>0.1</td>\n",
       "      <td>0.4</td>\n",
       "      <td>-0.3</td>\n",
       "    </tr>\n",
       "    <tr>\n",
       "      <th>22</th>\n",
       "      <td>DEN</td>\n",
       "      <td>-2.5</td>\n",
       "      <td>-0.6</td>\n",
       "      <td>-1.9</td>\n",
       "      <td>2023</td>\n",
       "      <td>10</td>\n",
       "      <td>-2.5</td>\n",
       "      <td>-0.6</td>\n",
       "      <td>-1.9</td>\n",
       "      <td>0.0</td>\n",
       "      <td>0.0</td>\n",
       "      <td>0.0</td>\n",
       "    </tr>\n",
       "    <tr>\n",
       "      <th>23</th>\n",
       "      <td>MIN</td>\n",
       "      <td>-3.1</td>\n",
       "      <td>-2.2</td>\n",
       "      <td>-0.9</td>\n",
       "      <td>2023</td>\n",
       "      <td>10</td>\n",
       "      <td>-3.4</td>\n",
       "      <td>-2.5</td>\n",
       "      <td>-0.9</td>\n",
       "      <td>0.3</td>\n",
       "      <td>0.3</td>\n",
       "      <td>0.0</td>\n",
       "    </tr>\n",
       "    <tr>\n",
       "      <th>24</th>\n",
       "      <td>NE</td>\n",
       "      <td>-3.3</td>\n",
       "      <td>-2.9</td>\n",
       "      <td>-0.4</td>\n",
       "      <td>2023</td>\n",
       "      <td>10</td>\n",
       "      <td>-3.2</td>\n",
       "      <td>-2.9</td>\n",
       "      <td>-0.3</td>\n",
       "      <td>-0.1</td>\n",
       "      <td>0.0</td>\n",
       "      <td>-0.1</td>\n",
       "    </tr>\n",
       "    <tr>\n",
       "      <th>25</th>\n",
       "      <td>GB</td>\n",
       "      <td>-3.3</td>\n",
       "      <td>-2.2</td>\n",
       "      <td>-1.1</td>\n",
       "      <td>2023</td>\n",
       "      <td>10</td>\n",
       "      <td>-3.4</td>\n",
       "      <td>-2.1</td>\n",
       "      <td>-1.3</td>\n",
       "      <td>0.1</td>\n",
       "      <td>-0.1</td>\n",
       "      <td>0.2</td>\n",
       "    </tr>\n",
       "    <tr>\n",
       "      <th>26</th>\n",
       "      <td>LA</td>\n",
       "      <td>-3.4</td>\n",
       "      <td>-1.9</td>\n",
       "      <td>-1.5</td>\n",
       "      <td>2023</td>\n",
       "      <td>10</td>\n",
       "      <td>-2.3</td>\n",
       "      <td>-0.8</td>\n",
       "      <td>-1.5</td>\n",
       "      <td>-1.1</td>\n",
       "      <td>-1.1</td>\n",
       "      <td>0.0</td>\n",
       "    </tr>\n",
       "    <tr>\n",
       "      <th>27</th>\n",
       "      <td>LV</td>\n",
       "      <td>-4.0</td>\n",
       "      <td>-2.3</td>\n",
       "      <td>-1.7</td>\n",
       "      <td>2023</td>\n",
       "      <td>10</td>\n",
       "      <td>-4.0</td>\n",
       "      <td>-2.3</td>\n",
       "      <td>-1.7</td>\n",
       "      <td>0.0</td>\n",
       "      <td>0.0</td>\n",
       "      <td>0.0</td>\n",
       "    </tr>\n",
       "    <tr>\n",
       "      <th>28</th>\n",
       "      <td>NYG</td>\n",
       "      <td>-5.2</td>\n",
       "      <td>-5.3</td>\n",
       "      <td>0.1</td>\n",
       "      <td>2023</td>\n",
       "      <td>10</td>\n",
       "      <td>-4.3</td>\n",
       "      <td>-4.6</td>\n",
       "      <td>0.3</td>\n",
       "      <td>-0.9</td>\n",
       "      <td>-0.7</td>\n",
       "      <td>-0.2</td>\n",
       "    </tr>\n",
       "    <tr>\n",
       "      <th>29</th>\n",
       "      <td>ARI</td>\n",
       "      <td>-5.2</td>\n",
       "      <td>-2.1</td>\n",
       "      <td>-3.1</td>\n",
       "      <td>2023</td>\n",
       "      <td>10</td>\n",
       "      <td>-6.1</td>\n",
       "      <td>-3.1</td>\n",
       "      <td>-3.0</td>\n",
       "      <td>0.9</td>\n",
       "      <td>1.0</td>\n",
       "      <td>-0.1</td>\n",
       "    </tr>\n",
       "    <tr>\n",
       "      <th>30</th>\n",
       "      <td>CHI</td>\n",
       "      <td>-5.3</td>\n",
       "      <td>-2.9</td>\n",
       "      <td>-2.4</td>\n",
       "      <td>2023</td>\n",
       "      <td>10</td>\n",
       "      <td>-5.4</td>\n",
       "      <td>-2.9</td>\n",
       "      <td>-2.5</td>\n",
       "      <td>0.1</td>\n",
       "      <td>0.0</td>\n",
       "      <td>0.1</td>\n",
       "    </tr>\n",
       "    <tr>\n",
       "      <th>31</th>\n",
       "      <td>CAR</td>\n",
       "      <td>-5.7</td>\n",
       "      <td>-3.1</td>\n",
       "      <td>-2.6</td>\n",
       "      <td>2023</td>\n",
       "      <td>10</td>\n",
       "      <td>-5.6</td>\n",
       "      <td>-3.0</td>\n",
       "      <td>-2.6</td>\n",
       "      <td>-0.1</td>\n",
       "      <td>-0.1</td>\n",
       "      <td>0.0</td>\n",
       "    </tr>\n",
       "  </tbody>\n",
       "</table>\n",
       "</div>"
      ],
      "text/plain": [
       "   team  ovr_cur  off_cur  def_cur  season  week  ovr_prev  off_prev  \\\n",
       "0    KC      6.8      4.3      2.5    2023    10       6.5       4.1   \n",
       "1   PHI      6.4      4.5      1.9    2023    10       6.2       4.4   \n",
       "2   BAL      6.3      3.1      3.2    2023    10       5.1       2.5   \n",
       "3    SF      5.9      3.1      2.8    2023    10       5.9       3.1   \n",
       "4   MIA      5.5      5.4      0.1    2023    10       4.9       5.6   \n",
       "5   CIN      5.4      3.8      1.6    2023    10       4.7       3.2   \n",
       "6   DAL      4.6      2.4      2.2    2023    10       4.8       2.5   \n",
       "7   BUF      3.7      3.2      0.5    2023    10       4.1       3.6   \n",
       "8   DET      2.9      2.6      0.3    2023    10       2.5       2.6   \n",
       "9   JAX      2.7      1.8      0.9    2023    10       2.7       1.8   \n",
       "10  CLE      1.9     -1.5      3.4    2023    10       0.0      -3.3   \n",
       "11  LAC      1.5      2.7     -1.2    2023    10       1.5       2.7   \n",
       "12  SEA      1.1      0.7      0.4    2023    10       1.4       0.9   \n",
       "13   NO      0.8      0.5      0.3    2023    10       0.8       0.4   \n",
       "14  IND     -0.3      0.6     -0.9    2023    10      -0.5       0.6   \n",
       "15  HOU     -0.8      0.8     -1.6    2023    10      -1.6       0.0   \n",
       "16  ATL     -1.0     -1.5      0.5    2023    10      -0.9      -1.5   \n",
       "17  NYJ     -1.3     -4.7      3.4    2023    10      -1.3      -4.7   \n",
       "18  PIT     -1.6     -2.4      0.8    2023    10      -1.5      -2.4   \n",
       "19  TEN     -2.3     -2.1     -0.2    2023    10      -2.3      -2.1   \n",
       "20  WAS     -2.4     -1.8     -0.6    2023    10      -2.6      -2.1   \n",
       "21   TB     -2.5     -2.3     -0.2    2023    10      -2.6      -2.7   \n",
       "22  DEN     -2.5     -0.6     -1.9    2023    10      -2.5      -0.6   \n",
       "23  MIN     -3.1     -2.2     -0.9    2023    10      -3.4      -2.5   \n",
       "24   NE     -3.3     -2.9     -0.4    2023    10      -3.2      -2.9   \n",
       "25   GB     -3.3     -2.2     -1.1    2023    10      -3.4      -2.1   \n",
       "26   LA     -3.4     -1.9     -1.5    2023    10      -2.3      -0.8   \n",
       "27   LV     -4.0     -2.3     -1.7    2023    10      -4.0      -2.3   \n",
       "28  NYG     -5.2     -5.3      0.1    2023    10      -4.3      -4.6   \n",
       "29  ARI     -5.2     -2.1     -3.1    2023    10      -6.1      -3.1   \n",
       "30  CHI     -5.3     -2.9     -2.4    2023    10      -5.4      -2.9   \n",
       "31  CAR     -5.7     -3.1     -2.6    2023    10      -5.6      -3.0   \n",
       "\n",
       "    def_prev  ovr_dif  off_dif  def_dif  \n",
       "0        2.4      0.3      0.2      0.1  \n",
       "1        1.8      0.2      0.1      0.1  \n",
       "2        2.6      1.2      0.6      0.6  \n",
       "3        2.8      0.0      0.0      0.0  \n",
       "4       -0.7      0.6     -0.2      0.8  \n",
       "5        1.5      0.7      0.6      0.1  \n",
       "6        2.3     -0.2     -0.1     -0.1  \n",
       "7        0.5     -0.4     -0.4      0.0  \n",
       "8       -0.1      0.4      0.0      0.4  \n",
       "9        0.9      0.0      0.0      0.0  \n",
       "10       3.3      1.9      1.8      0.1  \n",
       "11      -1.2      0.0      0.0      0.0  \n",
       "12       0.5     -0.3     -0.2     -0.1  \n",
       "13       0.4      0.0      0.1     -0.1  \n",
       "14      -1.1      0.2      0.0      0.2  \n",
       "15      -1.6      0.8      0.8      0.0  \n",
       "16       0.6     -0.1      0.0     -0.1  \n",
       "17       3.4      0.0      0.0      0.0  \n",
       "18       0.9     -0.1      0.0     -0.1  \n",
       "19      -0.2      0.0      0.0      0.0  \n",
       "20      -0.5      0.2      0.3     -0.1  \n",
       "21       0.1      0.1      0.4     -0.3  \n",
       "22      -1.9      0.0      0.0      0.0  \n",
       "23      -0.9      0.3      0.3      0.0  \n",
       "24      -0.3     -0.1      0.0     -0.1  \n",
       "25      -1.3      0.1     -0.1      0.2  \n",
       "26      -1.5     -1.1     -1.1      0.0  \n",
       "27      -1.7      0.0      0.0      0.0  \n",
       "28       0.3     -0.9     -0.7     -0.2  \n",
       "29      -3.0      0.9      1.0     -0.1  \n",
       "30      -2.5      0.1      0.0      0.1  \n",
       "31      -2.6     -0.1     -0.1      0.0  "
      ]
     },
     "execution_count": 12,
     "metadata": {},
     "output_type": "execute_result"
    }
   ],
   "source": [
    "movement = pd.merge(power_df, previous_power, on='team', suffixes=('_cur', '_prev'))\n",
    "for col in ['ovr', 'off', 'def']:\n",
    "    movement[f'{col}_dif'] = movement[f'{col}_cur'] - movement[f'{col}_prev']\n",
    "movement"
   ]
  },
  {
   "cell_type": "code",
   "execution_count": 13,
   "metadata": {},
   "outputs": [],
   "source": [
    "# utils.download_team_pngs()"
   ]
  },
  {
   "cell_type": "code",
   "execution_count": 14,
   "metadata": {},
   "outputs": [
    {
     "data": {
      "application/vnd.plotly.v1+json": {
       "config": {
        "plotlyServerURL": "https://plot.ly"
       },
       "data": [
        {
         "alignmentgroup": "True",
         "hovertemplate": "team=%{y}<br>ovr_cur=%{x}<extra></extra>",
         "legendgroup": "KC",
         "marker": {
          "color": "#E31837",
          "pattern": {
           "shape": ""
          }
         },
         "name": "KC",
         "offsetgroup": "KC",
         "orientation": "h",
         "showlegend": false,
         "textposition": "auto",
         "type": "bar",
         "x": [
          6.8
         ],
         "xaxis": "x",
         "y": [
          "KC"
         ],
         "yaxis": "y"
        },
        {
         "alignmentgroup": "True",
         "hovertemplate": "team=%{y}<br>ovr_cur=%{x}<extra></extra>",
         "legendgroup": "PHI",
         "marker": {
          "color": "#004C54",
          "pattern": {
           "shape": ""
          }
         },
         "name": "PHI",
         "offsetgroup": "PHI",
         "orientation": "h",
         "showlegend": false,
         "textposition": "auto",
         "type": "bar",
         "x": [
          6.4
         ],
         "xaxis": "x",
         "y": [
          "PHI"
         ],
         "yaxis": "y"
        },
        {
         "alignmentgroup": "True",
         "hovertemplate": "team=%{y}<br>ovr_cur=%{x}<extra></extra>",
         "legendgroup": "BAL",
         "marker": {
          "color": "#241773",
          "pattern": {
           "shape": ""
          }
         },
         "name": "BAL",
         "offsetgroup": "BAL",
         "orientation": "h",
         "showlegend": false,
         "textposition": "auto",
         "type": "bar",
         "x": [
          6.3
         ],
         "xaxis": "x",
         "y": [
          "BAL"
         ],
         "yaxis": "y"
        },
        {
         "alignmentgroup": "True",
         "hovertemplate": "team=%{y}<br>ovr_cur=%{x}<extra></extra>",
         "legendgroup": "SF",
         "marker": {
          "color": "#B3995D",
          "pattern": {
           "shape": ""
          }
         },
         "name": "SF",
         "offsetgroup": "SF",
         "orientation": "h",
         "showlegend": false,
         "textposition": "auto",
         "type": "bar",
         "x": [
          5.9
         ],
         "xaxis": "x",
         "y": [
          "SF"
         ],
         "yaxis": "y"
        },
        {
         "alignmentgroup": "True",
         "hovertemplate": "team=%{y}<br>ovr_cur=%{x}<extra></extra>",
         "legendgroup": "MIA",
         "marker": {
          "color": "#008E97",
          "pattern": {
           "shape": ""
          }
         },
         "name": "MIA",
         "offsetgroup": "MIA",
         "orientation": "h",
         "showlegend": false,
         "textposition": "auto",
         "type": "bar",
         "x": [
          5.5
         ],
         "xaxis": "x",
         "y": [
          "MIA"
         ],
         "yaxis": "y"
        },
        {
         "alignmentgroup": "True",
         "hovertemplate": "team=%{y}<br>ovr_cur=%{x}<extra></extra>",
         "legendgroup": "CIN",
         "marker": {
          "color": "#FB4F14",
          "pattern": {
           "shape": ""
          }
         },
         "name": "CIN",
         "offsetgroup": "CIN",
         "orientation": "h",
         "showlegend": false,
         "textposition": "auto",
         "type": "bar",
         "x": [
          5.4
         ],
         "xaxis": "x",
         "y": [
          "CIN"
         ],
         "yaxis": "y"
        },
        {
         "alignmentgroup": "True",
         "hovertemplate": "team=%{y}<br>ovr_cur=%{x}<extra></extra>",
         "legendgroup": "DAL",
         "marker": {
          "color": "#002244",
          "pattern": {
           "shape": ""
          }
         },
         "name": "DAL",
         "offsetgroup": "DAL",
         "orientation": "h",
         "showlegend": false,
         "textposition": "auto",
         "type": "bar",
         "x": [
          4.6
         ],
         "xaxis": "x",
         "y": [
          "DAL"
         ],
         "yaxis": "y"
        },
        {
         "alignmentgroup": "True",
         "hovertemplate": "team=%{y}<br>ovr_cur=%{x}<extra></extra>",
         "legendgroup": "BUF",
         "marker": {
          "color": "#00338D",
          "pattern": {
           "shape": ""
          }
         },
         "name": "BUF",
         "offsetgroup": "BUF",
         "orientation": "h",
         "showlegend": false,
         "textposition": "auto",
         "type": "bar",
         "x": [
          3.7
         ],
         "xaxis": "x",
         "y": [
          "BUF"
         ],
         "yaxis": "y"
        },
        {
         "alignmentgroup": "True",
         "hovertemplate": "team=%{y}<br>ovr_cur=%{x}<extra></extra>",
         "legendgroup": "DET",
         "marker": {
          "color": "#0076B6",
          "pattern": {
           "shape": ""
          }
         },
         "name": "DET",
         "offsetgroup": "DET",
         "orientation": "h",
         "showlegend": false,
         "textposition": "auto",
         "type": "bar",
         "x": [
          2.9
         ],
         "xaxis": "x",
         "y": [
          "DET"
         ],
         "yaxis": "y"
        },
        {
         "alignmentgroup": "True",
         "hovertemplate": "team=%{y}<br>ovr_cur=%{x}<extra></extra>",
         "legendgroup": "JAX",
         "marker": {
          "color": "#006778",
          "pattern": {
           "shape": ""
          }
         },
         "name": "JAX",
         "offsetgroup": "JAX",
         "orientation": "h",
         "showlegend": false,
         "textposition": "auto",
         "type": "bar",
         "x": [
          2.7
         ],
         "xaxis": "x",
         "y": [
          "JAX"
         ],
         "yaxis": "y"
        },
        {
         "alignmentgroup": "True",
         "hovertemplate": "team=%{y}<br>ovr_cur=%{x}<extra></extra>",
         "legendgroup": "CLE",
         "marker": {
          "color": "#FF3C00",
          "pattern": {
           "shape": ""
          }
         },
         "name": "CLE",
         "offsetgroup": "CLE",
         "orientation": "h",
         "showlegend": false,
         "textposition": "auto",
         "type": "bar",
         "x": [
          1.9
         ],
         "xaxis": "x",
         "y": [
          "CLE"
         ],
         "yaxis": "y"
        },
        {
         "alignmentgroup": "True",
         "hovertemplate": "team=%{y}<br>ovr_cur=%{x}<extra></extra>",
         "legendgroup": "LAC",
         "marker": {
          "color": "#007BC7",
          "pattern": {
           "shape": ""
          }
         },
         "name": "LAC",
         "offsetgroup": "LAC",
         "orientation": "h",
         "showlegend": false,
         "textposition": "auto",
         "type": "bar",
         "x": [
          1.5
         ],
         "xaxis": "x",
         "y": [
          "LAC"
         ],
         "yaxis": "y"
        },
        {
         "alignmentgroup": "True",
         "hovertemplate": "team=%{y}<br>ovr_cur=%{x}<extra></extra>",
         "legendgroup": "SEA",
         "marker": {
          "color": "#69be28",
          "pattern": {
           "shape": ""
          }
         },
         "name": "SEA",
         "offsetgroup": "SEA",
         "orientation": "h",
         "showlegend": false,
         "textposition": "auto",
         "type": "bar",
         "x": [
          1.1
         ],
         "xaxis": "x",
         "y": [
          "SEA"
         ],
         "yaxis": "y"
        },
        {
         "alignmentgroup": "True",
         "hovertemplate": "team=%{y}<br>ovr_cur=%{x}<extra></extra>",
         "legendgroup": "NO",
         "marker": {
          "color": "#D3BC8D",
          "pattern": {
           "shape": ""
          }
         },
         "name": "NO",
         "offsetgroup": "NO",
         "orientation": "h",
         "showlegend": false,
         "textposition": "auto",
         "type": "bar",
         "x": [
          0.8
         ],
         "xaxis": "x",
         "y": [
          "NO"
         ],
         "yaxis": "y"
        },
        {
         "alignmentgroup": "True",
         "hovertemplate": "team=%{y}<br>ovr_cur=%{x}<extra></extra>",
         "legendgroup": "IND",
         "marker": {
          "color": "#002C5F",
          "pattern": {
           "shape": ""
          }
         },
         "name": "IND",
         "offsetgroup": "IND",
         "orientation": "h",
         "showlegend": false,
         "textposition": "auto",
         "type": "bar",
         "x": [
          -0.3
         ],
         "xaxis": "x",
         "y": [
          "IND"
         ],
         "yaxis": "y"
        },
        {
         "alignmentgroup": "True",
         "hovertemplate": "team=%{y}<br>ovr_cur=%{x}<extra></extra>",
         "legendgroup": "HOU",
         "marker": {
          "color": "#03202F",
          "pattern": {
           "shape": ""
          }
         },
         "name": "HOU",
         "offsetgroup": "HOU",
         "orientation": "h",
         "showlegend": false,
         "textposition": "auto",
         "type": "bar",
         "x": [
          -0.8
         ],
         "xaxis": "x",
         "y": [
          "HOU"
         ],
         "yaxis": "y"
        },
        {
         "alignmentgroup": "True",
         "hovertemplate": "team=%{y}<br>ovr_cur=%{x}<extra></extra>",
         "legendgroup": "ATL",
         "marker": {
          "color": "#A71930",
          "pattern": {
           "shape": ""
          }
         },
         "name": "ATL",
         "offsetgroup": "ATL",
         "orientation": "h",
         "showlegend": false,
         "textposition": "auto",
         "type": "bar",
         "x": [
          -1
         ],
         "xaxis": "x",
         "y": [
          "ATL"
         ],
         "yaxis": "y"
        },
        {
         "alignmentgroup": "True",
         "hovertemplate": "team=%{y}<br>ovr_cur=%{x}<extra></extra>",
         "legendgroup": "NYJ",
         "marker": {
          "color": "#003F2D",
          "pattern": {
           "shape": ""
          }
         },
         "name": "NYJ",
         "offsetgroup": "NYJ",
         "orientation": "h",
         "showlegend": false,
         "textposition": "auto",
         "type": "bar",
         "x": [
          -1.3
         ],
         "xaxis": "x",
         "y": [
          "NYJ"
         ],
         "yaxis": "y"
        },
        {
         "alignmentgroup": "True",
         "hovertemplate": "team=%{y}<br>ovr_cur=%{x}<extra></extra>",
         "legendgroup": "PIT",
         "marker": {
          "color": "#000000",
          "pattern": {
           "shape": ""
          }
         },
         "name": "PIT",
         "offsetgroup": "PIT",
         "orientation": "h",
         "showlegend": false,
         "textposition": "auto",
         "type": "bar",
         "x": [
          -1.6
         ],
         "xaxis": "x",
         "y": [
          "PIT"
         ],
         "yaxis": "y"
        },
        {
         "alignmentgroup": "True",
         "hovertemplate": "team=%{y}<br>ovr_cur=%{x}<extra></extra>",
         "legendgroup": "TEN",
         "marker": {
          "color": "#4B92DB",
          "pattern": {
           "shape": ""
          }
         },
         "name": "TEN",
         "offsetgroup": "TEN",
         "orientation": "h",
         "showlegend": false,
         "textposition": "auto",
         "type": "bar",
         "x": [
          -2.3
         ],
         "xaxis": "x",
         "y": [
          "TEN"
         ],
         "yaxis": "y"
        },
        {
         "alignmentgroup": "True",
         "hovertemplate": "team=%{y}<br>ovr_cur=%{x}<extra></extra>",
         "legendgroup": "WAS",
         "marker": {
          "color": "#5A1414",
          "pattern": {
           "shape": ""
          }
         },
         "name": "WAS",
         "offsetgroup": "WAS",
         "orientation": "h",
         "showlegend": false,
         "textposition": "auto",
         "type": "bar",
         "x": [
          -2.4
         ],
         "xaxis": "x",
         "y": [
          "WAS"
         ],
         "yaxis": "y"
        },
        {
         "alignmentgroup": "True",
         "hovertemplate": "team=%{y}<br>ovr_cur=%{x}<extra></extra>",
         "legendgroup": "TB",
         "marker": {
          "color": "#A71930",
          "pattern": {
           "shape": ""
          }
         },
         "name": "TB",
         "offsetgroup": "TB",
         "orientation": "h",
         "showlegend": false,
         "textposition": "auto",
         "type": "bar",
         "x": [
          -2.5
         ],
         "xaxis": "x",
         "y": [
          "TB"
         ],
         "yaxis": "y"
        },
        {
         "alignmentgroup": "True",
         "hovertemplate": "team=%{y}<br>ovr_cur=%{x}<extra></extra>",
         "legendgroup": "DEN",
         "marker": {
          "color": "#FB4F14",
          "pattern": {
           "shape": ""
          }
         },
         "name": "DEN",
         "offsetgroup": "DEN",
         "orientation": "h",
         "showlegend": false,
         "textposition": "auto",
         "type": "bar",
         "x": [
          -2.5
         ],
         "xaxis": "x",
         "y": [
          "DEN"
         ],
         "yaxis": "y"
        },
        {
         "alignmentgroup": "True",
         "hovertemplate": "team=%{y}<br>ovr_cur=%{x}<extra></extra>",
         "legendgroup": "MIN",
         "marker": {
          "color": "#4F2683",
          "pattern": {
           "shape": ""
          }
         },
         "name": "MIN",
         "offsetgroup": "MIN",
         "orientation": "h",
         "showlegend": false,
         "textposition": "auto",
         "type": "bar",
         "x": [
          -3.1
         ],
         "xaxis": "x",
         "y": [
          "MIN"
         ],
         "yaxis": "y"
        },
        {
         "alignmentgroup": "True",
         "hovertemplate": "team=%{y}<br>ovr_cur=%{x}<extra></extra>",
         "legendgroup": "NE",
         "marker": {
          "color": "#002244",
          "pattern": {
           "shape": ""
          }
         },
         "name": "NE",
         "offsetgroup": "NE",
         "orientation": "h",
         "showlegend": false,
         "textposition": "auto",
         "type": "bar",
         "x": [
          -3.3
         ],
         "xaxis": "x",
         "y": [
          "NE"
         ],
         "yaxis": "y"
        },
        {
         "alignmentgroup": "True",
         "hovertemplate": "team=%{y}<br>ovr_cur=%{x}<extra></extra>",
         "legendgroup": "GB",
         "marker": {
          "color": "#203731",
          "pattern": {
           "shape": ""
          }
         },
         "name": "GB",
         "offsetgroup": "GB",
         "orientation": "h",
         "showlegend": false,
         "textposition": "auto",
         "type": "bar",
         "x": [
          -3.3
         ],
         "xaxis": "x",
         "y": [
          "GB"
         ],
         "yaxis": "y"
        },
        {
         "alignmentgroup": "True",
         "hovertemplate": "team=%{y}<br>ovr_cur=%{x}<extra></extra>",
         "legendgroup": "LA",
         "marker": {
          "color": "#003594",
          "pattern": {
           "shape": ""
          }
         },
         "name": "LA",
         "offsetgroup": "LA",
         "orientation": "h",
         "showlegend": false,
         "textposition": "auto",
         "type": "bar",
         "x": [
          -3.4
         ],
         "xaxis": "x",
         "y": [
          "LA"
         ],
         "yaxis": "y"
        },
        {
         "alignmentgroup": "True",
         "hovertemplate": "team=%{y}<br>ovr_cur=%{x}<extra></extra>",
         "legendgroup": "LV",
         "marker": {
          "color": "#000000",
          "pattern": {
           "shape": ""
          }
         },
         "name": "LV",
         "offsetgroup": "LV",
         "orientation": "h",
         "showlegend": false,
         "textposition": "auto",
         "type": "bar",
         "x": [
          -4
         ],
         "xaxis": "x",
         "y": [
          "LV"
         ],
         "yaxis": "y"
        },
        {
         "alignmentgroup": "True",
         "hovertemplate": "team=%{y}<br>ovr_cur=%{x}<extra></extra>",
         "legendgroup": "NYG",
         "marker": {
          "color": "#0B2265",
          "pattern": {
           "shape": ""
          }
         },
         "name": "NYG",
         "offsetgroup": "NYG",
         "orientation": "h",
         "showlegend": false,
         "textposition": "auto",
         "type": "bar",
         "x": [
          -5.2
         ],
         "xaxis": "x",
         "y": [
          "NYG"
         ],
         "yaxis": "y"
        },
        {
         "alignmentgroup": "True",
         "hovertemplate": "team=%{y}<br>ovr_cur=%{x}<extra></extra>",
         "legendgroup": "ARI",
         "marker": {
          "color": "#97233F",
          "pattern": {
           "shape": ""
          }
         },
         "name": "ARI",
         "offsetgroup": "ARI",
         "orientation": "h",
         "showlegend": false,
         "textposition": "auto",
         "type": "bar",
         "x": [
          -5.2
         ],
         "xaxis": "x",
         "y": [
          "ARI"
         ],
         "yaxis": "y"
        },
        {
         "alignmentgroup": "True",
         "hovertemplate": "team=%{y}<br>ovr_cur=%{x}<extra></extra>",
         "legendgroup": "CHI",
         "marker": {
          "color": "#E64100",
          "pattern": {
           "shape": ""
          }
         },
         "name": "CHI",
         "offsetgroup": "CHI",
         "orientation": "h",
         "showlegend": false,
         "textposition": "auto",
         "type": "bar",
         "x": [
          -5.3
         ],
         "xaxis": "x",
         "y": [
          "CHI"
         ],
         "yaxis": "y"
        },
        {
         "alignmentgroup": "True",
         "hovertemplate": "team=%{y}<br>ovr_cur=%{x}<extra></extra>",
         "legendgroup": "CAR",
         "marker": {
          "color": "#0085CA",
          "pattern": {
           "shape": ""
          }
         },
         "name": "CAR",
         "offsetgroup": "CAR",
         "orientation": "h",
         "showlegend": false,
         "textposition": "auto",
         "type": "bar",
         "x": [
          -5.7
         ],
         "xaxis": "x",
         "y": [
          "CAR"
         ],
         "yaxis": "y"
        }
       ],
       "layout": {
        "barmode": "relative",
        "height": 1000,
        "images": [
         {
          "opacity": 1,
          "sizex": 1.25,
          "sizey": 1.25,
          "sizing": "contain",
          "source": "https://a.espncdn.com/i/teamlogos/nfl/500/KC.png",
          "x": 6.8,
          "xanchor": "center",
          "xref": "x",
          "y": "KC",
          "yanchor": "middle",
          "yref": "y"
         },
         {
          "opacity": 1,
          "sizex": 1.25,
          "sizey": 1.25,
          "sizing": "contain",
          "source": "https://a.espncdn.com/i/teamlogos/nfl/500/PHI.png",
          "x": 6.4,
          "xanchor": "center",
          "xref": "x",
          "y": "PHI",
          "yanchor": "middle",
          "yref": "y"
         },
         {
          "opacity": 1,
          "sizex": 1.25,
          "sizey": 1.25,
          "sizing": "contain",
          "source": "https://a.espncdn.com/i/teamlogos/nfl/500/BAL.png",
          "x": 6.3,
          "xanchor": "center",
          "xref": "x",
          "y": "BAL",
          "yanchor": "middle",
          "yref": "y"
         },
         {
          "opacity": 1,
          "sizex": 1.25,
          "sizey": 1.25,
          "sizing": "contain",
          "source": "https://a.espncdn.com/i/teamlogos/nfl/500/SF.png",
          "x": 5.9,
          "xanchor": "center",
          "xref": "x",
          "y": "SF",
          "yanchor": "middle",
          "yref": "y"
         },
         {
          "opacity": 1,
          "sizex": 1.25,
          "sizey": 1.25,
          "sizing": "contain",
          "source": "https://a.espncdn.com/i/teamlogos/nfl/500/MIA.png",
          "x": 5.5,
          "xanchor": "center",
          "xref": "x",
          "y": "MIA",
          "yanchor": "middle",
          "yref": "y"
         },
         {
          "opacity": 1,
          "sizex": 1.25,
          "sizey": 1.25,
          "sizing": "contain",
          "source": "https://a.espncdn.com/i/teamlogos/nfl/500/CIN.png",
          "x": 5.4,
          "xanchor": "center",
          "xref": "x",
          "y": "CIN",
          "yanchor": "middle",
          "yref": "y"
         },
         {
          "opacity": 1,
          "sizex": 1.25,
          "sizey": 1.25,
          "sizing": "contain",
          "source": "https://a.espncdn.com/i/teamlogos/nfl/500/DAL.png",
          "x": 4.6,
          "xanchor": "center",
          "xref": "x",
          "y": "DAL",
          "yanchor": "middle",
          "yref": "y"
         },
         {
          "opacity": 1,
          "sizex": 1.25,
          "sizey": 1.25,
          "sizing": "contain",
          "source": "https://a.espncdn.com/i/teamlogos/nfl/500/BUF.png",
          "x": 3.7,
          "xanchor": "center",
          "xref": "x",
          "y": "BUF",
          "yanchor": "middle",
          "yref": "y"
         },
         {
          "opacity": 1,
          "sizex": 1.25,
          "sizey": 1.25,
          "sizing": "contain",
          "source": "https://a.espncdn.com/i/teamlogos/nfl/500/DET.png",
          "x": 2.9,
          "xanchor": "center",
          "xref": "x",
          "y": "DET",
          "yanchor": "middle",
          "yref": "y"
         },
         {
          "opacity": 1,
          "sizex": 1.25,
          "sizey": 1.25,
          "sizing": "contain",
          "source": "https://a.espncdn.com/i/teamlogos/nfl/500/JAX.png",
          "x": 2.7,
          "xanchor": "center",
          "xref": "x",
          "y": "JAX",
          "yanchor": "middle",
          "yref": "y"
         },
         {
          "opacity": 1,
          "sizex": 1.25,
          "sizey": 1.25,
          "sizing": "contain",
          "source": "https://a.espncdn.com/i/teamlogos/nfl/500/CLE.png",
          "x": 1.9,
          "xanchor": "center",
          "xref": "x",
          "y": "CLE",
          "yanchor": "middle",
          "yref": "y"
         },
         {
          "opacity": 1,
          "sizex": 1.25,
          "sizey": 1.25,
          "sizing": "contain",
          "source": "https://a.espncdn.com/i/teamlogos/nfl/500/LAC.png",
          "x": 1.5,
          "xanchor": "center",
          "xref": "x",
          "y": "LAC",
          "yanchor": "middle",
          "yref": "y"
         },
         {
          "opacity": 1,
          "sizex": 1.25,
          "sizey": 1.25,
          "sizing": "contain",
          "source": "https://a.espncdn.com/i/teamlogos/nfl/500/SEA.png",
          "x": 1.1,
          "xanchor": "center",
          "xref": "x",
          "y": "SEA",
          "yanchor": "middle",
          "yref": "y"
         },
         {
          "opacity": 1,
          "sizex": 1.25,
          "sizey": 1.25,
          "sizing": "contain",
          "source": "https://a.espncdn.com/i/teamlogos/nfl/500/NO.png",
          "x": 0.8,
          "xanchor": "center",
          "xref": "x",
          "y": "NO",
          "yanchor": "middle",
          "yref": "y"
         },
         {
          "opacity": 1,
          "sizex": 1.25,
          "sizey": 1.25,
          "sizing": "contain",
          "source": "https://a.espncdn.com/i/teamlogos/nfl/500/IND.png",
          "x": -0.3,
          "xanchor": "center",
          "xref": "x",
          "y": "IND",
          "yanchor": "middle",
          "yref": "y"
         },
         {
          "opacity": 1,
          "sizex": 1.25,
          "sizey": 1.25,
          "sizing": "contain",
          "source": "https://a.espncdn.com/i/teamlogos/nfl/500/HOU.png",
          "x": -0.8,
          "xanchor": "center",
          "xref": "x",
          "y": "HOU",
          "yanchor": "middle",
          "yref": "y"
         },
         {
          "opacity": 1,
          "sizex": 1.25,
          "sizey": 1.25,
          "sizing": "contain",
          "source": "https://a.espncdn.com/i/teamlogos/nfl/500/ATL.png",
          "x": -1,
          "xanchor": "center",
          "xref": "x",
          "y": "ATL",
          "yanchor": "middle",
          "yref": "y"
         },
         {
          "opacity": 1,
          "sizex": 1.25,
          "sizey": 1.25,
          "sizing": "contain",
          "source": "https://a.espncdn.com/i/teamlogos/nfl/500/NYJ.png",
          "x": -1.3,
          "xanchor": "center",
          "xref": "x",
          "y": "NYJ",
          "yanchor": "middle",
          "yref": "y"
         },
         {
          "opacity": 1,
          "sizex": 1.25,
          "sizey": 1.25,
          "sizing": "contain",
          "source": "https://a.espncdn.com/i/teamlogos/nfl/500/PIT.png",
          "x": -1.6,
          "xanchor": "center",
          "xref": "x",
          "y": "PIT",
          "yanchor": "middle",
          "yref": "y"
         },
         {
          "opacity": 1,
          "sizex": 1.25,
          "sizey": 1.25,
          "sizing": "contain",
          "source": "https://a.espncdn.com/i/teamlogos/nfl/500/TEN.png",
          "x": -2.3,
          "xanchor": "center",
          "xref": "x",
          "y": "TEN",
          "yanchor": "middle",
          "yref": "y"
         },
         {
          "opacity": 1,
          "sizex": 1.25,
          "sizey": 1.25,
          "sizing": "contain",
          "source": "https://a.espncdn.com/i/teamlogos/nfl/500/WAS.png",
          "x": -2.4,
          "xanchor": "center",
          "xref": "x",
          "y": "WAS",
          "yanchor": "middle",
          "yref": "y"
         },
         {
          "opacity": 1,
          "sizex": 1.25,
          "sizey": 1.25,
          "sizing": "contain",
          "source": "https://a.espncdn.com/i/teamlogos/nfl/500/TB.png",
          "x": -2.5,
          "xanchor": "center",
          "xref": "x",
          "y": "TB",
          "yanchor": "middle",
          "yref": "y"
         },
         {
          "opacity": 1,
          "sizex": 1.25,
          "sizey": 1.25,
          "sizing": "contain",
          "source": "https://a.espncdn.com/i/teamlogos/nfl/500/DEN.png",
          "x": -2.5,
          "xanchor": "center",
          "xref": "x",
          "y": "DEN",
          "yanchor": "middle",
          "yref": "y"
         },
         {
          "opacity": 1,
          "sizex": 1.25,
          "sizey": 1.25,
          "sizing": "contain",
          "source": "https://a.espncdn.com/i/teamlogos/nfl/500/MIN.png",
          "x": -3.1,
          "xanchor": "center",
          "xref": "x",
          "y": "MIN",
          "yanchor": "middle",
          "yref": "y"
         },
         {
          "opacity": 1,
          "sizex": 1.25,
          "sizey": 1.25,
          "sizing": "contain",
          "source": "https://a.espncdn.com/i/teamlogos/nfl/500/NE.png",
          "x": -3.3,
          "xanchor": "center",
          "xref": "x",
          "y": "NE",
          "yanchor": "middle",
          "yref": "y"
         },
         {
          "opacity": 1,
          "sizex": 1.25,
          "sizey": 1.25,
          "sizing": "contain",
          "source": "https://a.espncdn.com/i/teamlogos/nfl/500/GB.png",
          "x": -3.3,
          "xanchor": "center",
          "xref": "x",
          "y": "GB",
          "yanchor": "middle",
          "yref": "y"
         },
         {
          "opacity": 1,
          "sizex": 1.25,
          "sizey": 1.25,
          "sizing": "contain",
          "source": "https://a.espncdn.com/i/teamlogos/nfl/500/LA.png",
          "x": -3.4,
          "xanchor": "center",
          "xref": "x",
          "y": "LA",
          "yanchor": "middle",
          "yref": "y"
         },
         {
          "opacity": 1,
          "sizex": 1.25,
          "sizey": 1.25,
          "sizing": "contain",
          "source": "https://a.espncdn.com/i/teamlogos/nfl/500/LV.png",
          "x": -4,
          "xanchor": "center",
          "xref": "x",
          "y": "LV",
          "yanchor": "middle",
          "yref": "y"
         },
         {
          "opacity": 1,
          "sizex": 1.25,
          "sizey": 1.25,
          "sizing": "contain",
          "source": "https://a.espncdn.com/i/teamlogos/nfl/500/NYG.png",
          "x": -5.2,
          "xanchor": "center",
          "xref": "x",
          "y": "NYG",
          "yanchor": "middle",
          "yref": "y"
         },
         {
          "opacity": 1,
          "sizex": 1.25,
          "sizey": 1.25,
          "sizing": "contain",
          "source": "https://a.espncdn.com/i/teamlogos/nfl/500/ARI.png",
          "x": -5.2,
          "xanchor": "center",
          "xref": "x",
          "y": "ARI",
          "yanchor": "middle",
          "yref": "y"
         },
         {
          "opacity": 1,
          "sizex": 1.25,
          "sizey": 1.25,
          "sizing": "contain",
          "source": "https://a.espncdn.com/i/teamlogos/nfl/500/CHI.png",
          "x": -5.3,
          "xanchor": "center",
          "xref": "x",
          "y": "CHI",
          "yanchor": "middle",
          "yref": "y"
         },
         {
          "opacity": 1,
          "sizex": 1.25,
          "sizey": 1.25,
          "sizing": "contain",
          "source": "https://a.espncdn.com/i/teamlogos/nfl/500/CAR.png",
          "x": -5.7,
          "xanchor": "center",
          "xref": "x",
          "y": "CAR",
          "yanchor": "middle",
          "yref": "y"
         }
        ],
        "legend": {
         "title": {
          "text": "team"
         },
         "tracegroupgap": 0
        },
        "margin": {
         "t": 60
        },
        "template": {
         "data": {
          "bar": [
           {
            "error_x": {
             "color": "#2a3f5f"
            },
            "error_y": {
             "color": "#2a3f5f"
            },
            "marker": {
             "line": {
              "color": "#E5ECF6",
              "width": 0.5
             },
             "pattern": {
              "fillmode": "overlay",
              "size": 10,
              "solidity": 0.2
             }
            },
            "type": "bar"
           }
          ],
          "barpolar": [
           {
            "marker": {
             "line": {
              "color": "#E5ECF6",
              "width": 0.5
             },
             "pattern": {
              "fillmode": "overlay",
              "size": 10,
              "solidity": 0.2
             }
            },
            "type": "barpolar"
           }
          ],
          "carpet": [
           {
            "aaxis": {
             "endlinecolor": "#2a3f5f",
             "gridcolor": "white",
             "linecolor": "white",
             "minorgridcolor": "white",
             "startlinecolor": "#2a3f5f"
            },
            "baxis": {
             "endlinecolor": "#2a3f5f",
             "gridcolor": "white",
             "linecolor": "white",
             "minorgridcolor": "white",
             "startlinecolor": "#2a3f5f"
            },
            "type": "carpet"
           }
          ],
          "choropleth": [
           {
            "colorbar": {
             "outlinewidth": 0,
             "ticks": ""
            },
            "type": "choropleth"
           }
          ],
          "contour": [
           {
            "colorbar": {
             "outlinewidth": 0,
             "ticks": ""
            },
            "colorscale": [
             [
              0,
              "#0d0887"
             ],
             [
              0.1111111111111111,
              "#46039f"
             ],
             [
              0.2222222222222222,
              "#7201a8"
             ],
             [
              0.3333333333333333,
              "#9c179e"
             ],
             [
              0.4444444444444444,
              "#bd3786"
             ],
             [
              0.5555555555555556,
              "#d8576b"
             ],
             [
              0.6666666666666666,
              "#ed7953"
             ],
             [
              0.7777777777777778,
              "#fb9f3a"
             ],
             [
              0.8888888888888888,
              "#fdca26"
             ],
             [
              1,
              "#f0f921"
             ]
            ],
            "type": "contour"
           }
          ],
          "contourcarpet": [
           {
            "colorbar": {
             "outlinewidth": 0,
             "ticks": ""
            },
            "type": "contourcarpet"
           }
          ],
          "heatmap": [
           {
            "colorbar": {
             "outlinewidth": 0,
             "ticks": ""
            },
            "colorscale": [
             [
              0,
              "#0d0887"
             ],
             [
              0.1111111111111111,
              "#46039f"
             ],
             [
              0.2222222222222222,
              "#7201a8"
             ],
             [
              0.3333333333333333,
              "#9c179e"
             ],
             [
              0.4444444444444444,
              "#bd3786"
             ],
             [
              0.5555555555555556,
              "#d8576b"
             ],
             [
              0.6666666666666666,
              "#ed7953"
             ],
             [
              0.7777777777777778,
              "#fb9f3a"
             ],
             [
              0.8888888888888888,
              "#fdca26"
             ],
             [
              1,
              "#f0f921"
             ]
            ],
            "type": "heatmap"
           }
          ],
          "heatmapgl": [
           {
            "colorbar": {
             "outlinewidth": 0,
             "ticks": ""
            },
            "colorscale": [
             [
              0,
              "#0d0887"
             ],
             [
              0.1111111111111111,
              "#46039f"
             ],
             [
              0.2222222222222222,
              "#7201a8"
             ],
             [
              0.3333333333333333,
              "#9c179e"
             ],
             [
              0.4444444444444444,
              "#bd3786"
             ],
             [
              0.5555555555555556,
              "#d8576b"
             ],
             [
              0.6666666666666666,
              "#ed7953"
             ],
             [
              0.7777777777777778,
              "#fb9f3a"
             ],
             [
              0.8888888888888888,
              "#fdca26"
             ],
             [
              1,
              "#f0f921"
             ]
            ],
            "type": "heatmapgl"
           }
          ],
          "histogram": [
           {
            "marker": {
             "pattern": {
              "fillmode": "overlay",
              "size": 10,
              "solidity": 0.2
             }
            },
            "type": "histogram"
           }
          ],
          "histogram2d": [
           {
            "colorbar": {
             "outlinewidth": 0,
             "ticks": ""
            },
            "colorscale": [
             [
              0,
              "#0d0887"
             ],
             [
              0.1111111111111111,
              "#46039f"
             ],
             [
              0.2222222222222222,
              "#7201a8"
             ],
             [
              0.3333333333333333,
              "#9c179e"
             ],
             [
              0.4444444444444444,
              "#bd3786"
             ],
             [
              0.5555555555555556,
              "#d8576b"
             ],
             [
              0.6666666666666666,
              "#ed7953"
             ],
             [
              0.7777777777777778,
              "#fb9f3a"
             ],
             [
              0.8888888888888888,
              "#fdca26"
             ],
             [
              1,
              "#f0f921"
             ]
            ],
            "type": "histogram2d"
           }
          ],
          "histogram2dcontour": [
           {
            "colorbar": {
             "outlinewidth": 0,
             "ticks": ""
            },
            "colorscale": [
             [
              0,
              "#0d0887"
             ],
             [
              0.1111111111111111,
              "#46039f"
             ],
             [
              0.2222222222222222,
              "#7201a8"
             ],
             [
              0.3333333333333333,
              "#9c179e"
             ],
             [
              0.4444444444444444,
              "#bd3786"
             ],
             [
              0.5555555555555556,
              "#d8576b"
             ],
             [
              0.6666666666666666,
              "#ed7953"
             ],
             [
              0.7777777777777778,
              "#fb9f3a"
             ],
             [
              0.8888888888888888,
              "#fdca26"
             ],
             [
              1,
              "#f0f921"
             ]
            ],
            "type": "histogram2dcontour"
           }
          ],
          "mesh3d": [
           {
            "colorbar": {
             "outlinewidth": 0,
             "ticks": ""
            },
            "type": "mesh3d"
           }
          ],
          "parcoords": [
           {
            "line": {
             "colorbar": {
              "outlinewidth": 0,
              "ticks": ""
             }
            },
            "type": "parcoords"
           }
          ],
          "pie": [
           {
            "automargin": true,
            "type": "pie"
           }
          ],
          "scatter": [
           {
            "fillpattern": {
             "fillmode": "overlay",
             "size": 10,
             "solidity": 0.2
            },
            "type": "scatter"
           }
          ],
          "scatter3d": [
           {
            "line": {
             "colorbar": {
              "outlinewidth": 0,
              "ticks": ""
             }
            },
            "marker": {
             "colorbar": {
              "outlinewidth": 0,
              "ticks": ""
             }
            },
            "type": "scatter3d"
           }
          ],
          "scattercarpet": [
           {
            "marker": {
             "colorbar": {
              "outlinewidth": 0,
              "ticks": ""
             }
            },
            "type": "scattercarpet"
           }
          ],
          "scattergeo": [
           {
            "marker": {
             "colorbar": {
              "outlinewidth": 0,
              "ticks": ""
             }
            },
            "type": "scattergeo"
           }
          ],
          "scattergl": [
           {
            "marker": {
             "colorbar": {
              "outlinewidth": 0,
              "ticks": ""
             }
            },
            "type": "scattergl"
           }
          ],
          "scattermapbox": [
           {
            "marker": {
             "colorbar": {
              "outlinewidth": 0,
              "ticks": ""
             }
            },
            "type": "scattermapbox"
           }
          ],
          "scatterpolar": [
           {
            "marker": {
             "colorbar": {
              "outlinewidth": 0,
              "ticks": ""
             }
            },
            "type": "scatterpolar"
           }
          ],
          "scatterpolargl": [
           {
            "marker": {
             "colorbar": {
              "outlinewidth": 0,
              "ticks": ""
             }
            },
            "type": "scatterpolargl"
           }
          ],
          "scatterternary": [
           {
            "marker": {
             "colorbar": {
              "outlinewidth": 0,
              "ticks": ""
             }
            },
            "type": "scatterternary"
           }
          ],
          "surface": [
           {
            "colorbar": {
             "outlinewidth": 0,
             "ticks": ""
            },
            "colorscale": [
             [
              0,
              "#0d0887"
             ],
             [
              0.1111111111111111,
              "#46039f"
             ],
             [
              0.2222222222222222,
              "#7201a8"
             ],
             [
              0.3333333333333333,
              "#9c179e"
             ],
             [
              0.4444444444444444,
              "#bd3786"
             ],
             [
              0.5555555555555556,
              "#d8576b"
             ],
             [
              0.6666666666666666,
              "#ed7953"
             ],
             [
              0.7777777777777778,
              "#fb9f3a"
             ],
             [
              0.8888888888888888,
              "#fdca26"
             ],
             [
              1,
              "#f0f921"
             ]
            ],
            "type": "surface"
           }
          ],
          "table": [
           {
            "cells": {
             "fill": {
              "color": "#EBF0F8"
             },
             "line": {
              "color": "white"
             }
            },
            "header": {
             "fill": {
              "color": "#C8D4E3"
             },
             "line": {
              "color": "white"
             }
            },
            "type": "table"
           }
          ]
         },
         "layout": {
          "annotationdefaults": {
           "arrowcolor": "#2a3f5f",
           "arrowhead": 0,
           "arrowwidth": 1
          },
          "autotypenumbers": "strict",
          "coloraxis": {
           "colorbar": {
            "outlinewidth": 0,
            "ticks": ""
           }
          },
          "colorscale": {
           "diverging": [
            [
             0,
             "#8e0152"
            ],
            [
             0.1,
             "#c51b7d"
            ],
            [
             0.2,
             "#de77ae"
            ],
            [
             0.3,
             "#f1b6da"
            ],
            [
             0.4,
             "#fde0ef"
            ],
            [
             0.5,
             "#f7f7f7"
            ],
            [
             0.6,
             "#e6f5d0"
            ],
            [
             0.7,
             "#b8e186"
            ],
            [
             0.8,
             "#7fbc41"
            ],
            [
             0.9,
             "#4d9221"
            ],
            [
             1,
             "#276419"
            ]
           ],
           "sequential": [
            [
             0,
             "#0d0887"
            ],
            [
             0.1111111111111111,
             "#46039f"
            ],
            [
             0.2222222222222222,
             "#7201a8"
            ],
            [
             0.3333333333333333,
             "#9c179e"
            ],
            [
             0.4444444444444444,
             "#bd3786"
            ],
            [
             0.5555555555555556,
             "#d8576b"
            ],
            [
             0.6666666666666666,
             "#ed7953"
            ],
            [
             0.7777777777777778,
             "#fb9f3a"
            ],
            [
             0.8888888888888888,
             "#fdca26"
            ],
            [
             1,
             "#f0f921"
            ]
           ],
           "sequentialminus": [
            [
             0,
             "#0d0887"
            ],
            [
             0.1111111111111111,
             "#46039f"
            ],
            [
             0.2222222222222222,
             "#7201a8"
            ],
            [
             0.3333333333333333,
             "#9c179e"
            ],
            [
             0.4444444444444444,
             "#bd3786"
            ],
            [
             0.5555555555555556,
             "#d8576b"
            ],
            [
             0.6666666666666666,
             "#ed7953"
            ],
            [
             0.7777777777777778,
             "#fb9f3a"
            ],
            [
             0.8888888888888888,
             "#fdca26"
            ],
            [
             1,
             "#f0f921"
            ]
           ]
          },
          "colorway": [
           "#636efa",
           "#EF553B",
           "#00cc96",
           "#ab63fa",
           "#FFA15A",
           "#19d3f3",
           "#FF6692",
           "#B6E880",
           "#FF97FF",
           "#FECB52"
          ],
          "font": {
           "color": "#2a3f5f"
          },
          "geo": {
           "bgcolor": "white",
           "lakecolor": "white",
           "landcolor": "#E5ECF6",
           "showlakes": true,
           "showland": true,
           "subunitcolor": "white"
          },
          "hoverlabel": {
           "align": "left"
          },
          "hovermode": "closest",
          "mapbox": {
           "style": "light"
          },
          "paper_bgcolor": "white",
          "plot_bgcolor": "#E5ECF6",
          "polar": {
           "angularaxis": {
            "gridcolor": "white",
            "linecolor": "white",
            "ticks": ""
           },
           "bgcolor": "#E5ECF6",
           "radialaxis": {
            "gridcolor": "white",
            "linecolor": "white",
            "ticks": ""
           }
          },
          "scene": {
           "xaxis": {
            "backgroundcolor": "#E5ECF6",
            "gridcolor": "white",
            "gridwidth": 2,
            "linecolor": "white",
            "showbackground": true,
            "ticks": "",
            "zerolinecolor": "white"
           },
           "yaxis": {
            "backgroundcolor": "#E5ECF6",
            "gridcolor": "white",
            "gridwidth": 2,
            "linecolor": "white",
            "showbackground": true,
            "ticks": "",
            "zerolinecolor": "white"
           },
           "zaxis": {
            "backgroundcolor": "#E5ECF6",
            "gridcolor": "white",
            "gridwidth": 2,
            "linecolor": "white",
            "showbackground": true,
            "ticks": "",
            "zerolinecolor": "white"
           }
          },
          "shapedefaults": {
           "line": {
            "color": "#2a3f5f"
           }
          },
          "ternary": {
           "aaxis": {
            "gridcolor": "white",
            "linecolor": "white",
            "ticks": ""
           },
           "baxis": {
            "gridcolor": "white",
            "linecolor": "white",
            "ticks": ""
           },
           "bgcolor": "#E5ECF6",
           "caxis": {
            "gridcolor": "white",
            "linecolor": "white",
            "ticks": ""
           }
          },
          "title": {
           "x": 0.05
          },
          "xaxis": {
           "automargin": true,
           "gridcolor": "white",
           "linecolor": "white",
           "ticks": "",
           "title": {
            "standoff": 15
           },
           "zerolinecolor": "white",
           "zerolinewidth": 2
          },
          "yaxis": {
           "automargin": true,
           "gridcolor": "white",
           "linecolor": "white",
           "ticks": "",
           "title": {
            "standoff": 15
           },
           "zerolinecolor": "white",
           "zerolinewidth": 2
          }
         }
        },
        "title": {
         "text": "Week 10 Power Ratings"
        },
        "width": 800,
        "xaxis": {
         "anchor": "y",
         "domain": [
          0,
          1
         ],
         "title": {
          "text": "Generic Points Favored"
         }
        },
        "yaxis": {
         "anchor": "x",
         "categoryarray": [
          "CAR",
          "CHI",
          "ARI",
          "NYG",
          "LV",
          "LA",
          "GB",
          "NE",
          "MIN",
          "DEN",
          "TB",
          "WAS",
          "TEN",
          "PIT",
          "NYJ",
          "ATL",
          "HOU",
          "IND",
          "NO",
          "SEA",
          "LAC",
          "CLE",
          "JAX",
          "DET",
          "BUF",
          "DAL",
          "CIN",
          "MIA",
          "SF",
          "BAL",
          "PHI",
          "KC"
         ],
         "categoryorder": "total ascending",
         "domain": [
          0,
          1
         ],
         "title": {
          "text": "Teams"
         }
        }
       }
      }
     },
     "metadata": {},
     "output_type": "display_data"
    }
   ],
   "source": [
    "col = 'ovr_cur'\n",
    "\n",
    "# Create the bar chart\n",
    "fig = px.bar(movement, x=col, y='team', orientation='h', color='team', color_discrete_map=utils.team_unique_colors)\n",
    "fig.update_yaxes(categoryorder='total ascending')\n",
    "fig.update_layout(\n",
    "    height=1000,\n",
    "    width=800,\n",
    "    xaxis_title=f'Generic Points Favored',\n",
    "    yaxis_title='Teams',\n",
    "    title=f'Week {WEEK} Power Ratings',\n",
    ")\n",
    "fig.update_traces(showlegend=False)\n",
    "\n",
    "# Iterate through the data and add logos to the chart\n",
    "for index, row in movement.iterrows():\n",
    "    team = row['team']\n",
    "    scale = 1.25\n",
    "    fig.add_layout_image(\n",
    "        dict(source=f'https://a.espncdn.com/i/teamlogos/nfl/500/{team}.png',\n",
    "            x=row[col],  # Adjust the position\n",
    "            y=team,\n",
    "            xref=\"x\",\n",
    "            yref=\"y\",\n",
    "            sizex=scale,  # Adjust the size\n",
    "            sizey=scale,  # Adjust the size\n",
    "            sizing=\"contain\",\n",
    "            opacity=1,\n",
    "            xanchor=\"center\",\n",
    "            yanchor=\"middle\",        \n",
    "        )\n",
    "    )\n",
    "\n",
    "# Show the chart\n",
    "fig.show()"
   ]
  },
  {
   "cell_type": "code",
   "execution_count": 16,
   "metadata": {},
   "outputs": [
    {
     "data": {
      "application/vnd.plotly.v1+json": {
       "config": {
        "plotlyServerURL": "https://plot.ly"
       },
       "data": [
        {
         "alignmentgroup": "True",
         "hovertemplate": "team=%{y}<br>ovr_dif=%{x}<extra></extra>",
         "legendgroup": "KC",
         "marker": {
          "color": "#E31837",
          "pattern": {
           "shape": ""
          }
         },
         "name": "KC",
         "offsetgroup": "KC",
         "orientation": "h",
         "showlegend": false,
         "textposition": "auto",
         "type": "bar",
         "x": [
          0.2999999999999998
         ],
         "xaxis": "x",
         "y": [
          "KC"
         ],
         "yaxis": "y"
        },
        {
         "alignmentgroup": "True",
         "hovertemplate": "team=%{y}<br>ovr_dif=%{x}<extra></extra>",
         "legendgroup": "PHI",
         "marker": {
          "color": "#004C54",
          "pattern": {
           "shape": ""
          }
         },
         "name": "PHI",
         "offsetgroup": "PHI",
         "orientation": "h",
         "showlegend": false,
         "textposition": "auto",
         "type": "bar",
         "x": [
          0.20000000000000018
         ],
         "xaxis": "x",
         "y": [
          "PHI"
         ],
         "yaxis": "y"
        },
        {
         "alignmentgroup": "True",
         "hovertemplate": "team=%{y}<br>ovr_dif=%{x}<extra></extra>",
         "legendgroup": "BAL",
         "marker": {
          "color": "#241773",
          "pattern": {
           "shape": ""
          }
         },
         "name": "BAL",
         "offsetgroup": "BAL",
         "orientation": "h",
         "showlegend": false,
         "textposition": "auto",
         "type": "bar",
         "x": [
          1.2000000000000002
         ],
         "xaxis": "x",
         "y": [
          "BAL"
         ],
         "yaxis": "y"
        },
        {
         "alignmentgroup": "True",
         "hovertemplate": "team=%{y}<br>ovr_dif=%{x}<extra></extra>",
         "legendgroup": "SF",
         "marker": {
          "color": "#B3995D",
          "pattern": {
           "shape": ""
          }
         },
         "name": "SF",
         "offsetgroup": "SF",
         "orientation": "h",
         "showlegend": false,
         "textposition": "auto",
         "type": "bar",
         "x": [
          0
         ],
         "xaxis": "x",
         "y": [
          "SF"
         ],
         "yaxis": "y"
        },
        {
         "alignmentgroup": "True",
         "hovertemplate": "team=%{y}<br>ovr_dif=%{x}<extra></extra>",
         "legendgroup": "MIA",
         "marker": {
          "color": "#008E97",
          "pattern": {
           "shape": ""
          }
         },
         "name": "MIA",
         "offsetgroup": "MIA",
         "orientation": "h",
         "showlegend": false,
         "textposition": "auto",
         "type": "bar",
         "x": [
          0.5999999999999996
         ],
         "xaxis": "x",
         "y": [
          "MIA"
         ],
         "yaxis": "y"
        },
        {
         "alignmentgroup": "True",
         "hovertemplate": "team=%{y}<br>ovr_dif=%{x}<extra></extra>",
         "legendgroup": "CIN",
         "marker": {
          "color": "#FB4F14",
          "pattern": {
           "shape": ""
          }
         },
         "name": "CIN",
         "offsetgroup": "CIN",
         "orientation": "h",
         "showlegend": false,
         "textposition": "auto",
         "type": "bar",
         "x": [
          0.7000000000000002
         ],
         "xaxis": "x",
         "y": [
          "CIN"
         ],
         "yaxis": "y"
        },
        {
         "alignmentgroup": "True",
         "hovertemplate": "team=%{y}<br>ovr_dif=%{x}<extra></extra>",
         "legendgroup": "DAL",
         "marker": {
          "color": "#002244",
          "pattern": {
           "shape": ""
          }
         },
         "name": "DAL",
         "offsetgroup": "DAL",
         "orientation": "h",
         "showlegend": false,
         "textposition": "auto",
         "type": "bar",
         "x": [
          -0.20000000000000018
         ],
         "xaxis": "x",
         "y": [
          "DAL"
         ],
         "yaxis": "y"
        },
        {
         "alignmentgroup": "True",
         "hovertemplate": "team=%{y}<br>ovr_dif=%{x}<extra></extra>",
         "legendgroup": "BUF",
         "marker": {
          "color": "#00338D",
          "pattern": {
           "shape": ""
          }
         },
         "name": "BUF",
         "offsetgroup": "BUF",
         "orientation": "h",
         "showlegend": false,
         "textposition": "auto",
         "type": "bar",
         "x": [
          -0.39999999999999947
         ],
         "xaxis": "x",
         "y": [
          "BUF"
         ],
         "yaxis": "y"
        },
        {
         "alignmentgroup": "True",
         "hovertemplate": "team=%{y}<br>ovr_dif=%{x}<extra></extra>",
         "legendgroup": "DET",
         "marker": {
          "color": "#0076B6",
          "pattern": {
           "shape": ""
          }
         },
         "name": "DET",
         "offsetgroup": "DET",
         "orientation": "h",
         "showlegend": false,
         "textposition": "auto",
         "type": "bar",
         "x": [
          0.3999999999999999
         ],
         "xaxis": "x",
         "y": [
          "DET"
         ],
         "yaxis": "y"
        },
        {
         "alignmentgroup": "True",
         "hovertemplate": "team=%{y}<br>ovr_dif=%{x}<extra></extra>",
         "legendgroup": "JAX",
         "marker": {
          "color": "#006778",
          "pattern": {
           "shape": ""
          }
         },
         "name": "JAX",
         "offsetgroup": "JAX",
         "orientation": "h",
         "showlegend": false,
         "textposition": "auto",
         "type": "bar",
         "x": [
          0
         ],
         "xaxis": "x",
         "y": [
          "JAX"
         ],
         "yaxis": "y"
        },
        {
         "alignmentgroup": "True",
         "hovertemplate": "team=%{y}<br>ovr_dif=%{x}<extra></extra>",
         "legendgroup": "CLE",
         "marker": {
          "color": "#FF3C00",
          "pattern": {
           "shape": ""
          }
         },
         "name": "CLE",
         "offsetgroup": "CLE",
         "orientation": "h",
         "showlegend": false,
         "textposition": "auto",
         "type": "bar",
         "x": [
          1.9
         ],
         "xaxis": "x",
         "y": [
          "CLE"
         ],
         "yaxis": "y"
        },
        {
         "alignmentgroup": "True",
         "hovertemplate": "team=%{y}<br>ovr_dif=%{x}<extra></extra>",
         "legendgroup": "LAC",
         "marker": {
          "color": "#007BC7",
          "pattern": {
           "shape": ""
          }
         },
         "name": "LAC",
         "offsetgroup": "LAC",
         "orientation": "h",
         "showlegend": false,
         "textposition": "auto",
         "type": "bar",
         "x": [
          0
         ],
         "xaxis": "x",
         "y": [
          "LAC"
         ],
         "yaxis": "y"
        },
        {
         "alignmentgroup": "True",
         "hovertemplate": "team=%{y}<br>ovr_dif=%{x}<extra></extra>",
         "legendgroup": "SEA",
         "marker": {
          "color": "#69be28",
          "pattern": {
           "shape": ""
          }
         },
         "name": "SEA",
         "offsetgroup": "SEA",
         "orientation": "h",
         "showlegend": false,
         "textposition": "auto",
         "type": "bar",
         "x": [
          -0.2999999999999998
         ],
         "xaxis": "x",
         "y": [
          "SEA"
         ],
         "yaxis": "y"
        },
        {
         "alignmentgroup": "True",
         "hovertemplate": "team=%{y}<br>ovr_dif=%{x}<extra></extra>",
         "legendgroup": "NO",
         "marker": {
          "color": "#D3BC8D",
          "pattern": {
           "shape": ""
          }
         },
         "name": "NO",
         "offsetgroup": "NO",
         "orientation": "h",
         "showlegend": false,
         "textposition": "auto",
         "type": "bar",
         "x": [
          0
         ],
         "xaxis": "x",
         "y": [
          "NO"
         ],
         "yaxis": "y"
        },
        {
         "alignmentgroup": "True",
         "hovertemplate": "team=%{y}<br>ovr_dif=%{x}<extra></extra>",
         "legendgroup": "IND",
         "marker": {
          "color": "#002C5F",
          "pattern": {
           "shape": ""
          }
         },
         "name": "IND",
         "offsetgroup": "IND",
         "orientation": "h",
         "showlegend": false,
         "textposition": "auto",
         "type": "bar",
         "x": [
          0.2
         ],
         "xaxis": "x",
         "y": [
          "IND"
         ],
         "yaxis": "y"
        },
        {
         "alignmentgroup": "True",
         "hovertemplate": "team=%{y}<br>ovr_dif=%{x}<extra></extra>",
         "legendgroup": "HOU",
         "marker": {
          "color": "#03202F",
          "pattern": {
           "shape": ""
          }
         },
         "name": "HOU",
         "offsetgroup": "HOU",
         "orientation": "h",
         "showlegend": false,
         "textposition": "auto",
         "type": "bar",
         "x": [
          0.8
         ],
         "xaxis": "x",
         "y": [
          "HOU"
         ],
         "yaxis": "y"
        },
        {
         "alignmentgroup": "True",
         "hovertemplate": "team=%{y}<br>ovr_dif=%{x}<extra></extra>",
         "legendgroup": "ATL",
         "marker": {
          "color": "#A71930",
          "pattern": {
           "shape": ""
          }
         },
         "name": "ATL",
         "offsetgroup": "ATL",
         "orientation": "h",
         "showlegend": false,
         "textposition": "auto",
         "type": "bar",
         "x": [
          -0.09999999999999998
         ],
         "xaxis": "x",
         "y": [
          "ATL"
         ],
         "yaxis": "y"
        },
        {
         "alignmentgroup": "True",
         "hovertemplate": "team=%{y}<br>ovr_dif=%{x}<extra></extra>",
         "legendgroup": "NYJ",
         "marker": {
          "color": "#003F2D",
          "pattern": {
           "shape": ""
          }
         },
         "name": "NYJ",
         "offsetgroup": "NYJ",
         "orientation": "h",
         "showlegend": false,
         "textposition": "auto",
         "type": "bar",
         "x": [
          0
         ],
         "xaxis": "x",
         "y": [
          "NYJ"
         ],
         "yaxis": "y"
        },
        {
         "alignmentgroup": "True",
         "hovertemplate": "team=%{y}<br>ovr_dif=%{x}<extra></extra>",
         "legendgroup": "PIT",
         "marker": {
          "color": "#000000",
          "pattern": {
           "shape": ""
          }
         },
         "name": "PIT",
         "offsetgroup": "PIT",
         "orientation": "h",
         "showlegend": false,
         "textposition": "auto",
         "type": "bar",
         "x": [
          -0.10000000000000009
         ],
         "xaxis": "x",
         "y": [
          "PIT"
         ],
         "yaxis": "y"
        },
        {
         "alignmentgroup": "True",
         "hovertemplate": "team=%{y}<br>ovr_dif=%{x}<extra></extra>",
         "legendgroup": "TEN",
         "marker": {
          "color": "#4B92DB",
          "pattern": {
           "shape": ""
          }
         },
         "name": "TEN",
         "offsetgroup": "TEN",
         "orientation": "h",
         "showlegend": false,
         "textposition": "auto",
         "type": "bar",
         "x": [
          0
         ],
         "xaxis": "x",
         "y": [
          "TEN"
         ],
         "yaxis": "y"
        },
        {
         "alignmentgroup": "True",
         "hovertemplate": "team=%{y}<br>ovr_dif=%{x}<extra></extra>",
         "legendgroup": "WAS",
         "marker": {
          "color": "#5A1414",
          "pattern": {
           "shape": ""
          }
         },
         "name": "WAS",
         "offsetgroup": "WAS",
         "orientation": "h",
         "showlegend": false,
         "textposition": "auto",
         "type": "bar",
         "x": [
          0.20000000000000018
         ],
         "xaxis": "x",
         "y": [
          "WAS"
         ],
         "yaxis": "y"
        },
        {
         "alignmentgroup": "True",
         "hovertemplate": "team=%{y}<br>ovr_dif=%{x}<extra></extra>",
         "legendgroup": "TB",
         "marker": {
          "color": "#A71930",
          "pattern": {
           "shape": ""
          }
         },
         "name": "TB",
         "offsetgroup": "TB",
         "orientation": "h",
         "showlegend": false,
         "textposition": "auto",
         "type": "bar",
         "x": [
          0.10000000000000009
         ],
         "xaxis": "x",
         "y": [
          "TB"
         ],
         "yaxis": "y"
        },
        {
         "alignmentgroup": "True",
         "hovertemplate": "team=%{y}<br>ovr_dif=%{x}<extra></extra>",
         "legendgroup": "DEN",
         "marker": {
          "color": "#FB4F14",
          "pattern": {
           "shape": ""
          }
         },
         "name": "DEN",
         "offsetgroup": "DEN",
         "orientation": "h",
         "showlegend": false,
         "textposition": "auto",
         "type": "bar",
         "x": [
          0
         ],
         "xaxis": "x",
         "y": [
          "DEN"
         ],
         "yaxis": "y"
        },
        {
         "alignmentgroup": "True",
         "hovertemplate": "team=%{y}<br>ovr_dif=%{x}<extra></extra>",
         "legendgroup": "MIN",
         "marker": {
          "color": "#4F2683",
          "pattern": {
           "shape": ""
          }
         },
         "name": "MIN",
         "offsetgroup": "MIN",
         "orientation": "h",
         "showlegend": false,
         "textposition": "auto",
         "type": "bar",
         "x": [
          0.2999999999999998
         ],
         "xaxis": "x",
         "y": [
          "MIN"
         ],
         "yaxis": "y"
        },
        {
         "alignmentgroup": "True",
         "hovertemplate": "team=%{y}<br>ovr_dif=%{x}<extra></extra>",
         "legendgroup": "NE",
         "marker": {
          "color": "#002244",
          "pattern": {
           "shape": ""
          }
         },
         "name": "NE",
         "offsetgroup": "NE",
         "orientation": "h",
         "showlegend": false,
         "textposition": "auto",
         "type": "bar",
         "x": [
          -0.09999999999999964
         ],
         "xaxis": "x",
         "y": [
          "NE"
         ],
         "yaxis": "y"
        },
        {
         "alignmentgroup": "True",
         "hovertemplate": "team=%{y}<br>ovr_dif=%{x}<extra></extra>",
         "legendgroup": "GB",
         "marker": {
          "color": "#203731",
          "pattern": {
           "shape": ""
          }
         },
         "name": "GB",
         "offsetgroup": "GB",
         "orientation": "h",
         "showlegend": false,
         "textposition": "auto",
         "type": "bar",
         "x": [
          0.10000000000000009
         ],
         "xaxis": "x",
         "y": [
          "GB"
         ],
         "yaxis": "y"
        },
        {
         "alignmentgroup": "True",
         "hovertemplate": "team=%{y}<br>ovr_dif=%{x}<extra></extra>",
         "legendgroup": "LA",
         "marker": {
          "color": "#003594",
          "pattern": {
           "shape": ""
          }
         },
         "name": "LA",
         "offsetgroup": "LA",
         "orientation": "h",
         "showlegend": false,
         "textposition": "auto",
         "type": "bar",
         "x": [
          -1.1
         ],
         "xaxis": "x",
         "y": [
          "LA"
         ],
         "yaxis": "y"
        },
        {
         "alignmentgroup": "True",
         "hovertemplate": "team=%{y}<br>ovr_dif=%{x}<extra></extra>",
         "legendgroup": "LV",
         "marker": {
          "color": "#000000",
          "pattern": {
           "shape": ""
          }
         },
         "name": "LV",
         "offsetgroup": "LV",
         "orientation": "h",
         "showlegend": false,
         "textposition": "auto",
         "type": "bar",
         "x": [
          0
         ],
         "xaxis": "x",
         "y": [
          "LV"
         ],
         "yaxis": "y"
        },
        {
         "alignmentgroup": "True",
         "hovertemplate": "team=%{y}<br>ovr_dif=%{x}<extra></extra>",
         "legendgroup": "NYG",
         "marker": {
          "color": "#0B2265",
          "pattern": {
           "shape": ""
          }
         },
         "name": "NYG",
         "offsetgroup": "NYG",
         "orientation": "h",
         "showlegend": false,
         "textposition": "auto",
         "type": "bar",
         "x": [
          -0.9000000000000004
         ],
         "xaxis": "x",
         "y": [
          "NYG"
         ],
         "yaxis": "y"
        },
        {
         "alignmentgroup": "True",
         "hovertemplate": "team=%{y}<br>ovr_dif=%{x}<extra></extra>",
         "legendgroup": "ARI",
         "marker": {
          "color": "#97233F",
          "pattern": {
           "shape": ""
          }
         },
         "name": "ARI",
         "offsetgroup": "ARI",
         "orientation": "h",
         "showlegend": false,
         "textposition": "auto",
         "type": "bar",
         "x": [
          0.8999999999999995
         ],
         "xaxis": "x",
         "y": [
          "ARI"
         ],
         "yaxis": "y"
        },
        {
         "alignmentgroup": "True",
         "hovertemplate": "team=%{y}<br>ovr_dif=%{x}<extra></extra>",
         "legendgroup": "CHI",
         "marker": {
          "color": "#E64100",
          "pattern": {
           "shape": ""
          }
         },
         "name": "CHI",
         "offsetgroup": "CHI",
         "orientation": "h",
         "showlegend": false,
         "textposition": "auto",
         "type": "bar",
         "x": [
          0.10000000000000053
         ],
         "xaxis": "x",
         "y": [
          "CHI"
         ],
         "yaxis": "y"
        },
        {
         "alignmentgroup": "True",
         "hovertemplate": "team=%{y}<br>ovr_dif=%{x}<extra></extra>",
         "legendgroup": "CAR",
         "marker": {
          "color": "#0085CA",
          "pattern": {
           "shape": ""
          }
         },
         "name": "CAR",
         "offsetgroup": "CAR",
         "orientation": "h",
         "showlegend": false,
         "textposition": "auto",
         "type": "bar",
         "x": [
          -0.10000000000000053
         ],
         "xaxis": "x",
         "y": [
          "CAR"
         ],
         "yaxis": "y"
        }
       ],
       "layout": {
        "barmode": "relative",
        "height": 1000,
        "images": [
         {
          "opacity": 1,
          "sizex": 1.25,
          "sizey": 1.25,
          "sizing": "contain",
          "source": "https://a.espncdn.com/i/teamlogos/nfl/500/KC.png",
          "x": 0.2999999999999998,
          "xanchor": "center",
          "xref": "x",
          "y": "KC",
          "yanchor": "middle",
          "yref": "y"
         },
         {
          "opacity": 1,
          "sizex": 1.25,
          "sizey": 1.25,
          "sizing": "contain",
          "source": "https://a.espncdn.com/i/teamlogos/nfl/500/PHI.png",
          "x": 0.20000000000000018,
          "xanchor": "center",
          "xref": "x",
          "y": "PHI",
          "yanchor": "middle",
          "yref": "y"
         },
         {
          "opacity": 1,
          "sizex": 1.25,
          "sizey": 1.25,
          "sizing": "contain",
          "source": "https://a.espncdn.com/i/teamlogos/nfl/500/BAL.png",
          "x": 1.2000000000000002,
          "xanchor": "center",
          "xref": "x",
          "y": "BAL",
          "yanchor": "middle",
          "yref": "y"
         },
         {
          "opacity": 1,
          "sizex": 1.25,
          "sizey": 1.25,
          "sizing": "contain",
          "source": "https://a.espncdn.com/i/teamlogos/nfl/500/SF.png",
          "x": 0,
          "xanchor": "center",
          "xref": "x",
          "y": "SF",
          "yanchor": "middle",
          "yref": "y"
         },
         {
          "opacity": 1,
          "sizex": 1.25,
          "sizey": 1.25,
          "sizing": "contain",
          "source": "https://a.espncdn.com/i/teamlogos/nfl/500/MIA.png",
          "x": 0.5999999999999996,
          "xanchor": "center",
          "xref": "x",
          "y": "MIA",
          "yanchor": "middle",
          "yref": "y"
         },
         {
          "opacity": 1,
          "sizex": 1.25,
          "sizey": 1.25,
          "sizing": "contain",
          "source": "https://a.espncdn.com/i/teamlogos/nfl/500/CIN.png",
          "x": 0.7000000000000002,
          "xanchor": "center",
          "xref": "x",
          "y": "CIN",
          "yanchor": "middle",
          "yref": "y"
         },
         {
          "opacity": 1,
          "sizex": 1.25,
          "sizey": 1.25,
          "sizing": "contain",
          "source": "https://a.espncdn.com/i/teamlogos/nfl/500/DAL.png",
          "x": -0.20000000000000018,
          "xanchor": "center",
          "xref": "x",
          "y": "DAL",
          "yanchor": "middle",
          "yref": "y"
         },
         {
          "opacity": 1,
          "sizex": 1.25,
          "sizey": 1.25,
          "sizing": "contain",
          "source": "https://a.espncdn.com/i/teamlogos/nfl/500/BUF.png",
          "x": -0.39999999999999947,
          "xanchor": "center",
          "xref": "x",
          "y": "BUF",
          "yanchor": "middle",
          "yref": "y"
         },
         {
          "opacity": 1,
          "sizex": 1.25,
          "sizey": 1.25,
          "sizing": "contain",
          "source": "https://a.espncdn.com/i/teamlogos/nfl/500/DET.png",
          "x": 0.3999999999999999,
          "xanchor": "center",
          "xref": "x",
          "y": "DET",
          "yanchor": "middle",
          "yref": "y"
         },
         {
          "opacity": 1,
          "sizex": 1.25,
          "sizey": 1.25,
          "sizing": "contain",
          "source": "https://a.espncdn.com/i/teamlogos/nfl/500/JAX.png",
          "x": 0,
          "xanchor": "center",
          "xref": "x",
          "y": "JAX",
          "yanchor": "middle",
          "yref": "y"
         },
         {
          "opacity": 1,
          "sizex": 1.25,
          "sizey": 1.25,
          "sizing": "contain",
          "source": "https://a.espncdn.com/i/teamlogos/nfl/500/CLE.png",
          "x": 1.9,
          "xanchor": "center",
          "xref": "x",
          "y": "CLE",
          "yanchor": "middle",
          "yref": "y"
         },
         {
          "opacity": 1,
          "sizex": 1.25,
          "sizey": 1.25,
          "sizing": "contain",
          "source": "https://a.espncdn.com/i/teamlogos/nfl/500/LAC.png",
          "x": 0,
          "xanchor": "center",
          "xref": "x",
          "y": "LAC",
          "yanchor": "middle",
          "yref": "y"
         },
         {
          "opacity": 1,
          "sizex": 1.25,
          "sizey": 1.25,
          "sizing": "contain",
          "source": "https://a.espncdn.com/i/teamlogos/nfl/500/SEA.png",
          "x": -0.2999999999999998,
          "xanchor": "center",
          "xref": "x",
          "y": "SEA",
          "yanchor": "middle",
          "yref": "y"
         },
         {
          "opacity": 1,
          "sizex": 1.25,
          "sizey": 1.25,
          "sizing": "contain",
          "source": "https://a.espncdn.com/i/teamlogos/nfl/500/NO.png",
          "x": 0,
          "xanchor": "center",
          "xref": "x",
          "y": "NO",
          "yanchor": "middle",
          "yref": "y"
         },
         {
          "opacity": 1,
          "sizex": 1.25,
          "sizey": 1.25,
          "sizing": "contain",
          "source": "https://a.espncdn.com/i/teamlogos/nfl/500/IND.png",
          "x": 0.2,
          "xanchor": "center",
          "xref": "x",
          "y": "IND",
          "yanchor": "middle",
          "yref": "y"
         },
         {
          "opacity": 1,
          "sizex": 1.25,
          "sizey": 1.25,
          "sizing": "contain",
          "source": "https://a.espncdn.com/i/teamlogos/nfl/500/HOU.png",
          "x": 0.8,
          "xanchor": "center",
          "xref": "x",
          "y": "HOU",
          "yanchor": "middle",
          "yref": "y"
         },
         {
          "opacity": 1,
          "sizex": 1.25,
          "sizey": 1.25,
          "sizing": "contain",
          "source": "https://a.espncdn.com/i/teamlogos/nfl/500/ATL.png",
          "x": -0.09999999999999998,
          "xanchor": "center",
          "xref": "x",
          "y": "ATL",
          "yanchor": "middle",
          "yref": "y"
         },
         {
          "opacity": 1,
          "sizex": 1.25,
          "sizey": 1.25,
          "sizing": "contain",
          "source": "https://a.espncdn.com/i/teamlogos/nfl/500/NYJ.png",
          "x": 0,
          "xanchor": "center",
          "xref": "x",
          "y": "NYJ",
          "yanchor": "middle",
          "yref": "y"
         },
         {
          "opacity": 1,
          "sizex": 1.25,
          "sizey": 1.25,
          "sizing": "contain",
          "source": "https://a.espncdn.com/i/teamlogos/nfl/500/PIT.png",
          "x": -0.10000000000000009,
          "xanchor": "center",
          "xref": "x",
          "y": "PIT",
          "yanchor": "middle",
          "yref": "y"
         },
         {
          "opacity": 1,
          "sizex": 1.25,
          "sizey": 1.25,
          "sizing": "contain",
          "source": "https://a.espncdn.com/i/teamlogos/nfl/500/TEN.png",
          "x": 0,
          "xanchor": "center",
          "xref": "x",
          "y": "TEN",
          "yanchor": "middle",
          "yref": "y"
         },
         {
          "opacity": 1,
          "sizex": 1.25,
          "sizey": 1.25,
          "sizing": "contain",
          "source": "https://a.espncdn.com/i/teamlogos/nfl/500/WAS.png",
          "x": 0.20000000000000018,
          "xanchor": "center",
          "xref": "x",
          "y": "WAS",
          "yanchor": "middle",
          "yref": "y"
         },
         {
          "opacity": 1,
          "sizex": 1.25,
          "sizey": 1.25,
          "sizing": "contain",
          "source": "https://a.espncdn.com/i/teamlogos/nfl/500/TB.png",
          "x": 0.10000000000000009,
          "xanchor": "center",
          "xref": "x",
          "y": "TB",
          "yanchor": "middle",
          "yref": "y"
         },
         {
          "opacity": 1,
          "sizex": 1.25,
          "sizey": 1.25,
          "sizing": "contain",
          "source": "https://a.espncdn.com/i/teamlogos/nfl/500/DEN.png",
          "x": 0,
          "xanchor": "center",
          "xref": "x",
          "y": "DEN",
          "yanchor": "middle",
          "yref": "y"
         },
         {
          "opacity": 1,
          "sizex": 1.25,
          "sizey": 1.25,
          "sizing": "contain",
          "source": "https://a.espncdn.com/i/teamlogos/nfl/500/MIN.png",
          "x": 0.2999999999999998,
          "xanchor": "center",
          "xref": "x",
          "y": "MIN",
          "yanchor": "middle",
          "yref": "y"
         },
         {
          "opacity": 1,
          "sizex": 1.25,
          "sizey": 1.25,
          "sizing": "contain",
          "source": "https://a.espncdn.com/i/teamlogos/nfl/500/NE.png",
          "x": -0.09999999999999964,
          "xanchor": "center",
          "xref": "x",
          "y": "NE",
          "yanchor": "middle",
          "yref": "y"
         },
         {
          "opacity": 1,
          "sizex": 1.25,
          "sizey": 1.25,
          "sizing": "contain",
          "source": "https://a.espncdn.com/i/teamlogos/nfl/500/GB.png",
          "x": 0.10000000000000009,
          "xanchor": "center",
          "xref": "x",
          "y": "GB",
          "yanchor": "middle",
          "yref": "y"
         },
         {
          "opacity": 1,
          "sizex": 1.25,
          "sizey": 1.25,
          "sizing": "contain",
          "source": "https://a.espncdn.com/i/teamlogos/nfl/500/LA.png",
          "x": -1.1,
          "xanchor": "center",
          "xref": "x",
          "y": "LA",
          "yanchor": "middle",
          "yref": "y"
         },
         {
          "opacity": 1,
          "sizex": 1.25,
          "sizey": 1.25,
          "sizing": "contain",
          "source": "https://a.espncdn.com/i/teamlogos/nfl/500/LV.png",
          "x": 0,
          "xanchor": "center",
          "xref": "x",
          "y": "LV",
          "yanchor": "middle",
          "yref": "y"
         },
         {
          "opacity": 1,
          "sizex": 1.25,
          "sizey": 1.25,
          "sizing": "contain",
          "source": "https://a.espncdn.com/i/teamlogos/nfl/500/NYG.png",
          "x": -0.9000000000000004,
          "xanchor": "center",
          "xref": "x",
          "y": "NYG",
          "yanchor": "middle",
          "yref": "y"
         },
         {
          "opacity": 1,
          "sizex": 1.25,
          "sizey": 1.25,
          "sizing": "contain",
          "source": "https://a.espncdn.com/i/teamlogos/nfl/500/ARI.png",
          "x": 0.8999999999999995,
          "xanchor": "center",
          "xref": "x",
          "y": "ARI",
          "yanchor": "middle",
          "yref": "y"
         },
         {
          "opacity": 1,
          "sizex": 1.25,
          "sizey": 1.25,
          "sizing": "contain",
          "source": "https://a.espncdn.com/i/teamlogos/nfl/500/CHI.png",
          "x": 0.10000000000000053,
          "xanchor": "center",
          "xref": "x",
          "y": "CHI",
          "yanchor": "middle",
          "yref": "y"
         },
         {
          "opacity": 1,
          "sizex": 1.25,
          "sizey": 1.25,
          "sizing": "contain",
          "source": "https://a.espncdn.com/i/teamlogos/nfl/500/CAR.png",
          "x": -0.10000000000000053,
          "xanchor": "center",
          "xref": "x",
          "y": "CAR",
          "yanchor": "middle",
          "yref": "y"
         }
        ],
        "legend": {
         "title": {
          "text": "team"
         },
         "tracegroupgap": 0
        },
        "margin": {
         "t": 60
        },
        "template": {
         "data": {
          "bar": [
           {
            "error_x": {
             "color": "#2a3f5f"
            },
            "error_y": {
             "color": "#2a3f5f"
            },
            "marker": {
             "line": {
              "color": "#E5ECF6",
              "width": 0.5
             },
             "pattern": {
              "fillmode": "overlay",
              "size": 10,
              "solidity": 0.2
             }
            },
            "type": "bar"
           }
          ],
          "barpolar": [
           {
            "marker": {
             "line": {
              "color": "#E5ECF6",
              "width": 0.5
             },
             "pattern": {
              "fillmode": "overlay",
              "size": 10,
              "solidity": 0.2
             }
            },
            "type": "barpolar"
           }
          ],
          "carpet": [
           {
            "aaxis": {
             "endlinecolor": "#2a3f5f",
             "gridcolor": "white",
             "linecolor": "white",
             "minorgridcolor": "white",
             "startlinecolor": "#2a3f5f"
            },
            "baxis": {
             "endlinecolor": "#2a3f5f",
             "gridcolor": "white",
             "linecolor": "white",
             "minorgridcolor": "white",
             "startlinecolor": "#2a3f5f"
            },
            "type": "carpet"
           }
          ],
          "choropleth": [
           {
            "colorbar": {
             "outlinewidth": 0,
             "ticks": ""
            },
            "type": "choropleth"
           }
          ],
          "contour": [
           {
            "colorbar": {
             "outlinewidth": 0,
             "ticks": ""
            },
            "colorscale": [
             [
              0,
              "#0d0887"
             ],
             [
              0.1111111111111111,
              "#46039f"
             ],
             [
              0.2222222222222222,
              "#7201a8"
             ],
             [
              0.3333333333333333,
              "#9c179e"
             ],
             [
              0.4444444444444444,
              "#bd3786"
             ],
             [
              0.5555555555555556,
              "#d8576b"
             ],
             [
              0.6666666666666666,
              "#ed7953"
             ],
             [
              0.7777777777777778,
              "#fb9f3a"
             ],
             [
              0.8888888888888888,
              "#fdca26"
             ],
             [
              1,
              "#f0f921"
             ]
            ],
            "type": "contour"
           }
          ],
          "contourcarpet": [
           {
            "colorbar": {
             "outlinewidth": 0,
             "ticks": ""
            },
            "type": "contourcarpet"
           }
          ],
          "heatmap": [
           {
            "colorbar": {
             "outlinewidth": 0,
             "ticks": ""
            },
            "colorscale": [
             [
              0,
              "#0d0887"
             ],
             [
              0.1111111111111111,
              "#46039f"
             ],
             [
              0.2222222222222222,
              "#7201a8"
             ],
             [
              0.3333333333333333,
              "#9c179e"
             ],
             [
              0.4444444444444444,
              "#bd3786"
             ],
             [
              0.5555555555555556,
              "#d8576b"
             ],
             [
              0.6666666666666666,
              "#ed7953"
             ],
             [
              0.7777777777777778,
              "#fb9f3a"
             ],
             [
              0.8888888888888888,
              "#fdca26"
             ],
             [
              1,
              "#f0f921"
             ]
            ],
            "type": "heatmap"
           }
          ],
          "heatmapgl": [
           {
            "colorbar": {
             "outlinewidth": 0,
             "ticks": ""
            },
            "colorscale": [
             [
              0,
              "#0d0887"
             ],
             [
              0.1111111111111111,
              "#46039f"
             ],
             [
              0.2222222222222222,
              "#7201a8"
             ],
             [
              0.3333333333333333,
              "#9c179e"
             ],
             [
              0.4444444444444444,
              "#bd3786"
             ],
             [
              0.5555555555555556,
              "#d8576b"
             ],
             [
              0.6666666666666666,
              "#ed7953"
             ],
             [
              0.7777777777777778,
              "#fb9f3a"
             ],
             [
              0.8888888888888888,
              "#fdca26"
             ],
             [
              1,
              "#f0f921"
             ]
            ],
            "type": "heatmapgl"
           }
          ],
          "histogram": [
           {
            "marker": {
             "pattern": {
              "fillmode": "overlay",
              "size": 10,
              "solidity": 0.2
             }
            },
            "type": "histogram"
           }
          ],
          "histogram2d": [
           {
            "colorbar": {
             "outlinewidth": 0,
             "ticks": ""
            },
            "colorscale": [
             [
              0,
              "#0d0887"
             ],
             [
              0.1111111111111111,
              "#46039f"
             ],
             [
              0.2222222222222222,
              "#7201a8"
             ],
             [
              0.3333333333333333,
              "#9c179e"
             ],
             [
              0.4444444444444444,
              "#bd3786"
             ],
             [
              0.5555555555555556,
              "#d8576b"
             ],
             [
              0.6666666666666666,
              "#ed7953"
             ],
             [
              0.7777777777777778,
              "#fb9f3a"
             ],
             [
              0.8888888888888888,
              "#fdca26"
             ],
             [
              1,
              "#f0f921"
             ]
            ],
            "type": "histogram2d"
           }
          ],
          "histogram2dcontour": [
           {
            "colorbar": {
             "outlinewidth": 0,
             "ticks": ""
            },
            "colorscale": [
             [
              0,
              "#0d0887"
             ],
             [
              0.1111111111111111,
              "#46039f"
             ],
             [
              0.2222222222222222,
              "#7201a8"
             ],
             [
              0.3333333333333333,
              "#9c179e"
             ],
             [
              0.4444444444444444,
              "#bd3786"
             ],
             [
              0.5555555555555556,
              "#d8576b"
             ],
             [
              0.6666666666666666,
              "#ed7953"
             ],
             [
              0.7777777777777778,
              "#fb9f3a"
             ],
             [
              0.8888888888888888,
              "#fdca26"
             ],
             [
              1,
              "#f0f921"
             ]
            ],
            "type": "histogram2dcontour"
           }
          ],
          "mesh3d": [
           {
            "colorbar": {
             "outlinewidth": 0,
             "ticks": ""
            },
            "type": "mesh3d"
           }
          ],
          "parcoords": [
           {
            "line": {
             "colorbar": {
              "outlinewidth": 0,
              "ticks": ""
             }
            },
            "type": "parcoords"
           }
          ],
          "pie": [
           {
            "automargin": true,
            "type": "pie"
           }
          ],
          "scatter": [
           {
            "fillpattern": {
             "fillmode": "overlay",
             "size": 10,
             "solidity": 0.2
            },
            "type": "scatter"
           }
          ],
          "scatter3d": [
           {
            "line": {
             "colorbar": {
              "outlinewidth": 0,
              "ticks": ""
             }
            },
            "marker": {
             "colorbar": {
              "outlinewidth": 0,
              "ticks": ""
             }
            },
            "type": "scatter3d"
           }
          ],
          "scattercarpet": [
           {
            "marker": {
             "colorbar": {
              "outlinewidth": 0,
              "ticks": ""
             }
            },
            "type": "scattercarpet"
           }
          ],
          "scattergeo": [
           {
            "marker": {
             "colorbar": {
              "outlinewidth": 0,
              "ticks": ""
             }
            },
            "type": "scattergeo"
           }
          ],
          "scattergl": [
           {
            "marker": {
             "colorbar": {
              "outlinewidth": 0,
              "ticks": ""
             }
            },
            "type": "scattergl"
           }
          ],
          "scattermapbox": [
           {
            "marker": {
             "colorbar": {
              "outlinewidth": 0,
              "ticks": ""
             }
            },
            "type": "scattermapbox"
           }
          ],
          "scatterpolar": [
           {
            "marker": {
             "colorbar": {
              "outlinewidth": 0,
              "ticks": ""
             }
            },
            "type": "scatterpolar"
           }
          ],
          "scatterpolargl": [
           {
            "marker": {
             "colorbar": {
              "outlinewidth": 0,
              "ticks": ""
             }
            },
            "type": "scatterpolargl"
           }
          ],
          "scatterternary": [
           {
            "marker": {
             "colorbar": {
              "outlinewidth": 0,
              "ticks": ""
             }
            },
            "type": "scatterternary"
           }
          ],
          "surface": [
           {
            "colorbar": {
             "outlinewidth": 0,
             "ticks": ""
            },
            "colorscale": [
             [
              0,
              "#0d0887"
             ],
             [
              0.1111111111111111,
              "#46039f"
             ],
             [
              0.2222222222222222,
              "#7201a8"
             ],
             [
              0.3333333333333333,
              "#9c179e"
             ],
             [
              0.4444444444444444,
              "#bd3786"
             ],
             [
              0.5555555555555556,
              "#d8576b"
             ],
             [
              0.6666666666666666,
              "#ed7953"
             ],
             [
              0.7777777777777778,
              "#fb9f3a"
             ],
             [
              0.8888888888888888,
              "#fdca26"
             ],
             [
              1,
              "#f0f921"
             ]
            ],
            "type": "surface"
           }
          ],
          "table": [
           {
            "cells": {
             "fill": {
              "color": "#EBF0F8"
             },
             "line": {
              "color": "white"
             }
            },
            "header": {
             "fill": {
              "color": "#C8D4E3"
             },
             "line": {
              "color": "white"
             }
            },
            "type": "table"
           }
          ]
         },
         "layout": {
          "annotationdefaults": {
           "arrowcolor": "#2a3f5f",
           "arrowhead": 0,
           "arrowwidth": 1
          },
          "autotypenumbers": "strict",
          "coloraxis": {
           "colorbar": {
            "outlinewidth": 0,
            "ticks": ""
           }
          },
          "colorscale": {
           "diverging": [
            [
             0,
             "#8e0152"
            ],
            [
             0.1,
             "#c51b7d"
            ],
            [
             0.2,
             "#de77ae"
            ],
            [
             0.3,
             "#f1b6da"
            ],
            [
             0.4,
             "#fde0ef"
            ],
            [
             0.5,
             "#f7f7f7"
            ],
            [
             0.6,
             "#e6f5d0"
            ],
            [
             0.7,
             "#b8e186"
            ],
            [
             0.8,
             "#7fbc41"
            ],
            [
             0.9,
             "#4d9221"
            ],
            [
             1,
             "#276419"
            ]
           ],
           "sequential": [
            [
             0,
             "#0d0887"
            ],
            [
             0.1111111111111111,
             "#46039f"
            ],
            [
             0.2222222222222222,
             "#7201a8"
            ],
            [
             0.3333333333333333,
             "#9c179e"
            ],
            [
             0.4444444444444444,
             "#bd3786"
            ],
            [
             0.5555555555555556,
             "#d8576b"
            ],
            [
             0.6666666666666666,
             "#ed7953"
            ],
            [
             0.7777777777777778,
             "#fb9f3a"
            ],
            [
             0.8888888888888888,
             "#fdca26"
            ],
            [
             1,
             "#f0f921"
            ]
           ],
           "sequentialminus": [
            [
             0,
             "#0d0887"
            ],
            [
             0.1111111111111111,
             "#46039f"
            ],
            [
             0.2222222222222222,
             "#7201a8"
            ],
            [
             0.3333333333333333,
             "#9c179e"
            ],
            [
             0.4444444444444444,
             "#bd3786"
            ],
            [
             0.5555555555555556,
             "#d8576b"
            ],
            [
             0.6666666666666666,
             "#ed7953"
            ],
            [
             0.7777777777777778,
             "#fb9f3a"
            ],
            [
             0.8888888888888888,
             "#fdca26"
            ],
            [
             1,
             "#f0f921"
            ]
           ]
          },
          "colorway": [
           "#636efa",
           "#EF553B",
           "#00cc96",
           "#ab63fa",
           "#FFA15A",
           "#19d3f3",
           "#FF6692",
           "#B6E880",
           "#FF97FF",
           "#FECB52"
          ],
          "font": {
           "color": "#2a3f5f"
          },
          "geo": {
           "bgcolor": "white",
           "lakecolor": "white",
           "landcolor": "#E5ECF6",
           "showlakes": true,
           "showland": true,
           "subunitcolor": "white"
          },
          "hoverlabel": {
           "align": "left"
          },
          "hovermode": "closest",
          "mapbox": {
           "style": "light"
          },
          "paper_bgcolor": "white",
          "plot_bgcolor": "#E5ECF6",
          "polar": {
           "angularaxis": {
            "gridcolor": "white",
            "linecolor": "white",
            "ticks": ""
           },
           "bgcolor": "#E5ECF6",
           "radialaxis": {
            "gridcolor": "white",
            "linecolor": "white",
            "ticks": ""
           }
          },
          "scene": {
           "xaxis": {
            "backgroundcolor": "#E5ECF6",
            "gridcolor": "white",
            "gridwidth": 2,
            "linecolor": "white",
            "showbackground": true,
            "ticks": "",
            "zerolinecolor": "white"
           },
           "yaxis": {
            "backgroundcolor": "#E5ECF6",
            "gridcolor": "white",
            "gridwidth": 2,
            "linecolor": "white",
            "showbackground": true,
            "ticks": "",
            "zerolinecolor": "white"
           },
           "zaxis": {
            "backgroundcolor": "#E5ECF6",
            "gridcolor": "white",
            "gridwidth": 2,
            "linecolor": "white",
            "showbackground": true,
            "ticks": "",
            "zerolinecolor": "white"
           }
          },
          "shapedefaults": {
           "line": {
            "color": "#2a3f5f"
           }
          },
          "ternary": {
           "aaxis": {
            "gridcolor": "white",
            "linecolor": "white",
            "ticks": ""
           },
           "baxis": {
            "gridcolor": "white",
            "linecolor": "white",
            "ticks": ""
           },
           "bgcolor": "#E5ECF6",
           "caxis": {
            "gridcolor": "white",
            "linecolor": "white",
            "ticks": ""
           }
          },
          "title": {
           "x": 0.05
          },
          "xaxis": {
           "automargin": true,
           "gridcolor": "white",
           "linecolor": "white",
           "ticks": "",
           "title": {
            "standoff": 15
           },
           "zerolinecolor": "white",
           "zerolinewidth": 2
          },
          "yaxis": {
           "automargin": true,
           "gridcolor": "white",
           "linecolor": "white",
           "ticks": "",
           "title": {
            "standoff": 15
           },
           "zerolinecolor": "white",
           "zerolinewidth": 2
          }
         }
        },
        "title": {
         "text": "Week 10 Power Ratings"
        },
        "width": 800,
        "xaxis": {
         "anchor": "y",
         "domain": [
          0,
          1
         ],
         "title": {
          "text": "Generic Points Favored"
         }
        },
        "yaxis": {
         "anchor": "x",
         "categoryarray": [
          "CAR",
          "CHI",
          "ARI",
          "NYG",
          "LV",
          "LA",
          "GB",
          "NE",
          "MIN",
          "DEN",
          "TB",
          "WAS",
          "TEN",
          "PIT",
          "NYJ",
          "ATL",
          "HOU",
          "IND",
          "NO",
          "SEA",
          "LAC",
          "CLE",
          "JAX",
          "DET",
          "BUF",
          "DAL",
          "CIN",
          "MIA",
          "SF",
          "BAL",
          "PHI",
          "KC"
         ],
         "categoryorder": "total ascending",
         "domain": [
          0,
          1
         ],
         "title": {
          "text": "Teams"
         }
        }
       }
      }
     },
     "metadata": {},
     "output_type": "display_data"
    }
   ],
   "source": [
    "col = 'ovr_dif'\n",
    "\n",
    "# Create the bar chart\n",
    "fig = px.bar(movement, x=col, y='team', orientation='h', color='team', color_discrete_map=utils.team_unique_colors)\n",
    "fig.update_yaxes(categoryorder='total ascending')\n",
    "fig.update_layout(\n",
    "    height=1000,\n",
    "    width=800,\n",
    "    xaxis_title=f'Generic Points Favored',\n",
    "    yaxis_title='Teams',\n",
    "    title=f'Week {WEEK} Power Ratings',\n",
    ")\n",
    "fig.update_traces(showlegend=False)\n",
    "\n",
    "# Iterate through the data and add logos to the chart\n",
    "for index, row in movement.iterrows():\n",
    "    team = row['team']\n",
    "    scale = 1.25\n",
    "    fig.add_layout_image(\n",
    "        dict(source=f'https://a.espncdn.com/i/teamlogos/nfl/500/{team}.png',\n",
    "            x=row[col],  # Adjust the position\n",
    "            y=team,\n",
    "            xref=\"x\",\n",
    "            yref=\"y\",\n",
    "            sizex=scale,  # Adjust the size\n",
    "            sizey=scale,  # Adjust the size\n",
    "            sizing=\"contain\",\n",
    "            opacity=1,\n",
    "            xanchor=\"center\",\n",
    "            yanchor=\"middle\",        \n",
    "        )\n",
    "    )\n",
    "\n",
    "# Show the chart\n",
    "fig.show()"
   ]
  },
  {
   "cell_type": "code",
   "execution_count": 15,
   "metadata": {},
   "outputs": [
    {
     "data": {
      "application/vnd.plotly.v1+json": {
       "config": {
        "plotlyServerURL": "https://plot.ly"
       },
       "data": [
        {
         "hovertemplate": "team=KC<br>off=%{x}<br>def=%{y}<extra></extra>",
         "legendgroup": "KC",
         "marker": {
          "color": "#E31837",
          "opacity": 0,
          "symbol": "circle"
         },
         "mode": "markers",
         "name": "KC",
         "orientation": "v",
         "showlegend": false,
         "type": "scatter",
         "x": [
          4.3
         ],
         "xaxis": "x",
         "y": [
          2.5
         ],
         "yaxis": "y"
        },
        {
         "hovertemplate": "team=PHI<br>off=%{x}<br>def=%{y}<extra></extra>",
         "legendgroup": "PHI",
         "marker": {
          "color": "#004C54",
          "opacity": 0,
          "symbol": "circle"
         },
         "mode": "markers",
         "name": "PHI",
         "orientation": "v",
         "showlegend": false,
         "type": "scatter",
         "x": [
          4.5
         ],
         "xaxis": "x",
         "y": [
          1.9
         ],
         "yaxis": "y"
        },
        {
         "hovertemplate": "team=BAL<br>off=%{x}<br>def=%{y}<extra></extra>",
         "legendgroup": "BAL",
         "marker": {
          "color": "#241773",
          "opacity": 0,
          "symbol": "circle"
         },
         "mode": "markers",
         "name": "BAL",
         "orientation": "v",
         "showlegend": false,
         "type": "scatter",
         "x": [
          3.1
         ],
         "xaxis": "x",
         "y": [
          3.2
         ],
         "yaxis": "y"
        },
        {
         "hovertemplate": "team=SF<br>off=%{x}<br>def=%{y}<extra></extra>",
         "legendgroup": "SF",
         "marker": {
          "color": "#B3995D",
          "opacity": 0,
          "symbol": "circle"
         },
         "mode": "markers",
         "name": "SF",
         "orientation": "v",
         "showlegend": false,
         "type": "scatter",
         "x": [
          3.1
         ],
         "xaxis": "x",
         "y": [
          2.8
         ],
         "yaxis": "y"
        },
        {
         "hovertemplate": "team=MIA<br>off=%{x}<br>def=%{y}<extra></extra>",
         "legendgroup": "MIA",
         "marker": {
          "color": "#008E97",
          "opacity": 0,
          "symbol": "circle"
         },
         "mode": "markers",
         "name": "MIA",
         "orientation": "v",
         "showlegend": false,
         "type": "scatter",
         "x": [
          5.4
         ],
         "xaxis": "x",
         "y": [
          0.1
         ],
         "yaxis": "y"
        },
        {
         "hovertemplate": "team=CIN<br>off=%{x}<br>def=%{y}<extra></extra>",
         "legendgroup": "CIN",
         "marker": {
          "color": "#FB4F14",
          "opacity": 0,
          "symbol": "circle"
         },
         "mode": "markers",
         "name": "CIN",
         "orientation": "v",
         "showlegend": false,
         "type": "scatter",
         "x": [
          3.8
         ],
         "xaxis": "x",
         "y": [
          1.6
         ],
         "yaxis": "y"
        },
        {
         "hovertemplate": "team=DAL<br>off=%{x}<br>def=%{y}<extra></extra>",
         "legendgroup": "DAL",
         "marker": {
          "color": "#002244",
          "opacity": 0,
          "symbol": "circle"
         },
         "mode": "markers",
         "name": "DAL",
         "orientation": "v",
         "showlegend": false,
         "type": "scatter",
         "x": [
          2.4
         ],
         "xaxis": "x",
         "y": [
          2.2
         ],
         "yaxis": "y"
        },
        {
         "hovertemplate": "team=BUF<br>off=%{x}<br>def=%{y}<extra></extra>",
         "legendgroup": "BUF",
         "marker": {
          "color": "#00338D",
          "opacity": 0,
          "symbol": "circle"
         },
         "mode": "markers",
         "name": "BUF",
         "orientation": "v",
         "showlegend": false,
         "type": "scatter",
         "x": [
          3.2
         ],
         "xaxis": "x",
         "y": [
          0.5
         ],
         "yaxis": "y"
        },
        {
         "hovertemplate": "team=DET<br>off=%{x}<br>def=%{y}<extra></extra>",
         "legendgroup": "DET",
         "marker": {
          "color": "#0076B6",
          "opacity": 0,
          "symbol": "circle"
         },
         "mode": "markers",
         "name": "DET",
         "orientation": "v",
         "showlegend": false,
         "type": "scatter",
         "x": [
          2.6
         ],
         "xaxis": "x",
         "y": [
          0.3
         ],
         "yaxis": "y"
        },
        {
         "hovertemplate": "team=JAX<br>off=%{x}<br>def=%{y}<extra></extra>",
         "legendgroup": "JAX",
         "marker": {
          "color": "#006778",
          "opacity": 0,
          "symbol": "circle"
         },
         "mode": "markers",
         "name": "JAX",
         "orientation": "v",
         "showlegend": false,
         "type": "scatter",
         "x": [
          1.8
         ],
         "xaxis": "x",
         "y": [
          0.9
         ],
         "yaxis": "y"
        },
        {
         "hovertemplate": "team=CLE<br>off=%{x}<br>def=%{y}<extra></extra>",
         "legendgroup": "CLE",
         "marker": {
          "color": "#FF3C00",
          "opacity": 0,
          "symbol": "circle"
         },
         "mode": "markers",
         "name": "CLE",
         "orientation": "v",
         "showlegend": false,
         "type": "scatter",
         "x": [
          -1.5
         ],
         "xaxis": "x",
         "y": [
          3.4
         ],
         "yaxis": "y"
        },
        {
         "hovertemplate": "team=LAC<br>off=%{x}<br>def=%{y}<extra></extra>",
         "legendgroup": "LAC",
         "marker": {
          "color": "#007BC7",
          "opacity": 0,
          "symbol": "circle"
         },
         "mode": "markers",
         "name": "LAC",
         "orientation": "v",
         "showlegend": false,
         "type": "scatter",
         "x": [
          2.7
         ],
         "xaxis": "x",
         "y": [
          -1.2
         ],
         "yaxis": "y"
        },
        {
         "hovertemplate": "team=SEA<br>off=%{x}<br>def=%{y}<extra></extra>",
         "legendgroup": "SEA",
         "marker": {
          "color": "#69be28",
          "opacity": 0,
          "symbol": "circle"
         },
         "mode": "markers",
         "name": "SEA",
         "orientation": "v",
         "showlegend": false,
         "type": "scatter",
         "x": [
          0.7
         ],
         "xaxis": "x",
         "y": [
          0.4
         ],
         "yaxis": "y"
        },
        {
         "hovertemplate": "team=NO<br>off=%{x}<br>def=%{y}<extra></extra>",
         "legendgroup": "NO",
         "marker": {
          "color": "#D3BC8D",
          "opacity": 0,
          "symbol": "circle"
         },
         "mode": "markers",
         "name": "NO",
         "orientation": "v",
         "showlegend": false,
         "type": "scatter",
         "x": [
          0.5
         ],
         "xaxis": "x",
         "y": [
          0.3
         ],
         "yaxis": "y"
        },
        {
         "hovertemplate": "team=IND<br>off=%{x}<br>def=%{y}<extra></extra>",
         "legendgroup": "IND",
         "marker": {
          "color": "#002C5F",
          "opacity": 0,
          "symbol": "circle"
         },
         "mode": "markers",
         "name": "IND",
         "orientation": "v",
         "showlegend": false,
         "type": "scatter",
         "x": [
          0.6
         ],
         "xaxis": "x",
         "y": [
          -0.9
         ],
         "yaxis": "y"
        },
        {
         "hovertemplate": "team=HOU<br>off=%{x}<br>def=%{y}<extra></extra>",
         "legendgroup": "HOU",
         "marker": {
          "color": "#03202F",
          "opacity": 0,
          "symbol": "circle"
         },
         "mode": "markers",
         "name": "HOU",
         "orientation": "v",
         "showlegend": false,
         "type": "scatter",
         "x": [
          0.8
         ],
         "xaxis": "x",
         "y": [
          -1.6
         ],
         "yaxis": "y"
        },
        {
         "hovertemplate": "team=ATL<br>off=%{x}<br>def=%{y}<extra></extra>",
         "legendgroup": "ATL",
         "marker": {
          "color": "#A71930",
          "opacity": 0,
          "symbol": "circle"
         },
         "mode": "markers",
         "name": "ATL",
         "orientation": "v",
         "showlegend": false,
         "type": "scatter",
         "x": [
          -1.5
         ],
         "xaxis": "x",
         "y": [
          0.5
         ],
         "yaxis": "y"
        },
        {
         "hovertemplate": "team=NYJ<br>off=%{x}<br>def=%{y}<extra></extra>",
         "legendgroup": "NYJ",
         "marker": {
          "color": "#003F2D",
          "opacity": 0,
          "symbol": "circle"
         },
         "mode": "markers",
         "name": "NYJ",
         "orientation": "v",
         "showlegend": false,
         "type": "scatter",
         "x": [
          -4.7
         ],
         "xaxis": "x",
         "y": [
          3.4
         ],
         "yaxis": "y"
        },
        {
         "hovertemplate": "team=PIT<br>off=%{x}<br>def=%{y}<extra></extra>",
         "legendgroup": "PIT",
         "marker": {
          "color": "#000000",
          "opacity": 0,
          "symbol": "circle"
         },
         "mode": "markers",
         "name": "PIT",
         "orientation": "v",
         "showlegend": false,
         "type": "scatter",
         "x": [
          -2.4
         ],
         "xaxis": "x",
         "y": [
          0.8
         ],
         "yaxis": "y"
        },
        {
         "hovertemplate": "team=TEN<br>off=%{x}<br>def=%{y}<extra></extra>",
         "legendgroup": "TEN",
         "marker": {
          "color": "#4B92DB",
          "opacity": 0,
          "symbol": "circle"
         },
         "mode": "markers",
         "name": "TEN",
         "orientation": "v",
         "showlegend": false,
         "type": "scatter",
         "x": [
          -2.1
         ],
         "xaxis": "x",
         "y": [
          -0.2
         ],
         "yaxis": "y"
        },
        {
         "hovertemplate": "team=WAS<br>off=%{x}<br>def=%{y}<extra></extra>",
         "legendgroup": "WAS",
         "marker": {
          "color": "#5A1414",
          "opacity": 0,
          "symbol": "circle"
         },
         "mode": "markers",
         "name": "WAS",
         "orientation": "v",
         "showlegend": false,
         "type": "scatter",
         "x": [
          -1.8
         ],
         "xaxis": "x",
         "y": [
          -0.6
         ],
         "yaxis": "y"
        },
        {
         "hovertemplate": "team=TB<br>off=%{x}<br>def=%{y}<extra></extra>",
         "legendgroup": "TB",
         "marker": {
          "color": "#A71930",
          "opacity": 0,
          "symbol": "circle"
         },
         "mode": "markers",
         "name": "TB",
         "orientation": "v",
         "showlegend": false,
         "type": "scatter",
         "x": [
          -2.3
         ],
         "xaxis": "x",
         "y": [
          -0.2
         ],
         "yaxis": "y"
        },
        {
         "hovertemplate": "team=DEN<br>off=%{x}<br>def=%{y}<extra></extra>",
         "legendgroup": "DEN",
         "marker": {
          "color": "#FB4F14",
          "opacity": 0,
          "symbol": "circle"
         },
         "mode": "markers",
         "name": "DEN",
         "orientation": "v",
         "showlegend": false,
         "type": "scatter",
         "x": [
          -0.6
         ],
         "xaxis": "x",
         "y": [
          -1.9
         ],
         "yaxis": "y"
        },
        {
         "hovertemplate": "team=MIN<br>off=%{x}<br>def=%{y}<extra></extra>",
         "legendgroup": "MIN",
         "marker": {
          "color": "#4F2683",
          "opacity": 0,
          "symbol": "circle"
         },
         "mode": "markers",
         "name": "MIN",
         "orientation": "v",
         "showlegend": false,
         "type": "scatter",
         "x": [
          -2.2
         ],
         "xaxis": "x",
         "y": [
          -0.9
         ],
         "yaxis": "y"
        },
        {
         "hovertemplate": "team=NE<br>off=%{x}<br>def=%{y}<extra></extra>",
         "legendgroup": "NE",
         "marker": {
          "color": "#002244",
          "opacity": 0,
          "symbol": "circle"
         },
         "mode": "markers",
         "name": "NE",
         "orientation": "v",
         "showlegend": false,
         "type": "scatter",
         "x": [
          -2.9
         ],
         "xaxis": "x",
         "y": [
          -0.4
         ],
         "yaxis": "y"
        },
        {
         "hovertemplate": "team=GB<br>off=%{x}<br>def=%{y}<extra></extra>",
         "legendgroup": "GB",
         "marker": {
          "color": "#203731",
          "opacity": 0,
          "symbol": "circle"
         },
         "mode": "markers",
         "name": "GB",
         "orientation": "v",
         "showlegend": false,
         "type": "scatter",
         "x": [
          -2.2
         ],
         "xaxis": "x",
         "y": [
          -1.1
         ],
         "yaxis": "y"
        },
        {
         "hovertemplate": "team=LA<br>off=%{x}<br>def=%{y}<extra></extra>",
         "legendgroup": "LA",
         "marker": {
          "color": "#003594",
          "opacity": 0,
          "symbol": "circle"
         },
         "mode": "markers",
         "name": "LA",
         "orientation": "v",
         "showlegend": false,
         "type": "scatter",
         "x": [
          -1.9
         ],
         "xaxis": "x",
         "y": [
          -1.5
         ],
         "yaxis": "y"
        },
        {
         "hovertemplate": "team=LV<br>off=%{x}<br>def=%{y}<extra></extra>",
         "legendgroup": "LV",
         "marker": {
          "color": "#000000",
          "opacity": 0,
          "symbol": "circle"
         },
         "mode": "markers",
         "name": "LV",
         "orientation": "v",
         "showlegend": false,
         "type": "scatter",
         "x": [
          -2.3
         ],
         "xaxis": "x",
         "y": [
          -1.7
         ],
         "yaxis": "y"
        },
        {
         "hovertemplate": "team=NYG<br>off=%{x}<br>def=%{y}<extra></extra>",
         "legendgroup": "NYG",
         "marker": {
          "color": "#0B2265",
          "opacity": 0,
          "symbol": "circle"
         },
         "mode": "markers",
         "name": "NYG",
         "orientation": "v",
         "showlegend": false,
         "type": "scatter",
         "x": [
          -5.3
         ],
         "xaxis": "x",
         "y": [
          0.1
         ],
         "yaxis": "y"
        },
        {
         "hovertemplate": "team=ARI<br>off=%{x}<br>def=%{y}<extra></extra>",
         "legendgroup": "ARI",
         "marker": {
          "color": "#97233F",
          "opacity": 0,
          "symbol": "circle"
         },
         "mode": "markers",
         "name": "ARI",
         "orientation": "v",
         "showlegend": false,
         "type": "scatter",
         "x": [
          -2.1
         ],
         "xaxis": "x",
         "y": [
          -3.1
         ],
         "yaxis": "y"
        },
        {
         "hovertemplate": "team=CHI<br>off=%{x}<br>def=%{y}<extra></extra>",
         "legendgroup": "CHI",
         "marker": {
          "color": "#E64100",
          "opacity": 0,
          "symbol": "circle"
         },
         "mode": "markers",
         "name": "CHI",
         "orientation": "v",
         "showlegend": false,
         "type": "scatter",
         "x": [
          -2.9
         ],
         "xaxis": "x",
         "y": [
          -2.4
         ],
         "yaxis": "y"
        },
        {
         "hovertemplate": "team=CAR<br>off=%{x}<br>def=%{y}<extra></extra>",
         "legendgroup": "CAR",
         "marker": {
          "color": "#0085CA",
          "opacity": 0,
          "symbol": "circle"
         },
         "mode": "markers",
         "name": "CAR",
         "orientation": "v",
         "showlegend": false,
         "type": "scatter",
         "x": [
          -3.1
         ],
         "xaxis": "x",
         "y": [
          -2.6
         ],
         "yaxis": "y"
        }
       ],
       "layout": {
        "height": 600,
        "images": [
         {
          "opacity": 1,
          "sizex": 0.9,
          "sizey": 0.9,
          "sizing": "contain",
          "source": "https://a.espncdn.com/i/teamlogos/nfl/500/KC.png",
          "x": 4.3,
          "xanchor": "center",
          "xref": "x",
          "y": 2.5,
          "yanchor": "middle",
          "yref": "y"
         },
         {
          "opacity": 1,
          "sizex": 0.9,
          "sizey": 0.9,
          "sizing": "contain",
          "source": "https://a.espncdn.com/i/teamlogos/nfl/500/PHI.png",
          "x": 4.5,
          "xanchor": "center",
          "xref": "x",
          "y": 1.9,
          "yanchor": "middle",
          "yref": "y"
         },
         {
          "opacity": 1,
          "sizex": 0.9,
          "sizey": 0.9,
          "sizing": "contain",
          "source": "https://a.espncdn.com/i/teamlogos/nfl/500/BAL.png",
          "x": 3.1,
          "xanchor": "center",
          "xref": "x",
          "y": 3.2,
          "yanchor": "middle",
          "yref": "y"
         },
         {
          "opacity": 1,
          "sizex": 0.9,
          "sizey": 0.9,
          "sizing": "contain",
          "source": "https://a.espncdn.com/i/teamlogos/nfl/500/SF.png",
          "x": 3.1,
          "xanchor": "center",
          "xref": "x",
          "y": 2.8,
          "yanchor": "middle",
          "yref": "y"
         },
         {
          "opacity": 1,
          "sizex": 0.9,
          "sizey": 0.9,
          "sizing": "contain",
          "source": "https://a.espncdn.com/i/teamlogos/nfl/500/MIA.png",
          "x": 5.4,
          "xanchor": "center",
          "xref": "x",
          "y": 0.1,
          "yanchor": "middle",
          "yref": "y"
         },
         {
          "opacity": 1,
          "sizex": 0.9,
          "sizey": 0.9,
          "sizing": "contain",
          "source": "https://a.espncdn.com/i/teamlogos/nfl/500/CIN.png",
          "x": 3.8,
          "xanchor": "center",
          "xref": "x",
          "y": 1.6,
          "yanchor": "middle",
          "yref": "y"
         },
         {
          "opacity": 1,
          "sizex": 0.9,
          "sizey": 0.9,
          "sizing": "contain",
          "source": "https://a.espncdn.com/i/teamlogos/nfl/500/DAL.png",
          "x": 2.4,
          "xanchor": "center",
          "xref": "x",
          "y": 2.2,
          "yanchor": "middle",
          "yref": "y"
         },
         {
          "opacity": 1,
          "sizex": 0.9,
          "sizey": 0.9,
          "sizing": "contain",
          "source": "https://a.espncdn.com/i/teamlogos/nfl/500/BUF.png",
          "x": 3.2,
          "xanchor": "center",
          "xref": "x",
          "y": 0.5,
          "yanchor": "middle",
          "yref": "y"
         },
         {
          "opacity": 1,
          "sizex": 0.9,
          "sizey": 0.9,
          "sizing": "contain",
          "source": "https://a.espncdn.com/i/teamlogos/nfl/500/DET.png",
          "x": 2.6,
          "xanchor": "center",
          "xref": "x",
          "y": 0.3,
          "yanchor": "middle",
          "yref": "y"
         },
         {
          "opacity": 1,
          "sizex": 0.9,
          "sizey": 0.9,
          "sizing": "contain",
          "source": "https://a.espncdn.com/i/teamlogos/nfl/500/JAX.png",
          "x": 1.8,
          "xanchor": "center",
          "xref": "x",
          "y": 0.9,
          "yanchor": "middle",
          "yref": "y"
         },
         {
          "opacity": 1,
          "sizex": 0.9,
          "sizey": 0.9,
          "sizing": "contain",
          "source": "https://a.espncdn.com/i/teamlogos/nfl/500/CLE.png",
          "x": -1.5,
          "xanchor": "center",
          "xref": "x",
          "y": 3.4,
          "yanchor": "middle",
          "yref": "y"
         },
         {
          "opacity": 1,
          "sizex": 0.9,
          "sizey": 0.9,
          "sizing": "contain",
          "source": "https://a.espncdn.com/i/teamlogos/nfl/500/LAC.png",
          "x": 2.7,
          "xanchor": "center",
          "xref": "x",
          "y": -1.2,
          "yanchor": "middle",
          "yref": "y"
         },
         {
          "opacity": 1,
          "sizex": 0.9,
          "sizey": 0.9,
          "sizing": "contain",
          "source": "https://a.espncdn.com/i/teamlogos/nfl/500/SEA.png",
          "x": 0.7,
          "xanchor": "center",
          "xref": "x",
          "y": 0.4,
          "yanchor": "middle",
          "yref": "y"
         },
         {
          "opacity": 1,
          "sizex": 0.9,
          "sizey": 0.9,
          "sizing": "contain",
          "source": "https://a.espncdn.com/i/teamlogos/nfl/500/NO.png",
          "x": 0.5,
          "xanchor": "center",
          "xref": "x",
          "y": 0.3,
          "yanchor": "middle",
          "yref": "y"
         },
         {
          "opacity": 1,
          "sizex": 0.9,
          "sizey": 0.9,
          "sizing": "contain",
          "source": "https://a.espncdn.com/i/teamlogos/nfl/500/IND.png",
          "x": 0.6,
          "xanchor": "center",
          "xref": "x",
          "y": -0.9,
          "yanchor": "middle",
          "yref": "y"
         },
         {
          "opacity": 1,
          "sizex": 0.9,
          "sizey": 0.9,
          "sizing": "contain",
          "source": "https://a.espncdn.com/i/teamlogos/nfl/500/HOU.png",
          "x": 0.8,
          "xanchor": "center",
          "xref": "x",
          "y": -1.6,
          "yanchor": "middle",
          "yref": "y"
         },
         {
          "opacity": 1,
          "sizex": 0.9,
          "sizey": 0.9,
          "sizing": "contain",
          "source": "https://a.espncdn.com/i/teamlogos/nfl/500/ATL.png",
          "x": -1.5,
          "xanchor": "center",
          "xref": "x",
          "y": 0.5,
          "yanchor": "middle",
          "yref": "y"
         },
         {
          "opacity": 1,
          "sizex": 0.9,
          "sizey": 0.9,
          "sizing": "contain",
          "source": "https://a.espncdn.com/i/teamlogos/nfl/500/NYJ.png",
          "x": -4.7,
          "xanchor": "center",
          "xref": "x",
          "y": 3.4,
          "yanchor": "middle",
          "yref": "y"
         },
         {
          "opacity": 1,
          "sizex": 0.9,
          "sizey": 0.9,
          "sizing": "contain",
          "source": "https://a.espncdn.com/i/teamlogos/nfl/500/PIT.png",
          "x": -2.4,
          "xanchor": "center",
          "xref": "x",
          "y": 0.8,
          "yanchor": "middle",
          "yref": "y"
         },
         {
          "opacity": 1,
          "sizex": 0.9,
          "sizey": 0.9,
          "sizing": "contain",
          "source": "https://a.espncdn.com/i/teamlogos/nfl/500/TEN.png",
          "x": -2.1,
          "xanchor": "center",
          "xref": "x",
          "y": -0.2,
          "yanchor": "middle",
          "yref": "y"
         },
         {
          "opacity": 1,
          "sizex": 0.9,
          "sizey": 0.9,
          "sizing": "contain",
          "source": "https://a.espncdn.com/i/teamlogos/nfl/500/WAS.png",
          "x": -1.8,
          "xanchor": "center",
          "xref": "x",
          "y": -0.6,
          "yanchor": "middle",
          "yref": "y"
         },
         {
          "opacity": 1,
          "sizex": 0.9,
          "sizey": 0.9,
          "sizing": "contain",
          "source": "https://a.espncdn.com/i/teamlogos/nfl/500/TB.png",
          "x": -2.3,
          "xanchor": "center",
          "xref": "x",
          "y": -0.2,
          "yanchor": "middle",
          "yref": "y"
         },
         {
          "opacity": 1,
          "sizex": 0.9,
          "sizey": 0.9,
          "sizing": "contain",
          "source": "https://a.espncdn.com/i/teamlogos/nfl/500/DEN.png",
          "x": -0.6,
          "xanchor": "center",
          "xref": "x",
          "y": -1.9,
          "yanchor": "middle",
          "yref": "y"
         },
         {
          "opacity": 1,
          "sizex": 0.9,
          "sizey": 0.9,
          "sizing": "contain",
          "source": "https://a.espncdn.com/i/teamlogos/nfl/500/MIN.png",
          "x": -2.2,
          "xanchor": "center",
          "xref": "x",
          "y": -0.9,
          "yanchor": "middle",
          "yref": "y"
         },
         {
          "opacity": 1,
          "sizex": 0.9,
          "sizey": 0.9,
          "sizing": "contain",
          "source": "https://a.espncdn.com/i/teamlogos/nfl/500/NE.png",
          "x": -2.9,
          "xanchor": "center",
          "xref": "x",
          "y": -0.4,
          "yanchor": "middle",
          "yref": "y"
         },
         {
          "opacity": 1,
          "sizex": 0.9,
          "sizey": 0.9,
          "sizing": "contain",
          "source": "https://a.espncdn.com/i/teamlogos/nfl/500/GB.png",
          "x": -2.2,
          "xanchor": "center",
          "xref": "x",
          "y": -1.1,
          "yanchor": "middle",
          "yref": "y"
         },
         {
          "opacity": 1,
          "sizex": 0.9,
          "sizey": 0.9,
          "sizing": "contain",
          "source": "https://a.espncdn.com/i/teamlogos/nfl/500/LA.png",
          "x": -1.9,
          "xanchor": "center",
          "xref": "x",
          "y": -1.5,
          "yanchor": "middle",
          "yref": "y"
         },
         {
          "opacity": 1,
          "sizex": 0.9,
          "sizey": 0.9,
          "sizing": "contain",
          "source": "https://a.espncdn.com/i/teamlogos/nfl/500/LV.png",
          "x": -2.3,
          "xanchor": "center",
          "xref": "x",
          "y": -1.7,
          "yanchor": "middle",
          "yref": "y"
         },
         {
          "opacity": 1,
          "sizex": 0.9,
          "sizey": 0.9,
          "sizing": "contain",
          "source": "https://a.espncdn.com/i/teamlogos/nfl/500/NYG.png",
          "x": -5.3,
          "xanchor": "center",
          "xref": "x",
          "y": 0.1,
          "yanchor": "middle",
          "yref": "y"
         },
         {
          "opacity": 1,
          "sizex": 0.9,
          "sizey": 0.9,
          "sizing": "contain",
          "source": "https://a.espncdn.com/i/teamlogos/nfl/500/ARI.png",
          "x": -2.1,
          "xanchor": "center",
          "xref": "x",
          "y": -3.1,
          "yanchor": "middle",
          "yref": "y"
         },
         {
          "opacity": 1,
          "sizex": 0.9,
          "sizey": 0.9,
          "sizing": "contain",
          "source": "https://a.espncdn.com/i/teamlogos/nfl/500/CHI.png",
          "x": -2.9,
          "xanchor": "center",
          "xref": "x",
          "y": -2.4,
          "yanchor": "middle",
          "yref": "y"
         },
         {
          "opacity": 1,
          "sizex": 0.9,
          "sizey": 0.9,
          "sizing": "contain",
          "source": "https://a.espncdn.com/i/teamlogos/nfl/500/CAR.png",
          "x": -3.1,
          "xanchor": "center",
          "xref": "x",
          "y": -2.6,
          "yanchor": "middle",
          "yref": "y"
         }
        ],
        "legend": {
         "title": {
          "text": "team"
         },
         "tracegroupgap": 0
        },
        "margin": {
         "t": 60
        },
        "template": {
         "data": {
          "bar": [
           {
            "error_x": {
             "color": "#2a3f5f"
            },
            "error_y": {
             "color": "#2a3f5f"
            },
            "marker": {
             "line": {
              "color": "#E5ECF6",
              "width": 0.5
             },
             "pattern": {
              "fillmode": "overlay",
              "size": 10,
              "solidity": 0.2
             }
            },
            "type": "bar"
           }
          ],
          "barpolar": [
           {
            "marker": {
             "line": {
              "color": "#E5ECF6",
              "width": 0.5
             },
             "pattern": {
              "fillmode": "overlay",
              "size": 10,
              "solidity": 0.2
             }
            },
            "type": "barpolar"
           }
          ],
          "carpet": [
           {
            "aaxis": {
             "endlinecolor": "#2a3f5f",
             "gridcolor": "white",
             "linecolor": "white",
             "minorgridcolor": "white",
             "startlinecolor": "#2a3f5f"
            },
            "baxis": {
             "endlinecolor": "#2a3f5f",
             "gridcolor": "white",
             "linecolor": "white",
             "minorgridcolor": "white",
             "startlinecolor": "#2a3f5f"
            },
            "type": "carpet"
           }
          ],
          "choropleth": [
           {
            "colorbar": {
             "outlinewidth": 0,
             "ticks": ""
            },
            "type": "choropleth"
           }
          ],
          "contour": [
           {
            "colorbar": {
             "outlinewidth": 0,
             "ticks": ""
            },
            "colorscale": [
             [
              0,
              "#0d0887"
             ],
             [
              0.1111111111111111,
              "#46039f"
             ],
             [
              0.2222222222222222,
              "#7201a8"
             ],
             [
              0.3333333333333333,
              "#9c179e"
             ],
             [
              0.4444444444444444,
              "#bd3786"
             ],
             [
              0.5555555555555556,
              "#d8576b"
             ],
             [
              0.6666666666666666,
              "#ed7953"
             ],
             [
              0.7777777777777778,
              "#fb9f3a"
             ],
             [
              0.8888888888888888,
              "#fdca26"
             ],
             [
              1,
              "#f0f921"
             ]
            ],
            "type": "contour"
           }
          ],
          "contourcarpet": [
           {
            "colorbar": {
             "outlinewidth": 0,
             "ticks": ""
            },
            "type": "contourcarpet"
           }
          ],
          "heatmap": [
           {
            "colorbar": {
             "outlinewidth": 0,
             "ticks": ""
            },
            "colorscale": [
             [
              0,
              "#0d0887"
             ],
             [
              0.1111111111111111,
              "#46039f"
             ],
             [
              0.2222222222222222,
              "#7201a8"
             ],
             [
              0.3333333333333333,
              "#9c179e"
             ],
             [
              0.4444444444444444,
              "#bd3786"
             ],
             [
              0.5555555555555556,
              "#d8576b"
             ],
             [
              0.6666666666666666,
              "#ed7953"
             ],
             [
              0.7777777777777778,
              "#fb9f3a"
             ],
             [
              0.8888888888888888,
              "#fdca26"
             ],
             [
              1,
              "#f0f921"
             ]
            ],
            "type": "heatmap"
           }
          ],
          "heatmapgl": [
           {
            "colorbar": {
             "outlinewidth": 0,
             "ticks": ""
            },
            "colorscale": [
             [
              0,
              "#0d0887"
             ],
             [
              0.1111111111111111,
              "#46039f"
             ],
             [
              0.2222222222222222,
              "#7201a8"
             ],
             [
              0.3333333333333333,
              "#9c179e"
             ],
             [
              0.4444444444444444,
              "#bd3786"
             ],
             [
              0.5555555555555556,
              "#d8576b"
             ],
             [
              0.6666666666666666,
              "#ed7953"
             ],
             [
              0.7777777777777778,
              "#fb9f3a"
             ],
             [
              0.8888888888888888,
              "#fdca26"
             ],
             [
              1,
              "#f0f921"
             ]
            ],
            "type": "heatmapgl"
           }
          ],
          "histogram": [
           {
            "marker": {
             "pattern": {
              "fillmode": "overlay",
              "size": 10,
              "solidity": 0.2
             }
            },
            "type": "histogram"
           }
          ],
          "histogram2d": [
           {
            "colorbar": {
             "outlinewidth": 0,
             "ticks": ""
            },
            "colorscale": [
             [
              0,
              "#0d0887"
             ],
             [
              0.1111111111111111,
              "#46039f"
             ],
             [
              0.2222222222222222,
              "#7201a8"
             ],
             [
              0.3333333333333333,
              "#9c179e"
             ],
             [
              0.4444444444444444,
              "#bd3786"
             ],
             [
              0.5555555555555556,
              "#d8576b"
             ],
             [
              0.6666666666666666,
              "#ed7953"
             ],
             [
              0.7777777777777778,
              "#fb9f3a"
             ],
             [
              0.8888888888888888,
              "#fdca26"
             ],
             [
              1,
              "#f0f921"
             ]
            ],
            "type": "histogram2d"
           }
          ],
          "histogram2dcontour": [
           {
            "colorbar": {
             "outlinewidth": 0,
             "ticks": ""
            },
            "colorscale": [
             [
              0,
              "#0d0887"
             ],
             [
              0.1111111111111111,
              "#46039f"
             ],
             [
              0.2222222222222222,
              "#7201a8"
             ],
             [
              0.3333333333333333,
              "#9c179e"
             ],
             [
              0.4444444444444444,
              "#bd3786"
             ],
             [
              0.5555555555555556,
              "#d8576b"
             ],
             [
              0.6666666666666666,
              "#ed7953"
             ],
             [
              0.7777777777777778,
              "#fb9f3a"
             ],
             [
              0.8888888888888888,
              "#fdca26"
             ],
             [
              1,
              "#f0f921"
             ]
            ],
            "type": "histogram2dcontour"
           }
          ],
          "mesh3d": [
           {
            "colorbar": {
             "outlinewidth": 0,
             "ticks": ""
            },
            "type": "mesh3d"
           }
          ],
          "parcoords": [
           {
            "line": {
             "colorbar": {
              "outlinewidth": 0,
              "ticks": ""
             }
            },
            "type": "parcoords"
           }
          ],
          "pie": [
           {
            "automargin": true,
            "type": "pie"
           }
          ],
          "scatter": [
           {
            "fillpattern": {
             "fillmode": "overlay",
             "size": 10,
             "solidity": 0.2
            },
            "type": "scatter"
           }
          ],
          "scatter3d": [
           {
            "line": {
             "colorbar": {
              "outlinewidth": 0,
              "ticks": ""
             }
            },
            "marker": {
             "colorbar": {
              "outlinewidth": 0,
              "ticks": ""
             }
            },
            "type": "scatter3d"
           }
          ],
          "scattercarpet": [
           {
            "marker": {
             "colorbar": {
              "outlinewidth": 0,
              "ticks": ""
             }
            },
            "type": "scattercarpet"
           }
          ],
          "scattergeo": [
           {
            "marker": {
             "colorbar": {
              "outlinewidth": 0,
              "ticks": ""
             }
            },
            "type": "scattergeo"
           }
          ],
          "scattergl": [
           {
            "marker": {
             "colorbar": {
              "outlinewidth": 0,
              "ticks": ""
             }
            },
            "type": "scattergl"
           }
          ],
          "scattermapbox": [
           {
            "marker": {
             "colorbar": {
              "outlinewidth": 0,
              "ticks": ""
             }
            },
            "type": "scattermapbox"
           }
          ],
          "scatterpolar": [
           {
            "marker": {
             "colorbar": {
              "outlinewidth": 0,
              "ticks": ""
             }
            },
            "type": "scatterpolar"
           }
          ],
          "scatterpolargl": [
           {
            "marker": {
             "colorbar": {
              "outlinewidth": 0,
              "ticks": ""
             }
            },
            "type": "scatterpolargl"
           }
          ],
          "scatterternary": [
           {
            "marker": {
             "colorbar": {
              "outlinewidth": 0,
              "ticks": ""
             }
            },
            "type": "scatterternary"
           }
          ],
          "surface": [
           {
            "colorbar": {
             "outlinewidth": 0,
             "ticks": ""
            },
            "colorscale": [
             [
              0,
              "#0d0887"
             ],
             [
              0.1111111111111111,
              "#46039f"
             ],
             [
              0.2222222222222222,
              "#7201a8"
             ],
             [
              0.3333333333333333,
              "#9c179e"
             ],
             [
              0.4444444444444444,
              "#bd3786"
             ],
             [
              0.5555555555555556,
              "#d8576b"
             ],
             [
              0.6666666666666666,
              "#ed7953"
             ],
             [
              0.7777777777777778,
              "#fb9f3a"
             ],
             [
              0.8888888888888888,
              "#fdca26"
             ],
             [
              1,
              "#f0f921"
             ]
            ],
            "type": "surface"
           }
          ],
          "table": [
           {
            "cells": {
             "fill": {
              "color": "#EBF0F8"
             },
             "line": {
              "color": "white"
             }
            },
            "header": {
             "fill": {
              "color": "#C8D4E3"
             },
             "line": {
              "color": "white"
             }
            },
            "type": "table"
           }
          ]
         },
         "layout": {
          "annotationdefaults": {
           "arrowcolor": "#2a3f5f",
           "arrowhead": 0,
           "arrowwidth": 1
          },
          "autotypenumbers": "strict",
          "coloraxis": {
           "colorbar": {
            "outlinewidth": 0,
            "ticks": ""
           }
          },
          "colorscale": {
           "diverging": [
            [
             0,
             "#8e0152"
            ],
            [
             0.1,
             "#c51b7d"
            ],
            [
             0.2,
             "#de77ae"
            ],
            [
             0.3,
             "#f1b6da"
            ],
            [
             0.4,
             "#fde0ef"
            ],
            [
             0.5,
             "#f7f7f7"
            ],
            [
             0.6,
             "#e6f5d0"
            ],
            [
             0.7,
             "#b8e186"
            ],
            [
             0.8,
             "#7fbc41"
            ],
            [
             0.9,
             "#4d9221"
            ],
            [
             1,
             "#276419"
            ]
           ],
           "sequential": [
            [
             0,
             "#0d0887"
            ],
            [
             0.1111111111111111,
             "#46039f"
            ],
            [
             0.2222222222222222,
             "#7201a8"
            ],
            [
             0.3333333333333333,
             "#9c179e"
            ],
            [
             0.4444444444444444,
             "#bd3786"
            ],
            [
             0.5555555555555556,
             "#d8576b"
            ],
            [
             0.6666666666666666,
             "#ed7953"
            ],
            [
             0.7777777777777778,
             "#fb9f3a"
            ],
            [
             0.8888888888888888,
             "#fdca26"
            ],
            [
             1,
             "#f0f921"
            ]
           ],
           "sequentialminus": [
            [
             0,
             "#0d0887"
            ],
            [
             0.1111111111111111,
             "#46039f"
            ],
            [
             0.2222222222222222,
             "#7201a8"
            ],
            [
             0.3333333333333333,
             "#9c179e"
            ],
            [
             0.4444444444444444,
             "#bd3786"
            ],
            [
             0.5555555555555556,
             "#d8576b"
            ],
            [
             0.6666666666666666,
             "#ed7953"
            ],
            [
             0.7777777777777778,
             "#fb9f3a"
            ],
            [
             0.8888888888888888,
             "#fdca26"
            ],
            [
             1,
             "#f0f921"
            ]
           ]
          },
          "colorway": [
           "#636efa",
           "#EF553B",
           "#00cc96",
           "#ab63fa",
           "#FFA15A",
           "#19d3f3",
           "#FF6692",
           "#B6E880",
           "#FF97FF",
           "#FECB52"
          ],
          "font": {
           "color": "#2a3f5f"
          },
          "geo": {
           "bgcolor": "white",
           "lakecolor": "white",
           "landcolor": "#E5ECF6",
           "showlakes": true,
           "showland": true,
           "subunitcolor": "white"
          },
          "hoverlabel": {
           "align": "left"
          },
          "hovermode": "closest",
          "mapbox": {
           "style": "light"
          },
          "paper_bgcolor": "white",
          "plot_bgcolor": "#E5ECF6",
          "polar": {
           "angularaxis": {
            "gridcolor": "white",
            "linecolor": "white",
            "ticks": ""
           },
           "bgcolor": "#E5ECF6",
           "radialaxis": {
            "gridcolor": "white",
            "linecolor": "white",
            "ticks": ""
           }
          },
          "scene": {
           "xaxis": {
            "backgroundcolor": "#E5ECF6",
            "gridcolor": "white",
            "gridwidth": 2,
            "linecolor": "white",
            "showbackground": true,
            "ticks": "",
            "zerolinecolor": "white"
           },
           "yaxis": {
            "backgroundcolor": "#E5ECF6",
            "gridcolor": "white",
            "gridwidth": 2,
            "linecolor": "white",
            "showbackground": true,
            "ticks": "",
            "zerolinecolor": "white"
           },
           "zaxis": {
            "backgroundcolor": "#E5ECF6",
            "gridcolor": "white",
            "gridwidth": 2,
            "linecolor": "white",
            "showbackground": true,
            "ticks": "",
            "zerolinecolor": "white"
           }
          },
          "shapedefaults": {
           "line": {
            "color": "#2a3f5f"
           }
          },
          "ternary": {
           "aaxis": {
            "gridcolor": "white",
            "linecolor": "white",
            "ticks": ""
           },
           "baxis": {
            "gridcolor": "white",
            "linecolor": "white",
            "ticks": ""
           },
           "bgcolor": "#E5ECF6",
           "caxis": {
            "gridcolor": "white",
            "linecolor": "white",
            "ticks": ""
           }
          },
          "title": {
           "x": 0.05
          },
          "xaxis": {
           "automargin": true,
           "gridcolor": "white",
           "linecolor": "white",
           "ticks": "",
           "title": {
            "standoff": 15
           },
           "zerolinecolor": "white",
           "zerolinewidth": 2
          },
          "yaxis": {
           "automargin": true,
           "gridcolor": "white",
           "linecolor": "white",
           "ticks": "",
           "title": {
            "standoff": 15
           },
           "zerolinecolor": "white",
           "zerolinewidth": 2
          }
         }
        },
        "title": {
         "text": "Week 10 Power Ratings"
        },
        "width": 1000,
        "xaxis": {
         "anchor": "y",
         "domain": [
          0,
          1
         ],
         "title": {
          "text": "Generic Points Favored"
         }
        },
        "yaxis": {
         "anchor": "x",
         "domain": [
          0,
          1
         ],
         "title": {
          "text": "Teams"
         }
        }
       }
      }
     },
     "metadata": {},
     "output_type": "display_data"
    }
   ],
   "source": [
    "\n",
    "\n",
    "fig = px.scatter(power_df, x='off', y='def', opacity=0, color='team', color_discrete_map=utils.team_unique_colors)\n",
    "fig.update_layout(\n",
    "    height=600,\n",
    "    width=1000,\n",
    "\n",
    "    xaxis_title=f'Generic Points Favored',\n",
    "    yaxis_title='Teams',\n",
    "    title=f'Week {WEEK} Power Ratings',\n",
    ")\n",
    "fig.update_traces(showlegend=False)\n",
    "# Iterate through the data and add logos to the chart\n",
    "for index, row in power_df.iterrows():\n",
    "    team = row['team']\n",
    "    scale = 0.9\n",
    "    fig.add_layout_image(\n",
    "        dict(source=f'https://a.espncdn.com/i/teamlogos/nfl/500/{team}.png',\n",
    "            x=row['off'],  # Adjust the position\n",
    "            y=row['def'],\n",
    "            xref=\"x\",\n",
    "            yref=\"y\",\n",
    "            sizex=scale,  # Adjust the size\n",
    "            sizey=scale,  # Adjust the size\n",
    "            sizing=\"contain\",\n",
    "            opacity=1,\n",
    "            xanchor=\"center\",\n",
    "            yanchor=\"middle\",        \n",
    "        )\n",
    "    )\n",
    "\n",
    "fig.show()"
   ]
  },
  {
   "cell_type": "code",
   "execution_count": null,
   "metadata": {},
   "outputs": [],
   "source": []
  }
 ],
 "metadata": {
  "kernelspec": {
   "display_name": "nfl",
   "language": "python",
   "name": "python3"
  },
  "language_info": {
   "codemirror_mode": {
    "name": "ipython",
    "version": 3
   },
   "file_extension": ".py",
   "mimetype": "text/x-python",
   "name": "python",
   "nbconvert_exporter": "python",
   "pygments_lexer": "ipython3",
   "version": "3.10.12"
  }
 },
 "nbformat": 4,
 "nbformat_minor": 2
}
