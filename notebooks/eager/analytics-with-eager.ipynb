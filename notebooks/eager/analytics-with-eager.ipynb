{
 "cells": [
  {
   "cell_type": "code",
   "execution_count": null,
   "metadata": {},
   "outputs": [],
   "source": [
    "import sys\n",
    "import os\n",
    "\n",
    "# Navigate up one level to the parent directory and append it to sys.path\n",
    "sys.path.append(os.path.abspath(os.path.join(os.getcwd(), os.pardir)))\n",
    "\n",
    "import nfl_data_py as nfl\n",
    "import pandas as pd\n",
    "import numpy as np\n",
    "import statsmodels.api as sm\n",
    "import statsmodels.formula.api as smf\n",
    "from scipy.stats import poisson\n",
    "\n",
    "from src import utils\n",
    "\n",
    "import plotly.express as px\n",
    "import seaborn as sns\n",
    "import matplotlib.pyplot as plt\n",
    "import warnings\n",
    "\n",
    "import jupyter_black\n",
    "\n",
    "jupyter_black.load()\n",
    "\n",
    "warnings.simplefilter(action='ignore', category=FutureWarning) # Ignore all future warnings\n",
    "pd.set_option('display.max_columns', None)"
   ]
  },
  {
   "cell_type": "code",
   "execution_count": null,
   "metadata": {},
   "outputs": [],
   "source": [
    "flatten_grouped_cols = lambda cols: list(map(\"_\".join, cols))\n",
    "\n",
    "\n",
    "def lag_df(\n",
    "    df: pd.DataFrame, index_cols: list, cols_to_lag: list, lag_on=\"season\"\n",
    ") -> pd.DataFrame:\n",
    "    df_cur = df[index_cols + cols_to_lag].copy()\n",
    "    df_prev = df_cur.copy()\n",
    "    df_prev = df_prev.rename(columns={col: f\"{col}_last\" for col in cols_to_lag})\n",
    "    df_prev[lag_on] += 1\n",
    "    return df_cur.merge(df_prev, how=\"inner\", on=index_cols)"
   ]
  },
  {
   "cell_type": "markdown",
   "metadata": {},
   "source": [
    "# 1. Football Analytics"
   ]
  },
  {
   "cell_type": "markdown",
   "metadata": {},
   "source": [
    "The goal of this chapter is to get familiar with nfl_data_py and analyze QB ADOT"
   ]
  },
  {
   "cell_type": "code",
   "execution_count": null,
   "metadata": {},
   "outputs": [],
   "source": [
    "pbp = nfl.import_pbp_data([2023])"
   ]
  },
  {
   "cell_type": "code",
   "execution_count": null,
   "metadata": {},
   "outputs": [],
   "source": [
    "filter_criteria = 'play_type==\"pass\" & air_yards.notnull()'\n",
    "\n",
    "pass_pbp = (\n",
    "    pbp.query(filter_criteria)\n",
    "    # .groupby(['passer_id', 'passer'])\n",
    "    .groupby(['passer', 'posteam'])\n",
    "    .agg({'air_yards': ['count', 'mean'], 'epa':'mean'})\n",
    ")\n",
    "\n",
    "pass_pbp.columns = list(map('_'.join, pass_pbp.columns.values))\n",
    "pass_pbp = pass_pbp[pass_pbp['air_yards_count'] >= 100].sort_values('air_yards_mean', ascending=False).reset_index()\n",
    "pass_pbp"
   ]
  },
  {
   "cell_type": "code",
   "execution_count": null,
   "metadata": {},
   "outputs": [],
   "source": [
    "fig = px.scatter(pass_pbp, x='air_yards_mean', y='epa_mean', text='passer', color='posteam', color_discrete_map=utils.team_primary_colors, opacity=0)\n",
    "fig.update_layout(\n",
    "    height=600,\n",
    "    width=1000,\n",
    "    xaxis_title=f'Mean ADOT',\n",
    "    yaxis_title='EPA per Play',\n",
    "    title='QB EPA per Play by Mean ADOT',\n",
    "    # subheader='min 100 pass attempts',\n",
    ")\n",
    "fig.update_traces(showlegend=False, textposition='bottom center')\n",
    "\n",
    "# Iterate through the data and add logos to the chart\n",
    "for index, row in pass_pbp.iterrows():\n",
    "    team = row['posteam']\n",
    "    scale = .16\n",
    "    fig.add_layout_image(\n",
    "        dict(source=f'https://a.espncdn.com/i/teamlogos/nfl/500/{team}.png',\n",
    "            x=row['air_yards_mean'],\n",
    "            y=row['epa_mean'],\n",
    "            xref=\"x\",\n",
    "            yref=\"y\",\n",
    "            sizex=scale,  # Adjust the size\n",
    "            sizey=scale,  # Adjust the size\n",
    "            sizing=\"contain\",\n",
    "            opacity=.6,\n",
    "            xanchor=\"center\",\n",
    "            yanchor=\"middle\",        \n",
    "            layer=\"below\",\n",
    "        )\n",
    "    )\n",
    "\n",
    "fig.show()"
   ]
  },
  {
   "cell_type": "markdown",
   "metadata": {},
   "source": [
    "# 2. Stable vs Unstable QB Metrics"
   ]
  },
  {
   "cell_type": "markdown",
   "metadata": {},
   "source": [
    "## Pass Data Prep"
   ]
  },
  {
   "cell_type": "code",
   "execution_count": null,
   "metadata": {},
   "outputs": [],
   "source": [
    "pbp = pd.DataFrame(nfl.import_pbp_data(range(2016, 2023)))\n",
    "pbp.shape"
   ]
  },
  {
   "cell_type": "code",
   "execution_count": null,
   "metadata": {},
   "outputs": [],
   "source": [
    "# filter to only passing data\n",
    "pbp_p = pbp.query(\"play_type == 'pass' & air_yards.notnull()\").reset_index()"
   ]
  },
  {
   "cell_type": "code",
   "execution_count": null,
   "metadata": {},
   "outputs": [],
   "source": [
    "# categorize passes as either long or short\n",
    "pbp_p['pass_length_air_yards'] = np.where(pbp_p['air_yards'] >= 20, 'long', 'short')\n",
    "# fill in pass yards as 0's if they are indeed null\n",
    "pbp_p['passing_yards'] = pbp_p['passing_yards'].fillna(0)"
   ]
  },
  {
   "cell_type": "code",
   "execution_count": null,
   "metadata": {},
   "outputs": [],
   "source": [
    "pbp_p['passing_yards'].describe()"
   ]
  },
  {
   "cell_type": "code",
   "execution_count": null,
   "metadata": {},
   "outputs": [],
   "source": [
    "pbp_p.query('pass_length_air_yards == \"long\"')['passing_yards'].describe()"
   ]
  },
  {
   "cell_type": "code",
   "execution_count": null,
   "metadata": {},
   "outputs": [],
   "source": [
    "pbp_p.query('pass_length_air_yards == \"short\"')['passing_yards'].describe()"
   ]
  },
  {
   "cell_type": "code",
   "execution_count": null,
   "metadata": {},
   "outputs": [],
   "source": [
    "pbp_p.query('pass_length_air_yards == \"long\"')['epa'].describe()"
   ]
  },
  {
   "cell_type": "code",
   "execution_count": null,
   "metadata": {},
   "outputs": [],
   "source": [
    "pbp_p.query('pass_length_air_yards == \"short\"')['epa'].describe()"
   ]
  },
  {
   "cell_type": "code",
   "execution_count": null,
   "metadata": {},
   "outputs": [],
   "source": [
    "px.histogram(pbp, x='passing_yards', height=500, width=800)"
   ]
  },
  {
   "cell_type": "code",
   "execution_count": null,
   "metadata": {},
   "outputs": [],
   "source": [
    "px.box(pbp_p, \n",
    "        x='pass_length_air_yards', \n",
    "        y='passing_yards',\n",
    "        height=600, \n",
    "        width=500\n",
    "    )"
   ]
  },
  {
   "cell_type": "code",
   "execution_count": null,
   "metadata": {},
   "outputs": [],
   "source": [
    "pbp_p_s = pbp_p.groupby(['passer_id', 'passer', 'season']).agg({'passing_yards': ['mean', 'count']})\n",
    "pbp_p_s.columns = list(map('_'.join, pbp_p_s.columns))\n",
    "pbp_p_s = pbp_p_s.rename(columns={\n",
    "    'passing_yards_mean': 'ypa',\n",
    "    'passing_yards_count': 'n',\n",
    "})\n",
    "pbp_p_s = pbp_p_s.query('n >= 100').sort_values(by='ypa', ascending=False)\n",
    "pbp_p_s.head()"
   ]
  },
  {
   "cell_type": "markdown",
   "metadata": {},
   "source": [
    "## The Hypothesis\n",
    "\n",
    "*Throwing Deep Passes is more valuable than short passes, but it is difficult to say whether or not a quarterback is good at deep passes*"
   ]
  },
  {
   "cell_type": "code",
   "execution_count": null,
   "metadata": {},
   "outputs": [],
   "source": [
    "# play-by-play, pass data, by season, by pass length\n",
    "pbp_p_s_pl = pbp_p.groupby(['passer_id', 'passer', 'season', 'pass_length_air_yards']).agg({'passing_yards': ['mean', 'count']})\n",
    "pbp_p_s_pl.columns = list(map('_'.join, pbp_p_s_pl.columns))\n",
    "pbp_p_s_pl = pbp_p_s_pl.rename(columns={\n",
    "    'passing_yards_mean': 'ypa',\n",
    "    'passing_yards_count': 'n',\n",
    "})\n",
    "pbp_p_s_pl = pbp_p_s_pl.reset_index()\n",
    "criteria = '(n >= 100 & pass_length_air_yards==\"short\") | (n >= 30 & pass_length_air_yards==\"long\")'\n",
    "pbp_p_s_pl = pbp_p_s_pl.query(criteria).reset_index()"
   ]
  },
  {
   "cell_type": "code",
   "execution_count": null,
   "metadata": {},
   "outputs": [],
   "source": [
    "air_yards = pbp_p_s_pl[['passer_id', 'passer', 'season', 'pass_length_air_yards', 'ypa']].copy()"
   ]
  },
  {
   "cell_type": "code",
   "execution_count": null,
   "metadata": {},
   "outputs": [],
   "source": [
    "# get the lag from the prior season\n",
    "air_yards_lag = air_yards.copy().rename(columns={'ypa': 'ypa_last'})\n",
    "air_yards_lag['season'] += 1"
   ]
  },
  {
   "cell_type": "code",
   "execution_count": null,
   "metadata": {},
   "outputs": [],
   "source": [
    "# join back to the main df\n",
    "pbp_p_s_pl = (\n",
    "    air_yards.merge(air_yards_lag, \n",
    "                    how=\"inner\",\n",
    "                    on=[\"passer_id\", \"passer\", \"season\", \"pass_length_air_yards\"]\n",
    "                )\n",
    ")"
   ]
  },
  {
   "cell_type": "code",
   "execution_count": null,
   "metadata": {},
   "outputs": [],
   "source": [
    "pbp_p_s_pl.query('passer==\"P.Mahomes\" or passer == \"B.Mayfield\"').sort_values(['passer', 'season'])"
   ]
  },
  {
   "cell_type": "code",
   "execution_count": null,
   "metadata": {},
   "outputs": [],
   "source": [
    "assert not pbp_p_s_pl.isnull().any().any()\n",
    "print(f'{pbp_p_s_pl[\"passer_id\"].nunique()} quarterbacks in the sample')"
   ]
  },
  {
   "cell_type": "code",
   "execution_count": null,
   "metadata": {},
   "outputs": [],
   "source": [
    "# scatterplot for yard per attempt season and previous season\n",
    "sns.lmplot(\n",
    "    data=pbp_p_s_pl,\n",
    "    x='ypa',\n",
    "    y='ypa_last',\n",
    "    col='pass_length_air_yards'\n",
    ")"
   ]
  },
  {
   "cell_type": "code",
   "execution_count": null,
   "metadata": {},
   "outputs": [],
   "source": [
    "pbp_p_s_pl.groupby('pass_length_air_yards')[['ypa', 'ypa_last']].corr()"
   ]
  },
  {
   "cell_type": "markdown",
   "metadata": {},
   "source": [
    "We can now confirm that throwing deep passes is more valuable than throwing short passes, however it is difficult to say whether or not a quarterback is good at throwing deep passes."
   ]
  },
  {
   "cell_type": "code",
   "execution_count": null,
   "metadata": {},
   "outputs": [],
   "source": [
    "# Trying the same approach but for epa"
   ]
  },
  {
   "cell_type": "code",
   "execution_count": null,
   "metadata": {},
   "outputs": [],
   "source": [
    "# play-by-play, pass data, by season, by pass length\n",
    "pbp_p_s_pl = pbp_p.groupby(['passer_id', 'passer', 'season', 'pass_length_air_yards']).agg({'epa': ['mean', 'count']})\n",
    "pbp_p_s_pl.columns = list(map('_'.join, pbp_p_s_pl.columns))\n",
    "pbp_p_s_pl = pbp_p_s_pl.rename(columns={\n",
    "    'epa_mean': 'epa_p',\n",
    "    'epa_count': 'n',\n",
    "})\n",
    "pbp_p_s_pl = pbp_p_s_pl.reset_index()\n",
    "criteria = '(n >= 100 & pass_length_air_yards==\"short\") | (n >= 30 & pass_length_air_yards==\"long\")'\n",
    "pbp_p_s_pl = pbp_p_s_pl.query(criteria).reset_index()"
   ]
  },
  {
   "cell_type": "code",
   "execution_count": null,
   "metadata": {},
   "outputs": [],
   "source": [
    "air_yards = pbp_p_s_pl[['passer_id', 'passer', 'season', 'pass_length_air_yards', 'epa_p']].copy()"
   ]
  },
  {
   "cell_type": "code",
   "execution_count": null,
   "metadata": {},
   "outputs": [],
   "source": [
    "# get the lag from the prior season\n",
    "air_yards_lag = air_yards.copy().rename(columns={'epa_p': 'epa_p_last'})\n",
    "air_yards_lag['season'] += 1"
   ]
  },
  {
   "cell_type": "code",
   "execution_count": null,
   "metadata": {},
   "outputs": [],
   "source": [
    "# join back to the main df\n",
    "pbp_p_s_pl = (\n",
    "    air_yards.merge(air_yards_lag, \n",
    "                    how=\"inner\",\n",
    "                    on=[\"passer_id\", \"passer\", \"season\", \"pass_length_air_yards\"]\n",
    "                )\n",
    ")"
   ]
  },
  {
   "cell_type": "code",
   "execution_count": null,
   "metadata": {},
   "outputs": [],
   "source": [
    "pbp_p_s_pl.query('passer==\"P.Mahomes\" or passer == \"B.Mayfield\"').sort_values(['passer', 'season'])"
   ]
  },
  {
   "cell_type": "code",
   "execution_count": null,
   "metadata": {},
   "outputs": [],
   "source": [
    "assert not pbp_p_s_pl.isnull().any().any()\n",
    "print(f'{pbp_p_s_pl[\"passer_id\"].nunique()} quarterbacks in the sample')"
   ]
  },
  {
   "cell_type": "code",
   "execution_count": null,
   "metadata": {},
   "outputs": [],
   "source": [
    "# scatterplot for yard per attempt season and previous season\n",
    "sns.lmplot(\n",
    "    data=pbp_p_s_pl,\n",
    "    x='epa_p',\n",
    "    y='epa_p_last',\n",
    "    col='pass_length_air_yards'\n",
    ")"
   ]
  },
  {
   "cell_type": "code",
   "execution_count": null,
   "metadata": {},
   "outputs": [],
   "source": [
    "pbp_p_s_pl.groupby('pass_length_air_yards')[['epa_p', 'epa_p_last']].corr()"
   ]
  },
  {
   "cell_type": "markdown",
   "metadata": {},
   "source": [
    "Epa is not that different than yards per play when trying to evaluate quarterback play. It is more valuable to throw deep passes but less likely to translate year to year."
   ]
  },
  {
   "cell_type": "code",
   "execution_count": null,
   "metadata": {},
   "outputs": [],
   "source": []
  },
  {
   "cell_type": "markdown",
   "metadata": {},
   "source": [
    "# 3. Simple Linear Regression: Rushing Yards over Expected"
   ]
  },
  {
   "cell_type": "markdown",
   "metadata": {},
   "source": [
    "## Data Wrangling and EDA"
   ]
  },
  {
   "cell_type": "code",
   "execution_count": null,
   "metadata": {},
   "outputs": [],
   "source": [
    "pbp = pd.DataFrame(nfl.import_pbp_data(range(2016, 2022 + 1)))"
   ]
  },
  {
   "cell_type": "code",
   "execution_count": null,
   "metadata": {},
   "outputs": [],
   "source": [
    "criteria = \"play_type == 'run' & rusher_id.notnull()\"\n",
    "pbp_run = pbp.query(criteria).reset_index()\n",
    "pbp_run['rushing_yards'] = pbp_run['rushing_yards'].fillna(0)\n",
    "pbp_run.head()"
   ]
  },
  {
   "cell_type": "code",
   "execution_count": null,
   "metadata": {},
   "outputs": [],
   "source": [
    "sns.scatterplot(pbp_run, x='ydstogo', y='rushing_yards')"
   ]
  },
  {
   "cell_type": "code",
   "execution_count": null,
   "metadata": {},
   "outputs": [],
   "source": [
    "sns.regplot(pbp_run, x='ydstogo', y='rushing_yards')"
   ]
  },
  {
   "cell_type": "code",
   "execution_count": null,
   "metadata": {},
   "outputs": [],
   "source": [
    "pbp_run_avg = pbp_run.groupby('ydstogo').agg({'rushing_yards': ['mean']})\n",
    "pbp_run_avg.columns = list(map('_'.join, pbp_run_avg.columns))\n",
    "pbp_run_avg = pbp_run_avg.reset_index()"
   ]
  },
  {
   "cell_type": "code",
   "execution_count": null,
   "metadata": {},
   "outputs": [],
   "source": [
    "sns.regplot(pbp_run_avg, x='ydstogo', y='rushing_yards_mean')"
   ]
  },
  {
   "cell_type": "markdown",
   "metadata": {},
   "source": [
    "## Rush Yards Over Expectation "
   ]
  },
  {
   "cell_type": "code",
   "execution_count": null,
   "metadata": {},
   "outputs": [],
   "source": [
    "yards_to_go = smf.ols('rushing_yards ~ 1 + ydstogo', pbp_run)\n",
    "yards_to_go.fit().summary()"
   ]
  },
  {
   "cell_type": "code",
   "execution_count": null,
   "metadata": {},
   "outputs": [],
   "source": [
    "# save the residuals \n",
    "pbp_run['ryoe'] = yards_to_go.fit().resid"
   ]
  },
  {
   "cell_type": "code",
   "execution_count": null,
   "metadata": {},
   "outputs": [],
   "source": [
    "ryoe = pbp_run.groupby(['season', 'rusher_id', 'rusher']).agg({'ryoe': ['count', 'sum', 'mean'], 'rushing_yards':['mean']})\n",
    "ryoe.columns = flatten_grouped_cols(ryoe)\n",
    "ryoe = (\n",
    "    ryoe.reset_index()\n",
    "    .rename(columns={\n",
    "        'ryoe_count': 'n',\n",
    "        'ryoe_sum': 'ryoe_total',\n",
    "        'ryoe_mean': 'ryoe_per',\n",
    "        'rushing_yards_mean': 'yards_per_carry',\n",
    "    })\n",
    "    .query('n>=50')\n",
    "    .sort_values('ryoe_total', ascending=False)\n",
    ")"
   ]
  },
  {
   "cell_type": "code",
   "execution_count": null,
   "metadata": {},
   "outputs": [],
   "source": [
    "ryoe.head(20)\n"
   ]
  },
  {
   "cell_type": "code",
   "execution_count": null,
   "metadata": {},
   "outputs": [],
   "source": [
    "ryoe.sort_values('ryoe_per', ascending=False).head(20)"
   ]
  },
  {
   "cell_type": "markdown",
   "metadata": {},
   "source": [
    "## Cool, now is RYOE a more predictive metric than YPC?"
   ]
  },
  {
   "cell_type": "code",
   "execution_count": null,
   "metadata": {},
   "outputs": [],
   "source": [
    "# lag the df\n",
    "ryoe_lag = lag_df(ryoe, index_cols=['season', 'rusher_id', 'rusher'], cols_to_lag=['ryoe_per', 'yards_per_carry'], lag_on='season')"
   ]
  },
  {
   "cell_type": "code",
   "execution_count": null,
   "metadata": {},
   "outputs": [],
   "source": [
    "ryoe_lag"
   ]
  },
  {
   "cell_type": "code",
   "execution_count": null,
   "metadata": {},
   "outputs": [],
   "source": [
    "ryoe_lag[['yards_per_carry', 'yards_per_carry_last']].corr()"
   ]
  },
  {
   "cell_type": "code",
   "execution_count": null,
   "metadata": {},
   "outputs": [],
   "source": [
    "ryoe_lag[['ryoe_per', 'ryoe_per_last']].corr()"
   ]
  },
  {
   "cell_type": "markdown",
   "metadata": {},
   "source": [
    "In conclusion, yes RYOE is a *slightly* more stable metric of a running back's performance than yards per carry from season to season"
   ]
  },
  {
   "cell_type": "markdown",
   "metadata": {},
   "source": [
    "# 4. Multiple Regression: Rushing Yards over Expected"
   ]
  },
  {
   "cell_type": "markdown",
   "metadata": {},
   "source": [
    "### Data Prep"
   ]
  },
  {
   "cell_type": "code",
   "execution_count": null,
   "metadata": {},
   "outputs": [],
   "source": [
    "pbp = pd.DataFrame(nfl.import_pbp_data(range(2016, 2022 + 1)))"
   ]
  },
  {
   "cell_type": "code",
   "execution_count": null,
   "metadata": {},
   "outputs": [],
   "source": [
    "criteria = \"play_type == 'run' & rusher_id.notnull() & down.notnull() & run_location.notnull()\"\n",
    "pbp_run = pbp.query(criteria).reset_index()\n",
    "pbp_run['rushing_yards'] = pbp_run['rushing_yards'].fillna(0)\n",
    "# convert downs to strings so they are interpreted as discrete and not continuous\n",
    "pbp_run[\"down\"] = pbp_run[\"down\"].astype(str) \n",
    "pbp_run.head()"
   ]
  },
  {
   "cell_type": "markdown",
   "metadata": {},
   "source": [
    "### Variable: Down"
   ]
  },
  {
   "cell_type": "code",
   "execution_count": null,
   "metadata": {},
   "outputs": [],
   "source": [
    "g = sns.FacetGrid(\n",
    "    data=pbp_run,\n",
    "    col=\"down\"\n",
    ")\n",
    "\n",
    "g.map_dataframe(sns.histplot, x=\"rushing_yards\")"
   ]
  },
  {
   "cell_type": "code",
   "execution_count": null,
   "metadata": {},
   "outputs": [],
   "source": [
    "sns.boxplot(data=pbp_run.query('ydstogo == 10'), x='down', y='rushing_yards')"
   ]
  },
  {
   "cell_type": "markdown",
   "metadata": {},
   "source": [
    "### Variable: Yards to Go"
   ]
  },
  {
   "cell_type": "code",
   "execution_count": null,
   "metadata": {},
   "outputs": [],
   "source": [
    "sns.regplot(\n",
    "    data=pbp_run,\n",
    "    x='yardline_100',\n",
    "    y='rushing_yards',\n",
    "    scatter_kws={'alpha':0.25},\n",
    "    line_kws={'color':'red'},\n",
    ")"
   ]
  },
  {
   "cell_type": "code",
   "execution_count": null,
   "metadata": {},
   "outputs": [],
   "source": [
    "# bin the data by yards to go\n",
    "pbp_run_y100 = (\n",
    "    pbp_run.groupby('yardline_100')\n",
    "    .agg({'rushing_yards':['mean']})\n",
    ")\n",
    "pbp_run_y100.columns = flatten_grouped_cols(pbp_run_y100.columns)\n",
    "pbp_run_y100 = pbp_run_y100.reset_index()"
   ]
  },
  {
   "cell_type": "code",
   "execution_count": null,
   "metadata": {},
   "outputs": [],
   "source": [
    "sns.regplot(\n",
    "    data=pbp_run_y100,\n",
    "    x='yardline_100',\n",
    "    y='rushing_yards_mean',\n",
    "    scatter_kws={'alpha':0.25},\n",
    "    line_kws={'color':'red'},\n",
    ")"
   ]
  },
  {
   "cell_type": "markdown",
   "metadata": {},
   "source": [
    "### Variable: Run Location"
   ]
  },
  {
   "cell_type": "code",
   "execution_count": null,
   "metadata": {},
   "outputs": [],
   "source": [
    "sns.boxplot(\n",
    "    data=pbp_run,\n",
    "    x='run_location',\n",
    "    y='rushing_yards',\n",
    ")"
   ]
  },
  {
   "cell_type": "markdown",
   "metadata": {},
   "source": [
    "### Variable: Score Differential"
   ]
  },
  {
   "cell_type": "code",
   "execution_count": null,
   "metadata": {},
   "outputs": [],
   "source": [
    "sns.regplot(\n",
    "    data=pbp_run,\n",
    "    x='score_differential',\n",
    "    y='rushing_yards',\n",
    "    scatter_kws={'alpha':0.25},\n",
    "    line_kws={'color':'red'},\n",
    ")"
   ]
  },
  {
   "cell_type": "code",
   "execution_count": null,
   "metadata": {},
   "outputs": [],
   "source": [
    "# bin the data by yards to go\n",
    "pbp_run_sd = (\n",
    "    pbp_run.groupby('score_differential')\n",
    "    .agg({'rushing_yards':['mean']})\n",
    ")\n",
    "pbp_run_sd.columns = flatten_grouped_cols(pbp_run_sd.columns)\n",
    "pbp_run_sd = pbp_run_sd.reset_index()"
   ]
  },
  {
   "cell_type": "code",
   "execution_count": null,
   "metadata": {},
   "outputs": [],
   "source": [
    "sns.regplot(\n",
    "    data=pbp_run_sd,\n",
    "    x='score_differential',\n",
    "    y='rushing_yards_mean',\n",
    "    scatter_kws={'alpha':0.25},\n",
    "    line_kws={'color':'red'},\n",
    ")"
   ]
  },
  {
   "cell_type": "markdown",
   "metadata": {},
   "source": [
    "### Takeaways\n",
    "\n",
    "These variables all showed a relationship with rushing yards:\n",
    "* down\n",
    "* yards to go\n",
    "* run location\n",
    "* score differential"
   ]
  },
  {
   "cell_type": "markdown",
   "metadata": {},
   "source": [
    "## Generalised Linear Modelling: RYOE"
   ]
  },
  {
   "cell_type": "code",
   "execution_count": null,
   "metadata": {},
   "outputs": [],
   "source": [
    "expected_yards = smf.ols(\n",
    "    data=pbp_run,\n",
    "    formula='rushing_yards ~ 1 + down + ydstogo + down:ydstogo + yardline_100 + run_location + score_differential'\n",
    ").fit()\n",
    "expected_yards.summary()"
   ]
  },
  {
   "cell_type": "code",
   "execution_count": null,
   "metadata": {},
   "outputs": [],
   "source": [
    "pbp_run['ryoe'] = expected_yards.resid"
   ]
  },
  {
   "cell_type": "code",
   "execution_count": null,
   "metadata": {},
   "outputs": [],
   "source": [
    "ryoe = pbp_run.groupby(['season', 'rusher_id', 'rusher']).agg({'ryoe': ['count', 'sum', 'mean'], 'rushing_yards':['mean']})\n",
    "ryoe.columns = flatten_grouped_cols(ryoe)\n",
    "ryoe = (\n",
    "    ryoe.reset_index()\n",
    "    .rename(columns={\n",
    "        'ryoe_count': 'n',\n",
    "        'ryoe_sum': 'ryoe_total',\n",
    "        'ryoe_mean': 'ryoe_per',\n",
    "        'rushing_yards_mean': 'yards_per_carry',\n",
    "    })\n",
    "    .query('n>=50')\n",
    "    .sort_values('ryoe_total', ascending=False)\n",
    ")"
   ]
  },
  {
   "cell_type": "code",
   "execution_count": null,
   "metadata": {},
   "outputs": [],
   "source": [
    "ryoe.head(20)"
   ]
  },
  {
   "cell_type": "code",
   "execution_count": null,
   "metadata": {},
   "outputs": [],
   "source": [
    "ryoe.sort_values('ryoe_per', ascending=False).head(20)"
   ]
  },
  {
   "cell_type": "markdown",
   "metadata": {},
   "source": [
    "## Is the generalised RYOE model more stable than the simple model?"
   ]
  },
  {
   "cell_type": "code",
   "execution_count": null,
   "metadata": {},
   "outputs": [],
   "source": [
    "# lag the df\n",
    "ryoe_lag = lag_df(ryoe, index_cols=['season', 'rusher_id', 'rusher'], cols_to_lag=['ryoe_per'], lag_on='season')"
   ]
  },
  {
   "cell_type": "code",
   "execution_count": null,
   "metadata": {},
   "outputs": [],
   "source": [
    "ryoe_lag"
   ]
  },
  {
   "cell_type": "code",
   "execution_count": null,
   "metadata": {},
   "outputs": [],
   "source": [
    "ryoe_lag[['ryoe_per', 'ryoe_per_last']].corr()"
   ]
  },
  {
   "cell_type": "markdown",
   "metadata": {},
   "source": [
    "Yes! we have improved the correlation from 0.34 to 0.37, a small but positive increase!"
   ]
  },
  {
   "cell_type": "markdown",
   "metadata": {},
   "source": [
    "# 5. Generalized Linear Models: Completion Percentage over Expected"
   ]
  },
  {
   "cell_type": "markdown",
   "metadata": {},
   "source": [
    "## Data Prep"
   ]
  },
  {
   "cell_type": "code",
   "execution_count": null,
   "metadata": {},
   "outputs": [],
   "source": [
    "pbp = pd.DataFrame(nfl.import_pbp_data(range(2016, 2022 + 1)))\n",
    "criteria = 'play_type==\"pass\" & passer_id.notnull() & air_yards.notnull()'\n",
    "pbp_pass = (\n",
    "    pbp.query(criteria)\n",
    "    .reset_index()\n",
    ")"
   ]
  },
  {
   "cell_type": "code",
   "execution_count": null,
   "metadata": {},
   "outputs": [],
   "source": [
    "pass_pct = (\n",
    "    pbp_pass.query('0 < air_yards <= 20')\n",
    "    .groupby('air_yards')\n",
    "    .agg({'complete_pass':['mean']})\n",
    ")\n",
    "pass_pct.columns = flatten_grouped_cols(pass_pct.columns)\n",
    "pass_pct = pass_pct.reset_index().rename(columns={'complete_pass_mean':'comp_pct'})"
   ]
  },
  {
   "cell_type": "code",
   "execution_count": null,
   "metadata": {},
   "outputs": [],
   "source": [
    "sns.regplot(pass_pct, x='air_yards', y='comp_pct', line_kws={'color':'red'})"
   ]
  },
  {
   "cell_type": "markdown",
   "metadata": {},
   "source": [
    "## Simple GLM Completion Percentage and Air Yards"
   ]
  },
  {
   "cell_type": "code",
   "execution_count": null,
   "metadata": {},
   "outputs": [],
   "source": [
    "complete_ay = (\n",
    "    smf.glm(formula='complete_pass ~ air_yards', \n",
    "            data=pbp_pass,\n",
    "            family=sm.families.Binomial()\n",
    "    )\n",
    "    .fit()\n",
    ")\n",
    "complete_ay.summary()"
   ]
  },
  {
   "cell_type": "markdown",
   "metadata": {},
   "source": [
    "Negative coefficient means that deeper passes are less likely to be completed"
   ]
  },
  {
   "cell_type": "code",
   "execution_count": null,
   "metadata": {},
   "outputs": [],
   "source": [
    "# regular linear regression is bad!\n",
    "sns.regplot(data=pbp_pass, \n",
    "            x='air_yards',\n",
    "            y='complete_pass',\n",
    "            logistic=False,\n",
    "            line_kws={'color':'red'},\n",
    "            scatter_kws={'alpha':0.05})"
   ]
  },
  {
   "cell_type": "code",
   "execution_count": null,
   "metadata": {},
   "outputs": [],
   "source": [
    "# logistic regression better\n",
    "sns.regplot(data=pbp_pass, \n",
    "            x='air_yards',\n",
    "            y='complete_pass',\n",
    "            logistic=True,\n",
    "            line_kws={'color':'red'},\n",
    "            scatter_kws={'alpha':0.05})"
   ]
  },
  {
   "cell_type": "code",
   "execution_count": null,
   "metadata": {},
   "outputs": [],
   "source": [
    "pbp_pass['exp_completion'] = complete_ay.predict()\n",
    "pbp_pass['cpoe'] = pbp_pass['complete_pass'] - pbp_pass['exp_completion']"
   ]
  },
  {
   "cell_type": "code",
   "execution_count": null,
   "metadata": {},
   "outputs": [],
   "source": [
    "cpoe = (\n",
    "    pbp_pass.groupby(['season', 'passer_id', 'passer'])\n",
    "    .agg({'cpoe': ['count', 'mean'], 'complete_pass': ['mean']})\n",
    ")\n",
    "cpoe.columns = flatten_grouped_cols(cpoe.columns)\n",
    "cpoe = (\n",
    "    cpoe.reset_index()\n",
    "    .rename(columns={\n",
    "        'cpoe_count': 'n',\n",
    "        'cpoe_mean': 'cpoe',\n",
    "        'complete_pass_mean': 'compl'\n",
    "    })\n",
    "    .query('n > 100')\n",
    ")\n",
    "cpoe.sort_values('cpoe', ascending=False)"
   ]
  },
  {
   "cell_type": "markdown",
   "metadata": {},
   "source": [
    "## Improving CPOE model"
   ]
  },
  {
   "cell_type": "code",
   "execution_count": null,
   "metadata": {},
   "outputs": [],
   "source": [
    "pbp_pass['down'] = pbp_pass['down'].astype(str)\n",
    "pbp_pass['qb_hit'] = pbp_pass['qb_hit'].astype(str)\n",
    "\n",
    "pbp_pass_no_miss = (\n",
    "    pbp_pass[['season', 'passer_id', 'passer', 'down', 'qb_hit', 'complete_pass', 'ydstogo', 'yardline_100', 'air_yards', 'pass_location']]\n",
    "    .dropna(axis=0)\n",
    ")"
   ]
  },
  {
   "cell_type": "code",
   "execution_count": null,
   "metadata": {},
   "outputs": [],
   "source": [
    "complete_more = smf.glm(\n",
    "    formula=\"complete_pass ~ down * ydstogo + yardline_100 + air_yards + pass_location + qb_hit\",\n",
    "    data=pbp_pass_no_miss,\n",
    "    family=sm.families.Binomial(),\n",
    ").fit()\n",
    "complete_more.summary()"
   ]
  },
  {
   "cell_type": "code",
   "execution_count": null,
   "metadata": {},
   "outputs": [],
   "source": [
    "pbp_pass_no_miss['exp_completion'] = complete_more.predict()\n",
    "pbp_pass_no_miss['cpoe'] = pbp_pass_no_miss['complete_pass'] - pbp_pass_no_miss['exp_completion']"
   ]
  },
  {
   "cell_type": "code",
   "execution_count": null,
   "metadata": {},
   "outputs": [],
   "source": [
    "cpoe_more = (\n",
    "    pbp_pass_no_miss.groupby(['season', 'passer_id', 'passer'])\n",
    "    .agg({'cpoe': ['count', 'mean'], 'complete_pass': ['mean']})\n",
    ")\n",
    "cpoe_more.columns = flatten_grouped_cols(cpoe_more.columns)\n",
    "cpoe_more = (\n",
    "    cpoe_more.reset_index()\n",
    "    .rename(columns={\n",
    "        'cpoe_count': 'n',\n",
    "        'cpoe_mean': 'cpoe',\n",
    "        'complete_pass_mean': 'compl'\n",
    "    })\n",
    "    .query('n > 100')\n",
    ")\n",
    "cpoe_more.sort_values('cpoe', ascending=False)"
   ]
  },
  {
   "cell_type": "markdown",
   "metadata": {},
   "source": [
    "## Is CPOE more stable than completion percentage?"
   ]
  },
  {
   "cell_type": "code",
   "execution_count": null,
   "metadata": {},
   "outputs": [],
   "source": [
    "cpoe_lag = lag_df(cpoe_more, index_cols=['season', 'passer_id', 'passer'], cols_to_lag=['cpoe', 'compl'], lag_on='season')"
   ]
  },
  {
   "cell_type": "code",
   "execution_count": null,
   "metadata": {},
   "outputs": [],
   "source": [
    "cpoe_lag[['compl', 'compl_last']].corr()"
   ]
  },
  {
   "cell_type": "code",
   "execution_count": null,
   "metadata": {},
   "outputs": [],
   "source": [
    "cpoe_lag[['cpoe', 'cpoe_last']].corr()"
   ]
  },
  {
   "cell_type": "markdown",
   "metadata": {},
   "source": [
    "# 6. Data Science for Sports Betting: Poisson Regression and Passing Touchdowns"
   ]
  },
  {
   "cell_type": "markdown",
   "metadata": {},
   "source": [
    "### Data Prep"
   ]
  },
  {
   "cell_type": "code",
   "execution_count": null,
   "metadata": {},
   "outputs": [],
   "source": [
    "pbp = pd.DataFrame(nfl.import_pbp_data(range(2016, 2022 + 1)))\n",
    "criteria = 'passer_id.notnull()'\n",
    "pbp_pass = (\n",
    "    pbp.query(criteria)\n",
    "    .reset_index()\n",
    ")"
   ]
  },
  {
   "cell_type": "code",
   "execution_count": null,
   "metadata": {},
   "outputs": [],
   "source": [
    "pbp_pass['pass_touchdown'] = pbp_pass['pass_touchdown'].fillna(0)\n",
    "pbp_pass['passer'] = pbp_pass['passer'].fillna('none')\n",
    "pbp_pass['passer_id'] = pbp_pass['passer_id'].fillna('none')"
   ]
  },
  {
   "cell_type": "code",
   "execution_count": null,
   "metadata": {},
   "outputs": [],
   "source": [
    "pbp_pass_td_y = (\n",
    "    pbp_pass.groupby(['season', 'week', 'passer_id', 'passer'])\n",
    "    .agg({'pass_touchdown': ['sum'], 'total_line':['count', 'mean']})\n",
    ")\n",
    "pbp_pass_td_y.columns = flatten_grouped_cols(pbp_pass_td_y.columns)\n",
    "pbp_pass_td_y = (\n",
    "    pbp_pass_td_y.reset_index()\n",
    "    .rename(columns={\n",
    "        'pass_touchdown_sum': 'pass_td_y',\n",
    "        'total_line_mean': 'total_line',\n",
    "        'total_line_count': 'n_passes',\n",
    "    })\n",
    "    .query('n_passes >= 10')\n",
    ")"
   ]
  },
  {
   "cell_type": "code",
   "execution_count": null,
   "metadata": {},
   "outputs": [],
   "source": [
    "pbp_pass_td_y.groupby('pass_td_y').agg({'n_passes':'count'})"
   ]
  },
  {
   "cell_type": "code",
   "execution_count": null,
   "metadata": {},
   "outputs": [],
   "source": [
    "pbp_pass_td_y.describe()"
   ]
  },
  {
   "cell_type": "code",
   "execution_count": null,
   "metadata": {},
   "outputs": [],
   "source": [
    "pass_td_y_mean = pbp_pass_td_y['pass_td_y'].mean()\n",
    "\n",
    "plot_pos = pd.DataFrame({\n",
    "            'x': range(7),\n",
    "            'expected':[poisson.pmf(x, pass_td_y_mean) for x in range(7)]\n",
    "        })\n",
    "\n",
    "sns.histplot(pbp_pass_td_y['pass_td_y'], stat='probability')\n",
    "plt.plot(plot_pos.x, plot_pos.expected)\n",
    "plt.show()"
   ]
  },
  {
   "cell_type": "code",
   "execution_count": null,
   "metadata": {},
   "outputs": [],
   "source": [
    "# only look into players with pass attempts >10\n",
    "pbp_pass_td_y_geq10 = pbp_pass_td_y.query(\"n_passes >= 10\")\n",
    "\n",
    "\n",
    "# take the avg td passes for each qb for the previous and current seasons\n",
    "def get_pass_td_rate_previous_and_curent_seasons(season_id, week_id):\n",
    "    query_str = f\"(season=={season_id - 1}) | (season=={season_id} & week < {week_id})\"\n",
    "    weekly_pass_td = (\n",
    "        pbp_pass_td_y_geq10.query(query_str)\n",
    "        .groupby([\"passer_id\", \"passer\"])\n",
    "        .agg({\"pass_td_y\": [\"count\", \"mean\"]})\n",
    "    )\n",
    "    weekly_pass_td.columns = flatten_grouped_cols(weekly_pass_td.columns)\n",
    "    weekly_pass_td = weekly_pass_td.reset_index().rename(\n",
    "        columns={\n",
    "            \"pass_td_y_count\": \"n_games\",\n",
    "            \"pass_td_y_mean\": \"pass_td_rate\",\n",
    "        }\n",
    "    )\n",
    "    weekly_pass_td[\"season\"] = season_id\n",
    "    weekly_pass_td[\"week\"] = week_id\n",
    "    return weekly_pass_td\n",
    "\n",
    "\n",
    "x_py = pd.concat(\n",
    "    [\n",
    "        get_pass_td_rate_previous_and_curent_seasons(season_id, week_id)\n",
    "        for season_id in range(2017, 2023)\n",
    "        for week_id in range(1, 23)\n",
    "    ],\n",
    "    ignore_index=True,\n",
    ")\n",
    "x_py.shape"
   ]
  },
  {
   "cell_type": "code",
   "execution_count": null,
   "metadata": {},
   "outputs": [],
   "source": [
    "x_py.query('passer==\"P.Mahomes\"').tail()"
   ]
  },
  {
   "cell_type": "code",
   "execution_count": null,
   "metadata": {},
   "outputs": [],
   "source": [
    "pbp_pass_td_y_geq10.query(\"season > 2016\").merge(\n",
    "    x_py, how=\"inner\", on=[\"season\", \"week\", \"passer_id\", \"passer\"]\n",
    ")\n",
    "pbp_pass_td_y_geq10.shape"
   ]
  },
  {
   "cell_type": "markdown",
   "metadata": {},
   "source": [
    "# 7. Web Scraping: Obtaining and Analyzing Draft Picks"
   ]
  },
  {
   "cell_type": "markdown",
   "metadata": {},
   "source": [
    "# 8. PCA and Clustering: Player Attributes"
   ]
  },
  {
   "cell_type": "markdown",
   "metadata": {},
   "source": [
    "# 9. Advanced Tools and Next Steps"
   ]
  }
 ],
 "metadata": {
  "kernelspec": {
   "display_name": "nfl",
   "language": "python",
   "name": "python3"
  },
  "language_info": {
   "codemirror_mode": {
    "name": "ipython",
    "version": 3
   },
   "file_extension": ".py",
   "mimetype": "text/x-python",
   "name": "python",
   "nbconvert_exporter": "python",
   "pygments_lexer": "ipython3",
   "version": "3.11.9"
  }
 },
 "nbformat": 4,
 "nbformat_minor": 2
}
