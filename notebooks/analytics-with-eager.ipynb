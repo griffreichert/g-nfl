{
 "cells": [
  {
   "cell_type": "code",
   "execution_count": 8,
   "metadata": {},
   "outputs": [],
   "source": [
    "import sys\n",
    "import os\n",
    "\n",
    "# Navigate up one level to the parent directory and append it to sys.path\n",
    "sys.path.append(os.path.abspath(os.path.join(os.getcwd(), os.pardir)))\n",
    "\n",
    "import nfl_data_py as nfl\n",
    "import pandas as pd\n",
    "from src import utils\n",
    "\n",
    "import plotly.express as px"
   ]
  },
  {
   "cell_type": "markdown",
   "metadata": {},
   "source": [
    "# 1. Football Analytics"
   ]
  },
  {
   "cell_type": "markdown",
   "metadata": {},
   "source": [
    "The goal of this chapter is to get familiar with nfl_data_py and analyze QB ADOT"
   ]
  },
  {
   "cell_type": "code",
   "execution_count": 3,
   "metadata": {},
   "outputs": [
    {
     "name": "stdout",
     "output_type": "stream",
     "text": [
      "2023 done.\n",
      "Downcasting floats.\n"
     ]
    }
   ],
   "source": [
    "pbp = nfl.import_pbp_data([2023])"
   ]
  },
  {
   "cell_type": "code",
   "execution_count": 45,
   "metadata": {},
   "outputs": [
    {
     "data": {
      "text/html": [
       "<div>\n",
       "<style scoped>\n",
       "    .dataframe tbody tr th:only-of-type {\n",
       "        vertical-align: middle;\n",
       "    }\n",
       "\n",
       "    .dataframe tbody tr th {\n",
       "        vertical-align: top;\n",
       "    }\n",
       "\n",
       "    .dataframe thead th {\n",
       "        text-align: right;\n",
       "    }\n",
       "</style>\n",
       "<table border=\"1\" class=\"dataframe\">\n",
       "  <thead>\n",
       "    <tr style=\"text-align: right;\">\n",
       "      <th></th>\n",
       "      <th>passer</th>\n",
       "      <th>posteam</th>\n",
       "      <th>air_yards_count</th>\n",
       "      <th>air_yards_mean</th>\n",
       "      <th>epa_mean</th>\n",
       "    </tr>\n",
       "  </thead>\n",
       "  <tbody>\n",
       "    <tr>\n",
       "      <th>0</th>\n",
       "      <td>D.Watson</td>\n",
       "      <td>CLE</td>\n",
       "      <td>107</td>\n",
       "      <td>9.794393</td>\n",
       "      <td>-0.040751</td>\n",
       "    </tr>\n",
       "    <tr>\n",
       "      <th>1</th>\n",
       "      <td>R.Tannehill</td>\n",
       "      <td>TEN</td>\n",
       "      <td>157</td>\n",
       "      <td>9.375796</td>\n",
       "      <td>0.096253</td>\n",
       "    </tr>\n",
       "    <tr>\n",
       "      <th>2</th>\n",
       "      <td>J.Love</td>\n",
       "      <td>GB</td>\n",
       "      <td>234</td>\n",
       "      <td>9.333333</td>\n",
       "      <td>0.042378</td>\n",
       "    </tr>\n",
       "    <tr>\n",
       "      <th>3</th>\n",
       "      <td>D.Carr</td>\n",
       "      <td>NO</td>\n",
       "      <td>282</td>\n",
       "      <td>8.829787</td>\n",
       "      <td>0.102541</td>\n",
       "    </tr>\n",
       "    <tr>\n",
       "      <th>4</th>\n",
       "      <td>J.Hurts</td>\n",
       "      <td>PHI</td>\n",
       "      <td>282</td>\n",
       "      <td>8.765958</td>\n",
       "      <td>0.202284</td>\n",
       "    </tr>\n",
       "    <tr>\n",
       "      <th>5</th>\n",
       "      <td>M.Stafford</td>\n",
       "      <td>LA</td>\n",
       "      <td>275</td>\n",
       "      <td>8.574546</td>\n",
       "      <td>0.151826</td>\n",
       "    </tr>\n",
       "    <tr>\n",
       "      <th>6</th>\n",
       "      <td>J.Allen</td>\n",
       "      <td>BUF</td>\n",
       "      <td>285</td>\n",
       "      <td>8.470176</td>\n",
       "      <td>0.259472</td>\n",
       "    </tr>\n",
       "    <tr>\n",
       "      <th>7</th>\n",
       "      <td>J.Dobbs</td>\n",
       "      <td>ARI</td>\n",
       "      <td>266</td>\n",
       "      <td>8.263158</td>\n",
       "      <td>-0.022246</td>\n",
       "    </tr>\n",
       "    <tr>\n",
       "      <th>8</th>\n",
       "      <td>C.Stroud</td>\n",
       "      <td>HOU</td>\n",
       "      <td>232</td>\n",
       "      <td>8.232759</td>\n",
       "      <td>0.230595</td>\n",
       "    </tr>\n",
       "    <tr>\n",
       "      <th>9</th>\n",
       "      <td>B.Mayfield</td>\n",
       "      <td>TB</td>\n",
       "      <td>246</td>\n",
       "      <td>8.154471</td>\n",
       "      <td>0.088271</td>\n",
       "    </tr>\n",
       "    <tr>\n",
       "      <th>10</th>\n",
       "      <td>B.Purdy</td>\n",
       "      <td>SF</td>\n",
       "      <td>222</td>\n",
       "      <td>8.126126</td>\n",
       "      <td>0.415706</td>\n",
       "    </tr>\n",
       "    <tr>\n",
       "      <th>11</th>\n",
       "      <td>J.Garoppolo</td>\n",
       "      <td>LV</td>\n",
       "      <td>167</td>\n",
       "      <td>8.119761</td>\n",
       "      <td>0.055650</td>\n",
       "    </tr>\n",
       "    <tr>\n",
       "      <th>12</th>\n",
       "      <td>J.Herbert</td>\n",
       "      <td>LAC</td>\n",
       "      <td>252</td>\n",
       "      <td>8.083333</td>\n",
       "      <td>0.246177</td>\n",
       "    </tr>\n",
       "    <tr>\n",
       "      <th>13</th>\n",
       "      <td>S.Howell</td>\n",
       "      <td>WAS</td>\n",
       "      <td>308</td>\n",
       "      <td>7.889610</td>\n",
       "      <td>0.078219</td>\n",
       "    </tr>\n",
       "    <tr>\n",
       "      <th>14</th>\n",
       "      <td>D.Ridder</td>\n",
       "      <td>ATL</td>\n",
       "      <td>239</td>\n",
       "      <td>7.820084</td>\n",
       "      <td>0.030717</td>\n",
       "    </tr>\n",
       "    <tr>\n",
       "      <th>15</th>\n",
       "      <td>L.Jackson</td>\n",
       "      <td>BAL</td>\n",
       "      <td>227</td>\n",
       "      <td>7.713656</td>\n",
       "      <td>0.226654</td>\n",
       "    </tr>\n",
       "    <tr>\n",
       "      <th>16</th>\n",
       "      <td>K.Pickett</td>\n",
       "      <td>PIT</td>\n",
       "      <td>199</td>\n",
       "      <td>7.668342</td>\n",
       "      <td>-0.051301</td>\n",
       "    </tr>\n",
       "    <tr>\n",
       "      <th>17</th>\n",
       "      <td>T.Tagovailoa</td>\n",
       "      <td>MIA</td>\n",
       "      <td>273</td>\n",
       "      <td>7.556777</td>\n",
       "      <td>0.374918</td>\n",
       "    </tr>\n",
       "    <tr>\n",
       "      <th>18</th>\n",
       "      <td>J.Fields</td>\n",
       "      <td>CHI</td>\n",
       "      <td>162</td>\n",
       "      <td>7.549383</td>\n",
       "      <td>0.106343</td>\n",
       "    </tr>\n",
       "    <tr>\n",
       "      <th>19</th>\n",
       "      <td>Z.Wilson</td>\n",
       "      <td>NYJ</td>\n",
       "      <td>215</td>\n",
       "      <td>7.525581</td>\n",
       "      <td>-0.109968</td>\n",
       "    </tr>\n",
       "    <tr>\n",
       "      <th>20</th>\n",
       "      <td>R.Wilson</td>\n",
       "      <td>DEN</td>\n",
       "      <td>230</td>\n",
       "      <td>7.286956</td>\n",
       "      <td>0.118540</td>\n",
       "    </tr>\n",
       "    <tr>\n",
       "      <th>21</th>\n",
       "      <td>K.Cousins</td>\n",
       "      <td>MIN</td>\n",
       "      <td>309</td>\n",
       "      <td>7.284790</td>\n",
       "      <td>0.181163</td>\n",
       "    </tr>\n",
       "    <tr>\n",
       "      <th>22</th>\n",
       "      <td>G.Minshew II</td>\n",
       "      <td>IND</td>\n",
       "      <td>202</td>\n",
       "      <td>7.262376</td>\n",
       "      <td>0.116675</td>\n",
       "    </tr>\n",
       "    <tr>\n",
       "      <th>23</th>\n",
       "      <td>G.Smith</td>\n",
       "      <td>SEA</td>\n",
       "      <td>224</td>\n",
       "      <td>7.227679</td>\n",
       "      <td>0.150800</td>\n",
       "    </tr>\n",
       "    <tr>\n",
       "      <th>24</th>\n",
       "      <td>M.Jones</td>\n",
       "      <td>NE</td>\n",
       "      <td>260</td>\n",
       "      <td>7.150000</td>\n",
       "      <td>-0.082414</td>\n",
       "    </tr>\n",
       "    <tr>\n",
       "      <th>25</th>\n",
       "      <td>D.Prescott</td>\n",
       "      <td>DAL</td>\n",
       "      <td>221</td>\n",
       "      <td>7.140272</td>\n",
       "      <td>0.240130</td>\n",
       "    </tr>\n",
       "    <tr>\n",
       "      <th>26</th>\n",
       "      <td>T.Lawrence</td>\n",
       "      <td>JAX</td>\n",
       "      <td>271</td>\n",
       "      <td>6.933579</td>\n",
       "      <td>0.115134</td>\n",
       "    </tr>\n",
       "    <tr>\n",
       "      <th>27</th>\n",
       "      <td>P.Mahomes</td>\n",
       "      <td>KC</td>\n",
       "      <td>303</td>\n",
       "      <td>6.815182</td>\n",
       "      <td>0.189637</td>\n",
       "    </tr>\n",
       "    <tr>\n",
       "      <th>28</th>\n",
       "      <td>B.Young</td>\n",
       "      <td>CAR</td>\n",
       "      <td>213</td>\n",
       "      <td>6.699531</td>\n",
       "      <td>0.003327</td>\n",
       "    </tr>\n",
       "    <tr>\n",
       "      <th>29</th>\n",
       "      <td>J.Goff</td>\n",
       "      <td>DET</td>\n",
       "      <td>292</td>\n",
       "      <td>6.578767</td>\n",
       "      <td>0.157167</td>\n",
       "    </tr>\n",
       "    <tr>\n",
       "      <th>30</th>\n",
       "      <td>D.Jones</td>\n",
       "      <td>NYG</td>\n",
       "      <td>151</td>\n",
       "      <td>6.423841</td>\n",
       "      <td>-0.127768</td>\n",
       "    </tr>\n",
       "    <tr>\n",
       "      <th>31</th>\n",
       "      <td>J.Burrow</td>\n",
       "      <td>CIN</td>\n",
       "      <td>262</td>\n",
       "      <td>6.129771</td>\n",
       "      <td>0.065173</td>\n",
       "    </tr>\n",
       "  </tbody>\n",
       "</table>\n",
       "</div>"
      ],
      "text/plain": [
       "          passer posteam  air_yards_count  air_yards_mean  epa_mean\n",
       "0       D.Watson     CLE              107        9.794393 -0.040751\n",
       "1    R.Tannehill     TEN              157        9.375796  0.096253\n",
       "2         J.Love      GB              234        9.333333  0.042378\n",
       "3         D.Carr      NO              282        8.829787  0.102541\n",
       "4        J.Hurts     PHI              282        8.765958  0.202284\n",
       "5     M.Stafford      LA              275        8.574546  0.151826\n",
       "6        J.Allen     BUF              285        8.470176  0.259472\n",
       "7        J.Dobbs     ARI              266        8.263158 -0.022246\n",
       "8       C.Stroud     HOU              232        8.232759  0.230595\n",
       "9     B.Mayfield      TB              246        8.154471  0.088271\n",
       "10       B.Purdy      SF              222        8.126126  0.415706\n",
       "11   J.Garoppolo      LV              167        8.119761  0.055650\n",
       "12     J.Herbert     LAC              252        8.083333  0.246177\n",
       "13      S.Howell     WAS              308        7.889610  0.078219\n",
       "14      D.Ridder     ATL              239        7.820084  0.030717\n",
       "15     L.Jackson     BAL              227        7.713656  0.226654\n",
       "16     K.Pickett     PIT              199        7.668342 -0.051301\n",
       "17  T.Tagovailoa     MIA              273        7.556777  0.374918\n",
       "18      J.Fields     CHI              162        7.549383  0.106343\n",
       "19      Z.Wilson     NYJ              215        7.525581 -0.109968\n",
       "20      R.Wilson     DEN              230        7.286956  0.118540\n",
       "21     K.Cousins     MIN              309        7.284790  0.181163\n",
       "22  G.Minshew II     IND              202        7.262376  0.116675\n",
       "23       G.Smith     SEA              224        7.227679  0.150800\n",
       "24       M.Jones      NE              260        7.150000 -0.082414\n",
       "25    D.Prescott     DAL              221        7.140272  0.240130\n",
       "26    T.Lawrence     JAX              271        6.933579  0.115134\n",
       "27     P.Mahomes      KC              303        6.815182  0.189637\n",
       "28       B.Young     CAR              213        6.699531  0.003327\n",
       "29        J.Goff     DET              292        6.578767  0.157167\n",
       "30       D.Jones     NYG              151        6.423841 -0.127768\n",
       "31      J.Burrow     CIN              262        6.129771  0.065173"
      ]
     },
     "execution_count": 45,
     "metadata": {},
     "output_type": "execute_result"
    }
   ],
   "source": [
    "filter_criteria = 'play_type==\"pass\" & air_yards.notnull()'\n",
    "\n",
    "pass_pbp = (\n",
    "    pbp.query(filter_criteria)\n",
    "    # .groupby(['passer_id', 'passer'])\n",
    "    .groupby(['passer', 'posteam'])\n",
    "    .agg({'air_yards': ['count', 'mean'], 'epa':'mean'})\n",
    ")\n",
    "\n",
    "pass_pbp.columns = list(map('_'.join, pass_pbp.columns.values))\n",
    "pass_pbp = pass_pbp[pass_pbp['air_yards_count'] >= 100].sort_values('air_yards_mean', ascending=False).reset_index()\n",
    "pass_pbp"
   ]
  },
  {
   "cell_type": "code",
   "execution_count": 59,
   "metadata": {},
   "outputs": [
    {
     "data": {
      "application/vnd.plotly.v1+json": {
       "config": {
        "plotlyServerURL": "https://plot.ly"
       },
       "data": [
        {
         "hovertemplate": "posteam=CLE<br>air_yards_mean=%{x}<br>epa_mean=%{y}<br>passer=%{text}<extra></extra>",
         "legendgroup": "CLE",
         "marker": {
          "color": "#FF3C00",
          "opacity": 0,
          "symbol": "circle"
         },
         "mode": "markers+text",
         "name": "CLE",
         "orientation": "v",
         "showlegend": false,
         "text": [
          "D.Watson"
         ],
         "textposition": "bottom center",
         "type": "scatter",
         "x": [
          9.794392585754395
         ],
         "xaxis": "x",
         "y": [
          -0.04075097665190697
         ],
         "yaxis": "y"
        },
        {
         "hovertemplate": "posteam=TEN<br>air_yards_mean=%{x}<br>epa_mean=%{y}<br>passer=%{text}<extra></extra>",
         "legendgroup": "TEN",
         "marker": {
          "color": "#002244",
          "opacity": 0,
          "symbol": "circle"
         },
         "mode": "markers+text",
         "name": "TEN",
         "orientation": "v",
         "showlegend": false,
         "text": [
          "R.Tannehill"
         ],
         "textposition": "bottom center",
         "type": "scatter",
         "x": [
          9.3757963180542
         ],
         "xaxis": "x",
         "y": [
          0.09625282138586044
         ],
         "yaxis": "y"
        },
        {
         "hovertemplate": "posteam=GB<br>air_yards_mean=%{x}<br>epa_mean=%{y}<br>passer=%{text}<extra></extra>",
         "legendgroup": "GB",
         "marker": {
          "color": "#203731",
          "opacity": 0,
          "symbol": "circle"
         },
         "mode": "markers+text",
         "name": "GB",
         "orientation": "v",
         "showlegend": false,
         "text": [
          "J.Love"
         ],
         "textposition": "bottom center",
         "type": "scatter",
         "x": [
          9.333333015441895
         ],
         "xaxis": "x",
         "y": [
          0.04237811267375946
         ],
         "yaxis": "y"
        },
        {
         "hovertemplate": "posteam=NO<br>air_yards_mean=%{x}<br>epa_mean=%{y}<br>passer=%{text}<extra></extra>",
         "legendgroup": "NO",
         "marker": {
          "color": "#D3BC8D",
          "opacity": 0,
          "symbol": "circle"
         },
         "mode": "markers+text",
         "name": "NO",
         "orientation": "v",
         "showlegend": false,
         "text": [
          "D.Carr"
         ],
         "textposition": "bottom center",
         "type": "scatter",
         "x": [
          8.829787254333496
         ],
         "xaxis": "x",
         "y": [
          0.1025414988398552
         ],
         "yaxis": "y"
        },
        {
         "hovertemplate": "posteam=PHI<br>air_yards_mean=%{x}<br>epa_mean=%{y}<br>passer=%{text}<extra></extra>",
         "legendgroup": "PHI",
         "marker": {
          "color": "#004C54",
          "opacity": 0,
          "symbol": "circle"
         },
         "mode": "markers+text",
         "name": "PHI",
         "orientation": "v",
         "showlegend": false,
         "text": [
          "J.Hurts"
         ],
         "textposition": "bottom center",
         "type": "scatter",
         "x": [
          8.765957832336426
         ],
         "xaxis": "x",
         "y": [
          0.20228426158428192
         ],
         "yaxis": "y"
        },
        {
         "hovertemplate": "posteam=LA<br>air_yards_mean=%{x}<br>epa_mean=%{y}<br>passer=%{text}<extra></extra>",
         "legendgroup": "LA",
         "marker": {
          "color": "#003594",
          "opacity": 0,
          "symbol": "circle"
         },
         "mode": "markers+text",
         "name": "LA",
         "orientation": "v",
         "showlegend": false,
         "text": [
          "M.Stafford"
         ],
         "textposition": "bottom center",
         "type": "scatter",
         "x": [
          8.574545860290527
         ],
         "xaxis": "x",
         "y": [
          0.15182633697986603
         ],
         "yaxis": "y"
        },
        {
         "hovertemplate": "posteam=BUF<br>air_yards_mean=%{x}<br>epa_mean=%{y}<br>passer=%{text}<extra></extra>",
         "legendgroup": "BUF",
         "marker": {
          "color": "#00338D",
          "opacity": 0,
          "symbol": "circle"
         },
         "mode": "markers+text",
         "name": "BUF",
         "orientation": "v",
         "showlegend": false,
         "text": [
          "J.Allen"
         ],
         "textposition": "bottom center",
         "type": "scatter",
         "x": [
          8.470175743103027
         ],
         "xaxis": "x",
         "y": [
          0.2594723701477051
         ],
         "yaxis": "y"
        },
        {
         "hovertemplate": "posteam=ARI<br>air_yards_mean=%{x}<br>epa_mean=%{y}<br>passer=%{text}<extra></extra>",
         "legendgroup": "ARI",
         "marker": {
          "color": "#97233F",
          "opacity": 0,
          "symbol": "circle"
         },
         "mode": "markers+text",
         "name": "ARI",
         "orientation": "v",
         "showlegend": false,
         "text": [
          "J.Dobbs"
         ],
         "textposition": "bottom center",
         "type": "scatter",
         "x": [
          8.263157844543457
         ],
         "xaxis": "x",
         "y": [
          -0.02224571630358696
         ],
         "yaxis": "y"
        },
        {
         "hovertemplate": "posteam=HOU<br>air_yards_mean=%{x}<br>epa_mean=%{y}<br>passer=%{text}<extra></extra>",
         "legendgroup": "HOU",
         "marker": {
          "color": "#03202F",
          "opacity": 0,
          "symbol": "circle"
         },
         "mode": "markers+text",
         "name": "HOU",
         "orientation": "v",
         "showlegend": false,
         "text": [
          "C.Stroud"
         ],
         "textposition": "bottom center",
         "type": "scatter",
         "x": [
          8.232758522033691
         ],
         "xaxis": "x",
         "y": [
          0.2305954545736313
         ],
         "yaxis": "y"
        },
        {
         "hovertemplate": "posteam=TB<br>air_yards_mean=%{x}<br>epa_mean=%{y}<br>passer=%{text}<extra></extra>",
         "legendgroup": "TB",
         "marker": {
          "color": "#A71930",
          "opacity": 0,
          "symbol": "circle"
         },
         "mode": "markers+text",
         "name": "TB",
         "orientation": "v",
         "showlegend": false,
         "text": [
          "B.Mayfield"
         ],
         "textposition": "bottom center",
         "type": "scatter",
         "x": [
          8.154471397399902
         ],
         "xaxis": "x",
         "y": [
          0.08827133476734161
         ],
         "yaxis": "y"
        },
        {
         "hovertemplate": "posteam=SF<br>air_yards_mean=%{x}<br>epa_mean=%{y}<br>passer=%{text}<extra></extra>",
         "legendgroup": "SF",
         "marker": {
          "color": "#AA0000",
          "opacity": 0,
          "symbol": "circle"
         },
         "mode": "markers+text",
         "name": "SF",
         "orientation": "v",
         "showlegend": false,
         "text": [
          "B.Purdy"
         ],
         "textposition": "bottom center",
         "type": "scatter",
         "x": [
          8.126126289367676
         ],
         "xaxis": "x",
         "y": [
          0.41570618748664856
         ],
         "yaxis": "y"
        },
        {
         "hovertemplate": "posteam=LV<br>air_yards_mean=%{x}<br>epa_mean=%{y}<br>passer=%{text}<extra></extra>",
         "legendgroup": "LV",
         "marker": {
          "color": "#000000",
          "opacity": 0,
          "symbol": "circle"
         },
         "mode": "markers+text",
         "name": "LV",
         "orientation": "v",
         "showlegend": false,
         "text": [
          "J.Garoppolo"
         ],
         "textposition": "bottom center",
         "type": "scatter",
         "x": [
          8.119760513305664
         ],
         "xaxis": "x",
         "y": [
          0.05564967170357704
         ],
         "yaxis": "y"
        },
        {
         "hovertemplate": "posteam=LAC<br>air_yards_mean=%{x}<br>epa_mean=%{y}<br>passer=%{text}<extra></extra>",
         "legendgroup": "LAC",
         "marker": {
          "color": "#007BC7",
          "opacity": 0,
          "symbol": "circle"
         },
         "mode": "markers+text",
         "name": "LAC",
         "orientation": "v",
         "showlegend": false,
         "text": [
          "J.Herbert"
         ],
         "textposition": "bottom center",
         "type": "scatter",
         "x": [
          8.083333015441895
         ],
         "xaxis": "x",
         "y": [
          0.24617700278759003
         ],
         "yaxis": "y"
        },
        {
         "hovertemplate": "posteam=WAS<br>air_yards_mean=%{x}<br>epa_mean=%{y}<br>passer=%{text}<extra></extra>",
         "legendgroup": "WAS",
         "marker": {
          "color": "#5A1414",
          "opacity": 0,
          "symbol": "circle"
         },
         "mode": "markers+text",
         "name": "WAS",
         "orientation": "v",
         "showlegend": false,
         "text": [
          "S.Howell"
         ],
         "textposition": "bottom center",
         "type": "scatter",
         "x": [
          7.889610290527344
         ],
         "xaxis": "x",
         "y": [
          0.07821879535913467
         ],
         "yaxis": "y"
        },
        {
         "hovertemplate": "posteam=ATL<br>air_yards_mean=%{x}<br>epa_mean=%{y}<br>passer=%{text}<extra></extra>",
         "legendgroup": "ATL",
         "marker": {
          "color": "#A71930",
          "opacity": 0,
          "symbol": "circle"
         },
         "mode": "markers+text",
         "name": "ATL",
         "orientation": "v",
         "showlegend": false,
         "text": [
          "D.Ridder"
         ],
         "textposition": "bottom center",
         "type": "scatter",
         "x": [
          7.8200836181640625
         ],
         "xaxis": "x",
         "y": [
          0.03071652725338936
         ],
         "yaxis": "y"
        },
        {
         "hovertemplate": "posteam=BAL<br>air_yards_mean=%{x}<br>epa_mean=%{y}<br>passer=%{text}<extra></extra>",
         "legendgroup": "BAL",
         "marker": {
          "color": "#241773",
          "opacity": 0,
          "symbol": "circle"
         },
         "mode": "markers+text",
         "name": "BAL",
         "orientation": "v",
         "showlegend": false,
         "text": [
          "L.Jackson"
         ],
         "textposition": "bottom center",
         "type": "scatter",
         "x": [
          7.713656425476074
         ],
         "xaxis": "x",
         "y": [
          0.22665449976921082
         ],
         "yaxis": "y"
        },
        {
         "hovertemplate": "posteam=PIT<br>air_yards_mean=%{x}<br>epa_mean=%{y}<br>passer=%{text}<extra></extra>",
         "legendgroup": "PIT",
         "marker": {
          "color": "#000000",
          "opacity": 0,
          "symbol": "circle"
         },
         "mode": "markers+text",
         "name": "PIT",
         "orientation": "v",
         "showlegend": false,
         "text": [
          "K.Pickett"
         ],
         "textposition": "bottom center",
         "type": "scatter",
         "x": [
          7.668341636657715
         ],
         "xaxis": "x",
         "y": [
          -0.05130096897482872
         ],
         "yaxis": "y"
        },
        {
         "hovertemplate": "posteam=MIA<br>air_yards_mean=%{x}<br>epa_mean=%{y}<br>passer=%{text}<extra></extra>",
         "legendgroup": "MIA",
         "marker": {
          "color": "#008E97",
          "opacity": 0,
          "symbol": "circle"
         },
         "mode": "markers+text",
         "name": "MIA",
         "orientation": "v",
         "showlegend": false,
         "text": [
          "T.Tagovailoa"
         ],
         "textposition": "bottom center",
         "type": "scatter",
         "x": [
          7.556776523590088
         ],
         "xaxis": "x",
         "y": [
          0.37491804361343384
         ],
         "yaxis": "y"
        },
        {
         "hovertemplate": "posteam=CHI<br>air_yards_mean=%{x}<br>epa_mean=%{y}<br>passer=%{text}<extra></extra>",
         "legendgroup": "CHI",
         "marker": {
          "color": "#0B162A",
          "opacity": 0,
          "symbol": "circle"
         },
         "mode": "markers+text",
         "name": "CHI",
         "orientation": "v",
         "showlegend": false,
         "text": [
          "J.Fields"
         ],
         "textposition": "bottom center",
         "type": "scatter",
         "x": [
          7.54938268661499
         ],
         "xaxis": "x",
         "y": [
          0.10634297132492065
         ],
         "yaxis": "y"
        },
        {
         "hovertemplate": "posteam=NYJ<br>air_yards_mean=%{x}<br>epa_mean=%{y}<br>passer=%{text}<extra></extra>",
         "legendgroup": "NYJ",
         "marker": {
          "color": "#003F2D",
          "opacity": 0,
          "symbol": "circle"
         },
         "mode": "markers+text",
         "name": "NYJ",
         "orientation": "v",
         "showlegend": false,
         "text": [
          "Z.Wilson"
         ],
         "textposition": "bottom center",
         "type": "scatter",
         "x": [
          7.525581359863281
         ],
         "xaxis": "x",
         "y": [
          -0.10996846854686737
         ],
         "yaxis": "y"
        },
        {
         "hovertemplate": "posteam=DEN<br>air_yards_mean=%{x}<br>epa_mean=%{y}<br>passer=%{text}<extra></extra>",
         "legendgroup": "DEN",
         "marker": {
          "color": "#002244",
          "opacity": 0,
          "symbol": "circle"
         },
         "mode": "markers+text",
         "name": "DEN",
         "orientation": "v",
         "showlegend": false,
         "text": [
          "R.Wilson"
         ],
         "textposition": "bottom center",
         "type": "scatter",
         "x": [
          7.286956310272217
         ],
         "xaxis": "x",
         "y": [
          0.11854037642478943
         ],
         "yaxis": "y"
        },
        {
         "hovertemplate": "posteam=MIN<br>air_yards_mean=%{x}<br>epa_mean=%{y}<br>passer=%{text}<extra></extra>",
         "legendgroup": "MIN",
         "marker": {
          "color": "#4F2683",
          "opacity": 0,
          "symbol": "circle"
         },
         "mode": "markers+text",
         "name": "MIN",
         "orientation": "v",
         "showlegend": false,
         "text": [
          "K.Cousins"
         ],
         "textposition": "bottom center",
         "type": "scatter",
         "x": [
          7.284789562225342
         ],
         "xaxis": "x",
         "y": [
          0.1811632513999939
         ],
         "yaxis": "y"
        },
        {
         "hovertemplate": "posteam=IND<br>air_yards_mean=%{x}<br>epa_mean=%{y}<br>passer=%{text}<extra></extra>",
         "legendgroup": "IND",
         "marker": {
          "color": "#002C5F",
          "opacity": 0,
          "symbol": "circle"
         },
         "mode": "markers+text",
         "name": "IND",
         "orientation": "v",
         "showlegend": false,
         "text": [
          "G.Minshew II"
         ],
         "textposition": "bottom center",
         "type": "scatter",
         "x": [
          7.262376308441162
         ],
         "xaxis": "x",
         "y": [
          0.11667487770318985
         ],
         "yaxis": "y"
        },
        {
         "hovertemplate": "posteam=SEA<br>air_yards_mean=%{x}<br>epa_mean=%{y}<br>passer=%{text}<extra></extra>",
         "legendgroup": "SEA",
         "marker": {
          "color": "#002244",
          "opacity": 0,
          "symbol": "circle"
         },
         "mode": "markers+text",
         "name": "SEA",
         "orientation": "v",
         "showlegend": false,
         "text": [
          "G.Smith"
         ],
         "textposition": "bottom center",
         "type": "scatter",
         "x": [
          7.2276787757873535
         ],
         "xaxis": "x",
         "y": [
          0.15080036222934723
         ],
         "yaxis": "y"
        },
        {
         "hovertemplate": "posteam=NE<br>air_yards_mean=%{x}<br>epa_mean=%{y}<br>passer=%{text}<extra></extra>",
         "legendgroup": "NE",
         "marker": {
          "color": "#002244",
          "opacity": 0,
          "symbol": "circle"
         },
         "mode": "markers+text",
         "name": "NE",
         "orientation": "v",
         "showlegend": false,
         "text": [
          "M.Jones"
         ],
         "textposition": "bottom center",
         "type": "scatter",
         "x": [
          7.150000095367432
         ],
         "xaxis": "x",
         "y": [
          -0.08241397142410278
         ],
         "yaxis": "y"
        },
        {
         "hovertemplate": "posteam=DAL<br>air_yards_mean=%{x}<br>epa_mean=%{y}<br>passer=%{text}<extra></extra>",
         "legendgroup": "DAL",
         "marker": {
          "color": "#002244",
          "opacity": 0,
          "symbol": "circle"
         },
         "mode": "markers+text",
         "name": "DAL",
         "orientation": "v",
         "showlegend": false,
         "text": [
          "D.Prescott"
         ],
         "textposition": "bottom center",
         "type": "scatter",
         "x": [
          7.1402716636657715
         ],
         "xaxis": "x",
         "y": [
          0.24013003706932068
         ],
         "yaxis": "y"
        },
        {
         "hovertemplate": "posteam=JAX<br>air_yards_mean=%{x}<br>epa_mean=%{y}<br>passer=%{text}<extra></extra>",
         "legendgroup": "JAX",
         "marker": {
          "color": "#006778",
          "opacity": 0,
          "symbol": "circle"
         },
         "mode": "markers+text",
         "name": "JAX",
         "orientation": "v",
         "showlegend": false,
         "text": [
          "T.Lawrence"
         ],
         "textposition": "bottom center",
         "type": "scatter",
         "x": [
          6.933579444885254
         ],
         "xaxis": "x",
         "y": [
          0.11513397097587585
         ],
         "yaxis": "y"
        },
        {
         "hovertemplate": "posteam=KC<br>air_yards_mean=%{x}<br>epa_mean=%{y}<br>passer=%{text}<extra></extra>",
         "legendgroup": "KC",
         "marker": {
          "color": "#E31837",
          "opacity": 0,
          "symbol": "circle"
         },
         "mode": "markers+text",
         "name": "KC",
         "orientation": "v",
         "showlegend": false,
         "text": [
          "P.Mahomes"
         ],
         "textposition": "bottom center",
         "type": "scatter",
         "x": [
          6.815181732177734
         ],
         "xaxis": "x",
         "y": [
          0.18963661789894104
         ],
         "yaxis": "y"
        },
        {
         "hovertemplate": "posteam=CAR<br>air_yards_mean=%{x}<br>epa_mean=%{y}<br>passer=%{text}<extra></extra>",
         "legendgroup": "CAR",
         "marker": {
          "color": "#0085CA",
          "opacity": 0,
          "symbol": "circle"
         },
         "mode": "markers+text",
         "name": "CAR",
         "orientation": "v",
         "showlegend": false,
         "text": [
          "B.Young"
         ],
         "textposition": "bottom center",
         "type": "scatter",
         "x": [
          6.699530601501465
         ],
         "xaxis": "x",
         "y": [
          0.003326562000438571
         ],
         "yaxis": "y"
        },
        {
         "hovertemplate": "posteam=DET<br>air_yards_mean=%{x}<br>epa_mean=%{y}<br>passer=%{text}<extra></extra>",
         "legendgroup": "DET",
         "marker": {
          "color": "#0076B6",
          "opacity": 0,
          "symbol": "circle"
         },
         "mode": "markers+text",
         "name": "DET",
         "orientation": "v",
         "showlegend": false,
         "text": [
          "J.Goff"
         ],
         "textposition": "bottom center",
         "type": "scatter",
         "x": [
          6.5787672996521
         ],
         "xaxis": "x",
         "y": [
          0.1571674346923828
         ],
         "yaxis": "y"
        },
        {
         "hovertemplate": "posteam=NYG<br>air_yards_mean=%{x}<br>epa_mean=%{y}<br>passer=%{text}<extra></extra>",
         "legendgroup": "NYG",
         "marker": {
          "color": "#0B2265",
          "opacity": 0,
          "symbol": "circle"
         },
         "mode": "markers+text",
         "name": "NYG",
         "orientation": "v",
         "showlegend": false,
         "text": [
          "D.Jones"
         ],
         "textposition": "bottom center",
         "type": "scatter",
         "x": [
          6.4238409996032715
         ],
         "xaxis": "x",
         "y": [
          -0.1277676522731781
         ],
         "yaxis": "y"
        },
        {
         "hovertemplate": "posteam=CIN<br>air_yards_mean=%{x}<br>epa_mean=%{y}<br>passer=%{text}<extra></extra>",
         "legendgroup": "CIN",
         "marker": {
          "color": "#FB4F14",
          "opacity": 0,
          "symbol": "circle"
         },
         "mode": "markers+text",
         "name": "CIN",
         "orientation": "v",
         "showlegend": false,
         "text": [
          "J.Burrow"
         ],
         "textposition": "bottom center",
         "type": "scatter",
         "x": [
          6.129770755767822
         ],
         "xaxis": "x",
         "y": [
          0.06517261266708374
         ],
         "yaxis": "y"
        }
       ],
       "layout": {
        "height": 600,
        "images": [
         {
          "layer": "below",
          "opacity": 0.6,
          "sizex": 0.16,
          "sizey": 0.16,
          "sizing": "contain",
          "source": "https://a.espncdn.com/i/teamlogos/nfl/500/CLE.png",
          "x": 9.794392585754395,
          "xanchor": "center",
          "xref": "x",
          "y": -0.04075097665190697,
          "yanchor": "middle",
          "yref": "y"
         },
         {
          "layer": "below",
          "opacity": 0.6,
          "sizex": 0.16,
          "sizey": 0.16,
          "sizing": "contain",
          "source": "https://a.espncdn.com/i/teamlogos/nfl/500/TEN.png",
          "x": 9.3757963180542,
          "xanchor": "center",
          "xref": "x",
          "y": 0.09625282138586044,
          "yanchor": "middle",
          "yref": "y"
         },
         {
          "layer": "below",
          "opacity": 0.6,
          "sizex": 0.16,
          "sizey": 0.16,
          "sizing": "contain",
          "source": "https://a.espncdn.com/i/teamlogos/nfl/500/GB.png",
          "x": 9.333333015441895,
          "xanchor": "center",
          "xref": "x",
          "y": 0.04237811267375946,
          "yanchor": "middle",
          "yref": "y"
         },
         {
          "layer": "below",
          "opacity": 0.6,
          "sizex": 0.16,
          "sizey": 0.16,
          "sizing": "contain",
          "source": "https://a.espncdn.com/i/teamlogos/nfl/500/NO.png",
          "x": 8.829787254333496,
          "xanchor": "center",
          "xref": "x",
          "y": 0.1025414988398552,
          "yanchor": "middle",
          "yref": "y"
         },
         {
          "layer": "below",
          "opacity": 0.6,
          "sizex": 0.16,
          "sizey": 0.16,
          "sizing": "contain",
          "source": "https://a.espncdn.com/i/teamlogos/nfl/500/PHI.png",
          "x": 8.765957832336426,
          "xanchor": "center",
          "xref": "x",
          "y": 0.20228426158428192,
          "yanchor": "middle",
          "yref": "y"
         },
         {
          "layer": "below",
          "opacity": 0.6,
          "sizex": 0.16,
          "sizey": 0.16,
          "sizing": "contain",
          "source": "https://a.espncdn.com/i/teamlogos/nfl/500/LA.png",
          "x": 8.574545860290527,
          "xanchor": "center",
          "xref": "x",
          "y": 0.15182633697986603,
          "yanchor": "middle",
          "yref": "y"
         },
         {
          "layer": "below",
          "opacity": 0.6,
          "sizex": 0.16,
          "sizey": 0.16,
          "sizing": "contain",
          "source": "https://a.espncdn.com/i/teamlogos/nfl/500/BUF.png",
          "x": 8.470175743103027,
          "xanchor": "center",
          "xref": "x",
          "y": 0.2594723701477051,
          "yanchor": "middle",
          "yref": "y"
         },
         {
          "layer": "below",
          "opacity": 0.6,
          "sizex": 0.16,
          "sizey": 0.16,
          "sizing": "contain",
          "source": "https://a.espncdn.com/i/teamlogos/nfl/500/ARI.png",
          "x": 8.263157844543457,
          "xanchor": "center",
          "xref": "x",
          "y": -0.02224571630358696,
          "yanchor": "middle",
          "yref": "y"
         },
         {
          "layer": "below",
          "opacity": 0.6,
          "sizex": 0.16,
          "sizey": 0.16,
          "sizing": "contain",
          "source": "https://a.espncdn.com/i/teamlogos/nfl/500/HOU.png",
          "x": 8.232758522033691,
          "xanchor": "center",
          "xref": "x",
          "y": 0.2305954545736313,
          "yanchor": "middle",
          "yref": "y"
         },
         {
          "layer": "below",
          "opacity": 0.6,
          "sizex": 0.16,
          "sizey": 0.16,
          "sizing": "contain",
          "source": "https://a.espncdn.com/i/teamlogos/nfl/500/TB.png",
          "x": 8.154471397399902,
          "xanchor": "center",
          "xref": "x",
          "y": 0.08827133476734161,
          "yanchor": "middle",
          "yref": "y"
         },
         {
          "layer": "below",
          "opacity": 0.6,
          "sizex": 0.16,
          "sizey": 0.16,
          "sizing": "contain",
          "source": "https://a.espncdn.com/i/teamlogos/nfl/500/SF.png",
          "x": 8.126126289367676,
          "xanchor": "center",
          "xref": "x",
          "y": 0.41570618748664856,
          "yanchor": "middle",
          "yref": "y"
         },
         {
          "layer": "below",
          "opacity": 0.6,
          "sizex": 0.16,
          "sizey": 0.16,
          "sizing": "contain",
          "source": "https://a.espncdn.com/i/teamlogos/nfl/500/LV.png",
          "x": 8.119760513305664,
          "xanchor": "center",
          "xref": "x",
          "y": 0.05564967170357704,
          "yanchor": "middle",
          "yref": "y"
         },
         {
          "layer": "below",
          "opacity": 0.6,
          "sizex": 0.16,
          "sizey": 0.16,
          "sizing": "contain",
          "source": "https://a.espncdn.com/i/teamlogos/nfl/500/LAC.png",
          "x": 8.083333015441895,
          "xanchor": "center",
          "xref": "x",
          "y": 0.24617700278759003,
          "yanchor": "middle",
          "yref": "y"
         },
         {
          "layer": "below",
          "opacity": 0.6,
          "sizex": 0.16,
          "sizey": 0.16,
          "sizing": "contain",
          "source": "https://a.espncdn.com/i/teamlogos/nfl/500/WAS.png",
          "x": 7.889610290527344,
          "xanchor": "center",
          "xref": "x",
          "y": 0.07821879535913467,
          "yanchor": "middle",
          "yref": "y"
         },
         {
          "layer": "below",
          "opacity": 0.6,
          "sizex": 0.16,
          "sizey": 0.16,
          "sizing": "contain",
          "source": "https://a.espncdn.com/i/teamlogos/nfl/500/ATL.png",
          "x": 7.8200836181640625,
          "xanchor": "center",
          "xref": "x",
          "y": 0.03071652725338936,
          "yanchor": "middle",
          "yref": "y"
         },
         {
          "layer": "below",
          "opacity": 0.6,
          "sizex": 0.16,
          "sizey": 0.16,
          "sizing": "contain",
          "source": "https://a.espncdn.com/i/teamlogos/nfl/500/BAL.png",
          "x": 7.713656425476074,
          "xanchor": "center",
          "xref": "x",
          "y": 0.22665449976921082,
          "yanchor": "middle",
          "yref": "y"
         },
         {
          "layer": "below",
          "opacity": 0.6,
          "sizex": 0.16,
          "sizey": 0.16,
          "sizing": "contain",
          "source": "https://a.espncdn.com/i/teamlogos/nfl/500/PIT.png",
          "x": 7.668341636657715,
          "xanchor": "center",
          "xref": "x",
          "y": -0.05130096897482872,
          "yanchor": "middle",
          "yref": "y"
         },
         {
          "layer": "below",
          "opacity": 0.6,
          "sizex": 0.16,
          "sizey": 0.16,
          "sizing": "contain",
          "source": "https://a.espncdn.com/i/teamlogos/nfl/500/MIA.png",
          "x": 7.556776523590088,
          "xanchor": "center",
          "xref": "x",
          "y": 0.37491804361343384,
          "yanchor": "middle",
          "yref": "y"
         },
         {
          "layer": "below",
          "opacity": 0.6,
          "sizex": 0.16,
          "sizey": 0.16,
          "sizing": "contain",
          "source": "https://a.espncdn.com/i/teamlogos/nfl/500/CHI.png",
          "x": 7.54938268661499,
          "xanchor": "center",
          "xref": "x",
          "y": 0.10634297132492065,
          "yanchor": "middle",
          "yref": "y"
         },
         {
          "layer": "below",
          "opacity": 0.6,
          "sizex": 0.16,
          "sizey": 0.16,
          "sizing": "contain",
          "source": "https://a.espncdn.com/i/teamlogos/nfl/500/NYJ.png",
          "x": 7.525581359863281,
          "xanchor": "center",
          "xref": "x",
          "y": -0.10996846854686737,
          "yanchor": "middle",
          "yref": "y"
         },
         {
          "layer": "below",
          "opacity": 0.6,
          "sizex": 0.16,
          "sizey": 0.16,
          "sizing": "contain",
          "source": "https://a.espncdn.com/i/teamlogos/nfl/500/DEN.png",
          "x": 7.286956310272217,
          "xanchor": "center",
          "xref": "x",
          "y": 0.11854037642478943,
          "yanchor": "middle",
          "yref": "y"
         },
         {
          "layer": "below",
          "opacity": 0.6,
          "sizex": 0.16,
          "sizey": 0.16,
          "sizing": "contain",
          "source": "https://a.espncdn.com/i/teamlogos/nfl/500/MIN.png",
          "x": 7.284789562225342,
          "xanchor": "center",
          "xref": "x",
          "y": 0.1811632513999939,
          "yanchor": "middle",
          "yref": "y"
         },
         {
          "layer": "below",
          "opacity": 0.6,
          "sizex": 0.16,
          "sizey": 0.16,
          "sizing": "contain",
          "source": "https://a.espncdn.com/i/teamlogos/nfl/500/IND.png",
          "x": 7.262376308441162,
          "xanchor": "center",
          "xref": "x",
          "y": 0.11667487770318985,
          "yanchor": "middle",
          "yref": "y"
         },
         {
          "layer": "below",
          "opacity": 0.6,
          "sizex": 0.16,
          "sizey": 0.16,
          "sizing": "contain",
          "source": "https://a.espncdn.com/i/teamlogos/nfl/500/SEA.png",
          "x": 7.2276787757873535,
          "xanchor": "center",
          "xref": "x",
          "y": 0.15080036222934723,
          "yanchor": "middle",
          "yref": "y"
         },
         {
          "layer": "below",
          "opacity": 0.6,
          "sizex": 0.16,
          "sizey": 0.16,
          "sizing": "contain",
          "source": "https://a.espncdn.com/i/teamlogos/nfl/500/NE.png",
          "x": 7.150000095367432,
          "xanchor": "center",
          "xref": "x",
          "y": -0.08241397142410278,
          "yanchor": "middle",
          "yref": "y"
         },
         {
          "layer": "below",
          "opacity": 0.6,
          "sizex": 0.16,
          "sizey": 0.16,
          "sizing": "contain",
          "source": "https://a.espncdn.com/i/teamlogos/nfl/500/DAL.png",
          "x": 7.1402716636657715,
          "xanchor": "center",
          "xref": "x",
          "y": 0.24013003706932068,
          "yanchor": "middle",
          "yref": "y"
         },
         {
          "layer": "below",
          "opacity": 0.6,
          "sizex": 0.16,
          "sizey": 0.16,
          "sizing": "contain",
          "source": "https://a.espncdn.com/i/teamlogos/nfl/500/JAX.png",
          "x": 6.933579444885254,
          "xanchor": "center",
          "xref": "x",
          "y": 0.11513397097587585,
          "yanchor": "middle",
          "yref": "y"
         },
         {
          "layer": "below",
          "opacity": 0.6,
          "sizex": 0.16,
          "sizey": 0.16,
          "sizing": "contain",
          "source": "https://a.espncdn.com/i/teamlogos/nfl/500/KC.png",
          "x": 6.815181732177734,
          "xanchor": "center",
          "xref": "x",
          "y": 0.18963661789894104,
          "yanchor": "middle",
          "yref": "y"
         },
         {
          "layer": "below",
          "opacity": 0.6,
          "sizex": 0.16,
          "sizey": 0.16,
          "sizing": "contain",
          "source": "https://a.espncdn.com/i/teamlogos/nfl/500/CAR.png",
          "x": 6.699530601501465,
          "xanchor": "center",
          "xref": "x",
          "y": 0.003326562000438571,
          "yanchor": "middle",
          "yref": "y"
         },
         {
          "layer": "below",
          "opacity": 0.6,
          "sizex": 0.16,
          "sizey": 0.16,
          "sizing": "contain",
          "source": "https://a.espncdn.com/i/teamlogos/nfl/500/DET.png",
          "x": 6.5787672996521,
          "xanchor": "center",
          "xref": "x",
          "y": 0.1571674346923828,
          "yanchor": "middle",
          "yref": "y"
         },
         {
          "layer": "below",
          "opacity": 0.6,
          "sizex": 0.16,
          "sizey": 0.16,
          "sizing": "contain",
          "source": "https://a.espncdn.com/i/teamlogos/nfl/500/NYG.png",
          "x": 6.4238409996032715,
          "xanchor": "center",
          "xref": "x",
          "y": -0.1277676522731781,
          "yanchor": "middle",
          "yref": "y"
         },
         {
          "layer": "below",
          "opacity": 0.6,
          "sizex": 0.16,
          "sizey": 0.16,
          "sizing": "contain",
          "source": "https://a.espncdn.com/i/teamlogos/nfl/500/CIN.png",
          "x": 6.129770755767822,
          "xanchor": "center",
          "xref": "x",
          "y": 0.06517261266708374,
          "yanchor": "middle",
          "yref": "y"
         }
        ],
        "legend": {
         "title": {
          "text": "posteam"
         },
         "tracegroupgap": 0
        },
        "margin": {
         "t": 60
        },
        "template": {
         "data": {
          "bar": [
           {
            "error_x": {
             "color": "#2a3f5f"
            },
            "error_y": {
             "color": "#2a3f5f"
            },
            "marker": {
             "line": {
              "color": "#E5ECF6",
              "width": 0.5
             },
             "pattern": {
              "fillmode": "overlay",
              "size": 10,
              "solidity": 0.2
             }
            },
            "type": "bar"
           }
          ],
          "barpolar": [
           {
            "marker": {
             "line": {
              "color": "#E5ECF6",
              "width": 0.5
             },
             "pattern": {
              "fillmode": "overlay",
              "size": 10,
              "solidity": 0.2
             }
            },
            "type": "barpolar"
           }
          ],
          "carpet": [
           {
            "aaxis": {
             "endlinecolor": "#2a3f5f",
             "gridcolor": "white",
             "linecolor": "white",
             "minorgridcolor": "white",
             "startlinecolor": "#2a3f5f"
            },
            "baxis": {
             "endlinecolor": "#2a3f5f",
             "gridcolor": "white",
             "linecolor": "white",
             "minorgridcolor": "white",
             "startlinecolor": "#2a3f5f"
            },
            "type": "carpet"
           }
          ],
          "choropleth": [
           {
            "colorbar": {
             "outlinewidth": 0,
             "ticks": ""
            },
            "type": "choropleth"
           }
          ],
          "contour": [
           {
            "colorbar": {
             "outlinewidth": 0,
             "ticks": ""
            },
            "colorscale": [
             [
              0,
              "#0d0887"
             ],
             [
              0.1111111111111111,
              "#46039f"
             ],
             [
              0.2222222222222222,
              "#7201a8"
             ],
             [
              0.3333333333333333,
              "#9c179e"
             ],
             [
              0.4444444444444444,
              "#bd3786"
             ],
             [
              0.5555555555555556,
              "#d8576b"
             ],
             [
              0.6666666666666666,
              "#ed7953"
             ],
             [
              0.7777777777777778,
              "#fb9f3a"
             ],
             [
              0.8888888888888888,
              "#fdca26"
             ],
             [
              1,
              "#f0f921"
             ]
            ],
            "type": "contour"
           }
          ],
          "contourcarpet": [
           {
            "colorbar": {
             "outlinewidth": 0,
             "ticks": ""
            },
            "type": "contourcarpet"
           }
          ],
          "heatmap": [
           {
            "colorbar": {
             "outlinewidth": 0,
             "ticks": ""
            },
            "colorscale": [
             [
              0,
              "#0d0887"
             ],
             [
              0.1111111111111111,
              "#46039f"
             ],
             [
              0.2222222222222222,
              "#7201a8"
             ],
             [
              0.3333333333333333,
              "#9c179e"
             ],
             [
              0.4444444444444444,
              "#bd3786"
             ],
             [
              0.5555555555555556,
              "#d8576b"
             ],
             [
              0.6666666666666666,
              "#ed7953"
             ],
             [
              0.7777777777777778,
              "#fb9f3a"
             ],
             [
              0.8888888888888888,
              "#fdca26"
             ],
             [
              1,
              "#f0f921"
             ]
            ],
            "type": "heatmap"
           }
          ],
          "heatmapgl": [
           {
            "colorbar": {
             "outlinewidth": 0,
             "ticks": ""
            },
            "colorscale": [
             [
              0,
              "#0d0887"
             ],
             [
              0.1111111111111111,
              "#46039f"
             ],
             [
              0.2222222222222222,
              "#7201a8"
             ],
             [
              0.3333333333333333,
              "#9c179e"
             ],
             [
              0.4444444444444444,
              "#bd3786"
             ],
             [
              0.5555555555555556,
              "#d8576b"
             ],
             [
              0.6666666666666666,
              "#ed7953"
             ],
             [
              0.7777777777777778,
              "#fb9f3a"
             ],
             [
              0.8888888888888888,
              "#fdca26"
             ],
             [
              1,
              "#f0f921"
             ]
            ],
            "type": "heatmapgl"
           }
          ],
          "histogram": [
           {
            "marker": {
             "pattern": {
              "fillmode": "overlay",
              "size": 10,
              "solidity": 0.2
             }
            },
            "type": "histogram"
           }
          ],
          "histogram2d": [
           {
            "colorbar": {
             "outlinewidth": 0,
             "ticks": ""
            },
            "colorscale": [
             [
              0,
              "#0d0887"
             ],
             [
              0.1111111111111111,
              "#46039f"
             ],
             [
              0.2222222222222222,
              "#7201a8"
             ],
             [
              0.3333333333333333,
              "#9c179e"
             ],
             [
              0.4444444444444444,
              "#bd3786"
             ],
             [
              0.5555555555555556,
              "#d8576b"
             ],
             [
              0.6666666666666666,
              "#ed7953"
             ],
             [
              0.7777777777777778,
              "#fb9f3a"
             ],
             [
              0.8888888888888888,
              "#fdca26"
             ],
             [
              1,
              "#f0f921"
             ]
            ],
            "type": "histogram2d"
           }
          ],
          "histogram2dcontour": [
           {
            "colorbar": {
             "outlinewidth": 0,
             "ticks": ""
            },
            "colorscale": [
             [
              0,
              "#0d0887"
             ],
             [
              0.1111111111111111,
              "#46039f"
             ],
             [
              0.2222222222222222,
              "#7201a8"
             ],
             [
              0.3333333333333333,
              "#9c179e"
             ],
             [
              0.4444444444444444,
              "#bd3786"
             ],
             [
              0.5555555555555556,
              "#d8576b"
             ],
             [
              0.6666666666666666,
              "#ed7953"
             ],
             [
              0.7777777777777778,
              "#fb9f3a"
             ],
             [
              0.8888888888888888,
              "#fdca26"
             ],
             [
              1,
              "#f0f921"
             ]
            ],
            "type": "histogram2dcontour"
           }
          ],
          "mesh3d": [
           {
            "colorbar": {
             "outlinewidth": 0,
             "ticks": ""
            },
            "type": "mesh3d"
           }
          ],
          "parcoords": [
           {
            "line": {
             "colorbar": {
              "outlinewidth": 0,
              "ticks": ""
             }
            },
            "type": "parcoords"
           }
          ],
          "pie": [
           {
            "automargin": true,
            "type": "pie"
           }
          ],
          "scatter": [
           {
            "fillpattern": {
             "fillmode": "overlay",
             "size": 10,
             "solidity": 0.2
            },
            "type": "scatter"
           }
          ],
          "scatter3d": [
           {
            "line": {
             "colorbar": {
              "outlinewidth": 0,
              "ticks": ""
             }
            },
            "marker": {
             "colorbar": {
              "outlinewidth": 0,
              "ticks": ""
             }
            },
            "type": "scatter3d"
           }
          ],
          "scattercarpet": [
           {
            "marker": {
             "colorbar": {
              "outlinewidth": 0,
              "ticks": ""
             }
            },
            "type": "scattercarpet"
           }
          ],
          "scattergeo": [
           {
            "marker": {
             "colorbar": {
              "outlinewidth": 0,
              "ticks": ""
             }
            },
            "type": "scattergeo"
           }
          ],
          "scattergl": [
           {
            "marker": {
             "colorbar": {
              "outlinewidth": 0,
              "ticks": ""
             }
            },
            "type": "scattergl"
           }
          ],
          "scattermapbox": [
           {
            "marker": {
             "colorbar": {
              "outlinewidth": 0,
              "ticks": ""
             }
            },
            "type": "scattermapbox"
           }
          ],
          "scatterpolar": [
           {
            "marker": {
             "colorbar": {
              "outlinewidth": 0,
              "ticks": ""
             }
            },
            "type": "scatterpolar"
           }
          ],
          "scatterpolargl": [
           {
            "marker": {
             "colorbar": {
              "outlinewidth": 0,
              "ticks": ""
             }
            },
            "type": "scatterpolargl"
           }
          ],
          "scatterternary": [
           {
            "marker": {
             "colorbar": {
              "outlinewidth": 0,
              "ticks": ""
             }
            },
            "type": "scatterternary"
           }
          ],
          "surface": [
           {
            "colorbar": {
             "outlinewidth": 0,
             "ticks": ""
            },
            "colorscale": [
             [
              0,
              "#0d0887"
             ],
             [
              0.1111111111111111,
              "#46039f"
             ],
             [
              0.2222222222222222,
              "#7201a8"
             ],
             [
              0.3333333333333333,
              "#9c179e"
             ],
             [
              0.4444444444444444,
              "#bd3786"
             ],
             [
              0.5555555555555556,
              "#d8576b"
             ],
             [
              0.6666666666666666,
              "#ed7953"
             ],
             [
              0.7777777777777778,
              "#fb9f3a"
             ],
             [
              0.8888888888888888,
              "#fdca26"
             ],
             [
              1,
              "#f0f921"
             ]
            ],
            "type": "surface"
           }
          ],
          "table": [
           {
            "cells": {
             "fill": {
              "color": "#EBF0F8"
             },
             "line": {
              "color": "white"
             }
            },
            "header": {
             "fill": {
              "color": "#C8D4E3"
             },
             "line": {
              "color": "white"
             }
            },
            "type": "table"
           }
          ]
         },
         "layout": {
          "annotationdefaults": {
           "arrowcolor": "#2a3f5f",
           "arrowhead": 0,
           "arrowwidth": 1
          },
          "autotypenumbers": "strict",
          "coloraxis": {
           "colorbar": {
            "outlinewidth": 0,
            "ticks": ""
           }
          },
          "colorscale": {
           "diverging": [
            [
             0,
             "#8e0152"
            ],
            [
             0.1,
             "#c51b7d"
            ],
            [
             0.2,
             "#de77ae"
            ],
            [
             0.3,
             "#f1b6da"
            ],
            [
             0.4,
             "#fde0ef"
            ],
            [
             0.5,
             "#f7f7f7"
            ],
            [
             0.6,
             "#e6f5d0"
            ],
            [
             0.7,
             "#b8e186"
            ],
            [
             0.8,
             "#7fbc41"
            ],
            [
             0.9,
             "#4d9221"
            ],
            [
             1,
             "#276419"
            ]
           ],
           "sequential": [
            [
             0,
             "#0d0887"
            ],
            [
             0.1111111111111111,
             "#46039f"
            ],
            [
             0.2222222222222222,
             "#7201a8"
            ],
            [
             0.3333333333333333,
             "#9c179e"
            ],
            [
             0.4444444444444444,
             "#bd3786"
            ],
            [
             0.5555555555555556,
             "#d8576b"
            ],
            [
             0.6666666666666666,
             "#ed7953"
            ],
            [
             0.7777777777777778,
             "#fb9f3a"
            ],
            [
             0.8888888888888888,
             "#fdca26"
            ],
            [
             1,
             "#f0f921"
            ]
           ],
           "sequentialminus": [
            [
             0,
             "#0d0887"
            ],
            [
             0.1111111111111111,
             "#46039f"
            ],
            [
             0.2222222222222222,
             "#7201a8"
            ],
            [
             0.3333333333333333,
             "#9c179e"
            ],
            [
             0.4444444444444444,
             "#bd3786"
            ],
            [
             0.5555555555555556,
             "#d8576b"
            ],
            [
             0.6666666666666666,
             "#ed7953"
            ],
            [
             0.7777777777777778,
             "#fb9f3a"
            ],
            [
             0.8888888888888888,
             "#fdca26"
            ],
            [
             1,
             "#f0f921"
            ]
           ]
          },
          "colorway": [
           "#636efa",
           "#EF553B",
           "#00cc96",
           "#ab63fa",
           "#FFA15A",
           "#19d3f3",
           "#FF6692",
           "#B6E880",
           "#FF97FF",
           "#FECB52"
          ],
          "font": {
           "color": "#2a3f5f"
          },
          "geo": {
           "bgcolor": "white",
           "lakecolor": "white",
           "landcolor": "#E5ECF6",
           "showlakes": true,
           "showland": true,
           "subunitcolor": "white"
          },
          "hoverlabel": {
           "align": "left"
          },
          "hovermode": "closest",
          "mapbox": {
           "style": "light"
          },
          "paper_bgcolor": "white",
          "plot_bgcolor": "#E5ECF6",
          "polar": {
           "angularaxis": {
            "gridcolor": "white",
            "linecolor": "white",
            "ticks": ""
           },
           "bgcolor": "#E5ECF6",
           "radialaxis": {
            "gridcolor": "white",
            "linecolor": "white",
            "ticks": ""
           }
          },
          "scene": {
           "xaxis": {
            "backgroundcolor": "#E5ECF6",
            "gridcolor": "white",
            "gridwidth": 2,
            "linecolor": "white",
            "showbackground": true,
            "ticks": "",
            "zerolinecolor": "white"
           },
           "yaxis": {
            "backgroundcolor": "#E5ECF6",
            "gridcolor": "white",
            "gridwidth": 2,
            "linecolor": "white",
            "showbackground": true,
            "ticks": "",
            "zerolinecolor": "white"
           },
           "zaxis": {
            "backgroundcolor": "#E5ECF6",
            "gridcolor": "white",
            "gridwidth": 2,
            "linecolor": "white",
            "showbackground": true,
            "ticks": "",
            "zerolinecolor": "white"
           }
          },
          "shapedefaults": {
           "line": {
            "color": "#2a3f5f"
           }
          },
          "ternary": {
           "aaxis": {
            "gridcolor": "white",
            "linecolor": "white",
            "ticks": ""
           },
           "baxis": {
            "gridcolor": "white",
            "linecolor": "white",
            "ticks": ""
           },
           "bgcolor": "#E5ECF6",
           "caxis": {
            "gridcolor": "white",
            "linecolor": "white",
            "ticks": ""
           }
          },
          "title": {
           "x": 0.05
          },
          "xaxis": {
           "automargin": true,
           "gridcolor": "white",
           "linecolor": "white",
           "ticks": "",
           "title": {
            "standoff": 15
           },
           "zerolinecolor": "white",
           "zerolinewidth": 2
          },
          "yaxis": {
           "automargin": true,
           "gridcolor": "white",
           "linecolor": "white",
           "ticks": "",
           "title": {
            "standoff": 15
           },
           "zerolinecolor": "white",
           "zerolinewidth": 2
          }
         }
        },
        "title": {
         "text": "QB EPA per Play by Mean ADOT"
        },
        "width": 1000,
        "xaxis": {
         "anchor": "y",
         "domain": [
          0,
          1
         ],
         "title": {
          "text": "Mean ADOT"
         }
        },
        "yaxis": {
         "anchor": "x",
         "domain": [
          0,
          1
         ],
         "title": {
          "text": "EPA per Play"
         }
        }
       }
      }
     },
     "metadata": {},
     "output_type": "display_data"
    }
   ],
   "source": [
    "fig = px.scatter(pass_pbp, x='air_yards_mean', y='epa_mean', text='passer', color='posteam', color_discrete_map=utils.team_primary_colors, opacity=0)\n",
    "fig.update_layout(\n",
    "    height=600,\n",
    "    width=1000,\n",
    "    xaxis_title=f'Mean ADOT',\n",
    "    yaxis_title='EPA per Play',\n",
    "    title='QB EPA per Play by Mean ADOT',\n",
    "    # subheader='min 100 pass attempts',\n",
    ")\n",
    "fig.update_traces(showlegend=False, textposition='bottom center')\n",
    "\n",
    "# Iterate through the data and add logos to the chart\n",
    "for index, row in pass_pbp.iterrows():\n",
    "    team = row['posteam']\n",
    "    scale = .16\n",
    "    fig.add_layout_image(\n",
    "        dict(source=f'https://a.espncdn.com/i/teamlogos/nfl/500/{team}.png',\n",
    "            x=row['air_yards_mean'],\n",
    "            y=row['epa_mean'],\n",
    "            xref=\"x\",\n",
    "            yref=\"y\",\n",
    "            sizex=scale,  # Adjust the size\n",
    "            sizey=scale,  # Adjust the size\n",
    "            sizing=\"contain\",\n",
    "            opacity=.6,\n",
    "            xanchor=\"center\",\n",
    "            yanchor=\"middle\",        \n",
    "            layer=\"below\",\n",
    "        )\n",
    "    )\n",
    "\n",
    "fig.show()"
   ]
  },
  {
   "cell_type": "markdown",
   "metadata": {},
   "source": [
    "# 2. Stable vs Unstable QB Metrics"
   ]
  },
  {
   "cell_type": "markdown",
   "metadata": {},
   "source": [
    "# 3. Simple Linear Regression: Rushing Yards over Expected"
   ]
  },
  {
   "cell_type": "markdown",
   "metadata": {},
   "source": [
    "# 4. Multiple Regression: Rushing Yards over Expected"
   ]
  },
  {
   "cell_type": "markdown",
   "metadata": {},
   "source": [
    "# 5. Generalized Linear Models: Completion Percentage over Expected"
   ]
  },
  {
   "cell_type": "markdown",
   "metadata": {},
   "source": [
    "# 6. Data Science for Sports Betting: Poisson Regression and Passing Touchdowns"
   ]
  },
  {
   "cell_type": "markdown",
   "metadata": {},
   "source": [
    "# 7. Web Scraping: Obtaining and Analyzing Draft Picks"
   ]
  },
  {
   "cell_type": "markdown",
   "metadata": {},
   "source": [
    "# 8. PCA and Clustering: Player Attributes"
   ]
  },
  {
   "cell_type": "markdown",
   "metadata": {},
   "source": [
    "# 9. Advanced Tools and Next Steps"
   ]
  },
  {
   "cell_type": "markdown",
   "metadata": {},
   "source": []
  }
 ],
 "metadata": {
  "kernelspec": {
   "display_name": "nfl",
   "language": "python",
   "name": "python3"
  },
  "language_info": {
   "codemirror_mode": {
    "name": "ipython",
    "version": 3
   },
   "file_extension": ".py",
   "mimetype": "text/x-python",
   "name": "python",
   "nbconvert_exporter": "python",
   "pygments_lexer": "ipython3",
   "version": "3.10.12"
  }
 },
 "nbformat": 4,
 "nbformat_minor": 2
}
