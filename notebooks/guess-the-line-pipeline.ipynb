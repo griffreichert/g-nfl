{
 "cells": [
  {
   "cell_type": "code",
   "execution_count": null,
   "metadata": {},
   "outputs": [],
   "source": [
    "import jupyter_black\n",
    "\n",
    "jupyter_black.load()\n",
    "\n",
    "import pandas as pd\n",
    "import nfl_data_py as nfl\n",
    "\n",
    "from src.utils.connections import load_service_account\n",
    "from src.modelling.power_rating import get_power_ratings, get_schedule, guess_the_lines\n",
    "\n",
    "week = 14"
   ]
  },
  {
   "cell_type": "code",
   "execution_count": null,
   "metadata": {},
   "outputs": [],
   "source": [
    "gtl = guess_the_lines(week)"
   ]
  },
  {
   "cell_type": "code",
   "execution_count": null,
   "metadata": {},
   "outputs": [],
   "source": [
    "schedule_df = nfl.import_schedules([2020])"
   ]
  },
  {
   "cell_type": "code",
   "execution_count": null,
   "metadata": {},
   "outputs": [],
   "source": [
    "(schedule_df[\"home_score\"] - schedule_df[\"away_score\"]).abs().std()"
   ]
  },
  {
   "cell_type": "code",
   "execution_count": null,
   "metadata": {},
   "outputs": [],
   "source": [
    "schedule_df[\"spread_line\"].abs().std()"
   ]
  },
  {
   "cell_type": "code",
   "execution_count": null,
   "metadata": {},
   "outputs": [],
   "source": [
    "schedule_df[\"home_score\"].mean(), schedule_df[\"away_score\"].mean()"
   ]
  },
  {
   "cell_type": "code",
   "execution_count": null,
   "metadata": {},
   "outputs": [],
   "source": [
    "# guess the lines\n",
    "gtl = (\n",
    "    pd.merge(\n",
    "        sched,\n",
    "        df[[\"team\", \"ovr\", \"off\", \"def\"]],\n",
    "        left_on=\"away_team\",\n",
    "        right_on=\"team\",\n",
    "    )\n",
    "    .drop(columns=[\"team\"])\n",
    "    .rename(columns={\"ovr\": \"away_ovr\", \"off\": \"away_off\", \"def\": \"away_def\"})\n",
    ")\n",
    "gtl = (\n",
    "    pd.merge(\n",
    "        gtl,\n",
    "        df[[\"team\", \"ovr\", \"off\", \"def\"]],\n",
    "        left_on=\"home_team\",\n",
    "        right_on=\"team\",\n",
    "    )\n",
    "    .drop(columns=[\"team\"])\n",
    "    .rename(columns={\"ovr\": \"home_ovr\", \"off\": \"home_off\", \"def\": \"home_def\"})\n",
    ")\n",
    "gtl[\"hfa\"] = HFA\n",
    "gtl[\"pred_away_score\"] = gtl.apply(predict_away_score, axis=1)\n",
    "gtl[\"pred_home_score\"] = gtl.apply(predict_home_score, axis=1)\n",
    "gtl[\"spread\"] = gtl[\"pred_home_score\"] - gtl[\"pred_away_score\"]\n",
    "gtl[\"total\"] = gtl[\"pred_home_score\"] + gtl[\"pred_away_score\"]\n",
    "gtl = gtl[\n",
    "    [\n",
    "        \"away_team\",\n",
    "        \"home_team\",\n",
    "        \"spread\",\n",
    "        \"total\",\n",
    "        \"hfa\",\n",
    "        \"pred_away_score\",\n",
    "        \"pred_home_score\",\n",
    "        \"away_ovr\",\n",
    "        \"home_ovr\",\n",
    "    ]\n",
    "].copy()\n",
    "gtl[\"game_id\"] = gtl.apply(\n",
    "    lambda row: f\"{SEASON}_{WEEK}_{row.away_team}_{row.home_team}\", axis=1\n",
    ")\n",
    "gtl = gtl.set_index(\"game_id\")\n",
    "gtl"
   ]
  },
  {
   "cell_type": "code",
   "execution_count": null,
   "metadata": {},
   "outputs": [],
   "source": []
  }
 ],
 "metadata": {
  "kernelspec": {
   "display_name": "nfl-betting-2oCf1E4A-py3.11",
   "language": "python",
   "name": "python3"
  },
  "language_info": {
   "codemirror_mode": {
    "name": "ipython",
    "version": 3
   },
   "file_extension": ".py",
   "mimetype": "text/x-python",
   "name": "python",
   "nbconvert_exporter": "python",
   "pygments_lexer": "ipython3",
   "version": "3.11.9"
  }
 },
 "nbformat": 4,
 "nbformat_minor": 2
}
