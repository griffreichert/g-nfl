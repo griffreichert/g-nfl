{
 "cells": [
  {
   "cell_type": "code",
   "execution_count": null,
   "metadata": {},
   "outputs": [],
   "source": [
    "import jupyter_black\n",
    "import matplotlib.pyplot as plt\n",
    "import nfl_data_py as nfl\n",
    "import numpy as np\n",
    "import pandas as pd\n",
    "from tqdm import tqdm\n",
    "import warnings\n",
    "\n",
    "import statsmodels.api as sm\n",
    "import statsmodels.formula.api as smf\n",
    "from sklearn.linear_model import LogisticRegression\n",
    "\n",
    "from src.modelling.metrics import (\n",
    "    success_rate_lambda,\n",
    "    calculate_epa_metrics,\n",
    "    dual_epa_metrics,\n",
    ")\n",
    "from src.utils.data import flatten_grouped_cols, coach_lambda\n",
    "from src.utils.logos import get_team_logo\n",
    "from src.utils.config import (\n",
    "    CUR_SEASON,\n",
    "    HFA,\n",
    "    DEFAULT_WIN_PROB,\n",
    "    EXPLOSIVE_PASS_THRESHOLD,\n",
    "    EXPLOSIVE_RUN_THRESHOLD,\n",
    ")\n",
    "from src.visualisation.colors import team_unique_colors, team_unique_alt_colors\n",
    "from src.visualisation.plots import plot_bar, plot_scatter\n",
    "from src.utils.queries import pass_play_query, run_play_query\n",
    "\n",
    "\n",
    "tqdm.pandas()\n",
    "jupyter_black.load()\n",
    "pd.set_option(\"display.max_columns\", None)\n",
    "warnings.filterwarnings(\"ignore\", category=pd.errors.PerformanceWarning)\n",
    "\n",
    "season = 2024\n",
    "week = 3"
   ]
  },
  {
   "cell_type": "markdown",
   "metadata": {},
   "source": [
    "# Load Data"
   ]
  },
  {
   "cell_type": "code",
   "execution_count": null,
   "metadata": {},
   "outputs": [],
   "source": [
    "injuries: pd.DataFrame = nfl.import_injuries([2024])\n",
    "injuries = injuries.query(f\"week=={week}\")"
   ]
  },
  {
   "cell_type": "code",
   "execution_count": null,
   "metadata": {},
   "outputs": [],
   "source": [
    "injuries"
   ]
  },
  {
   "cell_type": "code",
   "execution_count": null,
   "metadata": {},
   "outputs": [],
   "source": []
  }
 ],
 "metadata": {
  "kernelspec": {
   "display_name": "nfl-betting--tcbFQtn-py3.11",
   "language": "python",
   "name": "python3"
  },
  "language_info": {
   "codemirror_mode": {
    "name": "ipython",
    "version": 3
   },
   "file_extension": ".py",
   "mimetype": "text/x-python",
   "name": "python",
   "nbconvert_exporter": "python",
   "pygments_lexer": "ipython3",
   "version": "3.11.9"
  }
 },
 "nbformat": 4,
 "nbformat_minor": 2
}
