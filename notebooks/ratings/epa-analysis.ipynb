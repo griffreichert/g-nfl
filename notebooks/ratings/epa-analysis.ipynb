{
 "cells": [
  {
   "cell_type": "code",
   "execution_count": null,
   "metadata": {},
   "outputs": [],
   "source": [
    "import jupyter_black\n",
    "\n",
    "jupyter_black.load()\n",
    "\n",
    "import pandas as pd\n",
    "import nfl_data_py as nfl\n",
    "\n",
    "pd.set_option(\"display.max_columns\", None)"
   ]
  },
  {
   "cell_type": "code",
   "execution_count": null,
   "metadata": {},
   "outputs": [],
   "source": [
    "pbp = nfl.import_pbp_data(range(2016, 2024))"
   ]
  },
  {
   "cell_type": "markdown",
   "metadata": {},
   "source": [
    "# Rushing EPA"
   ]
  },
  {
   "cell_type": "code",
   "execution_count": null,
   "metadata": {},
   "outputs": [],
   "source": [
    "pbp_r = pbp.query('play_type==\"run\"')\n",
    "len(pbp_r)"
   ]
  },
  {
   "cell_type": "code",
   "execution_count": null,
   "metadata": {},
   "outputs": [],
   "source": [
    "# filter for neutral game states\n",
    "neutral_wp_threshold = 0.25\n",
    "\n",
    "pbp_r_neu = pbp_r.query(\n",
    "    f\"wp>={neutral_wp_threshold} and def_wp>={neutral_wp_threshold}\"\n",
    ")\n",
    "len(pbp_r_neu)"
   ]
  },
  {
   "cell_type": "code",
   "execution_count": null,
   "metadata": {},
   "outputs": [],
   "source": [
    "off_epa_df = (\n",
    "    pbp_r_neu.groupby([\"season\", \"posteam\"])\n",
    "    .agg({\"epa\": \"mean\"})\n",
    "    .sort_values(by=\"epa\", ascending=False)\n",
    ")\n",
    "off_epa_df[\"epa_rank\"] = off_epa_df[\"epa\"].rank(ascending=False).astype(int)\n",
    "off_epa_df[\"epa_percentile\"] = off_epa_df[\"epa\"].rank(pct=True).round(2) * 10\n",
    "off_epa_df.xs(2023, level=\"season\")"
   ]
  },
  {
   "cell_type": "code",
   "execution_count": null,
   "metadata": {},
   "outputs": [],
   "source": [
    "pbp_r_neu.groupby([\"season\", \"posteam\"]).agg({\"epa\": \"mean\"}).sort_values(\n",
    "    by=\"epa\", ascending=False\n",
    ").rename(columns={\"epa\": \"epa_per_rush\"})"
   ]
  },
  {
   "cell_type": "code",
   "execution_count": null,
   "metadata": {},
   "outputs": [],
   "source": []
  }
 ],
 "metadata": {
  "kernelspec": {
   "display_name": "nfl-betting-2oCf1E4A-py3.11",
   "language": "python",
   "name": "python3"
  },
  "language_info": {
   "codemirror_mode": {
    "name": "ipython",
    "version": 3
   },
   "file_extension": ".py",
   "mimetype": "text/x-python",
   "name": "python",
   "nbconvert_exporter": "python",
   "pygments_lexer": "ipython3",
   "version": "3.11.9"
  }
 },
 "nbformat": 4,
 "nbformat_minor": 2
}
