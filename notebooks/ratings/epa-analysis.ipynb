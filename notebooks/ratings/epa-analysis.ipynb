{
 "cells": [
  {
   "cell_type": "code",
   "execution_count": null,
   "metadata": {},
   "outputs": [],
   "source": [
    "import jupyter_black\n",
    "\n",
    "jupyter_black.load()\n",
    "\n",
    "import pandas as pd\n",
    "import nfl_data_py as nfl\n",
    "from typing import Literal, Tuple\n",
    "from src.modelling.metrics import success_rate_lambda\n",
    "from src.visualisation.visualisation import plot_team_scatter\n",
    "\n",
    "pd.set_option(\"display.max_columns\", None)"
   ]
  },
  {
   "cell_type": "code",
   "execution_count": null,
   "metadata": {},
   "outputs": [],
   "source": [
    "pbp = nfl.import_pbp_data(range(2022, 2024))"
   ]
  },
  {
   "cell_type": "markdown",
   "metadata": {},
   "source": [
    "# Rushing EPA"
   ]
  },
  {
   "cell_type": "code",
   "execution_count": null,
   "metadata": {},
   "outputs": [],
   "source": [
    "pbp_r = pbp.query('play_type==\"run\"')\n",
    "len(pbp_r)"
   ]
  },
  {
   "cell_type": "code",
   "execution_count": null,
   "metadata": {},
   "outputs": [],
   "source": [
    "# filter for neutral game states\n",
    "neutral_wp_threshold = 0.25\n",
    "\n",
    "pbp_r_neu = pbp_r.query(\n",
    "    f\"wp>={neutral_wp_threshold} and def_wp>={neutral_wp_threshold}\"\n",
    ")\n",
    "len(pbp_r_neu)"
   ]
  },
  {
   "cell_type": "code",
   "execution_count": null,
   "metadata": {},
   "outputs": [],
   "source": [
    "off_epa_df = (\n",
    "    pbp_r_neu.groupby([\"season\", \"posteam\"])\n",
    "    .agg({\"epa\": \"mean\"})\n",
    "    .sort_values(by=\"epa\", ascending=False)\n",
    ")\n",
    "off_epa_df[\"epa_rank\"] = off_epa_df[\"epa\"].rank(ascending=False).astype(int)\n",
    "off_epa_df[\"epa_percentile\"] = off_epa_df[\"epa\"].rank(pct=True).round(2) * 10\n",
    "off_epa_df.xs(2023, level=\"season\")"
   ]
  },
  {
   "cell_type": "code",
   "execution_count": null,
   "metadata": {},
   "outputs": [],
   "source": [
    "pbp_r_neu.groupby([\"season\", \"posteam\"]).agg({\"epa\": \"mean\"}).sort_values(\n",
    "    by=\"epa\", ascending=False\n",
    ").rename(columns={\"epa\": \"epa_per_rush\"})"
   ]
  },
  {
   "cell_type": "code",
   "execution_count": null,
   "metadata": {},
   "outputs": [],
   "source": [
    "def calculate_epa_metrics(\n",
    "    data: pd.DataFrame, team: Literal[\"posteam\", \"defteam\"] = \"posteam\"\n",
    ") -> pd.DataFrame:\n",
    "    sort_ascending = team == \"defteam\"\n",
    "    df = data.copy()\n",
    "    df[\"success\"] = df[\"epa\"].apply(success_rate_lambda)\n",
    "    epa_df = (\n",
    "        df.groupby(team)\n",
    "        .agg({team: \"count\", \"epa\": \"mean\", \"success\": \"mean\"})\n",
    "        .sort_values(by=\"epa\", ascending=False)\n",
    "        .rename(columns={team: \"n\", \"success\": \"success_rate\"})\n",
    "    )\n",
    "    for col in [\"epa\", \"success_rate\"]:\n",
    "        epa_df[f\"{col}_rank\"] = epa_df[col].rank(ascending=sort_ascending).astype(int)\n",
    "        epa_df[f\"{col}_percentile\"] = (\n",
    "            epa_df[col].rank(ascending=(not sort_ascending), pct=True).round(2) * 10\n",
    "        )\n",
    "    epa_df[\"epa\"] = epa_df[\"epa\"].round(3)\n",
    "    epa_df[\"success_rate\"] = epa_df[\"success_rate\"].round(2)\n",
    "    col_list = list(epa_df.columns)\n",
    "    col_list.remove(\"n\")\n",
    "    col_list = list(sorted(col_list))\n",
    "    col_list.insert(0, \"n\")\n",
    "    return epa_df[col_list].sort_values(\"epa_rank\")\n",
    "\n",
    "\n",
    "def dual_epa_metrics(data: pd.DataFrame) -> Tuple[pd.DataFrame, pd.DataFrame]:\n",
    "    return calculate_epa_metrics(data), calculate_epa_metrics(data, \"defteam\")"
   ]
  },
  {
   "cell_type": "code",
   "execution_count": null,
   "metadata": {},
   "outputs": [],
   "source": [
    "off_rush_epa_df, def_rush_epa_df = dual_epa_metrics(pbp_r_neu.query(\"season==2023\"))"
   ]
  },
  {
   "cell_type": "code",
   "execution_count": null,
   "metadata": {},
   "outputs": [],
   "source": [
    "off_rush_epa_df"
   ]
  },
  {
   "cell_type": "code",
   "execution_count": null,
   "metadata": {},
   "outputs": [],
   "source": [
    "plot_team_scatter(off_rush_epa_df, \"success_rate\", \"epa\", alpha=0.9)"
   ]
  },
  {
   "cell_type": "code",
   "execution_count": null,
   "metadata": {},
   "outputs": [],
   "source": [
    "def_rush_epa_df"
   ]
  },
  {
   "cell_type": "code",
   "execution_count": null,
   "metadata": {},
   "outputs": [],
   "source": [
    "plot_team_scatter(def_rush_epa_df, \"success_rate\", \"epa\", flip_def=True, alpha=0.9)"
   ]
  },
  {
   "cell_type": "code",
   "execution_count": null,
   "metadata": {},
   "outputs": [],
   "source": []
  }
 ],
 "metadata": {
  "kernelspec": {
   "display_name": "nfl-betting-2oCf1E4A-py3.11",
   "language": "python",
   "name": "python3"
  },
  "language_info": {
   "codemirror_mode": {
    "name": "ipython",
    "version": 3
   },
   "file_extension": ".py",
   "mimetype": "text/x-python",
   "name": "python",
   "nbconvert_exporter": "python",
   "pygments_lexer": "ipython3",
   "version": "3.11.9"
  }
 },
 "nbformat": 4,
 "nbformat_minor": 2
}
