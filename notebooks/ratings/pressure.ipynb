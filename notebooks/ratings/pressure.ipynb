{
 "cells": [
  {
   "cell_type": "code",
   "execution_count": null,
   "metadata": {},
   "outputs": [],
   "source": [
    "import jupyter_black\n",
    "\n",
    "jupyter_black.load()\n",
    "import pandas as pd\n",
    "import nfl_data_py as nfl\n",
    "from src.visualisation.visualisation import plot_bar, plot_scatter\n",
    "from src.utils.methods import flatten_grouped_cols\n",
    "\n",
    "pd.set_option(\"display.max_columns\", None)"
   ]
  },
  {
   "cell_type": "markdown",
   "metadata": {},
   "source": [
    "## Load Data"
   ]
  },
  {
   "cell_type": "code",
   "execution_count": null,
   "metadata": {},
   "outputs": [],
   "source": [
    "pbp: pd.DataFrame = nfl.import_pbp_data([2023])"
   ]
  },
  {
   "cell_type": "code",
   "execution_count": null,
   "metadata": {},
   "outputs": [],
   "source": [
    "# offense_players - list of id's\n",
    "id_df = nfl.import_ids()\n",
    "id_df.sample(4)"
   ]
  },
  {
   "cell_type": "code",
   "execution_count": null,
   "metadata": {},
   "outputs": [],
   "source": [
    "wp_alpha = 0.05\n",
    "pbp_pass = (\n",
    "    pbp.query(\"week<=18\")\n",
    "    .query('play_type==\"pass\"')\n",
    "    .query(f\"wp >= {wp_alpha} and def_wp >={wp_alpha}\")\n",
    ")\n",
    "# certain plays are marked as na's for pressure\n",
    "pbp_pass[\"was_pressure\"] = pbp_pass[\"was_pressure\"].fillna(0)\n",
    "pbp_pass.loc[pbp_pass[\"sack\"] == 1, \"was_pressure\"] = 1\n",
    "pbp_pass"
   ]
  },
  {
   "cell_type": "markdown",
   "metadata": {},
   "source": [
    "## Pressures and Sacks\n",
    "\n",
    "Who was able to get to the QB?"
   ]
  },
  {
   "cell_type": "code",
   "execution_count": null,
   "metadata": {},
   "outputs": [],
   "source": [
    "method = \"sum\"\n",
    "# use the 'was_pressure' and 'sack'\n",
    "pbp_pass_rush = (\n",
    "    pbp_pass.groupby([\"defteam\"])\n",
    "    .agg(\n",
    "        {\n",
    "            \"was_pressure\": [\"sum\", \"mean\"],\n",
    "            \"qb_hit\": [\"sum\", \"mean\"],\n",
    "            \"sack\": [\"sum\", \"mean\"],\n",
    "        }\n",
    "    )\n",
    "    .round(3)\n",
    ")\n",
    "pbp_pass_rush.columns = flatten_grouped_cols(pbp_pass_rush.columns)\n",
    "pbp_pass_rush = (\n",
    "    pbp_pass_rush.reset_index()\n",
    "    .rename(\n",
    "        columns={\n",
    "            \"defteam\": \"team\",\n",
    "            \"was_pressure_sum\": \"pressures\",\n",
    "            \"was_pressure_mean\": \"pressure_rate\",\n",
    "            \"qb_hit_sum\": \"qb_hits\",\n",
    "            \"qb_hit_mean\": \"qb_hit_rate\",\n",
    "            \"sack_sum\": \"sacks\",\n",
    "            \"sack_mean\": \"sack_rate\",\n",
    "        }\n",
    "    )\n",
    "    .sort_values(\"pressure_rate\", ascending=False)\n",
    ")\n",
    "pbp_pass_rush"
   ]
  },
  {
   "cell_type": "code",
   "execution_count": null,
   "metadata": {},
   "outputs": [],
   "source": [
    "plot_scatter(pbp_pass_rush, x=\"pressures\", y=\"sacks\")"
   ]
  },
  {
   "cell_type": "code",
   "execution_count": null,
   "metadata": {},
   "outputs": [],
   "source": [
    "plot_scatter(pbp_pass_rush, x=\"pressure_rate\", y=\"sack_rate\")"
   ]
  },
  {
   "cell_type": "markdown",
   "metadata": {},
   "source": [
    "## How do QB's do when pressured vs not"
   ]
  },
  {
   "cell_type": "code",
   "execution_count": null,
   "metadata": {},
   "outputs": [],
   "source": [
    "pbp_pass_qb = (\n",
    "    pbp_pass.groupby([\"passer_id\", \"passer_player_name\", \"posteam\"])\n",
    "    .agg(\n",
    "        {\n",
    "            \"pass_attempt\": [\"sum\"],\n",
    "            \"was_pressure\": [\"sum\", \"mean\"],\n",
    "            # \"qb_hit\": [\"sum\", \"mean\"],\n",
    "            \"sack\": [\"sum\", \"mean\"],\n",
    "            \"epa\": [\"sum\", \"mean\"],\n",
    "        }\n",
    "    )\n",
    "    .round(3)\n",
    ")\n",
    "pbp_pass_qb.columns = [\n",
    "    col.replace(\"was_\", \"\").replace(\"_mean\", \"_rate\").replace(\"_sum\", \"s\")\n",
    "    for col in flatten_grouped_cols(pbp_pass_qb.columns)\n",
    "]\n",
    "pbp_pass_qb = pbp_pass_qb.reset_index()\n",
    "pbp_pass_qb = pbp_pass_qb.rename(\n",
    "    columns={\n",
    "        \"passer_player_name\": \"player\",\n",
    "        \"posteam\": \"team\",\n",
    "        \"epas\": \"total_epa\",\n",
    "        \"epa_rate\": \"epa_per_play\",\n",
    "    }\n",
    ").query(\"pass_attempts > 75\")\n",
    "pbp_pass_qb[\"pressure_to_sack_rate\"] = (\n",
    "    pbp_pass_qb[\"sack_rate\"] / pbp_pass_qb[\"pressure_rate\"]\n",
    ")\n",
    "pbp_pass_qb.sort_values(\"pressure_to_sack_rate\")"
   ]
  },
  {
   "cell_type": "code",
   "execution_count": null,
   "metadata": {},
   "outputs": [],
   "source": [
    "custom_style = {\n",
    "    \"axes.grid\": False,  # Disable gridlines\n",
    "    # \"axes.titlesize\": \"x-large\",  # Decent sized titles\n",
    "    # \"axes.labelsize\": \"large\",  # Larger labels\n",
    "    # \"lines.linewidth\": 2,\n",
    "    \"lines.markersize\": 6,\n",
    "    \"xtick.labelsize\": \"medium\",  # Slightly larger tick labels\n",
    "    \"ytick.labelsize\": \"medium\",\n",
    "    \"axes.titlepad\": 20,\n",
    "    # \"figure.facecolor\": \"lightgray\",  # Change figure background color\n",
    "}"
   ]
  },
  {
   "cell_type": "code",
   "execution_count": null,
   "metadata": {},
   "outputs": [],
   "source": [
    "plot_scatter(\n",
    "    pbp_pass_qb.sort_values(\"pressure_to_sack_rate\").head(45),\n",
    "    x=\"pressure_to_sack_rate\",\n",
    "    y=\"epa_per_play\",\n",
    "    marker=\"player\",\n",
    "    add_marker_label=True,\n",
    "    alpha=0.8,\n",
    "    title=\"2023 QB EPA per Play vs Pressure to Sack Rate (min 75 attempts)\",\n",
    "    flip_x=True,\n",
    "    custom_style=custom_style,\n",
    ")"
   ]
  },
  {
   "cell_type": "code",
   "execution_count": null,
   "metadata": {},
   "outputs": [],
   "source": [
    "pbp_pass.time_to_throw.describe()"
   ]
  },
  {
   "cell_type": "code",
   "execution_count": null,
   "metadata": {},
   "outputs": [],
   "source": [
    "import matplotlib.pyplot as plt\n",
    "\n",
    "print(plt.style.available)"
   ]
  },
  {
   "cell_type": "code",
   "execution_count": null,
   "metadata": {},
   "outputs": [],
   "source": [
    "[col for col in pbp_pass.columns if \"time\" in col]"
   ]
  },
  {
   "cell_type": "code",
   "execution_count": null,
   "metadata": {},
   "outputs": [],
   "source": [
    "# pbp_pass[pbp_pass[\"was_pressure\"].isna()][[\"desc\", \"was_pressure\", \"sack\"]].head()\n",
    "pbp_pass[(pbp_pass[\"was_pressure\"].isna()) & (pbp_pass[\"sack\"] < 1)].sample(4)\n",
    "# [\"desc\", \"was_pressure\", \"sack\"]\n",
    "# [\"desc\"]\n",
    "\n",
    "# pbp_pass[pbp_pass[\"was_pressure\"].isna()][\"sack\"].value_counts()\n",
    "pbp_pass[pbp_pass[\"sack\"] == 1][\"was_pressure\"].value_counts()"
   ]
  }
 ],
 "metadata": {
  "kernelspec": {
   "display_name": "nfl-betting-2oCf1E4A-py3.11",
   "language": "python",
   "name": "python3"
  },
  "language_info": {
   "codemirror_mode": {
    "name": "ipython",
    "version": 3
   },
   "file_extension": ".py",
   "mimetype": "text/x-python",
   "name": "python",
   "nbconvert_exporter": "python",
   "pygments_lexer": "ipython3",
   "version": "3.11.9"
  }
 },
 "nbformat": 4,
 "nbformat_minor": 2
}
