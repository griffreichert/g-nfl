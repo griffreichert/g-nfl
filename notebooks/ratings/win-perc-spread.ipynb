{
 "cells": [
  {
   "cell_type": "code",
   "execution_count": null,
   "metadata": {},
   "outputs": [],
   "source": [
    "import jupyter_black\n",
    "\n",
    "jupyter_black.load()\n",
    "\n",
    "import pandas as pd\n",
    "import nfl_data_py as nfl\n",
    "import xgboost as xgb\n",
    "from typing import Literal, Tuple\n",
    "from src.modelling.metrics import success_rate_lambda\n",
    "from src.visualisation.visualisation import plot_scatter\n",
    "\n",
    "pd.set_option(\"display.max_columns\", None)"
   ]
  },
  {
   "cell_type": "code",
   "execution_count": null,
   "metadata": {},
   "outputs": [],
   "source": [
    "# pbp = nfl.import_pbp_data(range(2018, 2024))\n",
    "pbp: pd.DataFrame = nfl.import_pbp_data(range(2019, 2024))"
   ]
  },
  {
   "cell_type": "code",
   "execution_count": null,
   "metadata": {},
   "outputs": [],
   "source": [
    "wp_df = (\n",
    "    pbp.query('desc==\"GAME\"')[\n",
    "        [\"game_id\", \"spread_line\", \"vegas_home_wp\"]\n",
    "        # + [c for c in pbp.columns if \"wp\" in c]\n",
    "    ]\n",
    "    .copy()\n",
    "    .sort_values(\"vegas_home_wp\")\n",
    ")\n",
    "\n",
    "wp_df"
   ]
  },
  {
   "cell_type": "code",
   "execution_count": null,
   "metadata": {},
   "outputs": [],
   "source": [
    "wp_df.plot(x=\"vegas_home_wp\", y=\"spread_line\", kind=\"scatter\")"
   ]
  },
  {
   "cell_type": "code",
   "execution_count": null,
   "metadata": {},
   "outputs": [],
   "source": []
  }
 ],
 "metadata": {
  "kernelspec": {
   "display_name": "nfl-betting-2oCf1E4A-py3.11",
   "language": "python",
   "name": "python3"
  },
  "language_info": {
   "codemirror_mode": {
    "name": "ipython",
    "version": 3
   },
   "file_extension": ".py",
   "mimetype": "text/x-python",
   "name": "python",
   "nbconvert_exporter": "python",
   "pygments_lexer": "ipython3",
   "version": "3.11.9"
  }
 },
 "nbformat": 4,
 "nbformat_minor": 2
}
