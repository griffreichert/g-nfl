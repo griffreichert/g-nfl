{
 "cells": [
  {
   "cell_type": "code",
   "execution_count": null,
   "metadata": {},
   "outputs": [],
   "source": [
    "import pandas as pd\n",
    "import numpy as np\n",
    "import jupyter_black\n",
    "import nfl_data_py as nfl\n",
    "from typing import Literal, Tuple\n",
    "\n",
    "# from src.modelling.metrics import success_rate_lambda\n",
    "# from visualisation.plots import plot_team_scatter\n",
    "\n",
    "jupyter_black.load()\n",
    "pd.set_option(\"display.max_columns\", None)"
   ]
  },
  {
   "cell_type": "code",
   "execution_count": null,
   "metadata": {},
   "outputs": [],
   "source": [
    "pbp = nfl.import_pbp_data(range(2022, 2025))"
   ]
  },
  {
   "cell_type": "code",
   "execution_count": null,
   "metadata": {},
   "outputs": [],
   "source": [
    "pbp_rp = pbp.query('play_type==\"pass\" or play_type==\"run\"')\n",
    "len(pbp_rp)"
   ]
  },
  {
   "cell_type": "code",
   "execution_count": null,
   "metadata": {},
   "outputs": [],
   "source": [
    "# filter for neutral game states\n",
    "neutral_wp_threshold = 0.025\n",
    "\n",
    "pbp_rp_neu = pbp_rp.query(\n",
    "    f\"wp>={neutral_wp_threshold} and def_wp>={neutral_wp_threshold}\"\n",
    ")\n",
    "len(pbp_rp_neu)"
   ]
  },
  {
   "cell_type": "code",
   "execution_count": null,
   "metadata": {},
   "outputs": [],
   "source": [
    "pwk = nfl.import_weekly_data(years=[2024])\n",
    "len(pwk)"
   ]
  },
  {
   "cell_type": "code",
   "execution_count": null,
   "metadata": {},
   "outputs": [],
   "source": [
    "pwk.position_group.value_counts()"
   ]
  },
  {
   "cell_type": "code",
   "execution_count": null,
   "metadata": {},
   "outputs": [],
   "source": [
    "print(pwk.sample(4).to_markdown())\n",
    "# pwk.sample(4)"
   ]
  },
  {
   "cell_type": "code",
   "execution_count": null,
   "metadata": {},
   "outputs": [],
   "source": [
    "qb_cols = [\n",
    "    \"player_id\",\n",
    "    \"player_name\",\n",
    "    \"player_display_name\",\n",
    "    \"recent_team\",\n",
    "    \"season\",\n",
    "    \"week\",\n",
    "    \"opponent_team\",\n",
    "    \"completions\",\n",
    "    \"attempts\",\n",
    "    \"passing_yards\",\n",
    "    \"passing_tds\",\n",
    "    \"interceptions\",\n",
    "    \"sacks\",\n",
    "    \"sack_yards\",\n",
    "    \"sack_fumbles\",\n",
    "    \"sack_fumbles_lost\",\n",
    "    \"passing_air_yards\",\n",
    "    \"passing_yards_after_catch\",\n",
    "    \"passing_first_downs\",\n",
    "    \"passing_epa\",\n",
    "    \"passing_2pt_conversions\",\n",
    "    \"pacr\",\n",
    "    \"dakota\",\n",
    "    \"carries\",\n",
    "    \"rushing_yards\",\n",
    "    \"rushing_tds\",\n",
    "    \"rushing_fumbles\",\n",
    "    \"rushing_fumbles_lost\",\n",
    "    \"rushing_first_downs\",\n",
    "    \"rushing_epa\",\n",
    "    \"rushing_2pt_conversions\",\n",
    "    \"fantasy_points\",\n",
    "]"
   ]
  },
  {
   "cell_type": "code",
   "execution_count": null,
   "metadata": {},
   "outputs": [],
   "source": [
    "pwk_qb = pwk.query(\"position=='QB'\").query(\"season_type=='REG'\")[qb_cols].copy()\n",
    "len(pwk_qb)"
   ]
  },
  {
   "cell_type": "code",
   "execution_count": null,
   "metadata": {},
   "outputs": [],
   "source": [
    "pwk_qb.sample(4)"
   ]
  },
  {
   "cell_type": "code",
   "execution_count": null,
   "metadata": {},
   "outputs": [],
   "source": [
    "week = 13"
   ]
  },
  {
   "cell_type": "code",
   "execution_count": null,
   "metadata": {},
   "outputs": [],
   "source": []
  },
  {
   "cell_type": "code",
   "execution_count": null,
   "metadata": {},
   "outputs": [],
   "source": []
  },
  {
   "cell_type": "code",
   "execution_count": null,
   "metadata": {},
   "outputs": [],
   "source": []
  },
  {
   "cell_type": "code",
   "execution_count": null,
   "metadata": {},
   "outputs": [],
   "source": [
    "off_epa_df = (\n",
    "    pbp_r_neu.groupby([\"season\", \"week\", \"posteam\"])\n",
    "    .agg({\"epa\": \"mean\"})\n",
    "    .sort_values(by=\"epa\", ascending=False)\n",
    ")\n",
    "# off_epa_df[\"epa_rank\"] = off_epa_df[\"epa\"].rank(ascending=False).astype(int)\n",
    "off_epa_df[\"epa_percentile\"] = off_epa_df[\"epa\"].rank(pct=True).round(2) * 10"
   ]
  },
  {
   "cell_type": "code",
   "execution_count": null,
   "metadata": {},
   "outputs": [],
   "source": [
    "off_epa_df.xs(2024, level=\"season\").xs(2, level=\"week\")"
   ]
  },
  {
   "cell_type": "code",
   "execution_count": null,
   "metadata": {},
   "outputs": [],
   "source": [
    "pbp_r_neu.groupby([\"season\", \"posteam\"]).agg({\"epa\": \"mean\"}).sort_values(\n",
    "    by=\"epa\", ascending=False\n",
    ").rename(columns={\"epa\": \"epa_per_rush\"})"
   ]
  },
  {
   "cell_type": "code",
   "execution_count": null,
   "metadata": {},
   "outputs": [],
   "source": [
    "success_rate_lambda = lambda x: 1 if x > 0 else 0"
   ]
  },
  {
   "cell_type": "code",
   "execution_count": null,
   "metadata": {},
   "outputs": [],
   "source": [
    "def calculate_epa_metrics(\n",
    "    data: pd.DataFrame, team: Literal[\"posteam\", \"defteam\"] = \"posteam\"\n",
    ") -> pd.DataFrame:\n",
    "    sort_ascending = team == \"defteam\"\n",
    "    df = data.copy()\n",
    "    df[\"success\"] = df[\"epa\"].apply(success_rate_lambda)\n",
    "    epa_df = (\n",
    "        df.groupby(team)\n",
    "        .agg({team: \"count\", \"epa\": \"mean\", \"success\": \"mean\"})\n",
    "        .sort_values(by=\"epa\", ascending=False)\n",
    "        .rename(columns={team: \"n\", \"success\": \"success_rate\"})\n",
    "    )\n",
    "    for col in [\"epa\", \"success_rate\"]:\n",
    "        epa_df[f\"{col}_rank\"] = epa_df[col].rank(ascending=sort_ascending).astype(int)\n",
    "        epa_df[f\"{col}_percentile\"] = (\n",
    "            epa_df[col].rank(ascending=(not sort_ascending), pct=True).round(2) * 10\n",
    "        )\n",
    "    epa_df[\"epa\"] = epa_df[\"epa\"].round(3)\n",
    "    epa_df[\"success_rate\"] = epa_df[\"success_rate\"].round(2)\n",
    "    col_list = list(epa_df.columns)\n",
    "    col_list.remove(\"n\")\n",
    "    col_list = list(sorted(col_list))\n",
    "    col_list.insert(0, \"n\")\n",
    "    return epa_df[col_list].sort_values(\"epa_rank\")\n",
    "\n",
    "\n",
    "def dual_epa_metrics(data: pd.DataFrame) -> Tuple[pd.DataFrame, pd.DataFrame]:\n",
    "    return calculate_epa_metrics(data), calculate_epa_metrics(data, \"defteam\")"
   ]
  },
  {
   "cell_type": "code",
   "execution_count": null,
   "metadata": {},
   "outputs": [],
   "source": [
    "off_rush_epa_df, def_rush_epa_df = dual_epa_metrics(pbp_r_neu.query(\"season==2023\"))"
   ]
  },
  {
   "cell_type": "code",
   "execution_count": null,
   "metadata": {},
   "outputs": [],
   "source": [
    "off_rush_epa_df"
   ]
  },
  {
   "cell_type": "code",
   "execution_count": null,
   "metadata": {},
   "outputs": [],
   "source": [
    "plot_team_scatter(off_rush_epa_df, \"success_rate\", \"epa\", alpha=0.9)"
   ]
  },
  {
   "cell_type": "code",
   "execution_count": null,
   "metadata": {},
   "outputs": [],
   "source": [
    "def_rush_epa_df"
   ]
  },
  {
   "cell_type": "code",
   "execution_count": null,
   "metadata": {},
   "outputs": [],
   "source": [
    "plot_team_scatter(def_rush_epa_df, \"success_rate\", \"epa\", flip_def=True, alpha=0.9)"
   ]
  }
 ],
 "metadata": {
  "kernelspec": {
   "display_name": "g-nfl-ErOLHovc-py3.11",
   "language": "python",
   "name": "python3"
  },
  "language_info": {
   "codemirror_mode": {
    "name": "ipython",
    "version": 3
   },
   "file_extension": ".py",
   "mimetype": "text/x-python",
   "name": "python",
   "nbconvert_exporter": "python",
   "pygments_lexer": "ipython3",
   "version": "3.11.9"
  }
 },
 "nbformat": 4,
 "nbformat_minor": 2
}
