{
 "cells": [
  {
   "cell_type": "code",
   "execution_count": 1,
   "metadata": {},
   "outputs": [
    {
     "data": {
      "text/html": [
       "\n",
       "                <script type=\"application/javascript\" id=\"jupyter_black\">\n",
       "                (function() {\n",
       "                    if (window.IPython === undefined) {\n",
       "                        return\n",
       "                    }\n",
       "                    var msg = \"WARNING: it looks like you might have loaded \" +\n",
       "                        \"jupyter_black in a non-lab notebook with \" +\n",
       "                        \"`is_lab=True`. Please double check, and if \" +\n",
       "                        \"loading with `%load_ext` please review the README!\"\n",
       "                    console.log(msg)\n",
       "                    alert(msg)\n",
       "                })()\n",
       "                </script>\n",
       "                "
      ],
      "text/plain": [
       "<IPython.core.display.HTML object>"
      ]
     },
     "metadata": {},
     "output_type": "display_data"
    }
   ],
   "source": [
    "import pandas as pd\n",
    "import numpy as np\n",
    "import jupyter_black\n",
    "import nfl_data_py as nfl\n",
    "from typing import Literal, Tuple\n",
    "\n",
    "# from src.modelling.metrics import success_rate_lambda\n",
    "# from visualisation.plots import plot_team_scatter\n",
    "\n",
    "jupyter_black.load()\n",
    "pd.set_option(\"display.max_columns\", None)"
   ]
  },
  {
   "cell_type": "code",
   "execution_count": 2,
   "metadata": {},
   "outputs": [
    {
     "name": "stdout",
     "output_type": "stream",
     "text": [
      "2022 done.\n",
      "2023 done.\n",
      "2024 done.\n",
      "Downcasting floats.\n"
     ]
    }
   ],
   "source": [
    "pbp = nfl.import_pbp_data(range(2022, 2025))"
   ]
  },
  {
   "cell_type": "markdown",
   "metadata": {},
   "source": [
    "# Rushing EPA"
   ]
  },
  {
   "cell_type": "code",
   "execution_count": 17,
   "metadata": {},
   "outputs": [
    {
     "data": {
      "text/plain": [
       "106080"
      ]
     },
     "execution_count": 17,
     "metadata": {},
     "output_type": "execute_result"
    }
   ],
   "source": [
    "pbp_rp = pbp.query('play_type==\"pass\" or play_type==\"run\"')\n",
    "len(pbp_rp)"
   ]
  },
  {
   "cell_type": "code",
   "execution_count": 19,
   "metadata": {},
   "outputs": [
    {
     "data": {
      "text/plain": [
       "94905"
      ]
     },
     "execution_count": 19,
     "metadata": {},
     "output_type": "execute_result"
    }
   ],
   "source": [
    "# filter for neutral game states\n",
    "neutral_wp_threshold = 0.025\n",
    "\n",
    "pbp_rp_neu = pbp_rp.query(\n",
    "    f\"wp>={neutral_wp_threshold} and def_wp>={neutral_wp_threshold}\"\n",
    ")\n",
    "len(pbp_rp_neu)"
   ]
  },
  {
   "cell_type": "code",
   "execution_count": null,
   "metadata": {},
   "outputs": [
    {
     "name": "stdout",
     "output_type": "stream",
     "text": [
      "Downcasting floats.\n"
     ]
    },
    {
     "data": {
      "text/plain": [
       "5597"
      ]
     },
     "execution_count": 20,
     "metadata": {},
     "output_type": "execute_result"
    }
   ],
   "source": [
    "pwk = nfl.import_weekly_data(years=[2024])\n",
    "len(pwk)"
   ]
  },
  {
   "cell_type": "code",
   "execution_count": 31,
   "metadata": {},
   "outputs": [
    {
     "data": {
      "text/plain": [
       "WR      2238\n",
       "RB      1480\n",
       "TE      1137\n",
       "QB       697\n",
       "DB        18\n",
       "SPEC      14\n",
       "OL         9\n",
       "LB         3\n",
       "DL         1\n",
       "Name: position_group, dtype: int64"
      ]
     },
     "execution_count": 31,
     "metadata": {},
     "output_type": "execute_result"
    }
   ],
   "source": [
    "pwk.position_group.value_counts()"
   ]
  },
  {
   "cell_type": "code",
   "execution_count": 33,
   "metadata": {},
   "outputs": [
    {
     "name": "stdout",
     "output_type": "stream",
     "text": [
      "|      | player_id   | player_name   | player_display_name   | position   | position_group   | headshot_url                                                                      | recent_team   |   season |   week | season_type   | opponent_team   |   completions |   attempts |   passing_yards |   passing_tds |   interceptions |   sacks |   sack_yards |   sack_fumbles |   sack_fumbles_lost |   passing_air_yards |   passing_yards_after_catch |   passing_first_downs |   passing_epa |   passing_2pt_conversions |   pacr |   dakota |   carries |   rushing_yards |   rushing_tds |   rushing_fumbles |   rushing_fumbles_lost |   rushing_first_downs |   rushing_epa |   rushing_2pt_conversions |   receptions |   targets |   receiving_yards |   receiving_tds |   receiving_fumbles |   receiving_fumbles_lost |   receiving_air_yards |   receiving_yards_after_catch |   receiving_first_downs |   receiving_epa |   receiving_2pt_conversions |     racr |   target_share |   air_yards_share |      wopr |   special_teams_tds |   fantasy_points |   fantasy_points_ppr |\n",
      "|-----:|:------------|:--------------|:----------------------|:-----------|:-----------------|:----------------------------------------------------------------------------------|:--------------|---------:|-------:|:--------------|:----------------|--------------:|-----------:|----------------:|--------------:|----------------:|--------:|-------------:|---------------:|--------------------:|--------------------:|----------------------------:|----------------------:|--------------:|--------------------------:|-------:|---------:|----------:|----------------:|--------------:|------------------:|-----------------------:|----------------------:|--------------:|--------------------------:|-------------:|----------:|------------------:|----------------:|--------------------:|-------------------------:|----------------------:|------------------------------:|------------------------:|----------------:|----------------------------:|---------:|---------------:|------------------:|----------:|--------------------:|-----------------:|---------------------:|\n",
      "| 5310 | 00-0039849  | M.Harrison    | Marvin Harrison       | WR         | WR               | https://static.www.nfl.com/image/upload/f_auto,q_auto/league/o6hg5zeofmxvzjjpo2sf | ARI           |     2024 |     14 | REG           | SEA             |             0 |          0 |               0 |             0 |               0 |       0 |            0 |              0 |                   0 |                   0 |                           0 |                     0 |           nan |                         0 |    nan |      nan |         0 |               0 |             0 |                 0 |                      0 |                     0 |           nan |                         0 |            4 |         8 |                49 |               0 |                   0 |                        0 |                    83 |                             8 |                       3 |       -4.63703  |                           0 | 0.590361 |       0.210526 |         0.528662  | 0.685853  |                   0 |              4.9 |                  8.9 |\n",
      "| 1174 | 00-0034159  | W.Dissly      | Will Dissly           | TE         | TE               | https://static.www.nfl.com/image/upload/f_auto,q_auto/league/opdpeoconvviwkufolxr | LAC           |     2024 |     17 | REG           | NE              |             0 |          0 |               0 |             0 |               0 |       0 |            0 |              0 |                   0 |                   0 |                           0 |                     0 |           nan |                         0 |    nan |      nan |         0 |               0 |             0 |                 0 |                      0 |                     0 |           nan |                         0 |            2 |         3 |                21 |               0 |                   0 |                        0 |                     0 |                            21 |                       2 |        1.64638  |                           0 | 0        |       0.075    |         0         | 0.1125    |                   0 |              2.1 |                  4.1 |\n",
      "| 2746 | 00-0036630  | T.Wallace     | Tylan Wallace         | WR         | WR               | https://static.www.nfl.com/image/upload/f_auto,q_auto/league/e3ghtadqh39zhu0iieht | BAL           |     2024 |     10 | REG           | CIN             |             0 |          0 |               0 |             0 |               0 |       0 |            0 |              0 |                   0 |                   0 |                           0 |                     0 |           nan |                         0 |    nan |      nan |         0 |               0 |             0 |                 0 |                      0 |                     0 |           nan |                         0 |            3 |         3 |               115 |               1 |                   0 |                        0 |                    25 |                            90 |                       2 |        8.43134  |                           0 | 4.6      |       0.09375  |         0.104603  | 0.213847  |                   0 |             17.5 |                 20.5 |\n",
      "| 1350 | 00-0034487  | T.Sherfield   | Trent Sherfield       | WR         | WR               | https://static.www.nfl.com/image/upload/f_auto,q_auto/league/esdvav44ezzmwbwe1rju | MIN           |     2024 |      3 | REG           | HOU             |             0 |          0 |               0 |             0 |               0 |       0 |            0 |              0 |                   0 |                   0 |                           0 |                     0 |           nan |                         0 |    nan |      nan |         0 |               0 |             0 |                 0 |                      0 |                     0 |           nan |                         0 |            1 |         1 |                 8 |               0 |                   0 |                        0 |                     5 |                             3 |                       0 |        0.316749 |                           0 | 1.6      |       0.04     |         0.0273224 | 0.0791257 |                   0 |              0.8 |                  1.8 |\n"
     ]
    }
   ],
   "source": [
    "print(pwk.sample(4).to_markdown())\n",
    "# pwk.sample(4)"
   ]
  },
  {
   "cell_type": "code",
   "execution_count": 47,
   "metadata": {},
   "outputs": [],
   "source": [
    "qb_cols = [\n",
    "    \"player_id\",\n",
    "    \"player_name\",\n",
    "    \"player_display_name\",\n",
    "    \"recent_team\",\n",
    "    \"season\",\n",
    "    \"week\",\n",
    "    \"opponent_team\",\n",
    "    \"completions\",\n",
    "    \"attempts\",\n",
    "    \"passing_yards\",\n",
    "    \"passing_tds\",\n",
    "    \"interceptions\",\n",
    "    \"sacks\",\n",
    "    \"sack_yards\",\n",
    "    \"sack_fumbles\",\n",
    "    \"sack_fumbles_lost\",\n",
    "    \"passing_air_yards\",\n",
    "    \"passing_yards_after_catch\",\n",
    "    \"passing_first_downs\",\n",
    "    \"passing_epa\",\n",
    "    \"passing_2pt_conversions\",\n",
    "    \"pacr\",\n",
    "    \"dakota\",\n",
    "    \"carries\",\n",
    "    \"rushing_yards\",\n",
    "    \"rushing_tds\",\n",
    "    \"rushing_fumbles\",\n",
    "    \"rushing_fumbles_lost\",\n",
    "    \"rushing_first_downs\",\n",
    "    \"rushing_epa\",\n",
    "    \"rushing_2pt_conversions\",\n",
    "    \"fantasy_points\",\n",
    "]"
   ]
  },
  {
   "cell_type": "code",
   "execution_count": 48,
   "metadata": {},
   "outputs": [
    {
     "data": {
      "text/plain": [
       "664"
      ]
     },
     "execution_count": 48,
     "metadata": {},
     "output_type": "execute_result"
    }
   ],
   "source": [
    "pwk_qb = pwk.query(\"position=='QB'\").query(\"season_type=='REG'\")[qb_cols].copy()\n",
    "len(pwk_qb)"
   ]
  },
  {
   "cell_type": "code",
   "execution_count": 49,
   "metadata": {},
   "outputs": [
    {
     "data": {
      "text/html": [
       "<div>\n",
       "<style scoped>\n",
       "    .dataframe tbody tr th:only-of-type {\n",
       "        vertical-align: middle;\n",
       "    }\n",
       "\n",
       "    .dataframe tbody tr th {\n",
       "        vertical-align: top;\n",
       "    }\n",
       "\n",
       "    .dataframe thead th {\n",
       "        text-align: right;\n",
       "    }\n",
       "</style>\n",
       "<table border=\"1\" class=\"dataframe\">\n",
       "  <thead>\n",
       "    <tr style=\"text-align: right;\">\n",
       "      <th></th>\n",
       "      <th>player_id</th>\n",
       "      <th>player_name</th>\n",
       "      <th>player_display_name</th>\n",
       "      <th>recent_team</th>\n",
       "      <th>season</th>\n",
       "      <th>week</th>\n",
       "      <th>opponent_team</th>\n",
       "      <th>completions</th>\n",
       "      <th>attempts</th>\n",
       "      <th>passing_yards</th>\n",
       "      <th>passing_tds</th>\n",
       "      <th>interceptions</th>\n",
       "      <th>sacks</th>\n",
       "      <th>sack_yards</th>\n",
       "      <th>sack_fumbles</th>\n",
       "      <th>sack_fumbles_lost</th>\n",
       "      <th>passing_air_yards</th>\n",
       "      <th>passing_yards_after_catch</th>\n",
       "      <th>passing_first_downs</th>\n",
       "      <th>passing_epa</th>\n",
       "      <th>passing_2pt_conversions</th>\n",
       "      <th>pacr</th>\n",
       "      <th>dakota</th>\n",
       "      <th>carries</th>\n",
       "      <th>rushing_yards</th>\n",
       "      <th>rushing_tds</th>\n",
       "      <th>rushing_fumbles</th>\n",
       "      <th>rushing_fumbles_lost</th>\n",
       "      <th>rushing_first_downs</th>\n",
       "      <th>rushing_epa</th>\n",
       "      <th>rushing_2pt_conversions</th>\n",
       "      <th>fantasy_points</th>\n",
       "    </tr>\n",
       "  </thead>\n",
       "  <tbody>\n",
       "    <tr>\n",
       "      <th>36</th>\n",
       "      <td>00-0026498</td>\n",
       "      <td>M.Stafford</td>\n",
       "      <td>Matthew Stafford</td>\n",
       "      <td>LA</td>\n",
       "      <td>2024</td>\n",
       "      <td>9</td>\n",
       "      <td>SEA</td>\n",
       "      <td>25</td>\n",
       "      <td>44</td>\n",
       "      <td>298.0</td>\n",
       "      <td>2</td>\n",
       "      <td>1.0</td>\n",
       "      <td>0.0</td>\n",
       "      <td>-0.0</td>\n",
       "      <td>0</td>\n",
       "      <td>0</td>\n",
       "      <td>436.0</td>\n",
       "      <td>108.0</td>\n",
       "      <td>13.0</td>\n",
       "      <td>3.873419</td>\n",
       "      <td>0</td>\n",
       "      <td>0.683486</td>\n",
       "      <td>0.096348</td>\n",
       "      <td>1</td>\n",
       "      <td>0.0</td>\n",
       "      <td>0</td>\n",
       "      <td>1.0</td>\n",
       "      <td>0.0</td>\n",
       "      <td>0.0</td>\n",
       "      <td>-0.969130</td>\n",
       "      <td>0</td>\n",
       "      <td>17.920000</td>\n",
       "    </tr>\n",
       "    <tr>\n",
       "      <th>5179</th>\n",
       "      <td>00-0039732</td>\n",
       "      <td>B.Nix</td>\n",
       "      <td>Bo Nix</td>\n",
       "      <td>DEN</td>\n",
       "      <td>2024</td>\n",
       "      <td>11</td>\n",
       "      <td>ATL</td>\n",
       "      <td>28</td>\n",
       "      <td>33</td>\n",
       "      <td>307.0</td>\n",
       "      <td>4</td>\n",
       "      <td>0.0</td>\n",
       "      <td>1.0</td>\n",
       "      <td>12.0</td>\n",
       "      <td>0</td>\n",
       "      <td>0</td>\n",
       "      <td>139.0</td>\n",
       "      <td>199.0</td>\n",
       "      <td>14.0</td>\n",
       "      <td>22.721409</td>\n",
       "      <td>0</td>\n",
       "      <td>2.208633</td>\n",
       "      <td>0.308354</td>\n",
       "      <td>2</td>\n",
       "      <td>5.0</td>\n",
       "      <td>0</td>\n",
       "      <td>0.0</td>\n",
       "      <td>0.0</td>\n",
       "      <td>0.0</td>\n",
       "      <td>-0.622357</td>\n",
       "      <td>0</td>\n",
       "      <td>28.780001</td>\n",
       "    </tr>\n",
       "    <tr>\n",
       "      <th>3044</th>\n",
       "      <td>00-0036972</td>\n",
       "      <td>M.Jones</td>\n",
       "      <td>Mac Jones</td>\n",
       "      <td>JAX</td>\n",
       "      <td>2024</td>\n",
       "      <td>17</td>\n",
       "      <td>TEN</td>\n",
       "      <td>15</td>\n",
       "      <td>22</td>\n",
       "      <td>174.0</td>\n",
       "      <td>2</td>\n",
       "      <td>0.0</td>\n",
       "      <td>2.0</td>\n",
       "      <td>1.0</td>\n",
       "      <td>0</td>\n",
       "      <td>0</td>\n",
       "      <td>124.0</td>\n",
       "      <td>101.0</td>\n",
       "      <td>9.0</td>\n",
       "      <td>7.608073</td>\n",
       "      <td>0</td>\n",
       "      <td>1.403226</td>\n",
       "      <td>0.196548</td>\n",
       "      <td>6</td>\n",
       "      <td>22.0</td>\n",
       "      <td>0</td>\n",
       "      <td>0.0</td>\n",
       "      <td>0.0</td>\n",
       "      <td>4.0</td>\n",
       "      <td>3.823416</td>\n",
       "      <td>0</td>\n",
       "      <td>17.160000</td>\n",
       "    </tr>\n",
       "    <tr>\n",
       "      <th>5550</th>\n",
       "      <td>00-0039918</td>\n",
       "      <td>C.Williams</td>\n",
       "      <td>Caleb Williams</td>\n",
       "      <td>CHI</td>\n",
       "      <td>2024</td>\n",
       "      <td>5</td>\n",
       "      <td>CAR</td>\n",
       "      <td>20</td>\n",
       "      <td>29</td>\n",
       "      <td>304.0</td>\n",
       "      <td>2</td>\n",
       "      <td>0.0</td>\n",
       "      <td>1.0</td>\n",
       "      <td>8.0</td>\n",
       "      <td>0</td>\n",
       "      <td>0</td>\n",
       "      <td>208.0</td>\n",
       "      <td>182.0</td>\n",
       "      <td>12.0</td>\n",
       "      <td>15.089914</td>\n",
       "      <td>0</td>\n",
       "      <td>1.461538</td>\n",
       "      <td>0.217157</td>\n",
       "      <td>5</td>\n",
       "      <td>34.0</td>\n",
       "      <td>0</td>\n",
       "      <td>0.0</td>\n",
       "      <td>0.0</td>\n",
       "      <td>3.0</td>\n",
       "      <td>3.099502</td>\n",
       "      <td>0</td>\n",
       "      <td>23.559999</td>\n",
       "    </tr>\n",
       "  </tbody>\n",
       "</table>\n",
       "</div>"
      ],
      "text/plain": [
       "       player_id player_name player_display_name recent_team  season  week  \\\n",
       "36    00-0026498  M.Stafford    Matthew Stafford          LA    2024     9   \n",
       "5179  00-0039732       B.Nix              Bo Nix         DEN    2024    11   \n",
       "3044  00-0036972     M.Jones           Mac Jones         JAX    2024    17   \n",
       "5550  00-0039918  C.Williams      Caleb Williams         CHI    2024     5   \n",
       "\n",
       "     opponent_team  completions  attempts  passing_yards  passing_tds  \\\n",
       "36             SEA           25        44          298.0            2   \n",
       "5179           ATL           28        33          307.0            4   \n",
       "3044           TEN           15        22          174.0            2   \n",
       "5550           CAR           20        29          304.0            2   \n",
       "\n",
       "      interceptions  sacks  sack_yards  sack_fumbles  sack_fumbles_lost  \\\n",
       "36              1.0    0.0        -0.0             0                  0   \n",
       "5179            0.0    1.0        12.0             0                  0   \n",
       "3044            0.0    2.0         1.0             0                  0   \n",
       "5550            0.0    1.0         8.0             0                  0   \n",
       "\n",
       "      passing_air_yards  passing_yards_after_catch  passing_first_downs  \\\n",
       "36                436.0                      108.0                 13.0   \n",
       "5179              139.0                      199.0                 14.0   \n",
       "3044              124.0                      101.0                  9.0   \n",
       "5550              208.0                      182.0                 12.0   \n",
       "\n",
       "      passing_epa  passing_2pt_conversions      pacr    dakota  carries  \\\n",
       "36       3.873419                        0  0.683486  0.096348        1   \n",
       "5179    22.721409                        0  2.208633  0.308354        2   \n",
       "3044     7.608073                        0  1.403226  0.196548        6   \n",
       "5550    15.089914                        0  1.461538  0.217157        5   \n",
       "\n",
       "      rushing_yards  rushing_tds  rushing_fumbles  rushing_fumbles_lost  \\\n",
       "36              0.0            0              1.0                   0.0   \n",
       "5179            5.0            0              0.0                   0.0   \n",
       "3044           22.0            0              0.0                   0.0   \n",
       "5550           34.0            0              0.0                   0.0   \n",
       "\n",
       "      rushing_first_downs  rushing_epa  rushing_2pt_conversions  \\\n",
       "36                    0.0    -0.969130                        0   \n",
       "5179                  0.0    -0.622357                        0   \n",
       "3044                  4.0     3.823416                        0   \n",
       "5550                  3.0     3.099502                        0   \n",
       "\n",
       "      fantasy_points  \n",
       "36         17.920000  \n",
       "5179       28.780001  \n",
       "3044       17.160000  \n",
       "5550       23.559999  "
      ]
     },
     "execution_count": 49,
     "metadata": {},
     "output_type": "execute_result"
    }
   ],
   "source": [
    "pwk_qb.sample(4)"
   ]
  },
  {
   "cell_type": "code",
   "execution_count": null,
   "metadata": {},
   "outputs": [],
   "source": [
    "week = 13"
   ]
  },
  {
   "cell_type": "code",
   "execution_count": null,
   "metadata": {},
   "outputs": [],
   "source": []
  },
  {
   "cell_type": "code",
   "execution_count": null,
   "metadata": {},
   "outputs": [],
   "source": []
  },
  {
   "cell_type": "code",
   "execution_count": null,
   "metadata": {},
   "outputs": [],
   "source": []
  },
  {
   "cell_type": "code",
   "execution_count": 12,
   "metadata": {},
   "outputs": [],
   "source": [
    "off_epa_df = (\n",
    "    pbp_r_neu.groupby([\"season\", \"week\", \"posteam\"])\n",
    "    .agg({\"epa\": \"mean\"})\n",
    "    .sort_values(by=\"epa\", ascending=False)\n",
    ")\n",
    "# off_epa_df[\"epa_rank\"] = off_epa_df[\"epa\"].rank(ascending=False).astype(int)\n",
    "off_epa_df[\"epa_percentile\"] = off_epa_df[\"epa\"].rank(pct=True).round(2) * 10"
   ]
  },
  {
   "cell_type": "code",
   "execution_count": 13,
   "metadata": {},
   "outputs": [
    {
     "data": {
      "text/html": [
       "<div>\n",
       "<style scoped>\n",
       "    .dataframe tbody tr th:only-of-type {\n",
       "        vertical-align: middle;\n",
       "    }\n",
       "\n",
       "    .dataframe tbody tr th {\n",
       "        vertical-align: top;\n",
       "    }\n",
       "\n",
       "    .dataframe thead th {\n",
       "        text-align: right;\n",
       "    }\n",
       "</style>\n",
       "<table border=\"1\" class=\"dataframe\">\n",
       "  <thead>\n",
       "    <tr style=\"text-align: right;\">\n",
       "      <th></th>\n",
       "      <th>epa</th>\n",
       "      <th>epa_percentile</th>\n",
       "    </tr>\n",
       "    <tr>\n",
       "      <th>posteam</th>\n",
       "      <th></th>\n",
       "      <th></th>\n",
       "    </tr>\n",
       "  </thead>\n",
       "  <tbody>\n",
       "    <tr>\n",
       "      <th>NO</th>\n",
       "      <td>1.598735</td>\n",
       "      <td>10.0</td>\n",
       "    </tr>\n",
       "    <tr>\n",
       "      <th>ARI</th>\n",
       "      <td>1.598454</td>\n",
       "      <td>10.0</td>\n",
       "    </tr>\n",
       "    <tr>\n",
       "      <th>BUF</th>\n",
       "      <td>0.602363</td>\n",
       "      <td>9.5</td>\n",
       "    </tr>\n",
       "    <tr>\n",
       "      <th>GB</th>\n",
       "      <td>0.540034</td>\n",
       "      <td>9.4</td>\n",
       "    </tr>\n",
       "    <tr>\n",
       "      <th>ATL</th>\n",
       "      <td>0.293003</td>\n",
       "      <td>8.1</td>\n",
       "    </tr>\n",
       "    <tr>\n",
       "      <th>NYG</th>\n",
       "      <td>0.220160</td>\n",
       "      <td>7.4</td>\n",
       "    </tr>\n",
       "    <tr>\n",
       "      <th>SEA</th>\n",
       "      <td>0.195122</td>\n",
       "      <td>7.1</td>\n",
       "    </tr>\n",
       "    <tr>\n",
       "      <th>DAL</th>\n",
       "      <td>0.179687</td>\n",
       "      <td>7.0</td>\n",
       "    </tr>\n",
       "    <tr>\n",
       "      <th>LAC</th>\n",
       "      <td>0.165951</td>\n",
       "      <td>6.9</td>\n",
       "    </tr>\n",
       "    <tr>\n",
       "      <th>WAS</th>\n",
       "      <td>0.138465</td>\n",
       "      <td>6.5</td>\n",
       "    </tr>\n",
       "    <tr>\n",
       "      <th>CIN</th>\n",
       "      <td>0.100537</td>\n",
       "      <td>6.2</td>\n",
       "    </tr>\n",
       "    <tr>\n",
       "      <th>PIT</th>\n",
       "      <td>0.100440</td>\n",
       "      <td>6.2</td>\n",
       "    </tr>\n",
       "    <tr>\n",
       "      <th>PHI</th>\n",
       "      <td>0.067719</td>\n",
       "      <td>5.7</td>\n",
       "    </tr>\n",
       "    <tr>\n",
       "      <th>CLE</th>\n",
       "      <td>0.052774</td>\n",
       "      <td>5.5</td>\n",
       "    </tr>\n",
       "    <tr>\n",
       "      <th>NYJ</th>\n",
       "      <td>0.051680</td>\n",
       "      <td>5.5</td>\n",
       "    </tr>\n",
       "    <tr>\n",
       "      <th>BAL</th>\n",
       "      <td>0.028653</td>\n",
       "      <td>5.2</td>\n",
       "    </tr>\n",
       "    <tr>\n",
       "      <th>HOU</th>\n",
       "      <td>0.011403</td>\n",
       "      <td>4.9</td>\n",
       "    </tr>\n",
       "    <tr>\n",
       "      <th>NE</th>\n",
       "      <td>-0.005670</td>\n",
       "      <td>4.7</td>\n",
       "    </tr>\n",
       "    <tr>\n",
       "      <th>SF</th>\n",
       "      <td>-0.036699</td>\n",
       "      <td>4.3</td>\n",
       "    </tr>\n",
       "    <tr>\n",
       "      <th>LV</th>\n",
       "      <td>-0.056189</td>\n",
       "      <td>4.1</td>\n",
       "    </tr>\n",
       "    <tr>\n",
       "      <th>MIN</th>\n",
       "      <td>-0.107996</td>\n",
       "      <td>3.5</td>\n",
       "    </tr>\n",
       "    <tr>\n",
       "      <th>TB</th>\n",
       "      <td>-0.143174</td>\n",
       "      <td>3.1</td>\n",
       "    </tr>\n",
       "    <tr>\n",
       "      <th>DET</th>\n",
       "      <td>-0.182064</td>\n",
       "      <td>2.7</td>\n",
       "    </tr>\n",
       "    <tr>\n",
       "      <th>JAX</th>\n",
       "      <td>-0.182370</td>\n",
       "      <td>2.7</td>\n",
       "    </tr>\n",
       "    <tr>\n",
       "      <th>TEN</th>\n",
       "      <td>-0.201417</td>\n",
       "      <td>2.5</td>\n",
       "    </tr>\n",
       "    <tr>\n",
       "      <th>DEN</th>\n",
       "      <td>-0.245979</td>\n",
       "      <td>2.2</td>\n",
       "    </tr>\n",
       "    <tr>\n",
       "      <th>KC</th>\n",
       "      <td>-0.345302</td>\n",
       "      <td>1.5</td>\n",
       "    </tr>\n",
       "    <tr>\n",
       "      <th>MIA</th>\n",
       "      <td>-0.410278</td>\n",
       "      <td>1.1</td>\n",
       "    </tr>\n",
       "    <tr>\n",
       "      <th>IND</th>\n",
       "      <td>-0.480128</td>\n",
       "      <td>0.9</td>\n",
       "    </tr>\n",
       "    <tr>\n",
       "      <th>CHI</th>\n",
       "      <td>-0.490031</td>\n",
       "      <td>0.8</td>\n",
       "    </tr>\n",
       "    <tr>\n",
       "      <th>LA</th>\n",
       "      <td>-0.498514</td>\n",
       "      <td>0.8</td>\n",
       "    </tr>\n",
       "    <tr>\n",
       "      <th>CAR</th>\n",
       "      <td>-1.062089</td>\n",
       "      <td>0.1</td>\n",
       "    </tr>\n",
       "  </tbody>\n",
       "</table>\n",
       "</div>"
      ],
      "text/plain": [
       "              epa  epa_percentile\n",
       "posteam                          \n",
       "NO       1.598735            10.0\n",
       "ARI      1.598454            10.0\n",
       "BUF      0.602363             9.5\n",
       "GB       0.540034             9.4\n",
       "ATL      0.293003             8.1\n",
       "NYG      0.220160             7.4\n",
       "SEA      0.195122             7.1\n",
       "DAL      0.179687             7.0\n",
       "LAC      0.165951             6.9\n",
       "WAS      0.138465             6.5\n",
       "CIN      0.100537             6.2\n",
       "PIT      0.100440             6.2\n",
       "PHI      0.067719             5.7\n",
       "CLE      0.052774             5.5\n",
       "NYJ      0.051680             5.5\n",
       "BAL      0.028653             5.2\n",
       "HOU      0.011403             4.9\n",
       "NE      -0.005670             4.7\n",
       "SF      -0.036699             4.3\n",
       "LV      -0.056189             4.1\n",
       "MIN     -0.107996             3.5\n",
       "TB      -0.143174             3.1\n",
       "DET     -0.182064             2.7\n",
       "JAX     -0.182370             2.7\n",
       "TEN     -0.201417             2.5\n",
       "DEN     -0.245979             2.2\n",
       "KC      -0.345302             1.5\n",
       "MIA     -0.410278             1.1\n",
       "IND     -0.480128             0.9\n",
       "CHI     -0.490031             0.8\n",
       "LA      -0.498514             0.8\n",
       "CAR     -1.062089             0.1"
      ]
     },
     "execution_count": 13,
     "metadata": {},
     "output_type": "execute_result"
    }
   ],
   "source": [
    "off_epa_df.xs(2024, level=\"season\").xs(2, level=\"week\")"
   ]
  },
  {
   "cell_type": "code",
   "execution_count": null,
   "metadata": {},
   "outputs": [],
   "source": [
    "pbp_r_neu.groupby([\"season\", \"posteam\"]).agg({\"epa\": \"mean\"}).sort_values(\n",
    "    by=\"epa\", ascending=False\n",
    ").rename(columns={\"epa\": \"epa_per_rush\"})"
   ]
  },
  {
   "cell_type": "code",
   "execution_count": null,
   "metadata": {},
   "outputs": [],
   "source": [
    "success_rate_lambda = lambda x: 1 if x > 0 else 0"
   ]
  },
  {
   "cell_type": "code",
   "execution_count": null,
   "metadata": {},
   "outputs": [],
   "source": [
    "def calculate_epa_metrics(\n",
    "    data: pd.DataFrame, team: Literal[\"posteam\", \"defteam\"] = \"posteam\"\n",
    ") -> pd.DataFrame:\n",
    "    sort_ascending = team == \"defteam\"\n",
    "    df = data.copy()\n",
    "    df[\"success\"] = df[\"epa\"].apply(success_rate_lambda)\n",
    "    epa_df = (\n",
    "        df.groupby(team)\n",
    "        .agg({team: \"count\", \"epa\": \"mean\", \"success\": \"mean\"})\n",
    "        .sort_values(by=\"epa\", ascending=False)\n",
    "        .rename(columns={team: \"n\", \"success\": \"success_rate\"})\n",
    "    )\n",
    "    for col in [\"epa\", \"success_rate\"]:\n",
    "        epa_df[f\"{col}_rank\"] = epa_df[col].rank(ascending=sort_ascending).astype(int)\n",
    "        epa_df[f\"{col}_percentile\"] = (\n",
    "            epa_df[col].rank(ascending=(not sort_ascending), pct=True).round(2) * 10\n",
    "        )\n",
    "    epa_df[\"epa\"] = epa_df[\"epa\"].round(3)\n",
    "    epa_df[\"success_rate\"] = epa_df[\"success_rate\"].round(2)\n",
    "    col_list = list(epa_df.columns)\n",
    "    col_list.remove(\"n\")\n",
    "    col_list = list(sorted(col_list))\n",
    "    col_list.insert(0, \"n\")\n",
    "    return epa_df[col_list].sort_values(\"epa_rank\")\n",
    "\n",
    "\n",
    "def dual_epa_metrics(data: pd.DataFrame) -> Tuple[pd.DataFrame, pd.DataFrame]:\n",
    "    return calculate_epa_metrics(data), calculate_epa_metrics(data, \"defteam\")"
   ]
  },
  {
   "cell_type": "code",
   "execution_count": null,
   "metadata": {},
   "outputs": [],
   "source": [
    "off_rush_epa_df, def_rush_epa_df = dual_epa_metrics(pbp_r_neu.query(\"season==2023\"))"
   ]
  },
  {
   "cell_type": "code",
   "execution_count": null,
   "metadata": {},
   "outputs": [],
   "source": [
    "off_rush_epa_df"
   ]
  },
  {
   "cell_type": "code",
   "execution_count": null,
   "metadata": {},
   "outputs": [],
   "source": [
    "plot_team_scatter(off_rush_epa_df, \"success_rate\", \"epa\", alpha=0.9)"
   ]
  },
  {
   "cell_type": "code",
   "execution_count": null,
   "metadata": {},
   "outputs": [],
   "source": [
    "def_rush_epa_df"
   ]
  },
  {
   "cell_type": "code",
   "execution_count": null,
   "metadata": {},
   "outputs": [],
   "source": [
    "plot_team_scatter(def_rush_epa_df, \"success_rate\", \"epa\", flip_def=True, alpha=0.9)"
   ]
  }
 ],
 "metadata": {
  "kernelspec": {
   "display_name": "g-nfl-SXXzPVo3-py3.11",
   "language": "python",
   "name": "python3"
  },
  "language_info": {
   "codemirror_mode": {
    "name": "ipython",
    "version": 3
   },
   "file_extension": ".py",
   "mimetype": "text/x-python",
   "name": "python",
   "nbconvert_exporter": "python",
   "pygments_lexer": "ipython3",
   "version": "3.11.9"
  }
 },
 "nbformat": 4,
 "nbformat_minor": 2
}
