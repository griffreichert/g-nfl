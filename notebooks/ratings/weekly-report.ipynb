{
 "cells": [
  {
   "cell_type": "code",
   "execution_count": null,
   "metadata": {},
   "outputs": [],
   "source": [
    "import jupyter_black\n",
    "import matplotlib.pyplot as plt\n",
    "import nfl_data_py as nfl\n",
    "import numpy as np\n",
    "import pandas as pd\n",
    "from tqdm import tqdm\n",
    "import warnings\n",
    "\n",
    "import statsmodels.api as sm\n",
    "import statsmodels.formula.api as smf\n",
    "from sklearn.linear_model import LogisticRegression\n",
    "\n",
    "from src.modelling.metrics import (\n",
    "    success_rate_lambda,\n",
    "    calculate_epa_metrics,\n",
    "    dual_epa_metrics,\n",
    ")\n",
    "from src.utils.data import flatten_grouped_cols, coach_lambda\n",
    "from src.utils.logos import get_team_logo\n",
    "from src.utils.config import (\n",
    "    CUR_SEASON,\n",
    "    HFA,\n",
    "    DEFAULT_WIN_PROB,\n",
    "    EXPLOSIVE_PASS_THRESHOLD,\n",
    "    EXPLOSIVE_RUN_THRESHOLD,\n",
    ")\n",
    "from src.visualisation.colors import team_unique_colors, team_unique_alt_colors\n",
    "from src.visualisation.plots import plot_bar, plot_scatter\n",
    "from src.utils.queries import pass_play_query, run_play_query\n",
    "\n",
    "\n",
    "tqdm.pandas()\n",
    "jupyter_black.load()\n",
    "pd.set_option(\"display.max_columns\", None)\n",
    "warnings.filterwarnings(\"ignore\", category=pd.errors.PerformanceWarning)\n",
    "\n",
    "season = 2023\n",
    "week = 1"
   ]
  },
  {
   "cell_type": "markdown",
   "metadata": {},
   "source": [
    "# Load Data"
   ]
  },
  {
   "cell_type": "code",
   "execution_count": null,
   "metadata": {},
   "outputs": [],
   "source": [
    "# load data for the given season and week\n",
    "pbp_start: pd.DataFrame = nfl.import_pbp_data(years=[season])\n",
    "# remove garbage time\n",
    "# pbp = pbp_start.query(f\"week=={week}\").query(\n",
    "pbp = pbp_start.query(f\"wp>={DEFAULT_WIN_PROB} and def_wp>={DEFAULT_WIN_PROB}\").copy()\n",
    "\n",
    "# Create the 'explosive_run' and 'explosive_pass' columns in the pbp DataFrame\n",
    "pbp[\"explosive_run\"] = (pbp[\"rushing_yards\"] >= EXPLOSIVE_RUN_THRESHOLD).astype(int)\n",
    "pbp[\"explosive_pass\"] = (pbp[\"receiving_yards\"] >= EXPLOSIVE_PASS_THRESHOLD).astype(int)\n",
    "\n",
    "# isolate run and pass plays\n",
    "pbp_pass = pbp.query(pass_play_query)\n",
    "# limit rushing win probability to be between 25%-90%\n",
    "pbp_run = pbp.query(run_play_query).query(\"wp>=0.25 and wp<=0.90\")\n",
    "pbp_play = pd.concat([pbp_run, pbp_pass])\n",
    "\n",
    "## calculate epa and success rate dataframes\n",
    "\n",
    "# Overall\n",
    "off_epa_df, def_epa_df = dual_epa_metrics(pbp_play)\n",
    "ovr_epa_df = off_epa_df.merge(\n",
    "    def_epa_df, left_index=True, right_index=True, suffixes=(\"_off\", \"_def\")\n",
    ")\n",
    "ovr_epa_df.index.name = \"team\"\n",
    "\n",
    "# Passing\n",
    "off_epa_pass_df, def_epa_pass_df = dual_epa_metrics(pbp_pass)\n",
    "\n",
    "# Rushing\n",
    "off_epa_run_df, def_epa_run_df = dual_epa_metrics(pbp_run)"
   ]
  },
  {
   "cell_type": "markdown",
   "metadata": {},
   "source": [
    "# Basic EPA"
   ]
  },
  {
   "cell_type": "code",
   "execution_count": null,
   "metadata": {},
   "outputs": [],
   "source": [
    "# epa\n",
    "plot_scatter(\n",
    "    ovr_epa_df,\n",
    "    x=\"epa_off\",\n",
    "    y=\"epa_def\",\n",
    "    title=f\"Offensive and Defensive EPA, Week {week} {season}\",\n",
    "    flip_y=True,\n",
    ")\n",
    "# success rate\n",
    "plot_scatter(\n",
    "    ovr_epa_df,\n",
    "    x=\"success_rate_off\",\n",
    "    y=\"success_rate_def\",\n",
    "    title=f\"Offensive and Defensive Success Rate, Week {week} {season}\",\n",
    "    flip_y=True,\n",
    ")\n",
    "# offense\n",
    "plot_scatter(\n",
    "    off_epa_df,\n",
    "    x=\"success_rate\",\n",
    "    y=\"epa\",\n",
    "    title=f\"Offensive EPA and Success Rate, Week {week} {season}\",\n",
    ")\n",
    "# defense\n",
    "plot_scatter(\n",
    "    def_epa_df,\n",
    "    x=\"success_rate\",\n",
    "    y=\"epa\",\n",
    "    title=f\"Defensive EPA and Success Rate, Week {week} {season}\",\n",
    "    flip_x=True,\n",
    "    flip_y=True,\n",
    ")\n",
    "ovr_epa_df"
   ]
  },
  {
   "cell_type": "markdown",
   "metadata": {},
   "source": [
    "# Offense"
   ]
  },
  {
   "cell_type": "markdown",
   "metadata": {},
   "source": [
    "## Quarterbacks\n",
    "- EPA CPOE Composite\n",
    "- Pressure to Sack\n",
    "- Time to throw\n",
    "- Run vs Pass"
   ]
  },
  {
   "cell_type": "markdown",
   "metadata": {},
   "source": [
    "## Skill Positions"
   ]
  },
  {
   "cell_type": "markdown",
   "metadata": {},
   "source": [
    "### Receivers"
   ]
  },
  {
   "cell_type": "markdown",
   "metadata": {},
   "source": [
    "### Running Backs"
   ]
  },
  {
   "cell_type": "code",
   "execution_count": null,
   "metadata": {},
   "outputs": [],
   "source": []
  },
  {
   "cell_type": "markdown",
   "metadata": {},
   "source": [
    "## O-Line"
   ]
  },
  {
   "cell_type": "markdown",
   "metadata": {},
   "source": [
    "# Defense"
   ]
  },
  {
   "cell_type": "markdown",
   "metadata": {},
   "source": [
    "## Run Stop\n",
    "\n",
    "1. Success Rate and EPA vs the Run\n",
    "2. Explosive run Rate & Yards Per attempt"
   ]
  },
  {
   "cell_type": "code",
   "execution_count": null,
   "metadata": {},
   "outputs": [],
   "source": [
    "plot_scatter(\n",
    "    def_epa_run_df,\n",
    "    x=\"success_rate\",\n",
    "    y=\"epa\",\n",
    "    title=f\"Run Defense EPA and Success Rate, Week {week} {season}\",\n",
    "    flip_x=True,\n",
    "    flip_y=True,\n",
    ")"
   ]
  },
  {
   "cell_type": "code",
   "execution_count": null,
   "metadata": {},
   "outputs": [],
   "source": [
    "pbp_run"
   ]
  },
  {
   "cell_type": "markdown",
   "metadata": {},
   "source": []
  }
 ],
 "metadata": {
  "kernelspec": {
   "display_name": "nfl-betting--tcbFQtn-py3.11",
   "language": "python",
   "name": "python3"
  },
  "language_info": {
   "codemirror_mode": {
    "name": "ipython",
    "version": 3
   },
   "file_extension": ".py",
   "mimetype": "text/x-python",
   "name": "python",
   "nbconvert_exporter": "python",
   "pygments_lexer": "ipython3",
   "version": "3.11.9"
  }
 },
 "nbformat": 4,
 "nbformat_minor": 2
}
