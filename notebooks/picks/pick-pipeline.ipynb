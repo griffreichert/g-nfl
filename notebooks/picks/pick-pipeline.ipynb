{
 "cells": [
  {
   "cell_type": "code",
   "execution_count": null,
   "metadata": {},
   "outputs": [],
   "source": [
    "import pandas as pd\n",
    "import numpy as np\n",
    "import jupyter_black\n",
    "from typing import Literal, Tuple\n",
    "from IPython.display import HTML\n",
    "\n",
    "\n",
    "import nfl_data_py as nfl\n",
    "from gspread.exceptions import WorksheetNotFound, SpreadsheetNotFound\n",
    "\n",
    "from src.modelling.metrics import success_rate_lambda\n",
    "from src.modelling.utils import guess_the_lines_ovr, get_week_spreads\n",
    "from src.modelling.homers import (\n",
    "    google_sheet_names,\n",
    "    pickers,\n",
    "    master_google_sheet,\n",
    "    calc_percentile_to_gpf,\n",
    "    orchestrate_power_ratings_to_picks,\n",
    "    get_power_ratings,\n",
    ")\n",
    "from src.scraping.google_sheets import col_to_int\n",
    "from src.utils.connections import load_service_account\n",
    "from src.utils.teams import standardize_teams\n",
    "from src.utils.logos import get_team_logo, get_logo_url\n",
    "from src.visualisation.plots import plot_team_scatter\n",
    "from src.visualisation.tables import pg_cmap\n",
    "\n",
    "jupyter_black.load()\n",
    "pd.set_option(\"display.max_columns\", None)"
   ]
  },
  {
   "cell_type": "code",
   "execution_count": null,
   "metadata": {},
   "outputs": [],
   "source": [
    "week = 10\n",
    "picker = \"Griffin\"\n",
    "# picker = \"Harry\"\n",
    "# picker = \"Chuck\""
   ]
  },
  {
   "cell_type": "code",
   "execution_count": null,
   "metadata": {},
   "outputs": [],
   "source": [
    "gtl = orchestrate_power_ratings_to_picks(week=week, picker=picker, overwrite_tab=False)"
   ]
  },
  {
   "cell_type": "code",
   "execution_count": null,
   "metadata": {},
   "outputs": [],
   "source": [
    "pickers = [\"Griffin\", \"Harry\", \"Chuck\"]\n",
    "# pickers = [\"Griffin\"]"
   ]
  },
  {
   "cell_type": "code",
   "execution_count": null,
   "metadata": {},
   "outputs": [],
   "source": [
    "power_dfs = [\n",
    "    get_power_ratings(week=week, picker=picker)[\"net_perc\"].to_frame().sort_index()\n",
    "    for picker in pickers\n",
    "]\n",
    "composite = power_dfs[0].copy()\n",
    "for df in power_dfs[1:]:\n",
    "    composite += df\n",
    "composite = composite / len(power_dfs)\n",
    "power_dfs.insert(0, composite)\n",
    "composite_df = pd.concat(power_dfs, axis=1)\n",
    "composite_df.columns = [\"Composite\"] + pickers\n",
    "composite_df = composite_df.sort_values(\"Composite\", ascending=False)\n",
    "\n",
    "composite_rank = composite_df.rank(ascending=False).astype(int)\n",
    "composite_rank = composite_rank.reset_index()\n",
    "composite_rank[\"team\"] = composite_rank[\"team\"].apply(get_logo_url)\n",
    "composite_rank = composite_rank.set_index(\"team\")\n",
    "# composite_rank.index.name = (\"Team\", \"\")\n",
    "# Display the DataFrame as HTML in Jupyter Notebook\n",
    "composite_rank = composite_rank.style.background_gradient(cmap=pg_cmap)\n",
    "html = composite_rank.to_html(escape=False)  # Escape=False ensures HTML rendering\n",
    "display(HTML(html))"
   ]
  },
  {
   "cell_type": "code",
   "execution_count": null,
   "metadata": {},
   "outputs": [],
   "source": [
    "composite_df = power_dfs[0]\n",
    "composite_df[\"net_gpf\"] = composite_df[\"net_perc\"].apply(calc_percentile_to_gpf)\n",
    "composite_df"
   ]
  },
  {
   "cell_type": "code",
   "execution_count": null,
   "metadata": {},
   "outputs": [],
   "source": [
    "guess_the_lines_ovr(composite_df, 4).sort_values(\"rank\")"
   ]
  },
  {
   "cell_type": "code",
   "execution_count": null,
   "metadata": {},
   "outputs": [],
   "source": []
  }
 ],
 "metadata": {
  "kernelspec": {
   "display_name": "nfl-betting--tcbFQtn-py3.11",
   "language": "python",
   "name": "python3"
  },
  "language_info": {
   "codemirror_mode": {
    "name": "ipython",
    "version": 3
   },
   "file_extension": ".py",
   "mimetype": "text/x-python",
   "name": "python",
   "nbconvert_exporter": "python",
   "pygments_lexer": "ipython3",
   "version": "3.11.9"
  }
 },
 "nbformat": 4,
 "nbformat_minor": 2
}
