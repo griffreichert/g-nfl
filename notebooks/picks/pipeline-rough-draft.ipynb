{
 "cells": [
  {
   "cell_type": "code",
   "execution_count": null,
   "metadata": {},
   "outputs": [],
   "source": [
    "import pandas as pd\n",
    "import numpy as np\n",
    "import jupyter_black\n",
    "from typing import Literal, Tuple\n",
    "\n",
    "import nfl_data_py as nfl\n",
    "from gspread.exceptions import WorksheetNotFound, SpreadsheetNotFound\n",
    "\n",
    "from src.modelling.metrics import success_rate_lambda\n",
    "from src.modelling.utils import guess_the_lines_ovr, get_week_spreads\n",
    "from src.modelling.homers import (\n",
    "    google_sheet_names,\n",
    "    pickers,\n",
    "    master_google_sheet,\n",
    "    orchestrate_power_ratings_to_picks,\n",
    "    get_power_ratings,\n",
    ")\n",
    "from src.scraping.google_sheets import col_to_int\n",
    "from src.utils.connections import load_service_account\n",
    "from src.utils.teams import standardize_teams\n",
    "from src.visualisation.plots import plot_team_scatter\n",
    "\n",
    "jupyter_black.load()\n",
    "pd.set_option(\"display.max_columns\", None)"
   ]
  },
  {
   "cell_type": "code",
   "execution_count": null,
   "metadata": {},
   "outputs": [],
   "source": [
    "week = 3\n",
    "picker = \"Griffin\"\n",
    "# picker = \"Harry\"\n",
    "# picker = \"Chuck\""
   ]
  },
  {
   "cell_type": "code",
   "execution_count": null,
   "metadata": {},
   "outputs": [],
   "source": [
    "gtl = orchestrate_power_ratings_to_picks(week=week, picker=picker, overwrite_tab=True)"
   ]
  },
  {
   "cell_type": "code",
   "execution_count": null,
   "metadata": {},
   "outputs": [],
   "source": [
    "power_df = get_power_ratings(week=week, picker=picker)\n",
    "power_df"
   ]
  },
  {
   "cell_type": "code",
   "execution_count": null,
   "metadata": {},
   "outputs": [],
   "source": []
  }
 ],
 "metadata": {
  "kernelspec": {
   "display_name": "nfl-betting-2oCf1E4A-py3.11",
   "language": "python",
   "name": "python3"
  },
  "language_info": {
   "codemirror_mode": {
    "name": "ipython",
    "version": 3
   },
   "file_extension": ".py",
   "mimetype": "text/x-python",
   "name": "python",
   "nbconvert_exporter": "python",
   "pygments_lexer": "ipython3",
   "version": "3.11.9"
  }
 },
 "nbformat": 4,
 "nbformat_minor": 2
}
