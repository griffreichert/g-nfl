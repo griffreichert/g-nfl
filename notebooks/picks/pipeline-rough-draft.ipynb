{
 "cells": [
  {
   "cell_type": "code",
   "execution_count": null,
   "metadata": {},
   "outputs": [],
   "source": [
    "import pandas as pd\n",
    "import numpy as np\n",
    "import jupyter_black\n",
    "import nfl_data_py as nfl\n",
    "from typing import Literal, Tuple\n",
    "\n",
    "from src.modelling.metrics import success_rate_lambda\n",
    "from src.visualisation.plots import plot_team_scatter\n",
    "from src.modelling.utils import guess_the_lines_ovr\n",
    "\n",
    "jupyter_black.load()\n",
    "pd.set_option(\"display.max_columns\", None)"
   ]
  },
  {
   "cell_type": "code",
   "execution_count": null,
   "metadata": {},
   "outputs": [],
   "source": [
    "from src.utils.connections import load_service_account\n",
    "\n",
    "# Load the service acount from the google_config.json file\n",
    "sa = load_service_account()"
   ]
  },
  {
   "cell_type": "code",
   "execution_count": null,
   "metadata": {},
   "outputs": [],
   "source": [
    "week = 1"
   ]
  },
  {
   "cell_type": "code",
   "execution_count": null,
   "metadata": {},
   "outputs": [],
   "source": [
    "# open the google sheet\n",
    "gsheet = sa.open(\"NFL Power Ratings\")\n",
    "# open power ratings for this week\n",
    "work_sheet = gsheet.worksheet(f\"Wk {week}\")\n",
    "power_df = pd.DataFrame(work_sheet.get(range_name=\"A1:P33\"))\n",
    "# reset column names\n",
    "power_df.columns = power_df.iloc[0]\n",
    "power_df = power_df.drop(0).set_index(\"team\").astype(\"float32\")"
   ]
  },
  {
   "cell_type": "code",
   "execution_count": null,
   "metadata": {},
   "outputs": [],
   "source": [
    "guess_the_lines_ovr(power_df, week=1, season=2024)"
   ]
  }
 ],
 "metadata": {
  "kernelspec": {
   "display_name": "nfl-betting-2oCf1E4A-py3.11",
   "language": "python",
   "name": "python3"
  },
  "language_info": {
   "codemirror_mode": {
    "name": "ipython",
    "version": 3
   },
   "file_extension": ".py",
   "mimetype": "text/x-python",
   "name": "python",
   "nbconvert_exporter": "python",
   "pygments_lexer": "ipython3",
   "version": "3.11.9"
  }
 },
 "nbformat": 4,
 "nbformat_minor": 2
}
