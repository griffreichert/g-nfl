{
 "cells": [
  {
   "cell_type": "code",
   "execution_count": null,
   "metadata": {},
   "outputs": [],
   "source": [
    "import pandas as pd\n",
    "import numpy as np\n",
    "import jupyter_black\n",
    "from typing import Literal, Tuple\n",
    "\n",
    "import nfl_data_py as nfl\n",
    "from gspread.exceptions import WorksheetNotFound, SpreadsheetNotFound\n",
    "\n",
    "from src.modelling.metrics import success_rate_lambda\n",
    "from src.modelling.utils import guess_the_lines_ovr, get_week_spreads\n",
    "from src.modelling.homers import (\n",
    "    google_sheet_names,\n",
    "    pickers,\n",
    "    master_google_sheet,\n",
    "    orchestrate_power_ratings_to_picks,\n",
    ")\n",
    "from src.scraping.google_sheets import col_to_int\n",
    "from src.utils.connections import load_service_account\n",
    "from src.utils.teams import standardize_teams\n",
    "from src.visualisation.plots import plot_team_scatter\n",
    "\n",
    "jupyter_black.load()\n",
    "pd.set_option(\"display.max_columns\", None)"
   ]
  },
  {
   "cell_type": "code",
   "execution_count": null,
   "metadata": {},
   "outputs": [],
   "source": [
    "week = 2\n",
    "picker = \"Griffin\"\n",
    "# picker = \"Harry\"\n",
    "# picker = \"Chuck\""
   ]
  },
  {
   "cell_type": "code",
   "execution_count": null,
   "metadata": {},
   "outputs": [],
   "source": [
    "gtl = orchestrate_power_ratings_to_picks(week=week, picker=picker, overwrite_tab=False)"
   ]
  },
  {
   "cell_type": "code",
   "execution_count": null,
   "metadata": {},
   "outputs": [],
   "source": [
    "gtl"
   ]
  },
  {
   "cell_type": "code",
   "execution_count": null,
   "metadata": {},
   "outputs": [],
   "source": [
    "try:\n",
    "    # open the google sheet\n",
    "    gsheet = sa.open(sheet_name)\n",
    "except SpreadsheetNotFound as e:\n",
    "    print(\n",
    "        f\"WARNING: google sheet '{sheet_name}' not found, ensure it is shared with the service account\"\n",
    "    )\n",
    "    raise e\n",
    "# open power ratings for this week\n",
    "try:\n",
    "    work_sheet = gsheet.worksheet(tab_name)\n",
    "    # gsheet.worksheet(f\"Wk {week} fail\")\n",
    "except WorksheetNotFound as e:\n",
    "    print(f\"WARNING: tab '{tab_name}' not found\")\n",
    "    raise e"
   ]
  },
  {
   "cell_type": "code",
   "execution_count": null,
   "metadata": {},
   "outputs": [],
   "source": [
    "power_df = pd.DataFrame(work_sheet.get(range_name=\"A1:P33\"))\n",
    "# reset column names\n",
    "power_df.columns = power_df.iloc[0]\n",
    "power_df = power_df.drop(0)\n",
    "power_df[\"team\"] = power_df[\"team\"].apply(standardize_teams)\n",
    "power_df = power_df.set_index(\"team\").astype(\"float32\")\n",
    "assert len(power_df) == 32\n",
    "gtl = (\n",
    "    guess_the_lines_ovr(power_df, week=1, season=2024)\n",
    "    .drop(columns=[\"away_gpf\", \"home_gpf\"])\n",
    "    .reset_index(level=0)\n",
    ")\n",
    "gtl[\"adj_line\"] = gtl[\"pred_line\"]\n",
    "gtl[\"adj_difference\"] = None\n",
    "gtl[\"adj_pick\"] = None\n",
    "gtl[\"adj_rank\"] = None\n",
    "col_char_mappings = {col: chr(65 + i) for i, col in enumerate(gtl.columns)}\n",
    "\n",
    "adj_difference_formulas = []\n",
    "adj_pick_formulas = []\n",
    "adj_rank_formulas = []\n",
    "n = len(gtl)\n",
    "for index, row in gtl.iterrows():\n",
    "    i = int(index) + 2\n",
    "    adj_difference_formulas.append(\n",
    "        f\"={col_char_mappings['adj_line']}{i}-{col_char_mappings['spread_line']}{i}\"\n",
    "    )\n",
    "    adj_pick_formulas.append(\n",
    "        f\"=IF({col_char_mappings['adj_difference']}{i}>0,{col_char_mappings['home_team']}{i}, {col_char_mappings['away_team']}{i})\"\n",
    "    )\n",
    "    adj_rank_formulas.append(\n",
    "        f\"=RANK(ABS({col_char_mappings['adj_difference']}{i}), ARRAYFORMULA(ABS(${col_char_mappings['adj_difference']}$2:${col_char_mappings['adj_difference']}${n+1})))\"\n",
    "    )\n",
    "gtl[\"adj_difference\"] = adj_difference_formulas\n",
    "gtl[\"adj_pick\"] = adj_pick_formulas\n",
    "gtl[\"adj_rank\"] = adj_rank_formulas"
   ]
  },
  {
   "cell_type": "code",
   "execution_count": null,
   "metadata": {},
   "outputs": [],
   "source": [
    "pick_tab = tab_name + \" - Picks\"\n",
    "pick_tab_exists = True\n",
    "try:\n",
    "    pick_worksheet = gsheet.worksheet(pick_tab)\n",
    "except WorksheetNotFound:\n",
    "    pick_tab_exists = False\n",
    "\n",
    "if not pick_tab_exists or overwrite_tab:\n",
    "    # gsheet.del_worksheet(gsheet.worksheet(f\"Wk {week} - Picks\"))\n",
    "    pick_worksheet = gsheet.add_worksheet(pick_tab, 100, 100)\n",
    "    # Convert DataFrame to list of lists\n",
    "    data_to_upload = gtl.map(\n",
    "        lambda x: round(x, 2) if isinstance(x, float) else x\n",
    "    ).values.tolist()\n",
    "    # Optionally, add header if needed\n",
    "    data_to_upload.insert(0, gtl.columns.tolist())\n",
    "    # Update the worksheet with formulas\n",
    "    # If update is causing issues, ensure that the values are treated correctly\n",
    "    # by setting values explicitly as formulas\n",
    "    cell_range = (\n",
    "        f\"A1:{chr(65 + len(gtl.columns) - 1)}{len(gtl) + 1}\"  # Adjust range as needed\n",
    "    )\n",
    "    pick_worksheet.update(values=data_to_upload, range_name=cell_range, raw=False)\n",
    "\n",
    "    if hide_cols:\n",
    "        i = col_to_int(col_char_mappings[\"spread_line\"])\n",
    "        pick_worksheet.hide_columns(i, i + 1)\n",
    "\n",
    "        i = col_to_int(col_char_mappings[\"difference\"])\n",
    "        j = col_to_int(col_char_mappings[\"rank\"])\n",
    "        pick_worksheet.hide_columns(i, j + 1)\n",
    "        i = col_to_int(col_char_mappings[\"adj_difference\"])\n",
    "        j = col_to_int(col_char_mappings[\"adj_rank\"])\n",
    "        pick_worksheet.hide_columns(i, j + 1)\n",
    "\n",
    "else:\n",
    "    print(f\"Picks tab {pick_tab} already exists and overwrite_tab set to False\")"
   ]
  },
  {
   "cell_type": "code",
   "execution_count": null,
   "metadata": {},
   "outputs": [],
   "source": []
  }
 ],
 "metadata": {
  "kernelspec": {
   "display_name": "nfl-betting-2oCf1E4A-py3.11",
   "language": "python",
   "name": "python3"
  },
  "language_info": {
   "codemirror_mode": {
    "name": "ipython",
    "version": 3
   },
   "file_extension": ".py",
   "mimetype": "text/x-python",
   "name": "python",
   "nbconvert_exporter": "python",
   "pygments_lexer": "ipython3",
   "version": "3.11.9"
  }
 },
 "nbformat": 4,
 "nbformat_minor": 2
}
