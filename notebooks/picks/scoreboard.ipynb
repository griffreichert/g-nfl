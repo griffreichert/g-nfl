{
 "cells": [
  {
   "cell_type": "code",
   "execution_count": null,
   "metadata": {},
   "outputs": [],
   "source": [
    "import pandas as pd\n",
    "import jupyter_black\n",
    "from g_nfl.utils.database import PicksDatabase\n",
    "from g_nfl.utils.database import PoolSpreadsDatabase\n",
    "from g_nfl.utils.data import get_current_nfl_week\n",
    "import nfl_data_py as nfl\n",
    "\n",
    "jupyter_black.load()"
   ]
  },
  {
   "cell_type": "code",
   "execution_count": null,
   "metadata": {},
   "outputs": [],
   "source": [
    "SEASON, WEEK = get_current_nfl_week()\n",
    "WEEK = 7\n",
    "SEASON, WEEK"
   ]
  },
  {
   "cell_type": "code",
   "execution_count": null,
   "metadata": {},
   "outputs": [],
   "source": [
    "# 1. Load picks from database\n",
    "week_range = range(1, 9)\n",
    "\n",
    "picks_db = PicksDatabase()\n",
    "\n",
    "pick_df = pd.concat(\n",
    "    [pd.DataFrame(picks_db.get_picks(season=SEASON, week=w)) for w in week_range]\n",
    ").drop(columns=[\"id\", \"created_at\", \"updated_at\", \"spread\"])\n",
    "pick_df"
   ]
  },
  {
   "cell_type": "code",
   "execution_count": null,
   "metadata": {},
   "outputs": [],
   "source": [
    "pick_df.picker.value_counts()"
   ]
  },
  {
   "cell_type": "code",
   "execution_count": null,
   "metadata": {},
   "outputs": [],
   "source": [
    "pool_db = PoolSpreadsDatabase()\n",
    "raw_spreads = []\n",
    "for week in week_range:\n",
    "    raw_spreads.extend(pool_db.get_pool_spreads(season=SEASON, week=week))\n",
    "\n",
    "pool_spreads = pd.DataFrame(raw_spreads).drop(\n",
    "    columns=[\"created_at\", \"id\", \"season\", \"week\"]\n",
    ")\n",
    "pool_spreads.sort_values(by=\"game_id\")"
   ]
  },
  {
   "cell_type": "code",
   "execution_count": null,
   "metadata": {},
   "outputs": [],
   "source": [
    "# 2. Load game results from nfl_data_py\n",
    "\n",
    "# Import schedules for the season\n",
    "schedule_df = nfl.import_schedules([SEASON])\n",
    "\n",
    "# Filter to the specific week and get relevant columns\n",
    "games_df = schedule_df[schedule_df[\"week\"].isin(set(week_range))][\n",
    "    [\"game_id\", \"away_team\", \"home_team\", \"away_score\", \"home_score\"]\n",
    "].copy()\n",
    "\n",
    "games_df.head()"
   ]
  },
  {
   "cell_type": "code",
   "execution_count": null,
   "metadata": {},
   "outputs": [],
   "source": [
    "# 3. Merge picks with game results\n",
    "merged_df = pick_df.merge(games_df, on=\"game_id\", how=\"left\").merge(\n",
    "    pool_spreads, on=\"game_id\", how=\"left\"\n",
    ")\n",
    "\n",
    "# Check for any picks without game results (shouldn't happen if week is complete)\n",
    "missing_results = merged_df[merged_df[\"away_score\"].isna()]\n",
    "if len(missing_results) > 0:\n",
    "    print(\n",
    "        f\"⚠️ Warning: {len(missing_results)} picks have no game results (games may not be completed)\"\n",
    "    )\n",
    "    print(missing_results[[\"picker\", \"team_picked\", \"game_id\"]])\n",
    "else:\n",
    "    print(\"✅ All picks have game results\")\n",
    "\n",
    "merged_df.head()"
   ]
  },
  {
   "cell_type": "code",
   "execution_count": null,
   "metadata": {},
   "outputs": [],
   "source": [
    "spread_picks = merged_df.query(\n",
    "    'pick_type != \"underdog\" and pick_type != \"survivor\"'\n",
    ").copy()\n",
    "spread_picks"
   ]
  },
  {
   "cell_type": "code",
   "execution_count": null,
   "metadata": {},
   "outputs": [],
   "source": [
    "# 4. Grade each pick (did they pick the winner?)\n",
    "def grade_pick(row):\n",
    "    \"\"\"\n",
    "    Determine if a pick was correct.\n",
    "    Returns 1 for win, 0 for loss, 0.5 for push, None for incomplete game\n",
    "\n",
    "    Note: Spreads are always in reference to the away team.\n",
    "    Example: If away team is +3, they can lose by up to 2 and still cover.\n",
    "             If away team is -3, they need to win by more than 3 to cover.\n",
    "    \"\"\"\n",
    "    if pd.isna(row[\"away_score\"]) or pd.isna(row[\"home_score\"]):\n",
    "        return None  # Game not completed\n",
    "\n",
    "    picked_team = row[\"team_picked\"]\n",
    "    spread = row[\"spread\"]\n",
    "\n",
    "    margin = row[\"away_score\"] - row[\"home_score\"]\n",
    "\n",
    "    away_covers = margin + spread\n",
    "\n",
    "    if away_covers == 0:\n",
    "        return 0.5\n",
    "\n",
    "    if picked_team == row[\"away_team\"]:\n",
    "        return int(away_covers > 0)\n",
    "    else:\n",
    "        return int(away_covers < 0)\n",
    "\n",
    "\n",
    "spread_picks[\"result\"] = spread_picks.apply(grade_pick, axis=1)\n",
    "\n",
    "# Add weight column (2 for best_bet, 1 for regular)\n",
    "spread_picks[\"weight\"] = spread_picks.apply(\n",
    "    lambda row: 2 if row[\"pick_type\"] == \"best_bet\" else 1, axis=1\n",
    ")\n",
    "\n",
    "spread_picks[\"weighted_result\"] = spread_picks.apply(\n",
    "    lambda row: 2 * row[\"result\"] if row[\"pick_type\"] == \"best_bet\" else row[\"result\"],\n",
    "    axis=1,\n",
    ")\n",
    "spread_picks"
   ]
  },
  {
   "cell_type": "code",
   "execution_count": null,
   "metadata": {},
   "outputs": [],
   "source": [
    "spread_picks[(spread_picks[\"picker\"] == \"bModel\")]"
   ]
  },
  {
   "cell_type": "code",
   "execution_count": null,
   "metadata": {},
   "outputs": [],
   "source": [
    "filtered_picks = spread_picks[spread_picks[\"week\"] > 0]\n",
    "\n",
    "results = filtered_picks.groupby(\"picker\").agg(\n",
    "    {\"game_id\": \"count\", \"result\": \"mean\", \"weighted_result\": \"sum\", \"weight\": \"sum\"}\n",
    ")\n",
    "\n",
    "# Calculate proper weighted average: sum(weighted_result) / sum(weight)\n",
    "results[\"weighted_avg\"] = results[\"weighted_result\"] / results[\"weight\"]\n",
    "\n",
    "results = results[[\"game_id\", \"result\", \"weighted_avg\"]].rename(\n",
    "    columns={\n",
    "        \"game_id\": \"picks\",\n",
    "        \"result\": \"win_rate\",\n",
    "        \"weighted_avg\": \"weighted_win_rate\",\n",
    "    }\n",
    ")\n",
    "\n",
    "results.sort_values(\"weighted_win_rate\", ascending=False).round(3)"
   ]
  },
  {
   "cell_type": "code",
   "execution_count": null,
   "metadata": {},
   "outputs": [],
   "source": [
    "filtered_picks = spread_picks[spread_picks[\"week\"] > 4]\n",
    "\n",
    "results = filtered_picks.groupby(\"picker\").agg(\n",
    "    {\"game_id\": \"count\", \"result\": \"mean\", \"weighted_result\": \"sum\", \"weight\": \"sum\"}\n",
    ")\n",
    "\n",
    "# Calculate proper weighted average: sum(weighted_result) / sum(weight)\n",
    "results[\"weighted_avg\"] = results[\"weighted_result\"] / results[\"weight\"]\n",
    "\n",
    "results = results[[\"game_id\", \"result\", \"weighted_avg\"]].rename(\n",
    "    columns={\n",
    "        \"game_id\": \"picks\",\n",
    "        \"result\": \"win_rate\",\n",
    "        \"weighted_avg\": \"weighted_win_rate\",\n",
    "    }\n",
    ")\n",
    "\n",
    "results.sort_values(\"weighted_win_rate\", ascending=False).round(3)"
   ]
  },
  {
   "cell_type": "code",
   "execution_count": null,
   "metadata": {},
   "outputs": [],
   "source": []
  }
 ],
 "metadata": {
  "kernelspec": {
   "display_name": "g-nfl-SXXzPVo3-py3.11",
   "language": "python",
   "name": "python3"
  },
  "language_info": {
   "codemirror_mode": {
    "name": "ipython",
    "version": 3
   },
   "file_extension": ".py",
   "mimetype": "text/x-python",
   "name": "python",
   "nbconvert_exporter": "python",
   "pygments_lexer": "ipython3",
   "version": "3.11.9"
  }
 },
 "nbformat": 4,
 "nbformat_minor": 2
}
