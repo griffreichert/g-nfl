{
 "cells": [
  {
   "cell_type": "code",
   "execution_count": null,
   "metadata": {},
   "outputs": [],
   "source": [
    "import jupyter_black\n",
    "\n",
    "jupyter_black.load()\n",
    "import pandas as pd\n",
    "import numpy as np\n",
    "import nfl_data_py as nfl\n",
    "import matplotlib.pyplot as plt\n",
    "from matplotlib.offsetbox import AnnotationBbox\n",
    "import matplotlib.ticker as mtick\n",
    "import matplotlib.image as mpimg\n",
    "\n",
    "\n",
    "import statsmodels.api as sm\n",
    "import statsmodels.formula.api as smf\n",
    "from sklearn.linear_model import LogisticRegression\n",
    "\n",
    "\n",
    "from src.visualisation.visualisation import plot_bar, plot_scatter\n",
    "from src.utils.data import flatten_grouped_cols\n",
    "from src.visualisation.colors import team_unique_colors, team_unique_alt_colors\n",
    "from src.utils.logos import get_team_logo\n",
    "from src.utils.data import coach_lambda\n",
    "\n",
    "pd.set_option(\"display.max_columns\", None)"
   ]
  },
  {
   "cell_type": "code",
   "execution_count": null,
   "metadata": {},
   "outputs": [],
   "source": [
    "pbp: pd.DataFrame = nfl.import_pbp_data([2023])"
   ]
  },
  {
   "cell_type": "code",
   "execution_count": null,
   "metadata": {},
   "outputs": [],
   "source": [
    "pbp.play_type.value_counts()"
   ]
  },
  {
   "cell_type": "code",
   "execution_count": null,
   "metadata": {},
   "outputs": [],
   "source": [
    "id_df = nfl.import_ids()[[\"name\", \"gsis_id\"]].copy().rename(columns={\"name\": \"player\"})\n",
    "id_df.head()"
   ]
  },
  {
   "cell_type": "code",
   "execution_count": null,
   "metadata": {},
   "outputs": [],
   "source": [
    "play_types = [\"field_goal\", \"extra_point\"]\n",
    "pbp_kick = pbp.query(\"play_type in @play_types\").merge(\n",
    "    id_df, how=\"left\", left_on=\"kicker_player_id\", right_on=\"gsis_id\"\n",
    ")\n",
    "# pbp_kick[\"kick_attempt\"] = (\n",
    "#     pbp_kick[\"extra_point_attempt\"] + pbp_kick[\"field_goal_attempt\"]\n",
    "# )\n",
    "pbp_kick[\"kick_result\"] = (\n",
    "    pbp_kick[\"extra_point_result\"]\n",
    "    .fillna(pbp_kick[\"field_goal_result\"])\n",
    "    .map({\"good\": 1, \"made\": 1})\n",
    "    .fillna(0)\n",
    ")\n",
    "pbp_kick[\"made_distance\"] = pbp_kick[\"kick_result\"] * pbp_kick[\"kick_distance\"]\n",
    "pbp_kick[\"down\"] = pbp_kick[\"down\"].fillna(4)\n",
    "\n",
    "# pbp_kick[\"desc\"]"
   ]
  },
  {
   "cell_type": "code",
   "execution_count": null,
   "metadata": {},
   "outputs": [],
   "source": [
    "kick_cols = [\n",
    "    \"kicker_player_id\",\n",
    "    \"player\",\n",
    "    \"kick_distance\",\n",
    "    \"field_goal_attempt\",\n",
    "    \"field_goal_result\",\n",
    "    \"extra_point_attempt\",\n",
    "    \"extra_point_result\",\n",
    "    \"quarter_seconds_remaining\",\n",
    "    \"half_seconds_remaining\",\n",
    "    \"game_seconds_remaining\",\n",
    "    \"qtr\",\n",
    "    \"down\",\n",
    "    \"goal_to_go\",\n",
    "    \"score_differential\",\n",
    "    \"kick_result\",\n",
    "]\n",
    "pbp_kick[kick_cols].sample(8)"
   ]
  },
  {
   "cell_type": "code",
   "execution_count": null,
   "metadata": {},
   "outputs": [],
   "source": [
    "pbp_kick[\"kick_result\"].value_counts()"
   ]
  },
  {
   "cell_type": "code",
   "execution_count": null,
   "metadata": {},
   "outputs": [],
   "source": [
    "kick_logit = smf.logit(\n",
    "    \"kick_result ~ 1 +  kick_distance + extra_point_attempt + game_seconds_remaining + qtr + score_differential\",\n",
    "    pbp_kick,\n",
    ")\n",
    "kick_result = kick_logit.fit()\n",
    "print(kick_result.summary())"
   ]
  },
  {
   "cell_type": "code",
   "execution_count": null,
   "metadata": {},
   "outputs": [],
   "source": [
    "# Step 1: Generate Predictions\n",
    "pbp_kick[\"kick_prob\"] = kick_result.predict(pbp_kick)\n",
    "\n",
    "# Step 2: Calculate Pass Rate Over Expectation\n",
    "pbp_kick[\"kroe\"] = pbp_kick[\"kick_result\"] - pbp_kick[\"kick_prob\"]\n",
    "# pbp_kick.sample(8)"
   ]
  },
  {
   "cell_type": "code",
   "execution_count": null,
   "metadata": {},
   "outputs": [],
   "source": [
    "# Step 1: Identify the correct coach for each play\n",
    "# Step 2: Aggregate by coach\n",
    "kroe_df = (\n",
    "    pbp_kick.groupby([\"player\", \"posteam\"])\n",
    "    .agg(\n",
    "        fga=(\"kick_result\", \"count\"),\n",
    "        fgm=(\"kick_result\", \"sum\"),\n",
    "        avg_dist=(\"kick_distance\", \"mean\"),\n",
    "        avg_made_dist=(\"made_distance\", \"mean\"),\n",
    "        avg_kroe=(\"kroe\", \"mean\"),\n",
    "    )\n",
    "    .reset_index()\n",
    "    .query(\"fga>15\")\n",
    ")\n",
    "kroe_df[\"fgm\"] = kroe_df[\"fgm\"].astype(int)\n",
    "kroe_df[\"fgp\"] = kroe_df[\"fgm\"] / kroe_df[\"fga\"]\n",
    "kroe_df = kroe_df.sort_values(by=\"avg_kroe\", ascending=False)\n",
    "kroe_df"
   ]
  },
  {
   "cell_type": "code",
   "execution_count": null,
   "metadata": {},
   "outputs": [],
   "source": [
    "plot_scatter(\n",
    "    kroe_df.head(30),\n",
    "    x=\"fgp\",\n",
    "    y=\"avg_kroe\",\n",
    "    marker=\"player\",\n",
    "    add_marker_label=True,\n",
    "    title=\"Field goal Percentage and Average Field Goal Percentage over Expected 2023\",\n",
    "    best_fit=True,\n",
    ")"
   ]
  },
  {
   "cell_type": "code",
   "execution_count": null,
   "metadata": {},
   "outputs": [],
   "source": []
  }
 ],
 "metadata": {
  "kernelspec": {
   "display_name": "nfl-betting-2oCf1E4A-py3.11",
   "language": "python",
   "name": "python3"
  },
  "language_info": {
   "codemirror_mode": {
    "name": "ipython",
    "version": 3
   },
   "file_extension": ".py",
   "mimetype": "text/x-python",
   "name": "python",
   "nbconvert_exporter": "python",
   "pygments_lexer": "ipython3",
   "version": "3.11.9"
  }
 },
 "nbformat": 4,
 "nbformat_minor": 2
}
