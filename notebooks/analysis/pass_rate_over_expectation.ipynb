{
 "cells": [
  {
   "cell_type": "code",
   "execution_count": null,
   "metadata": {},
   "outputs": [],
   "source": [
    "import jupyter_black\n",
    "\n",
    "jupyter_black.load()\n",
    "import pandas as pd\n",
    "import numpy as np\n",
    "import nfl_data_py as nfl\n",
    "import matplotlib.pyplot as plt\n",
    "from matplotlib.offsetbox import AnnotationBbox\n",
    "import matplotlib.ticker as mtick\n",
    "import matplotlib.image as mpimg\n",
    "\n",
    "\n",
    "import statsmodels.api as sm\n",
    "import statsmodels.formula.api as smf\n",
    "from sklearn.linear_model import LogisticRegression\n",
    "\n",
    "\n",
    "from src.visualisation.visualisation import plot_bar, plot_scatter\n",
    "from src.utils.data import flatten_grouped_cols\n",
    "from src.visualisation.colors import team_unique_colors, team_unique_alt_colors\n",
    "from src.utils.logos import get_team_logo\n",
    "from src.utils.data import coach_lambda\n",
    "\n",
    "pd.set_option(\"display.max_columns\", None)"
   ]
  },
  {
   "cell_type": "code",
   "execution_count": null,
   "metadata": {},
   "outputs": [],
   "source": [
    "pbp: pd.DataFrame = nfl.import_pbp_data([2021, 2022, 2023])"
   ]
  },
  {
   "cell_type": "code",
   "execution_count": null,
   "metadata": {},
   "outputs": [],
   "source": [
    "play_types = [\"pass\", \"run\", \"punt\", \"field_goal\"]\n",
    "\n",
    "pbp_play = pbp.dropna(subset=[\"down\", \"play_type\"]).query(\"play_type in @play_types\")\n",
    "pbp_play[\"coach\"] = pbp_play.apply(\n",
    "    coach_lambda,\n",
    "    axis=1,\n",
    ")"
   ]
  },
  {
   "cell_type": "code",
   "execution_count": null,
   "metadata": {},
   "outputs": [],
   "source": [
    "pbp_play[\"play_type\"].value_counts()"
   ]
  },
  {
   "cell_type": "code",
   "execution_count": null,
   "metadata": {},
   "outputs": [],
   "source": [
    "pass_attempt_logit = smf.logit(\n",
    "    # \"pass_attempt ~ yardline_100 + quarter_seconds_remaining + half_seconds_remaining + game_seconds_remaining + qtr + down + goal_to_go + ydstogo + posteam_timeouts_remaining + posteam_score + score_differential\",\n",
    "    \"pass_attempt ~ yardline_100 + half_seconds_remaining + game_seconds_remaining + qtr + down + goal_to_go + ydstogo + posteam_timeouts_remaining + score_differential\",\n",
    "    pbp_play,\n",
    ")\n",
    "pass_attempt_result = pass_attempt_logit.fit()\n",
    "print(pass_attempt_result.summary())"
   ]
  },
  {
   "cell_type": "code",
   "execution_count": null,
   "metadata": {},
   "outputs": [],
   "source": [
    "# Step 1: Generate Predictions\n",
    "pbp_play[\"pass_attempt_prob\"] = pass_attempt_result.predict(pbp_play)\n",
    "\n",
    "# Step 2: Calculate Pass Rate Over Expectation\n",
    "pbp_play[\"proe\"] = pbp_play[\"pass_attempt\"] - pbp_play[\"pass_attempt_prob\"]\n",
    "# pbp_play.sample(8)\n",
    "# # Inspect the resulting DataFrame\n",
    "# print(pbp_play[['pass_attempt', 'pass_attempt_prob', 'pass_rate_over_expectation']].head())"
   ]
  },
  {
   "cell_type": "code",
   "execution_count": null,
   "metadata": {},
   "outputs": [],
   "source": [
    "# Step 1: Identify the correct coach for each play\n",
    "# Step 2: Aggregate by coach\n",
    "coach_proe = (\n",
    "    pbp_play.groupby([\"season\", \"coach\"])\n",
    "    .agg(\n",
    "        pass_attempts=(\"pass_attempt\", \"count\"),\n",
    "        avg_proe=(\"proe\", \"mean\"),\n",
    "    )\n",
    "    .reset_index()\n",
    "    .query(\"pass_attempts > 40\")\n",
    ")\n",
    "\n",
    "# Step 3: Sort the result by avg_proe for better readability\n",
    "coach_proe = coach_proe.sort_values(by=\"avg_proe\", ascending=False)\n",
    "\n",
    "coach_proe"
   ]
  }
 ],
 "metadata": {
  "kernelspec": {
   "display_name": "nfl-betting-2oCf1E4A-py3.11",
   "language": "python",
   "name": "python3"
  },
  "language_info": {
   "codemirror_mode": {
    "name": "ipython",
    "version": 3
   },
   "file_extension": ".py",
   "mimetype": "text/x-python",
   "name": "python",
   "nbconvert_exporter": "python",
   "pygments_lexer": "ipython3",
   "version": "3.11.9"
  }
 },
 "nbformat": 4,
 "nbformat_minor": 2
}
