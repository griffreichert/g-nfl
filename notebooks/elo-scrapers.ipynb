{
 "cells": [
  {
   "cell_type": "code",
   "execution_count": 4,
   "metadata": {},
   "outputs": [],
   "source": [
    "import sys\n",
    "import os\n",
    "import requests\n",
    "from bs4 import BeautifulSoup\n",
    "from io import BytesIO\n",
    "\n",
    "# Navigate up one level to the parent directory and append it to sys.path\n",
    "sys.path.append(os.path.abspath(os.path.join(os.getcwd(), os.pardir)))\n",
    "import nfl_data_py as nfl\n",
    "import pandas as pd\n",
    "from src import utils\n",
    "import importlib\n",
    "from src.scrapers import scrape_inpredictable, scrape_unabated, scrape_espn"
   ]
  },
  {
   "cell_type": "markdown",
   "metadata": {},
   "source": [
    "# 1. Set Week"
   ]
  },
  {
   "cell_type": "code",
   "execution_count": 5,
   "metadata": {},
   "outputs": [],
   "source": [
    "WEEK = 5\n",
    "SEASON = 2023"
   ]
  },
  {
   "cell_type": "markdown",
   "metadata": {},
   "source": [
    "# 2. Automatic Scrapers"
   ]
  },
  {
   "cell_type": "code",
   "execution_count": 6,
   "metadata": {},
   "outputs": [
    {
     "ename": "ImportError",
     "evalue": "module scrape_espn not in sys.modules",
     "output_type": "error",
     "traceback": [
      "\u001b[0;31m---------------------------------------------------------------------------\u001b[0m",
      "\u001b[0;31mImportError\u001b[0m                               Traceback (most recent call last)",
      "\u001b[1;32m/Users/fgreichert/Documents/Code/nfl-betting/notebooks/elo-scrapers.ipynb Cell 5\u001b[0m line \u001b[0;36m1\n\u001b[0;32m----> <a href='vscode-notebook-cell:/Users/fgreichert/Documents/Code/nfl-betting/notebooks/elo-scrapers.ipynb#Y220sZmlsZQ%3D%3D?line=0'>1</a>\u001b[0m importlib\u001b[39m.\u001b[39;49mreload(scrape_espn)\n",
      "File \u001b[0;32m/opt/anaconda3/envs/nfl/lib/python3.10/importlib/__init__.py:148\u001b[0m, in \u001b[0;36mreload\u001b[0;34m(module)\u001b[0m\n\u001b[1;32m    146\u001b[0m \u001b[39mif\u001b[39;00m sys\u001b[39m.\u001b[39mmodules\u001b[39m.\u001b[39mget(name) \u001b[39mis\u001b[39;00m \u001b[39mnot\u001b[39;00m module:\n\u001b[1;32m    147\u001b[0m     msg \u001b[39m=\u001b[39m \u001b[39m\"\u001b[39m\u001b[39mmodule \u001b[39m\u001b[39m{}\u001b[39;00m\u001b[39m not in sys.modules\u001b[39m\u001b[39m\"\u001b[39m\n\u001b[0;32m--> 148\u001b[0m     \u001b[39mraise\u001b[39;00m \u001b[39mImportError\u001b[39;00m(msg\u001b[39m.\u001b[39mformat(name), name\u001b[39m=\u001b[39mname)\n\u001b[1;32m    149\u001b[0m \u001b[39mif\u001b[39;00m name \u001b[39min\u001b[39;00m _RELOADING:\n\u001b[1;32m    150\u001b[0m     \u001b[39mreturn\u001b[39;00m _RELOADING[name]\n",
      "\u001b[0;31mImportError\u001b[0m: module scrape_espn not in sys.modules"
     ]
    }
   ],
   "source": [
    "importlib.reload(src)"
   ]
  },
  {
   "cell_type": "code",
   "execution_count": 3,
   "metadata": {},
   "outputs": [
    {
     "name": "stdout",
     "output_type": "stream",
     "text": [
      "../data/inpredictable/inpredictable-2023-wk5.csv exists!\n",
      "../data/unabated/unabated-2023-wk5.csv exists!\n"
     ]
    },
    {
     "ename": "HTTPError",
     "evalue": "HTTP Error 404: Not Found",
     "output_type": "error",
     "traceback": [
      "\u001b[0;31m---------------------------------------------------------------------------\u001b[0m",
      "\u001b[0;31mHTTPError\u001b[0m                                 Traceback (most recent call last)",
      "\u001b[1;32m/Users/fgreichert/Documents/Code/nfl-betting/notebooks/elo-scrapers.ipynb Cell 5\u001b[0m line \u001b[0;36m3\n\u001b[1;32m      <a href='vscode-notebook-cell:/Users/fgreichert/Documents/Code/nfl-betting/notebooks/elo-scrapers.ipynb#W2sZmlsZQ%3D%3D?line=0'>1</a>\u001b[0m scrape_inpredictable(WEEK, SEASON)\n\u001b[1;32m      <a href='vscode-notebook-cell:/Users/fgreichert/Documents/Code/nfl-betting/notebooks/elo-scrapers.ipynb#W2sZmlsZQ%3D%3D?line=1'>2</a>\u001b[0m scrape_unabated(WEEK, SEASON)\n\u001b[0;32m----> <a href='vscode-notebook-cell:/Users/fgreichert/Documents/Code/nfl-betting/notebooks/elo-scrapers.ipynb#W2sZmlsZQ%3D%3D?line=2'>3</a>\u001b[0m scrape_espn(WEEK, SEASON)\n",
      "File \u001b[0;32m~/Documents/code/nfl-betting/src/scrapers.py:70\u001b[0m, in \u001b[0;36mscrape_espn\u001b[0;34m(week, season)\u001b[0m\n\u001b[1;32m     69\u001b[0m \u001b[39mdef\u001b[39;00m \u001b[39mscrape_espn\u001b[39m(week: \u001b[39mint\u001b[39m, season: \u001b[39mint\u001b[39m) \u001b[39m-\u001b[39m\u001b[39m>\u001b[39m \u001b[39mNone\u001b[39;00m:\n\u001b[0;32m---> 70\u001b[0m     df_list \u001b[39m=\u001b[39m pd\u001b[39m.\u001b[39;49mread_html(\u001b[39m\"\u001b[39;49m\u001b[39mhttps://www.espn.com/nfl/df\u001b[39;49m\u001b[39m\"\u001b[39;49m)\n\u001b[1;32m     71\u001b[0m     df \u001b[39m=\u001b[39m df_list[\u001b[39m1\u001b[39m]\n\u001b[1;32m     72\u001b[0m     df\u001b[39m.\u001b[39mcolumns \u001b[39m=\u001b[39m df\u001b[39m.\u001b[39mcolumns\u001b[39m.\u001b[39mdroplevel(level\u001b[39m=\u001b[39m\u001b[39m0\u001b[39m)\n",
      "File \u001b[0;32m/opt/anaconda3/envs/nfl/lib/python3.10/site-packages/pandas/util/_decorators.py:331\u001b[0m, in \u001b[0;36mdeprecate_nonkeyword_arguments.<locals>.decorate.<locals>.wrapper\u001b[0;34m(*args, **kwargs)\u001b[0m\n\u001b[1;32m    325\u001b[0m \u001b[39mif\u001b[39;00m \u001b[39mlen\u001b[39m(args) \u001b[39m>\u001b[39m num_allow_args:\n\u001b[1;32m    326\u001b[0m     warnings\u001b[39m.\u001b[39mwarn(\n\u001b[1;32m    327\u001b[0m         msg\u001b[39m.\u001b[39mformat(arguments\u001b[39m=\u001b[39m_format_argument_list(allow_args)),\n\u001b[1;32m    328\u001b[0m         \u001b[39mFutureWarning\u001b[39;00m,\n\u001b[1;32m    329\u001b[0m         stacklevel\u001b[39m=\u001b[39mfind_stack_level(),\n\u001b[1;32m    330\u001b[0m     )\n\u001b[0;32m--> 331\u001b[0m \u001b[39mreturn\u001b[39;00m func(\u001b[39m*\u001b[39;49margs, \u001b[39m*\u001b[39;49m\u001b[39m*\u001b[39;49mkwargs)\n",
      "File \u001b[0;32m/opt/anaconda3/envs/nfl/lib/python3.10/site-packages/pandas/io/html.py:1205\u001b[0m, in \u001b[0;36mread_html\u001b[0;34m(io, match, flavor, header, index_col, skiprows, attrs, parse_dates, thousands, encoding, decimal, converters, na_values, keep_default_na, displayed_only, extract_links)\u001b[0m\n\u001b[1;32m   1201\u001b[0m validate_header_arg(header)\n\u001b[1;32m   1203\u001b[0m io \u001b[39m=\u001b[39m stringify_path(io)\n\u001b[0;32m-> 1205\u001b[0m \u001b[39mreturn\u001b[39;00m _parse(\n\u001b[1;32m   1206\u001b[0m     flavor\u001b[39m=\u001b[39;49mflavor,\n\u001b[1;32m   1207\u001b[0m     io\u001b[39m=\u001b[39;49mio,\n\u001b[1;32m   1208\u001b[0m     match\u001b[39m=\u001b[39;49mmatch,\n\u001b[1;32m   1209\u001b[0m     header\u001b[39m=\u001b[39;49mheader,\n\u001b[1;32m   1210\u001b[0m     index_col\u001b[39m=\u001b[39;49mindex_col,\n\u001b[1;32m   1211\u001b[0m     skiprows\u001b[39m=\u001b[39;49mskiprows,\n\u001b[1;32m   1212\u001b[0m     parse_dates\u001b[39m=\u001b[39;49mparse_dates,\n\u001b[1;32m   1213\u001b[0m     thousands\u001b[39m=\u001b[39;49mthousands,\n\u001b[1;32m   1214\u001b[0m     attrs\u001b[39m=\u001b[39;49mattrs,\n\u001b[1;32m   1215\u001b[0m     encoding\u001b[39m=\u001b[39;49mencoding,\n\u001b[1;32m   1216\u001b[0m     decimal\u001b[39m=\u001b[39;49mdecimal,\n\u001b[1;32m   1217\u001b[0m     converters\u001b[39m=\u001b[39;49mconverters,\n\u001b[1;32m   1218\u001b[0m     na_values\u001b[39m=\u001b[39;49mna_values,\n\u001b[1;32m   1219\u001b[0m     keep_default_na\u001b[39m=\u001b[39;49mkeep_default_na,\n\u001b[1;32m   1220\u001b[0m     displayed_only\u001b[39m=\u001b[39;49mdisplayed_only,\n\u001b[1;32m   1221\u001b[0m     extract_links\u001b[39m=\u001b[39;49mextract_links,\n\u001b[1;32m   1222\u001b[0m )\n",
      "File \u001b[0;32m/opt/anaconda3/envs/nfl/lib/python3.10/site-packages/pandas/io/html.py:986\u001b[0m, in \u001b[0;36m_parse\u001b[0;34m(flavor, io, match, attrs, encoding, displayed_only, extract_links, **kwargs)\u001b[0m\n\u001b[1;32m    983\u001b[0m p \u001b[39m=\u001b[39m parser(io, compiled_match, attrs, encoding, displayed_only, extract_links)\n\u001b[1;32m    985\u001b[0m \u001b[39mtry\u001b[39;00m:\n\u001b[0;32m--> 986\u001b[0m     tables \u001b[39m=\u001b[39m p\u001b[39m.\u001b[39;49mparse_tables()\n\u001b[1;32m    987\u001b[0m \u001b[39mexcept\u001b[39;00m \u001b[39mValueError\u001b[39;00m \u001b[39mas\u001b[39;00m caught:\n\u001b[1;32m    988\u001b[0m     \u001b[39m# if `io` is an io-like object, check if it's seekable\u001b[39;00m\n\u001b[1;32m    989\u001b[0m     \u001b[39m# and try to rewind it before trying the next parser\u001b[39;00m\n\u001b[1;32m    990\u001b[0m     \u001b[39mif\u001b[39;00m \u001b[39mhasattr\u001b[39m(io, \u001b[39m\"\u001b[39m\u001b[39mseekable\u001b[39m\u001b[39m\"\u001b[39m) \u001b[39mand\u001b[39;00m io\u001b[39m.\u001b[39mseekable():\n",
      "File \u001b[0;32m/opt/anaconda3/envs/nfl/lib/python3.10/site-packages/pandas/io/html.py:262\u001b[0m, in \u001b[0;36m_HtmlFrameParser.parse_tables\u001b[0;34m(self)\u001b[0m\n\u001b[1;32m    254\u001b[0m \u001b[39mdef\u001b[39;00m \u001b[39mparse_tables\u001b[39m(\u001b[39mself\u001b[39m):\n\u001b[1;32m    255\u001b[0m \u001b[39m    \u001b[39m\u001b[39m\"\"\"\u001b[39;00m\n\u001b[1;32m    256\u001b[0m \u001b[39m    Parse and return all tables from the DOM.\u001b[39;00m\n\u001b[1;32m    257\u001b[0m \n\u001b[0;32m   (...)\u001b[0m\n\u001b[1;32m    260\u001b[0m \u001b[39m    list of parsed (header, body, footer) tuples from tables.\u001b[39;00m\n\u001b[1;32m    261\u001b[0m \u001b[39m    \"\"\"\u001b[39;00m\n\u001b[0;32m--> 262\u001b[0m     tables \u001b[39m=\u001b[39m \u001b[39mself\u001b[39m\u001b[39m.\u001b[39m_parse_tables(\u001b[39mself\u001b[39;49m\u001b[39m.\u001b[39;49m_build_doc(), \u001b[39mself\u001b[39m\u001b[39m.\u001b[39mmatch, \u001b[39mself\u001b[39m\u001b[39m.\u001b[39mattrs)\n\u001b[1;32m    263\u001b[0m     \u001b[39mreturn\u001b[39;00m (\u001b[39mself\u001b[39m\u001b[39m.\u001b[39m_parse_thead_tbody_tfoot(table) \u001b[39mfor\u001b[39;00m table \u001b[39min\u001b[39;00m tables)\n",
      "File \u001b[0;32m/opt/anaconda3/envs/nfl/lib/python3.10/site-packages/pandas/io/html.py:821\u001b[0m, in \u001b[0;36m_LxmlFrameParser._build_doc\u001b[0;34m(self)\u001b[0m\n\u001b[1;32m    819\u001b[0m             \u001b[39mpass\u001b[39;00m\n\u001b[1;32m    820\u001b[0m     \u001b[39melse\u001b[39;00m:\n\u001b[0;32m--> 821\u001b[0m         \u001b[39mraise\u001b[39;00m e\n\u001b[1;32m    822\u001b[0m \u001b[39melse\u001b[39;00m:\n\u001b[1;32m    823\u001b[0m     \u001b[39mif\u001b[39;00m \u001b[39mnot\u001b[39;00m \u001b[39mhasattr\u001b[39m(r, \u001b[39m\"\u001b[39m\u001b[39mtext_content\u001b[39m\u001b[39m\"\u001b[39m):\n",
      "File \u001b[0;32m/opt/anaconda3/envs/nfl/lib/python3.10/site-packages/pandas/io/html.py:802\u001b[0m, in \u001b[0;36m_LxmlFrameParser._build_doc\u001b[0;34m(self)\u001b[0m\n\u001b[1;32m    800\u001b[0m \u001b[39mtry\u001b[39;00m:\n\u001b[1;32m    801\u001b[0m     \u001b[39mif\u001b[39;00m is_url(\u001b[39mself\u001b[39m\u001b[39m.\u001b[39mio):\n\u001b[0;32m--> 802\u001b[0m         \u001b[39mwith\u001b[39;00m urlopen(\u001b[39mself\u001b[39;49m\u001b[39m.\u001b[39;49mio) \u001b[39mas\u001b[39;00m f:\n\u001b[1;32m    803\u001b[0m             r \u001b[39m=\u001b[39m parse(f, parser\u001b[39m=\u001b[39mparser)\n\u001b[1;32m    804\u001b[0m     \u001b[39melse\u001b[39;00m:\n\u001b[1;32m    805\u001b[0m         \u001b[39m# try to parse the input in the simplest way\u001b[39;00m\n",
      "File \u001b[0;32m/opt/anaconda3/envs/nfl/lib/python3.10/site-packages/pandas/io/common.py:265\u001b[0m, in \u001b[0;36murlopen\u001b[0;34m(*args, **kwargs)\u001b[0m\n\u001b[1;32m    259\u001b[0m \u001b[39m\u001b[39m\u001b[39m\"\"\"\u001b[39;00m\n\u001b[1;32m    260\u001b[0m \u001b[39mLazy-import wrapper for stdlib urlopen, as that imports a big chunk of\u001b[39;00m\n\u001b[1;32m    261\u001b[0m \u001b[39mthe stdlib.\u001b[39;00m\n\u001b[1;32m    262\u001b[0m \u001b[39m\"\"\"\u001b[39;00m\n\u001b[1;32m    263\u001b[0m \u001b[39mimport\u001b[39;00m \u001b[39murllib\u001b[39;00m\u001b[39m.\u001b[39;00m\u001b[39mrequest\u001b[39;00m\n\u001b[0;32m--> 265\u001b[0m \u001b[39mreturn\u001b[39;00m urllib\u001b[39m.\u001b[39;49mrequest\u001b[39m.\u001b[39;49murlopen(\u001b[39m*\u001b[39;49margs, \u001b[39m*\u001b[39;49m\u001b[39m*\u001b[39;49mkwargs)\n",
      "File \u001b[0;32m/opt/anaconda3/envs/nfl/lib/python3.10/urllib/request.py:216\u001b[0m, in \u001b[0;36murlopen\u001b[0;34m(url, data, timeout, cafile, capath, cadefault, context)\u001b[0m\n\u001b[1;32m    214\u001b[0m \u001b[39melse\u001b[39;00m:\n\u001b[1;32m    215\u001b[0m     opener \u001b[39m=\u001b[39m _opener\n\u001b[0;32m--> 216\u001b[0m \u001b[39mreturn\u001b[39;00m opener\u001b[39m.\u001b[39;49mopen(url, data, timeout)\n",
      "File \u001b[0;32m/opt/anaconda3/envs/nfl/lib/python3.10/urllib/request.py:525\u001b[0m, in \u001b[0;36mOpenerDirector.open\u001b[0;34m(self, fullurl, data, timeout)\u001b[0m\n\u001b[1;32m    523\u001b[0m \u001b[39mfor\u001b[39;00m processor \u001b[39min\u001b[39;00m \u001b[39mself\u001b[39m\u001b[39m.\u001b[39mprocess_response\u001b[39m.\u001b[39mget(protocol, []):\n\u001b[1;32m    524\u001b[0m     meth \u001b[39m=\u001b[39m \u001b[39mgetattr\u001b[39m(processor, meth_name)\n\u001b[0;32m--> 525\u001b[0m     response \u001b[39m=\u001b[39m meth(req, response)\n\u001b[1;32m    527\u001b[0m \u001b[39mreturn\u001b[39;00m response\n",
      "File \u001b[0;32m/opt/anaconda3/envs/nfl/lib/python3.10/urllib/request.py:634\u001b[0m, in \u001b[0;36mHTTPErrorProcessor.http_response\u001b[0;34m(self, request, response)\u001b[0m\n\u001b[1;32m    631\u001b[0m \u001b[39m# According to RFC 2616, \"2xx\" code indicates that the client's\u001b[39;00m\n\u001b[1;32m    632\u001b[0m \u001b[39m# request was successfully received, understood, and accepted.\u001b[39;00m\n\u001b[1;32m    633\u001b[0m \u001b[39mif\u001b[39;00m \u001b[39mnot\u001b[39;00m (\u001b[39m200\u001b[39m \u001b[39m<\u001b[39m\u001b[39m=\u001b[39m code \u001b[39m<\u001b[39m \u001b[39m300\u001b[39m):\n\u001b[0;32m--> 634\u001b[0m     response \u001b[39m=\u001b[39m \u001b[39mself\u001b[39;49m\u001b[39m.\u001b[39;49mparent\u001b[39m.\u001b[39;49merror(\n\u001b[1;32m    635\u001b[0m         \u001b[39m'\u001b[39;49m\u001b[39mhttp\u001b[39;49m\u001b[39m'\u001b[39;49m, request, response, code, msg, hdrs)\n\u001b[1;32m    637\u001b[0m \u001b[39mreturn\u001b[39;00m response\n",
      "File \u001b[0;32m/opt/anaconda3/envs/nfl/lib/python3.10/urllib/request.py:563\u001b[0m, in \u001b[0;36mOpenerDirector.error\u001b[0;34m(self, proto, *args)\u001b[0m\n\u001b[1;32m    561\u001b[0m \u001b[39mif\u001b[39;00m http_err:\n\u001b[1;32m    562\u001b[0m     args \u001b[39m=\u001b[39m (\u001b[39mdict\u001b[39m, \u001b[39m'\u001b[39m\u001b[39mdefault\u001b[39m\u001b[39m'\u001b[39m, \u001b[39m'\u001b[39m\u001b[39mhttp_error_default\u001b[39m\u001b[39m'\u001b[39m) \u001b[39m+\u001b[39m orig_args\n\u001b[0;32m--> 563\u001b[0m     \u001b[39mreturn\u001b[39;00m \u001b[39mself\u001b[39;49m\u001b[39m.\u001b[39;49m_call_chain(\u001b[39m*\u001b[39;49margs)\n",
      "File \u001b[0;32m/opt/anaconda3/envs/nfl/lib/python3.10/urllib/request.py:496\u001b[0m, in \u001b[0;36mOpenerDirector._call_chain\u001b[0;34m(self, chain, kind, meth_name, *args)\u001b[0m\n\u001b[1;32m    494\u001b[0m \u001b[39mfor\u001b[39;00m handler \u001b[39min\u001b[39;00m handlers:\n\u001b[1;32m    495\u001b[0m     func \u001b[39m=\u001b[39m \u001b[39mgetattr\u001b[39m(handler, meth_name)\n\u001b[0;32m--> 496\u001b[0m     result \u001b[39m=\u001b[39m func(\u001b[39m*\u001b[39;49margs)\n\u001b[1;32m    497\u001b[0m     \u001b[39mif\u001b[39;00m result \u001b[39mis\u001b[39;00m \u001b[39mnot\u001b[39;00m \u001b[39mNone\u001b[39;00m:\n\u001b[1;32m    498\u001b[0m         \u001b[39mreturn\u001b[39;00m result\n",
      "File \u001b[0;32m/opt/anaconda3/envs/nfl/lib/python3.10/urllib/request.py:643\u001b[0m, in \u001b[0;36mHTTPDefaultErrorHandler.http_error_default\u001b[0;34m(self, req, fp, code, msg, hdrs)\u001b[0m\n\u001b[1;32m    642\u001b[0m \u001b[39mdef\u001b[39;00m \u001b[39mhttp_error_default\u001b[39m(\u001b[39mself\u001b[39m, req, fp, code, msg, hdrs):\n\u001b[0;32m--> 643\u001b[0m     \u001b[39mraise\u001b[39;00m HTTPError(req\u001b[39m.\u001b[39mfull_url, code, msg, hdrs, fp)\n",
      "\u001b[0;31mHTTPError\u001b[0m: HTTP Error 404: Not Found"
     ]
    }
   ],
   "source": [
    "scrape_inpredictable(WEEK, SEASON)\n",
    "scrape_unabated(WEEK, SEASON)\n",
    "scrape_espn(WEEK, SEASON)"
   ]
  },
  {
   "cell_type": "code",
   "execution_count": 30,
   "metadata": {},
   "outputs": [],
   "source": [
    "fpi_list = pd.read_html('https://www.espn.com/nfl/fpi')"
   ]
  },
  {
   "cell_type": "code",
   "execution_count": 31,
   "metadata": {},
   "outputs": [],
   "source": [
    "team_list = [fpi_list[0].columns[0]] + list(team[0] for team in fpi_list[0].values)"
   ]
  },
  {
   "cell_type": "code",
   "execution_count": 32,
   "metadata": {},
   "outputs": [],
   "source": [
    "fpi = fpi_list[1]\n",
    "fpi.columns = fpi.columns.droplevel(level=0)\n"
   ]
  },
  {
   "cell_type": "code",
   "execution_count": 34,
   "metadata": {},
   "outputs": [],
   "source": [
    "fpi['team_name'] = team_list"
   ]
  },
  {
   "cell_type": "code",
   "execution_count": 36,
   "metadata": {},
   "outputs": [],
   "source": [
    "fpi = utils.clean_df_columns(fpi)"
   ]
  },
  {
   "cell_type": "code",
   "execution_count": 38,
   "metadata": {},
   "outputs": [],
   "source": [
    "fpi = fpi[['team_name', 'wlt', 'fpi', 'rk', 'trend', 'off', 'def', 'st', 'sos', 'rem_sos', 'avgwp']]"
   ]
  },
  {
   "cell_type": "code",
   "execution_count": 13,
   "metadata": {},
   "outputs": [],
   "source": [
    "# # Step 1: Fetch the webpage's content\n",
    "# url = 'https://unabated.com/nfl/ratings'\n",
    "# response = requests.get(url)\n",
    "\n",
    "# # Step 2: Parse the HTML content\n",
    "# soup = BeautifulSoup(response.content, 'html.parser')\n",
    "\n",
    "# # Step 3: Locate the download button\n",
    "# download_button = soup.find_all('button', {'class': 'g-btn'})\n",
    "\n",
    "# for b in download_button:\n",
    "#     print(b)\n",
    "#     print('--------\\n')\n",
    "# # Step 4: Extract the link to download the CSV file from the data-href attribute\n",
    "# csv_link = download_button.get('data-href')\n",
    "\n",
    "# # Step 5: Download the CSV file\n",
    "# csv_response = requests.get(csv_link)\n",
    "\n",
    "# # Step 6: Save the CSV data to a local file\n",
    "# with open('downloaded_data.csv', 'wb') as csv_file:\n",
    "#     csv_file.write(csv_response.content)\n",
    "\n",
    "\n",
    "# Creating a BytesIO object\n",
    "byte_stream = BytesIO(requests.get(\"https://content.unabated.com/content/ratings/mp-nfl.csv\").content)\n",
    "\n",
    "# Reading the bytes into a DataFrame\n",
    "df = pd.read_csv(byte_stream, delimiter=',', encoding='utf-8')"
   ]
  },
  {
   "cell_type": "markdown",
   "metadata": {},
   "source": [
    "# Pff"
   ]
  },
  {
   "cell_type": "code",
   "execution_count": 34,
   "metadata": {},
   "outputs": [
    {
     "name": "stdout",
     "output_type": "stream",
     "text": [
      "<!DOCTYPE html>\n",
      "\n",
      "<html lang=\"en\">\n",
      "<head>\n",
      "<meta charset=\"utf-8\"/>\n",
      "<meta content=\"IE=edge\" http-equiv=\"X-UA-Compatible\"/>\n",
      "<meta content=\"width=device-width, initial-scale=1\" name=\"viewport\"/>\n",
      "<meta content=\"\" name=\"description\"/>\n",
      "<meta content=\"\" name=\"author\"/>\n",
      "<link crossorigin=\"\" href=\"https://fonts.gstatic.com/\" rel=\"preconnect\"/>\n",
      "<link href=\"https://fonts.googleapis.com/css?family=Roboto:300,400,400i,500,500i,700,700i,900|Barlow+Condensed:500,500i,600,600i,700,700i&amp;display=swap\" rel=\"stylesheet\"/>\n",
      "<title>PFF Login</title>\n",
      "<link href=\"/css/styles-7e472b909021afd9fa9497b7e1353738.css?vsn=d\" rel=\"stylesheet\"/>\n",
      "<meta content=\"WBhiJRR4BC0-SwEhFQcwERIMHBMhAlUg0sSCAUIYoxGVXA_IXnwCoFeE\" name=\"csrf-token\"/>\n",
      "</head>\n",
      "<body>\n",
      "<header class=\"g-header\">\n",
      "<div class=\"g-header__logo-link\">\n",
      "<svg class=\"g-header__logo\">\n",
      "<use href=\"https://auth.pff.com/images/icon-symbols.svg#g-icon-pff-logo\"></use>\n",
      "</svg>\n",
      "</div>\n",
      "</header>\n",
      "<div class=\"main\">\n",
      "<script>\n",
      "  dataLayer = [{\n",
      "    'userId': '',\n",
      "    'loggedInStatus': 'false',\n",
      "    'subscriptionType': '',\n",
      "    'internalTraffic': 'No'\n",
      "  }];\n",
      "\n",
      "  (function(w,d,s,l,i){w[l]=w[l]||[];w[l].push({'gtm.start':\n",
      "    new Date().getTime(),event:'gtm.js'});var f=d.getElementsByTagName(s)[0],\n",
      "    j=d.createElement(s),dl=l!='dataLayer'?'&l='+l:'';j.async=true;j.src=\n",
      "    'https://www.googletagmanager.com/gtm.js?id='+i+dl;f.parentNode.insertBefore(j,f);\n",
      "    })(window,document,'script','dataLayer','GTM-MWLLR6');\n",
      "</script>\n",
      "<div class=\"m-content\">\n",
      "<div class=\"g-container g-container--padded\">\n",
      "<div class=\"container-slim\">\n",
      "<div class=\"g-notice g-notice--red g-my-2\" role=\"alert\">Recaptcha is required.</div>\n",
      "<div class=\"g-card g-card--border-gray\">\n",
      "<header class=\"g-card__header signup-form-header\">\n",
      "<h3 class=\"g-h3\">Sign In</h3>\n",
      "</header>\n",
      "<div class=\"g-card__content\">\n",
      "<form action=\"/\" id=\"login-form\" method=\"post\"><input hidden=\"\" name=\"_csrf_token\" type=\"hidden\" value=\"WBhiJRR4BC0-SwEhFQcwERIMHBMhAlUg0sSCAUIYoxGVXA_IXnwCoFeE\"/>\n",
      "<div class=\"g-form-group g-mb-3\">\n",
      "<label class=\"g-form-label g-form-label--small\" for=\"login-form_email\">Email Address</label>\n",
      "<input class=\"g-form-input\" id=\"login-form_email\" name=\"login[email]\" type=\"email\" value=\"griffinreichert@gmail.com\"/>\n",
      "</div>\n",
      "<div class=\"g-form-group g-mb-3\">\n",
      "<label class=\"g-form-label g-form-label--small\" for=\"login-form_password\">Password</label>\n",
      "<input class=\"g-form-input\" id=\"login-form_password\" name=\"login[password]\" type=\"password\"/>\n",
      "</div>\n",
      "<div class=\"u-text-center g-mb-4\">\n",
      "<a class=\"text-muted\" href=\"/forgot-password\">Forgot your password?</a>\n",
      "</div>\n",
      "<button class=\"g-btn g-btn--green g-btn--block g-recaptcha\" data-action=\"login_submit\" data-callback=\"onSubmit\" data-sitekey=\"6LfV2KwaAAAAAHDxwLeHzKTfpsvobH0h5gmMSNmr\" id=\"sign-in\" type=\"submit\">Sign In</button>\n",
      "<div class=\"g-word-separator\">\n",
      "<hr class=\"g-hr g-my-6\"/>\n",
      "<div class=\"g-word-separator__word\">\n",
      "<div class=\"g-label\">or sign in with</div>\n",
      "</div>\n",
      "</div>\n",
      "<div class=\"g-grid\">\n",
      "<div class=\"g-span-6\">\n",
      "<a class=\"g-btn g-btn--block g-btn--facebook\" href=\"/provider/facebook\" id=\"sign-in-facebook\">\n",
      "<svg class=\"g-icon g-icon--white\">\n",
      "<use href=\"https://auth.pff.com/images/icon-symbols.svg#g-icon-facebook\"></use>\n",
      "</svg>\n",
      "                  Facebook\n",
      "                </a>\n",
      "</div>\n",
      "<div class=\"g-span-6\">\n",
      "<a class=\"g-btn g-btn--block g-btn--google\" href=\"/provider/google\" id=\"sign-in-google\">\n",
      "<svg class=\"g-icon g-icon--white\">\n",
      "<use href=\"https://auth.pff.com/images/icon-symbols.svg#g-icon-google\"></use>\n",
      "</svg>\n",
      "                  Google\n",
      "                </a>\n",
      "</div>\n",
      "</div>\n",
      "</form>\n",
      "<p class=\"u-text-center u-text-gray g-mt-6\">\n",
      "            Don’t have an account yet?\n",
      "<a class=\"g-ml-2\" href=\"https://dashboard.pff.com/signup\">\n",
      "<strong>Sign Up</strong>\n",
      "</a>\n",
      "\n",
      "</p>\n",
      "</div>\n",
      "</div>\n",
      "</div>\n",
      "</div>\n",
      "</div>\n",
      "<script>\n",
      "  const signInButton = document.getElementById(\"sign-in\");\n",
      "  const facebookLink = document.getElementById(\"sign-in-facebook\");\n",
      "  const googleLink = document.getElementById(\"sign-in-google\");\n",
      "\n",
      "  signInButton.addEventListener(\"click\", function (event) {\n",
      "    dataLayer.push({\n",
      "      event: \"customEvent\",\n",
      "      eventCategory: \"Sign In\",\n",
      "      eventAction: \"Sign In Button Clicked\",\n",
      "      eventLabel: \"Sign In Form\"\n",
      "    });\n",
      "  }, false);\n",
      "\n",
      "  facebookLink.addEventListener(\"click\", function (event) {\n",
      "    dataLayer.push({\n",
      "      event: \"customEvent\",\n",
      "      eventCategory: \"Sign In\",\n",
      "      eventAction: \"Sign In with Facebook Clicked\",\n",
      "      eventLabel: \"Sign In Form\"\n",
      "    });\n",
      "  }, false);\n",
      "\n",
      "  googleLink.addEventListener(\"click\", function (event) {\n",
      "    dataLayer.push({\n",
      "      event: \"customEvent\",\n",
      "      eventCategory: \"Sign In\",\n",
      "      eventAction: \"Sign In with Google Clicked\",\n",
      "      eventLabel: \"Sign In Form\"\n",
      "    });\n",
      "  }, false);\n",
      "\n",
      "  function onSubmit(token) {\n",
      "    document.getElementById(\"login-form\").submit();\n",
      "  }\n",
      "</script>\n",
      "<!-- Google Tag Manager (noscript) -->\n",
      "<noscript>\n",
      "<iframe height=\"0\" src=\"https://www.googletagmanager.com/ns.html?id=GTM-MWLLR6\" style=\"display:none;visibility:hidden\" width=\"0\"></iframe>\n",
      "</noscript>\n",
      "<!-- End Google Tag Manager (noscript) -->\n",
      "</div>\n",
      "<footer class=\"footer\">\n",
      "<p class=\"footer__copy\">If you are unable to resolve sign in issues please <a class=\"u-nowrap\" href=\"https://profootballfocussupport.zendesk.com/hc/en-us/requests/new\">Contact Support</a></p>\n",
      "<p class=\"footer__copy g-mt-4\">\n",
      "<a class=\"u-inline-block u-nowrap\" href=\"http://pff.com/privacy\">Privacy Policy</a>\n",
      "<a class=\"g-ml-2 u-inline-block u-nowrap\" href=\"http://pff.com/terms\">Terms of Use</a>\n",
      "</p>\n",
      "</footer>\n",
      "<script src=\"/js/styles-d41d8cd98f00b204e9800998ecf8427e.js?vsn=d\" type=\"text/javascript\"></script>\n",
      "<script src=\"/js/app-d41d8cd98f00b204e9800998ecf8427e.js?vsn=d\" type=\"text/javascript\"></script>\n",
      "<script src=\"https://www.google.com/recaptcha/api.js\"></script>\n",
      "</body>\n",
      "</html>\n",
      "\n"
     ]
    }
   ],
   "source": [
    "import requests\n",
    "from bs4 import BeautifulSoup\n",
    "import pandas as pd\n",
    "\n",
    "# Step 1: Define your login credentials\n",
    "username = 'griffinreichert@gmail.com'\n",
    "password = 'coelacanth23@PFF'\n",
    "\n",
    "# Step 2: Create a session to maintain the login\n",
    "session = requests.Session()\n",
    "\n",
    "# Step 3: Send a GET request to the login page to retrieve tokens and cookies\n",
    "login_url = 'https://auth.pff.com'  # Replace with the actual login URL\n",
    "\n",
    "# Define headers\n",
    "headers = {\n",
    "    'User-Agent': 'Mozilla/5.0 (Macintosh; Intel Mac OS X 10_15_7) AppleWebKit/537.36 (KHTML, like Gecko) Chrome/117.0.0.0 Safari/537.36',\n",
    "    'Referer': 'https://auth.pff.com/',\n",
    "}\n",
    "\n",
    "login_page = session.get(login_url)\n",
    "\n",
    "# Step 4: Parse the login page's HTML to extract the CSRF token\n",
    "soup = BeautifulSoup(login_page.content, 'html.parser')\n",
    "csrf_token = soup.find('input', {'name': '_csrf_token'}).get('value')\n",
    "\n",
    "if csrf_token:\n",
    "    # Step 5: Create a dictionary with the login data\n",
    "    login_data = {\n",
    "        '_csrf_token': csrf_token,\n",
    "        'login[email]': username,\n",
    "        'login[password]': password\n",
    "    }\n",
    "\n",
    "    # Step 6: Send a POST request to the login URL with the login data\n",
    "    # print(session.cookies)\n",
    "    login_response = session.post(login_url, data=login_data)\n",
    "    # print(session.cookies)\n",
    "    assert login_response.status_code == 200\n",
    "    print(BeautifulSoup(login_response.content, 'html.parser'))\n",
    "\n",
    "\n",
    "\n",
    "\n",
    "    # # Step 8: Access the page with the download button\n",
    "    # url = 'https://www.pff.com/betting/nfl-power-rankings' \n",
    "    # headers = {'Referer': 'https://auth.pff.com'}\n",
    "    # response = session.get(url, headers=headers)\n",
    "\n",
    "    # # Step 9: Continue with the previous script to locate the download button and download the CSV file\n",
    "    # soup = BeautifulSoup(response.content, 'html.parser')\n",
    "    # download_button = soup.find('button', {'class': 'g-btn--inverse', 'aria-hidden': 'true'})\n",
    "    # if download_button:\n",
    "    #     csv_link = download_button.get('data-href')\n",
    "    #     csv_response = session.get(csv_link)\n",
    "\n",
    "    #     # Step 10: Save the CSV data to a local file\n",
    "    #     with open('downloaded_data.csv', 'wb') as csv_file:\n",
    "    #         csv_file.write(csv_response.content)\n",
    "    #     print('done')\n",
    "    # else:\n",
    "    #     print('fail')\n",
    "    #     print(soup)"
   ]
  },
  {
   "cell_type": "code",
   "execution_count": 20,
   "metadata": {},
   "outputs": [
    {
     "data": {
      "text/plain": [
       "200"
      ]
     },
     "execution_count": 20,
     "metadata": {},
     "output_type": "execute_result"
    }
   ],
   "source": []
  },
  {
   "cell_type": "code",
   "execution_count": 13,
   "metadata": {},
   "outputs": [
    {
     "name": "stdout",
     "output_type": "stream",
     "text": [
      "<button class=\"g-btn g-btn--inverse g-btn--secondary\" id=\"scroll-to-page-info\">\n",
      "<svg class=\"g-icon g-icon--small\">\n",
      "<use href=\"https://www.pff.com/images/icon-symbols.svg#g-icon-question\"></use>\n",
      "</svg> FAQ\n",
      "            </button>\n",
      "--------\n",
      "\n"
     ]
    }
   ],
   "source": [
    "import requests\n",
    "from bs4 import BeautifulSoup\n",
    "import pandas as pd\n",
    "\n",
    "'https://auth.pff.com/'\n",
    "\n",
    "# Step 1: Fetch the webpage's content\n",
    "url = 'https://www.pff.com/betting/nfl-power-rankings'\n",
    "response = requests.get(url)\n",
    "\n",
    "# Step 2: Parse the HTML content\n",
    "soup = BeautifulSoup(response.content, 'html.parser')\n",
    "\n",
    "# Step 3: Locate the download button\n",
    "download_button = soup.find_all('button', {'class': 'g-btn'})\n",
    "\n",
    "for b in download_button:\n",
    "    print(b)\n",
    "    print('--------\\n')\n",
    "# # Step 4: Extract the link to download the CSV file from the data-href attribute\n",
    "# csv_link = download_button.get('data-href')\n",
    "\n",
    "# # Step 5: Download the CSV file\n",
    "# csv_response = requests.get(csv_link)\n",
    "\n",
    "# # Step 6: Save the CSV data to a local file\n",
    "# with open('downloaded_data.csv', 'wb') as csv_file:\n",
    "#     csv_file.write(csv_response.content)\n",
    "\n"
   ]
  },
  {
   "cell_type": "markdown",
   "metadata": {},
   "source": [
    "# Sumer"
   ]
  },
  {
   "cell_type": "code",
   "execution_count": null,
   "metadata": {},
   "outputs": [],
   "source": []
  },
  {
   "cell_type": "code",
   "execution_count": 7,
   "metadata": {},
   "outputs": [],
   "source": [
    "# import requests\n",
    "# from bs4 import BeautifulSoup\n",
    "\n",
    "\n",
    "# HEADERS = {'User-Agent': 'Mozilla/5.0 (iPad; CPU OS 12_2 like Mac OS X) AppleWebKit/605.1.15 (KHTML, like Gecko) Mobile/15E148'}\n",
    "\n",
    "# response = requests.get('https://sumersports.com/league-table/', headers=HEADERS)"
   ]
  },
  {
   "cell_type": "markdown",
   "metadata": {},
   "source": [
    "# ELO"
   ]
  },
  {
   "cell_type": "code",
   "execution_count": 37,
   "metadata": {},
   "outputs": [
    {
     "data": {
      "text/plain": [
       "(96, 16)"
      ]
     },
     "execution_count": 37,
     "metadata": {},
     "output_type": "execute_result"
    }
   ],
   "source": [
    "sumer_backup = pd.read_clipboard()\n",
    "sumer_backup.shape"
   ]
  },
  {
   "cell_type": "code",
   "execution_count": 40,
   "metadata": {},
   "outputs": [],
   "source": [
    "sumer_backup.to_csv(f'../data/sumer/sumer-elo-wk{week}.csv')"
   ]
  },
  {
   "cell_type": "markdown",
   "metadata": {},
   "source": [
    "# Offensive Overview"
   ]
  },
  {
   "cell_type": "code",
   "execution_count": 41,
   "metadata": {},
   "outputs": [
    {
     "data": {
      "text/plain": [
       "(96, 27)"
      ]
     },
     "execution_count": 41,
     "metadata": {},
     "output_type": "execute_result"
    }
   ],
   "source": [
    "sumer = pd.read_clipboard()\n",
    "sumer.to_csv(f'../data/sumer-all/sumer-off-team-overview-wk{week}.csv')\n",
    "sumer.shape"
   ]
  },
  {
   "cell_type": "markdown",
   "metadata": {},
   "source": [
    "# Offensive Personnel Tendencies"
   ]
  },
  {
   "cell_type": "code",
   "execution_count": 44,
   "metadata": {},
   "outputs": [
    {
     "data": {
      "text/plain": [
       "(507, 22)"
      ]
     },
     "execution_count": 44,
     "metadata": {},
     "output_type": "execute_result"
    }
   ],
   "source": [
    "sumer = pd.read_clipboard()\n",
    "sumer.to_csv(f'../data/sumer-all/sumer-off-personnel-tendency-wk{week}.csv')\n",
    "sumer.shape"
   ]
  },
  {
   "cell_type": "markdown",
   "metadata": {},
   "source": [
    "# Offensive Formation Tendencies"
   ]
  },
  {
   "cell_type": "code",
   "execution_count": 45,
   "metadata": {},
   "outputs": [
    {
     "data": {
      "text/plain": [
       "(474, 23)"
      ]
     },
     "execution_count": 45,
     "metadata": {},
     "output_type": "execute_result"
    }
   ],
   "source": [
    "sumer = pd.read_clipboard()\n",
    "sumer.to_csv(f'../data/sumer-all/sumer-off-formation-tendency-wk{week}.csv')\n",
    "sumer.shape"
   ]
  },
  {
   "cell_type": "markdown",
   "metadata": {},
   "source": [
    "# Offensive Line"
   ]
  },
  {
   "cell_type": "code",
   "execution_count": 48,
   "metadata": {},
   "outputs": [
    {
     "data": {
      "text/plain": [
       "(288, 6)"
      ]
     },
     "execution_count": 48,
     "metadata": {},
     "output_type": "execute_result"
    }
   ],
   "source": [
    "sumer = pd.read_clipboard(sep='\\t')\n",
    "sumer.to_csv(f'../data/sumer-all/sumer-off-line-wk{week}.csv')\n",
    "sumer.shape"
   ]
  },
  {
   "cell_type": "markdown",
   "metadata": {},
   "source": [
    "# Defensive Overview"
   ]
  },
  {
   "cell_type": "code",
   "execution_count": 50,
   "metadata": {},
   "outputs": [
    {
     "data": {
      "text/plain": [
       "(96, 26)"
      ]
     },
     "execution_count": 50,
     "metadata": {},
     "output_type": "execute_result"
    }
   ],
   "source": [
    "sumer = pd.read_clipboard()\n",
    "sumer.to_csv(f'../data/sumer-all/sumer-def-team-overview-wk{week}.csv')\n",
    "sumer.shape"
   ]
  },
  {
   "cell_type": "markdown",
   "metadata": {},
   "source": [
    "# Defensive Personnel Tendencies"
   ]
  },
  {
   "cell_type": "code",
   "execution_count": 51,
   "metadata": {},
   "outputs": [
    {
     "data": {
      "text/plain": [
       "(480, 22)"
      ]
     },
     "execution_count": 51,
     "metadata": {},
     "output_type": "execute_result"
    }
   ],
   "source": [
    "sumer = pd.read_clipboard()\n",
    "sumer.to_csv(f'../data/sumer-all/sumer-def-personnel-tendency-wk{week}.csv')\n",
    "sumer.shape"
   ]
  },
  {
   "cell_type": "markdown",
   "metadata": {},
   "source": [
    "# Defensive Formation Tendencies"
   ]
  },
  {
   "cell_type": "code",
   "execution_count": 52,
   "metadata": {},
   "outputs": [
    {
     "data": {
      "text/plain": [
       "(522, 23)"
      ]
     },
     "execution_count": 52,
     "metadata": {},
     "output_type": "execute_result"
    }
   ],
   "source": [
    "sumer = pd.read_clipboard()\n",
    "sumer.to_csv(f'../data/sumer-all/sumer-def-formation-tendency-wk{week}.csv')\n",
    "sumer.shape"
   ]
  },
  {
   "cell_type": "markdown",
   "metadata": {},
   "source": [
    "# QB"
   ]
  },
  {
   "cell_type": "code",
   "execution_count": 54,
   "metadata": {},
   "outputs": [
    {
     "data": {
      "text/plain": [
       "(72, 28)"
      ]
     },
     "execution_count": 54,
     "metadata": {},
     "output_type": "execute_result"
    }
   ],
   "source": [
    "sumer = pd.read_clipboard()\n",
    "sumer.to_csv(f'../data/sumer-all/sumer-player-qb-wk{week}.csv')\n",
    "sumer.shape"
   ]
  },
  {
   "cell_type": "markdown",
   "metadata": {},
   "source": [
    "# WR"
   ]
  },
  {
   "cell_type": "code",
   "execution_count": 55,
   "metadata": {},
   "outputs": [
    {
     "data": {
      "text/plain": [
       "(128, 21)"
      ]
     },
     "execution_count": 55,
     "metadata": {},
     "output_type": "execute_result"
    }
   ],
   "source": [
    "sumer = pd.read_clipboard()\n",
    "sumer.to_csv(f'../data/sumer-all/sumer-player-wr-wk{week}.csv')\n",
    "sumer.shape"
   ]
  },
  {
   "cell_type": "markdown",
   "metadata": {},
   "source": [
    "# TE"
   ]
  },
  {
   "cell_type": "code",
   "execution_count": 56,
   "metadata": {},
   "outputs": [
    {
     "data": {
      "text/plain": [
       "(96, 12)"
      ]
     },
     "execution_count": 56,
     "metadata": {},
     "output_type": "execute_result"
    }
   ],
   "source": [
    "sumer = pd.read_clipboard()\n",
    "sumer.to_csv(f'../data/sumer-all/sumer-player-te-wk{week}.csv')\n",
    "sumer.shape"
   ]
  },
  {
   "cell_type": "markdown",
   "metadata": {},
   "source": [
    "# RB"
   ]
  },
  {
   "cell_type": "code",
   "execution_count": 57,
   "metadata": {},
   "outputs": [
    {
     "data": {
      "text/plain": [
       "(96, 28)"
      ]
     },
     "execution_count": 57,
     "metadata": {},
     "output_type": "execute_result"
    }
   ],
   "source": [
    "sumer = pd.read_clipboard()\n",
    "sumer.to_csv(f'../data/sumer-all/sumer-player-rb-wk{week}.csv')\n",
    "sumer.shape"
   ]
  },
  {
   "cell_type": "markdown",
   "metadata": {},
   "source": [
    "# Def"
   ]
  },
  {
   "cell_type": "code",
   "execution_count": 53,
   "metadata": {},
   "outputs": [
    {
     "data": {
      "text/plain": [
       "(384, 36)"
      ]
     },
     "execution_count": 53,
     "metadata": {},
     "output_type": "execute_result"
    }
   ],
   "source": [
    "sumer = pd.read_clipboard()\n",
    "sumer.to_csv(f'../data/sumer-all/sumer-player-def-wk{week}.csv')\n",
    "sumer.shape"
   ]
  },
  {
   "cell_type": "code",
   "execution_count": null,
   "metadata": {},
   "outputs": [],
   "source": []
  },
  {
   "cell_type": "code",
   "execution_count": null,
   "metadata": {},
   "outputs": [],
   "source": []
  },
  {
   "cell_type": "code",
   "execution_count": null,
   "metadata": {},
   "outputs": [],
   "source": []
  },
  {
   "cell_type": "code",
   "execution_count": null,
   "metadata": {},
   "outputs": [],
   "source": []
  },
  {
   "cell_type": "code",
   "execution_count": 22,
   "metadata": {},
   "outputs": [],
   "source": [
    "sumer_df = sumer_backup.copy()\n"
   ]
  },
  {
   "cell_type": "code",
   "execution_count": null,
   "metadata": {},
   "outputs": [],
   "source": []
  },
  {
   "cell_type": "code",
   "execution_count": 24,
   "metadata": {},
   "outputs": [],
   "source": [
    "sumer_df = sumer_backup.copy()\n",
    "sumer_df = sumer_df.dropna(axis=1, how='all')\n",
    "sumer_df = sumer_df.dropna(subset=['Playoff'])\n",
    "sumer_df.columns = ['elo', 'wins', 'playoff', 'division', 'playoff_bye', 'conference', 'sb', 'first_pick', 'psos', 'fsos']"
   ]
  },
  {
   "cell_type": "code",
   "execution_count": 26,
   "metadata": {},
   "outputs": [
    {
     "ename": "KeyError",
     "evalue": "0",
     "output_type": "error",
     "traceback": [
      "\u001b[0;31m---------------------------------------------------------------------------\u001b[0m",
      "\u001b[0;31mKeyError\u001b[0m                                  Traceback (most recent call last)",
      "File \u001b[0;32m/opt/anaconda3/envs/nfl/lib/python3.10/site-packages/pandas/core/indexes/base.py:3802\u001b[0m, in \u001b[0;36mIndex.get_loc\u001b[0;34m(self, key, method, tolerance)\u001b[0m\n\u001b[1;32m   3801\u001b[0m \u001b[39mtry\u001b[39;00m:\n\u001b[0;32m-> 3802\u001b[0m     \u001b[39mreturn\u001b[39;00m \u001b[39mself\u001b[39;49m\u001b[39m.\u001b[39;49m_engine\u001b[39m.\u001b[39;49mget_loc(casted_key)\n\u001b[1;32m   3803\u001b[0m \u001b[39mexcept\u001b[39;00m \u001b[39mKeyError\u001b[39;00m \u001b[39mas\u001b[39;00m err:\n",
      "File \u001b[0;32m/opt/anaconda3/envs/nfl/lib/python3.10/site-packages/pandas/_libs/index.pyx:138\u001b[0m, in \u001b[0;36mpandas._libs.index.IndexEngine.get_loc\u001b[0;34m()\u001b[0m\n",
      "File \u001b[0;32m/opt/anaconda3/envs/nfl/lib/python3.10/site-packages/pandas/_libs/index.pyx:165\u001b[0m, in \u001b[0;36mpandas._libs.index.IndexEngine.get_loc\u001b[0;34m()\u001b[0m\n",
      "File \u001b[0;32mpandas/_libs/hashtable_class_helper.pxi:2263\u001b[0m, in \u001b[0;36mpandas._libs.hashtable.Int64HashTable.get_item\u001b[0;34m()\u001b[0m\n",
      "File \u001b[0;32mpandas/_libs/hashtable_class_helper.pxi:2273\u001b[0m, in \u001b[0;36mpandas._libs.hashtable.Int64HashTable.get_item\u001b[0;34m()\u001b[0m\n",
      "\u001b[0;31mKeyError\u001b[0m: 0",
      "\nThe above exception was the direct cause of the following exception:\n",
      "\u001b[0;31mKeyError\u001b[0m                                  Traceback (most recent call last)",
      "Cell \u001b[0;32mIn[26], line 1\u001b[0m\n\u001b[0;32m----> 1\u001b[0m sumer_df\u001b[39m.\u001b[39;49mloc[\u001b[39m0\u001b[39;49m, \u001b[39m'\u001b[39;49m\u001b[39mdivision\u001b[39;49m\u001b[39m'\u001b[39;49m]\n",
      "File \u001b[0;32m/opt/anaconda3/envs/nfl/lib/python3.10/site-packages/pandas/core/indexing.py:1066\u001b[0m, in \u001b[0;36m_LocationIndexer.__getitem__\u001b[0;34m(self, key)\u001b[0m\n\u001b[1;32m   1064\u001b[0m     key \u001b[39m=\u001b[39m \u001b[39mtuple\u001b[39m(com\u001b[39m.\u001b[39mapply_if_callable(x, \u001b[39mself\u001b[39m\u001b[39m.\u001b[39mobj) \u001b[39mfor\u001b[39;00m x \u001b[39min\u001b[39;00m key)\n\u001b[1;32m   1065\u001b[0m     \u001b[39mif\u001b[39;00m \u001b[39mself\u001b[39m\u001b[39m.\u001b[39m_is_scalar_access(key):\n\u001b[0;32m-> 1066\u001b[0m         \u001b[39mreturn\u001b[39;00m \u001b[39mself\u001b[39;49m\u001b[39m.\u001b[39;49mobj\u001b[39m.\u001b[39;49m_get_value(\u001b[39m*\u001b[39;49mkey, takeable\u001b[39m=\u001b[39;49m\u001b[39mself\u001b[39;49m\u001b[39m.\u001b[39;49m_takeable)\n\u001b[1;32m   1067\u001b[0m     \u001b[39mreturn\u001b[39;00m \u001b[39mself\u001b[39m\u001b[39m.\u001b[39m_getitem_tuple(key)\n\u001b[1;32m   1068\u001b[0m \u001b[39melse\u001b[39;00m:\n\u001b[1;32m   1069\u001b[0m     \u001b[39m# we by definition only have the 0th axis\u001b[39;00m\n",
      "File \u001b[0;32m/opt/anaconda3/envs/nfl/lib/python3.10/site-packages/pandas/core/frame.py:3924\u001b[0m, in \u001b[0;36mDataFrame._get_value\u001b[0;34m(self, index, col, takeable)\u001b[0m\n\u001b[1;32m   3918\u001b[0m engine \u001b[39m=\u001b[39m \u001b[39mself\u001b[39m\u001b[39m.\u001b[39mindex\u001b[39m.\u001b[39m_engine\n\u001b[1;32m   3920\u001b[0m \u001b[39mif\u001b[39;00m \u001b[39mnot\u001b[39;00m \u001b[39misinstance\u001b[39m(\u001b[39mself\u001b[39m\u001b[39m.\u001b[39mindex, MultiIndex):\n\u001b[1;32m   3921\u001b[0m     \u001b[39m# CategoricalIndex: Trying to use the engine fastpath may give incorrect\u001b[39;00m\n\u001b[1;32m   3922\u001b[0m     \u001b[39m#  results if our categories are integers that dont match our codes\u001b[39;00m\n\u001b[1;32m   3923\u001b[0m     \u001b[39m# IntervalIndex: IntervalTree has no get_loc\u001b[39;00m\n\u001b[0;32m-> 3924\u001b[0m     row \u001b[39m=\u001b[39m \u001b[39mself\u001b[39;49m\u001b[39m.\u001b[39;49mindex\u001b[39m.\u001b[39;49mget_loc(index)\n\u001b[1;32m   3925\u001b[0m     \u001b[39mreturn\u001b[39;00m series\u001b[39m.\u001b[39m_values[row]\n\u001b[1;32m   3927\u001b[0m \u001b[39m# For MultiIndex going through engine effectively restricts us to\u001b[39;00m\n\u001b[1;32m   3928\u001b[0m \u001b[39m#  same-length tuples; see test_get_set_value_no_partial_indexing\u001b[39;00m\n",
      "File \u001b[0;32m/opt/anaconda3/envs/nfl/lib/python3.10/site-packages/pandas/core/indexes/base.py:3804\u001b[0m, in \u001b[0;36mIndex.get_loc\u001b[0;34m(self, key, method, tolerance)\u001b[0m\n\u001b[1;32m   3802\u001b[0m     \u001b[39mreturn\u001b[39;00m \u001b[39mself\u001b[39m\u001b[39m.\u001b[39m_engine\u001b[39m.\u001b[39mget_loc(casted_key)\n\u001b[1;32m   3803\u001b[0m \u001b[39mexcept\u001b[39;00m \u001b[39mKeyError\u001b[39;00m \u001b[39mas\u001b[39;00m err:\n\u001b[0;32m-> 3804\u001b[0m     \u001b[39mraise\u001b[39;00m \u001b[39mKeyError\u001b[39;00m(key) \u001b[39mfrom\u001b[39;00m \u001b[39merr\u001b[39;00m\n\u001b[1;32m   3805\u001b[0m \u001b[39mexcept\u001b[39;00m \u001b[39mTypeError\u001b[39;00m:\n\u001b[1;32m   3806\u001b[0m     \u001b[39m# If we have a listlike key, _check_indexing_error will raise\u001b[39;00m\n\u001b[1;32m   3807\u001b[0m     \u001b[39m#  InvalidIndexError. Otherwise we fall through and re-raise\u001b[39;00m\n\u001b[1;32m   3808\u001b[0m     \u001b[39m#  the TypeError.\u001b[39;00m\n\u001b[1;32m   3809\u001b[0m     \u001b[39mself\u001b[39m\u001b[39m.\u001b[39m_check_indexing_error(key)\n",
      "\u001b[0;31mKeyError\u001b[0m: 0"
     ]
    }
   ],
   "source": [
    "sumer_df.iloc[0, 'division']"
   ]
  },
  {
   "cell_type": "code",
   "execution_count": 20,
   "metadata": {},
   "outputs": [
    {
     "ename": "AttributeError",
     "evalue": "Can only use .str accessor with string values!",
     "output_type": "error",
     "traceback": [
      "\u001b[0;31m---------------------------------------------------------------------------\u001b[0m",
      "\u001b[0;31mAttributeError\u001b[0m                            Traceback (most recent call last)",
      "Cell \u001b[0;32mIn[20], line 6\u001b[0m\n\u001b[1;32m      4\u001b[0m sumer_df\u001b[39m.\u001b[39mcolumns \u001b[39m=\u001b[39m [\u001b[39m'\u001b[39m\u001b[39melo\u001b[39m\u001b[39m'\u001b[39m, \u001b[39m'\u001b[39m\u001b[39mwins\u001b[39m\u001b[39m'\u001b[39m, \u001b[39m'\u001b[39m\u001b[39mplayoff\u001b[39m\u001b[39m'\u001b[39m, \u001b[39m'\u001b[39m\u001b[39mdivision\u001b[39m\u001b[39m'\u001b[39m, \u001b[39m'\u001b[39m\u001b[39mplayoff_bye\u001b[39m\u001b[39m'\u001b[39m, \u001b[39m'\u001b[39m\u001b[39mconference\u001b[39m\u001b[39m'\u001b[39m, \u001b[39m'\u001b[39m\u001b[39msb\u001b[39m\u001b[39m'\u001b[39m, \u001b[39m'\u001b[39m\u001b[39mfirst_pick\u001b[39m\u001b[39m'\u001b[39m, \u001b[39m'\u001b[39m\u001b[39mpsos\u001b[39m\u001b[39m'\u001b[39m, \u001b[39m'\u001b[39m\u001b[39mfsos\u001b[39m\u001b[39m'\u001b[39m]\n\u001b[1;32m      5\u001b[0m \u001b[39mfor\u001b[39;00m col \u001b[39min\u001b[39;00m sumer_df\u001b[39m.\u001b[39mcolumns:\n\u001b[0;32m----> 6\u001b[0m     sumer_df[col] \u001b[39m=\u001b[39m sumer_df[col]\u001b[39m.\u001b[39;49mstr\u001b[39m.\u001b[39mreplace(\u001b[39m'\u001b[39m\u001b[39m%\u001b[39m\u001b[39m'\u001b[39m, \u001b[39m'\u001b[39m\u001b[39m'\u001b[39m)\u001b[39m.\u001b[39mastype(\u001b[39mfloat\u001b[39m)\n\u001b[1;32m      7\u001b[0m sumer_df[\u001b[39m'\u001b[39m\u001b[39mteam\u001b[39m\u001b[39m'\u001b[39m] \u001b[39m=\u001b[39m utils\u001b[39m.\u001b[39mget_nfl_teams()\n\u001b[1;32m      8\u001b[0m sumer_df \u001b[39m=\u001b[39m sumer_df\u001b[39m.\u001b[39mset_index(\u001b[39m'\u001b[39m\u001b[39mteam\u001b[39m\u001b[39m'\u001b[39m)\n",
      "File \u001b[0;32m/opt/anaconda3/envs/nfl/lib/python3.10/site-packages/pandas/core/generic.py:5902\u001b[0m, in \u001b[0;36mNDFrame.__getattr__\u001b[0;34m(self, name)\u001b[0m\n\u001b[1;32m   5895\u001b[0m \u001b[39mif\u001b[39;00m (\n\u001b[1;32m   5896\u001b[0m     name \u001b[39mnot\u001b[39;00m \u001b[39min\u001b[39;00m \u001b[39mself\u001b[39m\u001b[39m.\u001b[39m_internal_names_set\n\u001b[1;32m   5897\u001b[0m     \u001b[39mand\u001b[39;00m name \u001b[39mnot\u001b[39;00m \u001b[39min\u001b[39;00m \u001b[39mself\u001b[39m\u001b[39m.\u001b[39m_metadata\n\u001b[1;32m   5898\u001b[0m     \u001b[39mand\u001b[39;00m name \u001b[39mnot\u001b[39;00m \u001b[39min\u001b[39;00m \u001b[39mself\u001b[39m\u001b[39m.\u001b[39m_accessors\n\u001b[1;32m   5899\u001b[0m     \u001b[39mand\u001b[39;00m \u001b[39mself\u001b[39m\u001b[39m.\u001b[39m_info_axis\u001b[39m.\u001b[39m_can_hold_identifiers_and_holds_name(name)\n\u001b[1;32m   5900\u001b[0m ):\n\u001b[1;32m   5901\u001b[0m     \u001b[39mreturn\u001b[39;00m \u001b[39mself\u001b[39m[name]\n\u001b[0;32m-> 5902\u001b[0m \u001b[39mreturn\u001b[39;00m \u001b[39mobject\u001b[39;49m\u001b[39m.\u001b[39;49m\u001b[39m__getattribute__\u001b[39;49m(\u001b[39mself\u001b[39;49m, name)\n",
      "File \u001b[0;32m/opt/anaconda3/envs/nfl/lib/python3.10/site-packages/pandas/core/accessor.py:182\u001b[0m, in \u001b[0;36mCachedAccessor.__get__\u001b[0;34m(self, obj, cls)\u001b[0m\n\u001b[1;32m    179\u001b[0m \u001b[39mif\u001b[39;00m obj \u001b[39mis\u001b[39;00m \u001b[39mNone\u001b[39;00m:\n\u001b[1;32m    180\u001b[0m     \u001b[39m# we're accessing the attribute of the class, i.e., Dataset.geo\u001b[39;00m\n\u001b[1;32m    181\u001b[0m     \u001b[39mreturn\u001b[39;00m \u001b[39mself\u001b[39m\u001b[39m.\u001b[39m_accessor\n\u001b[0;32m--> 182\u001b[0m accessor_obj \u001b[39m=\u001b[39m \u001b[39mself\u001b[39;49m\u001b[39m.\u001b[39;49m_accessor(obj)\n\u001b[1;32m    183\u001b[0m \u001b[39m# Replace the property with the accessor object. Inspired by:\u001b[39;00m\n\u001b[1;32m    184\u001b[0m \u001b[39m# https://www.pydanny.com/cached-property.html\u001b[39;00m\n\u001b[1;32m    185\u001b[0m \u001b[39m# We need to use object.__setattr__ because we overwrite __setattr__ on\u001b[39;00m\n\u001b[1;32m    186\u001b[0m \u001b[39m# NDFrame\u001b[39;00m\n\u001b[1;32m    187\u001b[0m \u001b[39mobject\u001b[39m\u001b[39m.\u001b[39m\u001b[39m__setattr__\u001b[39m(obj, \u001b[39mself\u001b[39m\u001b[39m.\u001b[39m_name, accessor_obj)\n",
      "File \u001b[0;32m/opt/anaconda3/envs/nfl/lib/python3.10/site-packages/pandas/core/strings/accessor.py:181\u001b[0m, in \u001b[0;36mStringMethods.__init__\u001b[0;34m(self, data)\u001b[0m\n\u001b[1;32m    178\u001b[0m \u001b[39mdef\u001b[39;00m \u001b[39m__init__\u001b[39m(\u001b[39mself\u001b[39m, data) \u001b[39m-\u001b[39m\u001b[39m>\u001b[39m \u001b[39mNone\u001b[39;00m:\n\u001b[1;32m    179\u001b[0m     \u001b[39mfrom\u001b[39;00m \u001b[39mpandas\u001b[39;00m\u001b[39m.\u001b[39;00m\u001b[39mcore\u001b[39;00m\u001b[39m.\u001b[39;00m\u001b[39marrays\u001b[39;00m\u001b[39m.\u001b[39;00m\u001b[39mstring_\u001b[39;00m \u001b[39mimport\u001b[39;00m StringDtype\n\u001b[0;32m--> 181\u001b[0m     \u001b[39mself\u001b[39m\u001b[39m.\u001b[39m_inferred_dtype \u001b[39m=\u001b[39m \u001b[39mself\u001b[39;49m\u001b[39m.\u001b[39;49m_validate(data)\n\u001b[1;32m    182\u001b[0m     \u001b[39mself\u001b[39m\u001b[39m.\u001b[39m_is_categorical \u001b[39m=\u001b[39m is_categorical_dtype(data\u001b[39m.\u001b[39mdtype)\n\u001b[1;32m    183\u001b[0m     \u001b[39mself\u001b[39m\u001b[39m.\u001b[39m_is_string \u001b[39m=\u001b[39m \u001b[39misinstance\u001b[39m(data\u001b[39m.\u001b[39mdtype, StringDtype)\n",
      "File \u001b[0;32m/opt/anaconda3/envs/nfl/lib/python3.10/site-packages/pandas/core/strings/accessor.py:235\u001b[0m, in \u001b[0;36mStringMethods._validate\u001b[0;34m(data)\u001b[0m\n\u001b[1;32m    232\u001b[0m inferred_dtype \u001b[39m=\u001b[39m lib\u001b[39m.\u001b[39minfer_dtype(values, skipna\u001b[39m=\u001b[39m\u001b[39mTrue\u001b[39;00m)\n\u001b[1;32m    234\u001b[0m \u001b[39mif\u001b[39;00m inferred_dtype \u001b[39mnot\u001b[39;00m \u001b[39min\u001b[39;00m allowed_types:\n\u001b[0;32m--> 235\u001b[0m     \u001b[39mraise\u001b[39;00m \u001b[39mAttributeError\u001b[39;00m(\u001b[39m\"\u001b[39m\u001b[39mCan only use .str accessor with string values!\u001b[39m\u001b[39m\"\u001b[39m)\n\u001b[1;32m    236\u001b[0m \u001b[39mreturn\u001b[39;00m inferred_dtype\n",
      "\u001b[0;31mAttributeError\u001b[0m: Can only use .str accessor with string values!"
     ]
    }
   ],
   "source": [
    "for col in sumer_df.columns:\n",
    "    if df.loc[0, col]\n",
    "    sumer_df[col] = sumer_df[col].str.replace('%', '').astype(float)\n",
    "sumer_df['team'] = utils.get_nfl_teams()\n",
    "sumer_df = sumer_df.set_index('team')\n"
   ]
  },
  {
   "cell_type": "code",
   "execution_count": 21,
   "metadata": {},
   "outputs": [
    {
     "name": "stdout",
     "output_type": "stream",
     "text": [
      "Mem. usage decreased to 0.00 Mb (68.2% reduction)\n"
     ]
    },
    {
     "data": {
      "text/html": [
       "<div>\n",
       "<style scoped>\n",
       "    .dataframe tbody tr th:only-of-type {\n",
       "        vertical-align: middle;\n",
       "    }\n",
       "\n",
       "    .dataframe tbody tr th {\n",
       "        vertical-align: top;\n",
       "    }\n",
       "\n",
       "    .dataframe thead th {\n",
       "        text-align: right;\n",
       "    }\n",
       "</style>\n",
       "<table border=\"1\" class=\"dataframe\">\n",
       "  <thead>\n",
       "    <tr style=\"text-align: right;\">\n",
       "      <th></th>\n",
       "      <th>elo</th>\n",
       "      <th>wins</th>\n",
       "      <th>playoff</th>\n",
       "      <th>division</th>\n",
       "      <th>playoff_bye</th>\n",
       "      <th>conference</th>\n",
       "      <th>sb</th>\n",
       "      <th>first_pick</th>\n",
       "      <th>psos</th>\n",
       "      <th>fsos</th>\n",
       "    </tr>\n",
       "  </thead>\n",
       "  <tbody>\n",
       "    <tr>\n",
       "      <th>2</th>\n",
       "      <td>1345.0</td>\n",
       "      <td>4.398438</td>\n",
       "      <td>3.500000</td>\n",
       "      <td>0.700195</td>\n",
       "      <td>0.000000</td>\n",
       "      <td>0.099976</td>\n",
       "      <td>0.000000</td>\n",
       "      <td>21.296875</td>\n",
       "      <td>1510.0</td>\n",
       "      <td>1523.0</td>\n",
       "    </tr>\n",
       "    <tr>\n",
       "      <th>5</th>\n",
       "      <td>1488.0</td>\n",
       "      <td>9.500000</td>\n",
       "      <td>58.593750</td>\n",
       "      <td>37.187500</td>\n",
       "      <td>4.699219</td>\n",
       "      <td>3.800781</td>\n",
       "      <td>1.500000</td>\n",
       "      <td>0.700195</td>\n",
       "      <td>1417.0</td>\n",
       "      <td>1458.0</td>\n",
       "    </tr>\n",
       "    <tr>\n",
       "      <th>8</th>\n",
       "      <td>1561.0</td>\n",
       "      <td>10.203125</td>\n",
       "      <td>64.000000</td>\n",
       "      <td>33.093750</td>\n",
       "      <td>10.398438</td>\n",
       "      <td>7.800781</td>\n",
       "      <td>3.400391</td>\n",
       "      <td>0.300049</td>\n",
       "      <td>1338.0</td>\n",
       "      <td>1501.0</td>\n",
       "    </tr>\n",
       "    <tr>\n",
       "      <th>11</th>\n",
       "      <td>1652.0</td>\n",
       "      <td>10.703125</td>\n",
       "      <td>74.312500</td>\n",
       "      <td>49.812500</td>\n",
       "      <td>12.796875</td>\n",
       "      <td>16.500000</td>\n",
       "      <td>8.398438</td>\n",
       "      <td>0.099976</td>\n",
       "      <td>1534.0</td>\n",
       "      <td>1527.0</td>\n",
       "    </tr>\n",
       "    <tr>\n",
       "      <th>14</th>\n",
       "      <td>1449.0</td>\n",
       "      <td>7.500000</td>\n",
       "      <td>30.093750</td>\n",
       "      <td>13.398438</td>\n",
       "      <td>0.899902</td>\n",
       "      <td>1.400391</td>\n",
       "      <td>0.500000</td>\n",
       "      <td>3.300781</td>\n",
       "      <td>1521.0</td>\n",
       "      <td>1476.0</td>\n",
       "    </tr>\n",
       "    <tr>\n",
       "      <th>17</th>\n",
       "      <td>1398.0</td>\n",
       "      <td>5.601562</td>\n",
       "      <td>10.296875</td>\n",
       "      <td>3.500000</td>\n",
       "      <td>0.099976</td>\n",
       "      <td>0.300049</td>\n",
       "      <td>0.099976</td>\n",
       "      <td>11.101562</td>\n",
       "      <td>1496.0</td>\n",
       "      <td>1498.0</td>\n",
       "    </tr>\n",
       "    <tr>\n",
       "      <th>20</th>\n",
       "      <td>1602.0</td>\n",
       "      <td>10.296875</td>\n",
       "      <td>66.500000</td>\n",
       "      <td>32.406250</td>\n",
       "      <td>9.601562</td>\n",
       "      <td>10.101562</td>\n",
       "      <td>4.800781</td>\n",
       "      <td>0.199951</td>\n",
       "      <td>1554.0</td>\n",
       "      <td>1499.0</td>\n",
       "    </tr>\n",
       "    <tr>\n",
       "      <th>23</th>\n",
       "      <td>1522.0</td>\n",
       "      <td>10.101562</td>\n",
       "      <td>61.906250</td>\n",
       "      <td>28.703125</td>\n",
       "      <td>8.898438</td>\n",
       "      <td>6.199219</td>\n",
       "      <td>2.500000</td>\n",
       "      <td>0.300049</td>\n",
       "      <td>1570.0</td>\n",
       "      <td>1479.0</td>\n",
       "    </tr>\n",
       "    <tr>\n",
       "      <th>26</th>\n",
       "      <td>1632.0</td>\n",
       "      <td>11.296875</td>\n",
       "      <td>84.375000</td>\n",
       "      <td>39.093750</td>\n",
       "      <td>15.898438</td>\n",
       "      <td>16.796875</td>\n",
       "      <td>9.101562</td>\n",
       "      <td>0.000000</td>\n",
       "      <td>1469.0</td>\n",
       "      <td>1521.0</td>\n",
       "    </tr>\n",
       "    <tr>\n",
       "      <th>29</th>\n",
       "      <td>1463.0</td>\n",
       "      <td>6.699219</td>\n",
       "      <td>15.000000</td>\n",
       "      <td>3.500000</td>\n",
       "      <td>0.500000</td>\n",
       "      <td>0.700195</td>\n",
       "      <td>0.199951</td>\n",
       "      <td>4.398438</td>\n",
       "      <td>1473.0</td>\n",
       "      <td>1525.0</td>\n",
       "    </tr>\n",
       "    <tr>\n",
       "      <th>32</th>\n",
       "      <td>1514.0</td>\n",
       "      <td>9.796875</td>\n",
       "      <td>63.312500</td>\n",
       "      <td>42.093750</td>\n",
       "      <td>5.601562</td>\n",
       "      <td>5.800781</td>\n",
       "      <td>2.500000</td>\n",
       "      <td>0.300049</td>\n",
       "      <td>1741.0</td>\n",
       "      <td>1488.0</td>\n",
       "    </tr>\n",
       "    <tr>\n",
       "      <th>35</th>\n",
       "      <td>1529.0</td>\n",
       "      <td>10.000000</td>\n",
       "      <td>66.187500</td>\n",
       "      <td>46.000000</td>\n",
       "      <td>7.398438</td>\n",
       "      <td>6.500000</td>\n",
       "      <td>2.900391</td>\n",
       "      <td>0.500000</td>\n",
       "      <td>1430.0</td>\n",
       "      <td>1488.0</td>\n",
       "    </tr>\n",
       "    <tr>\n",
       "      <th>38</th>\n",
       "      <td>1371.0</td>\n",
       "      <td>6.101562</td>\n",
       "      <td>13.203125</td>\n",
       "      <td>8.296875</td>\n",
       "      <td>0.199951</td>\n",
       "      <td>0.199951</td>\n",
       "      <td>0.099976</td>\n",
       "      <td>9.703125</td>\n",
       "      <td>1593.0</td>\n",
       "      <td>1461.0</td>\n",
       "    </tr>\n",
       "    <tr>\n",
       "      <th>41</th>\n",
       "      <td>1382.0</td>\n",
       "      <td>6.101562</td>\n",
       "      <td>13.203125</td>\n",
       "      <td>6.800781</td>\n",
       "      <td>0.199951</td>\n",
       "      <td>0.199951</td>\n",
       "      <td>0.099976</td>\n",
       "      <td>8.203125</td>\n",
       "      <td>1506.0</td>\n",
       "      <td>1475.0</td>\n",
       "    </tr>\n",
       "    <tr>\n",
       "      <th>44</th>\n",
       "      <td>1539.0</td>\n",
       "      <td>10.296875</td>\n",
       "      <td>74.875000</td>\n",
       "      <td>67.500000</td>\n",
       "      <td>10.898438</td>\n",
       "      <td>8.601562</td>\n",
       "      <td>3.400391</td>\n",
       "      <td>0.099976</td>\n",
       "      <td>1415.0</td>\n",
       "      <td>1496.0</td>\n",
       "    </tr>\n",
       "    <tr>\n",
       "      <th>47</th>\n",
       "      <td>1708.0</td>\n",
       "      <td>11.796875</td>\n",
       "      <td>88.000000</td>\n",
       "      <td>69.812500</td>\n",
       "      <td>28.406250</td>\n",
       "      <td>32.187500</td>\n",
       "      <td>18.500000</td>\n",
       "      <td>0.000000</td>\n",
       "      <td>1482.0</td>\n",
       "      <td>1521.0</td>\n",
       "    </tr>\n",
       "    <tr>\n",
       "      <th>50</th>\n",
       "      <td>1500.0</td>\n",
       "      <td>8.601562</td>\n",
       "      <td>44.906250</td>\n",
       "      <td>14.898438</td>\n",
       "      <td>2.900391</td>\n",
       "      <td>2.900391</td>\n",
       "      <td>1.299805</td>\n",
       "      <td>0.799805</td>\n",
       "      <td>1494.0</td>\n",
       "      <td>1514.0</td>\n",
       "    </tr>\n",
       "    <tr>\n",
       "      <th>53</th>\n",
       "      <td>1517.0</td>\n",
       "      <td>7.601562</td>\n",
       "      <td>27.406250</td>\n",
       "      <td>8.898438</td>\n",
       "      <td>1.799805</td>\n",
       "      <td>2.199219</td>\n",
       "      <td>0.899902</td>\n",
       "      <td>2.500000</td>\n",
       "      <td>1504.0</td>\n",
       "      <td>1531.0</td>\n",
       "    </tr>\n",
       "    <tr>\n",
       "      <th>56</th>\n",
       "      <td>1505.0</td>\n",
       "      <td>9.101562</td>\n",
       "      <td>46.812500</td>\n",
       "      <td>17.796875</td>\n",
       "      <td>4.398438</td>\n",
       "      <td>3.599609</td>\n",
       "      <td>1.400391</td>\n",
       "      <td>0.700195</td>\n",
       "      <td>1496.0</td>\n",
       "      <td>1511.0</td>\n",
       "    </tr>\n",
       "    <tr>\n",
       "      <th>59</th>\n",
       "      <td>1537.0</td>\n",
       "      <td>9.296875</td>\n",
       "      <td>51.812500</td>\n",
       "      <td>26.593750</td>\n",
       "      <td>5.500000</td>\n",
       "      <td>5.000000</td>\n",
       "      <td>2.000000</td>\n",
       "      <td>0.199951</td>\n",
       "      <td>1550.0</td>\n",
       "      <td>1531.0</td>\n",
       "    </tr>\n",
       "    <tr>\n",
       "      <th>62</th>\n",
       "      <td>1471.0</td>\n",
       "      <td>6.398438</td>\n",
       "      <td>18.203125</td>\n",
       "      <td>8.398438</td>\n",
       "      <td>0.399902</td>\n",
       "      <td>0.899902</td>\n",
       "      <td>0.399902</td>\n",
       "      <td>4.601562</td>\n",
       "      <td>1415.0</td>\n",
       "      <td>1531.0</td>\n",
       "    </tr>\n",
       "    <tr>\n",
       "      <th>65</th>\n",
       "      <td>1463.0</td>\n",
       "      <td>6.699219</td>\n",
       "      <td>18.000000</td>\n",
       "      <td>6.800781</td>\n",
       "      <td>0.799805</td>\n",
       "      <td>1.000000</td>\n",
       "      <td>0.399902</td>\n",
       "      <td>4.199219</td>\n",
       "      <td>1639.0</td>\n",
       "      <td>1527.0</td>\n",
       "    </tr>\n",
       "    <tr>\n",
       "      <th>68</th>\n",
       "      <td>1482.0</td>\n",
       "      <td>9.203125</td>\n",
       "      <td>51.687500</td>\n",
       "      <td>32.187500</td>\n",
       "      <td>3.599609</td>\n",
       "      <td>3.500000</td>\n",
       "      <td>1.299805</td>\n",
       "      <td>0.799805</td>\n",
       "      <td>1393.0</td>\n",
       "      <td>1465.0</td>\n",
       "    </tr>\n",
       "    <tr>\n",
       "      <th>71</th>\n",
       "      <td>1437.0</td>\n",
       "      <td>5.601562</td>\n",
       "      <td>8.898438</td>\n",
       "      <td>1.000000</td>\n",
       "      <td>0.099976</td>\n",
       "      <td>0.199951</td>\n",
       "      <td>0.099976</td>\n",
       "      <td>7.500000</td>\n",
       "      <td>1599.0</td>\n",
       "      <td>1540.0</td>\n",
       "    </tr>\n",
       "    <tr>\n",
       "      <th>74</th>\n",
       "      <td>1501.0</td>\n",
       "      <td>8.500000</td>\n",
       "      <td>39.000000</td>\n",
       "      <td>16.796875</td>\n",
       "      <td>3.599609</td>\n",
       "      <td>3.300781</td>\n",
       "      <td>1.200195</td>\n",
       "      <td>0.500000</td>\n",
       "      <td>1620.0</td>\n",
       "      <td>1528.0</td>\n",
       "    </tr>\n",
       "    <tr>\n",
       "      <th>77</th>\n",
       "      <td>1671.0</td>\n",
       "      <td>12.101562</td>\n",
       "      <td>89.812500</td>\n",
       "      <td>54.687500</td>\n",
       "      <td>25.406250</td>\n",
       "      <td>25.500000</td>\n",
       "      <td>15.101562</td>\n",
       "      <td>0.000000</td>\n",
       "      <td>1496.0</td>\n",
       "      <td>1524.0</td>\n",
       "    </tr>\n",
       "    <tr>\n",
       "      <th>80</th>\n",
       "      <td>1443.0</td>\n",
       "      <td>6.800781</td>\n",
       "      <td>19.203125</td>\n",
       "      <td>5.699219</td>\n",
       "      <td>0.799805</td>\n",
       "      <td>0.899902</td>\n",
       "      <td>0.300049</td>\n",
       "      <td>5.101562</td>\n",
       "      <td>1630.0</td>\n",
       "      <td>1493.0</td>\n",
       "    </tr>\n",
       "    <tr>\n",
       "      <th>83</th>\n",
       "      <td>1462.0</td>\n",
       "      <td>6.300781</td>\n",
       "      <td>13.601562</td>\n",
       "      <td>3.000000</td>\n",
       "      <td>0.199951</td>\n",
       "      <td>0.500000</td>\n",
       "      <td>0.199951</td>\n",
       "      <td>5.300781</td>\n",
       "      <td>1467.0</td>\n",
       "      <td>1520.0</td>\n",
       "    </tr>\n",
       "    <tr>\n",
       "      <th>86</th>\n",
       "      <td>1663.0</td>\n",
       "      <td>12.398438</td>\n",
       "      <td>92.812500</td>\n",
       "      <td>81.375000</td>\n",
       "      <td>30.000000</td>\n",
       "      <td>28.593750</td>\n",
       "      <td>15.898438</td>\n",
       "      <td>0.000000</td>\n",
       "      <td>1476.0</td>\n",
       "      <td>1498.0</td>\n",
       "    </tr>\n",
       "    <tr>\n",
       "      <th>89</th>\n",
       "      <td>1448.0</td>\n",
       "      <td>7.898438</td>\n",
       "      <td>34.812500</td>\n",
       "      <td>17.296875</td>\n",
       "      <td>1.400391</td>\n",
       "      <td>1.400391</td>\n",
       "      <td>0.399902</td>\n",
       "      <td>1.299805</td>\n",
       "      <td>1504.0</td>\n",
       "      <td>1499.0</td>\n",
       "    </tr>\n",
       "    <tr>\n",
       "      <th>92</th>\n",
       "      <td>1425.0</td>\n",
       "      <td>7.199219</td>\n",
       "      <td>26.796875</td>\n",
       "      <td>17.406250</td>\n",
       "      <td>1.099609</td>\n",
       "      <td>1.299805</td>\n",
       "      <td>0.399902</td>\n",
       "      <td>4.300781</td>\n",
       "      <td>1515.0</td>\n",
       "      <td>1472.0</td>\n",
       "    </tr>\n",
       "    <tr>\n",
       "      <th>95</th>\n",
       "      <td>1478.0</td>\n",
       "      <td>7.601562</td>\n",
       "      <td>28.796875</td>\n",
       "      <td>5.300781</td>\n",
       "      <td>1.400391</td>\n",
       "      <td>1.700195</td>\n",
       "      <td>0.700195</td>\n",
       "      <td>1.700195</td>\n",
       "      <td>1313.0</td>\n",
       "      <td>1542.0</td>\n",
       "    </tr>\n",
       "  </tbody>\n",
       "</table>\n",
       "</div>"
      ],
      "text/plain": [
       "       elo       wins    playoff   division  playoff_bye  conference  \\\n",
       "2   1345.0   4.398438   3.500000   0.700195     0.000000    0.099976   \n",
       "5   1488.0   9.500000  58.593750  37.187500     4.699219    3.800781   \n",
       "8   1561.0  10.203125  64.000000  33.093750    10.398438    7.800781   \n",
       "11  1652.0  10.703125  74.312500  49.812500    12.796875   16.500000   \n",
       "14  1449.0   7.500000  30.093750  13.398438     0.899902    1.400391   \n",
       "17  1398.0   5.601562  10.296875   3.500000     0.099976    0.300049   \n",
       "20  1602.0  10.296875  66.500000  32.406250     9.601562   10.101562   \n",
       "23  1522.0  10.101562  61.906250  28.703125     8.898438    6.199219   \n",
       "26  1632.0  11.296875  84.375000  39.093750    15.898438   16.796875   \n",
       "29  1463.0   6.699219  15.000000   3.500000     0.500000    0.700195   \n",
       "32  1514.0   9.796875  63.312500  42.093750     5.601562    5.800781   \n",
       "35  1529.0  10.000000  66.187500  46.000000     7.398438    6.500000   \n",
       "38  1371.0   6.101562  13.203125   8.296875     0.199951    0.199951   \n",
       "41  1382.0   6.101562  13.203125   6.800781     0.199951    0.199951   \n",
       "44  1539.0  10.296875  74.875000  67.500000    10.898438    8.601562   \n",
       "47  1708.0  11.796875  88.000000  69.812500    28.406250   32.187500   \n",
       "50  1500.0   8.601562  44.906250  14.898438     2.900391    2.900391   \n",
       "53  1517.0   7.601562  27.406250   8.898438     1.799805    2.199219   \n",
       "56  1505.0   9.101562  46.812500  17.796875     4.398438    3.599609   \n",
       "59  1537.0   9.296875  51.812500  26.593750     5.500000    5.000000   \n",
       "62  1471.0   6.398438  18.203125   8.398438     0.399902    0.899902   \n",
       "65  1463.0   6.699219  18.000000   6.800781     0.799805    1.000000   \n",
       "68  1482.0   9.203125  51.687500  32.187500     3.599609    3.500000   \n",
       "71  1437.0   5.601562   8.898438   1.000000     0.099976    0.199951   \n",
       "74  1501.0   8.500000  39.000000  16.796875     3.599609    3.300781   \n",
       "77  1671.0  12.101562  89.812500  54.687500    25.406250   25.500000   \n",
       "80  1443.0   6.800781  19.203125   5.699219     0.799805    0.899902   \n",
       "83  1462.0   6.300781  13.601562   3.000000     0.199951    0.500000   \n",
       "86  1663.0  12.398438  92.812500  81.375000    30.000000   28.593750   \n",
       "89  1448.0   7.898438  34.812500  17.296875     1.400391    1.400391   \n",
       "92  1425.0   7.199219  26.796875  17.406250     1.099609    1.299805   \n",
       "95  1478.0   7.601562  28.796875   5.300781     1.400391    1.700195   \n",
       "\n",
       "           sb  first_pick    psos    fsos  \n",
       "2    0.000000   21.296875  1510.0  1523.0  \n",
       "5    1.500000    0.700195  1417.0  1458.0  \n",
       "8    3.400391    0.300049  1338.0  1501.0  \n",
       "11   8.398438    0.099976  1534.0  1527.0  \n",
       "14   0.500000    3.300781  1521.0  1476.0  \n",
       "17   0.099976   11.101562  1496.0  1498.0  \n",
       "20   4.800781    0.199951  1554.0  1499.0  \n",
       "23   2.500000    0.300049  1570.0  1479.0  \n",
       "26   9.101562    0.000000  1469.0  1521.0  \n",
       "29   0.199951    4.398438  1473.0  1525.0  \n",
       "32   2.500000    0.300049  1741.0  1488.0  \n",
       "35   2.900391    0.500000  1430.0  1488.0  \n",
       "38   0.099976    9.703125  1593.0  1461.0  \n",
       "41   0.099976    8.203125  1506.0  1475.0  \n",
       "44   3.400391    0.099976  1415.0  1496.0  \n",
       "47  18.500000    0.000000  1482.0  1521.0  \n",
       "50   1.299805    0.799805  1494.0  1514.0  \n",
       "53   0.899902    2.500000  1504.0  1531.0  \n",
       "56   1.400391    0.700195  1496.0  1511.0  \n",
       "59   2.000000    0.199951  1550.0  1531.0  \n",
       "62   0.399902    4.601562  1415.0  1531.0  \n",
       "65   0.399902    4.199219  1639.0  1527.0  \n",
       "68   1.299805    0.799805  1393.0  1465.0  \n",
       "71   0.099976    7.500000  1599.0  1540.0  \n",
       "74   1.200195    0.500000  1620.0  1528.0  \n",
       "77  15.101562    0.000000  1496.0  1524.0  \n",
       "80   0.300049    5.101562  1630.0  1493.0  \n",
       "83   0.199951    5.300781  1467.0  1520.0  \n",
       "86  15.898438    0.000000  1476.0  1498.0  \n",
       "89   0.399902    1.299805  1504.0  1499.0  \n",
       "92   0.399902    4.300781  1515.0  1472.0  \n",
       "95   0.700195    1.700195  1313.0  1542.0  "
      ]
     },
     "execution_count": 21,
     "metadata": {},
     "output_type": "execute_result"
    }
   ],
   "source": [
    "utils.reduce_memory_usage(sumer_df)"
   ]
  },
  {
   "cell_type": "code",
   "execution_count": null,
   "metadata": {},
   "outputs": [],
   "source": []
  }
 ],
 "metadata": {
  "kernelspec": {
   "display_name": "nfl",
   "language": "python",
   "name": "python3"
  },
  "language_info": {
   "codemirror_mode": {
    "name": "ipython",
    "version": 3
   },
   "file_extension": ".py",
   "mimetype": "text/x-python",
   "name": "python",
   "nbconvert_exporter": "python",
   "pygments_lexer": "ipython3",
   "version": "3.10.12"
  },
  "orig_nbformat": 4
 },
 "nbformat": 4,
 "nbformat_minor": 2
}
