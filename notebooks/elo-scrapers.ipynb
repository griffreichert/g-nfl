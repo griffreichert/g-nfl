{
 "cells": [
  {
   "cell_type": "code",
   "execution_count": 5,
   "metadata": {},
   "outputs": [],
   "source": [
    "import sys\n",
    "import os\n",
    "import shutil\n",
    "\n",
    "# Navigate up one level to the parent directory and append it to sys.path\n",
    "sys.path.append(os.path.abspath(os.path.join(os.getcwd(), os.pardir)))\n",
    "# import nfl_data_py as nfl\n",
    "import pandas as pd\n",
    "from src import utils\n",
    "from src.config import DATA_PATH, SUMER_ELO_PATH, SUMER_OFFENSE_PATH, SUMER_DEFENSE_PATH, SUMER_PLAYER_PATH\n",
    "from src.scrapers import scrape_inpredictable, scrape_unabated, scrape_espn, scrape_nfelo"
   ]
  },
  {
   "cell_type": "markdown",
   "metadata": {},
   "source": [
    "# 1. Set Week"
   ]
  },
  {
   "cell_type": "code",
   "execution_count": 2,
   "metadata": {},
   "outputs": [],
   "source": [
    "WEEK = 5\n",
    "SEASON = 2023"
   ]
  },
  {
   "cell_type": "markdown",
   "metadata": {},
   "source": [
    "# 2. Automatic Scrapers"
   ]
  },
  {
   "cell_type": "code",
   "execution_count": 3,
   "metadata": {},
   "outputs": [
    {
     "name": "stdout",
     "output_type": "stream",
     "text": [
      "../data/inpredictable/inpredictable-2023-wk5.csv exists!\n",
      "../data/unabated/unabated-2023-wk5.csv exists!\n",
      "../data/espn/espn-2023-wk5.csv exists!\n",
      "\u001b[32mSuccess\u001b[0m - NFELO Week 5\n"
     ]
    }
   ],
   "source": [
    "scrape_inpredictable(WEEK, SEASON)\n",
    "scrape_unabated(WEEK, SEASON)\n",
    "scrape_espn(WEEK, SEASON)\n",
    "scrape_nfelo(WEEK, SEASON)"
   ]
  },
  {
   "cell_type": "markdown",
   "metadata": {},
   "source": [
    "## Manually download:\n",
    " * [PFF Power](https://www.pff.com/betting/nfl-power-rankings)\n",
    " * [PFF Props](https://www.pff.com/betting/best-bets)"
   ]
  },
  {
   "cell_type": "markdown",
   "metadata": {},
   "source": [
    "# 3. Sumer Copy Paste"
   ]
  },
  {
   "cell_type": "markdown",
   "metadata": {},
   "source": [
    "## ELO"
   ]
  },
  {
   "cell_type": "code",
   "execution_count": 37,
   "metadata": {},
   "outputs": [
    {
     "data": {
      "text/plain": [
       "(96, 16)"
      ]
     },
     "execution_count": 37,
     "metadata": {},
     "output_type": "execute_result"
    }
   ],
   "source": [
    "sumer_backup = pd.read_clipboard()\n",
    "sumer_backup.shape"
   ]
  },
  {
   "cell_type": "code",
   "execution_count": 40,
   "metadata": {},
   "outputs": [],
   "source": [
    "sumer_backup.to_csv(f'{SUMER_ELO_PATH}/sumer-elo-wk{WEEK}.csv')"
   ]
  },
  {
   "cell_type": "markdown",
   "metadata": {},
   "source": [
    "## Offensive Overview"
   ]
  },
  {
   "cell_type": "code",
   "execution_count": 41,
   "metadata": {},
   "outputs": [
    {
     "data": {
      "text/plain": [
       "(96, 27)"
      ]
     },
     "execution_count": 41,
     "metadata": {},
     "output_type": "execute_result"
    }
   ],
   "source": [
    "sumer = pd.read_clipboard()\n",
    "sumer.to_csv(f'{SUMER_OFFENSE_PATH}/sumer-off-team-overview-wk{WEEK}.csv')\n",
    "sumer.shape"
   ]
  },
  {
   "cell_type": "markdown",
   "metadata": {},
   "source": [
    "## Offensive Personnel Tendencies"
   ]
  },
  {
   "cell_type": "code",
   "execution_count": 44,
   "metadata": {},
   "outputs": [
    {
     "data": {
      "text/plain": [
       "(507, 22)"
      ]
     },
     "execution_count": 44,
     "metadata": {},
     "output_type": "execute_result"
    }
   ],
   "source": [
    "sumer = pd.read_clipboard()\n",
    "sumer.to_csv(f'{SUMER_OFFENSE_PATH}/sumer-off-personnel-tendency-wk{WEEK}.csv')\n",
    "sumer.shape"
   ]
  },
  {
   "cell_type": "markdown",
   "metadata": {},
   "source": [
    "## Offensive Formation Tendencies"
   ]
  },
  {
   "cell_type": "code",
   "execution_count": 45,
   "metadata": {},
   "outputs": [
    {
     "data": {
      "text/plain": [
       "(474, 23)"
      ]
     },
     "execution_count": 45,
     "metadata": {},
     "output_type": "execute_result"
    }
   ],
   "source": [
    "sumer = pd.read_clipboard()\n",
    "sumer.to_csv(f'{SUMER_OFFENSE_PATH}/sumer-off-formation-tendency-wk{WEEK}.csv')\n",
    "sumer.shape"
   ]
  },
  {
   "cell_type": "markdown",
   "metadata": {},
   "source": [
    "## Offensive Line"
   ]
  },
  {
   "cell_type": "code",
   "execution_count": 48,
   "metadata": {},
   "outputs": [
    {
     "data": {
      "text/plain": [
       "(288, 6)"
      ]
     },
     "execution_count": 48,
     "metadata": {},
     "output_type": "execute_result"
    }
   ],
   "source": [
    "sumer = pd.read_clipboard(sep='\\t')\n",
    "sumer.to_csv(f'{SUMER_OFFENSE_PATH}/sumer-off-line-wk{WEEK}.csv')\n",
    "sumer.shape"
   ]
  },
  {
   "cell_type": "markdown",
   "metadata": {},
   "source": [
    "## Defensive Overview"
   ]
  },
  {
   "cell_type": "code",
   "execution_count": 50,
   "metadata": {},
   "outputs": [
    {
     "data": {
      "text/plain": [
       "(96, 26)"
      ]
     },
     "execution_count": 50,
     "metadata": {},
     "output_type": "execute_result"
    }
   ],
   "source": [
    "sumer = pd.read_clipboard()\n",
    "sumer.to_csv(f'{SUMER_DEFENSE_PATH}/sumer-def-team-overview-wk{WEEK}.csv')\n",
    "sumer.shape"
   ]
  },
  {
   "cell_type": "markdown",
   "metadata": {},
   "source": [
    "## Defensive Personnel Tendencies"
   ]
  },
  {
   "cell_type": "code",
   "execution_count": 51,
   "metadata": {},
   "outputs": [
    {
     "data": {
      "text/plain": [
       "(480, 22)"
      ]
     },
     "execution_count": 51,
     "metadata": {},
     "output_type": "execute_result"
    }
   ],
   "source": [
    "sumer = pd.read_clipboard()\n",
    "sumer.to_csv(f'{SUMER_DEFENSE_PATH}/sumer-def-personnel-tendency-wk{WEEK}.csv')\n",
    "sumer.shape"
   ]
  },
  {
   "cell_type": "markdown",
   "metadata": {},
   "source": [
    "## Defensive Formation Tendencies"
   ]
  },
  {
   "cell_type": "code",
   "execution_count": 52,
   "metadata": {},
   "outputs": [
    {
     "data": {
      "text/plain": [
       "(522, 23)"
      ]
     },
     "execution_count": 52,
     "metadata": {},
     "output_type": "execute_result"
    }
   ],
   "source": [
    "sumer = pd.read_clipboard()\n",
    "sumer.to_csv(f'{SUMER_DEFENSE_PATH}/sumer-def-formation-tendency-wk{WEEK}.csv')\n",
    "sumer.shape"
   ]
  },
  {
   "cell_type": "markdown",
   "metadata": {},
   "source": [
    "## QB"
   ]
  },
  {
   "cell_type": "code",
   "execution_count": 54,
   "metadata": {},
   "outputs": [
    {
     "data": {
      "text/plain": [
       "(72, 28)"
      ]
     },
     "execution_count": 54,
     "metadata": {},
     "output_type": "execute_result"
    }
   ],
   "source": [
    "sumer = pd.read_clipboard()\n",
    "sumer.to_csv(f'{SUMER_PLAYER_PATH}/sumer-player-qb-wk{WEEK}.csv')\n",
    "sumer.shape"
   ]
  },
  {
   "cell_type": "markdown",
   "metadata": {},
   "source": [
    "## WR"
   ]
  },
  {
   "cell_type": "code",
   "execution_count": 55,
   "metadata": {},
   "outputs": [
    {
     "data": {
      "text/plain": [
       "(128, 21)"
      ]
     },
     "execution_count": 55,
     "metadata": {},
     "output_type": "execute_result"
    }
   ],
   "source": [
    "sumer = pd.read_clipboard()\n",
    "sumer.to_csv(f'{SUMER_PLAYER_PATH}/sumer-player-wr-wk{WEEK}.csv')\n",
    "sumer.shape"
   ]
  },
  {
   "cell_type": "markdown",
   "metadata": {},
   "source": [
    "## TE"
   ]
  },
  {
   "cell_type": "code",
   "execution_count": 56,
   "metadata": {},
   "outputs": [
    {
     "data": {
      "text/plain": [
       "(96, 12)"
      ]
     },
     "execution_count": 56,
     "metadata": {},
     "output_type": "execute_result"
    }
   ],
   "source": [
    "sumer = pd.read_clipboard()\n",
    "sumer.to_csv(f'{SUMER_PLAYER_PATH}/sumer-player-te-wk{WEEK}.csv')\n",
    "sumer.shape"
   ]
  },
  {
   "cell_type": "markdown",
   "metadata": {},
   "source": [
    "## RB"
   ]
  },
  {
   "cell_type": "code",
   "execution_count": 57,
   "metadata": {},
   "outputs": [
    {
     "data": {
      "text/plain": [
       "(96, 28)"
      ]
     },
     "execution_count": 57,
     "metadata": {},
     "output_type": "execute_result"
    }
   ],
   "source": [
    "sumer = pd.read_clipboard()\n",
    "sumer.to_csv(f'{SUMER_PLAYER_PATH}/sumer-player-rb-wk{WEEK}.csv')\n",
    "sumer.shape"
   ]
  },
  {
   "cell_type": "markdown",
   "metadata": {},
   "source": [
    "## Def"
   ]
  },
  {
   "cell_type": "code",
   "execution_count": 53,
   "metadata": {},
   "outputs": [
    {
     "data": {
      "text/plain": [
       "(384, 36)"
      ]
     },
     "execution_count": 53,
     "metadata": {},
     "output_type": "execute_result"
    }
   ],
   "source": [
    "sumer = pd.read_clipboard()\n",
    "sumer.to_csv(f'{SUMER_PLAYER_PATH}/sumer-player-def-wk{WEEK}.csv')\n",
    "sumer.shape"
   ]
  },
  {
   "cell_type": "markdown",
   "metadata": {},
   "source": [
    "# ZIP Data Folder"
   ]
  },
  {
   "cell_type": "code",
   "execution_count": 7,
   "metadata": {},
   "outputs": [
    {
     "data": {
      "text/plain": [
       "'/Users/fgreichert/Documents/code/nfl-betting/bin/data-archive-2023-wk-5.zip'"
      ]
     },
     "execution_count": 7,
     "metadata": {},
     "output_type": "execute_result"
    }
   ],
   "source": [
    "\n",
    "# Replace 'path_to_directory' with the path to the directory you want to zip\n",
    "directory_to_zip = str(DATA_PATH)\n",
    "\n",
    "# Replace 'output_zip_file.zip' with the desired name of your ZIP archive\n",
    "output_zip_file = f'../bin/data-archive-{SEASON}-wk-{WEEK}'\n",
    "\n",
    "# Create a ZIP archive of the directory recursively\n",
    "shutil.make_archive(output_zip_file, 'zip', directory_to_zip)"
   ]
  },
  {
   "cell_type": "code",
   "execution_count": null,
   "metadata": {},
   "outputs": [],
   "source": []
  },
  {
   "cell_type": "code",
   "execution_count": null,
   "metadata": {},
   "outputs": [],
   "source": []
  },
  {
   "cell_type": "code",
   "execution_count": null,
   "metadata": {},
   "outputs": [],
   "source": []
  },
  {
   "cell_type": "code",
   "execution_count": null,
   "metadata": {},
   "outputs": [],
   "source": []
  },
  {
   "cell_type": "code",
   "execution_count": 24,
   "metadata": {},
   "outputs": [],
   "source": [
    "sumer_df = sumer_backup.copy()\n",
    "sumer_df = sumer_df.dropna(axis=1, how='all')\n",
    "sumer_df = sumer_df.dropna(subset=['Playoff'])\n",
    "sumer_df.columns = ['elo', 'wins', 'playoff', 'division', 'playoff_bye', 'conference', 'sb', 'first_pick', 'psos', 'fsos']"
   ]
  },
  {
   "cell_type": "code",
   "execution_count": 26,
   "metadata": {},
   "outputs": [
    {
     "ename": "KeyError",
     "evalue": "0",
     "output_type": "error",
     "traceback": [
      "\u001b[0;31m---------------------------------------------------------------------------\u001b[0m",
      "\u001b[0;31mKeyError\u001b[0m                                  Traceback (most recent call last)",
      "File \u001b[0;32m/opt/anaconda3/envs/nfl/lib/python3.10/site-packages/pandas/core/indexes/base.py:3802\u001b[0m, in \u001b[0;36mIndex.get_loc\u001b[0;34m(self, key, method, tolerance)\u001b[0m\n\u001b[1;32m   3801\u001b[0m \u001b[39mtry\u001b[39;00m:\n\u001b[0;32m-> 3802\u001b[0m     \u001b[39mreturn\u001b[39;00m \u001b[39mself\u001b[39;49m\u001b[39m.\u001b[39;49m_engine\u001b[39m.\u001b[39;49mget_loc(casted_key)\n\u001b[1;32m   3803\u001b[0m \u001b[39mexcept\u001b[39;00m \u001b[39mKeyError\u001b[39;00m \u001b[39mas\u001b[39;00m err:\n",
      "File \u001b[0;32m/opt/anaconda3/envs/nfl/lib/python3.10/site-packages/pandas/_libs/index.pyx:138\u001b[0m, in \u001b[0;36mpandas._libs.index.IndexEngine.get_loc\u001b[0;34m()\u001b[0m\n",
      "File \u001b[0;32m/opt/anaconda3/envs/nfl/lib/python3.10/site-packages/pandas/_libs/index.pyx:165\u001b[0m, in \u001b[0;36mpandas._libs.index.IndexEngine.get_loc\u001b[0;34m()\u001b[0m\n",
      "File \u001b[0;32mpandas/_libs/hashtable_class_helper.pxi:2263\u001b[0m, in \u001b[0;36mpandas._libs.hashtable.Int64HashTable.get_item\u001b[0;34m()\u001b[0m\n",
      "File \u001b[0;32mpandas/_libs/hashtable_class_helper.pxi:2273\u001b[0m, in \u001b[0;36mpandas._libs.hashtable.Int64HashTable.get_item\u001b[0;34m()\u001b[0m\n",
      "\u001b[0;31mKeyError\u001b[0m: 0",
      "\nThe above exception was the direct cause of the following exception:\n",
      "\u001b[0;31mKeyError\u001b[0m                                  Traceback (most recent call last)",
      "Cell \u001b[0;32mIn[26], line 1\u001b[0m\n\u001b[0;32m----> 1\u001b[0m sumer_df\u001b[39m.\u001b[39;49mloc[\u001b[39m0\u001b[39;49m, \u001b[39m'\u001b[39;49m\u001b[39mdivision\u001b[39;49m\u001b[39m'\u001b[39;49m]\n",
      "File \u001b[0;32m/opt/anaconda3/envs/nfl/lib/python3.10/site-packages/pandas/core/indexing.py:1066\u001b[0m, in \u001b[0;36m_LocationIndexer.__getitem__\u001b[0;34m(self, key)\u001b[0m\n\u001b[1;32m   1064\u001b[0m     key \u001b[39m=\u001b[39m \u001b[39mtuple\u001b[39m(com\u001b[39m.\u001b[39mapply_if_callable(x, \u001b[39mself\u001b[39m\u001b[39m.\u001b[39mobj) \u001b[39mfor\u001b[39;00m x \u001b[39min\u001b[39;00m key)\n\u001b[1;32m   1065\u001b[0m     \u001b[39mif\u001b[39;00m \u001b[39mself\u001b[39m\u001b[39m.\u001b[39m_is_scalar_access(key):\n\u001b[0;32m-> 1066\u001b[0m         \u001b[39mreturn\u001b[39;00m \u001b[39mself\u001b[39;49m\u001b[39m.\u001b[39;49mobj\u001b[39m.\u001b[39;49m_get_value(\u001b[39m*\u001b[39;49mkey, takeable\u001b[39m=\u001b[39;49m\u001b[39mself\u001b[39;49m\u001b[39m.\u001b[39;49m_takeable)\n\u001b[1;32m   1067\u001b[0m     \u001b[39mreturn\u001b[39;00m \u001b[39mself\u001b[39m\u001b[39m.\u001b[39m_getitem_tuple(key)\n\u001b[1;32m   1068\u001b[0m \u001b[39melse\u001b[39;00m:\n\u001b[1;32m   1069\u001b[0m     \u001b[39m# we by definition only have the 0th axis\u001b[39;00m\n",
      "File \u001b[0;32m/opt/anaconda3/envs/nfl/lib/python3.10/site-packages/pandas/core/frame.py:3924\u001b[0m, in \u001b[0;36mDataFrame._get_value\u001b[0;34m(self, index, col, takeable)\u001b[0m\n\u001b[1;32m   3918\u001b[0m engine \u001b[39m=\u001b[39m \u001b[39mself\u001b[39m\u001b[39m.\u001b[39mindex\u001b[39m.\u001b[39m_engine\n\u001b[1;32m   3920\u001b[0m \u001b[39mif\u001b[39;00m \u001b[39mnot\u001b[39;00m \u001b[39misinstance\u001b[39m(\u001b[39mself\u001b[39m\u001b[39m.\u001b[39mindex, MultiIndex):\n\u001b[1;32m   3921\u001b[0m     \u001b[39m# CategoricalIndex: Trying to use the engine fastpath may give incorrect\u001b[39;00m\n\u001b[1;32m   3922\u001b[0m     \u001b[39m#  results if our categories are integers that dont match our codes\u001b[39;00m\n\u001b[1;32m   3923\u001b[0m     \u001b[39m# IntervalIndex: IntervalTree has no get_loc\u001b[39;00m\n\u001b[0;32m-> 3924\u001b[0m     row \u001b[39m=\u001b[39m \u001b[39mself\u001b[39;49m\u001b[39m.\u001b[39;49mindex\u001b[39m.\u001b[39;49mget_loc(index)\n\u001b[1;32m   3925\u001b[0m     \u001b[39mreturn\u001b[39;00m series\u001b[39m.\u001b[39m_values[row]\n\u001b[1;32m   3927\u001b[0m \u001b[39m# For MultiIndex going through engine effectively restricts us to\u001b[39;00m\n\u001b[1;32m   3928\u001b[0m \u001b[39m#  same-length tuples; see test_get_set_value_no_partial_indexing\u001b[39;00m\n",
      "File \u001b[0;32m/opt/anaconda3/envs/nfl/lib/python3.10/site-packages/pandas/core/indexes/base.py:3804\u001b[0m, in \u001b[0;36mIndex.get_loc\u001b[0;34m(self, key, method, tolerance)\u001b[0m\n\u001b[1;32m   3802\u001b[0m     \u001b[39mreturn\u001b[39;00m \u001b[39mself\u001b[39m\u001b[39m.\u001b[39m_engine\u001b[39m.\u001b[39mget_loc(casted_key)\n\u001b[1;32m   3803\u001b[0m \u001b[39mexcept\u001b[39;00m \u001b[39mKeyError\u001b[39;00m \u001b[39mas\u001b[39;00m err:\n\u001b[0;32m-> 3804\u001b[0m     \u001b[39mraise\u001b[39;00m \u001b[39mKeyError\u001b[39;00m(key) \u001b[39mfrom\u001b[39;00m \u001b[39merr\u001b[39;00m\n\u001b[1;32m   3805\u001b[0m \u001b[39mexcept\u001b[39;00m \u001b[39mTypeError\u001b[39;00m:\n\u001b[1;32m   3806\u001b[0m     \u001b[39m# If we have a listlike key, _check_indexing_error will raise\u001b[39;00m\n\u001b[1;32m   3807\u001b[0m     \u001b[39m#  InvalidIndexError. Otherwise we fall through and re-raise\u001b[39;00m\n\u001b[1;32m   3808\u001b[0m     \u001b[39m#  the TypeError.\u001b[39;00m\n\u001b[1;32m   3809\u001b[0m     \u001b[39mself\u001b[39m\u001b[39m.\u001b[39m_check_indexing_error(key)\n",
      "\u001b[0;31mKeyError\u001b[0m: 0"
     ]
    }
   ],
   "source": [
    "sumer_df.iloc[0, 'division']"
   ]
  },
  {
   "cell_type": "code",
   "execution_count": 20,
   "metadata": {},
   "outputs": [
    {
     "ename": "AttributeError",
     "evalue": "Can only use .str accessor with string values!",
     "output_type": "error",
     "traceback": [
      "\u001b[0;31m---------------------------------------------------------------------------\u001b[0m",
      "\u001b[0;31mAttributeError\u001b[0m                            Traceback (most recent call last)",
      "Cell \u001b[0;32mIn[20], line 6\u001b[0m\n\u001b[1;32m      4\u001b[0m sumer_df\u001b[39m.\u001b[39mcolumns \u001b[39m=\u001b[39m [\u001b[39m'\u001b[39m\u001b[39melo\u001b[39m\u001b[39m'\u001b[39m, \u001b[39m'\u001b[39m\u001b[39mwins\u001b[39m\u001b[39m'\u001b[39m, \u001b[39m'\u001b[39m\u001b[39mplayoff\u001b[39m\u001b[39m'\u001b[39m, \u001b[39m'\u001b[39m\u001b[39mdivision\u001b[39m\u001b[39m'\u001b[39m, \u001b[39m'\u001b[39m\u001b[39mplayoff_bye\u001b[39m\u001b[39m'\u001b[39m, \u001b[39m'\u001b[39m\u001b[39mconference\u001b[39m\u001b[39m'\u001b[39m, \u001b[39m'\u001b[39m\u001b[39msb\u001b[39m\u001b[39m'\u001b[39m, \u001b[39m'\u001b[39m\u001b[39mfirst_pick\u001b[39m\u001b[39m'\u001b[39m, \u001b[39m'\u001b[39m\u001b[39mpsos\u001b[39m\u001b[39m'\u001b[39m, \u001b[39m'\u001b[39m\u001b[39mfsos\u001b[39m\u001b[39m'\u001b[39m]\n\u001b[1;32m      5\u001b[0m \u001b[39mfor\u001b[39;00m col \u001b[39min\u001b[39;00m sumer_df\u001b[39m.\u001b[39mcolumns:\n\u001b[0;32m----> 6\u001b[0m     sumer_df[col] \u001b[39m=\u001b[39m sumer_df[col]\u001b[39m.\u001b[39;49mstr\u001b[39m.\u001b[39mreplace(\u001b[39m'\u001b[39m\u001b[39m%\u001b[39m\u001b[39m'\u001b[39m, \u001b[39m'\u001b[39m\u001b[39m'\u001b[39m)\u001b[39m.\u001b[39mastype(\u001b[39mfloat\u001b[39m)\n\u001b[1;32m      7\u001b[0m sumer_df[\u001b[39m'\u001b[39m\u001b[39mteam\u001b[39m\u001b[39m'\u001b[39m] \u001b[39m=\u001b[39m utils\u001b[39m.\u001b[39mget_nfl_teams()\n\u001b[1;32m      8\u001b[0m sumer_df \u001b[39m=\u001b[39m sumer_df\u001b[39m.\u001b[39mset_index(\u001b[39m'\u001b[39m\u001b[39mteam\u001b[39m\u001b[39m'\u001b[39m)\n",
      "File \u001b[0;32m/opt/anaconda3/envs/nfl/lib/python3.10/site-packages/pandas/core/generic.py:5902\u001b[0m, in \u001b[0;36mNDFrame.__getattr__\u001b[0;34m(self, name)\u001b[0m\n\u001b[1;32m   5895\u001b[0m \u001b[39mif\u001b[39;00m (\n\u001b[1;32m   5896\u001b[0m     name \u001b[39mnot\u001b[39;00m \u001b[39min\u001b[39;00m \u001b[39mself\u001b[39m\u001b[39m.\u001b[39m_internal_names_set\n\u001b[1;32m   5897\u001b[0m     \u001b[39mand\u001b[39;00m name \u001b[39mnot\u001b[39;00m \u001b[39min\u001b[39;00m \u001b[39mself\u001b[39m\u001b[39m.\u001b[39m_metadata\n\u001b[1;32m   5898\u001b[0m     \u001b[39mand\u001b[39;00m name \u001b[39mnot\u001b[39;00m \u001b[39min\u001b[39;00m \u001b[39mself\u001b[39m\u001b[39m.\u001b[39m_accessors\n\u001b[1;32m   5899\u001b[0m     \u001b[39mand\u001b[39;00m \u001b[39mself\u001b[39m\u001b[39m.\u001b[39m_info_axis\u001b[39m.\u001b[39m_can_hold_identifiers_and_holds_name(name)\n\u001b[1;32m   5900\u001b[0m ):\n\u001b[1;32m   5901\u001b[0m     \u001b[39mreturn\u001b[39;00m \u001b[39mself\u001b[39m[name]\n\u001b[0;32m-> 5902\u001b[0m \u001b[39mreturn\u001b[39;00m \u001b[39mobject\u001b[39;49m\u001b[39m.\u001b[39;49m\u001b[39m__getattribute__\u001b[39;49m(\u001b[39mself\u001b[39;49m, name)\n",
      "File \u001b[0;32m/opt/anaconda3/envs/nfl/lib/python3.10/site-packages/pandas/core/accessor.py:182\u001b[0m, in \u001b[0;36mCachedAccessor.__get__\u001b[0;34m(self, obj, cls)\u001b[0m\n\u001b[1;32m    179\u001b[0m \u001b[39mif\u001b[39;00m obj \u001b[39mis\u001b[39;00m \u001b[39mNone\u001b[39;00m:\n\u001b[1;32m    180\u001b[0m     \u001b[39m# we're accessing the attribute of the class, i.e., Dataset.geo\u001b[39;00m\n\u001b[1;32m    181\u001b[0m     \u001b[39mreturn\u001b[39;00m \u001b[39mself\u001b[39m\u001b[39m.\u001b[39m_accessor\n\u001b[0;32m--> 182\u001b[0m accessor_obj \u001b[39m=\u001b[39m \u001b[39mself\u001b[39;49m\u001b[39m.\u001b[39;49m_accessor(obj)\n\u001b[1;32m    183\u001b[0m \u001b[39m# Replace the property with the accessor object. Inspired by:\u001b[39;00m\n\u001b[1;32m    184\u001b[0m \u001b[39m# https://www.pydanny.com/cached-property.html\u001b[39;00m\n\u001b[1;32m    185\u001b[0m \u001b[39m# We need to use object.__setattr__ because we overwrite __setattr__ on\u001b[39;00m\n\u001b[1;32m    186\u001b[0m \u001b[39m# NDFrame\u001b[39;00m\n\u001b[1;32m    187\u001b[0m \u001b[39mobject\u001b[39m\u001b[39m.\u001b[39m\u001b[39m__setattr__\u001b[39m(obj, \u001b[39mself\u001b[39m\u001b[39m.\u001b[39m_name, accessor_obj)\n",
      "File \u001b[0;32m/opt/anaconda3/envs/nfl/lib/python3.10/site-packages/pandas/core/strings/accessor.py:181\u001b[0m, in \u001b[0;36mStringMethods.__init__\u001b[0;34m(self, data)\u001b[0m\n\u001b[1;32m    178\u001b[0m \u001b[39mdef\u001b[39;00m \u001b[39m__init__\u001b[39m(\u001b[39mself\u001b[39m, data) \u001b[39m-\u001b[39m\u001b[39m>\u001b[39m \u001b[39mNone\u001b[39;00m:\n\u001b[1;32m    179\u001b[0m     \u001b[39mfrom\u001b[39;00m \u001b[39mpandas\u001b[39;00m\u001b[39m.\u001b[39;00m\u001b[39mcore\u001b[39;00m\u001b[39m.\u001b[39;00m\u001b[39marrays\u001b[39;00m\u001b[39m.\u001b[39;00m\u001b[39mstring_\u001b[39;00m \u001b[39mimport\u001b[39;00m StringDtype\n\u001b[0;32m--> 181\u001b[0m     \u001b[39mself\u001b[39m\u001b[39m.\u001b[39m_inferred_dtype \u001b[39m=\u001b[39m \u001b[39mself\u001b[39;49m\u001b[39m.\u001b[39;49m_validate(data)\n\u001b[1;32m    182\u001b[0m     \u001b[39mself\u001b[39m\u001b[39m.\u001b[39m_is_categorical \u001b[39m=\u001b[39m is_categorical_dtype(data\u001b[39m.\u001b[39mdtype)\n\u001b[1;32m    183\u001b[0m     \u001b[39mself\u001b[39m\u001b[39m.\u001b[39m_is_string \u001b[39m=\u001b[39m \u001b[39misinstance\u001b[39m(data\u001b[39m.\u001b[39mdtype, StringDtype)\n",
      "File \u001b[0;32m/opt/anaconda3/envs/nfl/lib/python3.10/site-packages/pandas/core/strings/accessor.py:235\u001b[0m, in \u001b[0;36mStringMethods._validate\u001b[0;34m(data)\u001b[0m\n\u001b[1;32m    232\u001b[0m inferred_dtype \u001b[39m=\u001b[39m lib\u001b[39m.\u001b[39minfer_dtype(values, skipna\u001b[39m=\u001b[39m\u001b[39mTrue\u001b[39;00m)\n\u001b[1;32m    234\u001b[0m \u001b[39mif\u001b[39;00m inferred_dtype \u001b[39mnot\u001b[39;00m \u001b[39min\u001b[39;00m allowed_types:\n\u001b[0;32m--> 235\u001b[0m     \u001b[39mraise\u001b[39;00m \u001b[39mAttributeError\u001b[39;00m(\u001b[39m\"\u001b[39m\u001b[39mCan only use .str accessor with string values!\u001b[39m\u001b[39m\"\u001b[39m)\n\u001b[1;32m    236\u001b[0m \u001b[39mreturn\u001b[39;00m inferred_dtype\n",
      "\u001b[0;31mAttributeError\u001b[0m: Can only use .str accessor with string values!"
     ]
    }
   ],
   "source": [
    "for col in sumer_df.columns:\n",
    "    if df.loc[0, col]\n",
    "    sumer_df[col] = sumer_df[col].str.replace('%', '').astype(float)\n",
    "sumer_df['team'] = utils.get_nfl_teams()\n",
    "sumer_df = sumer_df.set_index('team')\n"
   ]
  },
  {
   "cell_type": "code",
   "execution_count": 21,
   "metadata": {},
   "outputs": [
    {
     "name": "stdout",
     "output_type": "stream",
     "text": [
      "Mem. usage decreased to 0.00 Mb (68.2% reduction)\n"
     ]
    },
    {
     "data": {
      "text/html": [
       "<div>\n",
       "<style scoped>\n",
       "    .dataframe tbody tr th:only-of-type {\n",
       "        vertical-align: middle;\n",
       "    }\n",
       "\n",
       "    .dataframe tbody tr th {\n",
       "        vertical-align: top;\n",
       "    }\n",
       "\n",
       "    .dataframe thead th {\n",
       "        text-align: right;\n",
       "    }\n",
       "</style>\n",
       "<table border=\"1\" class=\"dataframe\">\n",
       "  <thead>\n",
       "    <tr style=\"text-align: right;\">\n",
       "      <th></th>\n",
       "      <th>elo</th>\n",
       "      <th>wins</th>\n",
       "      <th>playoff</th>\n",
       "      <th>division</th>\n",
       "      <th>playoff_bye</th>\n",
       "      <th>conference</th>\n",
       "      <th>sb</th>\n",
       "      <th>first_pick</th>\n",
       "      <th>psos</th>\n",
       "      <th>fsos</th>\n",
       "    </tr>\n",
       "  </thead>\n",
       "  <tbody>\n",
       "    <tr>\n",
       "      <th>2</th>\n",
       "      <td>1345.0</td>\n",
       "      <td>4.398438</td>\n",
       "      <td>3.500000</td>\n",
       "      <td>0.700195</td>\n",
       "      <td>0.000000</td>\n",
       "      <td>0.099976</td>\n",
       "      <td>0.000000</td>\n",
       "      <td>21.296875</td>\n",
       "      <td>1510.0</td>\n",
       "      <td>1523.0</td>\n",
       "    </tr>\n",
       "    <tr>\n",
       "      <th>5</th>\n",
       "      <td>1488.0</td>\n",
       "      <td>9.500000</td>\n",
       "      <td>58.593750</td>\n",
       "      <td>37.187500</td>\n",
       "      <td>4.699219</td>\n",
       "      <td>3.800781</td>\n",
       "      <td>1.500000</td>\n",
       "      <td>0.700195</td>\n",
       "      <td>1417.0</td>\n",
       "      <td>1458.0</td>\n",
       "    </tr>\n",
       "    <tr>\n",
       "      <th>8</th>\n",
       "      <td>1561.0</td>\n",
       "      <td>10.203125</td>\n",
       "      <td>64.000000</td>\n",
       "      <td>33.093750</td>\n",
       "      <td>10.398438</td>\n",
       "      <td>7.800781</td>\n",
       "      <td>3.400391</td>\n",
       "      <td>0.300049</td>\n",
       "      <td>1338.0</td>\n",
       "      <td>1501.0</td>\n",
       "    </tr>\n",
       "    <tr>\n",
       "      <th>11</th>\n",
       "      <td>1652.0</td>\n",
       "      <td>10.703125</td>\n",
       "      <td>74.312500</td>\n",
       "      <td>49.812500</td>\n",
       "      <td>12.796875</td>\n",
       "      <td>16.500000</td>\n",
       "      <td>8.398438</td>\n",
       "      <td>0.099976</td>\n",
       "      <td>1534.0</td>\n",
       "      <td>1527.0</td>\n",
       "    </tr>\n",
       "    <tr>\n",
       "      <th>14</th>\n",
       "      <td>1449.0</td>\n",
       "      <td>7.500000</td>\n",
       "      <td>30.093750</td>\n",
       "      <td>13.398438</td>\n",
       "      <td>0.899902</td>\n",
       "      <td>1.400391</td>\n",
       "      <td>0.500000</td>\n",
       "      <td>3.300781</td>\n",
       "      <td>1521.0</td>\n",
       "      <td>1476.0</td>\n",
       "    </tr>\n",
       "    <tr>\n",
       "      <th>17</th>\n",
       "      <td>1398.0</td>\n",
       "      <td>5.601562</td>\n",
       "      <td>10.296875</td>\n",
       "      <td>3.500000</td>\n",
       "      <td>0.099976</td>\n",
       "      <td>0.300049</td>\n",
       "      <td>0.099976</td>\n",
       "      <td>11.101562</td>\n",
       "      <td>1496.0</td>\n",
       "      <td>1498.0</td>\n",
       "    </tr>\n",
       "    <tr>\n",
       "      <th>20</th>\n",
       "      <td>1602.0</td>\n",
       "      <td>10.296875</td>\n",
       "      <td>66.500000</td>\n",
       "      <td>32.406250</td>\n",
       "      <td>9.601562</td>\n",
       "      <td>10.101562</td>\n",
       "      <td>4.800781</td>\n",
       "      <td>0.199951</td>\n",
       "      <td>1554.0</td>\n",
       "      <td>1499.0</td>\n",
       "    </tr>\n",
       "    <tr>\n",
       "      <th>23</th>\n",
       "      <td>1522.0</td>\n",
       "      <td>10.101562</td>\n",
       "      <td>61.906250</td>\n",
       "      <td>28.703125</td>\n",
       "      <td>8.898438</td>\n",
       "      <td>6.199219</td>\n",
       "      <td>2.500000</td>\n",
       "      <td>0.300049</td>\n",
       "      <td>1570.0</td>\n",
       "      <td>1479.0</td>\n",
       "    </tr>\n",
       "    <tr>\n",
       "      <th>26</th>\n",
       "      <td>1632.0</td>\n",
       "      <td>11.296875</td>\n",
       "      <td>84.375000</td>\n",
       "      <td>39.093750</td>\n",
       "      <td>15.898438</td>\n",
       "      <td>16.796875</td>\n",
       "      <td>9.101562</td>\n",
       "      <td>0.000000</td>\n",
       "      <td>1469.0</td>\n",
       "      <td>1521.0</td>\n",
       "    </tr>\n",
       "    <tr>\n",
       "      <th>29</th>\n",
       "      <td>1463.0</td>\n",
       "      <td>6.699219</td>\n",
       "      <td>15.000000</td>\n",
       "      <td>3.500000</td>\n",
       "      <td>0.500000</td>\n",
       "      <td>0.700195</td>\n",
       "      <td>0.199951</td>\n",
       "      <td>4.398438</td>\n",
       "      <td>1473.0</td>\n",
       "      <td>1525.0</td>\n",
       "    </tr>\n",
       "    <tr>\n",
       "      <th>32</th>\n",
       "      <td>1514.0</td>\n",
       "      <td>9.796875</td>\n",
       "      <td>63.312500</td>\n",
       "      <td>42.093750</td>\n",
       "      <td>5.601562</td>\n",
       "      <td>5.800781</td>\n",
       "      <td>2.500000</td>\n",
       "      <td>0.300049</td>\n",
       "      <td>1741.0</td>\n",
       "      <td>1488.0</td>\n",
       "    </tr>\n",
       "    <tr>\n",
       "      <th>35</th>\n",
       "      <td>1529.0</td>\n",
       "      <td>10.000000</td>\n",
       "      <td>66.187500</td>\n",
       "      <td>46.000000</td>\n",
       "      <td>7.398438</td>\n",
       "      <td>6.500000</td>\n",
       "      <td>2.900391</td>\n",
       "      <td>0.500000</td>\n",
       "      <td>1430.0</td>\n",
       "      <td>1488.0</td>\n",
       "    </tr>\n",
       "    <tr>\n",
       "      <th>38</th>\n",
       "      <td>1371.0</td>\n",
       "      <td>6.101562</td>\n",
       "      <td>13.203125</td>\n",
       "      <td>8.296875</td>\n",
       "      <td>0.199951</td>\n",
       "      <td>0.199951</td>\n",
       "      <td>0.099976</td>\n",
       "      <td>9.703125</td>\n",
       "      <td>1593.0</td>\n",
       "      <td>1461.0</td>\n",
       "    </tr>\n",
       "    <tr>\n",
       "      <th>41</th>\n",
       "      <td>1382.0</td>\n",
       "      <td>6.101562</td>\n",
       "      <td>13.203125</td>\n",
       "      <td>6.800781</td>\n",
       "      <td>0.199951</td>\n",
       "      <td>0.199951</td>\n",
       "      <td>0.099976</td>\n",
       "      <td>8.203125</td>\n",
       "      <td>1506.0</td>\n",
       "      <td>1475.0</td>\n",
       "    </tr>\n",
       "    <tr>\n",
       "      <th>44</th>\n",
       "      <td>1539.0</td>\n",
       "      <td>10.296875</td>\n",
       "      <td>74.875000</td>\n",
       "      <td>67.500000</td>\n",
       "      <td>10.898438</td>\n",
       "      <td>8.601562</td>\n",
       "      <td>3.400391</td>\n",
       "      <td>0.099976</td>\n",
       "      <td>1415.0</td>\n",
       "      <td>1496.0</td>\n",
       "    </tr>\n",
       "    <tr>\n",
       "      <th>47</th>\n",
       "      <td>1708.0</td>\n",
       "      <td>11.796875</td>\n",
       "      <td>88.000000</td>\n",
       "      <td>69.812500</td>\n",
       "      <td>28.406250</td>\n",
       "      <td>32.187500</td>\n",
       "      <td>18.500000</td>\n",
       "      <td>0.000000</td>\n",
       "      <td>1482.0</td>\n",
       "      <td>1521.0</td>\n",
       "    </tr>\n",
       "    <tr>\n",
       "      <th>50</th>\n",
       "      <td>1500.0</td>\n",
       "      <td>8.601562</td>\n",
       "      <td>44.906250</td>\n",
       "      <td>14.898438</td>\n",
       "      <td>2.900391</td>\n",
       "      <td>2.900391</td>\n",
       "      <td>1.299805</td>\n",
       "      <td>0.799805</td>\n",
       "      <td>1494.0</td>\n",
       "      <td>1514.0</td>\n",
       "    </tr>\n",
       "    <tr>\n",
       "      <th>53</th>\n",
       "      <td>1517.0</td>\n",
       "      <td>7.601562</td>\n",
       "      <td>27.406250</td>\n",
       "      <td>8.898438</td>\n",
       "      <td>1.799805</td>\n",
       "      <td>2.199219</td>\n",
       "      <td>0.899902</td>\n",
       "      <td>2.500000</td>\n",
       "      <td>1504.0</td>\n",
       "      <td>1531.0</td>\n",
       "    </tr>\n",
       "    <tr>\n",
       "      <th>56</th>\n",
       "      <td>1505.0</td>\n",
       "      <td>9.101562</td>\n",
       "      <td>46.812500</td>\n",
       "      <td>17.796875</td>\n",
       "      <td>4.398438</td>\n",
       "      <td>3.599609</td>\n",
       "      <td>1.400391</td>\n",
       "      <td>0.700195</td>\n",
       "      <td>1496.0</td>\n",
       "      <td>1511.0</td>\n",
       "    </tr>\n",
       "    <tr>\n",
       "      <th>59</th>\n",
       "      <td>1537.0</td>\n",
       "      <td>9.296875</td>\n",
       "      <td>51.812500</td>\n",
       "      <td>26.593750</td>\n",
       "      <td>5.500000</td>\n",
       "      <td>5.000000</td>\n",
       "      <td>2.000000</td>\n",
       "      <td>0.199951</td>\n",
       "      <td>1550.0</td>\n",
       "      <td>1531.0</td>\n",
       "    </tr>\n",
       "    <tr>\n",
       "      <th>62</th>\n",
       "      <td>1471.0</td>\n",
       "      <td>6.398438</td>\n",
       "      <td>18.203125</td>\n",
       "      <td>8.398438</td>\n",
       "      <td>0.399902</td>\n",
       "      <td>0.899902</td>\n",
       "      <td>0.399902</td>\n",
       "      <td>4.601562</td>\n",
       "      <td>1415.0</td>\n",
       "      <td>1531.0</td>\n",
       "    </tr>\n",
       "    <tr>\n",
       "      <th>65</th>\n",
       "      <td>1463.0</td>\n",
       "      <td>6.699219</td>\n",
       "      <td>18.000000</td>\n",
       "      <td>6.800781</td>\n",
       "      <td>0.799805</td>\n",
       "      <td>1.000000</td>\n",
       "      <td>0.399902</td>\n",
       "      <td>4.199219</td>\n",
       "      <td>1639.0</td>\n",
       "      <td>1527.0</td>\n",
       "    </tr>\n",
       "    <tr>\n",
       "      <th>68</th>\n",
       "      <td>1482.0</td>\n",
       "      <td>9.203125</td>\n",
       "      <td>51.687500</td>\n",
       "      <td>32.187500</td>\n",
       "      <td>3.599609</td>\n",
       "      <td>3.500000</td>\n",
       "      <td>1.299805</td>\n",
       "      <td>0.799805</td>\n",
       "      <td>1393.0</td>\n",
       "      <td>1465.0</td>\n",
       "    </tr>\n",
       "    <tr>\n",
       "      <th>71</th>\n",
       "      <td>1437.0</td>\n",
       "      <td>5.601562</td>\n",
       "      <td>8.898438</td>\n",
       "      <td>1.000000</td>\n",
       "      <td>0.099976</td>\n",
       "      <td>0.199951</td>\n",
       "      <td>0.099976</td>\n",
       "      <td>7.500000</td>\n",
       "      <td>1599.0</td>\n",
       "      <td>1540.0</td>\n",
       "    </tr>\n",
       "    <tr>\n",
       "      <th>74</th>\n",
       "      <td>1501.0</td>\n",
       "      <td>8.500000</td>\n",
       "      <td>39.000000</td>\n",
       "      <td>16.796875</td>\n",
       "      <td>3.599609</td>\n",
       "      <td>3.300781</td>\n",
       "      <td>1.200195</td>\n",
       "      <td>0.500000</td>\n",
       "      <td>1620.0</td>\n",
       "      <td>1528.0</td>\n",
       "    </tr>\n",
       "    <tr>\n",
       "      <th>77</th>\n",
       "      <td>1671.0</td>\n",
       "      <td>12.101562</td>\n",
       "      <td>89.812500</td>\n",
       "      <td>54.687500</td>\n",
       "      <td>25.406250</td>\n",
       "      <td>25.500000</td>\n",
       "      <td>15.101562</td>\n",
       "      <td>0.000000</td>\n",
       "      <td>1496.0</td>\n",
       "      <td>1524.0</td>\n",
       "    </tr>\n",
       "    <tr>\n",
       "      <th>80</th>\n",
       "      <td>1443.0</td>\n",
       "      <td>6.800781</td>\n",
       "      <td>19.203125</td>\n",
       "      <td>5.699219</td>\n",
       "      <td>0.799805</td>\n",
       "      <td>0.899902</td>\n",
       "      <td>0.300049</td>\n",
       "      <td>5.101562</td>\n",
       "      <td>1630.0</td>\n",
       "      <td>1493.0</td>\n",
       "    </tr>\n",
       "    <tr>\n",
       "      <th>83</th>\n",
       "      <td>1462.0</td>\n",
       "      <td>6.300781</td>\n",
       "      <td>13.601562</td>\n",
       "      <td>3.000000</td>\n",
       "      <td>0.199951</td>\n",
       "      <td>0.500000</td>\n",
       "      <td>0.199951</td>\n",
       "      <td>5.300781</td>\n",
       "      <td>1467.0</td>\n",
       "      <td>1520.0</td>\n",
       "    </tr>\n",
       "    <tr>\n",
       "      <th>86</th>\n",
       "      <td>1663.0</td>\n",
       "      <td>12.398438</td>\n",
       "      <td>92.812500</td>\n",
       "      <td>81.375000</td>\n",
       "      <td>30.000000</td>\n",
       "      <td>28.593750</td>\n",
       "      <td>15.898438</td>\n",
       "      <td>0.000000</td>\n",
       "      <td>1476.0</td>\n",
       "      <td>1498.0</td>\n",
       "    </tr>\n",
       "    <tr>\n",
       "      <th>89</th>\n",
       "      <td>1448.0</td>\n",
       "      <td>7.898438</td>\n",
       "      <td>34.812500</td>\n",
       "      <td>17.296875</td>\n",
       "      <td>1.400391</td>\n",
       "      <td>1.400391</td>\n",
       "      <td>0.399902</td>\n",
       "      <td>1.299805</td>\n",
       "      <td>1504.0</td>\n",
       "      <td>1499.0</td>\n",
       "    </tr>\n",
       "    <tr>\n",
       "      <th>92</th>\n",
       "      <td>1425.0</td>\n",
       "      <td>7.199219</td>\n",
       "      <td>26.796875</td>\n",
       "      <td>17.406250</td>\n",
       "      <td>1.099609</td>\n",
       "      <td>1.299805</td>\n",
       "      <td>0.399902</td>\n",
       "      <td>4.300781</td>\n",
       "      <td>1515.0</td>\n",
       "      <td>1472.0</td>\n",
       "    </tr>\n",
       "    <tr>\n",
       "      <th>95</th>\n",
       "      <td>1478.0</td>\n",
       "      <td>7.601562</td>\n",
       "      <td>28.796875</td>\n",
       "      <td>5.300781</td>\n",
       "      <td>1.400391</td>\n",
       "      <td>1.700195</td>\n",
       "      <td>0.700195</td>\n",
       "      <td>1.700195</td>\n",
       "      <td>1313.0</td>\n",
       "      <td>1542.0</td>\n",
       "    </tr>\n",
       "  </tbody>\n",
       "</table>\n",
       "</div>"
      ],
      "text/plain": [
       "       elo       wins    playoff   division  playoff_bye  conference  \\\n",
       "2   1345.0   4.398438   3.500000   0.700195     0.000000    0.099976   \n",
       "5   1488.0   9.500000  58.593750  37.187500     4.699219    3.800781   \n",
       "8   1561.0  10.203125  64.000000  33.093750    10.398438    7.800781   \n",
       "11  1652.0  10.703125  74.312500  49.812500    12.796875   16.500000   \n",
       "14  1449.0   7.500000  30.093750  13.398438     0.899902    1.400391   \n",
       "17  1398.0   5.601562  10.296875   3.500000     0.099976    0.300049   \n",
       "20  1602.0  10.296875  66.500000  32.406250     9.601562   10.101562   \n",
       "23  1522.0  10.101562  61.906250  28.703125     8.898438    6.199219   \n",
       "26  1632.0  11.296875  84.375000  39.093750    15.898438   16.796875   \n",
       "29  1463.0   6.699219  15.000000   3.500000     0.500000    0.700195   \n",
       "32  1514.0   9.796875  63.312500  42.093750     5.601562    5.800781   \n",
       "35  1529.0  10.000000  66.187500  46.000000     7.398438    6.500000   \n",
       "38  1371.0   6.101562  13.203125   8.296875     0.199951    0.199951   \n",
       "41  1382.0   6.101562  13.203125   6.800781     0.199951    0.199951   \n",
       "44  1539.0  10.296875  74.875000  67.500000    10.898438    8.601562   \n",
       "47  1708.0  11.796875  88.000000  69.812500    28.406250   32.187500   \n",
       "50  1500.0   8.601562  44.906250  14.898438     2.900391    2.900391   \n",
       "53  1517.0   7.601562  27.406250   8.898438     1.799805    2.199219   \n",
       "56  1505.0   9.101562  46.812500  17.796875     4.398438    3.599609   \n",
       "59  1537.0   9.296875  51.812500  26.593750     5.500000    5.000000   \n",
       "62  1471.0   6.398438  18.203125   8.398438     0.399902    0.899902   \n",
       "65  1463.0   6.699219  18.000000   6.800781     0.799805    1.000000   \n",
       "68  1482.0   9.203125  51.687500  32.187500     3.599609    3.500000   \n",
       "71  1437.0   5.601562   8.898438   1.000000     0.099976    0.199951   \n",
       "74  1501.0   8.500000  39.000000  16.796875     3.599609    3.300781   \n",
       "77  1671.0  12.101562  89.812500  54.687500    25.406250   25.500000   \n",
       "80  1443.0   6.800781  19.203125   5.699219     0.799805    0.899902   \n",
       "83  1462.0   6.300781  13.601562   3.000000     0.199951    0.500000   \n",
       "86  1663.0  12.398438  92.812500  81.375000    30.000000   28.593750   \n",
       "89  1448.0   7.898438  34.812500  17.296875     1.400391    1.400391   \n",
       "92  1425.0   7.199219  26.796875  17.406250     1.099609    1.299805   \n",
       "95  1478.0   7.601562  28.796875   5.300781     1.400391    1.700195   \n",
       "\n",
       "           sb  first_pick    psos    fsos  \n",
       "2    0.000000   21.296875  1510.0  1523.0  \n",
       "5    1.500000    0.700195  1417.0  1458.0  \n",
       "8    3.400391    0.300049  1338.0  1501.0  \n",
       "11   8.398438    0.099976  1534.0  1527.0  \n",
       "14   0.500000    3.300781  1521.0  1476.0  \n",
       "17   0.099976   11.101562  1496.0  1498.0  \n",
       "20   4.800781    0.199951  1554.0  1499.0  \n",
       "23   2.500000    0.300049  1570.0  1479.0  \n",
       "26   9.101562    0.000000  1469.0  1521.0  \n",
       "29   0.199951    4.398438  1473.0  1525.0  \n",
       "32   2.500000    0.300049  1741.0  1488.0  \n",
       "35   2.900391    0.500000  1430.0  1488.0  \n",
       "38   0.099976    9.703125  1593.0  1461.0  \n",
       "41   0.099976    8.203125  1506.0  1475.0  \n",
       "44   3.400391    0.099976  1415.0  1496.0  \n",
       "47  18.500000    0.000000  1482.0  1521.0  \n",
       "50   1.299805    0.799805  1494.0  1514.0  \n",
       "53   0.899902    2.500000  1504.0  1531.0  \n",
       "56   1.400391    0.700195  1496.0  1511.0  \n",
       "59   2.000000    0.199951  1550.0  1531.0  \n",
       "62   0.399902    4.601562  1415.0  1531.0  \n",
       "65   0.399902    4.199219  1639.0  1527.0  \n",
       "68   1.299805    0.799805  1393.0  1465.0  \n",
       "71   0.099976    7.500000  1599.0  1540.0  \n",
       "74   1.200195    0.500000  1620.0  1528.0  \n",
       "77  15.101562    0.000000  1496.0  1524.0  \n",
       "80   0.300049    5.101562  1630.0  1493.0  \n",
       "83   0.199951    5.300781  1467.0  1520.0  \n",
       "86  15.898438    0.000000  1476.0  1498.0  \n",
       "89   0.399902    1.299805  1504.0  1499.0  \n",
       "92   0.399902    4.300781  1515.0  1472.0  \n",
       "95   0.700195    1.700195  1313.0  1542.0  "
      ]
     },
     "execution_count": 21,
     "metadata": {},
     "output_type": "execute_result"
    }
   ],
   "source": [
    "utils.reduce_memory_usage(sumer_df)"
   ]
  },
  {
   "cell_type": "code",
   "execution_count": null,
   "metadata": {},
   "outputs": [],
   "source": []
  }
 ],
 "metadata": {
  "kernelspec": {
   "display_name": "nfl",
   "language": "python",
   "name": "python3"
  },
  "language_info": {
   "codemirror_mode": {
    "name": "ipython",
    "version": 3
   },
   "file_extension": ".py",
   "mimetype": "text/x-python",
   "name": "python",
   "nbconvert_exporter": "python",
   "pygments_lexer": "ipython3",
   "version": "3.10.12"
  },
  "orig_nbformat": 4
 },
 "nbformat": 4,
 "nbformat_minor": 2
}
