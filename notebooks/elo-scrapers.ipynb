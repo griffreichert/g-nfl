{
 "cells": [
  {
   "cell_type": "code",
   "execution_count": null,
   "metadata": {},
   "outputs": [],
   "source": [
    "import sys\n",
    "import os\n",
    "import shutil\n",
    "\n",
    "# Navigate up one level to the parent directory and append it to sys.path\n",
    "sys.path.append(os.path.abspath(os.path.join(os.getcwd(), os.pardir)))\n",
    "# import nfl_data_py as nfl\n",
    "import pandas as pd\n",
    "from src import utils\n",
    "from src.config import DATA_PATH, SUMER_ELO_PATH, SUMER_OFFENSE_PATH, SUMER_DEFENSE_PATH, SUMER_PLAYER_PATH\n",
    "from src.scrapers import scrape_inpredictable, scrape_unabated, scrape_espn, scrape_nfelo"
   ]
  },
  {
   "cell_type": "markdown",
   "metadata": {},
   "source": [
    "# 1. Set Week"
   ]
  },
  {
   "cell_type": "code",
   "execution_count": null,
   "metadata": {},
   "outputs": [],
   "source": [
    "WEEK = 6\n",
    "SEASON = 2023"
   ]
  },
  {
   "cell_type": "markdown",
   "metadata": {},
   "source": [
    "# 2. Automatic Scrapers"
   ]
  },
  {
   "cell_type": "code",
   "execution_count": null,
   "metadata": {},
   "outputs": [],
   "source": [
    "scrape_inpredictable(WEEK, SEASON)\n",
    "scrape_unabated(WEEK, SEASON)\n",
    "scrape_espn(WEEK, SEASON)\n",
    "scrape_nfelo(WEEK, SEASON)"
   ]
  },
  {
   "cell_type": "markdown",
   "metadata": {},
   "source": [
    "## Manually download:\n",
    " * [PFF Power](https://www.pff.com/betting/nfl-power-rankings)\n",
    " * [PFF Props](https://www.pff.com/betting/best-bets)"
   ]
  },
  {
   "cell_type": "markdown",
   "metadata": {},
   "source": [
    "# 3. Sumer Copy Paste"
   ]
  },
  {
   "cell_type": "markdown",
   "metadata": {},
   "source": [
    "## ELO"
   ]
  },
  {
   "cell_type": "code",
   "execution_count": null,
   "metadata": {},
   "outputs": [],
   "source": [
    "sumer_backup = pd.read_clipboard()\n",
    "sumer_backup.to_csv(f'{SUMER_ELO_PATH}/sumer-elo-wk{WEEK}.csv')\n",
    "sumer_backup.shape"
   ]
  },
  {
   "cell_type": "markdown",
   "metadata": {},
   "source": [
    "## Offensive Overview"
   ]
  },
  {
   "cell_type": "code",
   "execution_count": null,
   "metadata": {},
   "outputs": [],
   "source": [
    "sumer = pd.read_clipboard()\n",
    "sumer.to_csv(f'{SUMER_OFFENSE_PATH}/sumer-off-team-overview-wk{WEEK}.csv')\n",
    "sumer.shape"
   ]
  },
  {
   "cell_type": "markdown",
   "metadata": {},
   "source": [
    "## Offensive Personnel Tendencies"
   ]
  },
  {
   "cell_type": "code",
   "execution_count": null,
   "metadata": {},
   "outputs": [],
   "source": [
    "sumer = pd.read_clipboard()\n",
    "sumer.to_csv(f'{SUMER_OFFENSE_PATH}/sumer-off-personnel-tendency-wk{WEEK}.csv')\n",
    "sumer.shape"
   ]
  },
  {
   "cell_type": "markdown",
   "metadata": {},
   "source": [
    "## Offensive Formation Tendencies"
   ]
  },
  {
   "cell_type": "code",
   "execution_count": null,
   "metadata": {},
   "outputs": [],
   "source": [
    "sumer = pd.read_clipboard()\n",
    "sumer.to_csv(f'{SUMER_OFFENSE_PATH}/sumer-off-formation-tendency-wk{WEEK}.csv')\n",
    "sumer.shape"
   ]
  },
  {
   "cell_type": "markdown",
   "metadata": {},
   "source": [
    "## Offensive Line"
   ]
  },
  {
   "cell_type": "code",
   "execution_count": null,
   "metadata": {},
   "outputs": [],
   "source": [
    "sumer = pd.read_clipboard(sep='\\t')\n",
    "sumer.to_csv(f'{SUMER_OFFENSE_PATH}/sumer-off-line-wk{WEEK}.csv')\n",
    "sumer.shape"
   ]
  },
  {
   "cell_type": "markdown",
   "metadata": {},
   "source": [
    "## Defensive Overview"
   ]
  },
  {
   "cell_type": "code",
   "execution_count": null,
   "metadata": {},
   "outputs": [],
   "source": [
    "sumer = pd.read_clipboard()\n",
    "sumer.to_csv(f'{SUMER_DEFENSE_PATH}/sumer-def-team-overview-wk{WEEK}.csv')\n",
    "sumer.shape"
   ]
  },
  {
   "cell_type": "markdown",
   "metadata": {},
   "source": [
    "## Defensive Personnel Tendencies"
   ]
  },
  {
   "cell_type": "code",
   "execution_count": null,
   "metadata": {},
   "outputs": [],
   "source": [
    "sumer = pd.read_clipboard()\n",
    "sumer.to_csv(f'{SUMER_DEFENSE_PATH}/sumer-def-personnel-tendency-wk{WEEK}.csv')\n",
    "sumer.shape"
   ]
  },
  {
   "cell_type": "markdown",
   "metadata": {},
   "source": [
    "## Defensive Formation Tendencies"
   ]
  },
  {
   "cell_type": "code",
   "execution_count": null,
   "metadata": {},
   "outputs": [],
   "source": [
    "sumer = pd.read_clipboard()\n",
    "sumer.to_csv(f'{SUMER_DEFENSE_PATH}/sumer-def-formation-tendency-wk{WEEK}.csv')\n",
    "sumer.shape"
   ]
  },
  {
   "cell_type": "markdown",
   "metadata": {},
   "source": [
    "## QB"
   ]
  },
  {
   "cell_type": "code",
   "execution_count": null,
   "metadata": {},
   "outputs": [],
   "source": [
    "sumer = pd.read_clipboard()\n",
    "sumer.to_csv(f'{SUMER_PLAYER_PATH}/sumer-player-qb-wk{WEEK}.csv')\n",
    "sumer.shape"
   ]
  },
  {
   "cell_type": "markdown",
   "metadata": {},
   "source": [
    "## WR"
   ]
  },
  {
   "cell_type": "code",
   "execution_count": null,
   "metadata": {},
   "outputs": [],
   "source": [
    "sumer = pd.read_clipboard()\n",
    "sumer.to_csv(f'{SUMER_PLAYER_PATH}/sumer-player-wr-wk{WEEK}.csv')\n",
    "sumer.shape"
   ]
  },
  {
   "cell_type": "markdown",
   "metadata": {},
   "source": [
    "## TE"
   ]
  },
  {
   "cell_type": "code",
   "execution_count": null,
   "metadata": {},
   "outputs": [],
   "source": [
    "sumer = pd.read_clipboard()\n",
    "sumer.to_csv(f'{SUMER_PLAYER_PATH}/sumer-player-te-wk{WEEK}.csv')\n",
    "sumer.shape"
   ]
  },
  {
   "cell_type": "markdown",
   "metadata": {},
   "source": [
    "## RB"
   ]
  },
  {
   "cell_type": "code",
   "execution_count": null,
   "metadata": {},
   "outputs": [],
   "source": [
    "sumer = pd.read_clipboard()\n",
    "sumer.to_csv(f'{SUMER_PLAYER_PATH}/sumer-player-rb-wk{WEEK}.csv')\n",
    "sumer.shape"
   ]
  },
  {
   "cell_type": "markdown",
   "metadata": {},
   "source": [
    "## Def"
   ]
  },
  {
   "cell_type": "code",
   "execution_count": null,
   "metadata": {},
   "outputs": [],
   "source": [
    "sumer = pd.read_clipboard()\n",
    "sumer.to_csv(f'{SUMER_PLAYER_PATH}/sumer-player-def-wk{WEEK}.csv')\n",
    "sumer.shape"
   ]
  },
  {
   "cell_type": "markdown",
   "metadata": {},
   "source": [
    "# ZIP Data Folder"
   ]
  },
  {
   "cell_type": "code",
   "execution_count": null,
   "metadata": {},
   "outputs": [],
   "source": [
    "\n",
    "# Replace 'path_to_directory' with the path to the directory you want to zip\n",
    "directory_to_zip = str(DATA_PATH)\n",
    "\n",
    "# Replace 'output_zip_file.zip' with the desired name of your ZIP archive\n",
    "output_zip_file = f'../bin/data-archive-{SEASON}-wk-{WEEK}'\n",
    "# Create a ZIP archive of the directory recursively\n",
    "shutil.make_archive(output_zip_file, 'zip', directory_to_zip)"
   ]
  },
  {
   "cell_type": "code",
   "execution_count": null,
   "metadata": {},
   "outputs": [],
   "source": []
  },
  {
   "cell_type": "code",
   "execution_count": null,
   "metadata": {},
   "outputs": [],
   "source": []
  },
  {
   "cell_type": "code",
   "execution_count": null,
   "metadata": {},
   "outputs": [],
   "source": []
  },
  {
   "cell_type": "code",
   "execution_count": null,
   "metadata": {},
   "outputs": [],
   "source": []
  },
  {
   "cell_type": "code",
   "execution_count": null,
   "metadata": {},
   "outputs": [],
   "source": [
    "sumer_df = sumer_backup.copy()\n",
    "sumer_df = sumer_df.dropna(axis=1, how='all')\n",
    "sumer_df = sumer_df.dropna(subset=['Playoff'])\n",
    "sumer_df.columns = ['elo', 'wins', 'playoff', 'division', 'playoff_bye', 'conference', 'sb', 'first_pick', 'psos', 'fsos']"
   ]
  },
  {
   "cell_type": "code",
   "execution_count": null,
   "metadata": {},
   "outputs": [],
   "source": [
    "sumer_df.iloc[0, 'division']"
   ]
  },
  {
   "cell_type": "code",
   "execution_count": null,
   "metadata": {},
   "outputs": [],
   "source": [
    "for col in sumer_df.columns:\n",
    "    if df.loc[0, col]\n",
    "    sumer_df[col] = sumer_df[col].str.replace('%', '').astype(float)\n",
    "sumer_df['team'] = utils.get_nfl_teams()\n",
    "sumer_df = sumer_df.set_index('team')\n"
   ]
  },
  {
   "cell_type": "code",
   "execution_count": null,
   "metadata": {},
   "outputs": [],
   "source": [
    "utils.reduce_memory_usage(sumer_df)"
   ]
  },
  {
   "cell_type": "code",
   "execution_count": null,
   "metadata": {},
   "outputs": [],
   "source": []
  }
 ],
 "metadata": {
  "kernelspec": {
   "display_name": "nfl",
   "language": "python",
   "name": "python3"
  },
  "language_info": {
   "codemirror_mode": {
    "name": "ipython",
    "version": 3
   },
   "file_extension": ".py",
   "mimetype": "text/x-python",
   "name": "python",
   "nbconvert_exporter": "python",
   "pygments_lexer": "ipython3",
   "version": "3.10.12"
  },
  "orig_nbformat": 4
 },
 "nbformat": 4,
 "nbformat_minor": 2
}
