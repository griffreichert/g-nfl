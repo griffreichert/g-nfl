{
 "cells": [
  {
   "cell_type": "code",
   "execution_count": null,
   "metadata": {},
   "outputs": [],
   "source": [
    "import sys\n",
    "import os\n",
    "import math\n",
    "# Navigate up one level to the parent directory and append it to sys.path\n",
    "sys.path.append(os.path.abspath(os.path.join(os.getcwd(), os.pardir)))\n",
    "import nfl_data_py as nfl\n",
    "import pandas as pd\n",
    "\n",
    "from sklearn.linear_model import LogisticRegression\n",
    "import plotly.express as px\n",
    "\n",
    "from src import utils\n",
    "from src import homers"
   ]
  },
  {
   "cell_type": "markdown",
   "metadata": {},
   "source": [
    "# Research Question Pool\n",
    "\n",
    "* could we allocate coefficients for voting?\n",
    "\n",
    "* Were we homers? (picking our teams, picking the same teams)\n",
    "\n",
    "* Was there correlation between doing well one week, and doing well the next week?\n",
    "\n",
    "* What trends emerged (picking home/away, dogs/favorites)\n",
    "\n",
    "* how did our underdog and SD picks fare against the spread\n",
    "\n",
    "* Did the different lines matter?"
   ]
  },
  {
   "cell_type": "code",
   "execution_count": null,
   "metadata": {},
   "outputs": [],
   "source": [
    "df = pd.read_pickle(homers.PROCESSED_FILE_PATH)"
   ]
  },
  {
   "cell_type": "markdown",
   "metadata": {},
   "source": [
    "# Weekly Update"
   ]
  },
  {
   "cell_type": "code",
   "execution_count": null,
   "metadata": {},
   "outputs": [],
   "source": [
    "# Filter for the rows with the highest season\n",
    "season_df = df[df['season'] == df['season'].max()]\n",
    "# Now, create a subset for the latest week in the highest season\n",
    "week_df = season_df[season_df['week'] == season_df['week'].max()]\n",
    "week_df.shape"
   ]
  },
  {
   "cell_type": "code",
   "execution_count": null,
   "metadata": {},
   "outputs": [],
   "source": [
    "homers.plot_scores(week_df)"
   ]
  },
  {
   "cell_type": "code",
   "execution_count": null,
   "metadata": {},
   "outputs": [],
   "source": []
  },
  {
   "cell_type": "code",
   "execution_count": null,
   "metadata": {},
   "outputs": [],
   "source": [
    "homers.plot_scores(season_df, 'spread_pick', agg_sum=False)\n",
    "latest_week = max(season_df[season_df['season'] == max(season_df['season'])]['week'])\n",
    "last_4_week_criteria = season_df['week'] > latest_week - 4\n",
    "homers.plot_scores(season_df[last_4_week_criteria], 'spread_pick', agg_sum=False)"
   ]
  },
  {
   "cell_type": "code",
   "execution_count": null,
   "metadata": {},
   "outputs": [],
   "source": [
    "homers.plot_scores(df, 'spread_pick', agg_sum=False)"
   ]
  },
  {
   "cell_type": "code",
   "execution_count": null,
   "metadata": {},
   "outputs": [],
   "source": [
    "homers.plot_scores(week_df, 'best_bet')"
   ]
  },
  {
   "cell_type": "code",
   "execution_count": null,
   "metadata": {},
   "outputs": [],
   "source": [
    "homers.plot_scores(season_df, 'best_bet', agg_sum=False)"
   ]
  },
  {
   "cell_type": "code",
   "execution_count": null,
   "metadata": {},
   "outputs": [],
   "source": [
    "homers.plot_scores(week_df, 'underdog_pick')"
   ]
  },
  {
   "cell_type": "code",
   "execution_count": null,
   "metadata": {},
   "outputs": [],
   "source": [
    "homers.plot_scores(season_df, 'underdog_pick', agg_sum=False)\n",
    "homers.plot_scores(df, 'underdog_pick', agg_sum=False)"
   ]
  },
  {
   "cell_type": "code",
   "execution_count": null,
   "metadata": {},
   "outputs": [],
   "source": [
    "homers.plot_scores(week_df, 'survivor_pick')"
   ]
  },
  {
   "cell_type": "markdown",
   "metadata": {},
   "source": [
    "# Consensus picks\n",
    "\n",
    "* If we do a simple sum up of consensus picks, how did that score?\n",
    "* What if we try a zero sum consensus?\n",
    "* are the picks we are all on the same side on actually bad? majority vs no oposition? unanimous?"
   ]
  },
  {
   "cell_type": "code",
   "execution_count": null,
   "metadata": {},
   "outputs": [],
   "source": [
    "SEASON, WEEK = 2023, 4\n",
    "df = pd.read_pickle(homers.PROCESSED_FILE_PATH)"
   ]
  },
  {
   "cell_type": "code",
   "execution_count": null,
   "metadata": {},
   "outputs": [],
   "source": [
    "# individual = df[(df['season']==SEASON) & (df['week'] == WEEK) & (df['picker'] != 'final') & (df['spread_pick']) & (~df['mnf_pick'])].copy()\n",
    "individual = df[(df['picker'] != 'final') & (df['spread_pick']) & (~df['mnf_pick'])].copy()"
   ]
  },
  {
   "cell_type": "code",
   "execution_count": null,
   "metadata": {},
   "outputs": [],
   "source": [
    "individual['pick_multiplier'] = individual['best_bet'] + 1"
   ]
  },
  {
   "cell_type": "code",
   "execution_count": null,
   "metadata": {},
   "outputs": [],
   "source": [
    "individual"
   ]
  },
  {
   "cell_type": "code",
   "execution_count": null,
   "metadata": {},
   "outputs": [],
   "source": [
    "consensus = individual.groupby(['pick', 'season', 'week'])[['spread_pick', 'best_bet']].sum().reset_index()\n",
    "consensus['weighted_consensus'] = consensus['spread_pick'] + consensus['best_bet']\n",
    "consensus = consensus.rename(columns={'spread_pick':'consensus'})\n",
    "consensus = consensus.sort_values(by='weighted_consensus', ascending=False)\n",
    "consensus = consensus.drop('best_bet', axis=1)\n",
    "consensus"
   ]
  },
  {
   "cell_type": "code",
   "execution_count": null,
   "metadata": {},
   "outputs": [],
   "source": [
    "df = pd.merge(consensus, individual[['season', 'week', 'pick', 'pick_result']], on=['season', 'week', 'pick'])\n",
    "df = df.drop_duplicates()\n",
    "df['pick_result'] = df.pick_result.apply(lambda x: math.ceil(math.floor(x) / 2))\n",
    "df"
   ]
  },
  {
   "cell_type": "code",
   "execution_count": null,
   "metadata": {},
   "outputs": [],
   "source": [
    "col = 'weighted_consensus'"
   ]
  },
  {
   "cell_type": "code",
   "execution_count": null,
   "metadata": {},
   "outputs": [],
   "source": [
    "model = LogisticRegression()\n",
    "model.fit(df[[col]], df['pick_result'])\n",
    "print(model.coef_[0][0])\n",
    "math.exp(model.coef_[0][0])"
   ]
  },
  {
   "cell_type": "code",
   "execution_count": null,
   "metadata": {},
   "outputs": [],
   "source": [
    "df.groupby(col).pick_result.count()"
   ]
  },
  {
   "cell_type": "code",
   "execution_count": null,
   "metadata": {},
   "outputs": [],
   "source": [
    "df.groupby(col).pick_result.mean()"
   ]
  },
  {
   "cell_type": "code",
   "execution_count": null,
   "metadata": {},
   "outputs": [],
   "source": [
    "fig = px.bar(\n",
    "    df.groupby(col).pick_result.count(),\n",
    "    text_auto=True,\n",
    "    title=f'Pick count by {col} score'\n",
    ")\n",
    "fig.show()"
   ]
  },
  {
   "cell_type": "code",
   "execution_count": null,
   "metadata": {},
   "outputs": [],
   "source": [
    "fig = px.bar(\n",
    "    df.groupby(col).pick_result.mean().round(2),\n",
    "    text_auto=True,\n",
    "    title=f'Pick % by {col} score'\n",
    ")\n",
    "fig.show()"
   ]
  },
  {
   "cell_type": "code",
   "execution_count": null,
   "metadata": {},
   "outputs": [],
   "source": [
    "df"
   ]
  },
  {
   "cell_type": "code",
   "execution_count": null,
   "metadata": {},
   "outputs": [],
   "source": []
  },
  {
   "cell_type": "code",
   "execution_count": null,
   "metadata": {},
   "outputs": [],
   "source": [
    "schedule = nfl.import_schedules([SEASON])\n",
    "week_schedule = schedule[schedule['week']==WEEK]\n",
    "week_schedule"
   ]
  },
  {
   "cell_type": "code",
   "execution_count": null,
   "metadata": {},
   "outputs": [],
   "source": [
    "opponent_dict = dict(**dict(zip(week_schedule['away_team'], week_schedule['home_team'])), **dict(zip(week_schedule['home_team'], week_schedule['away_team'])))\n",
    "consensus['opponent'] = consensus['pick'].map(opponent_dict)\n",
    "consensus = pd.merge(consensus, consensus[['spread_pick', 'best_bet', 'weighted_consensus', 'opponent']], left_on='pick', right_on='opponent', suffixes=(\"\", '_opponent'))\n",
    "consensus = consensus.drop(columns=['opponent', 'pick_opponent'])\n",
    "consensus"
   ]
  },
  {
   "cell_type": "code",
   "execution_count": null,
   "metadata": {},
   "outputs": [],
   "source": [
    "pd.merge(consensus, individual, left_index=True, right_on='pick')"
   ]
  },
  {
   "cell_type": "markdown",
   "metadata": {},
   "source": [
    "# Team Pick Frequency & Homerism"
   ]
  },
  {
   "cell_type": "code",
   "execution_count": null,
   "metadata": {},
   "outputs": [],
   "source": [
    "spread_picks = df[df['spread_pick'] & (df['season'] == 2023)].copy()\n",
    "spread_picks['win'] = spread_picks['pick_result'] >= 1\n",
    "spread_picks"
   ]
  },
  {
   "cell_type": "code",
   "execution_count": null,
   "metadata": {},
   "outputs": [],
   "source": [
    "for picker in spread_picks['picker'].unique():\n",
    "    tmp = (\n",
    "        spread_picks[spread_picks['picker'] == str(picker)]\n",
    "        .groupby('pick')['pick']\n",
    "        .count()\n",
    "        .sort_values(ascending=False)\n",
    "        .to_frame()\n",
    "        .rename(columns={'pick': 'times_picked'})\n",
    "        .reindex(utils.nfl_teams, fill_value=0)\n",
    "        .reset_index()\n",
    "        .rename(columns={'pick': 'team'})\n",
    "    )\n",
    "       \n",
    "    col = 'times_picked'\n",
    "\n",
    "    # Create the bar chart\n",
    "    fig = px.bar(tmp, x=col, y='team', orientation='h', color='team', color_discrete_map=utils.team_unique_colors)\n",
    "\n",
    "\n",
    "    tmp2 = spread_picks[spread_picks['picker'] == picker].groupby('pick')['best_bet'].sum().sort_values(ascending=False).to_frame().rename(columns={'pick': 'times_picked'}).reset_index().rename(columns={'pick': 'team'})\n",
    "    tmp2['color'] = tmp2['team'].map(utils.team_unique_colors)\n",
    "    \n",
    "    tmp = pd.merge(tmp, tmp2, how='left', on='team').fillna(0)\n",
    "    \n",
    "    # Duplicate the data to create the stacked bar with lower opacity\n",
    "    fig.add_bar(x=tmp['best_bet'], y=tmp['team'], orientation='h', marker_color=tmp['color'], opacity=0.5)\n",
    "\n",
    "    fig.update_yaxes(categoryorder='total ascending')\n",
    "    fig.update_layout(\n",
    "        height=1000,\n",
    "        width=800,\n",
    "        xaxis_title=f'Times Picked ATS',\n",
    "        yaxis_title='Teams',\n",
    "        title=f'Times {picker.capitalize()} Picked a Team ATS',\n",
    "    )\n",
    "    fig.update_traces(showlegend=False)\n",
    "\n",
    "    # Iterate through the data and add logos to the chart\n",
    "    for index, row in tmp.iterrows():\n",
    "        team = row['team']\n",
    "        scale = 1.25\n",
    "        fig.add_layout_image(\n",
    "            dict(source=f'https://a.espncdn.com/i/teamlogos/nfl/500/{team}.png',\n",
    "                x=row[col]+row['best_bet'],  # Adjust the position\n",
    "                y=team,\n",
    "                xref=\"x\",\n",
    "                yref=\"y\",\n",
    "                sizex=scale,  # Adjust the size\n",
    "                sizey=scale,  # Adjust the size\n",
    "                sizing=\"contain\",\n",
    "                opacity=1,\n",
    "                xanchor=\"center\",\n",
    "                yanchor=\"middle\",        \n",
    "            )\n",
    "        )\n",
    "\n",
    "    # Show the chart\n",
    "    fig.show()"
   ]
  },
  {
   "cell_type": "markdown",
   "metadata": {},
   "source": [
    "## How many times do we pick against teams?"
   ]
  },
  {
   "cell_type": "code",
   "execution_count": null,
   "metadata": {},
   "outputs": [],
   "source": [
    "find_opponent = lambda row: row.home_team if row.away_team == row.pick else row.away_team\n",
    "spread_picks['opponent'] = spread_picks.apply(find_opponent, axis=1)\n",
    "spread_picks.head()"
   ]
  },
  {
   "cell_type": "code",
   "execution_count": null,
   "metadata": {},
   "outputs": [],
   "source": [
    "for picker in spread_picks['picker'].unique():\n",
    "    tmp = (\n",
    "        spread_picks[spread_picks['picker'] == str(picker)]\n",
    "        .groupby('opponent')['opponent']\n",
    "        .count()\n",
    "        .sort_values(ascending=False)\n",
    "        .to_frame()\n",
    "        .rename(columns={'opponent': 'times_picked_against'})\n",
    "        .reindex(utils.nfl_teams, fill_value=0)\n",
    "        .reset_index()\n",
    "        .rename(columns={'opponent': 'team'})\n",
    "    )\n",
    "    \n",
    "    col = 'times_picked_against'\n",
    "\n",
    "    # Create the bar chart\n",
    "    fig = px.bar(tmp, x=col, y='team', orientation='h', color='team', color_discrete_map=utils.team_unique_colors)\n",
    "    \n",
    "    tmp2 = (\n",
    "        spread_picks[spread_picks['picker'] == picker]\n",
    "        .groupby('opponent')['best_bet']\n",
    "        .sum()\n",
    "        .sort_values(ascending=False)\n",
    "        .to_frame()\n",
    "        .rename(columns={'opponent': 'times_picked_against'})\n",
    "        .reset_index()\n",
    "        .rename(columns={'opponent': 'team'})\n",
    "    )\n",
    "    \n",
    "    tmp2['color'] = tmp2['team'].map(utils.team_unique_colors)\n",
    "    \n",
    "    tmp = pd.merge(tmp, tmp2, how='left', on='team').fillna(0)\n",
    "    \n",
    "    # Duplicate the data to create the stacked bar with lower opacity\n",
    "    fig.add_bar(x=tmp['best_bet'], y=tmp['team'], orientation='h', marker_color=tmp['color'], opacity=0.5)\n",
    "\n",
    "    fig.update_yaxes(categoryorder='total ascending')\n",
    "    fig.update_layout(\n",
    "        height=1000,\n",
    "        width=800,\n",
    "        xaxis_title=f'Times Picked Against',\n",
    "        yaxis_title='Teams',\n",
    "        title=f'Times {picker.capitalize()} Picked Against a Team ATS',\n",
    "    )\n",
    "    fig.update_traces(showlegend=False)\n",
    "\n",
    "    # Iterate through the data and add logos to the chart\n",
    "    for index, row in tmp.iterrows():\n",
    "        team = row['team']\n",
    "        scale = 1.25\n",
    "        fig.add_layout_image(\n",
    "            dict(source=f'https://a.espncdn.com/i/teamlogos/nfl/500/{team}.png',\n",
    "                x=row[col]+row['best_bet'],  # Adjust the position\n",
    "                y=team,\n",
    "                xref=\"x\",\n",
    "                yref=\"y\",\n",
    "                sizex=scale,  # Adjust the size\n",
    "                sizey=scale,  # Adjust the size\n",
    "                sizing=\"contain\",\n",
    "                opacity=1,\n",
    "                xanchor=\"center\",\n",
    "                yanchor=\"middle\",        \n",
    "            )\n",
    "        )\n",
    "\n",
    "    # Show the chart\n",
    "    fig.show()"
   ]
  },
  {
   "cell_type": "code",
   "execution_count": null,
   "metadata": {},
   "outputs": [],
   "source": [
    "picker = 'griffin'\n",
    "\n",
    "against_tmp = (\n",
    "    spread_picks[spread_picks['picker'] == picker]\n",
    "    .groupby('opponent')['opponent']\n",
    "    .count()\n",
    "    .sort_values(ascending=False)\n",
    "    .to_frame()\n",
    "    .rename(columns={'opponent': 'times_picked_against'})\n",
    "    .reindex(utils.nfl_teams, fill_value=0)\n",
    "    .reset_index()\n",
    "    .rename(columns={'opponent': 'team'})\n",
    ")\n",
    "\n",
    "col = 'times_picked_against'\n",
    "\n",
    "\n",
    "against_tmp2 = (\n",
    "    spread_picks[spread_picks['picker'] == picker]\n",
    "    .groupby('opponent')['best_bet']\n",
    "    .sum()\n",
    "    .sort_values(ascending=False)\n",
    "    .to_frame()\n",
    "    .rename(columns={'opponent': 'times_picked_against'})\n",
    "    .reset_index()\n",
    "    .rename(columns={'opponent': 'team'})\n",
    ")\n",
    "\n",
    "# against_tmp2['color'] = against_tmp2['team'].map(utils.team_unique_colors)\n",
    "\n",
    "against_tmp = pd.merge(against_tmp, against_tmp2, how='left', on='team').fillna(0)\n",
    "\n",
    "against_tmp['times_picked_against'] = against_tmp['times_picked_against'] + against_tmp['best_bet'].astype('int')\n",
    "against_tmp = against_tmp.drop(columns=['best_bet'])\n",
    "against_tmp"
   ]
  },
  {
   "cell_type": "code",
   "execution_count": null,
   "metadata": {},
   "outputs": [],
   "source": [
    "picker = 'griffin'\n",
    "\n",
    "tmp = (\n",
    "    spread_picks[spread_picks['picker'] == picker]\n",
    "    .groupby('pick')['pick']\n",
    "    .count()\n",
    "    .sort_values(ascending=False)\n",
    "    .to_frame()\n",
    "    .rename(columns={'pick': 'times_picked'})\n",
    "    .reindex(utils.nfl_teams, fill_value=0)\n",
    "    .reset_index()\n",
    "    .rename(columns={'pick': 'team'})\n",
    ")\n",
    "    \n",
    "col = 'times_picked'\n",
    "\n",
    "\n",
    "tmp2 = (\n",
    "    spread_picks[spread_picks['picker'] == picker]\n",
    "    .groupby('pick')['best_bet']\n",
    "    .sum()\n",
    "    .sort_values(ascending=False)\n",
    "    .to_frame()\n",
    "    .rename(columns={'pick': 'times_picked'})\n",
    "    .reset_index()\n",
    "    .rename(columns={'pick': 'team'})\n",
    ")\n",
    "# tmp2['color'] = tmp2['team'].map(utils.team_unique_colors)\n",
    "\n",
    "tmp = pd.merge(tmp, tmp2, how='left', on='team').fillna(0)\n",
    "\n",
    "tmp['times_picked'] = tmp['times_picked'] + tmp['best_bet'].astype('int')\n",
    "tmp = tmp.drop(columns=['best_bet'])\n",
    "tmp\n",
    "\n",
    "# against_tmp['times_picked_against'] = against_tmp['times_picked_against'] + against_tmp['best_bet'].astype('int')\n",
    "# against_tmp = against_tmp.drop(columns=['best_bet'])\n",
    "# against_tmp"
   ]
  },
  {
   "cell_type": "code",
   "execution_count": null,
   "metadata": {},
   "outputs": [],
   "source": [
    "combined = pd.merge(tmp, against_tmp)\n",
    "combined['color'] = combined['team'].map(utils.team_unique_colors)\n",
    "\n",
    "fig = px.scatter(combined, x='times_picked', y='times_picked_against', color='team', color_discrete_map=utils.team_unique_colors)\n",
    "\n",
    "fig.update_layout(\n",
    "    height=600,\n",
    "    width=800,\n",
    "    xaxis_title=f'Times Picked',\n",
    "    yaxis_title='Times',\n",
    "    title=f'Times {picker.capitalize()} Picked Against a Team ATS',\n",
    ")\n",
    "fig.update_traces(showlegend=False)\n",
    "\n",
    "# Iterate through the data and add logos to the chart\n",
    "for index, row in tmp.iterrows():\n",
    "    team = row['team']\n",
    "    scale = 1.25\n",
    "    fig.add_layout_image(\n",
    "        dict(source=f'https://a.espncdn.com/i/teamlogos/nfl/500/{team}.png',\n",
    "            x=row[col]+row['best_bet'],  # Adjust the position\n",
    "            y=team,\n",
    "            xref=\"x\",\n",
    "            yref=\"y\",\n",
    "            sizex=scale,  # Adjust the size\n",
    "            sizey=scale,  # Adjust the size\n",
    "            sizing=\"contain\",\n",
    "            opacity=1,\n",
    "            xanchor=\"center\",\n",
    "            yanchor=\"middle\",        \n",
    "        )\n",
    "    )"
   ]
  },
  {
   "cell_type": "markdown",
   "metadata": {},
   "source": [
    "# Graveyard"
   ]
  },
  {
   "cell_type": "markdown",
   "metadata": {},
   "source": [
    "what do i need to do:\n",
    "* find the most popular picks\n",
    "* make a list of them with \"consensus\" as the picker and the other necessary cols\n",
    "* join in nfl data and evaluate\n"
   ]
  },
  {
   "cell_type": "code",
   "execution_count": null,
   "metadata": {},
   "outputs": [],
   "source": [
    "nfl_df = nfl.import_schedules([SEASON])[['game_id', 'season', 'week', 'away_team', 'home_team', 'away_score', 'home_score', 'result', 'spread_line']] \n",
    "\n",
    "\n",
    "\n",
    "\n",
    "# turn pick types into one hot cols to make lookup faster\n",
    "transformed['spread_pick'] = transformed['pick_type'].map({'ud': False, 'sd': False}).fillna(True)\n",
    "transformed['best_bet'] = transformed['pick_type'] == 'bb'\n",
    "transformed['underdog_pick'] = transformed['pick_type'] == 'ud'\n",
    "transformed['survivor_pick'] = transformed['pick_type'] == 'sd'\n",
    "transformed['mnf_pick'] = transformed['pick_type'] == 'mnf'\n",
    "transformed = transformed.drop(columns='pick_type')\n",
    "\n",
    "# join home and away picks\n",
    "joined_away = pd.merge(\n",
    "    transformed, \n",
    "    nfl_df,\n",
    "    left_on=['season', 'week', 'pick'],\n",
    "    right_on=['season', 'week', 'away_team']\n",
    ")\n",
    "joined_home = pd.merge(\n",
    "    transformed, \n",
    "    nfl_df,\n",
    "    left_on=['season', 'week', 'pick'],\n",
    "    right_on=['season', 'week', 'home_team']\n",
    ")\n",
    "\n",
    "\n",
    "week_final_picks = pd.concat([joined_home, joined_away], ignore_index=True)\n",
    "week_final_picks['away_pick'] = week_final_picks['pick'] == week_final_picks['away_team']\n",
    "week_final_picks['away_cover'] = week_final_picks.apply(utils.cover_result, axis=1)\n",
    "week_final_picks['home_cover'] = 1 - week_final_picks['away_cover']\n",
    "week_final_picks['pick_result'] = week_final_picks.apply(utils.pick_result, axis=1)\n",
    "\n"
   ]
  },
  {
   "cell_type": "code",
   "execution_count": null,
   "metadata": {},
   "outputs": [],
   "source": []
  },
  {
   "cell_type": "code",
   "execution_count": null,
   "metadata": {},
   "outputs": [],
   "source": []
  }
 ],
 "metadata": {
  "kernelspec": {
   "display_name": "nfl",
   "language": "python",
   "name": "python3"
  },
  "language_info": {
   "codemirror_mode": {
    "name": "ipython",
    "version": 3
   },
   "file_extension": ".py",
   "mimetype": "text/x-python",
   "name": "python",
   "nbconvert_exporter": "python",
   "pygments_lexer": "ipython3",
   "version": "3.10.12"
  }
 },
 "nbformat": 4,
 "nbformat_minor": 2
}
