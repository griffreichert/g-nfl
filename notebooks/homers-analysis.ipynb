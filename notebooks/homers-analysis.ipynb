{
 "cells": [
  {
   "cell_type": "code",
   "execution_count": 1,
   "metadata": {},
   "outputs": [],
   "source": [
    "import sys\n",
    "import os\n",
    "import math\n",
    "# Navigate up one level to the parent directory and append it to sys.path\n",
    "sys.path.append(os.path.abspath(os.path.join(os.getcwd(), os.pardir)))\n",
    "import nfl_data_py as nfl\n",
    "import pandas as pd\n",
    "\n",
    "from sklearn.linear_model import LogisticRegression\n",
    "import plotly.express as px\n",
    "\n",
    "from src import utils\n",
    "from src import homers"
   ]
  },
  {
   "cell_type": "markdown",
   "metadata": {},
   "source": [
    "# Research Question Pool\n",
    "\n",
    "* could we allocate coefficients for voting?\n",
    "\n",
    "* Were we homers? (picking our teams, picking the same teams)\n",
    "\n",
    "* Was there correlation between doing well one week, and doing well the next week?\n",
    "\n",
    "* What trends emerged (picking home/away, dogs/favorites)\n",
    "\n",
    "* how did our underdog and SD picks fare against the spread\n",
    "\n",
    "* Did the different lines matter?"
   ]
  },
  {
   "cell_type": "code",
   "execution_count": 2,
   "metadata": {},
   "outputs": [],
   "source": [
    "df = pd.read_pickle(homers.PROCESSED_FILE_PATH)"
   ]
  },
  {
   "cell_type": "markdown",
   "metadata": {},
   "source": [
    "# Weekly Update"
   ]
  },
  {
   "cell_type": "code",
   "execution_count": 3,
   "metadata": {},
   "outputs": [
    {
     "data": {
      "text/plain": [
       "(54, 18)"
      ]
     },
     "execution_count": 3,
     "metadata": {},
     "output_type": "execute_result"
    }
   ],
   "source": [
    "# Filter for the rows with the highest season\n",
    "season_df = df[df['season'] == df['season'].max()]\n",
    "# Now, create a subset for the latest week in the highest season\n",
    "week_df = season_df[season_df['week'] == season_df['week'].max()]\n",
    "week_df.shape"
   ]
  },
  {
   "cell_type": "code",
   "execution_count": 4,
   "metadata": {},
   "outputs": [
    {
     "data": {
      "application/vnd.plotly.v1+json": {
       "config": {
        "plotlyServerURL": "https://plot.ly"
       },
       "data": [
        {
         "alignmentgroup": "True",
         "hovertemplate": "picker=%{y}<br>pick_result=%{x}<extra></extra>",
         "legendgroup": "harry",
         "marker": {
          "color": "#311D00",
          "pattern": {
           "shape": ""
          }
         },
         "name": "harry",
         "offsetgroup": "harry",
         "orientation": "h",
         "showlegend": false,
         "textposition": "auto",
         "texttemplate": "%{x}",
         "type": "bar",
         "x": [
          6
         ],
         "xaxis": "x",
         "y": [
          "harry"
         ],
         "yaxis": "y"
        },
        {
         "alignmentgroup": "True",
         "hovertemplate": "picker=%{y}<br>pick_result=%{x}<extra></extra>",
         "legendgroup": "chuck",
         "marker": {
          "color": "#0B162A",
          "pattern": {
           "shape": ""
          }
         },
         "name": "chuck",
         "offsetgroup": "chuck",
         "orientation": "h",
         "showlegend": false,
         "textposition": "auto",
         "texttemplate": "%{x}",
         "type": "bar",
         "x": [
          4
         ],
         "xaxis": "x",
         "y": [
          "chuck"
         ],
         "yaxis": "y"
        },
        {
         "alignmentgroup": "True",
         "hovertemplate": "picker=%{y}<br>pick_result=%{x}<extra></extra>",
         "legendgroup": "griffin",
         "marker": {
          "color": "#FF3C00",
          "pattern": {
           "shape": ""
          }
         },
         "name": "griffin",
         "offsetgroup": "griffin",
         "orientation": "h",
         "showlegend": false,
         "textposition": "auto",
         "texttemplate": "%{x}",
         "type": "bar",
         "x": [
          4
         ],
         "xaxis": "x",
         "y": [
          "griffin"
         ],
         "yaxis": "y"
        },
        {
         "alignmentgroup": "True",
         "hovertemplate": "picker=%{y}<br>pick_result=%{x}<extra></extra>",
         "legendgroup": "hunter",
         "marker": {
          "color": "#A71930",
          "pattern": {
           "shape": ""
          }
         },
         "name": "hunter",
         "offsetgroup": "hunter",
         "orientation": "h",
         "showlegend": false,
         "textposition": "auto",
         "texttemplate": "%{x}",
         "type": "bar",
         "x": [
          3
         ],
         "xaxis": "x",
         "y": [
          "hunter"
         ],
         "yaxis": "y"
        },
        {
         "alignmentgroup": "True",
         "hovertemplate": "picker=%{y}<br>pick_result=%{x}<extra></extra>",
         "legendgroup": "final",
         "marker": {
          "color": "#B3995D",
          "pattern": {
           "shape": ""
          }
         },
         "name": "final",
         "offsetgroup": "final",
         "orientation": "h",
         "showlegend": false,
         "textposition": "auto",
         "texttemplate": "%{x}",
         "type": "bar",
         "x": [
          2
         ],
         "xaxis": "x",
         "y": [
          "final"
         ],
         "yaxis": "y"
        },
        {
         "alignmentgroup": "True",
         "hovertemplate": "picker=%{y}<br>pick_result=%{x}<extra></extra>",
         "legendgroup": "ben",
         "marker": {
          "color": "#5A1414",
          "pattern": {
           "shape": ""
          }
         },
         "name": "ben",
         "offsetgroup": "ben",
         "orientation": "h",
         "showlegend": false,
         "textposition": "auto",
         "texttemplate": "%{x}",
         "type": "bar",
         "x": [
          1.5
         ],
         "xaxis": "x",
         "y": [
          "ben"
         ],
         "yaxis": "y"
        }
       ],
       "layout": {
        "barmode": "relative",
        "height": 500,
        "legend": {
         "title": {
          "text": "picker"
         },
         "tracegroupgap": 0
        },
        "template": {
         "data": {
          "bar": [
           {
            "error_x": {
             "color": "#2a3f5f"
            },
            "error_y": {
             "color": "#2a3f5f"
            },
            "marker": {
             "line": {
              "color": "#E5ECF6",
              "width": 0.5
             },
             "pattern": {
              "fillmode": "overlay",
              "size": 10,
              "solidity": 0.2
             }
            },
            "type": "bar"
           }
          ],
          "barpolar": [
           {
            "marker": {
             "line": {
              "color": "#E5ECF6",
              "width": 0.5
             },
             "pattern": {
              "fillmode": "overlay",
              "size": 10,
              "solidity": 0.2
             }
            },
            "type": "barpolar"
           }
          ],
          "carpet": [
           {
            "aaxis": {
             "endlinecolor": "#2a3f5f",
             "gridcolor": "white",
             "linecolor": "white",
             "minorgridcolor": "white",
             "startlinecolor": "#2a3f5f"
            },
            "baxis": {
             "endlinecolor": "#2a3f5f",
             "gridcolor": "white",
             "linecolor": "white",
             "minorgridcolor": "white",
             "startlinecolor": "#2a3f5f"
            },
            "type": "carpet"
           }
          ],
          "choropleth": [
           {
            "colorbar": {
             "outlinewidth": 0,
             "ticks": ""
            },
            "type": "choropleth"
           }
          ],
          "contour": [
           {
            "colorbar": {
             "outlinewidth": 0,
             "ticks": ""
            },
            "colorscale": [
             [
              0,
              "#0d0887"
             ],
             [
              0.1111111111111111,
              "#46039f"
             ],
             [
              0.2222222222222222,
              "#7201a8"
             ],
             [
              0.3333333333333333,
              "#9c179e"
             ],
             [
              0.4444444444444444,
              "#bd3786"
             ],
             [
              0.5555555555555556,
              "#d8576b"
             ],
             [
              0.6666666666666666,
              "#ed7953"
             ],
             [
              0.7777777777777778,
              "#fb9f3a"
             ],
             [
              0.8888888888888888,
              "#fdca26"
             ],
             [
              1,
              "#f0f921"
             ]
            ],
            "type": "contour"
           }
          ],
          "contourcarpet": [
           {
            "colorbar": {
             "outlinewidth": 0,
             "ticks": ""
            },
            "type": "contourcarpet"
           }
          ],
          "heatmap": [
           {
            "colorbar": {
             "outlinewidth": 0,
             "ticks": ""
            },
            "colorscale": [
             [
              0,
              "#0d0887"
             ],
             [
              0.1111111111111111,
              "#46039f"
             ],
             [
              0.2222222222222222,
              "#7201a8"
             ],
             [
              0.3333333333333333,
              "#9c179e"
             ],
             [
              0.4444444444444444,
              "#bd3786"
             ],
             [
              0.5555555555555556,
              "#d8576b"
             ],
             [
              0.6666666666666666,
              "#ed7953"
             ],
             [
              0.7777777777777778,
              "#fb9f3a"
             ],
             [
              0.8888888888888888,
              "#fdca26"
             ],
             [
              1,
              "#f0f921"
             ]
            ],
            "type": "heatmap"
           }
          ],
          "heatmapgl": [
           {
            "colorbar": {
             "outlinewidth": 0,
             "ticks": ""
            },
            "colorscale": [
             [
              0,
              "#0d0887"
             ],
             [
              0.1111111111111111,
              "#46039f"
             ],
             [
              0.2222222222222222,
              "#7201a8"
             ],
             [
              0.3333333333333333,
              "#9c179e"
             ],
             [
              0.4444444444444444,
              "#bd3786"
             ],
             [
              0.5555555555555556,
              "#d8576b"
             ],
             [
              0.6666666666666666,
              "#ed7953"
             ],
             [
              0.7777777777777778,
              "#fb9f3a"
             ],
             [
              0.8888888888888888,
              "#fdca26"
             ],
             [
              1,
              "#f0f921"
             ]
            ],
            "type": "heatmapgl"
           }
          ],
          "histogram": [
           {
            "marker": {
             "pattern": {
              "fillmode": "overlay",
              "size": 10,
              "solidity": 0.2
             }
            },
            "type": "histogram"
           }
          ],
          "histogram2d": [
           {
            "colorbar": {
             "outlinewidth": 0,
             "ticks": ""
            },
            "colorscale": [
             [
              0,
              "#0d0887"
             ],
             [
              0.1111111111111111,
              "#46039f"
             ],
             [
              0.2222222222222222,
              "#7201a8"
             ],
             [
              0.3333333333333333,
              "#9c179e"
             ],
             [
              0.4444444444444444,
              "#bd3786"
             ],
             [
              0.5555555555555556,
              "#d8576b"
             ],
             [
              0.6666666666666666,
              "#ed7953"
             ],
             [
              0.7777777777777778,
              "#fb9f3a"
             ],
             [
              0.8888888888888888,
              "#fdca26"
             ],
             [
              1,
              "#f0f921"
             ]
            ],
            "type": "histogram2d"
           }
          ],
          "histogram2dcontour": [
           {
            "colorbar": {
             "outlinewidth": 0,
             "ticks": ""
            },
            "colorscale": [
             [
              0,
              "#0d0887"
             ],
             [
              0.1111111111111111,
              "#46039f"
             ],
             [
              0.2222222222222222,
              "#7201a8"
             ],
             [
              0.3333333333333333,
              "#9c179e"
             ],
             [
              0.4444444444444444,
              "#bd3786"
             ],
             [
              0.5555555555555556,
              "#d8576b"
             ],
             [
              0.6666666666666666,
              "#ed7953"
             ],
             [
              0.7777777777777778,
              "#fb9f3a"
             ],
             [
              0.8888888888888888,
              "#fdca26"
             ],
             [
              1,
              "#f0f921"
             ]
            ],
            "type": "histogram2dcontour"
           }
          ],
          "mesh3d": [
           {
            "colorbar": {
             "outlinewidth": 0,
             "ticks": ""
            },
            "type": "mesh3d"
           }
          ],
          "parcoords": [
           {
            "line": {
             "colorbar": {
              "outlinewidth": 0,
              "ticks": ""
             }
            },
            "type": "parcoords"
           }
          ],
          "pie": [
           {
            "automargin": true,
            "type": "pie"
           }
          ],
          "scatter": [
           {
            "fillpattern": {
             "fillmode": "overlay",
             "size": 10,
             "solidity": 0.2
            },
            "type": "scatter"
           }
          ],
          "scatter3d": [
           {
            "line": {
             "colorbar": {
              "outlinewidth": 0,
              "ticks": ""
             }
            },
            "marker": {
             "colorbar": {
              "outlinewidth": 0,
              "ticks": ""
             }
            },
            "type": "scatter3d"
           }
          ],
          "scattercarpet": [
           {
            "marker": {
             "colorbar": {
              "outlinewidth": 0,
              "ticks": ""
             }
            },
            "type": "scattercarpet"
           }
          ],
          "scattergeo": [
           {
            "marker": {
             "colorbar": {
              "outlinewidth": 0,
              "ticks": ""
             }
            },
            "type": "scattergeo"
           }
          ],
          "scattergl": [
           {
            "marker": {
             "colorbar": {
              "outlinewidth": 0,
              "ticks": ""
             }
            },
            "type": "scattergl"
           }
          ],
          "scattermapbox": [
           {
            "marker": {
             "colorbar": {
              "outlinewidth": 0,
              "ticks": ""
             }
            },
            "type": "scattermapbox"
           }
          ],
          "scatterpolar": [
           {
            "marker": {
             "colorbar": {
              "outlinewidth": 0,
              "ticks": ""
             }
            },
            "type": "scatterpolar"
           }
          ],
          "scatterpolargl": [
           {
            "marker": {
             "colorbar": {
              "outlinewidth": 0,
              "ticks": ""
             }
            },
            "type": "scatterpolargl"
           }
          ],
          "scatterternary": [
           {
            "marker": {
             "colorbar": {
              "outlinewidth": 0,
              "ticks": ""
             }
            },
            "type": "scatterternary"
           }
          ],
          "surface": [
           {
            "colorbar": {
             "outlinewidth": 0,
             "ticks": ""
            },
            "colorscale": [
             [
              0,
              "#0d0887"
             ],
             [
              0.1111111111111111,
              "#46039f"
             ],
             [
              0.2222222222222222,
              "#7201a8"
             ],
             [
              0.3333333333333333,
              "#9c179e"
             ],
             [
              0.4444444444444444,
              "#bd3786"
             ],
             [
              0.5555555555555556,
              "#d8576b"
             ],
             [
              0.6666666666666666,
              "#ed7953"
             ],
             [
              0.7777777777777778,
              "#fb9f3a"
             ],
             [
              0.8888888888888888,
              "#fdca26"
             ],
             [
              1,
              "#f0f921"
             ]
            ],
            "type": "surface"
           }
          ],
          "table": [
           {
            "cells": {
             "fill": {
              "color": "#EBF0F8"
             },
             "line": {
              "color": "white"
             }
            },
            "header": {
             "fill": {
              "color": "#C8D4E3"
             },
             "line": {
              "color": "white"
             }
            },
            "type": "table"
           }
          ]
         },
         "layout": {
          "annotationdefaults": {
           "arrowcolor": "#2a3f5f",
           "arrowhead": 0,
           "arrowwidth": 1
          },
          "autotypenumbers": "strict",
          "coloraxis": {
           "colorbar": {
            "outlinewidth": 0,
            "ticks": ""
           }
          },
          "colorscale": {
           "diverging": [
            [
             0,
             "#8e0152"
            ],
            [
             0.1,
             "#c51b7d"
            ],
            [
             0.2,
             "#de77ae"
            ],
            [
             0.3,
             "#f1b6da"
            ],
            [
             0.4,
             "#fde0ef"
            ],
            [
             0.5,
             "#f7f7f7"
            ],
            [
             0.6,
             "#e6f5d0"
            ],
            [
             0.7,
             "#b8e186"
            ],
            [
             0.8,
             "#7fbc41"
            ],
            [
             0.9,
             "#4d9221"
            ],
            [
             1,
             "#276419"
            ]
           ],
           "sequential": [
            [
             0,
             "#0d0887"
            ],
            [
             0.1111111111111111,
             "#46039f"
            ],
            [
             0.2222222222222222,
             "#7201a8"
            ],
            [
             0.3333333333333333,
             "#9c179e"
            ],
            [
             0.4444444444444444,
             "#bd3786"
            ],
            [
             0.5555555555555556,
             "#d8576b"
            ],
            [
             0.6666666666666666,
             "#ed7953"
            ],
            [
             0.7777777777777778,
             "#fb9f3a"
            ],
            [
             0.8888888888888888,
             "#fdca26"
            ],
            [
             1,
             "#f0f921"
            ]
           ],
           "sequentialminus": [
            [
             0,
             "#0d0887"
            ],
            [
             0.1111111111111111,
             "#46039f"
            ],
            [
             0.2222222222222222,
             "#7201a8"
            ],
            [
             0.3333333333333333,
             "#9c179e"
            ],
            [
             0.4444444444444444,
             "#bd3786"
            ],
            [
             0.5555555555555556,
             "#d8576b"
            ],
            [
             0.6666666666666666,
             "#ed7953"
            ],
            [
             0.7777777777777778,
             "#fb9f3a"
            ],
            [
             0.8888888888888888,
             "#fdca26"
            ],
            [
             1,
             "#f0f921"
            ]
           ]
          },
          "colorway": [
           "#636efa",
           "#EF553B",
           "#00cc96",
           "#ab63fa",
           "#FFA15A",
           "#19d3f3",
           "#FF6692",
           "#B6E880",
           "#FF97FF",
           "#FECB52"
          ],
          "font": {
           "color": "#2a3f5f"
          },
          "geo": {
           "bgcolor": "white",
           "lakecolor": "white",
           "landcolor": "#E5ECF6",
           "showlakes": true,
           "showland": true,
           "subunitcolor": "white"
          },
          "hoverlabel": {
           "align": "left"
          },
          "hovermode": "closest",
          "mapbox": {
           "style": "light"
          },
          "paper_bgcolor": "white",
          "plot_bgcolor": "#E5ECF6",
          "polar": {
           "angularaxis": {
            "gridcolor": "white",
            "linecolor": "white",
            "ticks": ""
           },
           "bgcolor": "#E5ECF6",
           "radialaxis": {
            "gridcolor": "white",
            "linecolor": "white",
            "ticks": ""
           }
          },
          "scene": {
           "xaxis": {
            "backgroundcolor": "#E5ECF6",
            "gridcolor": "white",
            "gridwidth": 2,
            "linecolor": "white",
            "showbackground": true,
            "ticks": "",
            "zerolinecolor": "white"
           },
           "yaxis": {
            "backgroundcolor": "#E5ECF6",
            "gridcolor": "white",
            "gridwidth": 2,
            "linecolor": "white",
            "showbackground": true,
            "ticks": "",
            "zerolinecolor": "white"
           },
           "zaxis": {
            "backgroundcolor": "#E5ECF6",
            "gridcolor": "white",
            "gridwidth": 2,
            "linecolor": "white",
            "showbackground": true,
            "ticks": "",
            "zerolinecolor": "white"
           }
          },
          "shapedefaults": {
           "line": {
            "color": "#2a3f5f"
           }
          },
          "ternary": {
           "aaxis": {
            "gridcolor": "white",
            "linecolor": "white",
            "ticks": ""
           },
           "baxis": {
            "gridcolor": "white",
            "linecolor": "white",
            "ticks": ""
           },
           "bgcolor": "#E5ECF6",
           "caxis": {
            "gridcolor": "white",
            "linecolor": "white",
            "ticks": ""
           }
          },
          "title": {
           "x": 0.05
          },
          "xaxis": {
           "automargin": true,
           "gridcolor": "white",
           "linecolor": "white",
           "ticks": "",
           "title": {
            "standoff": 15
           },
           "zerolinecolor": "white",
           "zerolinewidth": 2
          },
          "yaxis": {
           "automargin": true,
           "gridcolor": "white",
           "linecolor": "white",
           "ticks": "",
           "title": {
            "standoff": 15
           },
           "zerolinecolor": "white",
           "zerolinewidth": 2
          }
         }
        },
        "title": {
         "text": "2023 Week 8 Scores - Spread"
        },
        "width": 800,
        "xaxis": {
         "anchor": "y",
         "domain": [
          0,
          1
         ],
         "title": {
          "text": "pick_result"
         }
        },
        "yaxis": {
         "anchor": "x",
         "categoryarray": [
          "ben",
          "final",
          "hunter",
          "griffin",
          "chuck",
          "harry"
         ],
         "categoryorder": "array",
         "domain": [
          0,
          1
         ],
         "title": {
          "text": "picker"
         }
        }
       }
      }
     },
     "metadata": {},
     "output_type": "display_data"
    }
   ],
   "source": [
    "homers.plot_scores(week_df)"
   ]
  },
  {
   "cell_type": "code",
   "execution_count": 9,
   "metadata": {},
   "outputs": [
    {
     "data": {
      "text/plain": [
       "8"
      ]
     },
     "execution_count": 9,
     "metadata": {},
     "output_type": "execute_result"
    }
   ],
   "source": []
  },
  {
   "cell_type": "code",
   "execution_count": 10,
   "metadata": {},
   "outputs": [
    {
     "data": {
      "application/vnd.plotly.v1+json": {
       "config": {
        "plotlyServerURL": "https://plot.ly"
       },
       "data": [
        {
         "alignmentgroup": "True",
         "hovertemplate": "picker=%{y}<br>pick_result=%{x}<extra></extra>",
         "legendgroup": "harry",
         "marker": {
          "color": "#311D00",
          "pattern": {
           "shape": ""
          }
         },
         "name": "harry",
         "offsetgroup": "harry",
         "orientation": "h",
         "showlegend": false,
         "textposition": "auto",
         "texttemplate": "%{x}",
         "type": "bar",
         "x": [
          0.6
         ],
         "xaxis": "x",
         "y": [
          "harry"
         ],
         "yaxis": "y"
        },
        {
         "alignmentgroup": "True",
         "hovertemplate": "picker=%{y}<br>pick_result=%{x}<extra></extra>",
         "legendgroup": "chuck",
         "marker": {
          "color": "#0B162A",
          "pattern": {
           "shape": ""
          }
         },
         "name": "chuck",
         "offsetgroup": "chuck",
         "orientation": "h",
         "showlegend": false,
         "textposition": "auto",
         "texttemplate": "%{x}",
         "type": "bar",
         "x": [
          0.55
         ],
         "xaxis": "x",
         "y": [
          "chuck"
         ],
         "yaxis": "y"
        },
        {
         "alignmentgroup": "True",
         "hovertemplate": "picker=%{y}<br>pick_result=%{x}<extra></extra>",
         "legendgroup": "hunter",
         "marker": {
          "color": "#A71930",
          "pattern": {
           "shape": ""
          }
         },
         "name": "hunter",
         "offsetgroup": "hunter",
         "orientation": "h",
         "showlegend": false,
         "textposition": "auto",
         "texttemplate": "%{x}",
         "type": "bar",
         "x": [
          0.54
         ],
         "xaxis": "x",
         "y": [
          "hunter"
         ],
         "yaxis": "y"
        },
        {
         "alignmentgroup": "True",
         "hovertemplate": "picker=%{y}<br>pick_result=%{x}<extra></extra>",
         "legendgroup": "final",
         "marker": {
          "color": "#B3995D",
          "pattern": {
           "shape": ""
          }
         },
         "name": "final",
         "offsetgroup": "final",
         "orientation": "h",
         "showlegend": false,
         "textposition": "auto",
         "texttemplate": "%{x}",
         "type": "bar",
         "x": [
          0.5
         ],
         "xaxis": "x",
         "y": [
          "final"
         ],
         "yaxis": "y"
        },
        {
         "alignmentgroup": "True",
         "hovertemplate": "picker=%{y}<br>pick_result=%{x}<extra></extra>",
         "legendgroup": "griffin",
         "marker": {
          "color": "#FF3C00",
          "pattern": {
           "shape": ""
          }
         },
         "name": "griffin",
         "offsetgroup": "griffin",
         "orientation": "h",
         "showlegend": false,
         "textposition": "auto",
         "texttemplate": "%{x}",
         "type": "bar",
         "x": [
          0.48
         ],
         "xaxis": "x",
         "y": [
          "griffin"
         ],
         "yaxis": "y"
        },
        {
         "alignmentgroup": "True",
         "hovertemplate": "picker=%{y}<br>pick_result=%{x}<extra></extra>",
         "legendgroup": "ben",
         "marker": {
          "color": "#5A1414",
          "pattern": {
           "shape": ""
          }
         },
         "name": "ben",
         "offsetgroup": "ben",
         "orientation": "h",
         "showlegend": false,
         "textposition": "auto",
         "texttemplate": "%{x}",
         "type": "bar",
         "x": [
          0.44
         ],
         "xaxis": "x",
         "y": [
          "ben"
         ],
         "yaxis": "y"
        }
       ],
       "layout": {
        "barmode": "relative",
        "height": 500,
        "legend": {
         "title": {
          "text": "picker"
         },
         "tracegroupgap": 0
        },
        "template": {
         "data": {
          "bar": [
           {
            "error_x": {
             "color": "#2a3f5f"
            },
            "error_y": {
             "color": "#2a3f5f"
            },
            "marker": {
             "line": {
              "color": "#E5ECF6",
              "width": 0.5
             },
             "pattern": {
              "fillmode": "overlay",
              "size": 10,
              "solidity": 0.2
             }
            },
            "type": "bar"
           }
          ],
          "barpolar": [
           {
            "marker": {
             "line": {
              "color": "#E5ECF6",
              "width": 0.5
             },
             "pattern": {
              "fillmode": "overlay",
              "size": 10,
              "solidity": 0.2
             }
            },
            "type": "barpolar"
           }
          ],
          "carpet": [
           {
            "aaxis": {
             "endlinecolor": "#2a3f5f",
             "gridcolor": "white",
             "linecolor": "white",
             "minorgridcolor": "white",
             "startlinecolor": "#2a3f5f"
            },
            "baxis": {
             "endlinecolor": "#2a3f5f",
             "gridcolor": "white",
             "linecolor": "white",
             "minorgridcolor": "white",
             "startlinecolor": "#2a3f5f"
            },
            "type": "carpet"
           }
          ],
          "choropleth": [
           {
            "colorbar": {
             "outlinewidth": 0,
             "ticks": ""
            },
            "type": "choropleth"
           }
          ],
          "contour": [
           {
            "colorbar": {
             "outlinewidth": 0,
             "ticks": ""
            },
            "colorscale": [
             [
              0,
              "#0d0887"
             ],
             [
              0.1111111111111111,
              "#46039f"
             ],
             [
              0.2222222222222222,
              "#7201a8"
             ],
             [
              0.3333333333333333,
              "#9c179e"
             ],
             [
              0.4444444444444444,
              "#bd3786"
             ],
             [
              0.5555555555555556,
              "#d8576b"
             ],
             [
              0.6666666666666666,
              "#ed7953"
             ],
             [
              0.7777777777777778,
              "#fb9f3a"
             ],
             [
              0.8888888888888888,
              "#fdca26"
             ],
             [
              1,
              "#f0f921"
             ]
            ],
            "type": "contour"
           }
          ],
          "contourcarpet": [
           {
            "colorbar": {
             "outlinewidth": 0,
             "ticks": ""
            },
            "type": "contourcarpet"
           }
          ],
          "heatmap": [
           {
            "colorbar": {
             "outlinewidth": 0,
             "ticks": ""
            },
            "colorscale": [
             [
              0,
              "#0d0887"
             ],
             [
              0.1111111111111111,
              "#46039f"
             ],
             [
              0.2222222222222222,
              "#7201a8"
             ],
             [
              0.3333333333333333,
              "#9c179e"
             ],
             [
              0.4444444444444444,
              "#bd3786"
             ],
             [
              0.5555555555555556,
              "#d8576b"
             ],
             [
              0.6666666666666666,
              "#ed7953"
             ],
             [
              0.7777777777777778,
              "#fb9f3a"
             ],
             [
              0.8888888888888888,
              "#fdca26"
             ],
             [
              1,
              "#f0f921"
             ]
            ],
            "type": "heatmap"
           }
          ],
          "heatmapgl": [
           {
            "colorbar": {
             "outlinewidth": 0,
             "ticks": ""
            },
            "colorscale": [
             [
              0,
              "#0d0887"
             ],
             [
              0.1111111111111111,
              "#46039f"
             ],
             [
              0.2222222222222222,
              "#7201a8"
             ],
             [
              0.3333333333333333,
              "#9c179e"
             ],
             [
              0.4444444444444444,
              "#bd3786"
             ],
             [
              0.5555555555555556,
              "#d8576b"
             ],
             [
              0.6666666666666666,
              "#ed7953"
             ],
             [
              0.7777777777777778,
              "#fb9f3a"
             ],
             [
              0.8888888888888888,
              "#fdca26"
             ],
             [
              1,
              "#f0f921"
             ]
            ],
            "type": "heatmapgl"
           }
          ],
          "histogram": [
           {
            "marker": {
             "pattern": {
              "fillmode": "overlay",
              "size": 10,
              "solidity": 0.2
             }
            },
            "type": "histogram"
           }
          ],
          "histogram2d": [
           {
            "colorbar": {
             "outlinewidth": 0,
             "ticks": ""
            },
            "colorscale": [
             [
              0,
              "#0d0887"
             ],
             [
              0.1111111111111111,
              "#46039f"
             ],
             [
              0.2222222222222222,
              "#7201a8"
             ],
             [
              0.3333333333333333,
              "#9c179e"
             ],
             [
              0.4444444444444444,
              "#bd3786"
             ],
             [
              0.5555555555555556,
              "#d8576b"
             ],
             [
              0.6666666666666666,
              "#ed7953"
             ],
             [
              0.7777777777777778,
              "#fb9f3a"
             ],
             [
              0.8888888888888888,
              "#fdca26"
             ],
             [
              1,
              "#f0f921"
             ]
            ],
            "type": "histogram2d"
           }
          ],
          "histogram2dcontour": [
           {
            "colorbar": {
             "outlinewidth": 0,
             "ticks": ""
            },
            "colorscale": [
             [
              0,
              "#0d0887"
             ],
             [
              0.1111111111111111,
              "#46039f"
             ],
             [
              0.2222222222222222,
              "#7201a8"
             ],
             [
              0.3333333333333333,
              "#9c179e"
             ],
             [
              0.4444444444444444,
              "#bd3786"
             ],
             [
              0.5555555555555556,
              "#d8576b"
             ],
             [
              0.6666666666666666,
              "#ed7953"
             ],
             [
              0.7777777777777778,
              "#fb9f3a"
             ],
             [
              0.8888888888888888,
              "#fdca26"
             ],
             [
              1,
              "#f0f921"
             ]
            ],
            "type": "histogram2dcontour"
           }
          ],
          "mesh3d": [
           {
            "colorbar": {
             "outlinewidth": 0,
             "ticks": ""
            },
            "type": "mesh3d"
           }
          ],
          "parcoords": [
           {
            "line": {
             "colorbar": {
              "outlinewidth": 0,
              "ticks": ""
             }
            },
            "type": "parcoords"
           }
          ],
          "pie": [
           {
            "automargin": true,
            "type": "pie"
           }
          ],
          "scatter": [
           {
            "fillpattern": {
             "fillmode": "overlay",
             "size": 10,
             "solidity": 0.2
            },
            "type": "scatter"
           }
          ],
          "scatter3d": [
           {
            "line": {
             "colorbar": {
              "outlinewidth": 0,
              "ticks": ""
             }
            },
            "marker": {
             "colorbar": {
              "outlinewidth": 0,
              "ticks": ""
             }
            },
            "type": "scatter3d"
           }
          ],
          "scattercarpet": [
           {
            "marker": {
             "colorbar": {
              "outlinewidth": 0,
              "ticks": ""
             }
            },
            "type": "scattercarpet"
           }
          ],
          "scattergeo": [
           {
            "marker": {
             "colorbar": {
              "outlinewidth": 0,
              "ticks": ""
             }
            },
            "type": "scattergeo"
           }
          ],
          "scattergl": [
           {
            "marker": {
             "colorbar": {
              "outlinewidth": 0,
              "ticks": ""
             }
            },
            "type": "scattergl"
           }
          ],
          "scattermapbox": [
           {
            "marker": {
             "colorbar": {
              "outlinewidth": 0,
              "ticks": ""
             }
            },
            "type": "scattermapbox"
           }
          ],
          "scatterpolar": [
           {
            "marker": {
             "colorbar": {
              "outlinewidth": 0,
              "ticks": ""
             }
            },
            "type": "scatterpolar"
           }
          ],
          "scatterpolargl": [
           {
            "marker": {
             "colorbar": {
              "outlinewidth": 0,
              "ticks": ""
             }
            },
            "type": "scatterpolargl"
           }
          ],
          "scatterternary": [
           {
            "marker": {
             "colorbar": {
              "outlinewidth": 0,
              "ticks": ""
             }
            },
            "type": "scatterternary"
           }
          ],
          "surface": [
           {
            "colorbar": {
             "outlinewidth": 0,
             "ticks": ""
            },
            "colorscale": [
             [
              0,
              "#0d0887"
             ],
             [
              0.1111111111111111,
              "#46039f"
             ],
             [
              0.2222222222222222,
              "#7201a8"
             ],
             [
              0.3333333333333333,
              "#9c179e"
             ],
             [
              0.4444444444444444,
              "#bd3786"
             ],
             [
              0.5555555555555556,
              "#d8576b"
             ],
             [
              0.6666666666666666,
              "#ed7953"
             ],
             [
              0.7777777777777778,
              "#fb9f3a"
             ],
             [
              0.8888888888888888,
              "#fdca26"
             ],
             [
              1,
              "#f0f921"
             ]
            ],
            "type": "surface"
           }
          ],
          "table": [
           {
            "cells": {
             "fill": {
              "color": "#EBF0F8"
             },
             "line": {
              "color": "white"
             }
            },
            "header": {
             "fill": {
              "color": "#C8D4E3"
             },
             "line": {
              "color": "white"
             }
            },
            "type": "table"
           }
          ]
         },
         "layout": {
          "annotationdefaults": {
           "arrowcolor": "#2a3f5f",
           "arrowhead": 0,
           "arrowwidth": 1
          },
          "autotypenumbers": "strict",
          "coloraxis": {
           "colorbar": {
            "outlinewidth": 0,
            "ticks": ""
           }
          },
          "colorscale": {
           "diverging": [
            [
             0,
             "#8e0152"
            ],
            [
             0.1,
             "#c51b7d"
            ],
            [
             0.2,
             "#de77ae"
            ],
            [
             0.3,
             "#f1b6da"
            ],
            [
             0.4,
             "#fde0ef"
            ],
            [
             0.5,
             "#f7f7f7"
            ],
            [
             0.6,
             "#e6f5d0"
            ],
            [
             0.7,
             "#b8e186"
            ],
            [
             0.8,
             "#7fbc41"
            ],
            [
             0.9,
             "#4d9221"
            ],
            [
             1,
             "#276419"
            ]
           ],
           "sequential": [
            [
             0,
             "#0d0887"
            ],
            [
             0.1111111111111111,
             "#46039f"
            ],
            [
             0.2222222222222222,
             "#7201a8"
            ],
            [
             0.3333333333333333,
             "#9c179e"
            ],
            [
             0.4444444444444444,
             "#bd3786"
            ],
            [
             0.5555555555555556,
             "#d8576b"
            ],
            [
             0.6666666666666666,
             "#ed7953"
            ],
            [
             0.7777777777777778,
             "#fb9f3a"
            ],
            [
             0.8888888888888888,
             "#fdca26"
            ],
            [
             1,
             "#f0f921"
            ]
           ],
           "sequentialminus": [
            [
             0,
             "#0d0887"
            ],
            [
             0.1111111111111111,
             "#46039f"
            ],
            [
             0.2222222222222222,
             "#7201a8"
            ],
            [
             0.3333333333333333,
             "#9c179e"
            ],
            [
             0.4444444444444444,
             "#bd3786"
            ],
            [
             0.5555555555555556,
             "#d8576b"
            ],
            [
             0.6666666666666666,
             "#ed7953"
            ],
            [
             0.7777777777777778,
             "#fb9f3a"
            ],
            [
             0.8888888888888888,
             "#fdca26"
            ],
            [
             1,
             "#f0f921"
            ]
           ]
          },
          "colorway": [
           "#636efa",
           "#EF553B",
           "#00cc96",
           "#ab63fa",
           "#FFA15A",
           "#19d3f3",
           "#FF6692",
           "#B6E880",
           "#FF97FF",
           "#FECB52"
          ],
          "font": {
           "color": "#2a3f5f"
          },
          "geo": {
           "bgcolor": "white",
           "lakecolor": "white",
           "landcolor": "#E5ECF6",
           "showlakes": true,
           "showland": true,
           "subunitcolor": "white"
          },
          "hoverlabel": {
           "align": "left"
          },
          "hovermode": "closest",
          "mapbox": {
           "style": "light"
          },
          "paper_bgcolor": "white",
          "plot_bgcolor": "#E5ECF6",
          "polar": {
           "angularaxis": {
            "gridcolor": "white",
            "linecolor": "white",
            "ticks": ""
           },
           "bgcolor": "#E5ECF6",
           "radialaxis": {
            "gridcolor": "white",
            "linecolor": "white",
            "ticks": ""
           }
          },
          "scene": {
           "xaxis": {
            "backgroundcolor": "#E5ECF6",
            "gridcolor": "white",
            "gridwidth": 2,
            "linecolor": "white",
            "showbackground": true,
            "ticks": "",
            "zerolinecolor": "white"
           },
           "yaxis": {
            "backgroundcolor": "#E5ECF6",
            "gridcolor": "white",
            "gridwidth": 2,
            "linecolor": "white",
            "showbackground": true,
            "ticks": "",
            "zerolinecolor": "white"
           },
           "zaxis": {
            "backgroundcolor": "#E5ECF6",
            "gridcolor": "white",
            "gridwidth": 2,
            "linecolor": "white",
            "showbackground": true,
            "ticks": "",
            "zerolinecolor": "white"
           }
          },
          "shapedefaults": {
           "line": {
            "color": "#2a3f5f"
           }
          },
          "ternary": {
           "aaxis": {
            "gridcolor": "white",
            "linecolor": "white",
            "ticks": ""
           },
           "baxis": {
            "gridcolor": "white",
            "linecolor": "white",
            "ticks": ""
           },
           "bgcolor": "#E5ECF6",
           "caxis": {
            "gridcolor": "white",
            "linecolor": "white",
            "ticks": ""
           }
          },
          "title": {
           "x": 0.05
          },
          "xaxis": {
           "automargin": true,
           "gridcolor": "white",
           "linecolor": "white",
           "ticks": "",
           "title": {
            "standoff": 15
           },
           "zerolinecolor": "white",
           "zerolinewidth": 2
          },
          "yaxis": {
           "automargin": true,
           "gridcolor": "white",
           "linecolor": "white",
           "ticks": "",
           "title": {
            "standoff": 15
           },
           "zerolinecolor": "white",
           "zerolinewidth": 2
          }
         }
        },
        "title": {
         "text": "2023 Weeks 2-8 Avg Scores - Spread"
        },
        "width": 800,
        "xaxis": {
         "anchor": "y",
         "domain": [
          0,
          1
         ],
         "title": {
          "text": "pick_result"
         }
        },
        "yaxis": {
         "anchor": "x",
         "categoryarray": [
          "ben",
          "griffin",
          "final",
          "hunter",
          "chuck",
          "harry"
         ],
         "categoryorder": "array",
         "domain": [
          0,
          1
         ],
         "title": {
          "text": "picker"
         }
        }
       }
      }
     },
     "metadata": {},
     "output_type": "display_data"
    },
    {
     "data": {
      "application/vnd.plotly.v1+json": {
       "config": {
        "plotlyServerURL": "https://plot.ly"
       },
       "data": [
        {
         "alignmentgroup": "True",
         "hovertemplate": "picker=%{y}<br>pick_result=%{x}<extra></extra>",
         "legendgroup": "harry",
         "marker": {
          "color": "#311D00",
          "pattern": {
           "shape": ""
          }
         },
         "name": "harry",
         "offsetgroup": "harry",
         "orientation": "h",
         "showlegend": false,
         "textposition": "auto",
         "texttemplate": "%{x}",
         "type": "bar",
         "x": [
          0.54
         ],
         "xaxis": "x",
         "y": [
          "harry"
         ],
         "yaxis": "y"
        },
        {
         "alignmentgroup": "True",
         "hovertemplate": "picker=%{y}<br>pick_result=%{x}<extra></extra>",
         "legendgroup": "hunter",
         "marker": {
          "color": "#A71930",
          "pattern": {
           "shape": ""
          }
         },
         "name": "hunter",
         "offsetgroup": "hunter",
         "orientation": "h",
         "showlegend": false,
         "textposition": "auto",
         "texttemplate": "%{x}",
         "type": "bar",
         "x": [
          0.54
         ],
         "xaxis": "x",
         "y": [
          "hunter"
         ],
         "yaxis": "y"
        },
        {
         "alignmentgroup": "True",
         "hovertemplate": "picker=%{y}<br>pick_result=%{x}<extra></extra>",
         "legendgroup": "final",
         "marker": {
          "color": "#B3995D",
          "pattern": {
           "shape": ""
          }
         },
         "name": "final",
         "offsetgroup": "final",
         "orientation": "h",
         "showlegend": false,
         "textposition": "auto",
         "texttemplate": "%{x}",
         "type": "bar",
         "x": [
          0.46
         ],
         "xaxis": "x",
         "y": [
          "final"
         ],
         "yaxis": "y"
        },
        {
         "alignmentgroup": "True",
         "hovertemplate": "picker=%{y}<br>pick_result=%{x}<extra></extra>",
         "legendgroup": "griffin",
         "marker": {
          "color": "#FF3C00",
          "pattern": {
           "shape": ""
          }
         },
         "name": "griffin",
         "offsetgroup": "griffin",
         "orientation": "h",
         "showlegend": false,
         "textposition": "auto",
         "texttemplate": "%{x}",
         "type": "bar",
         "x": [
          0.46
         ],
         "xaxis": "x",
         "y": [
          "griffin"
         ],
         "yaxis": "y"
        },
        {
         "alignmentgroup": "True",
         "hovertemplate": "picker=%{y}<br>pick_result=%{x}<extra></extra>",
         "legendgroup": "chuck",
         "marker": {
          "color": "#0B162A",
          "pattern": {
           "shape": ""
          }
         },
         "name": "chuck",
         "offsetgroup": "chuck",
         "orientation": "h",
         "showlegend": false,
         "textposition": "auto",
         "texttemplate": "%{x}",
         "type": "bar",
         "x": [
          0.43
         ],
         "xaxis": "x",
         "y": [
          "chuck"
         ],
         "yaxis": "y"
        },
        {
         "alignmentgroup": "True",
         "hovertemplate": "picker=%{y}<br>pick_result=%{x}<extra></extra>",
         "legendgroup": "ben",
         "marker": {
          "color": "#5A1414",
          "pattern": {
           "shape": ""
          }
         },
         "name": "ben",
         "offsetgroup": "ben",
         "orientation": "h",
         "showlegend": false,
         "textposition": "auto",
         "texttemplate": "%{x}",
         "type": "bar",
         "x": [
          0.35
         ],
         "xaxis": "x",
         "y": [
          "ben"
         ],
         "yaxis": "y"
        }
       ],
       "layout": {
        "barmode": "relative",
        "height": 500,
        "legend": {
         "title": {
          "text": "picker"
         },
         "tracegroupgap": 0
        },
        "template": {
         "data": {
          "bar": [
           {
            "error_x": {
             "color": "#2a3f5f"
            },
            "error_y": {
             "color": "#2a3f5f"
            },
            "marker": {
             "line": {
              "color": "#E5ECF6",
              "width": 0.5
             },
             "pattern": {
              "fillmode": "overlay",
              "size": 10,
              "solidity": 0.2
             }
            },
            "type": "bar"
           }
          ],
          "barpolar": [
           {
            "marker": {
             "line": {
              "color": "#E5ECF6",
              "width": 0.5
             },
             "pattern": {
              "fillmode": "overlay",
              "size": 10,
              "solidity": 0.2
             }
            },
            "type": "barpolar"
           }
          ],
          "carpet": [
           {
            "aaxis": {
             "endlinecolor": "#2a3f5f",
             "gridcolor": "white",
             "linecolor": "white",
             "minorgridcolor": "white",
             "startlinecolor": "#2a3f5f"
            },
            "baxis": {
             "endlinecolor": "#2a3f5f",
             "gridcolor": "white",
             "linecolor": "white",
             "minorgridcolor": "white",
             "startlinecolor": "#2a3f5f"
            },
            "type": "carpet"
           }
          ],
          "choropleth": [
           {
            "colorbar": {
             "outlinewidth": 0,
             "ticks": ""
            },
            "type": "choropleth"
           }
          ],
          "contour": [
           {
            "colorbar": {
             "outlinewidth": 0,
             "ticks": ""
            },
            "colorscale": [
             [
              0,
              "#0d0887"
             ],
             [
              0.1111111111111111,
              "#46039f"
             ],
             [
              0.2222222222222222,
              "#7201a8"
             ],
             [
              0.3333333333333333,
              "#9c179e"
             ],
             [
              0.4444444444444444,
              "#bd3786"
             ],
             [
              0.5555555555555556,
              "#d8576b"
             ],
             [
              0.6666666666666666,
              "#ed7953"
             ],
             [
              0.7777777777777778,
              "#fb9f3a"
             ],
             [
              0.8888888888888888,
              "#fdca26"
             ],
             [
              1,
              "#f0f921"
             ]
            ],
            "type": "contour"
           }
          ],
          "contourcarpet": [
           {
            "colorbar": {
             "outlinewidth": 0,
             "ticks": ""
            },
            "type": "contourcarpet"
           }
          ],
          "heatmap": [
           {
            "colorbar": {
             "outlinewidth": 0,
             "ticks": ""
            },
            "colorscale": [
             [
              0,
              "#0d0887"
             ],
             [
              0.1111111111111111,
              "#46039f"
             ],
             [
              0.2222222222222222,
              "#7201a8"
             ],
             [
              0.3333333333333333,
              "#9c179e"
             ],
             [
              0.4444444444444444,
              "#bd3786"
             ],
             [
              0.5555555555555556,
              "#d8576b"
             ],
             [
              0.6666666666666666,
              "#ed7953"
             ],
             [
              0.7777777777777778,
              "#fb9f3a"
             ],
             [
              0.8888888888888888,
              "#fdca26"
             ],
             [
              1,
              "#f0f921"
             ]
            ],
            "type": "heatmap"
           }
          ],
          "heatmapgl": [
           {
            "colorbar": {
             "outlinewidth": 0,
             "ticks": ""
            },
            "colorscale": [
             [
              0,
              "#0d0887"
             ],
             [
              0.1111111111111111,
              "#46039f"
             ],
             [
              0.2222222222222222,
              "#7201a8"
             ],
             [
              0.3333333333333333,
              "#9c179e"
             ],
             [
              0.4444444444444444,
              "#bd3786"
             ],
             [
              0.5555555555555556,
              "#d8576b"
             ],
             [
              0.6666666666666666,
              "#ed7953"
             ],
             [
              0.7777777777777778,
              "#fb9f3a"
             ],
             [
              0.8888888888888888,
              "#fdca26"
             ],
             [
              1,
              "#f0f921"
             ]
            ],
            "type": "heatmapgl"
           }
          ],
          "histogram": [
           {
            "marker": {
             "pattern": {
              "fillmode": "overlay",
              "size": 10,
              "solidity": 0.2
             }
            },
            "type": "histogram"
           }
          ],
          "histogram2d": [
           {
            "colorbar": {
             "outlinewidth": 0,
             "ticks": ""
            },
            "colorscale": [
             [
              0,
              "#0d0887"
             ],
             [
              0.1111111111111111,
              "#46039f"
             ],
             [
              0.2222222222222222,
              "#7201a8"
             ],
             [
              0.3333333333333333,
              "#9c179e"
             ],
             [
              0.4444444444444444,
              "#bd3786"
             ],
             [
              0.5555555555555556,
              "#d8576b"
             ],
             [
              0.6666666666666666,
              "#ed7953"
             ],
             [
              0.7777777777777778,
              "#fb9f3a"
             ],
             [
              0.8888888888888888,
              "#fdca26"
             ],
             [
              1,
              "#f0f921"
             ]
            ],
            "type": "histogram2d"
           }
          ],
          "histogram2dcontour": [
           {
            "colorbar": {
             "outlinewidth": 0,
             "ticks": ""
            },
            "colorscale": [
             [
              0,
              "#0d0887"
             ],
             [
              0.1111111111111111,
              "#46039f"
             ],
             [
              0.2222222222222222,
              "#7201a8"
             ],
             [
              0.3333333333333333,
              "#9c179e"
             ],
             [
              0.4444444444444444,
              "#bd3786"
             ],
             [
              0.5555555555555556,
              "#d8576b"
             ],
             [
              0.6666666666666666,
              "#ed7953"
             ],
             [
              0.7777777777777778,
              "#fb9f3a"
             ],
             [
              0.8888888888888888,
              "#fdca26"
             ],
             [
              1,
              "#f0f921"
             ]
            ],
            "type": "histogram2dcontour"
           }
          ],
          "mesh3d": [
           {
            "colorbar": {
             "outlinewidth": 0,
             "ticks": ""
            },
            "type": "mesh3d"
           }
          ],
          "parcoords": [
           {
            "line": {
             "colorbar": {
              "outlinewidth": 0,
              "ticks": ""
             }
            },
            "type": "parcoords"
           }
          ],
          "pie": [
           {
            "automargin": true,
            "type": "pie"
           }
          ],
          "scatter": [
           {
            "fillpattern": {
             "fillmode": "overlay",
             "size": 10,
             "solidity": 0.2
            },
            "type": "scatter"
           }
          ],
          "scatter3d": [
           {
            "line": {
             "colorbar": {
              "outlinewidth": 0,
              "ticks": ""
             }
            },
            "marker": {
             "colorbar": {
              "outlinewidth": 0,
              "ticks": ""
             }
            },
            "type": "scatter3d"
           }
          ],
          "scattercarpet": [
           {
            "marker": {
             "colorbar": {
              "outlinewidth": 0,
              "ticks": ""
             }
            },
            "type": "scattercarpet"
           }
          ],
          "scattergeo": [
           {
            "marker": {
             "colorbar": {
              "outlinewidth": 0,
              "ticks": ""
             }
            },
            "type": "scattergeo"
           }
          ],
          "scattergl": [
           {
            "marker": {
             "colorbar": {
              "outlinewidth": 0,
              "ticks": ""
             }
            },
            "type": "scattergl"
           }
          ],
          "scattermapbox": [
           {
            "marker": {
             "colorbar": {
              "outlinewidth": 0,
              "ticks": ""
             }
            },
            "type": "scattermapbox"
           }
          ],
          "scatterpolar": [
           {
            "marker": {
             "colorbar": {
              "outlinewidth": 0,
              "ticks": ""
             }
            },
            "type": "scatterpolar"
           }
          ],
          "scatterpolargl": [
           {
            "marker": {
             "colorbar": {
              "outlinewidth": 0,
              "ticks": ""
             }
            },
            "type": "scatterpolargl"
           }
          ],
          "scatterternary": [
           {
            "marker": {
             "colorbar": {
              "outlinewidth": 0,
              "ticks": ""
             }
            },
            "type": "scatterternary"
           }
          ],
          "surface": [
           {
            "colorbar": {
             "outlinewidth": 0,
             "ticks": ""
            },
            "colorscale": [
             [
              0,
              "#0d0887"
             ],
             [
              0.1111111111111111,
              "#46039f"
             ],
             [
              0.2222222222222222,
              "#7201a8"
             ],
             [
              0.3333333333333333,
              "#9c179e"
             ],
             [
              0.4444444444444444,
              "#bd3786"
             ],
             [
              0.5555555555555556,
              "#d8576b"
             ],
             [
              0.6666666666666666,
              "#ed7953"
             ],
             [
              0.7777777777777778,
              "#fb9f3a"
             ],
             [
              0.8888888888888888,
              "#fdca26"
             ],
             [
              1,
              "#f0f921"
             ]
            ],
            "type": "surface"
           }
          ],
          "table": [
           {
            "cells": {
             "fill": {
              "color": "#EBF0F8"
             },
             "line": {
              "color": "white"
             }
            },
            "header": {
             "fill": {
              "color": "#C8D4E3"
             },
             "line": {
              "color": "white"
             }
            },
            "type": "table"
           }
          ]
         },
         "layout": {
          "annotationdefaults": {
           "arrowcolor": "#2a3f5f",
           "arrowhead": 0,
           "arrowwidth": 1
          },
          "autotypenumbers": "strict",
          "coloraxis": {
           "colorbar": {
            "outlinewidth": 0,
            "ticks": ""
           }
          },
          "colorscale": {
           "diverging": [
            [
             0,
             "#8e0152"
            ],
            [
             0.1,
             "#c51b7d"
            ],
            [
             0.2,
             "#de77ae"
            ],
            [
             0.3,
             "#f1b6da"
            ],
            [
             0.4,
             "#fde0ef"
            ],
            [
             0.5,
             "#f7f7f7"
            ],
            [
             0.6,
             "#e6f5d0"
            ],
            [
             0.7,
             "#b8e186"
            ],
            [
             0.8,
             "#7fbc41"
            ],
            [
             0.9,
             "#4d9221"
            ],
            [
             1,
             "#276419"
            ]
           ],
           "sequential": [
            [
             0,
             "#0d0887"
            ],
            [
             0.1111111111111111,
             "#46039f"
            ],
            [
             0.2222222222222222,
             "#7201a8"
            ],
            [
             0.3333333333333333,
             "#9c179e"
            ],
            [
             0.4444444444444444,
             "#bd3786"
            ],
            [
             0.5555555555555556,
             "#d8576b"
            ],
            [
             0.6666666666666666,
             "#ed7953"
            ],
            [
             0.7777777777777778,
             "#fb9f3a"
            ],
            [
             0.8888888888888888,
             "#fdca26"
            ],
            [
             1,
             "#f0f921"
            ]
           ],
           "sequentialminus": [
            [
             0,
             "#0d0887"
            ],
            [
             0.1111111111111111,
             "#46039f"
            ],
            [
             0.2222222222222222,
             "#7201a8"
            ],
            [
             0.3333333333333333,
             "#9c179e"
            ],
            [
             0.4444444444444444,
             "#bd3786"
            ],
            [
             0.5555555555555556,
             "#d8576b"
            ],
            [
             0.6666666666666666,
             "#ed7953"
            ],
            [
             0.7777777777777778,
             "#fb9f3a"
            ],
            [
             0.8888888888888888,
             "#fdca26"
            ],
            [
             1,
             "#f0f921"
            ]
           ]
          },
          "colorway": [
           "#636efa",
           "#EF553B",
           "#00cc96",
           "#ab63fa",
           "#FFA15A",
           "#19d3f3",
           "#FF6692",
           "#B6E880",
           "#FF97FF",
           "#FECB52"
          ],
          "font": {
           "color": "#2a3f5f"
          },
          "geo": {
           "bgcolor": "white",
           "lakecolor": "white",
           "landcolor": "#E5ECF6",
           "showlakes": true,
           "showland": true,
           "subunitcolor": "white"
          },
          "hoverlabel": {
           "align": "left"
          },
          "hovermode": "closest",
          "mapbox": {
           "style": "light"
          },
          "paper_bgcolor": "white",
          "plot_bgcolor": "#E5ECF6",
          "polar": {
           "angularaxis": {
            "gridcolor": "white",
            "linecolor": "white",
            "ticks": ""
           },
           "bgcolor": "#E5ECF6",
           "radialaxis": {
            "gridcolor": "white",
            "linecolor": "white",
            "ticks": ""
           }
          },
          "scene": {
           "xaxis": {
            "backgroundcolor": "#E5ECF6",
            "gridcolor": "white",
            "gridwidth": 2,
            "linecolor": "white",
            "showbackground": true,
            "ticks": "",
            "zerolinecolor": "white"
           },
           "yaxis": {
            "backgroundcolor": "#E5ECF6",
            "gridcolor": "white",
            "gridwidth": 2,
            "linecolor": "white",
            "showbackground": true,
            "ticks": "",
            "zerolinecolor": "white"
           },
           "zaxis": {
            "backgroundcolor": "#E5ECF6",
            "gridcolor": "white",
            "gridwidth": 2,
            "linecolor": "white",
            "showbackground": true,
            "ticks": "",
            "zerolinecolor": "white"
           }
          },
          "shapedefaults": {
           "line": {
            "color": "#2a3f5f"
           }
          },
          "ternary": {
           "aaxis": {
            "gridcolor": "white",
            "linecolor": "white",
            "ticks": ""
           },
           "baxis": {
            "gridcolor": "white",
            "linecolor": "white",
            "ticks": ""
           },
           "bgcolor": "#E5ECF6",
           "caxis": {
            "gridcolor": "white",
            "linecolor": "white",
            "ticks": ""
           }
          },
          "title": {
           "x": 0.05
          },
          "xaxis": {
           "automargin": true,
           "gridcolor": "white",
           "linecolor": "white",
           "ticks": "",
           "title": {
            "standoff": 15
           },
           "zerolinecolor": "white",
           "zerolinewidth": 2
          },
          "yaxis": {
           "automargin": true,
           "gridcolor": "white",
           "linecolor": "white",
           "ticks": "",
           "title": {
            "standoff": 15
           },
           "zerolinecolor": "white",
           "zerolinewidth": 2
          }
         }
        },
        "title": {
         "text": "2023 Weeks 5-8 Avg Scores - Spread"
        },
        "width": 800,
        "xaxis": {
         "anchor": "y",
         "domain": [
          0,
          1
         ],
         "title": {
          "text": "pick_result"
         }
        },
        "yaxis": {
         "anchor": "x",
         "categoryarray": [
          "ben",
          "chuck",
          "griffin",
          "final",
          "hunter",
          "harry"
         ],
         "categoryorder": "array",
         "domain": [
          0,
          1
         ],
         "title": {
          "text": "picker"
         }
        }
       }
      }
     },
     "metadata": {},
     "output_type": "display_data"
    }
   ],
   "source": [
    "homers.plot_scores(season_df, 'spread_pick', agg_sum=False)\n",
    "latest_week = max(season_df[season_df['season'] == max(season_df['season'])]['week'])\n",
    "last_4_week_criteria = season_df['week'] > latest_week - 4\n",
    "homers.plot_scores(season_df[last_4_week_criteria], 'spread_pick', agg_sum=False)"
   ]
  },
  {
   "cell_type": "code",
   "execution_count": 11,
   "metadata": {},
   "outputs": [
    {
     "data": {
      "application/vnd.plotly.v1+json": {
       "config": {
        "plotlyServerURL": "https://plot.ly"
       },
       "data": [
        {
         "alignmentgroup": "True",
         "hovertemplate": "picker=%{y}<br>pick_result=%{x}<extra></extra>",
         "legendgroup": "harry",
         "marker": {
          "color": "#311D00",
          "pattern": {
           "shape": ""
          }
         },
         "name": "harry",
         "offsetgroup": "harry",
         "orientation": "h",
         "showlegend": false,
         "textposition": "auto",
         "texttemplate": "%{x}",
         "type": "bar",
         "x": [
          0.59
         ],
         "xaxis": "x",
         "y": [
          "harry"
         ],
         "yaxis": "y"
        },
        {
         "alignmentgroup": "True",
         "hovertemplate": "picker=%{y}<br>pick_result=%{x}<extra></extra>",
         "legendgroup": "hunter",
         "marker": {
          "color": "#A71930",
          "pattern": {
           "shape": ""
          }
         },
         "name": "hunter",
         "offsetgroup": "hunter",
         "orientation": "h",
         "showlegend": false,
         "textposition": "auto",
         "texttemplate": "%{x}",
         "type": "bar",
         "x": [
          0.57
         ],
         "xaxis": "x",
         "y": [
          "hunter"
         ],
         "yaxis": "y"
        },
        {
         "alignmentgroup": "True",
         "hovertemplate": "picker=%{y}<br>pick_result=%{x}<extra></extra>",
         "legendgroup": "griffin",
         "marker": {
          "color": "#FF3C00",
          "pattern": {
           "shape": ""
          }
         },
         "name": "griffin",
         "offsetgroup": "griffin",
         "orientation": "h",
         "showlegend": false,
         "textposition": "auto",
         "texttemplate": "%{x}",
         "type": "bar",
         "x": [
          0.55
         ],
         "xaxis": "x",
         "y": [
          "griffin"
         ],
         "yaxis": "y"
        },
        {
         "alignmentgroup": "True",
         "hovertemplate": "picker=%{y}<br>pick_result=%{x}<extra></extra>",
         "legendgroup": "chuck",
         "marker": {
          "color": "#0B162A",
          "pattern": {
           "shape": ""
          }
         },
         "name": "chuck",
         "offsetgroup": "chuck",
         "orientation": "h",
         "showlegend": false,
         "textposition": "auto",
         "texttemplate": "%{x}",
         "type": "bar",
         "x": [
          0.54
         ],
         "xaxis": "x",
         "y": [
          "chuck"
         ],
         "yaxis": "y"
        },
        {
         "alignmentgroup": "True",
         "hovertemplate": "picker=%{y}<br>pick_result=%{x}<extra></extra>",
         "legendgroup": "final",
         "marker": {
          "color": "#B3995D",
          "pattern": {
           "shape": ""
          }
         },
         "name": "final",
         "offsetgroup": "final",
         "orientation": "h",
         "showlegend": false,
         "textposition": "auto",
         "texttemplate": "%{x}",
         "type": "bar",
         "x": [
          0.53
         ],
         "xaxis": "x",
         "y": [
          "final"
         ],
         "yaxis": "y"
        },
        {
         "alignmentgroup": "True",
         "hovertemplate": "picker=%{y}<br>pick_result=%{x}<extra></extra>",
         "legendgroup": "ben",
         "marker": {
          "color": "#5A1414",
          "pattern": {
           "shape": ""
          }
         },
         "name": "ben",
         "offsetgroup": "ben",
         "orientation": "h",
         "showlegend": false,
         "textposition": "auto",
         "texttemplate": "%{x}",
         "type": "bar",
         "x": [
          0.51
         ],
         "xaxis": "x",
         "y": [
          "ben"
         ],
         "yaxis": "y"
        }
       ],
       "layout": {
        "barmode": "relative",
        "height": 500,
        "legend": {
         "title": {
          "text": "picker"
         },
         "tracegroupgap": 0
        },
        "template": {
         "data": {
          "bar": [
           {
            "error_x": {
             "color": "#2a3f5f"
            },
            "error_y": {
             "color": "#2a3f5f"
            },
            "marker": {
             "line": {
              "color": "#E5ECF6",
              "width": 0.5
             },
             "pattern": {
              "fillmode": "overlay",
              "size": 10,
              "solidity": 0.2
             }
            },
            "type": "bar"
           }
          ],
          "barpolar": [
           {
            "marker": {
             "line": {
              "color": "#E5ECF6",
              "width": 0.5
             },
             "pattern": {
              "fillmode": "overlay",
              "size": 10,
              "solidity": 0.2
             }
            },
            "type": "barpolar"
           }
          ],
          "carpet": [
           {
            "aaxis": {
             "endlinecolor": "#2a3f5f",
             "gridcolor": "white",
             "linecolor": "white",
             "minorgridcolor": "white",
             "startlinecolor": "#2a3f5f"
            },
            "baxis": {
             "endlinecolor": "#2a3f5f",
             "gridcolor": "white",
             "linecolor": "white",
             "minorgridcolor": "white",
             "startlinecolor": "#2a3f5f"
            },
            "type": "carpet"
           }
          ],
          "choropleth": [
           {
            "colorbar": {
             "outlinewidth": 0,
             "ticks": ""
            },
            "type": "choropleth"
           }
          ],
          "contour": [
           {
            "colorbar": {
             "outlinewidth": 0,
             "ticks": ""
            },
            "colorscale": [
             [
              0,
              "#0d0887"
             ],
             [
              0.1111111111111111,
              "#46039f"
             ],
             [
              0.2222222222222222,
              "#7201a8"
             ],
             [
              0.3333333333333333,
              "#9c179e"
             ],
             [
              0.4444444444444444,
              "#bd3786"
             ],
             [
              0.5555555555555556,
              "#d8576b"
             ],
             [
              0.6666666666666666,
              "#ed7953"
             ],
             [
              0.7777777777777778,
              "#fb9f3a"
             ],
             [
              0.8888888888888888,
              "#fdca26"
             ],
             [
              1,
              "#f0f921"
             ]
            ],
            "type": "contour"
           }
          ],
          "contourcarpet": [
           {
            "colorbar": {
             "outlinewidth": 0,
             "ticks": ""
            },
            "type": "contourcarpet"
           }
          ],
          "heatmap": [
           {
            "colorbar": {
             "outlinewidth": 0,
             "ticks": ""
            },
            "colorscale": [
             [
              0,
              "#0d0887"
             ],
             [
              0.1111111111111111,
              "#46039f"
             ],
             [
              0.2222222222222222,
              "#7201a8"
             ],
             [
              0.3333333333333333,
              "#9c179e"
             ],
             [
              0.4444444444444444,
              "#bd3786"
             ],
             [
              0.5555555555555556,
              "#d8576b"
             ],
             [
              0.6666666666666666,
              "#ed7953"
             ],
             [
              0.7777777777777778,
              "#fb9f3a"
             ],
             [
              0.8888888888888888,
              "#fdca26"
             ],
             [
              1,
              "#f0f921"
             ]
            ],
            "type": "heatmap"
           }
          ],
          "heatmapgl": [
           {
            "colorbar": {
             "outlinewidth": 0,
             "ticks": ""
            },
            "colorscale": [
             [
              0,
              "#0d0887"
             ],
             [
              0.1111111111111111,
              "#46039f"
             ],
             [
              0.2222222222222222,
              "#7201a8"
             ],
             [
              0.3333333333333333,
              "#9c179e"
             ],
             [
              0.4444444444444444,
              "#bd3786"
             ],
             [
              0.5555555555555556,
              "#d8576b"
             ],
             [
              0.6666666666666666,
              "#ed7953"
             ],
             [
              0.7777777777777778,
              "#fb9f3a"
             ],
             [
              0.8888888888888888,
              "#fdca26"
             ],
             [
              1,
              "#f0f921"
             ]
            ],
            "type": "heatmapgl"
           }
          ],
          "histogram": [
           {
            "marker": {
             "pattern": {
              "fillmode": "overlay",
              "size": 10,
              "solidity": 0.2
             }
            },
            "type": "histogram"
           }
          ],
          "histogram2d": [
           {
            "colorbar": {
             "outlinewidth": 0,
             "ticks": ""
            },
            "colorscale": [
             [
              0,
              "#0d0887"
             ],
             [
              0.1111111111111111,
              "#46039f"
             ],
             [
              0.2222222222222222,
              "#7201a8"
             ],
             [
              0.3333333333333333,
              "#9c179e"
             ],
             [
              0.4444444444444444,
              "#bd3786"
             ],
             [
              0.5555555555555556,
              "#d8576b"
             ],
             [
              0.6666666666666666,
              "#ed7953"
             ],
             [
              0.7777777777777778,
              "#fb9f3a"
             ],
             [
              0.8888888888888888,
              "#fdca26"
             ],
             [
              1,
              "#f0f921"
             ]
            ],
            "type": "histogram2d"
           }
          ],
          "histogram2dcontour": [
           {
            "colorbar": {
             "outlinewidth": 0,
             "ticks": ""
            },
            "colorscale": [
             [
              0,
              "#0d0887"
             ],
             [
              0.1111111111111111,
              "#46039f"
             ],
             [
              0.2222222222222222,
              "#7201a8"
             ],
             [
              0.3333333333333333,
              "#9c179e"
             ],
             [
              0.4444444444444444,
              "#bd3786"
             ],
             [
              0.5555555555555556,
              "#d8576b"
             ],
             [
              0.6666666666666666,
              "#ed7953"
             ],
             [
              0.7777777777777778,
              "#fb9f3a"
             ],
             [
              0.8888888888888888,
              "#fdca26"
             ],
             [
              1,
              "#f0f921"
             ]
            ],
            "type": "histogram2dcontour"
           }
          ],
          "mesh3d": [
           {
            "colorbar": {
             "outlinewidth": 0,
             "ticks": ""
            },
            "type": "mesh3d"
           }
          ],
          "parcoords": [
           {
            "line": {
             "colorbar": {
              "outlinewidth": 0,
              "ticks": ""
             }
            },
            "type": "parcoords"
           }
          ],
          "pie": [
           {
            "automargin": true,
            "type": "pie"
           }
          ],
          "scatter": [
           {
            "fillpattern": {
             "fillmode": "overlay",
             "size": 10,
             "solidity": 0.2
            },
            "type": "scatter"
           }
          ],
          "scatter3d": [
           {
            "line": {
             "colorbar": {
              "outlinewidth": 0,
              "ticks": ""
             }
            },
            "marker": {
             "colorbar": {
              "outlinewidth": 0,
              "ticks": ""
             }
            },
            "type": "scatter3d"
           }
          ],
          "scattercarpet": [
           {
            "marker": {
             "colorbar": {
              "outlinewidth": 0,
              "ticks": ""
             }
            },
            "type": "scattercarpet"
           }
          ],
          "scattergeo": [
           {
            "marker": {
             "colorbar": {
              "outlinewidth": 0,
              "ticks": ""
             }
            },
            "type": "scattergeo"
           }
          ],
          "scattergl": [
           {
            "marker": {
             "colorbar": {
              "outlinewidth": 0,
              "ticks": ""
             }
            },
            "type": "scattergl"
           }
          ],
          "scattermapbox": [
           {
            "marker": {
             "colorbar": {
              "outlinewidth": 0,
              "ticks": ""
             }
            },
            "type": "scattermapbox"
           }
          ],
          "scatterpolar": [
           {
            "marker": {
             "colorbar": {
              "outlinewidth": 0,
              "ticks": ""
             }
            },
            "type": "scatterpolar"
           }
          ],
          "scatterpolargl": [
           {
            "marker": {
             "colorbar": {
              "outlinewidth": 0,
              "ticks": ""
             }
            },
            "type": "scatterpolargl"
           }
          ],
          "scatterternary": [
           {
            "marker": {
             "colorbar": {
              "outlinewidth": 0,
              "ticks": ""
             }
            },
            "type": "scatterternary"
           }
          ],
          "surface": [
           {
            "colorbar": {
             "outlinewidth": 0,
             "ticks": ""
            },
            "colorscale": [
             [
              0,
              "#0d0887"
             ],
             [
              0.1111111111111111,
              "#46039f"
             ],
             [
              0.2222222222222222,
              "#7201a8"
             ],
             [
              0.3333333333333333,
              "#9c179e"
             ],
             [
              0.4444444444444444,
              "#bd3786"
             ],
             [
              0.5555555555555556,
              "#d8576b"
             ],
             [
              0.6666666666666666,
              "#ed7953"
             ],
             [
              0.7777777777777778,
              "#fb9f3a"
             ],
             [
              0.8888888888888888,
              "#fdca26"
             ],
             [
              1,
              "#f0f921"
             ]
            ],
            "type": "surface"
           }
          ],
          "table": [
           {
            "cells": {
             "fill": {
              "color": "#EBF0F8"
             },
             "line": {
              "color": "white"
             }
            },
            "header": {
             "fill": {
              "color": "#C8D4E3"
             },
             "line": {
              "color": "white"
             }
            },
            "type": "table"
           }
          ]
         },
         "layout": {
          "annotationdefaults": {
           "arrowcolor": "#2a3f5f",
           "arrowhead": 0,
           "arrowwidth": 1
          },
          "autotypenumbers": "strict",
          "coloraxis": {
           "colorbar": {
            "outlinewidth": 0,
            "ticks": ""
           }
          },
          "colorscale": {
           "diverging": [
            [
             0,
             "#8e0152"
            ],
            [
             0.1,
             "#c51b7d"
            ],
            [
             0.2,
             "#de77ae"
            ],
            [
             0.3,
             "#f1b6da"
            ],
            [
             0.4,
             "#fde0ef"
            ],
            [
             0.5,
             "#f7f7f7"
            ],
            [
             0.6,
             "#e6f5d0"
            ],
            [
             0.7,
             "#b8e186"
            ],
            [
             0.8,
             "#7fbc41"
            ],
            [
             0.9,
             "#4d9221"
            ],
            [
             1,
             "#276419"
            ]
           ],
           "sequential": [
            [
             0,
             "#0d0887"
            ],
            [
             0.1111111111111111,
             "#46039f"
            ],
            [
             0.2222222222222222,
             "#7201a8"
            ],
            [
             0.3333333333333333,
             "#9c179e"
            ],
            [
             0.4444444444444444,
             "#bd3786"
            ],
            [
             0.5555555555555556,
             "#d8576b"
            ],
            [
             0.6666666666666666,
             "#ed7953"
            ],
            [
             0.7777777777777778,
             "#fb9f3a"
            ],
            [
             0.8888888888888888,
             "#fdca26"
            ],
            [
             1,
             "#f0f921"
            ]
           ],
           "sequentialminus": [
            [
             0,
             "#0d0887"
            ],
            [
             0.1111111111111111,
             "#46039f"
            ],
            [
             0.2222222222222222,
             "#7201a8"
            ],
            [
             0.3333333333333333,
             "#9c179e"
            ],
            [
             0.4444444444444444,
             "#bd3786"
            ],
            [
             0.5555555555555556,
             "#d8576b"
            ],
            [
             0.6666666666666666,
             "#ed7953"
            ],
            [
             0.7777777777777778,
             "#fb9f3a"
            ],
            [
             0.8888888888888888,
             "#fdca26"
            ],
            [
             1,
             "#f0f921"
            ]
           ]
          },
          "colorway": [
           "#636efa",
           "#EF553B",
           "#00cc96",
           "#ab63fa",
           "#FFA15A",
           "#19d3f3",
           "#FF6692",
           "#B6E880",
           "#FF97FF",
           "#FECB52"
          ],
          "font": {
           "color": "#2a3f5f"
          },
          "geo": {
           "bgcolor": "white",
           "lakecolor": "white",
           "landcolor": "#E5ECF6",
           "showlakes": true,
           "showland": true,
           "subunitcolor": "white"
          },
          "hoverlabel": {
           "align": "left"
          },
          "hovermode": "closest",
          "mapbox": {
           "style": "light"
          },
          "paper_bgcolor": "white",
          "plot_bgcolor": "#E5ECF6",
          "polar": {
           "angularaxis": {
            "gridcolor": "white",
            "linecolor": "white",
            "ticks": ""
           },
           "bgcolor": "#E5ECF6",
           "radialaxis": {
            "gridcolor": "white",
            "linecolor": "white",
            "ticks": ""
           }
          },
          "scene": {
           "xaxis": {
            "backgroundcolor": "#E5ECF6",
            "gridcolor": "white",
            "gridwidth": 2,
            "linecolor": "white",
            "showbackground": true,
            "ticks": "",
            "zerolinecolor": "white"
           },
           "yaxis": {
            "backgroundcolor": "#E5ECF6",
            "gridcolor": "white",
            "gridwidth": 2,
            "linecolor": "white",
            "showbackground": true,
            "ticks": "",
            "zerolinecolor": "white"
           },
           "zaxis": {
            "backgroundcolor": "#E5ECF6",
            "gridcolor": "white",
            "gridwidth": 2,
            "linecolor": "white",
            "showbackground": true,
            "ticks": "",
            "zerolinecolor": "white"
           }
          },
          "shapedefaults": {
           "line": {
            "color": "#2a3f5f"
           }
          },
          "ternary": {
           "aaxis": {
            "gridcolor": "white",
            "linecolor": "white",
            "ticks": ""
           },
           "baxis": {
            "gridcolor": "white",
            "linecolor": "white",
            "ticks": ""
           },
           "bgcolor": "#E5ECF6",
           "caxis": {
            "gridcolor": "white",
            "linecolor": "white",
            "ticks": ""
           }
          },
          "title": {
           "x": 0.05
          },
          "xaxis": {
           "automargin": true,
           "gridcolor": "white",
           "linecolor": "white",
           "ticks": "",
           "title": {
            "standoff": 15
           },
           "zerolinecolor": "white",
           "zerolinewidth": 2
          },
          "yaxis": {
           "automargin": true,
           "gridcolor": "white",
           "linecolor": "white",
           "ticks": "",
           "title": {
            "standoff": 15
           },
           "zerolinecolor": "white",
           "zerolinewidth": 2
          }
         }
        },
        "title": {
         "text": "2021-2023 Weeks 1-18 Avg Scores - Spread"
        },
        "width": 800,
        "xaxis": {
         "anchor": "y",
         "domain": [
          0,
          1
         ],
         "title": {
          "text": "pick_result"
         }
        },
        "yaxis": {
         "anchor": "x",
         "categoryarray": [
          "ben",
          "final",
          "chuck",
          "griffin",
          "hunter",
          "harry"
         ],
         "categoryorder": "array",
         "domain": [
          0,
          1
         ],
         "title": {
          "text": "picker"
         }
        }
       }
      }
     },
     "metadata": {},
     "output_type": "display_data"
    }
   ],
   "source": [
    "homers.plot_scores(df, 'spread_pick', agg_sum=False)"
   ]
  },
  {
   "cell_type": "code",
   "execution_count": 7,
   "metadata": {},
   "outputs": [
    {
     "data": {
      "application/vnd.plotly.v1+json": {
       "config": {
        "plotlyServerURL": "https://plot.ly"
       },
       "data": [
        {
         "alignmentgroup": "True",
         "hovertemplate": "picker=%{y}<br>pick_result=%{x}<extra></extra>",
         "legendgroup": "chuck",
         "marker": {
          "color": "#0B162A",
          "pattern": {
           "shape": ""
          }
         },
         "name": "chuck",
         "offsetgroup": "chuck",
         "orientation": "h",
         "showlegend": false,
         "textposition": "auto",
         "texttemplate": "%{x}",
         "type": "bar",
         "x": [
          1
         ],
         "xaxis": "x",
         "y": [
          "chuck"
         ],
         "yaxis": "y"
        },
        {
         "alignmentgroup": "True",
         "hovertemplate": "picker=%{y}<br>pick_result=%{x}<extra></extra>",
         "legendgroup": "ben",
         "marker": {
          "color": "#5A1414",
          "pattern": {
           "shape": ""
          }
         },
         "name": "ben",
         "offsetgroup": "ben",
         "orientation": "h",
         "showlegend": false,
         "textposition": "auto",
         "texttemplate": "%{x}",
         "type": "bar",
         "x": [
          0
         ],
         "xaxis": "x",
         "y": [
          "ben"
         ],
         "yaxis": "y"
        },
        {
         "alignmentgroup": "True",
         "hovertemplate": "picker=%{y}<br>pick_result=%{x}<extra></extra>",
         "legendgroup": "final",
         "marker": {
          "color": "#B3995D",
          "pattern": {
           "shape": ""
          }
         },
         "name": "final",
         "offsetgroup": "final",
         "orientation": "h",
         "showlegend": false,
         "textposition": "auto",
         "texttemplate": "%{x}",
         "type": "bar",
         "x": [
          0
         ],
         "xaxis": "x",
         "y": [
          "final"
         ],
         "yaxis": "y"
        },
        {
         "alignmentgroup": "True",
         "hovertemplate": "picker=%{y}<br>pick_result=%{x}<extra></extra>",
         "legendgroup": "griffin",
         "marker": {
          "color": "#FF3C00",
          "pattern": {
           "shape": ""
          }
         },
         "name": "griffin",
         "offsetgroup": "griffin",
         "orientation": "h",
         "showlegend": false,
         "textposition": "auto",
         "texttemplate": "%{x}",
         "type": "bar",
         "x": [
          0
         ],
         "xaxis": "x",
         "y": [
          "griffin"
         ],
         "yaxis": "y"
        },
        {
         "alignmentgroup": "True",
         "hovertemplate": "picker=%{y}<br>pick_result=%{x}<extra></extra>",
         "legendgroup": "hunter",
         "marker": {
          "color": "#A71930",
          "pattern": {
           "shape": ""
          }
         },
         "name": "hunter",
         "offsetgroup": "hunter",
         "orientation": "h",
         "showlegend": false,
         "textposition": "auto",
         "texttemplate": "%{x}",
         "type": "bar",
         "x": [
          0
         ],
         "xaxis": "x",
         "y": [
          "hunter"
         ],
         "yaxis": "y"
        }
       ],
       "layout": {
        "barmode": "relative",
        "legend": {
         "title": {
          "text": "picker"
         },
         "tracegroupgap": 0
        },
        "template": {
         "data": {
          "bar": [
           {
            "error_x": {
             "color": "#2a3f5f"
            },
            "error_y": {
             "color": "#2a3f5f"
            },
            "marker": {
             "line": {
              "color": "#E5ECF6",
              "width": 0.5
             },
             "pattern": {
              "fillmode": "overlay",
              "size": 10,
              "solidity": 0.2
             }
            },
            "type": "bar"
           }
          ],
          "barpolar": [
           {
            "marker": {
             "line": {
              "color": "#E5ECF6",
              "width": 0.5
             },
             "pattern": {
              "fillmode": "overlay",
              "size": 10,
              "solidity": 0.2
             }
            },
            "type": "barpolar"
           }
          ],
          "carpet": [
           {
            "aaxis": {
             "endlinecolor": "#2a3f5f",
             "gridcolor": "white",
             "linecolor": "white",
             "minorgridcolor": "white",
             "startlinecolor": "#2a3f5f"
            },
            "baxis": {
             "endlinecolor": "#2a3f5f",
             "gridcolor": "white",
             "linecolor": "white",
             "minorgridcolor": "white",
             "startlinecolor": "#2a3f5f"
            },
            "type": "carpet"
           }
          ],
          "choropleth": [
           {
            "colorbar": {
             "outlinewidth": 0,
             "ticks": ""
            },
            "type": "choropleth"
           }
          ],
          "contour": [
           {
            "colorbar": {
             "outlinewidth": 0,
             "ticks": ""
            },
            "colorscale": [
             [
              0,
              "#0d0887"
             ],
             [
              0.1111111111111111,
              "#46039f"
             ],
             [
              0.2222222222222222,
              "#7201a8"
             ],
             [
              0.3333333333333333,
              "#9c179e"
             ],
             [
              0.4444444444444444,
              "#bd3786"
             ],
             [
              0.5555555555555556,
              "#d8576b"
             ],
             [
              0.6666666666666666,
              "#ed7953"
             ],
             [
              0.7777777777777778,
              "#fb9f3a"
             ],
             [
              0.8888888888888888,
              "#fdca26"
             ],
             [
              1,
              "#f0f921"
             ]
            ],
            "type": "contour"
           }
          ],
          "contourcarpet": [
           {
            "colorbar": {
             "outlinewidth": 0,
             "ticks": ""
            },
            "type": "contourcarpet"
           }
          ],
          "heatmap": [
           {
            "colorbar": {
             "outlinewidth": 0,
             "ticks": ""
            },
            "colorscale": [
             [
              0,
              "#0d0887"
             ],
             [
              0.1111111111111111,
              "#46039f"
             ],
             [
              0.2222222222222222,
              "#7201a8"
             ],
             [
              0.3333333333333333,
              "#9c179e"
             ],
             [
              0.4444444444444444,
              "#bd3786"
             ],
             [
              0.5555555555555556,
              "#d8576b"
             ],
             [
              0.6666666666666666,
              "#ed7953"
             ],
             [
              0.7777777777777778,
              "#fb9f3a"
             ],
             [
              0.8888888888888888,
              "#fdca26"
             ],
             [
              1,
              "#f0f921"
             ]
            ],
            "type": "heatmap"
           }
          ],
          "heatmapgl": [
           {
            "colorbar": {
             "outlinewidth": 0,
             "ticks": ""
            },
            "colorscale": [
             [
              0,
              "#0d0887"
             ],
             [
              0.1111111111111111,
              "#46039f"
             ],
             [
              0.2222222222222222,
              "#7201a8"
             ],
             [
              0.3333333333333333,
              "#9c179e"
             ],
             [
              0.4444444444444444,
              "#bd3786"
             ],
             [
              0.5555555555555556,
              "#d8576b"
             ],
             [
              0.6666666666666666,
              "#ed7953"
             ],
             [
              0.7777777777777778,
              "#fb9f3a"
             ],
             [
              0.8888888888888888,
              "#fdca26"
             ],
             [
              1,
              "#f0f921"
             ]
            ],
            "type": "heatmapgl"
           }
          ],
          "histogram": [
           {
            "marker": {
             "pattern": {
              "fillmode": "overlay",
              "size": 10,
              "solidity": 0.2
             }
            },
            "type": "histogram"
           }
          ],
          "histogram2d": [
           {
            "colorbar": {
             "outlinewidth": 0,
             "ticks": ""
            },
            "colorscale": [
             [
              0,
              "#0d0887"
             ],
             [
              0.1111111111111111,
              "#46039f"
             ],
             [
              0.2222222222222222,
              "#7201a8"
             ],
             [
              0.3333333333333333,
              "#9c179e"
             ],
             [
              0.4444444444444444,
              "#bd3786"
             ],
             [
              0.5555555555555556,
              "#d8576b"
             ],
             [
              0.6666666666666666,
              "#ed7953"
             ],
             [
              0.7777777777777778,
              "#fb9f3a"
             ],
             [
              0.8888888888888888,
              "#fdca26"
             ],
             [
              1,
              "#f0f921"
             ]
            ],
            "type": "histogram2d"
           }
          ],
          "histogram2dcontour": [
           {
            "colorbar": {
             "outlinewidth": 0,
             "ticks": ""
            },
            "colorscale": [
             [
              0,
              "#0d0887"
             ],
             [
              0.1111111111111111,
              "#46039f"
             ],
             [
              0.2222222222222222,
              "#7201a8"
             ],
             [
              0.3333333333333333,
              "#9c179e"
             ],
             [
              0.4444444444444444,
              "#bd3786"
             ],
             [
              0.5555555555555556,
              "#d8576b"
             ],
             [
              0.6666666666666666,
              "#ed7953"
             ],
             [
              0.7777777777777778,
              "#fb9f3a"
             ],
             [
              0.8888888888888888,
              "#fdca26"
             ],
             [
              1,
              "#f0f921"
             ]
            ],
            "type": "histogram2dcontour"
           }
          ],
          "mesh3d": [
           {
            "colorbar": {
             "outlinewidth": 0,
             "ticks": ""
            },
            "type": "mesh3d"
           }
          ],
          "parcoords": [
           {
            "line": {
             "colorbar": {
              "outlinewidth": 0,
              "ticks": ""
             }
            },
            "type": "parcoords"
           }
          ],
          "pie": [
           {
            "automargin": true,
            "type": "pie"
           }
          ],
          "scatter": [
           {
            "fillpattern": {
             "fillmode": "overlay",
             "size": 10,
             "solidity": 0.2
            },
            "type": "scatter"
           }
          ],
          "scatter3d": [
           {
            "line": {
             "colorbar": {
              "outlinewidth": 0,
              "ticks": ""
             }
            },
            "marker": {
             "colorbar": {
              "outlinewidth": 0,
              "ticks": ""
             }
            },
            "type": "scatter3d"
           }
          ],
          "scattercarpet": [
           {
            "marker": {
             "colorbar": {
              "outlinewidth": 0,
              "ticks": ""
             }
            },
            "type": "scattercarpet"
           }
          ],
          "scattergeo": [
           {
            "marker": {
             "colorbar": {
              "outlinewidth": 0,
              "ticks": ""
             }
            },
            "type": "scattergeo"
           }
          ],
          "scattergl": [
           {
            "marker": {
             "colorbar": {
              "outlinewidth": 0,
              "ticks": ""
             }
            },
            "type": "scattergl"
           }
          ],
          "scattermapbox": [
           {
            "marker": {
             "colorbar": {
              "outlinewidth": 0,
              "ticks": ""
             }
            },
            "type": "scattermapbox"
           }
          ],
          "scatterpolar": [
           {
            "marker": {
             "colorbar": {
              "outlinewidth": 0,
              "ticks": ""
             }
            },
            "type": "scatterpolar"
           }
          ],
          "scatterpolargl": [
           {
            "marker": {
             "colorbar": {
              "outlinewidth": 0,
              "ticks": ""
             }
            },
            "type": "scatterpolargl"
           }
          ],
          "scatterternary": [
           {
            "marker": {
             "colorbar": {
              "outlinewidth": 0,
              "ticks": ""
             }
            },
            "type": "scatterternary"
           }
          ],
          "surface": [
           {
            "colorbar": {
             "outlinewidth": 0,
             "ticks": ""
            },
            "colorscale": [
             [
              0,
              "#0d0887"
             ],
             [
              0.1111111111111111,
              "#46039f"
             ],
             [
              0.2222222222222222,
              "#7201a8"
             ],
             [
              0.3333333333333333,
              "#9c179e"
             ],
             [
              0.4444444444444444,
              "#bd3786"
             ],
             [
              0.5555555555555556,
              "#d8576b"
             ],
             [
              0.6666666666666666,
              "#ed7953"
             ],
             [
              0.7777777777777778,
              "#fb9f3a"
             ],
             [
              0.8888888888888888,
              "#fdca26"
             ],
             [
              1,
              "#f0f921"
             ]
            ],
            "type": "surface"
           }
          ],
          "table": [
           {
            "cells": {
             "fill": {
              "color": "#EBF0F8"
             },
             "line": {
              "color": "white"
             }
            },
            "header": {
             "fill": {
              "color": "#C8D4E3"
             },
             "line": {
              "color": "white"
             }
            },
            "type": "table"
           }
          ]
         },
         "layout": {
          "annotationdefaults": {
           "arrowcolor": "#2a3f5f",
           "arrowhead": 0,
           "arrowwidth": 1
          },
          "autotypenumbers": "strict",
          "coloraxis": {
           "colorbar": {
            "outlinewidth": 0,
            "ticks": ""
           }
          },
          "colorscale": {
           "diverging": [
            [
             0,
             "#8e0152"
            ],
            [
             0.1,
             "#c51b7d"
            ],
            [
             0.2,
             "#de77ae"
            ],
            [
             0.3,
             "#f1b6da"
            ],
            [
             0.4,
             "#fde0ef"
            ],
            [
             0.5,
             "#f7f7f7"
            ],
            [
             0.6,
             "#e6f5d0"
            ],
            [
             0.7,
             "#b8e186"
            ],
            [
             0.8,
             "#7fbc41"
            ],
            [
             0.9,
             "#4d9221"
            ],
            [
             1,
             "#276419"
            ]
           ],
           "sequential": [
            [
             0,
             "#0d0887"
            ],
            [
             0.1111111111111111,
             "#46039f"
            ],
            [
             0.2222222222222222,
             "#7201a8"
            ],
            [
             0.3333333333333333,
             "#9c179e"
            ],
            [
             0.4444444444444444,
             "#bd3786"
            ],
            [
             0.5555555555555556,
             "#d8576b"
            ],
            [
             0.6666666666666666,
             "#ed7953"
            ],
            [
             0.7777777777777778,
             "#fb9f3a"
            ],
            [
             0.8888888888888888,
             "#fdca26"
            ],
            [
             1,
             "#f0f921"
            ]
           ],
           "sequentialminus": [
            [
             0,
             "#0d0887"
            ],
            [
             0.1111111111111111,
             "#46039f"
            ],
            [
             0.2222222222222222,
             "#7201a8"
            ],
            [
             0.3333333333333333,
             "#9c179e"
            ],
            [
             0.4444444444444444,
             "#bd3786"
            ],
            [
             0.5555555555555556,
             "#d8576b"
            ],
            [
             0.6666666666666666,
             "#ed7953"
            ],
            [
             0.7777777777777778,
             "#fb9f3a"
            ],
            [
             0.8888888888888888,
             "#fdca26"
            ],
            [
             1,
             "#f0f921"
            ]
           ]
          },
          "colorway": [
           "#636efa",
           "#EF553B",
           "#00cc96",
           "#ab63fa",
           "#FFA15A",
           "#19d3f3",
           "#FF6692",
           "#B6E880",
           "#FF97FF",
           "#FECB52"
          ],
          "font": {
           "color": "#2a3f5f"
          },
          "geo": {
           "bgcolor": "white",
           "lakecolor": "white",
           "landcolor": "#E5ECF6",
           "showlakes": true,
           "showland": true,
           "subunitcolor": "white"
          },
          "hoverlabel": {
           "align": "left"
          },
          "hovermode": "closest",
          "mapbox": {
           "style": "light"
          },
          "paper_bgcolor": "white",
          "plot_bgcolor": "#E5ECF6",
          "polar": {
           "angularaxis": {
            "gridcolor": "white",
            "linecolor": "white",
            "ticks": ""
           },
           "bgcolor": "#E5ECF6",
           "radialaxis": {
            "gridcolor": "white",
            "linecolor": "white",
            "ticks": ""
           }
          },
          "scene": {
           "xaxis": {
            "backgroundcolor": "#E5ECF6",
            "gridcolor": "white",
            "gridwidth": 2,
            "linecolor": "white",
            "showbackground": true,
            "ticks": "",
            "zerolinecolor": "white"
           },
           "yaxis": {
            "backgroundcolor": "#E5ECF6",
            "gridcolor": "white",
            "gridwidth": 2,
            "linecolor": "white",
            "showbackground": true,
            "ticks": "",
            "zerolinecolor": "white"
           },
           "zaxis": {
            "backgroundcolor": "#E5ECF6",
            "gridcolor": "white",
            "gridwidth": 2,
            "linecolor": "white",
            "showbackground": true,
            "ticks": "",
            "zerolinecolor": "white"
           }
          },
          "shapedefaults": {
           "line": {
            "color": "#2a3f5f"
           }
          },
          "ternary": {
           "aaxis": {
            "gridcolor": "white",
            "linecolor": "white",
            "ticks": ""
           },
           "baxis": {
            "gridcolor": "white",
            "linecolor": "white",
            "ticks": ""
           },
           "bgcolor": "#E5ECF6",
           "caxis": {
            "gridcolor": "white",
            "linecolor": "white",
            "ticks": ""
           }
          },
          "title": {
           "x": 0.05
          },
          "xaxis": {
           "automargin": true,
           "gridcolor": "white",
           "linecolor": "white",
           "ticks": "",
           "title": {
            "standoff": 15
           },
           "zerolinecolor": "white",
           "zerolinewidth": 2
          },
          "yaxis": {
           "automargin": true,
           "gridcolor": "white",
           "linecolor": "white",
           "ticks": "",
           "title": {
            "standoff": 15
           },
           "zerolinecolor": "white",
           "zerolinewidth": 2
          }
         }
        },
        "title": {
         "text": "2023 Week 8 Scores - Best"
        },
        "xaxis": {
         "anchor": "y",
         "domain": [
          0,
          1
         ],
         "title": {
          "text": "pick_result"
         }
        },
        "yaxis": {
         "anchor": "x",
         "categoryarray": [
          "hunter",
          "griffin",
          "final",
          "ben",
          "chuck"
         ],
         "categoryorder": "array",
         "domain": [
          0,
          1
         ],
         "title": {
          "text": "picker"
         }
        }
       }
      }
     },
     "metadata": {},
     "output_type": "display_data"
    }
   ],
   "source": [
    "homers.plot_scores(week_df, 'best_bet')"
   ]
  },
  {
   "cell_type": "code",
   "execution_count": 12,
   "metadata": {},
   "outputs": [
    {
     "data": {
      "application/vnd.plotly.v1+json": {
       "config": {
        "plotlyServerURL": "https://plot.ly"
       },
       "data": [
        {
         "alignmentgroup": "True",
         "hovertemplate": "picker=%{y}<br>pick_result=%{x}<extra></extra>",
         "legendgroup": "harry",
         "marker": {
          "color": "#311D00",
          "pattern": {
           "shape": ""
          }
         },
         "name": "harry",
         "offsetgroup": "harry",
         "orientation": "h",
         "showlegend": false,
         "textposition": "auto",
         "texttemplate": "%{x}",
         "type": "bar",
         "x": [
          1.43
         ],
         "xaxis": "x",
         "y": [
          "harry"
         ],
         "yaxis": "y"
        },
        {
         "alignmentgroup": "True",
         "hovertemplate": "picker=%{y}<br>pick_result=%{x}<extra></extra>",
         "legendgroup": "chuck",
         "marker": {
          "color": "#0B162A",
          "pattern": {
           "shape": ""
          }
         },
         "name": "chuck",
         "offsetgroup": "chuck",
         "orientation": "h",
         "showlegend": false,
         "textposition": "auto",
         "texttemplate": "%{x}",
         "type": "bar",
         "x": [
          1.29
         ],
         "xaxis": "x",
         "y": [
          "chuck"
         ],
         "yaxis": "y"
        },
        {
         "alignmentgroup": "True",
         "hovertemplate": "picker=%{y}<br>pick_result=%{x}<extra></extra>",
         "legendgroup": "final",
         "marker": {
          "color": "#B3995D",
          "pattern": {
           "shape": ""
          }
         },
         "name": "final",
         "offsetgroup": "final",
         "orientation": "h",
         "showlegend": false,
         "textposition": "auto",
         "texttemplate": "%{x}",
         "type": "bar",
         "x": [
          1.14
         ],
         "xaxis": "x",
         "y": [
          "final"
         ],
         "yaxis": "y"
        },
        {
         "alignmentgroup": "True",
         "hovertemplate": "picker=%{y}<br>pick_result=%{x}<extra></extra>",
         "legendgroup": "hunter",
         "marker": {
          "color": "#A71930",
          "pattern": {
           "shape": ""
          }
         },
         "name": "hunter",
         "offsetgroup": "hunter",
         "orientation": "h",
         "showlegend": false,
         "textposition": "auto",
         "texttemplate": "%{x}",
         "type": "bar",
         "x": [
          0.86
         ],
         "xaxis": "x",
         "y": [
          "hunter"
         ],
         "yaxis": "y"
        },
        {
         "alignmentgroup": "True",
         "hovertemplate": "picker=%{y}<br>pick_result=%{x}<extra></extra>",
         "legendgroup": "ben",
         "marker": {
          "color": "#5A1414",
          "pattern": {
           "shape": ""
          }
         },
         "name": "ben",
         "offsetgroup": "ben",
         "orientation": "h",
         "showlegend": false,
         "textposition": "auto",
         "texttemplate": "%{x}",
         "type": "bar",
         "x": [
          0.57
         ],
         "xaxis": "x",
         "y": [
          "ben"
         ],
         "yaxis": "y"
        },
        {
         "alignmentgroup": "True",
         "hovertemplate": "picker=%{y}<br>pick_result=%{x}<extra></extra>",
         "legendgroup": "griffin",
         "marker": {
          "color": "#FF3C00",
          "pattern": {
           "shape": ""
          }
         },
         "name": "griffin",
         "offsetgroup": "griffin",
         "orientation": "h",
         "showlegend": false,
         "textposition": "auto",
         "texttemplate": "%{x}",
         "type": "bar",
         "x": [
          0.29
         ],
         "xaxis": "x",
         "y": [
          "griffin"
         ],
         "yaxis": "y"
        }
       ],
       "layout": {
        "barmode": "relative",
        "height": 500,
        "legend": {
         "title": {
          "text": "picker"
         },
         "tracegroupgap": 0
        },
        "template": {
         "data": {
          "bar": [
           {
            "error_x": {
             "color": "#2a3f5f"
            },
            "error_y": {
             "color": "#2a3f5f"
            },
            "marker": {
             "line": {
              "color": "#E5ECF6",
              "width": 0.5
             },
             "pattern": {
              "fillmode": "overlay",
              "size": 10,
              "solidity": 0.2
             }
            },
            "type": "bar"
           }
          ],
          "barpolar": [
           {
            "marker": {
             "line": {
              "color": "#E5ECF6",
              "width": 0.5
             },
             "pattern": {
              "fillmode": "overlay",
              "size": 10,
              "solidity": 0.2
             }
            },
            "type": "barpolar"
           }
          ],
          "carpet": [
           {
            "aaxis": {
             "endlinecolor": "#2a3f5f",
             "gridcolor": "white",
             "linecolor": "white",
             "minorgridcolor": "white",
             "startlinecolor": "#2a3f5f"
            },
            "baxis": {
             "endlinecolor": "#2a3f5f",
             "gridcolor": "white",
             "linecolor": "white",
             "minorgridcolor": "white",
             "startlinecolor": "#2a3f5f"
            },
            "type": "carpet"
           }
          ],
          "choropleth": [
           {
            "colorbar": {
             "outlinewidth": 0,
             "ticks": ""
            },
            "type": "choropleth"
           }
          ],
          "contour": [
           {
            "colorbar": {
             "outlinewidth": 0,
             "ticks": ""
            },
            "colorscale": [
             [
              0,
              "#0d0887"
             ],
             [
              0.1111111111111111,
              "#46039f"
             ],
             [
              0.2222222222222222,
              "#7201a8"
             ],
             [
              0.3333333333333333,
              "#9c179e"
             ],
             [
              0.4444444444444444,
              "#bd3786"
             ],
             [
              0.5555555555555556,
              "#d8576b"
             ],
             [
              0.6666666666666666,
              "#ed7953"
             ],
             [
              0.7777777777777778,
              "#fb9f3a"
             ],
             [
              0.8888888888888888,
              "#fdca26"
             ],
             [
              1,
              "#f0f921"
             ]
            ],
            "type": "contour"
           }
          ],
          "contourcarpet": [
           {
            "colorbar": {
             "outlinewidth": 0,
             "ticks": ""
            },
            "type": "contourcarpet"
           }
          ],
          "heatmap": [
           {
            "colorbar": {
             "outlinewidth": 0,
             "ticks": ""
            },
            "colorscale": [
             [
              0,
              "#0d0887"
             ],
             [
              0.1111111111111111,
              "#46039f"
             ],
             [
              0.2222222222222222,
              "#7201a8"
             ],
             [
              0.3333333333333333,
              "#9c179e"
             ],
             [
              0.4444444444444444,
              "#bd3786"
             ],
             [
              0.5555555555555556,
              "#d8576b"
             ],
             [
              0.6666666666666666,
              "#ed7953"
             ],
             [
              0.7777777777777778,
              "#fb9f3a"
             ],
             [
              0.8888888888888888,
              "#fdca26"
             ],
             [
              1,
              "#f0f921"
             ]
            ],
            "type": "heatmap"
           }
          ],
          "heatmapgl": [
           {
            "colorbar": {
             "outlinewidth": 0,
             "ticks": ""
            },
            "colorscale": [
             [
              0,
              "#0d0887"
             ],
             [
              0.1111111111111111,
              "#46039f"
             ],
             [
              0.2222222222222222,
              "#7201a8"
             ],
             [
              0.3333333333333333,
              "#9c179e"
             ],
             [
              0.4444444444444444,
              "#bd3786"
             ],
             [
              0.5555555555555556,
              "#d8576b"
             ],
             [
              0.6666666666666666,
              "#ed7953"
             ],
             [
              0.7777777777777778,
              "#fb9f3a"
             ],
             [
              0.8888888888888888,
              "#fdca26"
             ],
             [
              1,
              "#f0f921"
             ]
            ],
            "type": "heatmapgl"
           }
          ],
          "histogram": [
           {
            "marker": {
             "pattern": {
              "fillmode": "overlay",
              "size": 10,
              "solidity": 0.2
             }
            },
            "type": "histogram"
           }
          ],
          "histogram2d": [
           {
            "colorbar": {
             "outlinewidth": 0,
             "ticks": ""
            },
            "colorscale": [
             [
              0,
              "#0d0887"
             ],
             [
              0.1111111111111111,
              "#46039f"
             ],
             [
              0.2222222222222222,
              "#7201a8"
             ],
             [
              0.3333333333333333,
              "#9c179e"
             ],
             [
              0.4444444444444444,
              "#bd3786"
             ],
             [
              0.5555555555555556,
              "#d8576b"
             ],
             [
              0.6666666666666666,
              "#ed7953"
             ],
             [
              0.7777777777777778,
              "#fb9f3a"
             ],
             [
              0.8888888888888888,
              "#fdca26"
             ],
             [
              1,
              "#f0f921"
             ]
            ],
            "type": "histogram2d"
           }
          ],
          "histogram2dcontour": [
           {
            "colorbar": {
             "outlinewidth": 0,
             "ticks": ""
            },
            "colorscale": [
             [
              0,
              "#0d0887"
             ],
             [
              0.1111111111111111,
              "#46039f"
             ],
             [
              0.2222222222222222,
              "#7201a8"
             ],
             [
              0.3333333333333333,
              "#9c179e"
             ],
             [
              0.4444444444444444,
              "#bd3786"
             ],
             [
              0.5555555555555556,
              "#d8576b"
             ],
             [
              0.6666666666666666,
              "#ed7953"
             ],
             [
              0.7777777777777778,
              "#fb9f3a"
             ],
             [
              0.8888888888888888,
              "#fdca26"
             ],
             [
              1,
              "#f0f921"
             ]
            ],
            "type": "histogram2dcontour"
           }
          ],
          "mesh3d": [
           {
            "colorbar": {
             "outlinewidth": 0,
             "ticks": ""
            },
            "type": "mesh3d"
           }
          ],
          "parcoords": [
           {
            "line": {
             "colorbar": {
              "outlinewidth": 0,
              "ticks": ""
             }
            },
            "type": "parcoords"
           }
          ],
          "pie": [
           {
            "automargin": true,
            "type": "pie"
           }
          ],
          "scatter": [
           {
            "fillpattern": {
             "fillmode": "overlay",
             "size": 10,
             "solidity": 0.2
            },
            "type": "scatter"
           }
          ],
          "scatter3d": [
           {
            "line": {
             "colorbar": {
              "outlinewidth": 0,
              "ticks": ""
             }
            },
            "marker": {
             "colorbar": {
              "outlinewidth": 0,
              "ticks": ""
             }
            },
            "type": "scatter3d"
           }
          ],
          "scattercarpet": [
           {
            "marker": {
             "colorbar": {
              "outlinewidth": 0,
              "ticks": ""
             }
            },
            "type": "scattercarpet"
           }
          ],
          "scattergeo": [
           {
            "marker": {
             "colorbar": {
              "outlinewidth": 0,
              "ticks": ""
             }
            },
            "type": "scattergeo"
           }
          ],
          "scattergl": [
           {
            "marker": {
             "colorbar": {
              "outlinewidth": 0,
              "ticks": ""
             }
            },
            "type": "scattergl"
           }
          ],
          "scattermapbox": [
           {
            "marker": {
             "colorbar": {
              "outlinewidth": 0,
              "ticks": ""
             }
            },
            "type": "scattermapbox"
           }
          ],
          "scatterpolar": [
           {
            "marker": {
             "colorbar": {
              "outlinewidth": 0,
              "ticks": ""
             }
            },
            "type": "scatterpolar"
           }
          ],
          "scatterpolargl": [
           {
            "marker": {
             "colorbar": {
              "outlinewidth": 0,
              "ticks": ""
             }
            },
            "type": "scatterpolargl"
           }
          ],
          "scatterternary": [
           {
            "marker": {
             "colorbar": {
              "outlinewidth": 0,
              "ticks": ""
             }
            },
            "type": "scatterternary"
           }
          ],
          "surface": [
           {
            "colorbar": {
             "outlinewidth": 0,
             "ticks": ""
            },
            "colorscale": [
             [
              0,
              "#0d0887"
             ],
             [
              0.1111111111111111,
              "#46039f"
             ],
             [
              0.2222222222222222,
              "#7201a8"
             ],
             [
              0.3333333333333333,
              "#9c179e"
             ],
             [
              0.4444444444444444,
              "#bd3786"
             ],
             [
              0.5555555555555556,
              "#d8576b"
             ],
             [
              0.6666666666666666,
              "#ed7953"
             ],
             [
              0.7777777777777778,
              "#fb9f3a"
             ],
             [
              0.8888888888888888,
              "#fdca26"
             ],
             [
              1,
              "#f0f921"
             ]
            ],
            "type": "surface"
           }
          ],
          "table": [
           {
            "cells": {
             "fill": {
              "color": "#EBF0F8"
             },
             "line": {
              "color": "white"
             }
            },
            "header": {
             "fill": {
              "color": "#C8D4E3"
             },
             "line": {
              "color": "white"
             }
            },
            "type": "table"
           }
          ]
         },
         "layout": {
          "annotationdefaults": {
           "arrowcolor": "#2a3f5f",
           "arrowhead": 0,
           "arrowwidth": 1
          },
          "autotypenumbers": "strict",
          "coloraxis": {
           "colorbar": {
            "outlinewidth": 0,
            "ticks": ""
           }
          },
          "colorscale": {
           "diverging": [
            [
             0,
             "#8e0152"
            ],
            [
             0.1,
             "#c51b7d"
            ],
            [
             0.2,
             "#de77ae"
            ],
            [
             0.3,
             "#f1b6da"
            ],
            [
             0.4,
             "#fde0ef"
            ],
            [
             0.5,
             "#f7f7f7"
            ],
            [
             0.6,
             "#e6f5d0"
            ],
            [
             0.7,
             "#b8e186"
            ],
            [
             0.8,
             "#7fbc41"
            ],
            [
             0.9,
             "#4d9221"
            ],
            [
             1,
             "#276419"
            ]
           ],
           "sequential": [
            [
             0,
             "#0d0887"
            ],
            [
             0.1111111111111111,
             "#46039f"
            ],
            [
             0.2222222222222222,
             "#7201a8"
            ],
            [
             0.3333333333333333,
             "#9c179e"
            ],
            [
             0.4444444444444444,
             "#bd3786"
            ],
            [
             0.5555555555555556,
             "#d8576b"
            ],
            [
             0.6666666666666666,
             "#ed7953"
            ],
            [
             0.7777777777777778,
             "#fb9f3a"
            ],
            [
             0.8888888888888888,
             "#fdca26"
            ],
            [
             1,
             "#f0f921"
            ]
           ],
           "sequentialminus": [
            [
             0,
             "#0d0887"
            ],
            [
             0.1111111111111111,
             "#46039f"
            ],
            [
             0.2222222222222222,
             "#7201a8"
            ],
            [
             0.3333333333333333,
             "#9c179e"
            ],
            [
             0.4444444444444444,
             "#bd3786"
            ],
            [
             0.5555555555555556,
             "#d8576b"
            ],
            [
             0.6666666666666666,
             "#ed7953"
            ],
            [
             0.7777777777777778,
             "#fb9f3a"
            ],
            [
             0.8888888888888888,
             "#fdca26"
            ],
            [
             1,
             "#f0f921"
            ]
           ]
          },
          "colorway": [
           "#636efa",
           "#EF553B",
           "#00cc96",
           "#ab63fa",
           "#FFA15A",
           "#19d3f3",
           "#FF6692",
           "#B6E880",
           "#FF97FF",
           "#FECB52"
          ],
          "font": {
           "color": "#2a3f5f"
          },
          "geo": {
           "bgcolor": "white",
           "lakecolor": "white",
           "landcolor": "#E5ECF6",
           "showlakes": true,
           "showland": true,
           "subunitcolor": "white"
          },
          "hoverlabel": {
           "align": "left"
          },
          "hovermode": "closest",
          "mapbox": {
           "style": "light"
          },
          "paper_bgcolor": "white",
          "plot_bgcolor": "#E5ECF6",
          "polar": {
           "angularaxis": {
            "gridcolor": "white",
            "linecolor": "white",
            "ticks": ""
           },
           "bgcolor": "#E5ECF6",
           "radialaxis": {
            "gridcolor": "white",
            "linecolor": "white",
            "ticks": ""
           }
          },
          "scene": {
           "xaxis": {
            "backgroundcolor": "#E5ECF6",
            "gridcolor": "white",
            "gridwidth": 2,
            "linecolor": "white",
            "showbackground": true,
            "ticks": "",
            "zerolinecolor": "white"
           },
           "yaxis": {
            "backgroundcolor": "#E5ECF6",
            "gridcolor": "white",
            "gridwidth": 2,
            "linecolor": "white",
            "showbackground": true,
            "ticks": "",
            "zerolinecolor": "white"
           },
           "zaxis": {
            "backgroundcolor": "#E5ECF6",
            "gridcolor": "white",
            "gridwidth": 2,
            "linecolor": "white",
            "showbackground": true,
            "ticks": "",
            "zerolinecolor": "white"
           }
          },
          "shapedefaults": {
           "line": {
            "color": "#2a3f5f"
           }
          },
          "ternary": {
           "aaxis": {
            "gridcolor": "white",
            "linecolor": "white",
            "ticks": ""
           },
           "baxis": {
            "gridcolor": "white",
            "linecolor": "white",
            "ticks": ""
           },
           "bgcolor": "#E5ECF6",
           "caxis": {
            "gridcolor": "white",
            "linecolor": "white",
            "ticks": ""
           }
          },
          "title": {
           "x": 0.05
          },
          "xaxis": {
           "automargin": true,
           "gridcolor": "white",
           "linecolor": "white",
           "ticks": "",
           "title": {
            "standoff": 15
           },
           "zerolinecolor": "white",
           "zerolinewidth": 2
          },
          "yaxis": {
           "automargin": true,
           "gridcolor": "white",
           "linecolor": "white",
           "ticks": "",
           "title": {
            "standoff": 15
           },
           "zerolinecolor": "white",
           "zerolinewidth": 2
          }
         }
        },
        "title": {
         "text": "2023 Weeks 2-8 Avg Scores - Best"
        },
        "width": 800,
        "xaxis": {
         "anchor": "y",
         "domain": [
          0,
          1
         ],
         "title": {
          "text": "pick_result"
         }
        },
        "yaxis": {
         "anchor": "x",
         "categoryarray": [
          "griffin",
          "ben",
          "hunter",
          "final",
          "chuck",
          "harry"
         ],
         "categoryorder": "array",
         "domain": [
          0,
          1
         ],
         "title": {
          "text": "picker"
         }
        }
       }
      }
     },
     "metadata": {},
     "output_type": "display_data"
    }
   ],
   "source": [
    "homers.plot_scores(season_df, 'best_bet', agg_sum=False)"
   ]
  },
  {
   "cell_type": "code",
   "execution_count": 13,
   "metadata": {},
   "outputs": [
    {
     "data": {
      "application/vnd.plotly.v1+json": {
       "config": {
        "plotlyServerURL": "https://plot.ly"
       },
       "data": [
        {
         "alignmentgroup": "True",
         "hovertemplate": "picker=%{y}<br>pick_result=%{x}<extra></extra>",
         "legendgroup": "final",
         "marker": {
          "color": "#B3995D",
          "pattern": {
           "shape": ""
          }
         },
         "name": "final",
         "offsetgroup": "final",
         "orientation": "h",
         "showlegend": false,
         "textposition": "auto",
         "texttemplate": "%{x}",
         "type": "bar",
         "x": [
          4
         ],
         "xaxis": "x",
         "y": [
          "final"
         ],
         "yaxis": "y"
        },
        {
         "alignmentgroup": "True",
         "hovertemplate": "picker=%{y}<br>pick_result=%{x}<extra></extra>",
         "legendgroup": "griffin",
         "marker": {
          "color": "#FF3C00",
          "pattern": {
           "shape": ""
          }
         },
         "name": "griffin",
         "offsetgroup": "griffin",
         "orientation": "h",
         "showlegend": false,
         "textposition": "auto",
         "texttemplate": "%{x}",
         "type": "bar",
         "x": [
          4
         ],
         "xaxis": "x",
         "y": [
          "griffin"
         ],
         "yaxis": "y"
        },
        {
         "alignmentgroup": "True",
         "hovertemplate": "picker=%{y}<br>pick_result=%{x}<extra></extra>",
         "legendgroup": "hunter",
         "marker": {
          "color": "#A71930",
          "pattern": {
           "shape": ""
          }
         },
         "name": "hunter",
         "offsetgroup": "hunter",
         "orientation": "h",
         "showlegend": false,
         "textposition": "auto",
         "texttemplate": "%{x}",
         "type": "bar",
         "x": [
          4
         ],
         "xaxis": "x",
         "y": [
          "hunter"
         ],
         "yaxis": "y"
        },
        {
         "alignmentgroup": "True",
         "hovertemplate": "picker=%{y}<br>pick_result=%{x}<extra></extra>",
         "legendgroup": "ben",
         "marker": {
          "color": "#5A1414",
          "pattern": {
           "shape": ""
          }
         },
         "name": "ben",
         "offsetgroup": "ben",
         "orientation": "h",
         "showlegend": false,
         "textposition": "auto",
         "texttemplate": "%{x}",
         "type": "bar",
         "x": [
          0
         ],
         "xaxis": "x",
         "y": [
          "ben"
         ],
         "yaxis": "y"
        },
        {
         "alignmentgroup": "True",
         "hovertemplate": "picker=%{y}<br>pick_result=%{x}<extra></extra>",
         "legendgroup": "chuck",
         "marker": {
          "color": "#0B162A",
          "pattern": {
           "shape": ""
          }
         },
         "name": "chuck",
         "offsetgroup": "chuck",
         "orientation": "h",
         "showlegend": false,
         "textposition": "auto",
         "texttemplate": "%{x}",
         "type": "bar",
         "x": [
          0
         ],
         "xaxis": "x",
         "y": [
          "chuck"
         ],
         "yaxis": "y"
        },
        {
         "alignmentgroup": "True",
         "hovertemplate": "picker=%{y}<br>pick_result=%{x}<extra></extra>",
         "legendgroup": "harry",
         "marker": {
          "color": "#311D00",
          "pattern": {
           "shape": ""
          }
         },
         "name": "harry",
         "offsetgroup": "harry",
         "orientation": "h",
         "showlegend": false,
         "textposition": "auto",
         "texttemplate": "%{x}",
         "type": "bar",
         "x": [
          0
         ],
         "xaxis": "x",
         "y": [
          "harry"
         ],
         "yaxis": "y"
        }
       ],
       "layout": {
        "barmode": "relative",
        "height": 500,
        "legend": {
         "title": {
          "text": "picker"
         },
         "tracegroupgap": 0
        },
        "template": {
         "data": {
          "bar": [
           {
            "error_x": {
             "color": "#2a3f5f"
            },
            "error_y": {
             "color": "#2a3f5f"
            },
            "marker": {
             "line": {
              "color": "#E5ECF6",
              "width": 0.5
             },
             "pattern": {
              "fillmode": "overlay",
              "size": 10,
              "solidity": 0.2
             }
            },
            "type": "bar"
           }
          ],
          "barpolar": [
           {
            "marker": {
             "line": {
              "color": "#E5ECF6",
              "width": 0.5
             },
             "pattern": {
              "fillmode": "overlay",
              "size": 10,
              "solidity": 0.2
             }
            },
            "type": "barpolar"
           }
          ],
          "carpet": [
           {
            "aaxis": {
             "endlinecolor": "#2a3f5f",
             "gridcolor": "white",
             "linecolor": "white",
             "minorgridcolor": "white",
             "startlinecolor": "#2a3f5f"
            },
            "baxis": {
             "endlinecolor": "#2a3f5f",
             "gridcolor": "white",
             "linecolor": "white",
             "minorgridcolor": "white",
             "startlinecolor": "#2a3f5f"
            },
            "type": "carpet"
           }
          ],
          "choropleth": [
           {
            "colorbar": {
             "outlinewidth": 0,
             "ticks": ""
            },
            "type": "choropleth"
           }
          ],
          "contour": [
           {
            "colorbar": {
             "outlinewidth": 0,
             "ticks": ""
            },
            "colorscale": [
             [
              0,
              "#0d0887"
             ],
             [
              0.1111111111111111,
              "#46039f"
             ],
             [
              0.2222222222222222,
              "#7201a8"
             ],
             [
              0.3333333333333333,
              "#9c179e"
             ],
             [
              0.4444444444444444,
              "#bd3786"
             ],
             [
              0.5555555555555556,
              "#d8576b"
             ],
             [
              0.6666666666666666,
              "#ed7953"
             ],
             [
              0.7777777777777778,
              "#fb9f3a"
             ],
             [
              0.8888888888888888,
              "#fdca26"
             ],
             [
              1,
              "#f0f921"
             ]
            ],
            "type": "contour"
           }
          ],
          "contourcarpet": [
           {
            "colorbar": {
             "outlinewidth": 0,
             "ticks": ""
            },
            "type": "contourcarpet"
           }
          ],
          "heatmap": [
           {
            "colorbar": {
             "outlinewidth": 0,
             "ticks": ""
            },
            "colorscale": [
             [
              0,
              "#0d0887"
             ],
             [
              0.1111111111111111,
              "#46039f"
             ],
             [
              0.2222222222222222,
              "#7201a8"
             ],
             [
              0.3333333333333333,
              "#9c179e"
             ],
             [
              0.4444444444444444,
              "#bd3786"
             ],
             [
              0.5555555555555556,
              "#d8576b"
             ],
             [
              0.6666666666666666,
              "#ed7953"
             ],
             [
              0.7777777777777778,
              "#fb9f3a"
             ],
             [
              0.8888888888888888,
              "#fdca26"
             ],
             [
              1,
              "#f0f921"
             ]
            ],
            "type": "heatmap"
           }
          ],
          "heatmapgl": [
           {
            "colorbar": {
             "outlinewidth": 0,
             "ticks": ""
            },
            "colorscale": [
             [
              0,
              "#0d0887"
             ],
             [
              0.1111111111111111,
              "#46039f"
             ],
             [
              0.2222222222222222,
              "#7201a8"
             ],
             [
              0.3333333333333333,
              "#9c179e"
             ],
             [
              0.4444444444444444,
              "#bd3786"
             ],
             [
              0.5555555555555556,
              "#d8576b"
             ],
             [
              0.6666666666666666,
              "#ed7953"
             ],
             [
              0.7777777777777778,
              "#fb9f3a"
             ],
             [
              0.8888888888888888,
              "#fdca26"
             ],
             [
              1,
              "#f0f921"
             ]
            ],
            "type": "heatmapgl"
           }
          ],
          "histogram": [
           {
            "marker": {
             "pattern": {
              "fillmode": "overlay",
              "size": 10,
              "solidity": 0.2
             }
            },
            "type": "histogram"
           }
          ],
          "histogram2d": [
           {
            "colorbar": {
             "outlinewidth": 0,
             "ticks": ""
            },
            "colorscale": [
             [
              0,
              "#0d0887"
             ],
             [
              0.1111111111111111,
              "#46039f"
             ],
             [
              0.2222222222222222,
              "#7201a8"
             ],
             [
              0.3333333333333333,
              "#9c179e"
             ],
             [
              0.4444444444444444,
              "#bd3786"
             ],
             [
              0.5555555555555556,
              "#d8576b"
             ],
             [
              0.6666666666666666,
              "#ed7953"
             ],
             [
              0.7777777777777778,
              "#fb9f3a"
             ],
             [
              0.8888888888888888,
              "#fdca26"
             ],
             [
              1,
              "#f0f921"
             ]
            ],
            "type": "histogram2d"
           }
          ],
          "histogram2dcontour": [
           {
            "colorbar": {
             "outlinewidth": 0,
             "ticks": ""
            },
            "colorscale": [
             [
              0,
              "#0d0887"
             ],
             [
              0.1111111111111111,
              "#46039f"
             ],
             [
              0.2222222222222222,
              "#7201a8"
             ],
             [
              0.3333333333333333,
              "#9c179e"
             ],
             [
              0.4444444444444444,
              "#bd3786"
             ],
             [
              0.5555555555555556,
              "#d8576b"
             ],
             [
              0.6666666666666666,
              "#ed7953"
             ],
             [
              0.7777777777777778,
              "#fb9f3a"
             ],
             [
              0.8888888888888888,
              "#fdca26"
             ],
             [
              1,
              "#f0f921"
             ]
            ],
            "type": "histogram2dcontour"
           }
          ],
          "mesh3d": [
           {
            "colorbar": {
             "outlinewidth": 0,
             "ticks": ""
            },
            "type": "mesh3d"
           }
          ],
          "parcoords": [
           {
            "line": {
             "colorbar": {
              "outlinewidth": 0,
              "ticks": ""
             }
            },
            "type": "parcoords"
           }
          ],
          "pie": [
           {
            "automargin": true,
            "type": "pie"
           }
          ],
          "scatter": [
           {
            "fillpattern": {
             "fillmode": "overlay",
             "size": 10,
             "solidity": 0.2
            },
            "type": "scatter"
           }
          ],
          "scatter3d": [
           {
            "line": {
             "colorbar": {
              "outlinewidth": 0,
              "ticks": ""
             }
            },
            "marker": {
             "colorbar": {
              "outlinewidth": 0,
              "ticks": ""
             }
            },
            "type": "scatter3d"
           }
          ],
          "scattercarpet": [
           {
            "marker": {
             "colorbar": {
              "outlinewidth": 0,
              "ticks": ""
             }
            },
            "type": "scattercarpet"
           }
          ],
          "scattergeo": [
           {
            "marker": {
             "colorbar": {
              "outlinewidth": 0,
              "ticks": ""
             }
            },
            "type": "scattergeo"
           }
          ],
          "scattergl": [
           {
            "marker": {
             "colorbar": {
              "outlinewidth": 0,
              "ticks": ""
             }
            },
            "type": "scattergl"
           }
          ],
          "scattermapbox": [
           {
            "marker": {
             "colorbar": {
              "outlinewidth": 0,
              "ticks": ""
             }
            },
            "type": "scattermapbox"
           }
          ],
          "scatterpolar": [
           {
            "marker": {
             "colorbar": {
              "outlinewidth": 0,
              "ticks": ""
             }
            },
            "type": "scatterpolar"
           }
          ],
          "scatterpolargl": [
           {
            "marker": {
             "colorbar": {
              "outlinewidth": 0,
              "ticks": ""
             }
            },
            "type": "scatterpolargl"
           }
          ],
          "scatterternary": [
           {
            "marker": {
             "colorbar": {
              "outlinewidth": 0,
              "ticks": ""
             }
            },
            "type": "scatterternary"
           }
          ],
          "surface": [
           {
            "colorbar": {
             "outlinewidth": 0,
             "ticks": ""
            },
            "colorscale": [
             [
              0,
              "#0d0887"
             ],
             [
              0.1111111111111111,
              "#46039f"
             ],
             [
              0.2222222222222222,
              "#7201a8"
             ],
             [
              0.3333333333333333,
              "#9c179e"
             ],
             [
              0.4444444444444444,
              "#bd3786"
             ],
             [
              0.5555555555555556,
              "#d8576b"
             ],
             [
              0.6666666666666666,
              "#ed7953"
             ],
             [
              0.7777777777777778,
              "#fb9f3a"
             ],
             [
              0.8888888888888888,
              "#fdca26"
             ],
             [
              1,
              "#f0f921"
             ]
            ],
            "type": "surface"
           }
          ],
          "table": [
           {
            "cells": {
             "fill": {
              "color": "#EBF0F8"
             },
             "line": {
              "color": "white"
             }
            },
            "header": {
             "fill": {
              "color": "#C8D4E3"
             },
             "line": {
              "color": "white"
             }
            },
            "type": "table"
           }
          ]
         },
         "layout": {
          "annotationdefaults": {
           "arrowcolor": "#2a3f5f",
           "arrowhead": 0,
           "arrowwidth": 1
          },
          "autotypenumbers": "strict",
          "coloraxis": {
           "colorbar": {
            "outlinewidth": 0,
            "ticks": ""
           }
          },
          "colorscale": {
           "diverging": [
            [
             0,
             "#8e0152"
            ],
            [
             0.1,
             "#c51b7d"
            ],
            [
             0.2,
             "#de77ae"
            ],
            [
             0.3,
             "#f1b6da"
            ],
            [
             0.4,
             "#fde0ef"
            ],
            [
             0.5,
             "#f7f7f7"
            ],
            [
             0.6,
             "#e6f5d0"
            ],
            [
             0.7,
             "#b8e186"
            ],
            [
             0.8,
             "#7fbc41"
            ],
            [
             0.9,
             "#4d9221"
            ],
            [
             1,
             "#276419"
            ]
           ],
           "sequential": [
            [
             0,
             "#0d0887"
            ],
            [
             0.1111111111111111,
             "#46039f"
            ],
            [
             0.2222222222222222,
             "#7201a8"
            ],
            [
             0.3333333333333333,
             "#9c179e"
            ],
            [
             0.4444444444444444,
             "#bd3786"
            ],
            [
             0.5555555555555556,
             "#d8576b"
            ],
            [
             0.6666666666666666,
             "#ed7953"
            ],
            [
             0.7777777777777778,
             "#fb9f3a"
            ],
            [
             0.8888888888888888,
             "#fdca26"
            ],
            [
             1,
             "#f0f921"
            ]
           ],
           "sequentialminus": [
            [
             0,
             "#0d0887"
            ],
            [
             0.1111111111111111,
             "#46039f"
            ],
            [
             0.2222222222222222,
             "#7201a8"
            ],
            [
             0.3333333333333333,
             "#9c179e"
            ],
            [
             0.4444444444444444,
             "#bd3786"
            ],
            [
             0.5555555555555556,
             "#d8576b"
            ],
            [
             0.6666666666666666,
             "#ed7953"
            ],
            [
             0.7777777777777778,
             "#fb9f3a"
            ],
            [
             0.8888888888888888,
             "#fdca26"
            ],
            [
             1,
             "#f0f921"
            ]
           ]
          },
          "colorway": [
           "#636efa",
           "#EF553B",
           "#00cc96",
           "#ab63fa",
           "#FFA15A",
           "#19d3f3",
           "#FF6692",
           "#B6E880",
           "#FF97FF",
           "#FECB52"
          ],
          "font": {
           "color": "#2a3f5f"
          },
          "geo": {
           "bgcolor": "white",
           "lakecolor": "white",
           "landcolor": "#E5ECF6",
           "showlakes": true,
           "showland": true,
           "subunitcolor": "white"
          },
          "hoverlabel": {
           "align": "left"
          },
          "hovermode": "closest",
          "mapbox": {
           "style": "light"
          },
          "paper_bgcolor": "white",
          "plot_bgcolor": "#E5ECF6",
          "polar": {
           "angularaxis": {
            "gridcolor": "white",
            "linecolor": "white",
            "ticks": ""
           },
           "bgcolor": "#E5ECF6",
           "radialaxis": {
            "gridcolor": "white",
            "linecolor": "white",
            "ticks": ""
           }
          },
          "scene": {
           "xaxis": {
            "backgroundcolor": "#E5ECF6",
            "gridcolor": "white",
            "gridwidth": 2,
            "linecolor": "white",
            "showbackground": true,
            "ticks": "",
            "zerolinecolor": "white"
           },
           "yaxis": {
            "backgroundcolor": "#E5ECF6",
            "gridcolor": "white",
            "gridwidth": 2,
            "linecolor": "white",
            "showbackground": true,
            "ticks": "",
            "zerolinecolor": "white"
           },
           "zaxis": {
            "backgroundcolor": "#E5ECF6",
            "gridcolor": "white",
            "gridwidth": 2,
            "linecolor": "white",
            "showbackground": true,
            "ticks": "",
            "zerolinecolor": "white"
           }
          },
          "shapedefaults": {
           "line": {
            "color": "#2a3f5f"
           }
          },
          "ternary": {
           "aaxis": {
            "gridcolor": "white",
            "linecolor": "white",
            "ticks": ""
           },
           "baxis": {
            "gridcolor": "white",
            "linecolor": "white",
            "ticks": ""
           },
           "bgcolor": "#E5ECF6",
           "caxis": {
            "gridcolor": "white",
            "linecolor": "white",
            "ticks": ""
           }
          },
          "title": {
           "x": 0.05
          },
          "xaxis": {
           "automargin": true,
           "gridcolor": "white",
           "linecolor": "white",
           "ticks": "",
           "title": {
            "standoff": 15
           },
           "zerolinecolor": "white",
           "zerolinewidth": 2
          },
          "yaxis": {
           "automargin": true,
           "gridcolor": "white",
           "linecolor": "white",
           "ticks": "",
           "title": {
            "standoff": 15
           },
           "zerolinecolor": "white",
           "zerolinewidth": 2
          }
         }
        },
        "title": {
         "text": "2023 Week 8 Scores - Underdog"
        },
        "width": 800,
        "xaxis": {
         "anchor": "y",
         "domain": [
          0,
          1
         ],
         "title": {
          "text": "pick_result"
         }
        },
        "yaxis": {
         "anchor": "x",
         "categoryarray": [
          "harry",
          "chuck",
          "ben",
          "hunter",
          "griffin",
          "final"
         ],
         "categoryorder": "array",
         "domain": [
          0,
          1
         ],
         "title": {
          "text": "picker"
         }
        }
       }
      }
     },
     "metadata": {},
     "output_type": "display_data"
    }
   ],
   "source": [
    "homers.plot_scores(week_df, 'underdog_pick')"
   ]
  },
  {
   "cell_type": "code",
   "execution_count": 14,
   "metadata": {},
   "outputs": [
    {
     "data": {
      "application/vnd.plotly.v1+json": {
       "config": {
        "plotlyServerURL": "https://plot.ly"
       },
       "data": [
        {
         "alignmentgroup": "True",
         "hovertemplate": "picker=%{y}<br>pick_result=%{x}<extra></extra>",
         "legendgroup": "hunter",
         "marker": {
          "color": "#A71930",
          "pattern": {
           "shape": ""
          }
         },
         "name": "hunter",
         "offsetgroup": "hunter",
         "orientation": "h",
         "showlegend": false,
         "textposition": "auto",
         "texttemplate": "%{x}",
         "type": "bar",
         "x": [
          2.57
         ],
         "xaxis": "x",
         "y": [
          "hunter"
         ],
         "yaxis": "y"
        },
        {
         "alignmentgroup": "True",
         "hovertemplate": "picker=%{y}<br>pick_result=%{x}<extra></extra>",
         "legendgroup": "harry",
         "marker": {
          "color": "#311D00",
          "pattern": {
           "shape": ""
          }
         },
         "name": "harry",
         "offsetgroup": "harry",
         "orientation": "h",
         "showlegend": false,
         "textposition": "auto",
         "texttemplate": "%{x}",
         "type": "bar",
         "x": [
          2.43
         ],
         "xaxis": "x",
         "y": [
          "harry"
         ],
         "yaxis": "y"
        },
        {
         "alignmentgroup": "True",
         "hovertemplate": "picker=%{y}<br>pick_result=%{x}<extra></extra>",
         "legendgroup": "final",
         "marker": {
          "color": "#B3995D",
          "pattern": {
           "shape": ""
          }
         },
         "name": "final",
         "offsetgroup": "final",
         "orientation": "h",
         "showlegend": false,
         "textposition": "auto",
         "texttemplate": "%{x}",
         "type": "bar",
         "x": [
          1.93
         ],
         "xaxis": "x",
         "y": [
          "final"
         ],
         "yaxis": "y"
        },
        {
         "alignmentgroup": "True",
         "hovertemplate": "picker=%{y}<br>pick_result=%{x}<extra></extra>",
         "legendgroup": "griffin",
         "marker": {
          "color": "#FF3C00",
          "pattern": {
           "shape": ""
          }
         },
         "name": "griffin",
         "offsetgroup": "griffin",
         "orientation": "h",
         "showlegend": false,
         "textposition": "auto",
         "texttemplate": "%{x}",
         "type": "bar",
         "x": [
          1.93
         ],
         "xaxis": "x",
         "y": [
          "griffin"
         ],
         "yaxis": "y"
        },
        {
         "alignmentgroup": "True",
         "hovertemplate": "picker=%{y}<br>pick_result=%{x}<extra></extra>",
         "legendgroup": "ben",
         "marker": {
          "color": "#5A1414",
          "pattern": {
           "shape": ""
          }
         },
         "name": "ben",
         "offsetgroup": "ben",
         "orientation": "h",
         "showlegend": false,
         "textposition": "auto",
         "texttemplate": "%{x}",
         "type": "bar",
         "x": [
          0.43
         ],
         "xaxis": "x",
         "y": [
          "ben"
         ],
         "yaxis": "y"
        },
        {
         "alignmentgroup": "True",
         "hovertemplate": "picker=%{y}<br>pick_result=%{x}<extra></extra>",
         "legendgroup": "chuck",
         "marker": {
          "color": "#0B162A",
          "pattern": {
           "shape": ""
          }
         },
         "name": "chuck",
         "offsetgroup": "chuck",
         "orientation": "h",
         "showlegend": false,
         "textposition": "auto",
         "texttemplate": "%{x}",
         "type": "bar",
         "x": [
          0
         ],
         "xaxis": "x",
         "y": [
          "chuck"
         ],
         "yaxis": "y"
        }
       ],
       "layout": {
        "barmode": "relative",
        "height": 500,
        "legend": {
         "title": {
          "text": "picker"
         },
         "tracegroupgap": 0
        },
        "template": {
         "data": {
          "bar": [
           {
            "error_x": {
             "color": "#2a3f5f"
            },
            "error_y": {
             "color": "#2a3f5f"
            },
            "marker": {
             "line": {
              "color": "#E5ECF6",
              "width": 0.5
             },
             "pattern": {
              "fillmode": "overlay",
              "size": 10,
              "solidity": 0.2
             }
            },
            "type": "bar"
           }
          ],
          "barpolar": [
           {
            "marker": {
             "line": {
              "color": "#E5ECF6",
              "width": 0.5
             },
             "pattern": {
              "fillmode": "overlay",
              "size": 10,
              "solidity": 0.2
             }
            },
            "type": "barpolar"
           }
          ],
          "carpet": [
           {
            "aaxis": {
             "endlinecolor": "#2a3f5f",
             "gridcolor": "white",
             "linecolor": "white",
             "minorgridcolor": "white",
             "startlinecolor": "#2a3f5f"
            },
            "baxis": {
             "endlinecolor": "#2a3f5f",
             "gridcolor": "white",
             "linecolor": "white",
             "minorgridcolor": "white",
             "startlinecolor": "#2a3f5f"
            },
            "type": "carpet"
           }
          ],
          "choropleth": [
           {
            "colorbar": {
             "outlinewidth": 0,
             "ticks": ""
            },
            "type": "choropleth"
           }
          ],
          "contour": [
           {
            "colorbar": {
             "outlinewidth": 0,
             "ticks": ""
            },
            "colorscale": [
             [
              0,
              "#0d0887"
             ],
             [
              0.1111111111111111,
              "#46039f"
             ],
             [
              0.2222222222222222,
              "#7201a8"
             ],
             [
              0.3333333333333333,
              "#9c179e"
             ],
             [
              0.4444444444444444,
              "#bd3786"
             ],
             [
              0.5555555555555556,
              "#d8576b"
             ],
             [
              0.6666666666666666,
              "#ed7953"
             ],
             [
              0.7777777777777778,
              "#fb9f3a"
             ],
             [
              0.8888888888888888,
              "#fdca26"
             ],
             [
              1,
              "#f0f921"
             ]
            ],
            "type": "contour"
           }
          ],
          "contourcarpet": [
           {
            "colorbar": {
             "outlinewidth": 0,
             "ticks": ""
            },
            "type": "contourcarpet"
           }
          ],
          "heatmap": [
           {
            "colorbar": {
             "outlinewidth": 0,
             "ticks": ""
            },
            "colorscale": [
             [
              0,
              "#0d0887"
             ],
             [
              0.1111111111111111,
              "#46039f"
             ],
             [
              0.2222222222222222,
              "#7201a8"
             ],
             [
              0.3333333333333333,
              "#9c179e"
             ],
             [
              0.4444444444444444,
              "#bd3786"
             ],
             [
              0.5555555555555556,
              "#d8576b"
             ],
             [
              0.6666666666666666,
              "#ed7953"
             ],
             [
              0.7777777777777778,
              "#fb9f3a"
             ],
             [
              0.8888888888888888,
              "#fdca26"
             ],
             [
              1,
              "#f0f921"
             ]
            ],
            "type": "heatmap"
           }
          ],
          "heatmapgl": [
           {
            "colorbar": {
             "outlinewidth": 0,
             "ticks": ""
            },
            "colorscale": [
             [
              0,
              "#0d0887"
             ],
             [
              0.1111111111111111,
              "#46039f"
             ],
             [
              0.2222222222222222,
              "#7201a8"
             ],
             [
              0.3333333333333333,
              "#9c179e"
             ],
             [
              0.4444444444444444,
              "#bd3786"
             ],
             [
              0.5555555555555556,
              "#d8576b"
             ],
             [
              0.6666666666666666,
              "#ed7953"
             ],
             [
              0.7777777777777778,
              "#fb9f3a"
             ],
             [
              0.8888888888888888,
              "#fdca26"
             ],
             [
              1,
              "#f0f921"
             ]
            ],
            "type": "heatmapgl"
           }
          ],
          "histogram": [
           {
            "marker": {
             "pattern": {
              "fillmode": "overlay",
              "size": 10,
              "solidity": 0.2
             }
            },
            "type": "histogram"
           }
          ],
          "histogram2d": [
           {
            "colorbar": {
             "outlinewidth": 0,
             "ticks": ""
            },
            "colorscale": [
             [
              0,
              "#0d0887"
             ],
             [
              0.1111111111111111,
              "#46039f"
             ],
             [
              0.2222222222222222,
              "#7201a8"
             ],
             [
              0.3333333333333333,
              "#9c179e"
             ],
             [
              0.4444444444444444,
              "#bd3786"
             ],
             [
              0.5555555555555556,
              "#d8576b"
             ],
             [
              0.6666666666666666,
              "#ed7953"
             ],
             [
              0.7777777777777778,
              "#fb9f3a"
             ],
             [
              0.8888888888888888,
              "#fdca26"
             ],
             [
              1,
              "#f0f921"
             ]
            ],
            "type": "histogram2d"
           }
          ],
          "histogram2dcontour": [
           {
            "colorbar": {
             "outlinewidth": 0,
             "ticks": ""
            },
            "colorscale": [
             [
              0,
              "#0d0887"
             ],
             [
              0.1111111111111111,
              "#46039f"
             ],
             [
              0.2222222222222222,
              "#7201a8"
             ],
             [
              0.3333333333333333,
              "#9c179e"
             ],
             [
              0.4444444444444444,
              "#bd3786"
             ],
             [
              0.5555555555555556,
              "#d8576b"
             ],
             [
              0.6666666666666666,
              "#ed7953"
             ],
             [
              0.7777777777777778,
              "#fb9f3a"
             ],
             [
              0.8888888888888888,
              "#fdca26"
             ],
             [
              1,
              "#f0f921"
             ]
            ],
            "type": "histogram2dcontour"
           }
          ],
          "mesh3d": [
           {
            "colorbar": {
             "outlinewidth": 0,
             "ticks": ""
            },
            "type": "mesh3d"
           }
          ],
          "parcoords": [
           {
            "line": {
             "colorbar": {
              "outlinewidth": 0,
              "ticks": ""
             }
            },
            "type": "parcoords"
           }
          ],
          "pie": [
           {
            "automargin": true,
            "type": "pie"
           }
          ],
          "scatter": [
           {
            "fillpattern": {
             "fillmode": "overlay",
             "size": 10,
             "solidity": 0.2
            },
            "type": "scatter"
           }
          ],
          "scatter3d": [
           {
            "line": {
             "colorbar": {
              "outlinewidth": 0,
              "ticks": ""
             }
            },
            "marker": {
             "colorbar": {
              "outlinewidth": 0,
              "ticks": ""
             }
            },
            "type": "scatter3d"
           }
          ],
          "scattercarpet": [
           {
            "marker": {
             "colorbar": {
              "outlinewidth": 0,
              "ticks": ""
             }
            },
            "type": "scattercarpet"
           }
          ],
          "scattergeo": [
           {
            "marker": {
             "colorbar": {
              "outlinewidth": 0,
              "ticks": ""
             }
            },
            "type": "scattergeo"
           }
          ],
          "scattergl": [
           {
            "marker": {
             "colorbar": {
              "outlinewidth": 0,
              "ticks": ""
             }
            },
            "type": "scattergl"
           }
          ],
          "scattermapbox": [
           {
            "marker": {
             "colorbar": {
              "outlinewidth": 0,
              "ticks": ""
             }
            },
            "type": "scattermapbox"
           }
          ],
          "scatterpolar": [
           {
            "marker": {
             "colorbar": {
              "outlinewidth": 0,
              "ticks": ""
             }
            },
            "type": "scatterpolar"
           }
          ],
          "scatterpolargl": [
           {
            "marker": {
             "colorbar": {
              "outlinewidth": 0,
              "ticks": ""
             }
            },
            "type": "scatterpolargl"
           }
          ],
          "scatterternary": [
           {
            "marker": {
             "colorbar": {
              "outlinewidth": 0,
              "ticks": ""
             }
            },
            "type": "scatterternary"
           }
          ],
          "surface": [
           {
            "colorbar": {
             "outlinewidth": 0,
             "ticks": ""
            },
            "colorscale": [
             [
              0,
              "#0d0887"
             ],
             [
              0.1111111111111111,
              "#46039f"
             ],
             [
              0.2222222222222222,
              "#7201a8"
             ],
             [
              0.3333333333333333,
              "#9c179e"
             ],
             [
              0.4444444444444444,
              "#bd3786"
             ],
             [
              0.5555555555555556,
              "#d8576b"
             ],
             [
              0.6666666666666666,
              "#ed7953"
             ],
             [
              0.7777777777777778,
              "#fb9f3a"
             ],
             [
              0.8888888888888888,
              "#fdca26"
             ],
             [
              1,
              "#f0f921"
             ]
            ],
            "type": "surface"
           }
          ],
          "table": [
           {
            "cells": {
             "fill": {
              "color": "#EBF0F8"
             },
             "line": {
              "color": "white"
             }
            },
            "header": {
             "fill": {
              "color": "#C8D4E3"
             },
             "line": {
              "color": "white"
             }
            },
            "type": "table"
           }
          ]
         },
         "layout": {
          "annotationdefaults": {
           "arrowcolor": "#2a3f5f",
           "arrowhead": 0,
           "arrowwidth": 1
          },
          "autotypenumbers": "strict",
          "coloraxis": {
           "colorbar": {
            "outlinewidth": 0,
            "ticks": ""
           }
          },
          "colorscale": {
           "diverging": [
            [
             0,
             "#8e0152"
            ],
            [
             0.1,
             "#c51b7d"
            ],
            [
             0.2,
             "#de77ae"
            ],
            [
             0.3,
             "#f1b6da"
            ],
            [
             0.4,
             "#fde0ef"
            ],
            [
             0.5,
             "#f7f7f7"
            ],
            [
             0.6,
             "#e6f5d0"
            ],
            [
             0.7,
             "#b8e186"
            ],
            [
             0.8,
             "#7fbc41"
            ],
            [
             0.9,
             "#4d9221"
            ],
            [
             1,
             "#276419"
            ]
           ],
           "sequential": [
            [
             0,
             "#0d0887"
            ],
            [
             0.1111111111111111,
             "#46039f"
            ],
            [
             0.2222222222222222,
             "#7201a8"
            ],
            [
             0.3333333333333333,
             "#9c179e"
            ],
            [
             0.4444444444444444,
             "#bd3786"
            ],
            [
             0.5555555555555556,
             "#d8576b"
            ],
            [
             0.6666666666666666,
             "#ed7953"
            ],
            [
             0.7777777777777778,
             "#fb9f3a"
            ],
            [
             0.8888888888888888,
             "#fdca26"
            ],
            [
             1,
             "#f0f921"
            ]
           ],
           "sequentialminus": [
            [
             0,
             "#0d0887"
            ],
            [
             0.1111111111111111,
             "#46039f"
            ],
            [
             0.2222222222222222,
             "#7201a8"
            ],
            [
             0.3333333333333333,
             "#9c179e"
            ],
            [
             0.4444444444444444,
             "#bd3786"
            ],
            [
             0.5555555555555556,
             "#d8576b"
            ],
            [
             0.6666666666666666,
             "#ed7953"
            ],
            [
             0.7777777777777778,
             "#fb9f3a"
            ],
            [
             0.8888888888888888,
             "#fdca26"
            ],
            [
             1,
             "#f0f921"
            ]
           ]
          },
          "colorway": [
           "#636efa",
           "#EF553B",
           "#00cc96",
           "#ab63fa",
           "#FFA15A",
           "#19d3f3",
           "#FF6692",
           "#B6E880",
           "#FF97FF",
           "#FECB52"
          ],
          "font": {
           "color": "#2a3f5f"
          },
          "geo": {
           "bgcolor": "white",
           "lakecolor": "white",
           "landcolor": "#E5ECF6",
           "showlakes": true,
           "showland": true,
           "subunitcolor": "white"
          },
          "hoverlabel": {
           "align": "left"
          },
          "hovermode": "closest",
          "mapbox": {
           "style": "light"
          },
          "paper_bgcolor": "white",
          "plot_bgcolor": "#E5ECF6",
          "polar": {
           "angularaxis": {
            "gridcolor": "white",
            "linecolor": "white",
            "ticks": ""
           },
           "bgcolor": "#E5ECF6",
           "radialaxis": {
            "gridcolor": "white",
            "linecolor": "white",
            "ticks": ""
           }
          },
          "scene": {
           "xaxis": {
            "backgroundcolor": "#E5ECF6",
            "gridcolor": "white",
            "gridwidth": 2,
            "linecolor": "white",
            "showbackground": true,
            "ticks": "",
            "zerolinecolor": "white"
           },
           "yaxis": {
            "backgroundcolor": "#E5ECF6",
            "gridcolor": "white",
            "gridwidth": 2,
            "linecolor": "white",
            "showbackground": true,
            "ticks": "",
            "zerolinecolor": "white"
           },
           "zaxis": {
            "backgroundcolor": "#E5ECF6",
            "gridcolor": "white",
            "gridwidth": 2,
            "linecolor": "white",
            "showbackground": true,
            "ticks": "",
            "zerolinecolor": "white"
           }
          },
          "shapedefaults": {
           "line": {
            "color": "#2a3f5f"
           }
          },
          "ternary": {
           "aaxis": {
            "gridcolor": "white",
            "linecolor": "white",
            "ticks": ""
           },
           "baxis": {
            "gridcolor": "white",
            "linecolor": "white",
            "ticks": ""
           },
           "bgcolor": "#E5ECF6",
           "caxis": {
            "gridcolor": "white",
            "linecolor": "white",
            "ticks": ""
           }
          },
          "title": {
           "x": 0.05
          },
          "xaxis": {
           "automargin": true,
           "gridcolor": "white",
           "linecolor": "white",
           "ticks": "",
           "title": {
            "standoff": 15
           },
           "zerolinecolor": "white",
           "zerolinewidth": 2
          },
          "yaxis": {
           "automargin": true,
           "gridcolor": "white",
           "linecolor": "white",
           "ticks": "",
           "title": {
            "standoff": 15
           },
           "zerolinecolor": "white",
           "zerolinewidth": 2
          }
         }
        },
        "title": {
         "text": "2023 Weeks 2-8 Avg Scores - Underdog"
        },
        "width": 800,
        "xaxis": {
         "anchor": "y",
         "domain": [
          0,
          1
         ],
         "title": {
          "text": "pick_result"
         }
        },
        "yaxis": {
         "anchor": "x",
         "categoryarray": [
          "chuck",
          "ben",
          "griffin",
          "final",
          "harry",
          "hunter"
         ],
         "categoryorder": "array",
         "domain": [
          0,
          1
         ],
         "title": {
          "text": "picker"
         }
        }
       }
      }
     },
     "metadata": {},
     "output_type": "display_data"
    },
    {
     "data": {
      "application/vnd.plotly.v1+json": {
       "config": {
        "plotlyServerURL": "https://plot.ly"
       },
       "data": [
        {
         "alignmentgroup": "True",
         "hovertemplate": "picker=%{y}<br>pick_result=%{x}<extra></extra>",
         "legendgroup": "harry",
         "marker": {
          "color": "#311D00",
          "pattern": {
           "shape": ""
          }
         },
         "name": "harry",
         "offsetgroup": "harry",
         "orientation": "h",
         "showlegend": false,
         "textposition": "auto",
         "texttemplate": "%{x}",
         "type": "bar",
         "x": [
          2.96
         ],
         "xaxis": "x",
         "y": [
          "harry"
         ],
         "yaxis": "y"
        },
        {
         "alignmentgroup": "True",
         "hovertemplate": "picker=%{y}<br>pick_result=%{x}<extra></extra>",
         "legendgroup": "hunter",
         "marker": {
          "color": "#A71930",
          "pattern": {
           "shape": ""
          }
         },
         "name": "hunter",
         "offsetgroup": "hunter",
         "orientation": "h",
         "showlegend": false,
         "textposition": "auto",
         "texttemplate": "%{x}",
         "type": "bar",
         "x": [
          1.99
         ],
         "xaxis": "x",
         "y": [
          "hunter"
         ],
         "yaxis": "y"
        },
        {
         "alignmentgroup": "True",
         "hovertemplate": "picker=%{y}<br>pick_result=%{x}<extra></extra>",
         "legendgroup": "griffin",
         "marker": {
          "color": "#FF3C00",
          "pattern": {
           "shape": ""
          }
         },
         "name": "griffin",
         "offsetgroup": "griffin",
         "orientation": "h",
         "showlegend": false,
         "textposition": "auto",
         "texttemplate": "%{x}",
         "type": "bar",
         "x": [
          1.79
         ],
         "xaxis": "x",
         "y": [
          "griffin"
         ],
         "yaxis": "y"
        },
        {
         "alignmentgroup": "True",
         "hovertemplate": "picker=%{y}<br>pick_result=%{x}<extra></extra>",
         "legendgroup": "final",
         "marker": {
          "color": "#B3995D",
          "pattern": {
           "shape": ""
          }
         },
         "name": "final",
         "offsetgroup": "final",
         "orientation": "h",
         "showlegend": false,
         "textposition": "auto",
         "texttemplate": "%{x}",
         "type": "bar",
         "x": [
          1.49
         ],
         "xaxis": "x",
         "y": [
          "final"
         ],
         "yaxis": "y"
        },
        {
         "alignmentgroup": "True",
         "hovertemplate": "picker=%{y}<br>pick_result=%{x}<extra></extra>",
         "legendgroup": "chuck",
         "marker": {
          "color": "#0B162A",
          "pattern": {
           "shape": ""
          }
         },
         "name": "chuck",
         "offsetgroup": "chuck",
         "orientation": "h",
         "showlegend": false,
         "textposition": "auto",
         "texttemplate": "%{x}",
         "type": "bar",
         "x": [
          0.98
         ],
         "xaxis": "x",
         "y": [
          "chuck"
         ],
         "yaxis": "y"
        },
        {
         "alignmentgroup": "True",
         "hovertemplate": "picker=%{y}<br>pick_result=%{x}<extra></extra>",
         "legendgroup": "ben",
         "marker": {
          "color": "#5A1414",
          "pattern": {
           "shape": ""
          }
         },
         "name": "ben",
         "offsetgroup": "ben",
         "orientation": "h",
         "showlegend": false,
         "textposition": "auto",
         "texttemplate": "%{x}",
         "type": "bar",
         "x": [
          0.79
         ],
         "xaxis": "x",
         "y": [
          "ben"
         ],
         "yaxis": "y"
        }
       ],
       "layout": {
        "barmode": "relative",
        "height": 500,
        "legend": {
         "title": {
          "text": "picker"
         },
         "tracegroupgap": 0
        },
        "template": {
         "data": {
          "bar": [
           {
            "error_x": {
             "color": "#2a3f5f"
            },
            "error_y": {
             "color": "#2a3f5f"
            },
            "marker": {
             "line": {
              "color": "#E5ECF6",
              "width": 0.5
             },
             "pattern": {
              "fillmode": "overlay",
              "size": 10,
              "solidity": 0.2
             }
            },
            "type": "bar"
           }
          ],
          "barpolar": [
           {
            "marker": {
             "line": {
              "color": "#E5ECF6",
              "width": 0.5
             },
             "pattern": {
              "fillmode": "overlay",
              "size": 10,
              "solidity": 0.2
             }
            },
            "type": "barpolar"
           }
          ],
          "carpet": [
           {
            "aaxis": {
             "endlinecolor": "#2a3f5f",
             "gridcolor": "white",
             "linecolor": "white",
             "minorgridcolor": "white",
             "startlinecolor": "#2a3f5f"
            },
            "baxis": {
             "endlinecolor": "#2a3f5f",
             "gridcolor": "white",
             "linecolor": "white",
             "minorgridcolor": "white",
             "startlinecolor": "#2a3f5f"
            },
            "type": "carpet"
           }
          ],
          "choropleth": [
           {
            "colorbar": {
             "outlinewidth": 0,
             "ticks": ""
            },
            "type": "choropleth"
           }
          ],
          "contour": [
           {
            "colorbar": {
             "outlinewidth": 0,
             "ticks": ""
            },
            "colorscale": [
             [
              0,
              "#0d0887"
             ],
             [
              0.1111111111111111,
              "#46039f"
             ],
             [
              0.2222222222222222,
              "#7201a8"
             ],
             [
              0.3333333333333333,
              "#9c179e"
             ],
             [
              0.4444444444444444,
              "#bd3786"
             ],
             [
              0.5555555555555556,
              "#d8576b"
             ],
             [
              0.6666666666666666,
              "#ed7953"
             ],
             [
              0.7777777777777778,
              "#fb9f3a"
             ],
             [
              0.8888888888888888,
              "#fdca26"
             ],
             [
              1,
              "#f0f921"
             ]
            ],
            "type": "contour"
           }
          ],
          "contourcarpet": [
           {
            "colorbar": {
             "outlinewidth": 0,
             "ticks": ""
            },
            "type": "contourcarpet"
           }
          ],
          "heatmap": [
           {
            "colorbar": {
             "outlinewidth": 0,
             "ticks": ""
            },
            "colorscale": [
             [
              0,
              "#0d0887"
             ],
             [
              0.1111111111111111,
              "#46039f"
             ],
             [
              0.2222222222222222,
              "#7201a8"
             ],
             [
              0.3333333333333333,
              "#9c179e"
             ],
             [
              0.4444444444444444,
              "#bd3786"
             ],
             [
              0.5555555555555556,
              "#d8576b"
             ],
             [
              0.6666666666666666,
              "#ed7953"
             ],
             [
              0.7777777777777778,
              "#fb9f3a"
             ],
             [
              0.8888888888888888,
              "#fdca26"
             ],
             [
              1,
              "#f0f921"
             ]
            ],
            "type": "heatmap"
           }
          ],
          "heatmapgl": [
           {
            "colorbar": {
             "outlinewidth": 0,
             "ticks": ""
            },
            "colorscale": [
             [
              0,
              "#0d0887"
             ],
             [
              0.1111111111111111,
              "#46039f"
             ],
             [
              0.2222222222222222,
              "#7201a8"
             ],
             [
              0.3333333333333333,
              "#9c179e"
             ],
             [
              0.4444444444444444,
              "#bd3786"
             ],
             [
              0.5555555555555556,
              "#d8576b"
             ],
             [
              0.6666666666666666,
              "#ed7953"
             ],
             [
              0.7777777777777778,
              "#fb9f3a"
             ],
             [
              0.8888888888888888,
              "#fdca26"
             ],
             [
              1,
              "#f0f921"
             ]
            ],
            "type": "heatmapgl"
           }
          ],
          "histogram": [
           {
            "marker": {
             "pattern": {
              "fillmode": "overlay",
              "size": 10,
              "solidity": 0.2
             }
            },
            "type": "histogram"
           }
          ],
          "histogram2d": [
           {
            "colorbar": {
             "outlinewidth": 0,
             "ticks": ""
            },
            "colorscale": [
             [
              0,
              "#0d0887"
             ],
             [
              0.1111111111111111,
              "#46039f"
             ],
             [
              0.2222222222222222,
              "#7201a8"
             ],
             [
              0.3333333333333333,
              "#9c179e"
             ],
             [
              0.4444444444444444,
              "#bd3786"
             ],
             [
              0.5555555555555556,
              "#d8576b"
             ],
             [
              0.6666666666666666,
              "#ed7953"
             ],
             [
              0.7777777777777778,
              "#fb9f3a"
             ],
             [
              0.8888888888888888,
              "#fdca26"
             ],
             [
              1,
              "#f0f921"
             ]
            ],
            "type": "histogram2d"
           }
          ],
          "histogram2dcontour": [
           {
            "colorbar": {
             "outlinewidth": 0,
             "ticks": ""
            },
            "colorscale": [
             [
              0,
              "#0d0887"
             ],
             [
              0.1111111111111111,
              "#46039f"
             ],
             [
              0.2222222222222222,
              "#7201a8"
             ],
             [
              0.3333333333333333,
              "#9c179e"
             ],
             [
              0.4444444444444444,
              "#bd3786"
             ],
             [
              0.5555555555555556,
              "#d8576b"
             ],
             [
              0.6666666666666666,
              "#ed7953"
             ],
             [
              0.7777777777777778,
              "#fb9f3a"
             ],
             [
              0.8888888888888888,
              "#fdca26"
             ],
             [
              1,
              "#f0f921"
             ]
            ],
            "type": "histogram2dcontour"
           }
          ],
          "mesh3d": [
           {
            "colorbar": {
             "outlinewidth": 0,
             "ticks": ""
            },
            "type": "mesh3d"
           }
          ],
          "parcoords": [
           {
            "line": {
             "colorbar": {
              "outlinewidth": 0,
              "ticks": ""
             }
            },
            "type": "parcoords"
           }
          ],
          "pie": [
           {
            "automargin": true,
            "type": "pie"
           }
          ],
          "scatter": [
           {
            "fillpattern": {
             "fillmode": "overlay",
             "size": 10,
             "solidity": 0.2
            },
            "type": "scatter"
           }
          ],
          "scatter3d": [
           {
            "line": {
             "colorbar": {
              "outlinewidth": 0,
              "ticks": ""
             }
            },
            "marker": {
             "colorbar": {
              "outlinewidth": 0,
              "ticks": ""
             }
            },
            "type": "scatter3d"
           }
          ],
          "scattercarpet": [
           {
            "marker": {
             "colorbar": {
              "outlinewidth": 0,
              "ticks": ""
             }
            },
            "type": "scattercarpet"
           }
          ],
          "scattergeo": [
           {
            "marker": {
             "colorbar": {
              "outlinewidth": 0,
              "ticks": ""
             }
            },
            "type": "scattergeo"
           }
          ],
          "scattergl": [
           {
            "marker": {
             "colorbar": {
              "outlinewidth": 0,
              "ticks": ""
             }
            },
            "type": "scattergl"
           }
          ],
          "scattermapbox": [
           {
            "marker": {
             "colorbar": {
              "outlinewidth": 0,
              "ticks": ""
             }
            },
            "type": "scattermapbox"
           }
          ],
          "scatterpolar": [
           {
            "marker": {
             "colorbar": {
              "outlinewidth": 0,
              "ticks": ""
             }
            },
            "type": "scatterpolar"
           }
          ],
          "scatterpolargl": [
           {
            "marker": {
             "colorbar": {
              "outlinewidth": 0,
              "ticks": ""
             }
            },
            "type": "scatterpolargl"
           }
          ],
          "scatterternary": [
           {
            "marker": {
             "colorbar": {
              "outlinewidth": 0,
              "ticks": ""
             }
            },
            "type": "scatterternary"
           }
          ],
          "surface": [
           {
            "colorbar": {
             "outlinewidth": 0,
             "ticks": ""
            },
            "colorscale": [
             [
              0,
              "#0d0887"
             ],
             [
              0.1111111111111111,
              "#46039f"
             ],
             [
              0.2222222222222222,
              "#7201a8"
             ],
             [
              0.3333333333333333,
              "#9c179e"
             ],
             [
              0.4444444444444444,
              "#bd3786"
             ],
             [
              0.5555555555555556,
              "#d8576b"
             ],
             [
              0.6666666666666666,
              "#ed7953"
             ],
             [
              0.7777777777777778,
              "#fb9f3a"
             ],
             [
              0.8888888888888888,
              "#fdca26"
             ],
             [
              1,
              "#f0f921"
             ]
            ],
            "type": "surface"
           }
          ],
          "table": [
           {
            "cells": {
             "fill": {
              "color": "#EBF0F8"
             },
             "line": {
              "color": "white"
             }
            },
            "header": {
             "fill": {
              "color": "#C8D4E3"
             },
             "line": {
              "color": "white"
             }
            },
            "type": "table"
           }
          ]
         },
         "layout": {
          "annotationdefaults": {
           "arrowcolor": "#2a3f5f",
           "arrowhead": 0,
           "arrowwidth": 1
          },
          "autotypenumbers": "strict",
          "coloraxis": {
           "colorbar": {
            "outlinewidth": 0,
            "ticks": ""
           }
          },
          "colorscale": {
           "diverging": [
            [
             0,
             "#8e0152"
            ],
            [
             0.1,
             "#c51b7d"
            ],
            [
             0.2,
             "#de77ae"
            ],
            [
             0.3,
             "#f1b6da"
            ],
            [
             0.4,
             "#fde0ef"
            ],
            [
             0.5,
             "#f7f7f7"
            ],
            [
             0.6,
             "#e6f5d0"
            ],
            [
             0.7,
             "#b8e186"
            ],
            [
             0.8,
             "#7fbc41"
            ],
            [
             0.9,
             "#4d9221"
            ],
            [
             1,
             "#276419"
            ]
           ],
           "sequential": [
            [
             0,
             "#0d0887"
            ],
            [
             0.1111111111111111,
             "#46039f"
            ],
            [
             0.2222222222222222,
             "#7201a8"
            ],
            [
             0.3333333333333333,
             "#9c179e"
            ],
            [
             0.4444444444444444,
             "#bd3786"
            ],
            [
             0.5555555555555556,
             "#d8576b"
            ],
            [
             0.6666666666666666,
             "#ed7953"
            ],
            [
             0.7777777777777778,
             "#fb9f3a"
            ],
            [
             0.8888888888888888,
             "#fdca26"
            ],
            [
             1,
             "#f0f921"
            ]
           ],
           "sequentialminus": [
            [
             0,
             "#0d0887"
            ],
            [
             0.1111111111111111,
             "#46039f"
            ],
            [
             0.2222222222222222,
             "#7201a8"
            ],
            [
             0.3333333333333333,
             "#9c179e"
            ],
            [
             0.4444444444444444,
             "#bd3786"
            ],
            [
             0.5555555555555556,
             "#d8576b"
            ],
            [
             0.6666666666666666,
             "#ed7953"
            ],
            [
             0.7777777777777778,
             "#fb9f3a"
            ],
            [
             0.8888888888888888,
             "#fdca26"
            ],
            [
             1,
             "#f0f921"
            ]
           ]
          },
          "colorway": [
           "#636efa",
           "#EF553B",
           "#00cc96",
           "#ab63fa",
           "#FFA15A",
           "#19d3f3",
           "#FF6692",
           "#B6E880",
           "#FF97FF",
           "#FECB52"
          ],
          "font": {
           "color": "#2a3f5f"
          },
          "geo": {
           "bgcolor": "white",
           "lakecolor": "white",
           "landcolor": "#E5ECF6",
           "showlakes": true,
           "showland": true,
           "subunitcolor": "white"
          },
          "hoverlabel": {
           "align": "left"
          },
          "hovermode": "closest",
          "mapbox": {
           "style": "light"
          },
          "paper_bgcolor": "white",
          "plot_bgcolor": "#E5ECF6",
          "polar": {
           "angularaxis": {
            "gridcolor": "white",
            "linecolor": "white",
            "ticks": ""
           },
           "bgcolor": "#E5ECF6",
           "radialaxis": {
            "gridcolor": "white",
            "linecolor": "white",
            "ticks": ""
           }
          },
          "scene": {
           "xaxis": {
            "backgroundcolor": "#E5ECF6",
            "gridcolor": "white",
            "gridwidth": 2,
            "linecolor": "white",
            "showbackground": true,
            "ticks": "",
            "zerolinecolor": "white"
           },
           "yaxis": {
            "backgroundcolor": "#E5ECF6",
            "gridcolor": "white",
            "gridwidth": 2,
            "linecolor": "white",
            "showbackground": true,
            "ticks": "",
            "zerolinecolor": "white"
           },
           "zaxis": {
            "backgroundcolor": "#E5ECF6",
            "gridcolor": "white",
            "gridwidth": 2,
            "linecolor": "white",
            "showbackground": true,
            "ticks": "",
            "zerolinecolor": "white"
           }
          },
          "shapedefaults": {
           "line": {
            "color": "#2a3f5f"
           }
          },
          "ternary": {
           "aaxis": {
            "gridcolor": "white",
            "linecolor": "white",
            "ticks": ""
           },
           "baxis": {
            "gridcolor": "white",
            "linecolor": "white",
            "ticks": ""
           },
           "bgcolor": "#E5ECF6",
           "caxis": {
            "gridcolor": "white",
            "linecolor": "white",
            "ticks": ""
           }
          },
          "title": {
           "x": 0.05
          },
          "xaxis": {
           "automargin": true,
           "gridcolor": "white",
           "linecolor": "white",
           "ticks": "",
           "title": {
            "standoff": 15
           },
           "zerolinecolor": "white",
           "zerolinewidth": 2
          },
          "yaxis": {
           "automargin": true,
           "gridcolor": "white",
           "linecolor": "white",
           "ticks": "",
           "title": {
            "standoff": 15
           },
           "zerolinecolor": "white",
           "zerolinewidth": 2
          }
         }
        },
        "title": {
         "text": "2021-2023 Weeks 1-18 Avg Scores - Underdog"
        },
        "width": 800,
        "xaxis": {
         "anchor": "y",
         "domain": [
          0,
          1
         ],
         "title": {
          "text": "pick_result"
         }
        },
        "yaxis": {
         "anchor": "x",
         "categoryarray": [
          "ben",
          "chuck",
          "final",
          "griffin",
          "hunter",
          "harry"
         ],
         "categoryorder": "array",
         "domain": [
          0,
          1
         ],
         "title": {
          "text": "picker"
         }
        }
       }
      }
     },
     "metadata": {},
     "output_type": "display_data"
    }
   ],
   "source": [
    "homers.plot_scores(season_df, 'underdog_pick', agg_sum=False)\n",
    "homers.plot_scores(df, 'underdog_pick', agg_sum=False)"
   ]
  },
  {
   "cell_type": "code",
   "execution_count": 12,
   "metadata": {},
   "outputs": [
    {
     "data": {
      "application/vnd.plotly.v1+json": {
       "config": {
        "plotlyServerURL": "https://plot.ly"
       },
       "data": [
        {
         "alignmentgroup": "True",
         "hovertemplate": "picker=%{y}<br>pick_result=%{x}<extra></extra>",
         "legendgroup": "ben",
         "marker": {
          "color": "#5A1414",
          "pattern": {
           "shape": ""
          }
         },
         "name": "ben",
         "offsetgroup": "ben",
         "orientation": "h",
         "showlegend": false,
         "textposition": "auto",
         "texttemplate": "%{x}",
         "type": "bar",
         "x": [
          1
         ],
         "xaxis": "x",
         "y": [
          "ben"
         ],
         "yaxis": "y"
        },
        {
         "alignmentgroup": "True",
         "hovertemplate": "picker=%{y}<br>pick_result=%{x}<extra></extra>",
         "legendgroup": "chuck",
         "marker": {
          "color": "#0B162A",
          "pattern": {
           "shape": ""
          }
         },
         "name": "chuck",
         "offsetgroup": "chuck",
         "orientation": "h",
         "showlegend": false,
         "textposition": "auto",
         "texttemplate": "%{x}",
         "type": "bar",
         "x": [
          1
         ],
         "xaxis": "x",
         "y": [
          "chuck"
         ],
         "yaxis": "y"
        },
        {
         "alignmentgroup": "True",
         "hovertemplate": "picker=%{y}<br>pick_result=%{x}<extra></extra>",
         "legendgroup": "final",
         "marker": {
          "color": "#B3995D",
          "pattern": {
           "shape": ""
          }
         },
         "name": "final",
         "offsetgroup": "final",
         "orientation": "h",
         "showlegend": false,
         "textposition": "auto",
         "texttemplate": "%{x}",
         "type": "bar",
         "x": [
          1
         ],
         "xaxis": "x",
         "y": [
          "final"
         ],
         "yaxis": "y"
        },
        {
         "alignmentgroup": "True",
         "hovertemplate": "picker=%{y}<br>pick_result=%{x}<extra></extra>",
         "legendgroup": "griffin",
         "marker": {
          "color": "#FF3C00",
          "pattern": {
           "shape": ""
          }
         },
         "name": "griffin",
         "offsetgroup": "griffin",
         "orientation": "h",
         "showlegend": false,
         "textposition": "auto",
         "texttemplate": "%{x}",
         "type": "bar",
         "x": [
          1
         ],
         "xaxis": "x",
         "y": [
          "griffin"
         ],
         "yaxis": "y"
        },
        {
         "alignmentgroup": "True",
         "hovertemplate": "picker=%{y}<br>pick_result=%{x}<extra></extra>",
         "legendgroup": "hunter",
         "marker": {
          "color": "#A71930",
          "pattern": {
           "shape": ""
          }
         },
         "name": "hunter",
         "offsetgroup": "hunter",
         "orientation": "h",
         "showlegend": false,
         "textposition": "auto",
         "texttemplate": "%{x}",
         "type": "bar",
         "x": [
          1
         ],
         "xaxis": "x",
         "y": [
          "hunter"
         ],
         "yaxis": "y"
        }
       ],
       "layout": {
        "barmode": "relative",
        "legend": {
         "title": {
          "text": "picker"
         },
         "tracegroupgap": 0
        },
        "template": {
         "data": {
          "bar": [
           {
            "error_x": {
             "color": "#2a3f5f"
            },
            "error_y": {
             "color": "#2a3f5f"
            },
            "marker": {
             "line": {
              "color": "#E5ECF6",
              "width": 0.5
             },
             "pattern": {
              "fillmode": "overlay",
              "size": 10,
              "solidity": 0.2
             }
            },
            "type": "bar"
           }
          ],
          "barpolar": [
           {
            "marker": {
             "line": {
              "color": "#E5ECF6",
              "width": 0.5
             },
             "pattern": {
              "fillmode": "overlay",
              "size": 10,
              "solidity": 0.2
             }
            },
            "type": "barpolar"
           }
          ],
          "carpet": [
           {
            "aaxis": {
             "endlinecolor": "#2a3f5f",
             "gridcolor": "white",
             "linecolor": "white",
             "minorgridcolor": "white",
             "startlinecolor": "#2a3f5f"
            },
            "baxis": {
             "endlinecolor": "#2a3f5f",
             "gridcolor": "white",
             "linecolor": "white",
             "minorgridcolor": "white",
             "startlinecolor": "#2a3f5f"
            },
            "type": "carpet"
           }
          ],
          "choropleth": [
           {
            "colorbar": {
             "outlinewidth": 0,
             "ticks": ""
            },
            "type": "choropleth"
           }
          ],
          "contour": [
           {
            "colorbar": {
             "outlinewidth": 0,
             "ticks": ""
            },
            "colorscale": [
             [
              0,
              "#0d0887"
             ],
             [
              0.1111111111111111,
              "#46039f"
             ],
             [
              0.2222222222222222,
              "#7201a8"
             ],
             [
              0.3333333333333333,
              "#9c179e"
             ],
             [
              0.4444444444444444,
              "#bd3786"
             ],
             [
              0.5555555555555556,
              "#d8576b"
             ],
             [
              0.6666666666666666,
              "#ed7953"
             ],
             [
              0.7777777777777778,
              "#fb9f3a"
             ],
             [
              0.8888888888888888,
              "#fdca26"
             ],
             [
              1,
              "#f0f921"
             ]
            ],
            "type": "contour"
           }
          ],
          "contourcarpet": [
           {
            "colorbar": {
             "outlinewidth": 0,
             "ticks": ""
            },
            "type": "contourcarpet"
           }
          ],
          "heatmap": [
           {
            "colorbar": {
             "outlinewidth": 0,
             "ticks": ""
            },
            "colorscale": [
             [
              0,
              "#0d0887"
             ],
             [
              0.1111111111111111,
              "#46039f"
             ],
             [
              0.2222222222222222,
              "#7201a8"
             ],
             [
              0.3333333333333333,
              "#9c179e"
             ],
             [
              0.4444444444444444,
              "#bd3786"
             ],
             [
              0.5555555555555556,
              "#d8576b"
             ],
             [
              0.6666666666666666,
              "#ed7953"
             ],
             [
              0.7777777777777778,
              "#fb9f3a"
             ],
             [
              0.8888888888888888,
              "#fdca26"
             ],
             [
              1,
              "#f0f921"
             ]
            ],
            "type": "heatmap"
           }
          ],
          "heatmapgl": [
           {
            "colorbar": {
             "outlinewidth": 0,
             "ticks": ""
            },
            "colorscale": [
             [
              0,
              "#0d0887"
             ],
             [
              0.1111111111111111,
              "#46039f"
             ],
             [
              0.2222222222222222,
              "#7201a8"
             ],
             [
              0.3333333333333333,
              "#9c179e"
             ],
             [
              0.4444444444444444,
              "#bd3786"
             ],
             [
              0.5555555555555556,
              "#d8576b"
             ],
             [
              0.6666666666666666,
              "#ed7953"
             ],
             [
              0.7777777777777778,
              "#fb9f3a"
             ],
             [
              0.8888888888888888,
              "#fdca26"
             ],
             [
              1,
              "#f0f921"
             ]
            ],
            "type": "heatmapgl"
           }
          ],
          "histogram": [
           {
            "marker": {
             "pattern": {
              "fillmode": "overlay",
              "size": 10,
              "solidity": 0.2
             }
            },
            "type": "histogram"
           }
          ],
          "histogram2d": [
           {
            "colorbar": {
             "outlinewidth": 0,
             "ticks": ""
            },
            "colorscale": [
             [
              0,
              "#0d0887"
             ],
             [
              0.1111111111111111,
              "#46039f"
             ],
             [
              0.2222222222222222,
              "#7201a8"
             ],
             [
              0.3333333333333333,
              "#9c179e"
             ],
             [
              0.4444444444444444,
              "#bd3786"
             ],
             [
              0.5555555555555556,
              "#d8576b"
             ],
             [
              0.6666666666666666,
              "#ed7953"
             ],
             [
              0.7777777777777778,
              "#fb9f3a"
             ],
             [
              0.8888888888888888,
              "#fdca26"
             ],
             [
              1,
              "#f0f921"
             ]
            ],
            "type": "histogram2d"
           }
          ],
          "histogram2dcontour": [
           {
            "colorbar": {
             "outlinewidth": 0,
             "ticks": ""
            },
            "colorscale": [
             [
              0,
              "#0d0887"
             ],
             [
              0.1111111111111111,
              "#46039f"
             ],
             [
              0.2222222222222222,
              "#7201a8"
             ],
             [
              0.3333333333333333,
              "#9c179e"
             ],
             [
              0.4444444444444444,
              "#bd3786"
             ],
             [
              0.5555555555555556,
              "#d8576b"
             ],
             [
              0.6666666666666666,
              "#ed7953"
             ],
             [
              0.7777777777777778,
              "#fb9f3a"
             ],
             [
              0.8888888888888888,
              "#fdca26"
             ],
             [
              1,
              "#f0f921"
             ]
            ],
            "type": "histogram2dcontour"
           }
          ],
          "mesh3d": [
           {
            "colorbar": {
             "outlinewidth": 0,
             "ticks": ""
            },
            "type": "mesh3d"
           }
          ],
          "parcoords": [
           {
            "line": {
             "colorbar": {
              "outlinewidth": 0,
              "ticks": ""
             }
            },
            "type": "parcoords"
           }
          ],
          "pie": [
           {
            "automargin": true,
            "type": "pie"
           }
          ],
          "scatter": [
           {
            "fillpattern": {
             "fillmode": "overlay",
             "size": 10,
             "solidity": 0.2
            },
            "type": "scatter"
           }
          ],
          "scatter3d": [
           {
            "line": {
             "colorbar": {
              "outlinewidth": 0,
              "ticks": ""
             }
            },
            "marker": {
             "colorbar": {
              "outlinewidth": 0,
              "ticks": ""
             }
            },
            "type": "scatter3d"
           }
          ],
          "scattercarpet": [
           {
            "marker": {
             "colorbar": {
              "outlinewidth": 0,
              "ticks": ""
             }
            },
            "type": "scattercarpet"
           }
          ],
          "scattergeo": [
           {
            "marker": {
             "colorbar": {
              "outlinewidth": 0,
              "ticks": ""
             }
            },
            "type": "scattergeo"
           }
          ],
          "scattergl": [
           {
            "marker": {
             "colorbar": {
              "outlinewidth": 0,
              "ticks": ""
             }
            },
            "type": "scattergl"
           }
          ],
          "scattermapbox": [
           {
            "marker": {
             "colorbar": {
              "outlinewidth": 0,
              "ticks": ""
             }
            },
            "type": "scattermapbox"
           }
          ],
          "scatterpolar": [
           {
            "marker": {
             "colorbar": {
              "outlinewidth": 0,
              "ticks": ""
             }
            },
            "type": "scatterpolar"
           }
          ],
          "scatterpolargl": [
           {
            "marker": {
             "colorbar": {
              "outlinewidth": 0,
              "ticks": ""
             }
            },
            "type": "scatterpolargl"
           }
          ],
          "scatterternary": [
           {
            "marker": {
             "colorbar": {
              "outlinewidth": 0,
              "ticks": ""
             }
            },
            "type": "scatterternary"
           }
          ],
          "surface": [
           {
            "colorbar": {
             "outlinewidth": 0,
             "ticks": ""
            },
            "colorscale": [
             [
              0,
              "#0d0887"
             ],
             [
              0.1111111111111111,
              "#46039f"
             ],
             [
              0.2222222222222222,
              "#7201a8"
             ],
             [
              0.3333333333333333,
              "#9c179e"
             ],
             [
              0.4444444444444444,
              "#bd3786"
             ],
             [
              0.5555555555555556,
              "#d8576b"
             ],
             [
              0.6666666666666666,
              "#ed7953"
             ],
             [
              0.7777777777777778,
              "#fb9f3a"
             ],
             [
              0.8888888888888888,
              "#fdca26"
             ],
             [
              1,
              "#f0f921"
             ]
            ],
            "type": "surface"
           }
          ],
          "table": [
           {
            "cells": {
             "fill": {
              "color": "#EBF0F8"
             },
             "line": {
              "color": "white"
             }
            },
            "header": {
             "fill": {
              "color": "#C8D4E3"
             },
             "line": {
              "color": "white"
             }
            },
            "type": "table"
           }
          ]
         },
         "layout": {
          "annotationdefaults": {
           "arrowcolor": "#2a3f5f",
           "arrowhead": 0,
           "arrowwidth": 1
          },
          "autotypenumbers": "strict",
          "coloraxis": {
           "colorbar": {
            "outlinewidth": 0,
            "ticks": ""
           }
          },
          "colorscale": {
           "diverging": [
            [
             0,
             "#8e0152"
            ],
            [
             0.1,
             "#c51b7d"
            ],
            [
             0.2,
             "#de77ae"
            ],
            [
             0.3,
             "#f1b6da"
            ],
            [
             0.4,
             "#fde0ef"
            ],
            [
             0.5,
             "#f7f7f7"
            ],
            [
             0.6,
             "#e6f5d0"
            ],
            [
             0.7,
             "#b8e186"
            ],
            [
             0.8,
             "#7fbc41"
            ],
            [
             0.9,
             "#4d9221"
            ],
            [
             1,
             "#276419"
            ]
           ],
           "sequential": [
            [
             0,
             "#0d0887"
            ],
            [
             0.1111111111111111,
             "#46039f"
            ],
            [
             0.2222222222222222,
             "#7201a8"
            ],
            [
             0.3333333333333333,
             "#9c179e"
            ],
            [
             0.4444444444444444,
             "#bd3786"
            ],
            [
             0.5555555555555556,
             "#d8576b"
            ],
            [
             0.6666666666666666,
             "#ed7953"
            ],
            [
             0.7777777777777778,
             "#fb9f3a"
            ],
            [
             0.8888888888888888,
             "#fdca26"
            ],
            [
             1,
             "#f0f921"
            ]
           ],
           "sequentialminus": [
            [
             0,
             "#0d0887"
            ],
            [
             0.1111111111111111,
             "#46039f"
            ],
            [
             0.2222222222222222,
             "#7201a8"
            ],
            [
             0.3333333333333333,
             "#9c179e"
            ],
            [
             0.4444444444444444,
             "#bd3786"
            ],
            [
             0.5555555555555556,
             "#d8576b"
            ],
            [
             0.6666666666666666,
             "#ed7953"
            ],
            [
             0.7777777777777778,
             "#fb9f3a"
            ],
            [
             0.8888888888888888,
             "#fdca26"
            ],
            [
             1,
             "#f0f921"
            ]
           ]
          },
          "colorway": [
           "#636efa",
           "#EF553B",
           "#00cc96",
           "#ab63fa",
           "#FFA15A",
           "#19d3f3",
           "#FF6692",
           "#B6E880",
           "#FF97FF",
           "#FECB52"
          ],
          "font": {
           "color": "#2a3f5f"
          },
          "geo": {
           "bgcolor": "white",
           "lakecolor": "white",
           "landcolor": "#E5ECF6",
           "showlakes": true,
           "showland": true,
           "subunitcolor": "white"
          },
          "hoverlabel": {
           "align": "left"
          },
          "hovermode": "closest",
          "mapbox": {
           "style": "light"
          },
          "paper_bgcolor": "white",
          "plot_bgcolor": "#E5ECF6",
          "polar": {
           "angularaxis": {
            "gridcolor": "white",
            "linecolor": "white",
            "ticks": ""
           },
           "bgcolor": "#E5ECF6",
           "radialaxis": {
            "gridcolor": "white",
            "linecolor": "white",
            "ticks": ""
           }
          },
          "scene": {
           "xaxis": {
            "backgroundcolor": "#E5ECF6",
            "gridcolor": "white",
            "gridwidth": 2,
            "linecolor": "white",
            "showbackground": true,
            "ticks": "",
            "zerolinecolor": "white"
           },
           "yaxis": {
            "backgroundcolor": "#E5ECF6",
            "gridcolor": "white",
            "gridwidth": 2,
            "linecolor": "white",
            "showbackground": true,
            "ticks": "",
            "zerolinecolor": "white"
           },
           "zaxis": {
            "backgroundcolor": "#E5ECF6",
            "gridcolor": "white",
            "gridwidth": 2,
            "linecolor": "white",
            "showbackground": true,
            "ticks": "",
            "zerolinecolor": "white"
           }
          },
          "shapedefaults": {
           "line": {
            "color": "#2a3f5f"
           }
          },
          "ternary": {
           "aaxis": {
            "gridcolor": "white",
            "linecolor": "white",
            "ticks": ""
           },
           "baxis": {
            "gridcolor": "white",
            "linecolor": "white",
            "ticks": ""
           },
           "bgcolor": "#E5ECF6",
           "caxis": {
            "gridcolor": "white",
            "linecolor": "white",
            "ticks": ""
           }
          },
          "title": {
           "x": 0.05
          },
          "xaxis": {
           "automargin": true,
           "gridcolor": "white",
           "linecolor": "white",
           "ticks": "",
           "title": {
            "standoff": 15
           },
           "zerolinecolor": "white",
           "zerolinewidth": 2
          },
          "yaxis": {
           "automargin": true,
           "gridcolor": "white",
           "linecolor": "white",
           "ticks": "",
           "title": {
            "standoff": 15
           },
           "zerolinecolor": "white",
           "zerolinewidth": 2
          }
         }
        },
        "title": {
         "text": "2023 Week 8 Scores - Survivor"
        },
        "xaxis": {
         "anchor": "y",
         "domain": [
          0,
          1
         ],
         "title": {
          "text": "pick_result"
         }
        },
        "yaxis": {
         "anchor": "x",
         "categoryarray": [
          "hunter",
          "griffin",
          "final",
          "chuck",
          "ben"
         ],
         "categoryorder": "array",
         "domain": [
          0,
          1
         ],
         "title": {
          "text": "picker"
         }
        }
       }
      }
     },
     "metadata": {},
     "output_type": "display_data"
    }
   ],
   "source": [
    "homers.plot_scores(week_df, 'survivor_pick')"
   ]
  },
  {
   "cell_type": "markdown",
   "metadata": {},
   "source": [
    "# Consensus picks\n",
    "\n",
    "* If we do a simple sum up of consensus picks, how did that score?\n",
    "* What if we try a zero sum consensus?\n",
    "* are the picks we are all on the same side on actually bad? majority vs no oposition? unanimous?"
   ]
  },
  {
   "cell_type": "code",
   "execution_count": 41,
   "metadata": {},
   "outputs": [],
   "source": [
    "SEASON, WEEK = 2023, 4\n",
    "df = pd.read_pickle(homers.PROCESSED_FILE_PATH)"
   ]
  },
  {
   "cell_type": "code",
   "execution_count": 42,
   "metadata": {},
   "outputs": [],
   "source": [
    "# individual = df[(df['season']==SEASON) & (df['week'] == WEEK) & (df['picker'] != 'final') & (df['spread_pick']) & (~df['mnf_pick'])].copy()\n",
    "individual = df[(df['picker'] != 'final') & (df['spread_pick']) & (~df['mnf_pick'])].copy()"
   ]
  },
  {
   "cell_type": "code",
   "execution_count": 43,
   "metadata": {},
   "outputs": [],
   "source": [
    "individual['pick_multiplier'] = individual['best_bet'] + 1"
   ]
  },
  {
   "cell_type": "code",
   "execution_count": 44,
   "metadata": {},
   "outputs": [
    {
     "data": {
      "text/html": [
       "<div>\n",
       "<style scoped>\n",
       "    .dataframe tbody tr th:only-of-type {\n",
       "        vertical-align: middle;\n",
       "    }\n",
       "\n",
       "    .dataframe tbody tr th {\n",
       "        vertical-align: top;\n",
       "    }\n",
       "\n",
       "    .dataframe thead th {\n",
       "        text-align: right;\n",
       "    }\n",
       "</style>\n",
       "<table border=\"1\" class=\"dataframe\">\n",
       "  <thead>\n",
       "    <tr style=\"text-align: right;\">\n",
       "      <th></th>\n",
       "      <th>picker</th>\n",
       "      <th>pick</th>\n",
       "      <th>season</th>\n",
       "      <th>week</th>\n",
       "      <th>spread_pick</th>\n",
       "      <th>best_bet</th>\n",
       "      <th>underdog_pick</th>\n",
       "      <th>survivor_pick</th>\n",
       "      <th>mnf_pick</th>\n",
       "      <th>game_id</th>\n",
       "      <th>away_team</th>\n",
       "      <th>home_team</th>\n",
       "      <th>result</th>\n",
       "      <th>spread_line</th>\n",
       "      <th>away_pick</th>\n",
       "      <th>away_cover</th>\n",
       "      <th>home_cover</th>\n",
       "      <th>pick_result</th>\n",
       "      <th>pick_multiplier</th>\n",
       "    </tr>\n",
       "  </thead>\n",
       "  <tbody>\n",
       "    <tr>\n",
       "      <th>1</th>\n",
       "      <td>ben</td>\n",
       "      <td>NE</td>\n",
       "      <td>2021</td>\n",
       "      <td>1</td>\n",
       "      <td>True</td>\n",
       "      <td>True</td>\n",
       "      <td>False</td>\n",
       "      <td>False</td>\n",
       "      <td>False</td>\n",
       "      <td>2021_01_MIA_NE</td>\n",
       "      <td>MIA</td>\n",
       "      <td>NE</td>\n",
       "      <td>-1.0</td>\n",
       "      <td>3.5</td>\n",
       "      <td>False</td>\n",
       "      <td>1.0</td>\n",
       "      <td>0.0</td>\n",
       "      <td>0.0</td>\n",
       "      <td>2</td>\n",
       "    </tr>\n",
       "    <tr>\n",
       "      <th>2</th>\n",
       "      <td>hunter</td>\n",
       "      <td>NE</td>\n",
       "      <td>2021</td>\n",
       "      <td>1</td>\n",
       "      <td>True</td>\n",
       "      <td>False</td>\n",
       "      <td>False</td>\n",
       "      <td>False</td>\n",
       "      <td>False</td>\n",
       "      <td>2021_01_MIA_NE</td>\n",
       "      <td>MIA</td>\n",
       "      <td>NE</td>\n",
       "      <td>-1.0</td>\n",
       "      <td>3.5</td>\n",
       "      <td>False</td>\n",
       "      <td>1.0</td>\n",
       "      <td>0.0</td>\n",
       "      <td>0.0</td>\n",
       "      <td>1</td>\n",
       "    </tr>\n",
       "    <tr>\n",
       "      <th>4</th>\n",
       "      <td>ben</td>\n",
       "      <td>WAS</td>\n",
       "      <td>2021</td>\n",
       "      <td>1</td>\n",
       "      <td>True</td>\n",
       "      <td>False</td>\n",
       "      <td>False</td>\n",
       "      <td>False</td>\n",
       "      <td>False</td>\n",
       "      <td>2021_01_LAC_WAS</td>\n",
       "      <td>LAC</td>\n",
       "      <td>WAS</td>\n",
       "      <td>-4.0</td>\n",
       "      <td>2.5</td>\n",
       "      <td>False</td>\n",
       "      <td>1.0</td>\n",
       "      <td>0.0</td>\n",
       "      <td>0.0</td>\n",
       "      <td>1</td>\n",
       "    </tr>\n",
       "    <tr>\n",
       "      <th>6</th>\n",
       "      <td>chuck</td>\n",
       "      <td>WAS</td>\n",
       "      <td>2021</td>\n",
       "      <td>1</td>\n",
       "      <td>True</td>\n",
       "      <td>False</td>\n",
       "      <td>False</td>\n",
       "      <td>False</td>\n",
       "      <td>False</td>\n",
       "      <td>2021_01_LAC_WAS</td>\n",
       "      <td>LAC</td>\n",
       "      <td>WAS</td>\n",
       "      <td>-4.0</td>\n",
       "      <td>2.5</td>\n",
       "      <td>False</td>\n",
       "      <td>1.0</td>\n",
       "      <td>0.0</td>\n",
       "      <td>0.0</td>\n",
       "      <td>1</td>\n",
       "    </tr>\n",
       "    <tr>\n",
       "      <th>7</th>\n",
       "      <td>harry</td>\n",
       "      <td>WAS</td>\n",
       "      <td>2021</td>\n",
       "      <td>1</td>\n",
       "      <td>True</td>\n",
       "      <td>False</td>\n",
       "      <td>False</td>\n",
       "      <td>False</td>\n",
       "      <td>False</td>\n",
       "      <td>2021_01_LAC_WAS</td>\n",
       "      <td>LAC</td>\n",
       "      <td>WAS</td>\n",
       "      <td>-4.0</td>\n",
       "      <td>2.5</td>\n",
       "      <td>False</td>\n",
       "      <td>1.0</td>\n",
       "      <td>0.0</td>\n",
       "      <td>0.0</td>\n",
       "      <td>1</td>\n",
       "    </tr>\n",
       "    <tr>\n",
       "      <th>...</th>\n",
       "      <td>...</td>\n",
       "      <td>...</td>\n",
       "      <td>...</td>\n",
       "      <td>...</td>\n",
       "      <td>...</td>\n",
       "      <td>...</td>\n",
       "      <td>...</td>\n",
       "      <td>...</td>\n",
       "      <td>...</td>\n",
       "      <td>...</td>\n",
       "      <td>...</td>\n",
       "      <td>...</td>\n",
       "      <td>...</td>\n",
       "      <td>...</td>\n",
       "      <td>...</td>\n",
       "      <td>...</td>\n",
       "      <td>...</td>\n",
       "      <td>...</td>\n",
       "      <td>...</td>\n",
       "    </tr>\n",
       "    <tr>\n",
       "      <th>2063</th>\n",
       "      <td>harry</td>\n",
       "      <td>LV</td>\n",
       "      <td>2023</td>\n",
       "      <td>7</td>\n",
       "      <td>True</td>\n",
       "      <td>False</td>\n",
       "      <td>False</td>\n",
       "      <td>False</td>\n",
       "      <td>False</td>\n",
       "      <td>2023_07_LV_CHI</td>\n",
       "      <td>LV</td>\n",
       "      <td>CHI</td>\n",
       "      <td>18.0</td>\n",
       "      <td>-2.5</td>\n",
       "      <td>True</td>\n",
       "      <td>0.0</td>\n",
       "      <td>1.0</td>\n",
       "      <td>0.0</td>\n",
       "      <td>1</td>\n",
       "    </tr>\n",
       "    <tr>\n",
       "      <th>2064</th>\n",
       "      <td>harry</td>\n",
       "      <td>LAC</td>\n",
       "      <td>2023</td>\n",
       "      <td>7</td>\n",
       "      <td>True</td>\n",
       "      <td>False</td>\n",
       "      <td>False</td>\n",
       "      <td>False</td>\n",
       "      <td>False</td>\n",
       "      <td>2023_07_LAC_KC</td>\n",
       "      <td>LAC</td>\n",
       "      <td>KC</td>\n",
       "      <td>14.0</td>\n",
       "      <td>5.5</td>\n",
       "      <td>True</td>\n",
       "      <td>0.0</td>\n",
       "      <td>1.0</td>\n",
       "      <td>0.0</td>\n",
       "      <td>1</td>\n",
       "    </tr>\n",
       "    <tr>\n",
       "      <th>2065</th>\n",
       "      <td>griffin</td>\n",
       "      <td>LAC</td>\n",
       "      <td>2023</td>\n",
       "      <td>7</td>\n",
       "      <td>True</td>\n",
       "      <td>False</td>\n",
       "      <td>False</td>\n",
       "      <td>False</td>\n",
       "      <td>False</td>\n",
       "      <td>2023_07_LAC_KC</td>\n",
       "      <td>LAC</td>\n",
       "      <td>KC</td>\n",
       "      <td>14.0</td>\n",
       "      <td>5.5</td>\n",
       "      <td>True</td>\n",
       "      <td>0.0</td>\n",
       "      <td>1.0</td>\n",
       "      <td>0.0</td>\n",
       "      <td>1</td>\n",
       "    </tr>\n",
       "    <tr>\n",
       "      <th>2068</th>\n",
       "      <td>harry</td>\n",
       "      <td>ARI</td>\n",
       "      <td>2023</td>\n",
       "      <td>7</td>\n",
       "      <td>True</td>\n",
       "      <td>False</td>\n",
       "      <td>False</td>\n",
       "      <td>False</td>\n",
       "      <td>False</td>\n",
       "      <td>2023_07_ARI_SEA</td>\n",
       "      <td>ARI</td>\n",
       "      <td>SEA</td>\n",
       "      <td>10.0</td>\n",
       "      <td>9.5</td>\n",
       "      <td>True</td>\n",
       "      <td>0.0</td>\n",
       "      <td>1.0</td>\n",
       "      <td>0.0</td>\n",
       "      <td>1</td>\n",
       "    </tr>\n",
       "    <tr>\n",
       "      <th>2069</th>\n",
       "      <td>griffin</td>\n",
       "      <td>ATL</td>\n",
       "      <td>2023</td>\n",
       "      <td>7</td>\n",
       "      <td>True</td>\n",
       "      <td>False</td>\n",
       "      <td>False</td>\n",
       "      <td>False</td>\n",
       "      <td>False</td>\n",
       "      <td>2023_07_ATL_TB</td>\n",
       "      <td>ATL</td>\n",
       "      <td>TB</td>\n",
       "      <td>-3.0</td>\n",
       "      <td>3.0</td>\n",
       "      <td>True</td>\n",
       "      <td>1.0</td>\n",
       "      <td>0.0</td>\n",
       "      <td>1.0</td>\n",
       "      <td>1</td>\n",
       "    </tr>\n",
       "  </tbody>\n",
       "</table>\n",
       "<p>1207 rows × 19 columns</p>\n",
       "</div>"
      ],
      "text/plain": [
       "       picker pick  season  week  spread_pick  best_bet  underdog_pick  \\\n",
       "1         ben   NE    2021     1         True      True          False   \n",
       "2      hunter   NE    2021     1         True     False          False   \n",
       "4         ben  WAS    2021     1         True     False          False   \n",
       "6       chuck  WAS    2021     1         True     False          False   \n",
       "7       harry  WAS    2021     1         True     False          False   \n",
       "...       ...  ...     ...   ...          ...       ...            ...   \n",
       "2063    harry   LV    2023     7         True     False          False   \n",
       "2064    harry  LAC    2023     7         True     False          False   \n",
       "2065  griffin  LAC    2023     7         True     False          False   \n",
       "2068    harry  ARI    2023     7         True     False          False   \n",
       "2069  griffin  ATL    2023     7         True     False          False   \n",
       "\n",
       "      survivor_pick  mnf_pick          game_id away_team home_team  result  \\\n",
       "1             False     False   2021_01_MIA_NE       MIA        NE    -1.0   \n",
       "2             False     False   2021_01_MIA_NE       MIA        NE    -1.0   \n",
       "4             False     False  2021_01_LAC_WAS       LAC       WAS    -4.0   \n",
       "6             False     False  2021_01_LAC_WAS       LAC       WAS    -4.0   \n",
       "7             False     False  2021_01_LAC_WAS       LAC       WAS    -4.0   \n",
       "...             ...       ...              ...       ...       ...     ...   \n",
       "2063          False     False   2023_07_LV_CHI        LV       CHI    18.0   \n",
       "2064          False     False   2023_07_LAC_KC       LAC        KC    14.0   \n",
       "2065          False     False   2023_07_LAC_KC       LAC        KC    14.0   \n",
       "2068          False     False  2023_07_ARI_SEA       ARI       SEA    10.0   \n",
       "2069          False     False   2023_07_ATL_TB       ATL        TB    -3.0   \n",
       "\n",
       "      spread_line  away_pick  away_cover  home_cover  pick_result  \\\n",
       "1             3.5      False         1.0         0.0          0.0   \n",
       "2             3.5      False         1.0         0.0          0.0   \n",
       "4             2.5      False         1.0         0.0          0.0   \n",
       "6             2.5      False         1.0         0.0          0.0   \n",
       "7             2.5      False         1.0         0.0          0.0   \n",
       "...           ...        ...         ...         ...          ...   \n",
       "2063         -2.5       True         0.0         1.0          0.0   \n",
       "2064          5.5       True         0.0         1.0          0.0   \n",
       "2065          5.5       True         0.0         1.0          0.0   \n",
       "2068          9.5       True         0.0         1.0          0.0   \n",
       "2069          3.0       True         1.0         0.0          1.0   \n",
       "\n",
       "      pick_multiplier  \n",
       "1                   2  \n",
       "2                   1  \n",
       "4                   1  \n",
       "6                   1  \n",
       "7                   1  \n",
       "...               ...  \n",
       "2063                1  \n",
       "2064                1  \n",
       "2065                1  \n",
       "2068                1  \n",
       "2069                1  \n",
       "\n",
       "[1207 rows x 19 columns]"
      ]
     },
     "execution_count": 44,
     "metadata": {},
     "output_type": "execute_result"
    }
   ],
   "source": [
    "individual"
   ]
  },
  {
   "cell_type": "code",
   "execution_count": 48,
   "metadata": {},
   "outputs": [
    {
     "data": {
      "text/html": [
       "<div>\n",
       "<style scoped>\n",
       "    .dataframe tbody tr th:only-of-type {\n",
       "        vertical-align: middle;\n",
       "    }\n",
       "\n",
       "    .dataframe tbody tr th {\n",
       "        vertical-align: top;\n",
       "    }\n",
       "\n",
       "    .dataframe thead th {\n",
       "        text-align: right;\n",
       "    }\n",
       "</style>\n",
       "<table border=\"1\" class=\"dataframe\">\n",
       "  <thead>\n",
       "    <tr style=\"text-align: right;\">\n",
       "      <th></th>\n",
       "      <th>pick</th>\n",
       "      <th>season</th>\n",
       "      <th>week</th>\n",
       "      <th>consensus</th>\n",
       "      <th>weighted_consensus</th>\n",
       "    </tr>\n",
       "  </thead>\n",
       "  <tbody>\n",
       "    <tr>\n",
       "      <th>614</th>\n",
       "      <td>SF</td>\n",
       "      <td>2022</td>\n",
       "      <td>14</td>\n",
       "      <td>5</td>\n",
       "      <td>8</td>\n",
       "    </tr>\n",
       "    <tr>\n",
       "      <th>43</th>\n",
       "      <td>BAL</td>\n",
       "      <td>2021</td>\n",
       "      <td>13</td>\n",
       "      <td>4</td>\n",
       "      <td>6</td>\n",
       "    </tr>\n",
       "    <tr>\n",
       "      <th>147</th>\n",
       "      <td>CIN</td>\n",
       "      <td>2022</td>\n",
       "      <td>16</td>\n",
       "      <td>3</td>\n",
       "      <td>6</td>\n",
       "    </tr>\n",
       "    <tr>\n",
       "      <th>153</th>\n",
       "      <td>CLE</td>\n",
       "      <td>2021</td>\n",
       "      <td>4</td>\n",
       "      <td>4</td>\n",
       "      <td>6</td>\n",
       "    </tr>\n",
       "    <tr>\n",
       "      <th>239</th>\n",
       "      <td>GB</td>\n",
       "      <td>2021</td>\n",
       "      <td>5</td>\n",
       "      <td>4</td>\n",
       "      <td>6</td>\n",
       "    </tr>\n",
       "    <tr>\n",
       "      <th>...</th>\n",
       "      <td>...</td>\n",
       "      <td>...</td>\n",
       "      <td>...</td>\n",
       "      <td>...</td>\n",
       "      <td>...</td>\n",
       "    </tr>\n",
       "    <tr>\n",
       "      <th>35</th>\n",
       "      <td>ATL</td>\n",
       "      <td>2023</td>\n",
       "      <td>6</td>\n",
       "      <td>1</td>\n",
       "      <td>1</td>\n",
       "    </tr>\n",
       "    <tr>\n",
       "      <th>231</th>\n",
       "      <td>DET</td>\n",
       "      <td>2022</td>\n",
       "      <td>18</td>\n",
       "      <td>1</td>\n",
       "      <td>1</td>\n",
       "    </tr>\n",
       "    <tr>\n",
       "      <th>442</th>\n",
       "      <td>MIN</td>\n",
       "      <td>2021</td>\n",
       "      <td>13</td>\n",
       "      <td>1</td>\n",
       "      <td>1</td>\n",
       "    </tr>\n",
       "    <tr>\n",
       "      <th>440</th>\n",
       "      <td>MIN</td>\n",
       "      <td>2021</td>\n",
       "      <td>6</td>\n",
       "      <td>1</td>\n",
       "      <td>1</td>\n",
       "    </tr>\n",
       "    <tr>\n",
       "      <th>87</th>\n",
       "      <td>CAR</td>\n",
       "      <td>2021</td>\n",
       "      <td>7</td>\n",
       "      <td>1</td>\n",
       "      <td>1</td>\n",
       "    </tr>\n",
       "  </tbody>\n",
       "</table>\n",
       "<p>695 rows × 5 columns</p>\n",
       "</div>"
      ],
      "text/plain": [
       "    pick  season  week  consensus  weighted_consensus\n",
       "614   SF    2022    14          5                   8\n",
       "43   BAL    2021    13          4                   6\n",
       "147  CIN    2022    16          3                   6\n",
       "153  CLE    2021     4          4                   6\n",
       "239   GB    2021     5          4                   6\n",
       "..   ...     ...   ...        ...                 ...\n",
       "35   ATL    2023     6          1                   1\n",
       "231  DET    2022    18          1                   1\n",
       "442  MIN    2021    13          1                   1\n",
       "440  MIN    2021     6          1                   1\n",
       "87   CAR    2021     7          1                   1\n",
       "\n",
       "[695 rows x 5 columns]"
      ]
     },
     "execution_count": 48,
     "metadata": {},
     "output_type": "execute_result"
    }
   ],
   "source": [
    "consensus = individual.groupby(['pick', 'season', 'week'])[['spread_pick', 'best_bet']].sum().reset_index()\n",
    "consensus['weighted_consensus'] = consensus['spread_pick'] + consensus['best_bet']\n",
    "consensus = consensus.rename(columns={'spread_pick':'consensus'})\n",
    "consensus = consensus.sort_values(by='weighted_consensus', ascending=False)\n",
    "consensus = consensus.drop('best_bet', axis=1)\n",
    "consensus"
   ]
  },
  {
   "cell_type": "code",
   "execution_count": 53,
   "metadata": {},
   "outputs": [
    {
     "data": {
      "text/html": [
       "<div>\n",
       "<style scoped>\n",
       "    .dataframe tbody tr th:only-of-type {\n",
       "        vertical-align: middle;\n",
       "    }\n",
       "\n",
       "    .dataframe tbody tr th {\n",
       "        vertical-align: top;\n",
       "    }\n",
       "\n",
       "    .dataframe thead th {\n",
       "        text-align: right;\n",
       "    }\n",
       "</style>\n",
       "<table border=\"1\" class=\"dataframe\">\n",
       "  <thead>\n",
       "    <tr style=\"text-align: right;\">\n",
       "      <th></th>\n",
       "      <th>pick</th>\n",
       "      <th>season</th>\n",
       "      <th>week</th>\n",
       "      <th>consensus</th>\n",
       "      <th>weighted_consensus</th>\n",
       "      <th>pick_result</th>\n",
       "    </tr>\n",
       "  </thead>\n",
       "  <tbody>\n",
       "    <tr>\n",
       "      <th>0</th>\n",
       "      <td>SF</td>\n",
       "      <td>2022</td>\n",
       "      <td>14</td>\n",
       "      <td>5</td>\n",
       "      <td>8</td>\n",
       "      <td>1</td>\n",
       "    </tr>\n",
       "    <tr>\n",
       "      <th>2</th>\n",
       "      <td>SF</td>\n",
       "      <td>2022</td>\n",
       "      <td>14</td>\n",
       "      <td>5</td>\n",
       "      <td>8</td>\n",
       "      <td>1</td>\n",
       "    </tr>\n",
       "    <tr>\n",
       "      <th>5</th>\n",
       "      <td>BAL</td>\n",
       "      <td>2021</td>\n",
       "      <td>13</td>\n",
       "      <td>4</td>\n",
       "      <td>6</td>\n",
       "      <td>0</td>\n",
       "    </tr>\n",
       "    <tr>\n",
       "      <th>9</th>\n",
       "      <td>CIN</td>\n",
       "      <td>2022</td>\n",
       "      <td>16</td>\n",
       "      <td>3</td>\n",
       "      <td>6</td>\n",
       "      <td>1</td>\n",
       "    </tr>\n",
       "    <tr>\n",
       "      <th>12</th>\n",
       "      <td>CLE</td>\n",
       "      <td>2021</td>\n",
       "      <td>4</td>\n",
       "      <td>4</td>\n",
       "      <td>6</td>\n",
       "      <td>1</td>\n",
       "    </tr>\n",
       "    <tr>\n",
       "      <th>...</th>\n",
       "      <td>...</td>\n",
       "      <td>...</td>\n",
       "      <td>...</td>\n",
       "      <td>...</td>\n",
       "      <td>...</td>\n",
       "      <td>...</td>\n",
       "    </tr>\n",
       "    <tr>\n",
       "      <th>1202</th>\n",
       "      <td>ATL</td>\n",
       "      <td>2023</td>\n",
       "      <td>6</td>\n",
       "      <td>1</td>\n",
       "      <td>1</td>\n",
       "      <td>0</td>\n",
       "    </tr>\n",
       "    <tr>\n",
       "      <th>1203</th>\n",
       "      <td>DET</td>\n",
       "      <td>2022</td>\n",
       "      <td>18</td>\n",
       "      <td>1</td>\n",
       "      <td>1</td>\n",
       "      <td>1</td>\n",
       "    </tr>\n",
       "    <tr>\n",
       "      <th>1204</th>\n",
       "      <td>MIN</td>\n",
       "      <td>2021</td>\n",
       "      <td>13</td>\n",
       "      <td>1</td>\n",
       "      <td>1</td>\n",
       "      <td>0</td>\n",
       "    </tr>\n",
       "    <tr>\n",
       "      <th>1205</th>\n",
       "      <td>MIN</td>\n",
       "      <td>2021</td>\n",
       "      <td>6</td>\n",
       "      <td>1</td>\n",
       "      <td>1</td>\n",
       "      <td>1</td>\n",
       "    </tr>\n",
       "    <tr>\n",
       "      <th>1206</th>\n",
       "      <td>CAR</td>\n",
       "      <td>2021</td>\n",
       "      <td>7</td>\n",
       "      <td>1</td>\n",
       "      <td>1</td>\n",
       "      <td>0</td>\n",
       "    </tr>\n",
       "  </tbody>\n",
       "</table>\n",
       "<p>767 rows × 6 columns</p>\n",
       "</div>"
      ],
      "text/plain": [
       "     pick  season  week  consensus  weighted_consensus  pick_result\n",
       "0      SF    2022    14          5                   8            1\n",
       "2      SF    2022    14          5                   8            1\n",
       "5     BAL    2021    13          4                   6            0\n",
       "9     CIN    2022    16          3                   6            1\n",
       "12    CLE    2021     4          4                   6            1\n",
       "...   ...     ...   ...        ...                 ...          ...\n",
       "1202  ATL    2023     6          1                   1            0\n",
       "1203  DET    2022    18          1                   1            1\n",
       "1204  MIN    2021    13          1                   1            0\n",
       "1205  MIN    2021     6          1                   1            1\n",
       "1206  CAR    2021     7          1                   1            0\n",
       "\n",
       "[767 rows x 6 columns]"
      ]
     },
     "execution_count": 53,
     "metadata": {},
     "output_type": "execute_result"
    }
   ],
   "source": [
    "df = pd.merge(consensus, individual[['season', 'week', 'pick', 'pick_result']], on=['season', 'week', 'pick'])\n",
    "df = df.drop_duplicates()\n",
    "df['pick_result'] = df.pick_result.apply(lambda x: math.ceil(math.floor(x) / 2))\n",
    "df"
   ]
  },
  {
   "cell_type": "code",
   "execution_count": 98,
   "metadata": {},
   "outputs": [],
   "source": [
    "col = 'weighted_consensus'"
   ]
  },
  {
   "cell_type": "code",
   "execution_count": 99,
   "metadata": {},
   "outputs": [
    {
     "name": "stdout",
     "output_type": "stream",
     "text": [
      "0.27255230848537726\n"
     ]
    },
    {
     "data": {
      "text/plain": [
       "1.3133121544854203"
      ]
     },
     "execution_count": 99,
     "metadata": {},
     "output_type": "execute_result"
    }
   ],
   "source": [
    "model = LogisticRegression()\n",
    "model.fit(df[[col]], df['pick_result'])\n",
    "print(model.coef_[0][0])\n",
    "math.exp(model.coef_[0][0])"
   ]
  },
  {
   "cell_type": "code",
   "execution_count": 100,
   "metadata": {},
   "outputs": [
    {
     "data": {
      "text/plain": [
       "weighted_consensus\n",
       "1    315\n",
       "2    186\n",
       "3    135\n",
       "4     86\n",
       "5     29\n",
       "6     14\n",
       "8      2\n",
       "Name: pick_result, dtype: int64"
      ]
     },
     "execution_count": 100,
     "metadata": {},
     "output_type": "execute_result"
    }
   ],
   "source": [
    "df.groupby(col).pick_result.count()"
   ]
  },
  {
   "cell_type": "code",
   "execution_count": 101,
   "metadata": {},
   "outputs": [
    {
     "data": {
      "text/plain": [
       "weighted_consensus\n",
       "1    0.428571\n",
       "2    0.505376\n",
       "3    0.577778\n",
       "4    0.651163\n",
       "5    0.586207\n",
       "6    0.785714\n",
       "8    1.000000\n",
       "Name: pick_result, dtype: float64"
      ]
     },
     "execution_count": 101,
     "metadata": {},
     "output_type": "execute_result"
    }
   ],
   "source": [
    "df.groupby(col).pick_result.mean()"
   ]
  },
  {
   "cell_type": "code",
   "execution_count": 102,
   "metadata": {},
   "outputs": [
    {
     "data": {
      "application/vnd.plotly.v1+json": {
       "config": {
        "plotlyServerURL": "https://plot.ly"
       },
       "data": [
        {
         "alignmentgroup": "True",
         "hovertemplate": "variable=pick_result<br>weighted_consensus=%{x}<br>value=%{y}<extra></extra>",
         "legendgroup": "pick_result",
         "marker": {
          "color": "#636efa",
          "pattern": {
           "shape": ""
          }
         },
         "name": "pick_result",
         "offsetgroup": "pick_result",
         "orientation": "v",
         "showlegend": true,
         "textposition": "auto",
         "texttemplate": "%{y}",
         "type": "bar",
         "x": [
          1,
          2,
          3,
          4,
          5,
          6,
          8
         ],
         "xaxis": "x",
         "y": [
          315,
          186,
          135,
          86,
          29,
          14,
          2
         ],
         "yaxis": "y"
        }
       ],
       "layout": {
        "barmode": "relative",
        "legend": {
         "title": {
          "text": "variable"
         },
         "tracegroupgap": 0
        },
        "template": {
         "data": {
          "bar": [
           {
            "error_x": {
             "color": "#2a3f5f"
            },
            "error_y": {
             "color": "#2a3f5f"
            },
            "marker": {
             "line": {
              "color": "#E5ECF6",
              "width": 0.5
             },
             "pattern": {
              "fillmode": "overlay",
              "size": 10,
              "solidity": 0.2
             }
            },
            "type": "bar"
           }
          ],
          "barpolar": [
           {
            "marker": {
             "line": {
              "color": "#E5ECF6",
              "width": 0.5
             },
             "pattern": {
              "fillmode": "overlay",
              "size": 10,
              "solidity": 0.2
             }
            },
            "type": "barpolar"
           }
          ],
          "carpet": [
           {
            "aaxis": {
             "endlinecolor": "#2a3f5f",
             "gridcolor": "white",
             "linecolor": "white",
             "minorgridcolor": "white",
             "startlinecolor": "#2a3f5f"
            },
            "baxis": {
             "endlinecolor": "#2a3f5f",
             "gridcolor": "white",
             "linecolor": "white",
             "minorgridcolor": "white",
             "startlinecolor": "#2a3f5f"
            },
            "type": "carpet"
           }
          ],
          "choropleth": [
           {
            "colorbar": {
             "outlinewidth": 0,
             "ticks": ""
            },
            "type": "choropleth"
           }
          ],
          "contour": [
           {
            "colorbar": {
             "outlinewidth": 0,
             "ticks": ""
            },
            "colorscale": [
             [
              0,
              "#0d0887"
             ],
             [
              0.1111111111111111,
              "#46039f"
             ],
             [
              0.2222222222222222,
              "#7201a8"
             ],
             [
              0.3333333333333333,
              "#9c179e"
             ],
             [
              0.4444444444444444,
              "#bd3786"
             ],
             [
              0.5555555555555556,
              "#d8576b"
             ],
             [
              0.6666666666666666,
              "#ed7953"
             ],
             [
              0.7777777777777778,
              "#fb9f3a"
             ],
             [
              0.8888888888888888,
              "#fdca26"
             ],
             [
              1,
              "#f0f921"
             ]
            ],
            "type": "contour"
           }
          ],
          "contourcarpet": [
           {
            "colorbar": {
             "outlinewidth": 0,
             "ticks": ""
            },
            "type": "contourcarpet"
           }
          ],
          "heatmap": [
           {
            "colorbar": {
             "outlinewidth": 0,
             "ticks": ""
            },
            "colorscale": [
             [
              0,
              "#0d0887"
             ],
             [
              0.1111111111111111,
              "#46039f"
             ],
             [
              0.2222222222222222,
              "#7201a8"
             ],
             [
              0.3333333333333333,
              "#9c179e"
             ],
             [
              0.4444444444444444,
              "#bd3786"
             ],
             [
              0.5555555555555556,
              "#d8576b"
             ],
             [
              0.6666666666666666,
              "#ed7953"
             ],
             [
              0.7777777777777778,
              "#fb9f3a"
             ],
             [
              0.8888888888888888,
              "#fdca26"
             ],
             [
              1,
              "#f0f921"
             ]
            ],
            "type": "heatmap"
           }
          ],
          "heatmapgl": [
           {
            "colorbar": {
             "outlinewidth": 0,
             "ticks": ""
            },
            "colorscale": [
             [
              0,
              "#0d0887"
             ],
             [
              0.1111111111111111,
              "#46039f"
             ],
             [
              0.2222222222222222,
              "#7201a8"
             ],
             [
              0.3333333333333333,
              "#9c179e"
             ],
             [
              0.4444444444444444,
              "#bd3786"
             ],
             [
              0.5555555555555556,
              "#d8576b"
             ],
             [
              0.6666666666666666,
              "#ed7953"
             ],
             [
              0.7777777777777778,
              "#fb9f3a"
             ],
             [
              0.8888888888888888,
              "#fdca26"
             ],
             [
              1,
              "#f0f921"
             ]
            ],
            "type": "heatmapgl"
           }
          ],
          "histogram": [
           {
            "marker": {
             "pattern": {
              "fillmode": "overlay",
              "size": 10,
              "solidity": 0.2
             }
            },
            "type": "histogram"
           }
          ],
          "histogram2d": [
           {
            "colorbar": {
             "outlinewidth": 0,
             "ticks": ""
            },
            "colorscale": [
             [
              0,
              "#0d0887"
             ],
             [
              0.1111111111111111,
              "#46039f"
             ],
             [
              0.2222222222222222,
              "#7201a8"
             ],
             [
              0.3333333333333333,
              "#9c179e"
             ],
             [
              0.4444444444444444,
              "#bd3786"
             ],
             [
              0.5555555555555556,
              "#d8576b"
             ],
             [
              0.6666666666666666,
              "#ed7953"
             ],
             [
              0.7777777777777778,
              "#fb9f3a"
             ],
             [
              0.8888888888888888,
              "#fdca26"
             ],
             [
              1,
              "#f0f921"
             ]
            ],
            "type": "histogram2d"
           }
          ],
          "histogram2dcontour": [
           {
            "colorbar": {
             "outlinewidth": 0,
             "ticks": ""
            },
            "colorscale": [
             [
              0,
              "#0d0887"
             ],
             [
              0.1111111111111111,
              "#46039f"
             ],
             [
              0.2222222222222222,
              "#7201a8"
             ],
             [
              0.3333333333333333,
              "#9c179e"
             ],
             [
              0.4444444444444444,
              "#bd3786"
             ],
             [
              0.5555555555555556,
              "#d8576b"
             ],
             [
              0.6666666666666666,
              "#ed7953"
             ],
             [
              0.7777777777777778,
              "#fb9f3a"
             ],
             [
              0.8888888888888888,
              "#fdca26"
             ],
             [
              1,
              "#f0f921"
             ]
            ],
            "type": "histogram2dcontour"
           }
          ],
          "mesh3d": [
           {
            "colorbar": {
             "outlinewidth": 0,
             "ticks": ""
            },
            "type": "mesh3d"
           }
          ],
          "parcoords": [
           {
            "line": {
             "colorbar": {
              "outlinewidth": 0,
              "ticks": ""
             }
            },
            "type": "parcoords"
           }
          ],
          "pie": [
           {
            "automargin": true,
            "type": "pie"
           }
          ],
          "scatter": [
           {
            "fillpattern": {
             "fillmode": "overlay",
             "size": 10,
             "solidity": 0.2
            },
            "type": "scatter"
           }
          ],
          "scatter3d": [
           {
            "line": {
             "colorbar": {
              "outlinewidth": 0,
              "ticks": ""
             }
            },
            "marker": {
             "colorbar": {
              "outlinewidth": 0,
              "ticks": ""
             }
            },
            "type": "scatter3d"
           }
          ],
          "scattercarpet": [
           {
            "marker": {
             "colorbar": {
              "outlinewidth": 0,
              "ticks": ""
             }
            },
            "type": "scattercarpet"
           }
          ],
          "scattergeo": [
           {
            "marker": {
             "colorbar": {
              "outlinewidth": 0,
              "ticks": ""
             }
            },
            "type": "scattergeo"
           }
          ],
          "scattergl": [
           {
            "marker": {
             "colorbar": {
              "outlinewidth": 0,
              "ticks": ""
             }
            },
            "type": "scattergl"
           }
          ],
          "scattermapbox": [
           {
            "marker": {
             "colorbar": {
              "outlinewidth": 0,
              "ticks": ""
             }
            },
            "type": "scattermapbox"
           }
          ],
          "scatterpolar": [
           {
            "marker": {
             "colorbar": {
              "outlinewidth": 0,
              "ticks": ""
             }
            },
            "type": "scatterpolar"
           }
          ],
          "scatterpolargl": [
           {
            "marker": {
             "colorbar": {
              "outlinewidth": 0,
              "ticks": ""
             }
            },
            "type": "scatterpolargl"
           }
          ],
          "scatterternary": [
           {
            "marker": {
             "colorbar": {
              "outlinewidth": 0,
              "ticks": ""
             }
            },
            "type": "scatterternary"
           }
          ],
          "surface": [
           {
            "colorbar": {
             "outlinewidth": 0,
             "ticks": ""
            },
            "colorscale": [
             [
              0,
              "#0d0887"
             ],
             [
              0.1111111111111111,
              "#46039f"
             ],
             [
              0.2222222222222222,
              "#7201a8"
             ],
             [
              0.3333333333333333,
              "#9c179e"
             ],
             [
              0.4444444444444444,
              "#bd3786"
             ],
             [
              0.5555555555555556,
              "#d8576b"
             ],
             [
              0.6666666666666666,
              "#ed7953"
             ],
             [
              0.7777777777777778,
              "#fb9f3a"
             ],
             [
              0.8888888888888888,
              "#fdca26"
             ],
             [
              1,
              "#f0f921"
             ]
            ],
            "type": "surface"
           }
          ],
          "table": [
           {
            "cells": {
             "fill": {
              "color": "#EBF0F8"
             },
             "line": {
              "color": "white"
             }
            },
            "header": {
             "fill": {
              "color": "#C8D4E3"
             },
             "line": {
              "color": "white"
             }
            },
            "type": "table"
           }
          ]
         },
         "layout": {
          "annotationdefaults": {
           "arrowcolor": "#2a3f5f",
           "arrowhead": 0,
           "arrowwidth": 1
          },
          "autotypenumbers": "strict",
          "coloraxis": {
           "colorbar": {
            "outlinewidth": 0,
            "ticks": ""
           }
          },
          "colorscale": {
           "diverging": [
            [
             0,
             "#8e0152"
            ],
            [
             0.1,
             "#c51b7d"
            ],
            [
             0.2,
             "#de77ae"
            ],
            [
             0.3,
             "#f1b6da"
            ],
            [
             0.4,
             "#fde0ef"
            ],
            [
             0.5,
             "#f7f7f7"
            ],
            [
             0.6,
             "#e6f5d0"
            ],
            [
             0.7,
             "#b8e186"
            ],
            [
             0.8,
             "#7fbc41"
            ],
            [
             0.9,
             "#4d9221"
            ],
            [
             1,
             "#276419"
            ]
           ],
           "sequential": [
            [
             0,
             "#0d0887"
            ],
            [
             0.1111111111111111,
             "#46039f"
            ],
            [
             0.2222222222222222,
             "#7201a8"
            ],
            [
             0.3333333333333333,
             "#9c179e"
            ],
            [
             0.4444444444444444,
             "#bd3786"
            ],
            [
             0.5555555555555556,
             "#d8576b"
            ],
            [
             0.6666666666666666,
             "#ed7953"
            ],
            [
             0.7777777777777778,
             "#fb9f3a"
            ],
            [
             0.8888888888888888,
             "#fdca26"
            ],
            [
             1,
             "#f0f921"
            ]
           ],
           "sequentialminus": [
            [
             0,
             "#0d0887"
            ],
            [
             0.1111111111111111,
             "#46039f"
            ],
            [
             0.2222222222222222,
             "#7201a8"
            ],
            [
             0.3333333333333333,
             "#9c179e"
            ],
            [
             0.4444444444444444,
             "#bd3786"
            ],
            [
             0.5555555555555556,
             "#d8576b"
            ],
            [
             0.6666666666666666,
             "#ed7953"
            ],
            [
             0.7777777777777778,
             "#fb9f3a"
            ],
            [
             0.8888888888888888,
             "#fdca26"
            ],
            [
             1,
             "#f0f921"
            ]
           ]
          },
          "colorway": [
           "#636efa",
           "#EF553B",
           "#00cc96",
           "#ab63fa",
           "#FFA15A",
           "#19d3f3",
           "#FF6692",
           "#B6E880",
           "#FF97FF",
           "#FECB52"
          ],
          "font": {
           "color": "#2a3f5f"
          },
          "geo": {
           "bgcolor": "white",
           "lakecolor": "white",
           "landcolor": "#E5ECF6",
           "showlakes": true,
           "showland": true,
           "subunitcolor": "white"
          },
          "hoverlabel": {
           "align": "left"
          },
          "hovermode": "closest",
          "mapbox": {
           "style": "light"
          },
          "paper_bgcolor": "white",
          "plot_bgcolor": "#E5ECF6",
          "polar": {
           "angularaxis": {
            "gridcolor": "white",
            "linecolor": "white",
            "ticks": ""
           },
           "bgcolor": "#E5ECF6",
           "radialaxis": {
            "gridcolor": "white",
            "linecolor": "white",
            "ticks": ""
           }
          },
          "scene": {
           "xaxis": {
            "backgroundcolor": "#E5ECF6",
            "gridcolor": "white",
            "gridwidth": 2,
            "linecolor": "white",
            "showbackground": true,
            "ticks": "",
            "zerolinecolor": "white"
           },
           "yaxis": {
            "backgroundcolor": "#E5ECF6",
            "gridcolor": "white",
            "gridwidth": 2,
            "linecolor": "white",
            "showbackground": true,
            "ticks": "",
            "zerolinecolor": "white"
           },
           "zaxis": {
            "backgroundcolor": "#E5ECF6",
            "gridcolor": "white",
            "gridwidth": 2,
            "linecolor": "white",
            "showbackground": true,
            "ticks": "",
            "zerolinecolor": "white"
           }
          },
          "shapedefaults": {
           "line": {
            "color": "#2a3f5f"
           }
          },
          "ternary": {
           "aaxis": {
            "gridcolor": "white",
            "linecolor": "white",
            "ticks": ""
           },
           "baxis": {
            "gridcolor": "white",
            "linecolor": "white",
            "ticks": ""
           },
           "bgcolor": "#E5ECF6",
           "caxis": {
            "gridcolor": "white",
            "linecolor": "white",
            "ticks": ""
           }
          },
          "title": {
           "x": 0.05
          },
          "xaxis": {
           "automargin": true,
           "gridcolor": "white",
           "linecolor": "white",
           "ticks": "",
           "title": {
            "standoff": 15
           },
           "zerolinecolor": "white",
           "zerolinewidth": 2
          },
          "yaxis": {
           "automargin": true,
           "gridcolor": "white",
           "linecolor": "white",
           "ticks": "",
           "title": {
            "standoff": 15
           },
           "zerolinecolor": "white",
           "zerolinewidth": 2
          }
         }
        },
        "title": {
         "text": "Pick count by weighted_consensus score"
        },
        "xaxis": {
         "anchor": "y",
         "domain": [
          0,
          1
         ],
         "title": {
          "text": "weighted_consensus"
         }
        },
        "yaxis": {
         "anchor": "x",
         "domain": [
          0,
          1
         ],
         "title": {
          "text": "value"
         }
        }
       }
      }
     },
     "metadata": {},
     "output_type": "display_data"
    }
   ],
   "source": [
    "fig = px.bar(\n",
    "    df.groupby(col).pick_result.count(),\n",
    "    text_auto=True,\n",
    "    title=f'Pick count by {col} score'\n",
    ")\n",
    "fig.show()"
   ]
  },
  {
   "cell_type": "code",
   "execution_count": 103,
   "metadata": {},
   "outputs": [
    {
     "data": {
      "application/vnd.plotly.v1+json": {
       "config": {
        "plotlyServerURL": "https://plot.ly"
       },
       "data": [
        {
         "alignmentgroup": "True",
         "hovertemplate": "variable=pick_result<br>weighted_consensus=%{x}<br>value=%{y}<extra></extra>",
         "legendgroup": "pick_result",
         "marker": {
          "color": "#636efa",
          "pattern": {
           "shape": ""
          }
         },
         "name": "pick_result",
         "offsetgroup": "pick_result",
         "orientation": "v",
         "showlegend": true,
         "textposition": "auto",
         "texttemplate": "%{y}",
         "type": "bar",
         "x": [
          1,
          2,
          3,
          4,
          5,
          6,
          8
         ],
         "xaxis": "x",
         "y": [
          0.43,
          0.51,
          0.58,
          0.65,
          0.59,
          0.79,
          1
         ],
         "yaxis": "y"
        }
       ],
       "layout": {
        "barmode": "relative",
        "legend": {
         "title": {
          "text": "variable"
         },
         "tracegroupgap": 0
        },
        "template": {
         "data": {
          "bar": [
           {
            "error_x": {
             "color": "#2a3f5f"
            },
            "error_y": {
             "color": "#2a3f5f"
            },
            "marker": {
             "line": {
              "color": "#E5ECF6",
              "width": 0.5
             },
             "pattern": {
              "fillmode": "overlay",
              "size": 10,
              "solidity": 0.2
             }
            },
            "type": "bar"
           }
          ],
          "barpolar": [
           {
            "marker": {
             "line": {
              "color": "#E5ECF6",
              "width": 0.5
             },
             "pattern": {
              "fillmode": "overlay",
              "size": 10,
              "solidity": 0.2
             }
            },
            "type": "barpolar"
           }
          ],
          "carpet": [
           {
            "aaxis": {
             "endlinecolor": "#2a3f5f",
             "gridcolor": "white",
             "linecolor": "white",
             "minorgridcolor": "white",
             "startlinecolor": "#2a3f5f"
            },
            "baxis": {
             "endlinecolor": "#2a3f5f",
             "gridcolor": "white",
             "linecolor": "white",
             "minorgridcolor": "white",
             "startlinecolor": "#2a3f5f"
            },
            "type": "carpet"
           }
          ],
          "choropleth": [
           {
            "colorbar": {
             "outlinewidth": 0,
             "ticks": ""
            },
            "type": "choropleth"
           }
          ],
          "contour": [
           {
            "colorbar": {
             "outlinewidth": 0,
             "ticks": ""
            },
            "colorscale": [
             [
              0,
              "#0d0887"
             ],
             [
              0.1111111111111111,
              "#46039f"
             ],
             [
              0.2222222222222222,
              "#7201a8"
             ],
             [
              0.3333333333333333,
              "#9c179e"
             ],
             [
              0.4444444444444444,
              "#bd3786"
             ],
             [
              0.5555555555555556,
              "#d8576b"
             ],
             [
              0.6666666666666666,
              "#ed7953"
             ],
             [
              0.7777777777777778,
              "#fb9f3a"
             ],
             [
              0.8888888888888888,
              "#fdca26"
             ],
             [
              1,
              "#f0f921"
             ]
            ],
            "type": "contour"
           }
          ],
          "contourcarpet": [
           {
            "colorbar": {
             "outlinewidth": 0,
             "ticks": ""
            },
            "type": "contourcarpet"
           }
          ],
          "heatmap": [
           {
            "colorbar": {
             "outlinewidth": 0,
             "ticks": ""
            },
            "colorscale": [
             [
              0,
              "#0d0887"
             ],
             [
              0.1111111111111111,
              "#46039f"
             ],
             [
              0.2222222222222222,
              "#7201a8"
             ],
             [
              0.3333333333333333,
              "#9c179e"
             ],
             [
              0.4444444444444444,
              "#bd3786"
             ],
             [
              0.5555555555555556,
              "#d8576b"
             ],
             [
              0.6666666666666666,
              "#ed7953"
             ],
             [
              0.7777777777777778,
              "#fb9f3a"
             ],
             [
              0.8888888888888888,
              "#fdca26"
             ],
             [
              1,
              "#f0f921"
             ]
            ],
            "type": "heatmap"
           }
          ],
          "heatmapgl": [
           {
            "colorbar": {
             "outlinewidth": 0,
             "ticks": ""
            },
            "colorscale": [
             [
              0,
              "#0d0887"
             ],
             [
              0.1111111111111111,
              "#46039f"
             ],
             [
              0.2222222222222222,
              "#7201a8"
             ],
             [
              0.3333333333333333,
              "#9c179e"
             ],
             [
              0.4444444444444444,
              "#bd3786"
             ],
             [
              0.5555555555555556,
              "#d8576b"
             ],
             [
              0.6666666666666666,
              "#ed7953"
             ],
             [
              0.7777777777777778,
              "#fb9f3a"
             ],
             [
              0.8888888888888888,
              "#fdca26"
             ],
             [
              1,
              "#f0f921"
             ]
            ],
            "type": "heatmapgl"
           }
          ],
          "histogram": [
           {
            "marker": {
             "pattern": {
              "fillmode": "overlay",
              "size": 10,
              "solidity": 0.2
             }
            },
            "type": "histogram"
           }
          ],
          "histogram2d": [
           {
            "colorbar": {
             "outlinewidth": 0,
             "ticks": ""
            },
            "colorscale": [
             [
              0,
              "#0d0887"
             ],
             [
              0.1111111111111111,
              "#46039f"
             ],
             [
              0.2222222222222222,
              "#7201a8"
             ],
             [
              0.3333333333333333,
              "#9c179e"
             ],
             [
              0.4444444444444444,
              "#bd3786"
             ],
             [
              0.5555555555555556,
              "#d8576b"
             ],
             [
              0.6666666666666666,
              "#ed7953"
             ],
             [
              0.7777777777777778,
              "#fb9f3a"
             ],
             [
              0.8888888888888888,
              "#fdca26"
             ],
             [
              1,
              "#f0f921"
             ]
            ],
            "type": "histogram2d"
           }
          ],
          "histogram2dcontour": [
           {
            "colorbar": {
             "outlinewidth": 0,
             "ticks": ""
            },
            "colorscale": [
             [
              0,
              "#0d0887"
             ],
             [
              0.1111111111111111,
              "#46039f"
             ],
             [
              0.2222222222222222,
              "#7201a8"
             ],
             [
              0.3333333333333333,
              "#9c179e"
             ],
             [
              0.4444444444444444,
              "#bd3786"
             ],
             [
              0.5555555555555556,
              "#d8576b"
             ],
             [
              0.6666666666666666,
              "#ed7953"
             ],
             [
              0.7777777777777778,
              "#fb9f3a"
             ],
             [
              0.8888888888888888,
              "#fdca26"
             ],
             [
              1,
              "#f0f921"
             ]
            ],
            "type": "histogram2dcontour"
           }
          ],
          "mesh3d": [
           {
            "colorbar": {
             "outlinewidth": 0,
             "ticks": ""
            },
            "type": "mesh3d"
           }
          ],
          "parcoords": [
           {
            "line": {
             "colorbar": {
              "outlinewidth": 0,
              "ticks": ""
             }
            },
            "type": "parcoords"
           }
          ],
          "pie": [
           {
            "automargin": true,
            "type": "pie"
           }
          ],
          "scatter": [
           {
            "fillpattern": {
             "fillmode": "overlay",
             "size": 10,
             "solidity": 0.2
            },
            "type": "scatter"
           }
          ],
          "scatter3d": [
           {
            "line": {
             "colorbar": {
              "outlinewidth": 0,
              "ticks": ""
             }
            },
            "marker": {
             "colorbar": {
              "outlinewidth": 0,
              "ticks": ""
             }
            },
            "type": "scatter3d"
           }
          ],
          "scattercarpet": [
           {
            "marker": {
             "colorbar": {
              "outlinewidth": 0,
              "ticks": ""
             }
            },
            "type": "scattercarpet"
           }
          ],
          "scattergeo": [
           {
            "marker": {
             "colorbar": {
              "outlinewidth": 0,
              "ticks": ""
             }
            },
            "type": "scattergeo"
           }
          ],
          "scattergl": [
           {
            "marker": {
             "colorbar": {
              "outlinewidth": 0,
              "ticks": ""
             }
            },
            "type": "scattergl"
           }
          ],
          "scattermapbox": [
           {
            "marker": {
             "colorbar": {
              "outlinewidth": 0,
              "ticks": ""
             }
            },
            "type": "scattermapbox"
           }
          ],
          "scatterpolar": [
           {
            "marker": {
             "colorbar": {
              "outlinewidth": 0,
              "ticks": ""
             }
            },
            "type": "scatterpolar"
           }
          ],
          "scatterpolargl": [
           {
            "marker": {
             "colorbar": {
              "outlinewidth": 0,
              "ticks": ""
             }
            },
            "type": "scatterpolargl"
           }
          ],
          "scatterternary": [
           {
            "marker": {
             "colorbar": {
              "outlinewidth": 0,
              "ticks": ""
             }
            },
            "type": "scatterternary"
           }
          ],
          "surface": [
           {
            "colorbar": {
             "outlinewidth": 0,
             "ticks": ""
            },
            "colorscale": [
             [
              0,
              "#0d0887"
             ],
             [
              0.1111111111111111,
              "#46039f"
             ],
             [
              0.2222222222222222,
              "#7201a8"
             ],
             [
              0.3333333333333333,
              "#9c179e"
             ],
             [
              0.4444444444444444,
              "#bd3786"
             ],
             [
              0.5555555555555556,
              "#d8576b"
             ],
             [
              0.6666666666666666,
              "#ed7953"
             ],
             [
              0.7777777777777778,
              "#fb9f3a"
             ],
             [
              0.8888888888888888,
              "#fdca26"
             ],
             [
              1,
              "#f0f921"
             ]
            ],
            "type": "surface"
           }
          ],
          "table": [
           {
            "cells": {
             "fill": {
              "color": "#EBF0F8"
             },
             "line": {
              "color": "white"
             }
            },
            "header": {
             "fill": {
              "color": "#C8D4E3"
             },
             "line": {
              "color": "white"
             }
            },
            "type": "table"
           }
          ]
         },
         "layout": {
          "annotationdefaults": {
           "arrowcolor": "#2a3f5f",
           "arrowhead": 0,
           "arrowwidth": 1
          },
          "autotypenumbers": "strict",
          "coloraxis": {
           "colorbar": {
            "outlinewidth": 0,
            "ticks": ""
           }
          },
          "colorscale": {
           "diverging": [
            [
             0,
             "#8e0152"
            ],
            [
             0.1,
             "#c51b7d"
            ],
            [
             0.2,
             "#de77ae"
            ],
            [
             0.3,
             "#f1b6da"
            ],
            [
             0.4,
             "#fde0ef"
            ],
            [
             0.5,
             "#f7f7f7"
            ],
            [
             0.6,
             "#e6f5d0"
            ],
            [
             0.7,
             "#b8e186"
            ],
            [
             0.8,
             "#7fbc41"
            ],
            [
             0.9,
             "#4d9221"
            ],
            [
             1,
             "#276419"
            ]
           ],
           "sequential": [
            [
             0,
             "#0d0887"
            ],
            [
             0.1111111111111111,
             "#46039f"
            ],
            [
             0.2222222222222222,
             "#7201a8"
            ],
            [
             0.3333333333333333,
             "#9c179e"
            ],
            [
             0.4444444444444444,
             "#bd3786"
            ],
            [
             0.5555555555555556,
             "#d8576b"
            ],
            [
             0.6666666666666666,
             "#ed7953"
            ],
            [
             0.7777777777777778,
             "#fb9f3a"
            ],
            [
             0.8888888888888888,
             "#fdca26"
            ],
            [
             1,
             "#f0f921"
            ]
           ],
           "sequentialminus": [
            [
             0,
             "#0d0887"
            ],
            [
             0.1111111111111111,
             "#46039f"
            ],
            [
             0.2222222222222222,
             "#7201a8"
            ],
            [
             0.3333333333333333,
             "#9c179e"
            ],
            [
             0.4444444444444444,
             "#bd3786"
            ],
            [
             0.5555555555555556,
             "#d8576b"
            ],
            [
             0.6666666666666666,
             "#ed7953"
            ],
            [
             0.7777777777777778,
             "#fb9f3a"
            ],
            [
             0.8888888888888888,
             "#fdca26"
            ],
            [
             1,
             "#f0f921"
            ]
           ]
          },
          "colorway": [
           "#636efa",
           "#EF553B",
           "#00cc96",
           "#ab63fa",
           "#FFA15A",
           "#19d3f3",
           "#FF6692",
           "#B6E880",
           "#FF97FF",
           "#FECB52"
          ],
          "font": {
           "color": "#2a3f5f"
          },
          "geo": {
           "bgcolor": "white",
           "lakecolor": "white",
           "landcolor": "#E5ECF6",
           "showlakes": true,
           "showland": true,
           "subunitcolor": "white"
          },
          "hoverlabel": {
           "align": "left"
          },
          "hovermode": "closest",
          "mapbox": {
           "style": "light"
          },
          "paper_bgcolor": "white",
          "plot_bgcolor": "#E5ECF6",
          "polar": {
           "angularaxis": {
            "gridcolor": "white",
            "linecolor": "white",
            "ticks": ""
           },
           "bgcolor": "#E5ECF6",
           "radialaxis": {
            "gridcolor": "white",
            "linecolor": "white",
            "ticks": ""
           }
          },
          "scene": {
           "xaxis": {
            "backgroundcolor": "#E5ECF6",
            "gridcolor": "white",
            "gridwidth": 2,
            "linecolor": "white",
            "showbackground": true,
            "ticks": "",
            "zerolinecolor": "white"
           },
           "yaxis": {
            "backgroundcolor": "#E5ECF6",
            "gridcolor": "white",
            "gridwidth": 2,
            "linecolor": "white",
            "showbackground": true,
            "ticks": "",
            "zerolinecolor": "white"
           },
           "zaxis": {
            "backgroundcolor": "#E5ECF6",
            "gridcolor": "white",
            "gridwidth": 2,
            "linecolor": "white",
            "showbackground": true,
            "ticks": "",
            "zerolinecolor": "white"
           }
          },
          "shapedefaults": {
           "line": {
            "color": "#2a3f5f"
           }
          },
          "ternary": {
           "aaxis": {
            "gridcolor": "white",
            "linecolor": "white",
            "ticks": ""
           },
           "baxis": {
            "gridcolor": "white",
            "linecolor": "white",
            "ticks": ""
           },
           "bgcolor": "#E5ECF6",
           "caxis": {
            "gridcolor": "white",
            "linecolor": "white",
            "ticks": ""
           }
          },
          "title": {
           "x": 0.05
          },
          "xaxis": {
           "automargin": true,
           "gridcolor": "white",
           "linecolor": "white",
           "ticks": "",
           "title": {
            "standoff": 15
           },
           "zerolinecolor": "white",
           "zerolinewidth": 2
          },
          "yaxis": {
           "automargin": true,
           "gridcolor": "white",
           "linecolor": "white",
           "ticks": "",
           "title": {
            "standoff": 15
           },
           "zerolinecolor": "white",
           "zerolinewidth": 2
          }
         }
        },
        "title": {
         "text": "Pick % by weighted_consensus score"
        },
        "xaxis": {
         "anchor": "y",
         "domain": [
          0,
          1
         ],
         "title": {
          "text": "weighted_consensus"
         }
        },
        "yaxis": {
         "anchor": "x",
         "domain": [
          0,
          1
         ],
         "title": {
          "text": "value"
         }
        }
       }
      }
     },
     "metadata": {},
     "output_type": "display_data"
    }
   ],
   "source": [
    "fig = px.bar(\n",
    "    df.groupby(col).pick_result.mean().round(2),\n",
    "    text_auto=True,\n",
    "    title=f'Pick % by {col} score'\n",
    ")\n",
    "fig.show()"
   ]
  },
  {
   "cell_type": "code",
   "execution_count": 26,
   "metadata": {},
   "outputs": [
    {
     "data": {
      "text/html": [
       "<div>\n",
       "<style scoped>\n",
       "    .dataframe tbody tr th:only-of-type {\n",
       "        vertical-align: middle;\n",
       "    }\n",
       "\n",
       "    .dataframe tbody tr th {\n",
       "        vertical-align: top;\n",
       "    }\n",
       "\n",
       "    .dataframe thead th {\n",
       "        text-align: right;\n",
       "    }\n",
       "</style>\n",
       "<table border=\"1\" class=\"dataframe\">\n",
       "  <thead>\n",
       "    <tr style=\"text-align: right;\">\n",
       "      <th></th>\n",
       "      <th>pick</th>\n",
       "      <th>consensus</th>\n",
       "      <th>weighted_consensus</th>\n",
       "      <th>season</th>\n",
       "      <th>week</th>\n",
       "      <th>spread_pick</th>\n",
       "      <th>best_bet</th>\n",
       "      <th>underdog_pick</th>\n",
       "      <th>survivor_pick</th>\n",
       "      <th>mnf_pick</th>\n",
       "      <th>game_id</th>\n",
       "      <th>away_team</th>\n",
       "      <th>home_team</th>\n",
       "      <th>result</th>\n",
       "      <th>spread_line</th>\n",
       "      <th>away_pick</th>\n",
       "      <th>away_cover</th>\n",
       "      <th>home_cover</th>\n",
       "      <th>pick_result</th>\n",
       "      <th>pick_multiplier</th>\n",
       "    </tr>\n",
       "  </thead>\n",
       "  <tbody>\n",
       "    <tr>\n",
       "      <th>0</th>\n",
       "      <td>BUF</td>\n",
       "      <td>3</td>\n",
       "      <td>4</td>\n",
       "      <td>2023</td>\n",
       "      <td>4</td>\n",
       "      <td>True</td>\n",
       "      <td>False</td>\n",
       "      <td>False</td>\n",
       "      <td>False</td>\n",
       "      <td>False</td>\n",
       "      <td>2023_04_MIA_BUF</td>\n",
       "      <td>MIA</td>\n",
       "      <td>BUF</td>\n",
       "      <td>28.0</td>\n",
       "      <td>2.5</td>\n",
       "      <td>False</td>\n",
       "      <td>0.0</td>\n",
       "      <td>1.0</td>\n",
       "      <td>1.0</td>\n",
       "      <td>1</td>\n",
       "    </tr>\n",
       "    <tr>\n",
       "      <th>1</th>\n",
       "      <td>BUF</td>\n",
       "      <td>3</td>\n",
       "      <td>4</td>\n",
       "      <td>2023</td>\n",
       "      <td>4</td>\n",
       "      <td>True</td>\n",
       "      <td>True</td>\n",
       "      <td>False</td>\n",
       "      <td>False</td>\n",
       "      <td>False</td>\n",
       "      <td>2023_04_MIA_BUF</td>\n",
       "      <td>MIA</td>\n",
       "      <td>BUF</td>\n",
       "      <td>28.0</td>\n",
       "      <td>2.5</td>\n",
       "      <td>False</td>\n",
       "      <td>0.0</td>\n",
       "      <td>1.0</td>\n",
       "      <td>2.0</td>\n",
       "      <td>2</td>\n",
       "    </tr>\n",
       "    <tr>\n",
       "      <th>3</th>\n",
       "      <td>KC</td>\n",
       "      <td>3</td>\n",
       "      <td>4</td>\n",
       "      <td>2023</td>\n",
       "      <td>4</td>\n",
       "      <td>True</td>\n",
       "      <td>False</td>\n",
       "      <td>False</td>\n",
       "      <td>False</td>\n",
       "      <td>False</td>\n",
       "      <td>2023_04_KC_NYJ</td>\n",
       "      <td>KC</td>\n",
       "      <td>NYJ</td>\n",
       "      <td>-3.0</td>\n",
       "      <td>-9.5</td>\n",
       "      <td>True</td>\n",
       "      <td>0.0</td>\n",
       "      <td>1.0</td>\n",
       "      <td>0.0</td>\n",
       "      <td>1</td>\n",
       "    </tr>\n",
       "    <tr>\n",
       "      <th>4</th>\n",
       "      <td>KC</td>\n",
       "      <td>3</td>\n",
       "      <td>4</td>\n",
       "      <td>2023</td>\n",
       "      <td>4</td>\n",
       "      <td>True</td>\n",
       "      <td>True</td>\n",
       "      <td>False</td>\n",
       "      <td>False</td>\n",
       "      <td>False</td>\n",
       "      <td>2023_04_KC_NYJ</td>\n",
       "      <td>KC</td>\n",
       "      <td>NYJ</td>\n",
       "      <td>-3.0</td>\n",
       "      <td>-9.5</td>\n",
       "      <td>True</td>\n",
       "      <td>0.0</td>\n",
       "      <td>1.0</td>\n",
       "      <td>0.0</td>\n",
       "      <td>2</td>\n",
       "    </tr>\n",
       "    <tr>\n",
       "      <th>6</th>\n",
       "      <td>LA</td>\n",
       "      <td>2</td>\n",
       "      <td>3</td>\n",
       "      <td>2023</td>\n",
       "      <td>4</td>\n",
       "      <td>True</td>\n",
       "      <td>False</td>\n",
       "      <td>False</td>\n",
       "      <td>False</td>\n",
       "      <td>False</td>\n",
       "      <td>2023_04_LA_IND</td>\n",
       "      <td>LA</td>\n",
       "      <td>IND</td>\n",
       "      <td>-6.0</td>\n",
       "      <td>-1.0</td>\n",
       "      <td>True</td>\n",
       "      <td>1.0</td>\n",
       "      <td>0.0</td>\n",
       "      <td>1.0</td>\n",
       "      <td>1</td>\n",
       "    </tr>\n",
       "    <tr>\n",
       "      <th>7</th>\n",
       "      <td>LA</td>\n",
       "      <td>2</td>\n",
       "      <td>3</td>\n",
       "      <td>2023</td>\n",
       "      <td>4</td>\n",
       "      <td>True</td>\n",
       "      <td>True</td>\n",
       "      <td>False</td>\n",
       "      <td>False</td>\n",
       "      <td>False</td>\n",
       "      <td>2023_04_LA_IND</td>\n",
       "      <td>LA</td>\n",
       "      <td>IND</td>\n",
       "      <td>-6.0</td>\n",
       "      <td>-1.0</td>\n",
       "      <td>True</td>\n",
       "      <td>1.0</td>\n",
       "      <td>0.0</td>\n",
       "      <td>2.0</td>\n",
       "      <td>2</td>\n",
       "    </tr>\n",
       "    <tr>\n",
       "      <th>8</th>\n",
       "      <td>CLE</td>\n",
       "      <td>2</td>\n",
       "      <td>3</td>\n",
       "      <td>2023</td>\n",
       "      <td>4</td>\n",
       "      <td>True</td>\n",
       "      <td>True</td>\n",
       "      <td>False</td>\n",
       "      <td>False</td>\n",
       "      <td>False</td>\n",
       "      <td>2023_04_BAL_CLE</td>\n",
       "      <td>BAL</td>\n",
       "      <td>CLE</td>\n",
       "      <td>-25.0</td>\n",
       "      <td>-2.0</td>\n",
       "      <td>False</td>\n",
       "      <td>1.0</td>\n",
       "      <td>0.0</td>\n",
       "      <td>0.0</td>\n",
       "      <td>2</td>\n",
       "    </tr>\n",
       "    <tr>\n",
       "      <th>9</th>\n",
       "      <td>CLE</td>\n",
       "      <td>2</td>\n",
       "      <td>3</td>\n",
       "      <td>2023</td>\n",
       "      <td>4</td>\n",
       "      <td>True</td>\n",
       "      <td>False</td>\n",
       "      <td>False</td>\n",
       "      <td>False</td>\n",
       "      <td>False</td>\n",
       "      <td>2023_04_BAL_CLE</td>\n",
       "      <td>BAL</td>\n",
       "      <td>CLE</td>\n",
       "      <td>-25.0</td>\n",
       "      <td>-2.0</td>\n",
       "      <td>False</td>\n",
       "      <td>1.0</td>\n",
       "      <td>0.0</td>\n",
       "      <td>0.0</td>\n",
       "      <td>1</td>\n",
       "    </tr>\n",
       "    <tr>\n",
       "      <th>10</th>\n",
       "      <td>TB</td>\n",
       "      <td>2</td>\n",
       "      <td>2</td>\n",
       "      <td>2023</td>\n",
       "      <td>4</td>\n",
       "      <td>True</td>\n",
       "      <td>False</td>\n",
       "      <td>False</td>\n",
       "      <td>False</td>\n",
       "      <td>False</td>\n",
       "      <td>2023_04_TB_NO</td>\n",
       "      <td>TB</td>\n",
       "      <td>NO</td>\n",
       "      <td>-17.0</td>\n",
       "      <td>4.0</td>\n",
       "      <td>True</td>\n",
       "      <td>1.0</td>\n",
       "      <td>0.0</td>\n",
       "      <td>1.0</td>\n",
       "      <td>1</td>\n",
       "    </tr>\n",
       "    <tr>\n",
       "      <th>12</th>\n",
       "      <td>CIN</td>\n",
       "      <td>2</td>\n",
       "      <td>2</td>\n",
       "      <td>2023</td>\n",
       "      <td>4</td>\n",
       "      <td>True</td>\n",
       "      <td>False</td>\n",
       "      <td>False</td>\n",
       "      <td>False</td>\n",
       "      <td>False</td>\n",
       "      <td>2023_04_CIN_TEN</td>\n",
       "      <td>CIN</td>\n",
       "      <td>TEN</td>\n",
       "      <td>24.0</td>\n",
       "      <td>-2.5</td>\n",
       "      <td>True</td>\n",
       "      <td>0.0</td>\n",
       "      <td>1.0</td>\n",
       "      <td>0.0</td>\n",
       "      <td>1</td>\n",
       "    </tr>\n",
       "    <tr>\n",
       "      <th>14</th>\n",
       "      <td>DAL</td>\n",
       "      <td>2</td>\n",
       "      <td>2</td>\n",
       "      <td>2023</td>\n",
       "      <td>4</td>\n",
       "      <td>True</td>\n",
       "      <td>False</td>\n",
       "      <td>False</td>\n",
       "      <td>False</td>\n",
       "      <td>False</td>\n",
       "      <td>2023_04_NE_DAL</td>\n",
       "      <td>NE</td>\n",
       "      <td>DAL</td>\n",
       "      <td>35.0</td>\n",
       "      <td>6.5</td>\n",
       "      <td>False</td>\n",
       "      <td>0.0</td>\n",
       "      <td>1.0</td>\n",
       "      <td>1.0</td>\n",
       "      <td>1</td>\n",
       "    </tr>\n",
       "    <tr>\n",
       "      <th>16</th>\n",
       "      <td>NE</td>\n",
       "      <td>1</td>\n",
       "      <td>2</td>\n",
       "      <td>2023</td>\n",
       "      <td>4</td>\n",
       "      <td>True</td>\n",
       "      <td>True</td>\n",
       "      <td>False</td>\n",
       "      <td>False</td>\n",
       "      <td>False</td>\n",
       "      <td>2023_04_NE_DAL</td>\n",
       "      <td>NE</td>\n",
       "      <td>DAL</td>\n",
       "      <td>35.0</td>\n",
       "      <td>6.5</td>\n",
       "      <td>True</td>\n",
       "      <td>0.0</td>\n",
       "      <td>1.0</td>\n",
       "      <td>0.0</td>\n",
       "      <td>2</td>\n",
       "    </tr>\n",
       "    <tr>\n",
       "      <th>17</th>\n",
       "      <td>BAL</td>\n",
       "      <td>2</td>\n",
       "      <td>2</td>\n",
       "      <td>2023</td>\n",
       "      <td>4</td>\n",
       "      <td>True</td>\n",
       "      <td>False</td>\n",
       "      <td>False</td>\n",
       "      <td>False</td>\n",
       "      <td>False</td>\n",
       "      <td>2023_04_BAL_CLE</td>\n",
       "      <td>BAL</td>\n",
       "      <td>CLE</td>\n",
       "      <td>-25.0</td>\n",
       "      <td>-2.0</td>\n",
       "      <td>True</td>\n",
       "      <td>1.0</td>\n",
       "      <td>0.0</td>\n",
       "      <td>1.0</td>\n",
       "      <td>1</td>\n",
       "    </tr>\n",
       "    <tr>\n",
       "      <th>19</th>\n",
       "      <td>ARI</td>\n",
       "      <td>1</td>\n",
       "      <td>1</td>\n",
       "      <td>2023</td>\n",
       "      <td>4</td>\n",
       "      <td>True</td>\n",
       "      <td>False</td>\n",
       "      <td>False</td>\n",
       "      <td>False</td>\n",
       "      <td>False</td>\n",
       "      <td>2023_04_ARI_SF</td>\n",
       "      <td>ARI</td>\n",
       "      <td>SF</td>\n",
       "      <td>19.0</td>\n",
       "      <td>15.0</td>\n",
       "      <td>True</td>\n",
       "      <td>0.0</td>\n",
       "      <td>1.0</td>\n",
       "      <td>0.0</td>\n",
       "      <td>1</td>\n",
       "    </tr>\n",
       "    <tr>\n",
       "      <th>20</th>\n",
       "      <td>PIT</td>\n",
       "      <td>1</td>\n",
       "      <td>1</td>\n",
       "      <td>2023</td>\n",
       "      <td>4</td>\n",
       "      <td>True</td>\n",
       "      <td>False</td>\n",
       "      <td>False</td>\n",
       "      <td>False</td>\n",
       "      <td>False</td>\n",
       "      <td>2023_04_PIT_HOU</td>\n",
       "      <td>PIT</td>\n",
       "      <td>HOU</td>\n",
       "      <td>24.0</td>\n",
       "      <td>-3.0</td>\n",
       "      <td>True</td>\n",
       "      <td>0.0</td>\n",
       "      <td>1.0</td>\n",
       "      <td>0.0</td>\n",
       "      <td>1</td>\n",
       "    </tr>\n",
       "    <tr>\n",
       "      <th>21</th>\n",
       "      <td>MIN</td>\n",
       "      <td>1</td>\n",
       "      <td>1</td>\n",
       "      <td>2023</td>\n",
       "      <td>4</td>\n",
       "      <td>True</td>\n",
       "      <td>False</td>\n",
       "      <td>False</td>\n",
       "      <td>False</td>\n",
       "      <td>False</td>\n",
       "      <td>2023_04_MIN_CAR</td>\n",
       "      <td>MIN</td>\n",
       "      <td>CAR</td>\n",
       "      <td>-8.0</td>\n",
       "      <td>-4.5</td>\n",
       "      <td>True</td>\n",
       "      <td>1.0</td>\n",
       "      <td>0.0</td>\n",
       "      <td>1.0</td>\n",
       "      <td>1</td>\n",
       "    </tr>\n",
       "    <tr>\n",
       "      <th>22</th>\n",
       "      <td>MIA</td>\n",
       "      <td>1</td>\n",
       "      <td>1</td>\n",
       "      <td>2023</td>\n",
       "      <td>4</td>\n",
       "      <td>True</td>\n",
       "      <td>False</td>\n",
       "      <td>False</td>\n",
       "      <td>False</td>\n",
       "      <td>False</td>\n",
       "      <td>2023_04_MIA_BUF</td>\n",
       "      <td>MIA</td>\n",
       "      <td>BUF</td>\n",
       "      <td>28.0</td>\n",
       "      <td>2.5</td>\n",
       "      <td>True</td>\n",
       "      <td>0.0</td>\n",
       "      <td>1.0</td>\n",
       "      <td>0.0</td>\n",
       "      <td>1</td>\n",
       "    </tr>\n",
       "    <tr>\n",
       "      <th>23</th>\n",
       "      <td>IND</td>\n",
       "      <td>1</td>\n",
       "      <td>1</td>\n",
       "      <td>2023</td>\n",
       "      <td>4</td>\n",
       "      <td>True</td>\n",
       "      <td>False</td>\n",
       "      <td>False</td>\n",
       "      <td>False</td>\n",
       "      <td>False</td>\n",
       "      <td>2023_04_LA_IND</td>\n",
       "      <td>LA</td>\n",
       "      <td>IND</td>\n",
       "      <td>-6.0</td>\n",
       "      <td>-1.0</td>\n",
       "      <td>False</td>\n",
       "      <td>1.0</td>\n",
       "      <td>0.0</td>\n",
       "      <td>0.0</td>\n",
       "      <td>1</td>\n",
       "    </tr>\n",
       "    <tr>\n",
       "      <th>24</th>\n",
       "      <td>JAX</td>\n",
       "      <td>1</td>\n",
       "      <td>1</td>\n",
       "      <td>2023</td>\n",
       "      <td>4</td>\n",
       "      <td>True</td>\n",
       "      <td>False</td>\n",
       "      <td>False</td>\n",
       "      <td>False</td>\n",
       "      <td>False</td>\n",
       "      <td>2023_04_ATL_JAX</td>\n",
       "      <td>ATL</td>\n",
       "      <td>JAX</td>\n",
       "      <td>16.0</td>\n",
       "      <td>3.5</td>\n",
       "      <td>False</td>\n",
       "      <td>0.0</td>\n",
       "      <td>1.0</td>\n",
       "      <td>1.0</td>\n",
       "      <td>1</td>\n",
       "    </tr>\n",
       "    <tr>\n",
       "      <th>25</th>\n",
       "      <td>HOU</td>\n",
       "      <td>1</td>\n",
       "      <td>1</td>\n",
       "      <td>2023</td>\n",
       "      <td>4</td>\n",
       "      <td>True</td>\n",
       "      <td>False</td>\n",
       "      <td>False</td>\n",
       "      <td>False</td>\n",
       "      <td>False</td>\n",
       "      <td>2023_04_PIT_HOU</td>\n",
       "      <td>PIT</td>\n",
       "      <td>HOU</td>\n",
       "      <td>24.0</td>\n",
       "      <td>-3.0</td>\n",
       "      <td>False</td>\n",
       "      <td>0.0</td>\n",
       "      <td>1.0</td>\n",
       "      <td>1.0</td>\n",
       "      <td>1</td>\n",
       "    </tr>\n",
       "    <tr>\n",
       "      <th>26</th>\n",
       "      <td>GB</td>\n",
       "      <td>1</td>\n",
       "      <td>1</td>\n",
       "      <td>2023</td>\n",
       "      <td>4</td>\n",
       "      <td>True</td>\n",
       "      <td>False</td>\n",
       "      <td>False</td>\n",
       "      <td>False</td>\n",
       "      <td>False</td>\n",
       "      <td>2023_04_DET_GB</td>\n",
       "      <td>DET</td>\n",
       "      <td>GB</td>\n",
       "      <td>-14.0</td>\n",
       "      <td>-2.5</td>\n",
       "      <td>False</td>\n",
       "      <td>1.0</td>\n",
       "      <td>0.0</td>\n",
       "      <td>0.0</td>\n",
       "      <td>1</td>\n",
       "    </tr>\n",
       "    <tr>\n",
       "      <th>27</th>\n",
       "      <td>DEN</td>\n",
       "      <td>1</td>\n",
       "      <td>1</td>\n",
       "      <td>2023</td>\n",
       "      <td>4</td>\n",
       "      <td>True</td>\n",
       "      <td>False</td>\n",
       "      <td>False</td>\n",
       "      <td>False</td>\n",
       "      <td>False</td>\n",
       "      <td>2023_04_DEN_CHI</td>\n",
       "      <td>DEN</td>\n",
       "      <td>CHI</td>\n",
       "      <td>-3.0</td>\n",
       "      <td>-3.0</td>\n",
       "      <td>True</td>\n",
       "      <td>0.5</td>\n",
       "      <td>0.5</td>\n",
       "      <td>0.5</td>\n",
       "      <td>1</td>\n",
       "    </tr>\n",
       "    <tr>\n",
       "      <th>28</th>\n",
       "      <td>CAR</td>\n",
       "      <td>1</td>\n",
       "      <td>1</td>\n",
       "      <td>2023</td>\n",
       "      <td>4</td>\n",
       "      <td>True</td>\n",
       "      <td>False</td>\n",
       "      <td>False</td>\n",
       "      <td>False</td>\n",
       "      <td>False</td>\n",
       "      <td>2023_04_MIN_CAR</td>\n",
       "      <td>MIN</td>\n",
       "      <td>CAR</td>\n",
       "      <td>-8.0</td>\n",
       "      <td>-4.5</td>\n",
       "      <td>False</td>\n",
       "      <td>1.0</td>\n",
       "      <td>0.0</td>\n",
       "      <td>0.0</td>\n",
       "      <td>1</td>\n",
       "    </tr>\n",
       "    <tr>\n",
       "      <th>29</th>\n",
       "      <td>WAS</td>\n",
       "      <td>1</td>\n",
       "      <td>1</td>\n",
       "      <td>2023</td>\n",
       "      <td>4</td>\n",
       "      <td>True</td>\n",
       "      <td>False</td>\n",
       "      <td>False</td>\n",
       "      <td>False</td>\n",
       "      <td>False</td>\n",
       "      <td>2023_04_WAS_PHI</td>\n",
       "      <td>WAS</td>\n",
       "      <td>PHI</td>\n",
       "      <td>3.0</td>\n",
       "      <td>9.5</td>\n",
       "      <td>True</td>\n",
       "      <td>1.0</td>\n",
       "      <td>0.0</td>\n",
       "      <td>1.0</td>\n",
       "      <td>1</td>\n",
       "    </tr>\n",
       "  </tbody>\n",
       "</table>\n",
       "</div>"
      ],
      "text/plain": [
       "   pick  consensus  weighted_consensus  season  week  spread_pick  best_bet  \\\n",
       "0   BUF          3                   4    2023     4         True     False   \n",
       "1   BUF          3                   4    2023     4         True      True   \n",
       "3    KC          3                   4    2023     4         True     False   \n",
       "4    KC          3                   4    2023     4         True      True   \n",
       "6    LA          2                   3    2023     4         True     False   \n",
       "7    LA          2                   3    2023     4         True      True   \n",
       "8   CLE          2                   3    2023     4         True      True   \n",
       "9   CLE          2                   3    2023     4         True     False   \n",
       "10   TB          2                   2    2023     4         True     False   \n",
       "12  CIN          2                   2    2023     4         True     False   \n",
       "14  DAL          2                   2    2023     4         True     False   \n",
       "16   NE          1                   2    2023     4         True      True   \n",
       "17  BAL          2                   2    2023     4         True     False   \n",
       "19  ARI          1                   1    2023     4         True     False   \n",
       "20  PIT          1                   1    2023     4         True     False   \n",
       "21  MIN          1                   1    2023     4         True     False   \n",
       "22  MIA          1                   1    2023     4         True     False   \n",
       "23  IND          1                   1    2023     4         True     False   \n",
       "24  JAX          1                   1    2023     4         True     False   \n",
       "25  HOU          1                   1    2023     4         True     False   \n",
       "26   GB          1                   1    2023     4         True     False   \n",
       "27  DEN          1                   1    2023     4         True     False   \n",
       "28  CAR          1                   1    2023     4         True     False   \n",
       "29  WAS          1                   1    2023     4         True     False   \n",
       "\n",
       "    underdog_pick  survivor_pick  mnf_pick          game_id away_team  \\\n",
       "0           False          False     False  2023_04_MIA_BUF       MIA   \n",
       "1           False          False     False  2023_04_MIA_BUF       MIA   \n",
       "3           False          False     False   2023_04_KC_NYJ        KC   \n",
       "4           False          False     False   2023_04_KC_NYJ        KC   \n",
       "6           False          False     False   2023_04_LA_IND        LA   \n",
       "7           False          False     False   2023_04_LA_IND        LA   \n",
       "8           False          False     False  2023_04_BAL_CLE       BAL   \n",
       "9           False          False     False  2023_04_BAL_CLE       BAL   \n",
       "10          False          False     False    2023_04_TB_NO        TB   \n",
       "12          False          False     False  2023_04_CIN_TEN       CIN   \n",
       "14          False          False     False   2023_04_NE_DAL        NE   \n",
       "16          False          False     False   2023_04_NE_DAL        NE   \n",
       "17          False          False     False  2023_04_BAL_CLE       BAL   \n",
       "19          False          False     False   2023_04_ARI_SF       ARI   \n",
       "20          False          False     False  2023_04_PIT_HOU       PIT   \n",
       "21          False          False     False  2023_04_MIN_CAR       MIN   \n",
       "22          False          False     False  2023_04_MIA_BUF       MIA   \n",
       "23          False          False     False   2023_04_LA_IND        LA   \n",
       "24          False          False     False  2023_04_ATL_JAX       ATL   \n",
       "25          False          False     False  2023_04_PIT_HOU       PIT   \n",
       "26          False          False     False   2023_04_DET_GB       DET   \n",
       "27          False          False     False  2023_04_DEN_CHI       DEN   \n",
       "28          False          False     False  2023_04_MIN_CAR       MIN   \n",
       "29          False          False     False  2023_04_WAS_PHI       WAS   \n",
       "\n",
       "   home_team  result  spread_line  away_pick  away_cover  home_cover  \\\n",
       "0        BUF    28.0          2.5      False         0.0         1.0   \n",
       "1        BUF    28.0          2.5      False         0.0         1.0   \n",
       "3        NYJ    -3.0         -9.5       True         0.0         1.0   \n",
       "4        NYJ    -3.0         -9.5       True         0.0         1.0   \n",
       "6        IND    -6.0         -1.0       True         1.0         0.0   \n",
       "7        IND    -6.0         -1.0       True         1.0         0.0   \n",
       "8        CLE   -25.0         -2.0      False         1.0         0.0   \n",
       "9        CLE   -25.0         -2.0      False         1.0         0.0   \n",
       "10        NO   -17.0          4.0       True         1.0         0.0   \n",
       "12       TEN    24.0         -2.5       True         0.0         1.0   \n",
       "14       DAL    35.0          6.5      False         0.0         1.0   \n",
       "16       DAL    35.0          6.5       True         0.0         1.0   \n",
       "17       CLE   -25.0         -2.0       True         1.0         0.0   \n",
       "19        SF    19.0         15.0       True         0.0         1.0   \n",
       "20       HOU    24.0         -3.0       True         0.0         1.0   \n",
       "21       CAR    -8.0         -4.5       True         1.0         0.0   \n",
       "22       BUF    28.0          2.5       True         0.0         1.0   \n",
       "23       IND    -6.0         -1.0      False         1.0         0.0   \n",
       "24       JAX    16.0          3.5      False         0.0         1.0   \n",
       "25       HOU    24.0         -3.0      False         0.0         1.0   \n",
       "26        GB   -14.0         -2.5      False         1.0         0.0   \n",
       "27       CHI    -3.0         -3.0       True         0.5         0.5   \n",
       "28       CAR    -8.0         -4.5      False         1.0         0.0   \n",
       "29       PHI     3.0          9.5       True         1.0         0.0   \n",
       "\n",
       "    pick_result  pick_multiplier  \n",
       "0           1.0                1  \n",
       "1           2.0                2  \n",
       "3           0.0                1  \n",
       "4           0.0                2  \n",
       "6           1.0                1  \n",
       "7           2.0                2  \n",
       "8           0.0                2  \n",
       "9           0.0                1  \n",
       "10          1.0                1  \n",
       "12          0.0                1  \n",
       "14          1.0                1  \n",
       "16          0.0                2  \n",
       "17          1.0                1  \n",
       "19          0.0                1  \n",
       "20          0.0                1  \n",
       "21          1.0                1  \n",
       "22          0.0                1  \n",
       "23          0.0                1  \n",
       "24          1.0                1  \n",
       "25          1.0                1  \n",
       "26          0.0                1  \n",
       "27          0.5                1  \n",
       "28          0.0                1  \n",
       "29          1.0                1  "
      ]
     },
     "execution_count": 26,
     "metadata": {},
     "output_type": "execute_result"
    }
   ],
   "source": [
    "df"
   ]
  },
  {
   "cell_type": "code",
   "execution_count": null,
   "metadata": {},
   "outputs": [],
   "source": []
  },
  {
   "cell_type": "code",
   "execution_count": 35,
   "metadata": {},
   "outputs": [
    {
     "data": {
      "text/html": [
       "<div>\n",
       "<style scoped>\n",
       "    .dataframe tbody tr th:only-of-type {\n",
       "        vertical-align: middle;\n",
       "    }\n",
       "\n",
       "    .dataframe tbody tr th {\n",
       "        vertical-align: top;\n",
       "    }\n",
       "\n",
       "    .dataframe thead th {\n",
       "        text-align: right;\n",
       "    }\n",
       "</style>\n",
       "<table border=\"1\" class=\"dataframe\">\n",
       "  <thead>\n",
       "    <tr style=\"text-align: right;\">\n",
       "      <th></th>\n",
       "      <th>game_id</th>\n",
       "      <th>season</th>\n",
       "      <th>game_type</th>\n",
       "      <th>week</th>\n",
       "      <th>gameday</th>\n",
       "      <th>weekday</th>\n",
       "      <th>gametime</th>\n",
       "      <th>away_team</th>\n",
       "      <th>away_score</th>\n",
       "      <th>home_team</th>\n",
       "      <th>...</th>\n",
       "      <th>wind</th>\n",
       "      <th>away_qb_id</th>\n",
       "      <th>home_qb_id</th>\n",
       "      <th>away_qb_name</th>\n",
       "      <th>home_qb_name</th>\n",
       "      <th>away_coach</th>\n",
       "      <th>home_coach</th>\n",
       "      <th>referee</th>\n",
       "      <th>stadium_id</th>\n",
       "      <th>stadium</th>\n",
       "    </tr>\n",
       "  </thead>\n",
       "  <tbody>\n",
       "    <tr>\n",
       "      <th>6469</th>\n",
       "      <td>2023_04_DET_GB</td>\n",
       "      <td>2023</td>\n",
       "      <td>REG</td>\n",
       "      <td>4</td>\n",
       "      <td>2023-09-28</td>\n",
       "      <td>Thursday</td>\n",
       "      <td>20:15</td>\n",
       "      <td>DET</td>\n",
       "      <td>34.0</td>\n",
       "      <td>GB</td>\n",
       "      <td>...</td>\n",
       "      <td>8.0</td>\n",
       "      <td>00-0033106</td>\n",
       "      <td>00-0036264</td>\n",
       "      <td>Jared Goff</td>\n",
       "      <td>Jordan Love</td>\n",
       "      <td>Dan Campbell</td>\n",
       "      <td>Matt LaFleur</td>\n",
       "      <td>Alan Eck</td>\n",
       "      <td>GNB00</td>\n",
       "      <td>Lambeau Field</td>\n",
       "    </tr>\n",
       "    <tr>\n",
       "      <th>6470</th>\n",
       "      <td>2023_04_ATL_JAX</td>\n",
       "      <td>2023</td>\n",
       "      <td>REG</td>\n",
       "      <td>4</td>\n",
       "      <td>2023-10-01</td>\n",
       "      <td>Sunday</td>\n",
       "      <td>09:30</td>\n",
       "      <td>ATL</td>\n",
       "      <td>7.0</td>\n",
       "      <td>JAX</td>\n",
       "      <td>...</td>\n",
       "      <td>NaN</td>\n",
       "      <td>00-0038122</td>\n",
       "      <td>00-0036971</td>\n",
       "      <td>Desmond Ridder</td>\n",
       "      <td>Trevor Lawrence</td>\n",
       "      <td>Arthur Smith</td>\n",
       "      <td>Doug Pederson</td>\n",
       "      <td>Craig Wrolstad</td>\n",
       "      <td>JAX00</td>\n",
       "      <td>TIAA Bank Stadium</td>\n",
       "    </tr>\n",
       "    <tr>\n",
       "      <th>6471</th>\n",
       "      <td>2023_04_MIA_BUF</td>\n",
       "      <td>2023</td>\n",
       "      <td>REG</td>\n",
       "      <td>4</td>\n",
       "      <td>2023-10-01</td>\n",
       "      <td>Sunday</td>\n",
       "      <td>13:00</td>\n",
       "      <td>MIA</td>\n",
       "      <td>20.0</td>\n",
       "      <td>BUF</td>\n",
       "      <td>...</td>\n",
       "      <td>2.0</td>\n",
       "      <td>00-0036212</td>\n",
       "      <td>00-0034857</td>\n",
       "      <td>Tua Tagovailoa</td>\n",
       "      <td>Josh Allen</td>\n",
       "      <td>Mike McDaniel</td>\n",
       "      <td>Sean McDermott</td>\n",
       "      <td>Adrian Hill</td>\n",
       "      <td>BUF00</td>\n",
       "      <td>New Era Field</td>\n",
       "    </tr>\n",
       "    <tr>\n",
       "      <th>6472</th>\n",
       "      <td>2023_04_MIN_CAR</td>\n",
       "      <td>2023</td>\n",
       "      <td>REG</td>\n",
       "      <td>4</td>\n",
       "      <td>2023-10-01</td>\n",
       "      <td>Sunday</td>\n",
       "      <td>13:00</td>\n",
       "      <td>MIN</td>\n",
       "      <td>21.0</td>\n",
       "      <td>CAR</td>\n",
       "      <td>...</td>\n",
       "      <td>7.0</td>\n",
       "      <td>00-0029604</td>\n",
       "      <td>00-0039150</td>\n",
       "      <td>Kirk Cousins</td>\n",
       "      <td>Bryce Young</td>\n",
       "      <td>Kevin O'Connell</td>\n",
       "      <td>Frank Reich</td>\n",
       "      <td>Tra Blake</td>\n",
       "      <td>CAR00</td>\n",
       "      <td>Bank of America Stadium</td>\n",
       "    </tr>\n",
       "    <tr>\n",
       "      <th>6473</th>\n",
       "      <td>2023_04_DEN_CHI</td>\n",
       "      <td>2023</td>\n",
       "      <td>REG</td>\n",
       "      <td>4</td>\n",
       "      <td>2023-10-01</td>\n",
       "      <td>Sunday</td>\n",
       "      <td>13:00</td>\n",
       "      <td>DEN</td>\n",
       "      <td>31.0</td>\n",
       "      <td>CHI</td>\n",
       "      <td>...</td>\n",
       "      <td>2.0</td>\n",
       "      <td>00-0029263</td>\n",
       "      <td>00-0036945</td>\n",
       "      <td>Russell Wilson</td>\n",
       "      <td>Justin Fields</td>\n",
       "      <td>Sean Payton</td>\n",
       "      <td>Matt Eberflus</td>\n",
       "      <td>Carl Cheffers</td>\n",
       "      <td>CHI98</td>\n",
       "      <td>Soldier Field</td>\n",
       "    </tr>\n",
       "    <tr>\n",
       "      <th>6474</th>\n",
       "      <td>2023_04_BAL_CLE</td>\n",
       "      <td>2023</td>\n",
       "      <td>REG</td>\n",
       "      <td>4</td>\n",
       "      <td>2023-10-01</td>\n",
       "      <td>Sunday</td>\n",
       "      <td>13:00</td>\n",
       "      <td>BAL</td>\n",
       "      <td>28.0</td>\n",
       "      <td>CLE</td>\n",
       "      <td>...</td>\n",
       "      <td>7.0</td>\n",
       "      <td>00-0034796</td>\n",
       "      <td>00-0038583</td>\n",
       "      <td>Lamar Jackson</td>\n",
       "      <td>Dorian Thompson-Robinson</td>\n",
       "      <td>John Harbaugh</td>\n",
       "      <td>Kevin Stefanski</td>\n",
       "      <td>Brad Allen</td>\n",
       "      <td>CLE00</td>\n",
       "      <td>FirstEnergy Stadium</td>\n",
       "    </tr>\n",
       "    <tr>\n",
       "      <th>6475</th>\n",
       "      <td>2023_04_PIT_HOU</td>\n",
       "      <td>2023</td>\n",
       "      <td>REG</td>\n",
       "      <td>4</td>\n",
       "      <td>2023-10-01</td>\n",
       "      <td>Sunday</td>\n",
       "      <td>13:00</td>\n",
       "      <td>PIT</td>\n",
       "      <td>6.0</td>\n",
       "      <td>HOU</td>\n",
       "      <td>...</td>\n",
       "      <td>NaN</td>\n",
       "      <td>00-0038102</td>\n",
       "      <td>00-0039163</td>\n",
       "      <td>Kenny Pickett</td>\n",
       "      <td>C.J. Stroud</td>\n",
       "      <td>Mike Tomlin</td>\n",
       "      <td>DeMeco Ryans</td>\n",
       "      <td>Bill Vinovich</td>\n",
       "      <td>HOU00</td>\n",
       "      <td>NRG Stadium</td>\n",
       "    </tr>\n",
       "    <tr>\n",
       "      <th>6476</th>\n",
       "      <td>2023_04_LA_IND</td>\n",
       "      <td>2023</td>\n",
       "      <td>REG</td>\n",
       "      <td>4</td>\n",
       "      <td>2023-10-01</td>\n",
       "      <td>Sunday</td>\n",
       "      <td>13:00</td>\n",
       "      <td>LA</td>\n",
       "      <td>29.0</td>\n",
       "      <td>IND</td>\n",
       "      <td>...</td>\n",
       "      <td>NaN</td>\n",
       "      <td>00-0026498</td>\n",
       "      <td>00-0039164</td>\n",
       "      <td>Matthew Stafford</td>\n",
       "      <td>Anthony Richardson</td>\n",
       "      <td>Sean McVay</td>\n",
       "      <td>Shane Steichen</td>\n",
       "      <td>Land Clark</td>\n",
       "      <td>IND00</td>\n",
       "      <td>Lucas Oil Stadium</td>\n",
       "    </tr>\n",
       "    <tr>\n",
       "      <th>6477</th>\n",
       "      <td>2023_04_TB_NO</td>\n",
       "      <td>2023</td>\n",
       "      <td>REG</td>\n",
       "      <td>4</td>\n",
       "      <td>2023-10-01</td>\n",
       "      <td>Sunday</td>\n",
       "      <td>13:00</td>\n",
       "      <td>TB</td>\n",
       "      <td>26.0</td>\n",
       "      <td>NO</td>\n",
       "      <td>...</td>\n",
       "      <td>NaN</td>\n",
       "      <td>00-0034855</td>\n",
       "      <td>00-0031280</td>\n",
       "      <td>Baker Mayfield</td>\n",
       "      <td>Derek Carr</td>\n",
       "      <td>Todd Bowles</td>\n",
       "      <td>Dennis Allen</td>\n",
       "      <td>Shawn Hochuli</td>\n",
       "      <td>NOR00</td>\n",
       "      <td>Mercedes-Benz Superdome</td>\n",
       "    </tr>\n",
       "    <tr>\n",
       "      <th>6478</th>\n",
       "      <td>2023_04_WAS_PHI</td>\n",
       "      <td>2023</td>\n",
       "      <td>REG</td>\n",
       "      <td>4</td>\n",
       "      <td>2023-10-01</td>\n",
       "      <td>Sunday</td>\n",
       "      <td>13:00</td>\n",
       "      <td>WAS</td>\n",
       "      <td>31.0</td>\n",
       "      <td>PHI</td>\n",
       "      <td>...</td>\n",
       "      <td>NaN</td>\n",
       "      <td>00-0037077</td>\n",
       "      <td>00-0036389</td>\n",
       "      <td>Sam Howell</td>\n",
       "      <td>Jalen Hurts</td>\n",
       "      <td>Ron Rivera</td>\n",
       "      <td>Nick Sirianni</td>\n",
       "      <td>Ron Torbert</td>\n",
       "      <td>PHI00</td>\n",
       "      <td>Lincoln Financial Field</td>\n",
       "    </tr>\n",
       "    <tr>\n",
       "      <th>6479</th>\n",
       "      <td>2023_04_CIN_TEN</td>\n",
       "      <td>2023</td>\n",
       "      <td>REG</td>\n",
       "      <td>4</td>\n",
       "      <td>2023-10-01</td>\n",
       "      <td>Sunday</td>\n",
       "      <td>13:00</td>\n",
       "      <td>CIN</td>\n",
       "      <td>3.0</td>\n",
       "      <td>TEN</td>\n",
       "      <td>...</td>\n",
       "      <td>4.0</td>\n",
       "      <td>00-0036442</td>\n",
       "      <td>00-0029701</td>\n",
       "      <td>Joe Burrow</td>\n",
       "      <td>Ryan Tannehill</td>\n",
       "      <td>Zac Taylor</td>\n",
       "      <td>Mike Vrabel</td>\n",
       "      <td>Shawn Smith</td>\n",
       "      <td>NAS00</td>\n",
       "      <td>Nissan Stadium</td>\n",
       "    </tr>\n",
       "    <tr>\n",
       "      <th>6480</th>\n",
       "      <td>2023_04_LV_LAC</td>\n",
       "      <td>2023</td>\n",
       "      <td>REG</td>\n",
       "      <td>4</td>\n",
       "      <td>2023-10-01</td>\n",
       "      <td>Sunday</td>\n",
       "      <td>16:05</td>\n",
       "      <td>LV</td>\n",
       "      <td>17.0</td>\n",
       "      <td>LAC</td>\n",
       "      <td>...</td>\n",
       "      <td>NaN</td>\n",
       "      <td>00-0038579</td>\n",
       "      <td>00-0036355</td>\n",
       "      <td>Aidan O'Connell</td>\n",
       "      <td>Justin Herbert</td>\n",
       "      <td>Josh McDaniels</td>\n",
       "      <td>Brandon Staley</td>\n",
       "      <td>John Hussey</td>\n",
       "      <td>LAX01</td>\n",
       "      <td>SoFi Stadium</td>\n",
       "    </tr>\n",
       "    <tr>\n",
       "      <th>6481</th>\n",
       "      <td>2023_04_NE_DAL</td>\n",
       "      <td>2023</td>\n",
       "      <td>REG</td>\n",
       "      <td>4</td>\n",
       "      <td>2023-10-01</td>\n",
       "      <td>Sunday</td>\n",
       "      <td>16:25</td>\n",
       "      <td>NE</td>\n",
       "      <td>3.0</td>\n",
       "      <td>DAL</td>\n",
       "      <td>...</td>\n",
       "      <td>NaN</td>\n",
       "      <td>00-0036972</td>\n",
       "      <td>00-0033077</td>\n",
       "      <td>Mac Jones</td>\n",
       "      <td>Dak Prescott</td>\n",
       "      <td>Bill Belichick</td>\n",
       "      <td>Mike McCarthy</td>\n",
       "      <td>Scott Novak</td>\n",
       "      <td>DAL00</td>\n",
       "      <td>AT&amp;T Stadium</td>\n",
       "    </tr>\n",
       "    <tr>\n",
       "      <th>6482</th>\n",
       "      <td>2023_04_ARI_SF</td>\n",
       "      <td>2023</td>\n",
       "      <td>REG</td>\n",
       "      <td>4</td>\n",
       "      <td>2023-10-01</td>\n",
       "      <td>Sunday</td>\n",
       "      <td>16:25</td>\n",
       "      <td>ARI</td>\n",
       "      <td>16.0</td>\n",
       "      <td>SF</td>\n",
       "      <td>...</td>\n",
       "      <td>9.0</td>\n",
       "      <td>00-0033949</td>\n",
       "      <td>00-0037834</td>\n",
       "      <td>Joshua Dobbs</td>\n",
       "      <td>Brock Purdy</td>\n",
       "      <td>Jonathan Gannon</td>\n",
       "      <td>Kyle Shanahan</td>\n",
       "      <td>Clete Blakeman</td>\n",
       "      <td>SFO01</td>\n",
       "      <td>Levi's Stadium</td>\n",
       "    </tr>\n",
       "    <tr>\n",
       "      <th>6483</th>\n",
       "      <td>2023_04_KC_NYJ</td>\n",
       "      <td>2023</td>\n",
       "      <td>REG</td>\n",
       "      <td>4</td>\n",
       "      <td>2023-10-01</td>\n",
       "      <td>Sunday</td>\n",
       "      <td>20:20</td>\n",
       "      <td>KC</td>\n",
       "      <td>23.0</td>\n",
       "      <td>NYJ</td>\n",
       "      <td>...</td>\n",
       "      <td>5.0</td>\n",
       "      <td>00-0033873</td>\n",
       "      <td>00-0037013</td>\n",
       "      <td>Patrick Mahomes</td>\n",
       "      <td>Zach Wilson</td>\n",
       "      <td>Andy Reid</td>\n",
       "      <td>Robert Saleh</td>\n",
       "      <td>Alex Kemp</td>\n",
       "      <td>NYC01</td>\n",
       "      <td>MetLife Stadium</td>\n",
       "    </tr>\n",
       "    <tr>\n",
       "      <th>6484</th>\n",
       "      <td>2023_04_SEA_NYG</td>\n",
       "      <td>2023</td>\n",
       "      <td>REG</td>\n",
       "      <td>4</td>\n",
       "      <td>2023-10-02</td>\n",
       "      <td>Monday</td>\n",
       "      <td>20:15</td>\n",
       "      <td>SEA</td>\n",
       "      <td>24.0</td>\n",
       "      <td>NYG</td>\n",
       "      <td>...</td>\n",
       "      <td>8.0</td>\n",
       "      <td>00-0030565</td>\n",
       "      <td>00-0035710</td>\n",
       "      <td>Geno Smith</td>\n",
       "      <td>Daniel Jones</td>\n",
       "      <td>Pete Carroll</td>\n",
       "      <td>Brian Daboll</td>\n",
       "      <td>Brad Rogers</td>\n",
       "      <td>NYC01</td>\n",
       "      <td>MetLife Stadium</td>\n",
       "    </tr>\n",
       "  </tbody>\n",
       "</table>\n",
       "<p>16 rows × 46 columns</p>\n",
       "</div>"
      ],
      "text/plain": [
       "              game_id  season game_type  week     gameday   weekday gametime  \\\n",
       "6469   2023_04_DET_GB    2023       REG     4  2023-09-28  Thursday    20:15   \n",
       "6470  2023_04_ATL_JAX    2023       REG     4  2023-10-01    Sunday    09:30   \n",
       "6471  2023_04_MIA_BUF    2023       REG     4  2023-10-01    Sunday    13:00   \n",
       "6472  2023_04_MIN_CAR    2023       REG     4  2023-10-01    Sunday    13:00   \n",
       "6473  2023_04_DEN_CHI    2023       REG     4  2023-10-01    Sunday    13:00   \n",
       "6474  2023_04_BAL_CLE    2023       REG     4  2023-10-01    Sunday    13:00   \n",
       "6475  2023_04_PIT_HOU    2023       REG     4  2023-10-01    Sunday    13:00   \n",
       "6476   2023_04_LA_IND    2023       REG     4  2023-10-01    Sunday    13:00   \n",
       "6477    2023_04_TB_NO    2023       REG     4  2023-10-01    Sunday    13:00   \n",
       "6478  2023_04_WAS_PHI    2023       REG     4  2023-10-01    Sunday    13:00   \n",
       "6479  2023_04_CIN_TEN    2023       REG     4  2023-10-01    Sunday    13:00   \n",
       "6480   2023_04_LV_LAC    2023       REG     4  2023-10-01    Sunday    16:05   \n",
       "6481   2023_04_NE_DAL    2023       REG     4  2023-10-01    Sunday    16:25   \n",
       "6482   2023_04_ARI_SF    2023       REG     4  2023-10-01    Sunday    16:25   \n",
       "6483   2023_04_KC_NYJ    2023       REG     4  2023-10-01    Sunday    20:20   \n",
       "6484  2023_04_SEA_NYG    2023       REG     4  2023-10-02    Monday    20:15   \n",
       "\n",
       "     away_team  away_score home_team  ...  wind  away_qb_id  home_qb_id  \\\n",
       "6469       DET        34.0        GB  ...   8.0  00-0033106  00-0036264   \n",
       "6470       ATL         7.0       JAX  ...   NaN  00-0038122  00-0036971   \n",
       "6471       MIA        20.0       BUF  ...   2.0  00-0036212  00-0034857   \n",
       "6472       MIN        21.0       CAR  ...   7.0  00-0029604  00-0039150   \n",
       "6473       DEN        31.0       CHI  ...   2.0  00-0029263  00-0036945   \n",
       "6474       BAL        28.0       CLE  ...   7.0  00-0034796  00-0038583   \n",
       "6475       PIT         6.0       HOU  ...   NaN  00-0038102  00-0039163   \n",
       "6476        LA        29.0       IND  ...   NaN  00-0026498  00-0039164   \n",
       "6477        TB        26.0        NO  ...   NaN  00-0034855  00-0031280   \n",
       "6478       WAS        31.0       PHI  ...   NaN  00-0037077  00-0036389   \n",
       "6479       CIN         3.0       TEN  ...   4.0  00-0036442  00-0029701   \n",
       "6480        LV        17.0       LAC  ...   NaN  00-0038579  00-0036355   \n",
       "6481        NE         3.0       DAL  ...   NaN  00-0036972  00-0033077   \n",
       "6482       ARI        16.0        SF  ...   9.0  00-0033949  00-0037834   \n",
       "6483        KC        23.0       NYJ  ...   5.0  00-0033873  00-0037013   \n",
       "6484       SEA        24.0       NYG  ...   8.0  00-0030565  00-0035710   \n",
       "\n",
       "          away_qb_name              home_qb_name       away_coach  \\\n",
       "6469        Jared Goff               Jordan Love     Dan Campbell   \n",
       "6470    Desmond Ridder           Trevor Lawrence     Arthur Smith   \n",
       "6471    Tua Tagovailoa                Josh Allen    Mike McDaniel   \n",
       "6472      Kirk Cousins               Bryce Young  Kevin O'Connell   \n",
       "6473    Russell Wilson             Justin Fields      Sean Payton   \n",
       "6474     Lamar Jackson  Dorian Thompson-Robinson    John Harbaugh   \n",
       "6475     Kenny Pickett               C.J. Stroud      Mike Tomlin   \n",
       "6476  Matthew Stafford        Anthony Richardson       Sean McVay   \n",
       "6477    Baker Mayfield                Derek Carr      Todd Bowles   \n",
       "6478        Sam Howell               Jalen Hurts       Ron Rivera   \n",
       "6479        Joe Burrow            Ryan Tannehill       Zac Taylor   \n",
       "6480   Aidan O'Connell            Justin Herbert   Josh McDaniels   \n",
       "6481         Mac Jones              Dak Prescott   Bill Belichick   \n",
       "6482      Joshua Dobbs               Brock Purdy  Jonathan Gannon   \n",
       "6483   Patrick Mahomes               Zach Wilson        Andy Reid   \n",
       "6484        Geno Smith              Daniel Jones     Pete Carroll   \n",
       "\n",
       "           home_coach         referee stadium_id                  stadium  \n",
       "6469     Matt LaFleur        Alan Eck      GNB00            Lambeau Field  \n",
       "6470    Doug Pederson  Craig Wrolstad      JAX00        TIAA Bank Stadium  \n",
       "6471   Sean McDermott     Adrian Hill      BUF00            New Era Field  \n",
       "6472      Frank Reich       Tra Blake      CAR00  Bank of America Stadium  \n",
       "6473    Matt Eberflus   Carl Cheffers      CHI98            Soldier Field  \n",
       "6474  Kevin Stefanski      Brad Allen      CLE00      FirstEnergy Stadium  \n",
       "6475     DeMeco Ryans   Bill Vinovich      HOU00              NRG Stadium  \n",
       "6476   Shane Steichen      Land Clark      IND00        Lucas Oil Stadium  \n",
       "6477     Dennis Allen   Shawn Hochuli      NOR00  Mercedes-Benz Superdome  \n",
       "6478    Nick Sirianni     Ron Torbert      PHI00  Lincoln Financial Field  \n",
       "6479      Mike Vrabel     Shawn Smith      NAS00           Nissan Stadium  \n",
       "6480   Brandon Staley     John Hussey      LAX01             SoFi Stadium  \n",
       "6481    Mike McCarthy     Scott Novak      DAL00             AT&T Stadium  \n",
       "6482    Kyle Shanahan  Clete Blakeman      SFO01           Levi's Stadium  \n",
       "6483     Robert Saleh       Alex Kemp      NYC01          MetLife Stadium  \n",
       "6484     Brian Daboll     Brad Rogers      NYC01          MetLife Stadium  \n",
       "\n",
       "[16 rows x 46 columns]"
      ]
     },
     "execution_count": 35,
     "metadata": {},
     "output_type": "execute_result"
    }
   ],
   "source": [
    "schedule = nfl.import_schedules([SEASON])\n",
    "week_schedule = schedule[schedule['week']==WEEK]\n",
    "week_schedule"
   ]
  },
  {
   "cell_type": "code",
   "execution_count": 38,
   "metadata": {},
   "outputs": [
    {
     "data": {
      "text/html": [
       "<div>\n",
       "<style scoped>\n",
       "    .dataframe tbody tr th:only-of-type {\n",
       "        vertical-align: middle;\n",
       "    }\n",
       "\n",
       "    .dataframe tbody tr th {\n",
       "        vertical-align: top;\n",
       "    }\n",
       "\n",
       "    .dataframe thead th {\n",
       "        text-align: right;\n",
       "    }\n",
       "</style>\n",
       "<table border=\"1\" class=\"dataframe\">\n",
       "  <thead>\n",
       "    <tr style=\"text-align: right;\">\n",
       "      <th></th>\n",
       "      <th>pick</th>\n",
       "      <th>spread_pick</th>\n",
       "      <th>best_bet</th>\n",
       "      <th>weighted_consensus</th>\n",
       "      <th>spread_pick_opponent</th>\n",
       "      <th>best_bet_opponent</th>\n",
       "      <th>weighted_consensus_opponent</th>\n",
       "      <th>opponent_opponent</th>\n",
       "      <th>spread_pick_opponent</th>\n",
       "      <th>best_bet_opponent</th>\n",
       "      <th>weighted_consensus_opponent</th>\n",
       "      <th>opponent_opponent</th>\n",
       "      <th>spread_pick_opponent</th>\n",
       "      <th>best_bet_opponent</th>\n",
       "      <th>weighted_consensus_opponent</th>\n",
       "      <th>opponent_opponent</th>\n",
       "    </tr>\n",
       "  </thead>\n",
       "  <tbody>\n",
       "    <tr>\n",
       "      <th>0</th>\n",
       "      <td>BUF</td>\n",
       "      <td>3</td>\n",
       "      <td>1</td>\n",
       "      <td>4</td>\n",
       "      <td>1</td>\n",
       "      <td>0</td>\n",
       "      <td>1</td>\n",
       "      <td>BUF</td>\n",
       "      <td>1</td>\n",
       "      <td>0</td>\n",
       "      <td>1</td>\n",
       "      <td>BUF</td>\n",
       "      <td>1</td>\n",
       "      <td>0</td>\n",
       "      <td>1</td>\n",
       "      <td>BUF</td>\n",
       "    </tr>\n",
       "    <tr>\n",
       "      <th>1</th>\n",
       "      <td>LA</td>\n",
       "      <td>2</td>\n",
       "      <td>1</td>\n",
       "      <td>3</td>\n",
       "      <td>1</td>\n",
       "      <td>0</td>\n",
       "      <td>1</td>\n",
       "      <td>LA</td>\n",
       "      <td>1</td>\n",
       "      <td>0</td>\n",
       "      <td>1</td>\n",
       "      <td>LA</td>\n",
       "      <td>1</td>\n",
       "      <td>0</td>\n",
       "      <td>1</td>\n",
       "      <td>LA</td>\n",
       "    </tr>\n",
       "    <tr>\n",
       "      <th>2</th>\n",
       "      <td>CLE</td>\n",
       "      <td>2</td>\n",
       "      <td>1</td>\n",
       "      <td>3</td>\n",
       "      <td>2</td>\n",
       "      <td>0</td>\n",
       "      <td>2</td>\n",
       "      <td>CLE</td>\n",
       "      <td>2</td>\n",
       "      <td>0</td>\n",
       "      <td>2</td>\n",
       "      <td>CLE</td>\n",
       "      <td>2</td>\n",
       "      <td>0</td>\n",
       "      <td>2</td>\n",
       "      <td>CLE</td>\n",
       "    </tr>\n",
       "    <tr>\n",
       "      <th>3</th>\n",
       "      <td>DAL</td>\n",
       "      <td>2</td>\n",
       "      <td>0</td>\n",
       "      <td>2</td>\n",
       "      <td>1</td>\n",
       "      <td>1</td>\n",
       "      <td>2</td>\n",
       "      <td>DAL</td>\n",
       "      <td>1</td>\n",
       "      <td>1</td>\n",
       "      <td>2</td>\n",
       "      <td>DAL</td>\n",
       "      <td>1</td>\n",
       "      <td>1</td>\n",
       "      <td>2</td>\n",
       "      <td>DAL</td>\n",
       "    </tr>\n",
       "    <tr>\n",
       "      <th>4</th>\n",
       "      <td>NE</td>\n",
       "      <td>1</td>\n",
       "      <td>1</td>\n",
       "      <td>2</td>\n",
       "      <td>2</td>\n",
       "      <td>0</td>\n",
       "      <td>2</td>\n",
       "      <td>NE</td>\n",
       "      <td>2</td>\n",
       "      <td>0</td>\n",
       "      <td>2</td>\n",
       "      <td>NE</td>\n",
       "      <td>2</td>\n",
       "      <td>0</td>\n",
       "      <td>2</td>\n",
       "      <td>NE</td>\n",
       "    </tr>\n",
       "    <tr>\n",
       "      <th>5</th>\n",
       "      <td>BAL</td>\n",
       "      <td>2</td>\n",
       "      <td>0</td>\n",
       "      <td>2</td>\n",
       "      <td>2</td>\n",
       "      <td>1</td>\n",
       "      <td>3</td>\n",
       "      <td>BAL</td>\n",
       "      <td>2</td>\n",
       "      <td>1</td>\n",
       "      <td>3</td>\n",
       "      <td>BAL</td>\n",
       "      <td>2</td>\n",
       "      <td>1</td>\n",
       "      <td>3</td>\n",
       "      <td>BAL</td>\n",
       "    </tr>\n",
       "    <tr>\n",
       "      <th>6</th>\n",
       "      <td>PIT</td>\n",
       "      <td>1</td>\n",
       "      <td>0</td>\n",
       "      <td>1</td>\n",
       "      <td>1</td>\n",
       "      <td>0</td>\n",
       "      <td>1</td>\n",
       "      <td>PIT</td>\n",
       "      <td>1</td>\n",
       "      <td>0</td>\n",
       "      <td>1</td>\n",
       "      <td>PIT</td>\n",
       "      <td>1</td>\n",
       "      <td>0</td>\n",
       "      <td>1</td>\n",
       "      <td>PIT</td>\n",
       "    </tr>\n",
       "    <tr>\n",
       "      <th>7</th>\n",
       "      <td>MIN</td>\n",
       "      <td>1</td>\n",
       "      <td>0</td>\n",
       "      <td>1</td>\n",
       "      <td>1</td>\n",
       "      <td>0</td>\n",
       "      <td>1</td>\n",
       "      <td>MIN</td>\n",
       "      <td>1</td>\n",
       "      <td>0</td>\n",
       "      <td>1</td>\n",
       "      <td>MIN</td>\n",
       "      <td>1</td>\n",
       "      <td>0</td>\n",
       "      <td>1</td>\n",
       "      <td>MIN</td>\n",
       "    </tr>\n",
       "    <tr>\n",
       "      <th>8</th>\n",
       "      <td>MIA</td>\n",
       "      <td>1</td>\n",
       "      <td>0</td>\n",
       "      <td>1</td>\n",
       "      <td>3</td>\n",
       "      <td>1</td>\n",
       "      <td>4</td>\n",
       "      <td>MIA</td>\n",
       "      <td>3</td>\n",
       "      <td>1</td>\n",
       "      <td>4</td>\n",
       "      <td>MIA</td>\n",
       "      <td>3</td>\n",
       "      <td>1</td>\n",
       "      <td>4</td>\n",
       "      <td>MIA</td>\n",
       "    </tr>\n",
       "    <tr>\n",
       "      <th>9</th>\n",
       "      <td>IND</td>\n",
       "      <td>1</td>\n",
       "      <td>0</td>\n",
       "      <td>1</td>\n",
       "      <td>2</td>\n",
       "      <td>1</td>\n",
       "      <td>3</td>\n",
       "      <td>IND</td>\n",
       "      <td>2</td>\n",
       "      <td>1</td>\n",
       "      <td>3</td>\n",
       "      <td>IND</td>\n",
       "      <td>2</td>\n",
       "      <td>1</td>\n",
       "      <td>3</td>\n",
       "      <td>IND</td>\n",
       "    </tr>\n",
       "    <tr>\n",
       "      <th>10</th>\n",
       "      <td>HOU</td>\n",
       "      <td>1</td>\n",
       "      <td>0</td>\n",
       "      <td>1</td>\n",
       "      <td>1</td>\n",
       "      <td>0</td>\n",
       "      <td>1</td>\n",
       "      <td>HOU</td>\n",
       "      <td>1</td>\n",
       "      <td>0</td>\n",
       "      <td>1</td>\n",
       "      <td>HOU</td>\n",
       "      <td>1</td>\n",
       "      <td>0</td>\n",
       "      <td>1</td>\n",
       "      <td>HOU</td>\n",
       "    </tr>\n",
       "    <tr>\n",
       "      <th>11</th>\n",
       "      <td>CAR</td>\n",
       "      <td>1</td>\n",
       "      <td>0</td>\n",
       "      <td>1</td>\n",
       "      <td>1</td>\n",
       "      <td>0</td>\n",
       "      <td>1</td>\n",
       "      <td>CAR</td>\n",
       "      <td>1</td>\n",
       "      <td>0</td>\n",
       "      <td>1</td>\n",
       "      <td>CAR</td>\n",
       "      <td>1</td>\n",
       "      <td>0</td>\n",
       "      <td>1</td>\n",
       "      <td>CAR</td>\n",
       "    </tr>\n",
       "  </tbody>\n",
       "</table>\n",
       "</div>"
      ],
      "text/plain": [
       "   pick  spread_pick  best_bet  weighted_consensus  spread_pick_opponent  \\\n",
       "0   BUF            3         1                   4                     1   \n",
       "1    LA            2         1                   3                     1   \n",
       "2   CLE            2         1                   3                     2   \n",
       "3   DAL            2         0                   2                     1   \n",
       "4    NE            1         1                   2                     2   \n",
       "5   BAL            2         0                   2                     2   \n",
       "6   PIT            1         0                   1                     1   \n",
       "7   MIN            1         0                   1                     1   \n",
       "8   MIA            1         0                   1                     3   \n",
       "9   IND            1         0                   1                     2   \n",
       "10  HOU            1         0                   1                     1   \n",
       "11  CAR            1         0                   1                     1   \n",
       "\n",
       "    best_bet_opponent  weighted_consensus_opponent opponent_opponent  \\\n",
       "0                   0                            1               BUF   \n",
       "1                   0                            1                LA   \n",
       "2                   0                            2               CLE   \n",
       "3                   1                            2               DAL   \n",
       "4                   0                            2                NE   \n",
       "5                   1                            3               BAL   \n",
       "6                   0                            1               PIT   \n",
       "7                   0                            1               MIN   \n",
       "8                   1                            4               MIA   \n",
       "9                   1                            3               IND   \n",
       "10                  0                            1               HOU   \n",
       "11                  0                            1               CAR   \n",
       "\n",
       "    spread_pick_opponent  best_bet_opponent  weighted_consensus_opponent  \\\n",
       "0                      1                  0                            1   \n",
       "1                      1                  0                            1   \n",
       "2                      2                  0                            2   \n",
       "3                      1                  1                            2   \n",
       "4                      2                  0                            2   \n",
       "5                      2                  1                            3   \n",
       "6                      1                  0                            1   \n",
       "7                      1                  0                            1   \n",
       "8                      3                  1                            4   \n",
       "9                      2                  1                            3   \n",
       "10                     1                  0                            1   \n",
       "11                     1                  0                            1   \n",
       "\n",
       "   opponent_opponent  spread_pick_opponent  best_bet_opponent  \\\n",
       "0                BUF                     1                  0   \n",
       "1                 LA                     1                  0   \n",
       "2                CLE                     2                  0   \n",
       "3                DAL                     1                  1   \n",
       "4                 NE                     2                  0   \n",
       "5                BAL                     2                  1   \n",
       "6                PIT                     1                  0   \n",
       "7                MIN                     1                  0   \n",
       "8                MIA                     3                  1   \n",
       "9                IND                     2                  1   \n",
       "10               HOU                     1                  0   \n",
       "11               CAR                     1                  0   \n",
       "\n",
       "    weighted_consensus_opponent opponent_opponent  \n",
       "0                             1               BUF  \n",
       "1                             1                LA  \n",
       "2                             2               CLE  \n",
       "3                             2               DAL  \n",
       "4                             2                NE  \n",
       "5                             3               BAL  \n",
       "6                             1               PIT  \n",
       "7                             1               MIN  \n",
       "8                             4               MIA  \n",
       "9                             3               IND  \n",
       "10                            1               HOU  \n",
       "11                            1               CAR  "
      ]
     },
     "execution_count": 38,
     "metadata": {},
     "output_type": "execute_result"
    }
   ],
   "source": [
    "opponent_dict = dict(**dict(zip(week_schedule['away_team'], week_schedule['home_team'])), **dict(zip(week_schedule['home_team'], week_schedule['away_team'])))\n",
    "consensus['opponent'] = consensus['pick'].map(opponent_dict)\n",
    "consensus = pd.merge(consensus, consensus[['spread_pick', 'best_bet', 'weighted_consensus', 'opponent']], left_on='pick', right_on='opponent', suffixes=(\"\", '_opponent'))\n",
    "consensus = consensus.drop(columns=['opponent', 'pick_opponent'])\n",
    "consensus"
   ]
  },
  {
   "cell_type": "code",
   "execution_count": 37,
   "metadata": {},
   "outputs": [
    {
     "data": {
      "text/html": [
       "<div>\n",
       "<style scoped>\n",
       "    .dataframe tbody tr th:only-of-type {\n",
       "        vertical-align: middle;\n",
       "    }\n",
       "\n",
       "    .dataframe tbody tr th {\n",
       "        vertical-align: top;\n",
       "    }\n",
       "\n",
       "    .dataframe thead th {\n",
       "        text-align: right;\n",
       "    }\n",
       "</style>\n",
       "<table border=\"1\" class=\"dataframe\">\n",
       "  <thead>\n",
       "    <tr style=\"text-align: right;\">\n",
       "      <th></th>\n",
       "      <th>pick</th>\n",
       "      <th>pick_x</th>\n",
       "      <th>picker</th>\n",
       "      <th>pick_y</th>\n",
       "      <th>season</th>\n",
       "      <th>week</th>\n",
       "      <th>spread_pick</th>\n",
       "      <th>best_bet</th>\n",
       "      <th>underdog_pick</th>\n",
       "      <th>survivor_pick</th>\n",
       "      <th>...</th>\n",
       "      <th>home_team</th>\n",
       "      <th>away_score</th>\n",
       "      <th>home_score</th>\n",
       "      <th>result</th>\n",
       "      <th>spread_line</th>\n",
       "      <th>away_pick</th>\n",
       "      <th>away_cover</th>\n",
       "      <th>home_cover</th>\n",
       "      <th>pick_result</th>\n",
       "      <th>pick_multiplier</th>\n",
       "    </tr>\n",
       "  </thead>\n",
       "  <tbody>\n",
       "    <tr>\n",
       "      <th>1868</th>\n",
       "      <td>BUF</td>\n",
       "      <td>3</td>\n",
       "      <td>hunter</td>\n",
       "      <td>BUF</td>\n",
       "      <td>2023</td>\n",
       "      <td>4</td>\n",
       "      <td>True</td>\n",
       "      <td>False</td>\n",
       "      <td>False</td>\n",
       "      <td>False</td>\n",
       "      <td>...</td>\n",
       "      <td>BUF</td>\n",
       "      <td>20.0</td>\n",
       "      <td>48.0</td>\n",
       "      <td>28.0</td>\n",
       "      <td>2.5</td>\n",
       "      <td>False</td>\n",
       "      <td>0.0</td>\n",
       "      <td>1.0</td>\n",
       "      <td>1.0</td>\n",
       "      <td>1</td>\n",
       "    </tr>\n",
       "    <tr>\n",
       "      <th>1869</th>\n",
       "      <td>BUF</td>\n",
       "      <td>3</td>\n",
       "      <td>harry</td>\n",
       "      <td>BUF</td>\n",
       "      <td>2023</td>\n",
       "      <td>4</td>\n",
       "      <td>True</td>\n",
       "      <td>True</td>\n",
       "      <td>False</td>\n",
       "      <td>False</td>\n",
       "      <td>...</td>\n",
       "      <td>BUF</td>\n",
       "      <td>20.0</td>\n",
       "      <td>48.0</td>\n",
       "      <td>28.0</td>\n",
       "      <td>2.5</td>\n",
       "      <td>False</td>\n",
       "      <td>0.0</td>\n",
       "      <td>1.0</td>\n",
       "      <td>2.0</td>\n",
       "      <td>2</td>\n",
       "    </tr>\n",
       "    <tr>\n",
       "      <th>1870</th>\n",
       "      <td>BUF</td>\n",
       "      <td>3</td>\n",
       "      <td>chuck</td>\n",
       "      <td>BUF</td>\n",
       "      <td>2023</td>\n",
       "      <td>4</td>\n",
       "      <td>True</td>\n",
       "      <td>False</td>\n",
       "      <td>False</td>\n",
       "      <td>False</td>\n",
       "      <td>...</td>\n",
       "      <td>BUF</td>\n",
       "      <td>20.0</td>\n",
       "      <td>48.0</td>\n",
       "      <td>28.0</td>\n",
       "      <td>2.5</td>\n",
       "      <td>False</td>\n",
       "      <td>0.0</td>\n",
       "      <td>1.0</td>\n",
       "      <td>1.0</td>\n",
       "      <td>1</td>\n",
       "    </tr>\n",
       "    <tr>\n",
       "      <th>1893</th>\n",
       "      <td>SEA</td>\n",
       "      <td>3</td>\n",
       "      <td>hunter</td>\n",
       "      <td>SEA</td>\n",
       "      <td>2023</td>\n",
       "      <td>4</td>\n",
       "      <td>True</td>\n",
       "      <td>False</td>\n",
       "      <td>False</td>\n",
       "      <td>False</td>\n",
       "      <td>...</td>\n",
       "      <td>NYG</td>\n",
       "      <td>24.0</td>\n",
       "      <td>3.0</td>\n",
       "      <td>-21.0</td>\n",
       "      <td>-2.5</td>\n",
       "      <td>True</td>\n",
       "      <td>1.0</td>\n",
       "      <td>0.0</td>\n",
       "      <td>1.0</td>\n",
       "      <td>1</td>\n",
       "    </tr>\n",
       "    <tr>\n",
       "      <th>1894</th>\n",
       "      <td>SEA</td>\n",
       "      <td>3</td>\n",
       "      <td>harry</td>\n",
       "      <td>SEA</td>\n",
       "      <td>2023</td>\n",
       "      <td>4</td>\n",
       "      <td>True</td>\n",
       "      <td>False</td>\n",
       "      <td>False</td>\n",
       "      <td>False</td>\n",
       "      <td>...</td>\n",
       "      <td>NYG</td>\n",
       "      <td>24.0</td>\n",
       "      <td>3.0</td>\n",
       "      <td>-21.0</td>\n",
       "      <td>-2.5</td>\n",
       "      <td>True</td>\n",
       "      <td>1.0</td>\n",
       "      <td>0.0</td>\n",
       "      <td>1.0</td>\n",
       "      <td>1</td>\n",
       "    </tr>\n",
       "    <tr>\n",
       "      <th>1895</th>\n",
       "      <td>SEA</td>\n",
       "      <td>3</td>\n",
       "      <td>ben</td>\n",
       "      <td>SEA</td>\n",
       "      <td>2023</td>\n",
       "      <td>4</td>\n",
       "      <td>True</td>\n",
       "      <td>False</td>\n",
       "      <td>False</td>\n",
       "      <td>False</td>\n",
       "      <td>...</td>\n",
       "      <td>NYG</td>\n",
       "      <td>24.0</td>\n",
       "      <td>3.0</td>\n",
       "      <td>-21.0</td>\n",
       "      <td>-2.5</td>\n",
       "      <td>True</td>\n",
       "      <td>1.0</td>\n",
       "      <td>0.0</td>\n",
       "      <td>1.0</td>\n",
       "      <td>1</td>\n",
       "    </tr>\n",
       "    <tr>\n",
       "      <th>1896</th>\n",
       "      <td>KC</td>\n",
       "      <td>3</td>\n",
       "      <td>hunter</td>\n",
       "      <td>KC</td>\n",
       "      <td>2023</td>\n",
       "      <td>4</td>\n",
       "      <td>True</td>\n",
       "      <td>False</td>\n",
       "      <td>False</td>\n",
       "      <td>False</td>\n",
       "      <td>...</td>\n",
       "      <td>NYJ</td>\n",
       "      <td>23.0</td>\n",
       "      <td>20.0</td>\n",
       "      <td>-3.0</td>\n",
       "      <td>-9.5</td>\n",
       "      <td>True</td>\n",
       "      <td>0.0</td>\n",
       "      <td>1.0</td>\n",
       "      <td>0.0</td>\n",
       "      <td>1</td>\n",
       "    </tr>\n",
       "    <tr>\n",
       "      <th>1897</th>\n",
       "      <td>KC</td>\n",
       "      <td>3</td>\n",
       "      <td>griffin</td>\n",
       "      <td>KC</td>\n",
       "      <td>2023</td>\n",
       "      <td>4</td>\n",
       "      <td>True</td>\n",
       "      <td>True</td>\n",
       "      <td>False</td>\n",
       "      <td>False</td>\n",
       "      <td>...</td>\n",
       "      <td>NYJ</td>\n",
       "      <td>23.0</td>\n",
       "      <td>20.0</td>\n",
       "      <td>-3.0</td>\n",
       "      <td>-9.5</td>\n",
       "      <td>True</td>\n",
       "      <td>0.0</td>\n",
       "      <td>1.0</td>\n",
       "      <td>0.0</td>\n",
       "      <td>2</td>\n",
       "    </tr>\n",
       "    <tr>\n",
       "      <th>1898</th>\n",
       "      <td>KC</td>\n",
       "      <td>3</td>\n",
       "      <td>chuck</td>\n",
       "      <td>KC</td>\n",
       "      <td>2023</td>\n",
       "      <td>4</td>\n",
       "      <td>True</td>\n",
       "      <td>False</td>\n",
       "      <td>False</td>\n",
       "      <td>False</td>\n",
       "      <td>...</td>\n",
       "      <td>NYJ</td>\n",
       "      <td>23.0</td>\n",
       "      <td>20.0</td>\n",
       "      <td>-3.0</td>\n",
       "      <td>-9.5</td>\n",
       "      <td>True</td>\n",
       "      <td>0.0</td>\n",
       "      <td>1.0</td>\n",
       "      <td>0.0</td>\n",
       "      <td>1</td>\n",
       "    </tr>\n",
       "    <tr>\n",
       "      <th>1905</th>\n",
       "      <td>TB</td>\n",
       "      <td>2</td>\n",
       "      <td>harry</td>\n",
       "      <td>TB</td>\n",
       "      <td>2023</td>\n",
       "      <td>4</td>\n",
       "      <td>True</td>\n",
       "      <td>False</td>\n",
       "      <td>False</td>\n",
       "      <td>False</td>\n",
       "      <td>...</td>\n",
       "      <td>NO</td>\n",
       "      <td>26.0</td>\n",
       "      <td>9.0</td>\n",
       "      <td>-17.0</td>\n",
       "      <td>4.0</td>\n",
       "      <td>True</td>\n",
       "      <td>1.0</td>\n",
       "      <td>0.0</td>\n",
       "      <td>1.0</td>\n",
       "      <td>1</td>\n",
       "    </tr>\n",
       "    <tr>\n",
       "      <th>1906</th>\n",
       "      <td>TB</td>\n",
       "      <td>2</td>\n",
       "      <td>chuck</td>\n",
       "      <td>TB</td>\n",
       "      <td>2023</td>\n",
       "      <td>4</td>\n",
       "      <td>True</td>\n",
       "      <td>False</td>\n",
       "      <td>False</td>\n",
       "      <td>False</td>\n",
       "      <td>...</td>\n",
       "      <td>NO</td>\n",
       "      <td>26.0</td>\n",
       "      <td>9.0</td>\n",
       "      <td>-17.0</td>\n",
       "      <td>4.0</td>\n",
       "      <td>True</td>\n",
       "      <td>1.0</td>\n",
       "      <td>0.0</td>\n",
       "      <td>1.0</td>\n",
       "      <td>1</td>\n",
       "    </tr>\n",
       "    <tr>\n",
       "      <th>1888</th>\n",
       "      <td>CIN</td>\n",
       "      <td>2</td>\n",
       "      <td>hunter</td>\n",
       "      <td>CIN</td>\n",
       "      <td>2023</td>\n",
       "      <td>4</td>\n",
       "      <td>True</td>\n",
       "      <td>False</td>\n",
       "      <td>False</td>\n",
       "      <td>False</td>\n",
       "      <td>...</td>\n",
       "      <td>TEN</td>\n",
       "      <td>3.0</td>\n",
       "      <td>27.0</td>\n",
       "      <td>24.0</td>\n",
       "      <td>-2.5</td>\n",
       "      <td>True</td>\n",
       "      <td>0.0</td>\n",
       "      <td>1.0</td>\n",
       "      <td>0.0</td>\n",
       "      <td>1</td>\n",
       "    </tr>\n",
       "    <tr>\n",
       "      <th>1889</th>\n",
       "      <td>CIN</td>\n",
       "      <td>2</td>\n",
       "      <td>ben</td>\n",
       "      <td>CIN</td>\n",
       "      <td>2023</td>\n",
       "      <td>4</td>\n",
       "      <td>True</td>\n",
       "      <td>False</td>\n",
       "      <td>False</td>\n",
       "      <td>False</td>\n",
       "      <td>...</td>\n",
       "      <td>TEN</td>\n",
       "      <td>3.0</td>\n",
       "      <td>27.0</td>\n",
       "      <td>24.0</td>\n",
       "      <td>-2.5</td>\n",
       "      <td>True</td>\n",
       "      <td>0.0</td>\n",
       "      <td>1.0</td>\n",
       "      <td>0.0</td>\n",
       "      <td>1</td>\n",
       "    </tr>\n",
       "    <tr>\n",
       "      <th>1872</th>\n",
       "      <td>CLE</td>\n",
       "      <td>2</td>\n",
       "      <td>hunter</td>\n",
       "      <td>CLE</td>\n",
       "      <td>2023</td>\n",
       "      <td>4</td>\n",
       "      <td>True</td>\n",
       "      <td>True</td>\n",
       "      <td>False</td>\n",
       "      <td>False</td>\n",
       "      <td>...</td>\n",
       "      <td>CLE</td>\n",
       "      <td>28.0</td>\n",
       "      <td>3.0</td>\n",
       "      <td>-25.0</td>\n",
       "      <td>-2.0</td>\n",
       "      <td>False</td>\n",
       "      <td>1.0</td>\n",
       "      <td>0.0</td>\n",
       "      <td>0.0</td>\n",
       "      <td>2</td>\n",
       "    </tr>\n",
       "    <tr>\n",
       "      <th>1873</th>\n",
       "      <td>CLE</td>\n",
       "      <td>2</td>\n",
       "      <td>griffin</td>\n",
       "      <td>CLE</td>\n",
       "      <td>2023</td>\n",
       "      <td>4</td>\n",
       "      <td>True</td>\n",
       "      <td>False</td>\n",
       "      <td>False</td>\n",
       "      <td>False</td>\n",
       "      <td>...</td>\n",
       "      <td>CLE</td>\n",
       "      <td>28.0</td>\n",
       "      <td>3.0</td>\n",
       "      <td>-25.0</td>\n",
       "      <td>-2.0</td>\n",
       "      <td>False</td>\n",
       "      <td>1.0</td>\n",
       "      <td>0.0</td>\n",
       "      <td>0.0</td>\n",
       "      <td>1</td>\n",
       "    </tr>\n",
       "  </tbody>\n",
       "</table>\n",
       "<p>15 rows × 23 columns</p>\n",
       "</div>"
      ],
      "text/plain": [
       "     pick  pick_x   picker pick_y  season  week  spread_pick  best_bet  \\\n",
       "1868  BUF       3   hunter    BUF    2023     4         True     False   \n",
       "1869  BUF       3    harry    BUF    2023     4         True      True   \n",
       "1870  BUF       3    chuck    BUF    2023     4         True     False   \n",
       "1893  SEA       3   hunter    SEA    2023     4         True     False   \n",
       "1894  SEA       3    harry    SEA    2023     4         True     False   \n",
       "1895  SEA       3      ben    SEA    2023     4         True     False   \n",
       "1896   KC       3   hunter     KC    2023     4         True     False   \n",
       "1897   KC       3  griffin     KC    2023     4         True      True   \n",
       "1898   KC       3    chuck     KC    2023     4         True     False   \n",
       "1905   TB       2    harry     TB    2023     4         True     False   \n",
       "1906   TB       2    chuck     TB    2023     4         True     False   \n",
       "1888  CIN       2   hunter    CIN    2023     4         True     False   \n",
       "1889  CIN       2      ben    CIN    2023     4         True     False   \n",
       "1872  CLE       2   hunter    CLE    2023     4         True      True   \n",
       "1873  CLE       2  griffin    CLE    2023     4         True     False   \n",
       "\n",
       "      underdog_pick  survivor_pick  ...  home_team away_score home_score  \\\n",
       "1868          False          False  ...        BUF       20.0       48.0   \n",
       "1869          False          False  ...        BUF       20.0       48.0   \n",
       "1870          False          False  ...        BUF       20.0       48.0   \n",
       "1893          False          False  ...        NYG       24.0        3.0   \n",
       "1894          False          False  ...        NYG       24.0        3.0   \n",
       "1895          False          False  ...        NYG       24.0        3.0   \n",
       "1896          False          False  ...        NYJ       23.0       20.0   \n",
       "1897          False          False  ...        NYJ       23.0       20.0   \n",
       "1898          False          False  ...        NYJ       23.0       20.0   \n",
       "1905          False          False  ...         NO       26.0        9.0   \n",
       "1906          False          False  ...         NO       26.0        9.0   \n",
       "1888          False          False  ...        TEN        3.0       27.0   \n",
       "1889          False          False  ...        TEN        3.0       27.0   \n",
       "1872          False          False  ...        CLE       28.0        3.0   \n",
       "1873          False          False  ...        CLE       28.0        3.0   \n",
       "\n",
       "     result  spread_line  away_pick  away_cover  home_cover  pick_result  \\\n",
       "1868   28.0          2.5      False         0.0         1.0          1.0   \n",
       "1869   28.0          2.5      False         0.0         1.0          2.0   \n",
       "1870   28.0          2.5      False         0.0         1.0          1.0   \n",
       "1893  -21.0         -2.5       True         1.0         0.0          1.0   \n",
       "1894  -21.0         -2.5       True         1.0         0.0          1.0   \n",
       "1895  -21.0         -2.5       True         1.0         0.0          1.0   \n",
       "1896   -3.0         -9.5       True         0.0         1.0          0.0   \n",
       "1897   -3.0         -9.5       True         0.0         1.0          0.0   \n",
       "1898   -3.0         -9.5       True         0.0         1.0          0.0   \n",
       "1905  -17.0          4.0       True         1.0         0.0          1.0   \n",
       "1906  -17.0          4.0       True         1.0         0.0          1.0   \n",
       "1888   24.0         -2.5       True         0.0         1.0          0.0   \n",
       "1889   24.0         -2.5       True         0.0         1.0          0.0   \n",
       "1872  -25.0         -2.0      False         1.0         0.0          0.0   \n",
       "1873  -25.0         -2.0      False         1.0         0.0          0.0   \n",
       "\n",
       "      pick_multiplier  \n",
       "1868                1  \n",
       "1869                2  \n",
       "1870                1  \n",
       "1893                1  \n",
       "1894                1  \n",
       "1895                1  \n",
       "1896                1  \n",
       "1897                2  \n",
       "1898                1  \n",
       "1905                1  \n",
       "1906                1  \n",
       "1888                1  \n",
       "1889                1  \n",
       "1872                2  \n",
       "1873                1  \n",
       "\n",
       "[15 rows x 23 columns]"
      ]
     },
     "execution_count": 37,
     "metadata": {},
     "output_type": "execute_result"
    }
   ],
   "source": [
    "pd.merge(consensus, individual, left_index=True, right_on='pick')"
   ]
  },
  {
   "cell_type": "markdown",
   "metadata": {},
   "source": [
    "# Team Pick Frequency & Homerism"
   ]
  },
  {
   "cell_type": "code",
   "execution_count": 4,
   "metadata": {},
   "outputs": [
    {
     "data": {
      "text/html": [
       "<div>\n",
       "<style scoped>\n",
       "    .dataframe tbody tr th:only-of-type {\n",
       "        vertical-align: middle;\n",
       "    }\n",
       "\n",
       "    .dataframe tbody tr th {\n",
       "        vertical-align: top;\n",
       "    }\n",
       "\n",
       "    .dataframe thead th {\n",
       "        text-align: right;\n",
       "    }\n",
       "</style>\n",
       "<table border=\"1\" class=\"dataframe\">\n",
       "  <thead>\n",
       "    <tr style=\"text-align: right;\">\n",
       "      <th></th>\n",
       "      <th>picker</th>\n",
       "      <th>pick</th>\n",
       "      <th>season</th>\n",
       "      <th>week</th>\n",
       "      <th>spread_pick</th>\n",
       "      <th>best_bet</th>\n",
       "      <th>underdog_pick</th>\n",
       "      <th>survivor_pick</th>\n",
       "      <th>mnf_pick</th>\n",
       "      <th>game_id</th>\n",
       "      <th>away_team</th>\n",
       "      <th>home_team</th>\n",
       "      <th>result</th>\n",
       "      <th>spread_line</th>\n",
       "      <th>away_pick</th>\n",
       "      <th>away_cover</th>\n",
       "      <th>home_cover</th>\n",
       "      <th>pick_result</th>\n",
       "      <th>win</th>\n",
       "    </tr>\n",
       "  </thead>\n",
       "  <tbody>\n",
       "    <tr>\n",
       "      <th>0</th>\n",
       "      <td>final</td>\n",
       "      <td>NE</td>\n",
       "      <td>2021</td>\n",
       "      <td>1</td>\n",
       "      <td>True</td>\n",
       "      <td>True</td>\n",
       "      <td>False</td>\n",
       "      <td>False</td>\n",
       "      <td>False</td>\n",
       "      <td>2021_01_MIA_NE</td>\n",
       "      <td>MIA</td>\n",
       "      <td>NE</td>\n",
       "      <td>-1.0</td>\n",
       "      <td>3.5</td>\n",
       "      <td>False</td>\n",
       "      <td>1.0</td>\n",
       "      <td>0.0</td>\n",
       "      <td>0.0</td>\n",
       "      <td>False</td>\n",
       "    </tr>\n",
       "    <tr>\n",
       "      <th>1</th>\n",
       "      <td>ben</td>\n",
       "      <td>NE</td>\n",
       "      <td>2021</td>\n",
       "      <td>1</td>\n",
       "      <td>True</td>\n",
       "      <td>True</td>\n",
       "      <td>False</td>\n",
       "      <td>False</td>\n",
       "      <td>False</td>\n",
       "      <td>2021_01_MIA_NE</td>\n",
       "      <td>MIA</td>\n",
       "      <td>NE</td>\n",
       "      <td>-1.0</td>\n",
       "      <td>3.5</td>\n",
       "      <td>False</td>\n",
       "      <td>1.0</td>\n",
       "      <td>0.0</td>\n",
       "      <td>0.0</td>\n",
       "      <td>False</td>\n",
       "    </tr>\n",
       "    <tr>\n",
       "      <th>2</th>\n",
       "      <td>hunter</td>\n",
       "      <td>NE</td>\n",
       "      <td>2021</td>\n",
       "      <td>1</td>\n",
       "      <td>True</td>\n",
       "      <td>False</td>\n",
       "      <td>False</td>\n",
       "      <td>False</td>\n",
       "      <td>False</td>\n",
       "      <td>2021_01_MIA_NE</td>\n",
       "      <td>MIA</td>\n",
       "      <td>NE</td>\n",
       "      <td>-1.0</td>\n",
       "      <td>3.5</td>\n",
       "      <td>False</td>\n",
       "      <td>1.0</td>\n",
       "      <td>0.0</td>\n",
       "      <td>0.0</td>\n",
       "      <td>False</td>\n",
       "    </tr>\n",
       "    <tr>\n",
       "      <th>3</th>\n",
       "      <td>final</td>\n",
       "      <td>WAS</td>\n",
       "      <td>2021</td>\n",
       "      <td>1</td>\n",
       "      <td>True</td>\n",
       "      <td>False</td>\n",
       "      <td>False</td>\n",
       "      <td>False</td>\n",
       "      <td>False</td>\n",
       "      <td>2021_01_LAC_WAS</td>\n",
       "      <td>LAC</td>\n",
       "      <td>WAS</td>\n",
       "      <td>-4.0</td>\n",
       "      <td>2.5</td>\n",
       "      <td>False</td>\n",
       "      <td>1.0</td>\n",
       "      <td>0.0</td>\n",
       "      <td>0.0</td>\n",
       "      <td>False</td>\n",
       "    </tr>\n",
       "    <tr>\n",
       "      <th>4</th>\n",
       "      <td>ben</td>\n",
       "      <td>WAS</td>\n",
       "      <td>2021</td>\n",
       "      <td>1</td>\n",
       "      <td>True</td>\n",
       "      <td>False</td>\n",
       "      <td>False</td>\n",
       "      <td>False</td>\n",
       "      <td>False</td>\n",
       "      <td>2021_01_LAC_WAS</td>\n",
       "      <td>LAC</td>\n",
       "      <td>WAS</td>\n",
       "      <td>-4.0</td>\n",
       "      <td>2.5</td>\n",
       "      <td>False</td>\n",
       "      <td>1.0</td>\n",
       "      <td>0.0</td>\n",
       "      <td>0.0</td>\n",
       "      <td>False</td>\n",
       "    </tr>\n",
       "    <tr>\n",
       "      <th>...</th>\n",
       "      <td>...</td>\n",
       "      <td>...</td>\n",
       "      <td>...</td>\n",
       "      <td>...</td>\n",
       "      <td>...</td>\n",
       "      <td>...</td>\n",
       "      <td>...</td>\n",
       "      <td>...</td>\n",
       "      <td>...</td>\n",
       "      <td>...</td>\n",
       "      <td>...</td>\n",
       "      <td>...</td>\n",
       "      <td>...</td>\n",
       "      <td>...</td>\n",
       "      <td>...</td>\n",
       "      <td>...</td>\n",
       "      <td>...</td>\n",
       "      <td>...</td>\n",
       "      <td>...</td>\n",
       "    </tr>\n",
       "    <tr>\n",
       "      <th>1962</th>\n",
       "      <td>harry</td>\n",
       "      <td>CAR</td>\n",
       "      <td>2023</td>\n",
       "      <td>5</td>\n",
       "      <td>True</td>\n",
       "      <td>True</td>\n",
       "      <td>False</td>\n",
       "      <td>False</td>\n",
       "      <td>False</td>\n",
       "      <td>2023_05_CAR_DET</td>\n",
       "      <td>CAR</td>\n",
       "      <td>DET</td>\n",
       "      <td>18.0</td>\n",
       "      <td>9.5</td>\n",
       "      <td>True</td>\n",
       "      <td>0.0</td>\n",
       "      <td>1.0</td>\n",
       "      <td>0.0</td>\n",
       "      <td>False</td>\n",
       "    </tr>\n",
       "    <tr>\n",
       "      <th>1965</th>\n",
       "      <td>chuck</td>\n",
       "      <td>CAR</td>\n",
       "      <td>2023</td>\n",
       "      <td>5</td>\n",
       "      <td>True</td>\n",
       "      <td>False</td>\n",
       "      <td>False</td>\n",
       "      <td>False</td>\n",
       "      <td>False</td>\n",
       "      <td>2023_05_CAR_DET</td>\n",
       "      <td>CAR</td>\n",
       "      <td>DET</td>\n",
       "      <td>18.0</td>\n",
       "      <td>9.5</td>\n",
       "      <td>True</td>\n",
       "      <td>0.0</td>\n",
       "      <td>1.0</td>\n",
       "      <td>0.0</td>\n",
       "      <td>False</td>\n",
       "    </tr>\n",
       "    <tr>\n",
       "      <th>1967</th>\n",
       "      <td>griffin</td>\n",
       "      <td>NO</td>\n",
       "      <td>2023</td>\n",
       "      <td>5</td>\n",
       "      <td>True</td>\n",
       "      <td>False</td>\n",
       "      <td>False</td>\n",
       "      <td>False</td>\n",
       "      <td>False</td>\n",
       "      <td>2023_05_NO_NE</td>\n",
       "      <td>NO</td>\n",
       "      <td>NE</td>\n",
       "      <td>-34.0</td>\n",
       "      <td>2.5</td>\n",
       "      <td>True</td>\n",
       "      <td>1.0</td>\n",
       "      <td>0.0</td>\n",
       "      <td>1.0</td>\n",
       "      <td>True</td>\n",
       "    </tr>\n",
       "    <tr>\n",
       "      <th>1968</th>\n",
       "      <td>chuck</td>\n",
       "      <td>BAL</td>\n",
       "      <td>2023</td>\n",
       "      <td>5</td>\n",
       "      <td>True</td>\n",
       "      <td>False</td>\n",
       "      <td>False</td>\n",
       "      <td>False</td>\n",
       "      <td>False</td>\n",
       "      <td>2023_05_BAL_PIT</td>\n",
       "      <td>BAL</td>\n",
       "      <td>PIT</td>\n",
       "      <td>7.0</td>\n",
       "      <td>-4.5</td>\n",
       "      <td>True</td>\n",
       "      <td>0.0</td>\n",
       "      <td>1.0</td>\n",
       "      <td>0.0</td>\n",
       "      <td>False</td>\n",
       "    </tr>\n",
       "    <tr>\n",
       "      <th>1969</th>\n",
       "      <td>chuck</td>\n",
       "      <td>JAX</td>\n",
       "      <td>2023</td>\n",
       "      <td>5</td>\n",
       "      <td>True</td>\n",
       "      <td>False</td>\n",
       "      <td>False</td>\n",
       "      <td>False</td>\n",
       "      <td>False</td>\n",
       "      <td>2023_05_JAX_BUF</td>\n",
       "      <td>JAX</td>\n",
       "      <td>BUF</td>\n",
       "      <td>-5.0</td>\n",
       "      <td>5.5</td>\n",
       "      <td>True</td>\n",
       "      <td>1.0</td>\n",
       "      <td>0.0</td>\n",
       "      <td>1.0</td>\n",
       "      <td>True</td>\n",
       "    </tr>\n",
       "  </tbody>\n",
       "</table>\n",
       "<p>1598 rows × 19 columns</p>\n",
       "</div>"
      ],
      "text/plain": [
       "       picker pick  season  week  spread_pick  best_bet  underdog_pick  \\\n",
       "0       final   NE    2021     1         True      True          False   \n",
       "1         ben   NE    2021     1         True      True          False   \n",
       "2      hunter   NE    2021     1         True     False          False   \n",
       "3       final  WAS    2021     1         True     False          False   \n",
       "4         ben  WAS    2021     1         True     False          False   \n",
       "...       ...  ...     ...   ...          ...       ...            ...   \n",
       "1962    harry  CAR    2023     5         True      True          False   \n",
       "1965    chuck  CAR    2023     5         True     False          False   \n",
       "1967  griffin   NO    2023     5         True     False          False   \n",
       "1968    chuck  BAL    2023     5         True     False          False   \n",
       "1969    chuck  JAX    2023     5         True     False          False   \n",
       "\n",
       "      survivor_pick  mnf_pick          game_id away_team home_team  result  \\\n",
       "0             False     False   2021_01_MIA_NE       MIA        NE    -1.0   \n",
       "1             False     False   2021_01_MIA_NE       MIA        NE    -1.0   \n",
       "2             False     False   2021_01_MIA_NE       MIA        NE    -1.0   \n",
       "3             False     False  2021_01_LAC_WAS       LAC       WAS    -4.0   \n",
       "4             False     False  2021_01_LAC_WAS       LAC       WAS    -4.0   \n",
       "...             ...       ...              ...       ...       ...     ...   \n",
       "1962          False     False  2023_05_CAR_DET       CAR       DET    18.0   \n",
       "1965          False     False  2023_05_CAR_DET       CAR       DET    18.0   \n",
       "1967          False     False    2023_05_NO_NE        NO        NE   -34.0   \n",
       "1968          False     False  2023_05_BAL_PIT       BAL       PIT     7.0   \n",
       "1969          False     False  2023_05_JAX_BUF       JAX       BUF    -5.0   \n",
       "\n",
       "      spread_line  away_pick  away_cover  home_cover  pick_result    win  \n",
       "0             3.5      False         1.0         0.0          0.0  False  \n",
       "1             3.5      False         1.0         0.0          0.0  False  \n",
       "2             3.5      False         1.0         0.0          0.0  False  \n",
       "3             2.5      False         1.0         0.0          0.0  False  \n",
       "4             2.5      False         1.0         0.0          0.0  False  \n",
       "...           ...        ...         ...         ...          ...    ...  \n",
       "1962          9.5       True         0.0         1.0          0.0  False  \n",
       "1965          9.5       True         0.0         1.0          0.0  False  \n",
       "1967          2.5       True         1.0         0.0          1.0   True  \n",
       "1968         -4.5       True         0.0         1.0          0.0  False  \n",
       "1969          5.5       True         1.0         0.0          1.0   True  \n",
       "\n",
       "[1598 rows x 19 columns]"
      ]
     },
     "execution_count": 4,
     "metadata": {},
     "output_type": "execute_result"
    }
   ],
   "source": [
    "spread_picks = df[df['spread_pick']].copy()\n",
    "spread_picks['win'] = spread_picks['pick_result'] >= 1\n",
    "spread_picks"
   ]
  },
  {
   "cell_type": "code",
   "execution_count": 33,
   "metadata": {},
   "outputs": [
    {
     "data": {
      "application/vnd.plotly.v1+json": {
       "config": {
        "plotlyServerURL": "https://plot.ly"
       },
       "data": [
        {
         "alignmentgroup": "True",
         "hovertemplate": "team=%{y}<br>times_picked=%{x}<extra></extra>",
         "legendgroup": "WAS",
         "marker": {
          "color": "#5A1414",
          "pattern": {
           "shape": ""
          }
         },
         "name": "WAS",
         "offsetgroup": "WAS",
         "orientation": "h",
         "showlegend": false,
         "textposition": "auto",
         "type": "bar",
         "x": [
          14
         ],
         "xaxis": "x",
         "y": [
          "WAS"
         ],
         "yaxis": "y"
        },
        {
         "alignmentgroup": "True",
         "hovertemplate": "team=%{y}<br>times_picked=%{x}<extra></extra>",
         "legendgroup": "GB",
         "marker": {
          "color": "#203731",
          "pattern": {
           "shape": ""
          }
         },
         "name": "GB",
         "offsetgroup": "GB",
         "orientation": "h",
         "showlegend": false,
         "textposition": "auto",
         "type": "bar",
         "x": [
          14
         ],
         "xaxis": "x",
         "y": [
          "GB"
         ],
         "yaxis": "y"
        },
        {
         "alignmentgroup": "True",
         "hovertemplate": "team=%{y}<br>times_picked=%{x}<extra></extra>",
         "legendgroup": "MIN",
         "marker": {
          "color": "#4F2683",
          "pattern": {
           "shape": ""
          }
         },
         "name": "MIN",
         "offsetgroup": "MIN",
         "orientation": "h",
         "showlegend": false,
         "textposition": "auto",
         "type": "bar",
         "x": [
          14
         ],
         "xaxis": "x",
         "y": [
          "MIN"
         ],
         "yaxis": "y"
        },
        {
         "alignmentgroup": "True",
         "hovertemplate": "team=%{y}<br>times_picked=%{x}<extra></extra>",
         "legendgroup": "LAC",
         "marker": {
          "color": "#007BC7",
          "pattern": {
           "shape": ""
          }
         },
         "name": "LAC",
         "offsetgroup": "LAC",
         "orientation": "h",
         "showlegend": false,
         "textposition": "auto",
         "type": "bar",
         "x": [
          13
         ],
         "xaxis": "x",
         "y": [
          "LAC"
         ],
         "yaxis": "y"
        },
        {
         "alignmentgroup": "True",
         "hovertemplate": "team=%{y}<br>times_picked=%{x}<extra></extra>",
         "legendgroup": "IND",
         "marker": {
          "color": "#002C5F",
          "pattern": {
           "shape": ""
          }
         },
         "name": "IND",
         "offsetgroup": "IND",
         "orientation": "h",
         "showlegend": false,
         "textposition": "auto",
         "type": "bar",
         "x": [
          13
         ],
         "xaxis": "x",
         "y": [
          "IND"
         ],
         "yaxis": "y"
        },
        {
         "alignmentgroup": "True",
         "hovertemplate": "team=%{y}<br>times_picked=%{x}<extra></extra>",
         "legendgroup": "LA",
         "marker": {
          "color": "#003594",
          "pattern": {
           "shape": ""
          }
         },
         "name": "LA",
         "offsetgroup": "LA",
         "orientation": "h",
         "showlegend": false,
         "textposition": "auto",
         "type": "bar",
         "x": [
          13
         ],
         "xaxis": "x",
         "y": [
          "LA"
         ],
         "yaxis": "y"
        },
        {
         "alignmentgroup": "True",
         "hovertemplate": "team=%{y}<br>times_picked=%{x}<extra></extra>",
         "legendgroup": "BUF",
         "marker": {
          "color": "#00338D",
          "pattern": {
           "shape": ""
          }
         },
         "name": "BUF",
         "offsetgroup": "BUF",
         "orientation": "h",
         "showlegend": false,
         "textposition": "auto",
         "type": "bar",
         "x": [
          13
         ],
         "xaxis": "x",
         "y": [
          "BUF"
         ],
         "yaxis": "y"
        },
        {
         "alignmentgroup": "True",
         "hovertemplate": "team=%{y}<br>times_picked=%{x}<extra></extra>",
         "legendgroup": "CLE",
         "marker": {
          "color": "#FF3C00",
          "pattern": {
           "shape": ""
          }
         },
         "name": "CLE",
         "offsetgroup": "CLE",
         "orientation": "h",
         "showlegend": false,
         "textposition": "auto",
         "type": "bar",
         "x": [
          12
         ],
         "xaxis": "x",
         "y": [
          "CLE"
         ],
         "yaxis": "y"
        },
        {
         "alignmentgroup": "True",
         "hovertemplate": "team=%{y}<br>times_picked=%{x}<extra></extra>",
         "legendgroup": "MIA",
         "marker": {
          "color": "#008E97",
          "pattern": {
           "shape": ""
          }
         },
         "name": "MIA",
         "offsetgroup": "MIA",
         "orientation": "h",
         "showlegend": false,
         "textposition": "auto",
         "type": "bar",
         "x": [
          11
         ],
         "xaxis": "x",
         "y": [
          "MIA"
         ],
         "yaxis": "y"
        },
        {
         "alignmentgroup": "True",
         "hovertemplate": "team=%{y}<br>times_picked=%{x}<extra></extra>",
         "legendgroup": "TEN",
         "marker": {
          "color": "#4B92DB",
          "pattern": {
           "shape": ""
          }
         },
         "name": "TEN",
         "offsetgroup": "TEN",
         "orientation": "h",
         "showlegend": false,
         "textposition": "auto",
         "type": "bar",
         "x": [
          11
         ],
         "xaxis": "x",
         "y": [
          "TEN"
         ],
         "yaxis": "y"
        },
        {
         "alignmentgroup": "True",
         "hovertemplate": "team=%{y}<br>times_picked=%{x}<extra></extra>",
         "legendgroup": "SF",
         "marker": {
          "color": "#B3995D",
          "pattern": {
           "shape": ""
          }
         },
         "name": "SF",
         "offsetgroup": "SF",
         "orientation": "h",
         "showlegend": false,
         "textposition": "auto",
         "type": "bar",
         "x": [
          11
         ],
         "xaxis": "x",
         "y": [
          "SF"
         ],
         "yaxis": "y"
        },
        {
         "alignmentgroup": "True",
         "hovertemplate": "team=%{y}<br>times_picked=%{x}<extra></extra>",
         "legendgroup": "CIN",
         "marker": {
          "color": "#FB4F14",
          "pattern": {
           "shape": ""
          }
         },
         "name": "CIN",
         "offsetgroup": "CIN",
         "orientation": "h",
         "showlegend": false,
         "textposition": "auto",
         "type": "bar",
         "x": [
          10
         ],
         "xaxis": "x",
         "y": [
          "CIN"
         ],
         "yaxis": "y"
        },
        {
         "alignmentgroup": "True",
         "hovertemplate": "team=%{y}<br>times_picked=%{x}<extra></extra>",
         "legendgroup": "SEA",
         "marker": {
          "color": "#69be28",
          "pattern": {
           "shape": ""
          }
         },
         "name": "SEA",
         "offsetgroup": "SEA",
         "orientation": "h",
         "showlegend": false,
         "textposition": "auto",
         "type": "bar",
         "x": [
          9
         ],
         "xaxis": "x",
         "y": [
          "SEA"
         ],
         "yaxis": "y"
        },
        {
         "alignmentgroup": "True",
         "hovertemplate": "team=%{y}<br>times_picked=%{x}<extra></extra>",
         "legendgroup": "ARI",
         "marker": {
          "color": "#97233F",
          "pattern": {
           "shape": ""
          }
         },
         "name": "ARI",
         "offsetgroup": "ARI",
         "orientation": "h",
         "showlegend": false,
         "textposition": "auto",
         "type": "bar",
         "x": [
          8
         ],
         "xaxis": "x",
         "y": [
          "ARI"
         ],
         "yaxis": "y"
        },
        {
         "alignmentgroup": "True",
         "hovertemplate": "team=%{y}<br>times_picked=%{x}<extra></extra>",
         "legendgroup": "JAX",
         "marker": {
          "color": "#006778",
          "pattern": {
           "shape": ""
          }
         },
         "name": "JAX",
         "offsetgroup": "JAX",
         "orientation": "h",
         "showlegend": false,
         "textposition": "auto",
         "type": "bar",
         "x": [
          8
         ],
         "xaxis": "x",
         "y": [
          "JAX"
         ],
         "yaxis": "y"
        },
        {
         "alignmentgroup": "True",
         "hovertemplate": "team=%{y}<br>times_picked=%{x}<extra></extra>",
         "legendgroup": "DAL",
         "marker": {
          "color": "#002244",
          "pattern": {
           "shape": ""
          }
         },
         "name": "DAL",
         "offsetgroup": "DAL",
         "orientation": "h",
         "showlegend": false,
         "textposition": "auto",
         "type": "bar",
         "x": [
          8
         ],
         "xaxis": "x",
         "y": [
          "DAL"
         ],
         "yaxis": "y"
        },
        {
         "alignmentgroup": "True",
         "hovertemplate": "team=%{y}<br>times_picked=%{x}<extra></extra>",
         "legendgroup": "DEN",
         "marker": {
          "color": "#FB4F14",
          "pattern": {
           "shape": ""
          }
         },
         "name": "DEN",
         "offsetgroup": "DEN",
         "orientation": "h",
         "showlegend": false,
         "textposition": "auto",
         "type": "bar",
         "x": [
          8
         ],
         "xaxis": "x",
         "y": [
          "DEN"
         ],
         "yaxis": "y"
        },
        {
         "alignmentgroup": "True",
         "hovertemplate": "team=%{y}<br>times_picked=%{x}<extra></extra>",
         "legendgroup": "NYJ",
         "marker": {
          "color": "#003F2D",
          "pattern": {
           "shape": ""
          }
         },
         "name": "NYJ",
         "offsetgroup": "NYJ",
         "orientation": "h",
         "showlegend": false,
         "textposition": "auto",
         "type": "bar",
         "x": [
          8
         ],
         "xaxis": "x",
         "y": [
          "NYJ"
         ],
         "yaxis": "y"
        },
        {
         "alignmentgroup": "True",
         "hovertemplate": "team=%{y}<br>times_picked=%{x}<extra></extra>",
         "legendgroup": "NYG",
         "marker": {
          "color": "#0B2265",
          "pattern": {
           "shape": ""
          }
         },
         "name": "NYG",
         "offsetgroup": "NYG",
         "orientation": "h",
         "showlegend": false,
         "textposition": "auto",
         "type": "bar",
         "x": [
          8
         ],
         "xaxis": "x",
         "y": [
          "NYG"
         ],
         "yaxis": "y"
        },
        {
         "alignmentgroup": "True",
         "hovertemplate": "team=%{y}<br>times_picked=%{x}<extra></extra>",
         "legendgroup": "CAR",
         "marker": {
          "color": "#0085CA",
          "pattern": {
           "shape": ""
          }
         },
         "name": "CAR",
         "offsetgroup": "CAR",
         "orientation": "h",
         "showlegend": false,
         "textposition": "auto",
         "type": "bar",
         "x": [
          7
         ],
         "xaxis": "x",
         "y": [
          "CAR"
         ],
         "yaxis": "y"
        },
        {
         "alignmentgroup": "True",
         "hovertemplate": "team=%{y}<br>times_picked=%{x}<extra></extra>",
         "legendgroup": "TB",
         "marker": {
          "color": "#A71930",
          "pattern": {
           "shape": ""
          }
         },
         "name": "TB",
         "offsetgroup": "TB",
         "orientation": "h",
         "showlegend": false,
         "textposition": "auto",
         "type": "bar",
         "x": [
          7
         ],
         "xaxis": "x",
         "y": [
          "TB"
         ],
         "yaxis": "y"
        },
        {
         "alignmentgroup": "True",
         "hovertemplate": "team=%{y}<br>times_picked=%{x}<extra></extra>",
         "legendgroup": "NO",
         "marker": {
          "color": "#D3BC8D",
          "pattern": {
           "shape": ""
          }
         },
         "name": "NO",
         "offsetgroup": "NO",
         "orientation": "h",
         "showlegend": false,
         "textposition": "auto",
         "type": "bar",
         "x": [
          7
         ],
         "xaxis": "x",
         "y": [
          "NO"
         ],
         "yaxis": "y"
        },
        {
         "alignmentgroup": "True",
         "hovertemplate": "team=%{y}<br>times_picked=%{x}<extra></extra>",
         "legendgroup": "NE",
         "marker": {
          "color": "#002244",
          "pattern": {
           "shape": ""
          }
         },
         "name": "NE",
         "offsetgroup": "NE",
         "orientation": "h",
         "showlegend": false,
         "textposition": "auto",
         "type": "bar",
         "x": [
          7
         ],
         "xaxis": "x",
         "y": [
          "NE"
         ],
         "yaxis": "y"
        },
        {
         "alignmentgroup": "True",
         "hovertemplate": "team=%{y}<br>times_picked=%{x}<extra></extra>",
         "legendgroup": "KC",
         "marker": {
          "color": "#E31837",
          "pattern": {
           "shape": ""
          }
         },
         "name": "KC",
         "offsetgroup": "KC",
         "orientation": "h",
         "showlegend": false,
         "textposition": "auto",
         "type": "bar",
         "x": [
          7
         ],
         "xaxis": "x",
         "y": [
          "KC"
         ],
         "yaxis": "y"
        },
        {
         "alignmentgroup": "True",
         "hovertemplate": "team=%{y}<br>times_picked=%{x}<extra></extra>",
         "legendgroup": "PHI",
         "marker": {
          "color": "#004C54",
          "pattern": {
           "shape": ""
          }
         },
         "name": "PHI",
         "offsetgroup": "PHI",
         "orientation": "h",
         "showlegend": false,
         "textposition": "auto",
         "type": "bar",
         "x": [
          6
         ],
         "xaxis": "x",
         "y": [
          "PHI"
         ],
         "yaxis": "y"
        },
        {
         "alignmentgroup": "True",
         "hovertemplate": "team=%{y}<br>times_picked=%{x}<extra></extra>",
         "legendgroup": "CHI",
         "marker": {
          "color": "#E64100",
          "pattern": {
           "shape": ""
          }
         },
         "name": "CHI",
         "offsetgroup": "CHI",
         "orientation": "h",
         "showlegend": false,
         "textposition": "auto",
         "type": "bar",
         "x": [
          6
         ],
         "xaxis": "x",
         "y": [
          "CHI"
         ],
         "yaxis": "y"
        },
        {
         "alignmentgroup": "True",
         "hovertemplate": "team=%{y}<br>times_picked=%{x}<extra></extra>",
         "legendgroup": "ATL",
         "marker": {
          "color": "#A71930",
          "pattern": {
           "shape": ""
          }
         },
         "name": "ATL",
         "offsetgroup": "ATL",
         "orientation": "h",
         "showlegend": false,
         "textposition": "auto",
         "type": "bar",
         "x": [
          6
         ],
         "xaxis": "x",
         "y": [
          "ATL"
         ],
         "yaxis": "y"
        },
        {
         "alignmentgroup": "True",
         "hovertemplate": "team=%{y}<br>times_picked=%{x}<extra></extra>",
         "legendgroup": "BAL",
         "marker": {
          "color": "#241773",
          "pattern": {
           "shape": ""
          }
         },
         "name": "BAL",
         "offsetgroup": "BAL",
         "orientation": "h",
         "showlegend": false,
         "textposition": "auto",
         "type": "bar",
         "x": [
          5
         ],
         "xaxis": "x",
         "y": [
          "BAL"
         ],
         "yaxis": "y"
        },
        {
         "alignmentgroup": "True",
         "hovertemplate": "team=%{y}<br>times_picked=%{x}<extra></extra>",
         "legendgroup": "DET",
         "marker": {
          "color": "#0076B6",
          "pattern": {
           "shape": ""
          }
         },
         "name": "DET",
         "offsetgroup": "DET",
         "orientation": "h",
         "showlegend": false,
         "textposition": "auto",
         "type": "bar",
         "x": [
          4
         ],
         "xaxis": "x",
         "y": [
          "DET"
         ],
         "yaxis": "y"
        },
        {
         "alignmentgroup": "True",
         "hovertemplate": "team=%{y}<br>times_picked=%{x}<extra></extra>",
         "legendgroup": "PIT",
         "marker": {
          "color": "#000000",
          "pattern": {
           "shape": ""
          }
         },
         "name": "PIT",
         "offsetgroup": "PIT",
         "orientation": "h",
         "showlegend": false,
         "textposition": "auto",
         "type": "bar",
         "x": [
          4
         ],
         "xaxis": "x",
         "y": [
          "PIT"
         ],
         "yaxis": "y"
        },
        {
         "alignmentgroup": "True",
         "hovertemplate": "team=%{y}<br>times_picked=%{x}<extra></extra>",
         "legendgroup": "LV",
         "marker": {
          "color": "#000000",
          "pattern": {
           "shape": ""
          }
         },
         "name": "LV",
         "offsetgroup": "LV",
         "orientation": "h",
         "showlegend": false,
         "textposition": "auto",
         "type": "bar",
         "x": [
          3
         ],
         "xaxis": "x",
         "y": [
          "LV"
         ],
         "yaxis": "y"
        },
        {
         "alignmentgroup": "True",
         "hovertemplate": "team=%{y}<br>times_picked=%{x}<extra></extra>",
         "legendgroup": "HOU",
         "marker": {
          "color": "#03202F",
          "pattern": {
           "shape": ""
          }
         },
         "name": "HOU",
         "offsetgroup": "HOU",
         "orientation": "h",
         "showlegend": false,
         "textposition": "auto",
         "type": "bar",
         "x": [
          2
         ],
         "xaxis": "x",
         "y": [
          "HOU"
         ],
         "yaxis": "y"
        },
        {
         "marker": {
          "color": [
           "#5A1414",
           "#203731",
           "#4F2683",
           "#007BC7",
           "#002C5F",
           "#003594",
           "#00338D",
           "#FF3C00",
           "#008E97",
           "#4B92DB",
           "#B3995D",
           "#FB4F14",
           "#69be28",
           "#97233F",
           "#006778",
           "#002244",
           "#FB4F14",
           "#003F2D",
           "#0B2265",
           "#0085CA",
           "#A71930",
           "#D3BC8D",
           "#002244",
           "#E31837",
           "#004C54",
           "#E64100",
           "#A71930",
           "#241773",
           "#0076B6",
           "#000000",
           "#000000",
           "#03202F"
          ]
         },
         "opacity": 0.5,
         "orientation": "h",
         "showlegend": false,
         "type": "bar",
         "x": [
          1,
          3,
          2,
          3,
          2,
          1,
          1,
          2,
          2,
          1,
          2,
          1,
          1,
          2,
          2,
          1,
          0,
          1,
          1,
          0,
          1,
          1,
          2,
          0,
          2,
          0,
          0,
          0,
          1,
          2,
          1,
          0
         ],
         "y": [
          "WAS",
          "GB",
          "MIN",
          "LAC",
          "IND",
          "LA",
          "BUF",
          "CLE",
          "MIA",
          "TEN",
          "SF",
          "CIN",
          "SEA",
          "ARI",
          "JAX",
          "DAL",
          "DEN",
          "NYJ",
          "NYG",
          "CAR",
          "TB",
          "NO",
          "NE",
          "KC",
          "PHI",
          "CHI",
          "ATL",
          "BAL",
          "DET",
          "PIT",
          "LV",
          "HOU"
         ]
        }
       ],
       "layout": {
        "barmode": "relative",
        "height": 1000,
        "images": [
         {
          "opacity": 1,
          "sizex": 1.25,
          "sizey": 1.25,
          "sizing": "contain",
          "source": "https://a.espncdn.com/i/teamlogos/nfl/500/WAS.png",
          "x": 15,
          "xanchor": "center",
          "xref": "x",
          "y": "WAS",
          "yanchor": "middle",
          "yref": "y"
         },
         {
          "opacity": 1,
          "sizex": 1.25,
          "sizey": 1.25,
          "sizing": "contain",
          "source": "https://a.espncdn.com/i/teamlogos/nfl/500/GB.png",
          "x": 17,
          "xanchor": "center",
          "xref": "x",
          "y": "GB",
          "yanchor": "middle",
          "yref": "y"
         },
         {
          "opacity": 1,
          "sizex": 1.25,
          "sizey": 1.25,
          "sizing": "contain",
          "source": "https://a.espncdn.com/i/teamlogos/nfl/500/MIN.png",
          "x": 16,
          "xanchor": "center",
          "xref": "x",
          "y": "MIN",
          "yanchor": "middle",
          "yref": "y"
         },
         {
          "opacity": 1,
          "sizex": 1.25,
          "sizey": 1.25,
          "sizing": "contain",
          "source": "https://a.espncdn.com/i/teamlogos/nfl/500/LAC.png",
          "x": 16,
          "xanchor": "center",
          "xref": "x",
          "y": "LAC",
          "yanchor": "middle",
          "yref": "y"
         },
         {
          "opacity": 1,
          "sizex": 1.25,
          "sizey": 1.25,
          "sizing": "contain",
          "source": "https://a.espncdn.com/i/teamlogos/nfl/500/IND.png",
          "x": 15,
          "xanchor": "center",
          "xref": "x",
          "y": "IND",
          "yanchor": "middle",
          "yref": "y"
         },
         {
          "opacity": 1,
          "sizex": 1.25,
          "sizey": 1.25,
          "sizing": "contain",
          "source": "https://a.espncdn.com/i/teamlogos/nfl/500/LA.png",
          "x": 14,
          "xanchor": "center",
          "xref": "x",
          "y": "LA",
          "yanchor": "middle",
          "yref": "y"
         },
         {
          "opacity": 1,
          "sizex": 1.25,
          "sizey": 1.25,
          "sizing": "contain",
          "source": "https://a.espncdn.com/i/teamlogos/nfl/500/BUF.png",
          "x": 14,
          "xanchor": "center",
          "xref": "x",
          "y": "BUF",
          "yanchor": "middle",
          "yref": "y"
         },
         {
          "opacity": 1,
          "sizex": 1.25,
          "sizey": 1.25,
          "sizing": "contain",
          "source": "https://a.espncdn.com/i/teamlogos/nfl/500/CLE.png",
          "x": 14,
          "xanchor": "center",
          "xref": "x",
          "y": "CLE",
          "yanchor": "middle",
          "yref": "y"
         },
         {
          "opacity": 1,
          "sizex": 1.25,
          "sizey": 1.25,
          "sizing": "contain",
          "source": "https://a.espncdn.com/i/teamlogos/nfl/500/MIA.png",
          "x": 13,
          "xanchor": "center",
          "xref": "x",
          "y": "MIA",
          "yanchor": "middle",
          "yref": "y"
         },
         {
          "opacity": 1,
          "sizex": 1.25,
          "sizey": 1.25,
          "sizing": "contain",
          "source": "https://a.espncdn.com/i/teamlogos/nfl/500/TEN.png",
          "x": 12,
          "xanchor": "center",
          "xref": "x",
          "y": "TEN",
          "yanchor": "middle",
          "yref": "y"
         },
         {
          "opacity": 1,
          "sizex": 1.25,
          "sizey": 1.25,
          "sizing": "contain",
          "source": "https://a.espncdn.com/i/teamlogos/nfl/500/SF.png",
          "x": 13,
          "xanchor": "center",
          "xref": "x",
          "y": "SF",
          "yanchor": "middle",
          "yref": "y"
         },
         {
          "opacity": 1,
          "sizex": 1.25,
          "sizey": 1.25,
          "sizing": "contain",
          "source": "https://a.espncdn.com/i/teamlogos/nfl/500/CIN.png",
          "x": 11,
          "xanchor": "center",
          "xref": "x",
          "y": "CIN",
          "yanchor": "middle",
          "yref": "y"
         },
         {
          "opacity": 1,
          "sizex": 1.25,
          "sizey": 1.25,
          "sizing": "contain",
          "source": "https://a.espncdn.com/i/teamlogos/nfl/500/SEA.png",
          "x": 10,
          "xanchor": "center",
          "xref": "x",
          "y": "SEA",
          "yanchor": "middle",
          "yref": "y"
         },
         {
          "opacity": 1,
          "sizex": 1.25,
          "sizey": 1.25,
          "sizing": "contain",
          "source": "https://a.espncdn.com/i/teamlogos/nfl/500/ARI.png",
          "x": 10,
          "xanchor": "center",
          "xref": "x",
          "y": "ARI",
          "yanchor": "middle",
          "yref": "y"
         },
         {
          "opacity": 1,
          "sizex": 1.25,
          "sizey": 1.25,
          "sizing": "contain",
          "source": "https://a.espncdn.com/i/teamlogos/nfl/500/JAX.png",
          "x": 10,
          "xanchor": "center",
          "xref": "x",
          "y": "JAX",
          "yanchor": "middle",
          "yref": "y"
         },
         {
          "opacity": 1,
          "sizex": 1.25,
          "sizey": 1.25,
          "sizing": "contain",
          "source": "https://a.espncdn.com/i/teamlogos/nfl/500/DAL.png",
          "x": 9,
          "xanchor": "center",
          "xref": "x",
          "y": "DAL",
          "yanchor": "middle",
          "yref": "y"
         },
         {
          "opacity": 1,
          "sizex": 1.25,
          "sizey": 1.25,
          "sizing": "contain",
          "source": "https://a.espncdn.com/i/teamlogos/nfl/500/DEN.png",
          "x": 8,
          "xanchor": "center",
          "xref": "x",
          "y": "DEN",
          "yanchor": "middle",
          "yref": "y"
         },
         {
          "opacity": 1,
          "sizex": 1.25,
          "sizey": 1.25,
          "sizing": "contain",
          "source": "https://a.espncdn.com/i/teamlogos/nfl/500/NYJ.png",
          "x": 9,
          "xanchor": "center",
          "xref": "x",
          "y": "NYJ",
          "yanchor": "middle",
          "yref": "y"
         },
         {
          "opacity": 1,
          "sizex": 1.25,
          "sizey": 1.25,
          "sizing": "contain",
          "source": "https://a.espncdn.com/i/teamlogos/nfl/500/NYG.png",
          "x": 9,
          "xanchor": "center",
          "xref": "x",
          "y": "NYG",
          "yanchor": "middle",
          "yref": "y"
         },
         {
          "opacity": 1,
          "sizex": 1.25,
          "sizey": 1.25,
          "sizing": "contain",
          "source": "https://a.espncdn.com/i/teamlogos/nfl/500/CAR.png",
          "x": 7,
          "xanchor": "center",
          "xref": "x",
          "y": "CAR",
          "yanchor": "middle",
          "yref": "y"
         },
         {
          "opacity": 1,
          "sizex": 1.25,
          "sizey": 1.25,
          "sizing": "contain",
          "source": "https://a.espncdn.com/i/teamlogos/nfl/500/TB.png",
          "x": 8,
          "xanchor": "center",
          "xref": "x",
          "y": "TB",
          "yanchor": "middle",
          "yref": "y"
         },
         {
          "opacity": 1,
          "sizex": 1.25,
          "sizey": 1.25,
          "sizing": "contain",
          "source": "https://a.espncdn.com/i/teamlogos/nfl/500/NO.png",
          "x": 8,
          "xanchor": "center",
          "xref": "x",
          "y": "NO",
          "yanchor": "middle",
          "yref": "y"
         },
         {
          "opacity": 1,
          "sizex": 1.25,
          "sizey": 1.25,
          "sizing": "contain",
          "source": "https://a.espncdn.com/i/teamlogos/nfl/500/NE.png",
          "x": 9,
          "xanchor": "center",
          "xref": "x",
          "y": "NE",
          "yanchor": "middle",
          "yref": "y"
         },
         {
          "opacity": 1,
          "sizex": 1.25,
          "sizey": 1.25,
          "sizing": "contain",
          "source": "https://a.espncdn.com/i/teamlogos/nfl/500/KC.png",
          "x": 7,
          "xanchor": "center",
          "xref": "x",
          "y": "KC",
          "yanchor": "middle",
          "yref": "y"
         },
         {
          "opacity": 1,
          "sizex": 1.25,
          "sizey": 1.25,
          "sizing": "contain",
          "source": "https://a.espncdn.com/i/teamlogos/nfl/500/PHI.png",
          "x": 8,
          "xanchor": "center",
          "xref": "x",
          "y": "PHI",
          "yanchor": "middle",
          "yref": "y"
         },
         {
          "opacity": 1,
          "sizex": 1.25,
          "sizey": 1.25,
          "sizing": "contain",
          "source": "https://a.espncdn.com/i/teamlogos/nfl/500/CHI.png",
          "x": 6,
          "xanchor": "center",
          "xref": "x",
          "y": "CHI",
          "yanchor": "middle",
          "yref": "y"
         },
         {
          "opacity": 1,
          "sizex": 1.25,
          "sizey": 1.25,
          "sizing": "contain",
          "source": "https://a.espncdn.com/i/teamlogos/nfl/500/ATL.png",
          "x": 6,
          "xanchor": "center",
          "xref": "x",
          "y": "ATL",
          "yanchor": "middle",
          "yref": "y"
         },
         {
          "opacity": 1,
          "sizex": 1.25,
          "sizey": 1.25,
          "sizing": "contain",
          "source": "https://a.espncdn.com/i/teamlogos/nfl/500/BAL.png",
          "x": 5,
          "xanchor": "center",
          "xref": "x",
          "y": "BAL",
          "yanchor": "middle",
          "yref": "y"
         },
         {
          "opacity": 1,
          "sizex": 1.25,
          "sizey": 1.25,
          "sizing": "contain",
          "source": "https://a.espncdn.com/i/teamlogos/nfl/500/DET.png",
          "x": 5,
          "xanchor": "center",
          "xref": "x",
          "y": "DET",
          "yanchor": "middle",
          "yref": "y"
         },
         {
          "opacity": 1,
          "sizex": 1.25,
          "sizey": 1.25,
          "sizing": "contain",
          "source": "https://a.espncdn.com/i/teamlogos/nfl/500/PIT.png",
          "x": 6,
          "xanchor": "center",
          "xref": "x",
          "y": "PIT",
          "yanchor": "middle",
          "yref": "y"
         },
         {
          "opacity": 1,
          "sizex": 1.25,
          "sizey": 1.25,
          "sizing": "contain",
          "source": "https://a.espncdn.com/i/teamlogos/nfl/500/LV.png",
          "x": 4,
          "xanchor": "center",
          "xref": "x",
          "y": "LV",
          "yanchor": "middle",
          "yref": "y"
         },
         {
          "opacity": 1,
          "sizex": 1.25,
          "sizey": 1.25,
          "sizing": "contain",
          "source": "https://a.espncdn.com/i/teamlogos/nfl/500/HOU.png",
          "x": 2,
          "xanchor": "center",
          "xref": "x",
          "y": "HOU",
          "yanchor": "middle",
          "yref": "y"
         }
        ],
        "legend": {
         "title": {
          "text": "team"
         },
         "tracegroupgap": 0
        },
        "margin": {
         "t": 60
        },
        "template": {
         "data": {
          "bar": [
           {
            "error_x": {
             "color": "#2a3f5f"
            },
            "error_y": {
             "color": "#2a3f5f"
            },
            "marker": {
             "line": {
              "color": "#E5ECF6",
              "width": 0.5
             },
             "pattern": {
              "fillmode": "overlay",
              "size": 10,
              "solidity": 0.2
             }
            },
            "type": "bar"
           }
          ],
          "barpolar": [
           {
            "marker": {
             "line": {
              "color": "#E5ECF6",
              "width": 0.5
             },
             "pattern": {
              "fillmode": "overlay",
              "size": 10,
              "solidity": 0.2
             }
            },
            "type": "barpolar"
           }
          ],
          "carpet": [
           {
            "aaxis": {
             "endlinecolor": "#2a3f5f",
             "gridcolor": "white",
             "linecolor": "white",
             "minorgridcolor": "white",
             "startlinecolor": "#2a3f5f"
            },
            "baxis": {
             "endlinecolor": "#2a3f5f",
             "gridcolor": "white",
             "linecolor": "white",
             "minorgridcolor": "white",
             "startlinecolor": "#2a3f5f"
            },
            "type": "carpet"
           }
          ],
          "choropleth": [
           {
            "colorbar": {
             "outlinewidth": 0,
             "ticks": ""
            },
            "type": "choropleth"
           }
          ],
          "contour": [
           {
            "colorbar": {
             "outlinewidth": 0,
             "ticks": ""
            },
            "colorscale": [
             [
              0,
              "#0d0887"
             ],
             [
              0.1111111111111111,
              "#46039f"
             ],
             [
              0.2222222222222222,
              "#7201a8"
             ],
             [
              0.3333333333333333,
              "#9c179e"
             ],
             [
              0.4444444444444444,
              "#bd3786"
             ],
             [
              0.5555555555555556,
              "#d8576b"
             ],
             [
              0.6666666666666666,
              "#ed7953"
             ],
             [
              0.7777777777777778,
              "#fb9f3a"
             ],
             [
              0.8888888888888888,
              "#fdca26"
             ],
             [
              1,
              "#f0f921"
             ]
            ],
            "type": "contour"
           }
          ],
          "contourcarpet": [
           {
            "colorbar": {
             "outlinewidth": 0,
             "ticks": ""
            },
            "type": "contourcarpet"
           }
          ],
          "heatmap": [
           {
            "colorbar": {
             "outlinewidth": 0,
             "ticks": ""
            },
            "colorscale": [
             [
              0,
              "#0d0887"
             ],
             [
              0.1111111111111111,
              "#46039f"
             ],
             [
              0.2222222222222222,
              "#7201a8"
             ],
             [
              0.3333333333333333,
              "#9c179e"
             ],
             [
              0.4444444444444444,
              "#bd3786"
             ],
             [
              0.5555555555555556,
              "#d8576b"
             ],
             [
              0.6666666666666666,
              "#ed7953"
             ],
             [
              0.7777777777777778,
              "#fb9f3a"
             ],
             [
              0.8888888888888888,
              "#fdca26"
             ],
             [
              1,
              "#f0f921"
             ]
            ],
            "type": "heatmap"
           }
          ],
          "heatmapgl": [
           {
            "colorbar": {
             "outlinewidth": 0,
             "ticks": ""
            },
            "colorscale": [
             [
              0,
              "#0d0887"
             ],
             [
              0.1111111111111111,
              "#46039f"
             ],
             [
              0.2222222222222222,
              "#7201a8"
             ],
             [
              0.3333333333333333,
              "#9c179e"
             ],
             [
              0.4444444444444444,
              "#bd3786"
             ],
             [
              0.5555555555555556,
              "#d8576b"
             ],
             [
              0.6666666666666666,
              "#ed7953"
             ],
             [
              0.7777777777777778,
              "#fb9f3a"
             ],
             [
              0.8888888888888888,
              "#fdca26"
             ],
             [
              1,
              "#f0f921"
             ]
            ],
            "type": "heatmapgl"
           }
          ],
          "histogram": [
           {
            "marker": {
             "pattern": {
              "fillmode": "overlay",
              "size": 10,
              "solidity": 0.2
             }
            },
            "type": "histogram"
           }
          ],
          "histogram2d": [
           {
            "colorbar": {
             "outlinewidth": 0,
             "ticks": ""
            },
            "colorscale": [
             [
              0,
              "#0d0887"
             ],
             [
              0.1111111111111111,
              "#46039f"
             ],
             [
              0.2222222222222222,
              "#7201a8"
             ],
             [
              0.3333333333333333,
              "#9c179e"
             ],
             [
              0.4444444444444444,
              "#bd3786"
             ],
             [
              0.5555555555555556,
              "#d8576b"
             ],
             [
              0.6666666666666666,
              "#ed7953"
             ],
             [
              0.7777777777777778,
              "#fb9f3a"
             ],
             [
              0.8888888888888888,
              "#fdca26"
             ],
             [
              1,
              "#f0f921"
             ]
            ],
            "type": "histogram2d"
           }
          ],
          "histogram2dcontour": [
           {
            "colorbar": {
             "outlinewidth": 0,
             "ticks": ""
            },
            "colorscale": [
             [
              0,
              "#0d0887"
             ],
             [
              0.1111111111111111,
              "#46039f"
             ],
             [
              0.2222222222222222,
              "#7201a8"
             ],
             [
              0.3333333333333333,
              "#9c179e"
             ],
             [
              0.4444444444444444,
              "#bd3786"
             ],
             [
              0.5555555555555556,
              "#d8576b"
             ],
             [
              0.6666666666666666,
              "#ed7953"
             ],
             [
              0.7777777777777778,
              "#fb9f3a"
             ],
             [
              0.8888888888888888,
              "#fdca26"
             ],
             [
              1,
              "#f0f921"
             ]
            ],
            "type": "histogram2dcontour"
           }
          ],
          "mesh3d": [
           {
            "colorbar": {
             "outlinewidth": 0,
             "ticks": ""
            },
            "type": "mesh3d"
           }
          ],
          "parcoords": [
           {
            "line": {
             "colorbar": {
              "outlinewidth": 0,
              "ticks": ""
             }
            },
            "type": "parcoords"
           }
          ],
          "pie": [
           {
            "automargin": true,
            "type": "pie"
           }
          ],
          "scatter": [
           {
            "fillpattern": {
             "fillmode": "overlay",
             "size": 10,
             "solidity": 0.2
            },
            "type": "scatter"
           }
          ],
          "scatter3d": [
           {
            "line": {
             "colorbar": {
              "outlinewidth": 0,
              "ticks": ""
             }
            },
            "marker": {
             "colorbar": {
              "outlinewidth": 0,
              "ticks": ""
             }
            },
            "type": "scatter3d"
           }
          ],
          "scattercarpet": [
           {
            "marker": {
             "colorbar": {
              "outlinewidth": 0,
              "ticks": ""
             }
            },
            "type": "scattercarpet"
           }
          ],
          "scattergeo": [
           {
            "marker": {
             "colorbar": {
              "outlinewidth": 0,
              "ticks": ""
             }
            },
            "type": "scattergeo"
           }
          ],
          "scattergl": [
           {
            "marker": {
             "colorbar": {
              "outlinewidth": 0,
              "ticks": ""
             }
            },
            "type": "scattergl"
           }
          ],
          "scattermapbox": [
           {
            "marker": {
             "colorbar": {
              "outlinewidth": 0,
              "ticks": ""
             }
            },
            "type": "scattermapbox"
           }
          ],
          "scatterpolar": [
           {
            "marker": {
             "colorbar": {
              "outlinewidth": 0,
              "ticks": ""
             }
            },
            "type": "scatterpolar"
           }
          ],
          "scatterpolargl": [
           {
            "marker": {
             "colorbar": {
              "outlinewidth": 0,
              "ticks": ""
             }
            },
            "type": "scatterpolargl"
           }
          ],
          "scatterternary": [
           {
            "marker": {
             "colorbar": {
              "outlinewidth": 0,
              "ticks": ""
             }
            },
            "type": "scatterternary"
           }
          ],
          "surface": [
           {
            "colorbar": {
             "outlinewidth": 0,
             "ticks": ""
            },
            "colorscale": [
             [
              0,
              "#0d0887"
             ],
             [
              0.1111111111111111,
              "#46039f"
             ],
             [
              0.2222222222222222,
              "#7201a8"
             ],
             [
              0.3333333333333333,
              "#9c179e"
             ],
             [
              0.4444444444444444,
              "#bd3786"
             ],
             [
              0.5555555555555556,
              "#d8576b"
             ],
             [
              0.6666666666666666,
              "#ed7953"
             ],
             [
              0.7777777777777778,
              "#fb9f3a"
             ],
             [
              0.8888888888888888,
              "#fdca26"
             ],
             [
              1,
              "#f0f921"
             ]
            ],
            "type": "surface"
           }
          ],
          "table": [
           {
            "cells": {
             "fill": {
              "color": "#EBF0F8"
             },
             "line": {
              "color": "white"
             }
            },
            "header": {
             "fill": {
              "color": "#C8D4E3"
             },
             "line": {
              "color": "white"
             }
            },
            "type": "table"
           }
          ]
         },
         "layout": {
          "annotationdefaults": {
           "arrowcolor": "#2a3f5f",
           "arrowhead": 0,
           "arrowwidth": 1
          },
          "autotypenumbers": "strict",
          "coloraxis": {
           "colorbar": {
            "outlinewidth": 0,
            "ticks": ""
           }
          },
          "colorscale": {
           "diverging": [
            [
             0,
             "#8e0152"
            ],
            [
             0.1,
             "#c51b7d"
            ],
            [
             0.2,
             "#de77ae"
            ],
            [
             0.3,
             "#f1b6da"
            ],
            [
             0.4,
             "#fde0ef"
            ],
            [
             0.5,
             "#f7f7f7"
            ],
            [
             0.6,
             "#e6f5d0"
            ],
            [
             0.7,
             "#b8e186"
            ],
            [
             0.8,
             "#7fbc41"
            ],
            [
             0.9,
             "#4d9221"
            ],
            [
             1,
             "#276419"
            ]
           ],
           "sequential": [
            [
             0,
             "#0d0887"
            ],
            [
             0.1111111111111111,
             "#46039f"
            ],
            [
             0.2222222222222222,
             "#7201a8"
            ],
            [
             0.3333333333333333,
             "#9c179e"
            ],
            [
             0.4444444444444444,
             "#bd3786"
            ],
            [
             0.5555555555555556,
             "#d8576b"
            ],
            [
             0.6666666666666666,
             "#ed7953"
            ],
            [
             0.7777777777777778,
             "#fb9f3a"
            ],
            [
             0.8888888888888888,
             "#fdca26"
            ],
            [
             1,
             "#f0f921"
            ]
           ],
           "sequentialminus": [
            [
             0,
             "#0d0887"
            ],
            [
             0.1111111111111111,
             "#46039f"
            ],
            [
             0.2222222222222222,
             "#7201a8"
            ],
            [
             0.3333333333333333,
             "#9c179e"
            ],
            [
             0.4444444444444444,
             "#bd3786"
            ],
            [
             0.5555555555555556,
             "#d8576b"
            ],
            [
             0.6666666666666666,
             "#ed7953"
            ],
            [
             0.7777777777777778,
             "#fb9f3a"
            ],
            [
             0.8888888888888888,
             "#fdca26"
            ],
            [
             1,
             "#f0f921"
            ]
           ]
          },
          "colorway": [
           "#636efa",
           "#EF553B",
           "#00cc96",
           "#ab63fa",
           "#FFA15A",
           "#19d3f3",
           "#FF6692",
           "#B6E880",
           "#FF97FF",
           "#FECB52"
          ],
          "font": {
           "color": "#2a3f5f"
          },
          "geo": {
           "bgcolor": "white",
           "lakecolor": "white",
           "landcolor": "#E5ECF6",
           "showlakes": true,
           "showland": true,
           "subunitcolor": "white"
          },
          "hoverlabel": {
           "align": "left"
          },
          "hovermode": "closest",
          "mapbox": {
           "style": "light"
          },
          "paper_bgcolor": "white",
          "plot_bgcolor": "#E5ECF6",
          "polar": {
           "angularaxis": {
            "gridcolor": "white",
            "linecolor": "white",
            "ticks": ""
           },
           "bgcolor": "#E5ECF6",
           "radialaxis": {
            "gridcolor": "white",
            "linecolor": "white",
            "ticks": ""
           }
          },
          "scene": {
           "xaxis": {
            "backgroundcolor": "#E5ECF6",
            "gridcolor": "white",
            "gridwidth": 2,
            "linecolor": "white",
            "showbackground": true,
            "ticks": "",
            "zerolinecolor": "white"
           },
           "yaxis": {
            "backgroundcolor": "#E5ECF6",
            "gridcolor": "white",
            "gridwidth": 2,
            "linecolor": "white",
            "showbackground": true,
            "ticks": "",
            "zerolinecolor": "white"
           },
           "zaxis": {
            "backgroundcolor": "#E5ECF6",
            "gridcolor": "white",
            "gridwidth": 2,
            "linecolor": "white",
            "showbackground": true,
            "ticks": "",
            "zerolinecolor": "white"
           }
          },
          "shapedefaults": {
           "line": {
            "color": "#2a3f5f"
           }
          },
          "ternary": {
           "aaxis": {
            "gridcolor": "white",
            "linecolor": "white",
            "ticks": ""
           },
           "baxis": {
            "gridcolor": "white",
            "linecolor": "white",
            "ticks": ""
           },
           "bgcolor": "#E5ECF6",
           "caxis": {
            "gridcolor": "white",
            "linecolor": "white",
            "ticks": ""
           }
          },
          "title": {
           "x": 0.05
          },
          "xaxis": {
           "automargin": true,
           "gridcolor": "white",
           "linecolor": "white",
           "ticks": "",
           "title": {
            "standoff": 15
           },
           "zerolinecolor": "white",
           "zerolinewidth": 2
          },
          "yaxis": {
           "automargin": true,
           "gridcolor": "white",
           "linecolor": "white",
           "ticks": "",
           "title": {
            "standoff": 15
           },
           "zerolinecolor": "white",
           "zerolinewidth": 2
          }
         }
        },
        "title": {
         "text": "Times Final Picked a Team ATS"
        },
        "width": 800,
        "xaxis": {
         "anchor": "y",
         "domain": [
          0,
          1
         ],
         "title": {
          "text": "Times Picked ATS"
         }
        },
        "yaxis": {
         "anchor": "x",
         "categoryarray": [
          "HOU",
          "LV",
          "PIT",
          "DET",
          "BAL",
          "ATL",
          "CHI",
          "PHI",
          "KC",
          "NE",
          "NO",
          "TB",
          "CAR",
          "NYG",
          "NYJ",
          "DEN",
          "DAL",
          "JAX",
          "ARI",
          "SEA",
          "CIN",
          "SF",
          "TEN",
          "MIA",
          "CLE",
          "BUF",
          "LA",
          "IND",
          "LAC",
          "MIN",
          "GB",
          "WAS"
         ],
         "categoryorder": "total ascending",
         "domain": [
          0,
          1
         ],
         "title": {
          "text": "Teams"
         }
        }
       }
      }
     },
     "metadata": {},
     "output_type": "display_data"
    },
    {
     "data": {
      "application/vnd.plotly.v1+json": {
       "config": {
        "plotlyServerURL": "https://plot.ly"
       },
       "data": [
        {
         "alignmentgroup": "True",
         "hovertemplate": "team=%{y}<br>times_picked=%{x}<extra></extra>",
         "legendgroup": "WAS",
         "marker": {
          "color": "#5A1414",
          "pattern": {
           "shape": ""
          }
         },
         "name": "WAS",
         "offsetgroup": "WAS",
         "orientation": "h",
         "showlegend": false,
         "textposition": "auto",
         "type": "bar",
         "x": [
          22
         ],
         "xaxis": "x",
         "y": [
          "WAS"
         ],
         "yaxis": "y"
        },
        {
         "alignmentgroup": "True",
         "hovertemplate": "team=%{y}<br>times_picked=%{x}<extra></extra>",
         "legendgroup": "MIN",
         "marker": {
          "color": "#4F2683",
          "pattern": {
           "shape": ""
          }
         },
         "name": "MIN",
         "offsetgroup": "MIN",
         "orientation": "h",
         "showlegend": false,
         "textposition": "auto",
         "type": "bar",
         "x": [
          14
         ],
         "xaxis": "x",
         "y": [
          "MIN"
         ],
         "yaxis": "y"
        },
        {
         "alignmentgroup": "True",
         "hovertemplate": "team=%{y}<br>times_picked=%{x}<extra></extra>",
         "legendgroup": "LAC",
         "marker": {
          "color": "#007BC7",
          "pattern": {
           "shape": ""
          }
         },
         "name": "LAC",
         "offsetgroup": "LAC",
         "orientation": "h",
         "showlegend": false,
         "textposition": "auto",
         "type": "bar",
         "x": [
          13
         ],
         "xaxis": "x",
         "y": [
          "LAC"
         ],
         "yaxis": "y"
        },
        {
         "alignmentgroup": "True",
         "hovertemplate": "team=%{y}<br>times_picked=%{x}<extra></extra>",
         "legendgroup": "PHI",
         "marker": {
          "color": "#004C54",
          "pattern": {
           "shape": ""
          }
         },
         "name": "PHI",
         "offsetgroup": "PHI",
         "orientation": "h",
         "showlegend": false,
         "textposition": "auto",
         "type": "bar",
         "x": [
          12
         ],
         "xaxis": "x",
         "y": [
          "PHI"
         ],
         "yaxis": "y"
        },
        {
         "alignmentgroup": "True",
         "hovertemplate": "team=%{y}<br>times_picked=%{x}<extra></extra>",
         "legendgroup": "BAL",
         "marker": {
          "color": "#241773",
          "pattern": {
           "shape": ""
          }
         },
         "name": "BAL",
         "offsetgroup": "BAL",
         "orientation": "h",
         "showlegend": false,
         "textposition": "auto",
         "type": "bar",
         "x": [
          11
         ],
         "xaxis": "x",
         "y": [
          "BAL"
         ],
         "yaxis": "y"
        },
        {
         "alignmentgroup": "True",
         "hovertemplate": "team=%{y}<br>times_picked=%{x}<extra></extra>",
         "legendgroup": "NE",
         "marker": {
          "color": "#002244",
          "pattern": {
           "shape": ""
          }
         },
         "name": "NE",
         "offsetgroup": "NE",
         "orientation": "h",
         "showlegend": false,
         "textposition": "auto",
         "type": "bar",
         "x": [
          11
         ],
         "xaxis": "x",
         "y": [
          "NE"
         ],
         "yaxis": "y"
        },
        {
         "alignmentgroup": "True",
         "hovertemplate": "team=%{y}<br>times_picked=%{x}<extra></extra>",
         "legendgroup": "CHI",
         "marker": {
          "color": "#E64100",
          "pattern": {
           "shape": ""
          }
         },
         "name": "CHI",
         "offsetgroup": "CHI",
         "orientation": "h",
         "showlegend": false,
         "textposition": "auto",
         "type": "bar",
         "x": [
          11
         ],
         "xaxis": "x",
         "y": [
          "CHI"
         ],
         "yaxis": "y"
        },
        {
         "alignmentgroup": "True",
         "hovertemplate": "team=%{y}<br>times_picked=%{x}<extra></extra>",
         "legendgroup": "CLE",
         "marker": {
          "color": "#FF3C00",
          "pattern": {
           "shape": ""
          }
         },
         "name": "CLE",
         "offsetgroup": "CLE",
         "orientation": "h",
         "showlegend": false,
         "textposition": "auto",
         "type": "bar",
         "x": [
          11
         ],
         "xaxis": "x",
         "y": [
          "CLE"
         ],
         "yaxis": "y"
        },
        {
         "alignmentgroup": "True",
         "hovertemplate": "team=%{y}<br>times_picked=%{x}<extra></extra>",
         "legendgroup": "DAL",
         "marker": {
          "color": "#002244",
          "pattern": {
           "shape": ""
          }
         },
         "name": "DAL",
         "offsetgroup": "DAL",
         "orientation": "h",
         "showlegend": false,
         "textposition": "auto",
         "type": "bar",
         "x": [
          11
         ],
         "xaxis": "x",
         "y": [
          "DAL"
         ],
         "yaxis": "y"
        },
        {
         "alignmentgroup": "True",
         "hovertemplate": "team=%{y}<br>times_picked=%{x}<extra></extra>",
         "legendgroup": "IND",
         "marker": {
          "color": "#002C5F",
          "pattern": {
           "shape": ""
          }
         },
         "name": "IND",
         "offsetgroup": "IND",
         "orientation": "h",
         "showlegend": false,
         "textposition": "auto",
         "type": "bar",
         "x": [
          10
         ],
         "xaxis": "x",
         "y": [
          "IND"
         ],
         "yaxis": "y"
        },
        {
         "alignmentgroup": "True",
         "hovertemplate": "team=%{y}<br>times_picked=%{x}<extra></extra>",
         "legendgroup": "LA",
         "marker": {
          "color": "#003594",
          "pattern": {
           "shape": ""
          }
         },
         "name": "LA",
         "offsetgroup": "LA",
         "orientation": "h",
         "showlegend": false,
         "textposition": "auto",
         "type": "bar",
         "x": [
          10
         ],
         "xaxis": "x",
         "y": [
          "LA"
         ],
         "yaxis": "y"
        },
        {
         "alignmentgroup": "True",
         "hovertemplate": "team=%{y}<br>times_picked=%{x}<extra></extra>",
         "legendgroup": "DEN",
         "marker": {
          "color": "#FB4F14",
          "pattern": {
           "shape": ""
          }
         },
         "name": "DEN",
         "offsetgroup": "DEN",
         "orientation": "h",
         "showlegend": false,
         "textposition": "auto",
         "type": "bar",
         "x": [
          10
         ],
         "xaxis": "x",
         "y": [
          "DEN"
         ],
         "yaxis": "y"
        },
        {
         "alignmentgroup": "True",
         "hovertemplate": "team=%{y}<br>times_picked=%{x}<extra></extra>",
         "legendgroup": "CIN",
         "marker": {
          "color": "#FB4F14",
          "pattern": {
           "shape": ""
          }
         },
         "name": "CIN",
         "offsetgroup": "CIN",
         "orientation": "h",
         "showlegend": false,
         "textposition": "auto",
         "type": "bar",
         "x": [
          10
         ],
         "xaxis": "x",
         "y": [
          "CIN"
         ],
         "yaxis": "y"
        },
        {
         "alignmentgroup": "True",
         "hovertemplate": "team=%{y}<br>times_picked=%{x}<extra></extra>",
         "legendgroup": "GB",
         "marker": {
          "color": "#203731",
          "pattern": {
           "shape": ""
          }
         },
         "name": "GB",
         "offsetgroup": "GB",
         "orientation": "h",
         "showlegend": false,
         "textposition": "auto",
         "type": "bar",
         "x": [
          9
         ],
         "xaxis": "x",
         "y": [
          "GB"
         ],
         "yaxis": "y"
        },
        {
         "alignmentgroup": "True",
         "hovertemplate": "team=%{y}<br>times_picked=%{x}<extra></extra>",
         "legendgroup": "KC",
         "marker": {
          "color": "#E31837",
          "pattern": {
           "shape": ""
          }
         },
         "name": "KC",
         "offsetgroup": "KC",
         "orientation": "h",
         "showlegend": false,
         "textposition": "auto",
         "type": "bar",
         "x": [
          9
         ],
         "xaxis": "x",
         "y": [
          "KC"
         ],
         "yaxis": "y"
        },
        {
         "alignmentgroup": "True",
         "hovertemplate": "team=%{y}<br>times_picked=%{x}<extra></extra>",
         "legendgroup": "TEN",
         "marker": {
          "color": "#4B92DB",
          "pattern": {
           "shape": ""
          }
         },
         "name": "TEN",
         "offsetgroup": "TEN",
         "orientation": "h",
         "showlegend": false,
         "textposition": "auto",
         "type": "bar",
         "x": [
          8
         ],
         "xaxis": "x",
         "y": [
          "TEN"
         ],
         "yaxis": "y"
        },
        {
         "alignmentgroup": "True",
         "hovertemplate": "team=%{y}<br>times_picked=%{x}<extra></extra>",
         "legendgroup": "NO",
         "marker": {
          "color": "#D3BC8D",
          "pattern": {
           "shape": ""
          }
         },
         "name": "NO",
         "offsetgroup": "NO",
         "orientation": "h",
         "showlegend": false,
         "textposition": "auto",
         "type": "bar",
         "x": [
          8
         ],
         "xaxis": "x",
         "y": [
          "NO"
         ],
         "yaxis": "y"
        },
        {
         "alignmentgroup": "True",
         "hovertemplate": "team=%{y}<br>times_picked=%{x}<extra></extra>",
         "legendgroup": "CAR",
         "marker": {
          "color": "#0085CA",
          "pattern": {
           "shape": ""
          }
         },
         "name": "CAR",
         "offsetgroup": "CAR",
         "orientation": "h",
         "showlegend": false,
         "textposition": "auto",
         "type": "bar",
         "x": [
          8
         ],
         "xaxis": "x",
         "y": [
          "CAR"
         ],
         "yaxis": "y"
        },
        {
         "alignmentgroup": "True",
         "hovertemplate": "team=%{y}<br>times_picked=%{x}<extra></extra>",
         "legendgroup": "ATL",
         "marker": {
          "color": "#A71930",
          "pattern": {
           "shape": ""
          }
         },
         "name": "ATL",
         "offsetgroup": "ATL",
         "orientation": "h",
         "showlegend": false,
         "textposition": "auto",
         "type": "bar",
         "x": [
          8
         ],
         "xaxis": "x",
         "y": [
          "ATL"
         ],
         "yaxis": "y"
        },
        {
         "alignmentgroup": "True",
         "hovertemplate": "team=%{y}<br>times_picked=%{x}<extra></extra>",
         "legendgroup": "ARI",
         "marker": {
          "color": "#97233F",
          "pattern": {
           "shape": ""
          }
         },
         "name": "ARI",
         "offsetgroup": "ARI",
         "orientation": "h",
         "showlegend": false,
         "textposition": "auto",
         "type": "bar",
         "x": [
          8
         ],
         "xaxis": "x",
         "y": [
          "ARI"
         ],
         "yaxis": "y"
        },
        {
         "alignmentgroup": "True",
         "hovertemplate": "team=%{y}<br>times_picked=%{x}<extra></extra>",
         "legendgroup": "NYG",
         "marker": {
          "color": "#0B2265",
          "pattern": {
           "shape": ""
          }
         },
         "name": "NYG",
         "offsetgroup": "NYG",
         "orientation": "h",
         "showlegend": false,
         "textposition": "auto",
         "type": "bar",
         "x": [
          7
         ],
         "xaxis": "x",
         "y": [
          "NYG"
         ],
         "yaxis": "y"
        },
        {
         "alignmentgroup": "True",
         "hovertemplate": "team=%{y}<br>times_picked=%{x}<extra></extra>",
         "legendgroup": "BUF",
         "marker": {
          "color": "#00338D",
          "pattern": {
           "shape": ""
          }
         },
         "name": "BUF",
         "offsetgroup": "BUF",
         "orientation": "h",
         "showlegend": false,
         "textposition": "auto",
         "type": "bar",
         "x": [
          7
         ],
         "xaxis": "x",
         "y": [
          "BUF"
         ],
         "yaxis": "y"
        },
        {
         "alignmentgroup": "True",
         "hovertemplate": "team=%{y}<br>times_picked=%{x}<extra></extra>",
         "legendgroup": "SEA",
         "marker": {
          "color": "#69be28",
          "pattern": {
           "shape": ""
          }
         },
         "name": "SEA",
         "offsetgroup": "SEA",
         "orientation": "h",
         "showlegend": false,
         "textposition": "auto",
         "type": "bar",
         "x": [
          7
         ],
         "xaxis": "x",
         "y": [
          "SEA"
         ],
         "yaxis": "y"
        },
        {
         "alignmentgroup": "True",
         "hovertemplate": "team=%{y}<br>times_picked=%{x}<extra></extra>",
         "legendgroup": "SF",
         "marker": {
          "color": "#B3995D",
          "pattern": {
           "shape": ""
          }
         },
         "name": "SF",
         "offsetgroup": "SF",
         "orientation": "h",
         "showlegend": false,
         "textposition": "auto",
         "type": "bar",
         "x": [
          6
         ],
         "xaxis": "x",
         "y": [
          "SF"
         ],
         "yaxis": "y"
        },
        {
         "alignmentgroup": "True",
         "hovertemplate": "team=%{y}<br>times_picked=%{x}<extra></extra>",
         "legendgroup": "TB",
         "marker": {
          "color": "#A71930",
          "pattern": {
           "shape": ""
          }
         },
         "name": "TB",
         "offsetgroup": "TB",
         "orientation": "h",
         "showlegend": false,
         "textposition": "auto",
         "type": "bar",
         "x": [
          6
         ],
         "xaxis": "x",
         "y": [
          "TB"
         ],
         "yaxis": "y"
        },
        {
         "alignmentgroup": "True",
         "hovertemplate": "team=%{y}<br>times_picked=%{x}<extra></extra>",
         "legendgroup": "LV",
         "marker": {
          "color": "#000000",
          "pattern": {
           "shape": ""
          }
         },
         "name": "LV",
         "offsetgroup": "LV",
         "orientation": "h",
         "showlegend": false,
         "textposition": "auto",
         "type": "bar",
         "x": [
          5
         ],
         "xaxis": "x",
         "y": [
          "LV"
         ],
         "yaxis": "y"
        },
        {
         "alignmentgroup": "True",
         "hovertemplate": "team=%{y}<br>times_picked=%{x}<extra></extra>",
         "legendgroup": "MIA",
         "marker": {
          "color": "#008E97",
          "pattern": {
           "shape": ""
          }
         },
         "name": "MIA",
         "offsetgroup": "MIA",
         "orientation": "h",
         "showlegend": false,
         "textposition": "auto",
         "type": "bar",
         "x": [
          5
         ],
         "xaxis": "x",
         "y": [
          "MIA"
         ],
         "yaxis": "y"
        },
        {
         "alignmentgroup": "True",
         "hovertemplate": "team=%{y}<br>times_picked=%{x}<extra></extra>",
         "legendgroup": "JAX",
         "marker": {
          "color": "#006778",
          "pattern": {
           "shape": ""
          }
         },
         "name": "JAX",
         "offsetgroup": "JAX",
         "orientation": "h",
         "showlegend": false,
         "textposition": "auto",
         "type": "bar",
         "x": [
          5
         ],
         "xaxis": "x",
         "y": [
          "JAX"
         ],
         "yaxis": "y"
        },
        {
         "alignmentgroup": "True",
         "hovertemplate": "team=%{y}<br>times_picked=%{x}<extra></extra>",
         "legendgroup": "NYJ",
         "marker": {
          "color": "#003F2D",
          "pattern": {
           "shape": ""
          }
         },
         "name": "NYJ",
         "offsetgroup": "NYJ",
         "orientation": "h",
         "showlegend": false,
         "textposition": "auto",
         "type": "bar",
         "x": [
          5
         ],
         "xaxis": "x",
         "y": [
          "NYJ"
         ],
         "yaxis": "y"
        },
        {
         "alignmentgroup": "True",
         "hovertemplate": "team=%{y}<br>times_picked=%{x}<extra></extra>",
         "legendgroup": "DET",
         "marker": {
          "color": "#0076B6",
          "pattern": {
           "shape": ""
          }
         },
         "name": "DET",
         "offsetgroup": "DET",
         "orientation": "h",
         "showlegend": false,
         "textposition": "auto",
         "type": "bar",
         "x": [
          3
         ],
         "xaxis": "x",
         "y": [
          "DET"
         ],
         "yaxis": "y"
        },
        {
         "alignmentgroup": "True",
         "hovertemplate": "team=%{y}<br>times_picked=%{x}<extra></extra>",
         "legendgroup": "HOU",
         "marker": {
          "color": "#03202F",
          "pattern": {
           "shape": ""
          }
         },
         "name": "HOU",
         "offsetgroup": "HOU",
         "orientation": "h",
         "showlegend": false,
         "textposition": "auto",
         "type": "bar",
         "x": [
          2
         ],
         "xaxis": "x",
         "y": [
          "HOU"
         ],
         "yaxis": "y"
        },
        {
         "alignmentgroup": "True",
         "hovertemplate": "team=%{y}<br>times_picked=%{x}<extra></extra>",
         "legendgroup": "PIT",
         "marker": {
          "color": "#000000",
          "pattern": {
           "shape": ""
          }
         },
         "name": "PIT",
         "offsetgroup": "PIT",
         "orientation": "h",
         "showlegend": false,
         "textposition": "auto",
         "type": "bar",
         "x": [
          2
         ],
         "xaxis": "x",
         "y": [
          "PIT"
         ],
         "yaxis": "y"
        },
        {
         "marker": {
          "color": [
           "#5A1414",
           "#4F2683",
           "#007BC7",
           "#004C54",
           "#241773",
           "#002244",
           "#E64100",
           "#FF3C00",
           "#002244",
           "#002C5F",
           "#003594",
           "#FB4F14",
           "#FB4F14",
           "#203731",
           "#E31837",
           "#4B92DB",
           "#D3BC8D",
           "#0085CA",
           "#A71930",
           "#97233F",
           "#0B2265",
           "#00338D",
           "#69be28",
           "#B3995D",
           "#A71930",
           "#000000",
           "#008E97",
           "#006778",
           "#003F2D",
           "#0076B6",
           "#03202F",
           "#000000"
          ]
         },
         "opacity": 0.5,
         "orientation": "h",
         "showlegend": false,
         "type": "bar",
         "x": [
          4,
          0,
          1,
          2,
          2,
          2,
          1,
          1,
          3,
          0,
          1,
          1,
          3,
          4,
          0,
          0,
          0,
          0,
          3,
          1,
          1,
          2,
          0,
          2,
          0,
          1,
          1,
          0,
          2,
          0,
          0,
          0
         ],
         "y": [
          "WAS",
          "MIN",
          "LAC",
          "PHI",
          "BAL",
          "NE",
          "CHI",
          "CLE",
          "DAL",
          "IND",
          "LA",
          "DEN",
          "CIN",
          "GB",
          "KC",
          "TEN",
          "NO",
          "CAR",
          "ATL",
          "ARI",
          "NYG",
          "BUF",
          "SEA",
          "SF",
          "TB",
          "LV",
          "MIA",
          "JAX",
          "NYJ",
          "DET",
          "HOU",
          "PIT"
         ]
        }
       ],
       "layout": {
        "barmode": "relative",
        "height": 1000,
        "images": [
         {
          "opacity": 1,
          "sizex": 1.25,
          "sizey": 1.25,
          "sizing": "contain",
          "source": "https://a.espncdn.com/i/teamlogos/nfl/500/WAS.png",
          "x": 26,
          "xanchor": "center",
          "xref": "x",
          "y": "WAS",
          "yanchor": "middle",
          "yref": "y"
         },
         {
          "opacity": 1,
          "sizex": 1.25,
          "sizey": 1.25,
          "sizing": "contain",
          "source": "https://a.espncdn.com/i/teamlogos/nfl/500/MIN.png",
          "x": 14,
          "xanchor": "center",
          "xref": "x",
          "y": "MIN",
          "yanchor": "middle",
          "yref": "y"
         },
         {
          "opacity": 1,
          "sizex": 1.25,
          "sizey": 1.25,
          "sizing": "contain",
          "source": "https://a.espncdn.com/i/teamlogos/nfl/500/LAC.png",
          "x": 14,
          "xanchor": "center",
          "xref": "x",
          "y": "LAC",
          "yanchor": "middle",
          "yref": "y"
         },
         {
          "opacity": 1,
          "sizex": 1.25,
          "sizey": 1.25,
          "sizing": "contain",
          "source": "https://a.espncdn.com/i/teamlogos/nfl/500/PHI.png",
          "x": 14,
          "xanchor": "center",
          "xref": "x",
          "y": "PHI",
          "yanchor": "middle",
          "yref": "y"
         },
         {
          "opacity": 1,
          "sizex": 1.25,
          "sizey": 1.25,
          "sizing": "contain",
          "source": "https://a.espncdn.com/i/teamlogos/nfl/500/BAL.png",
          "x": 13,
          "xanchor": "center",
          "xref": "x",
          "y": "BAL",
          "yanchor": "middle",
          "yref": "y"
         },
         {
          "opacity": 1,
          "sizex": 1.25,
          "sizey": 1.25,
          "sizing": "contain",
          "source": "https://a.espncdn.com/i/teamlogos/nfl/500/NE.png",
          "x": 13,
          "xanchor": "center",
          "xref": "x",
          "y": "NE",
          "yanchor": "middle",
          "yref": "y"
         },
         {
          "opacity": 1,
          "sizex": 1.25,
          "sizey": 1.25,
          "sizing": "contain",
          "source": "https://a.espncdn.com/i/teamlogos/nfl/500/CHI.png",
          "x": 12,
          "xanchor": "center",
          "xref": "x",
          "y": "CHI",
          "yanchor": "middle",
          "yref": "y"
         },
         {
          "opacity": 1,
          "sizex": 1.25,
          "sizey": 1.25,
          "sizing": "contain",
          "source": "https://a.espncdn.com/i/teamlogos/nfl/500/CLE.png",
          "x": 12,
          "xanchor": "center",
          "xref": "x",
          "y": "CLE",
          "yanchor": "middle",
          "yref": "y"
         },
         {
          "opacity": 1,
          "sizex": 1.25,
          "sizey": 1.25,
          "sizing": "contain",
          "source": "https://a.espncdn.com/i/teamlogos/nfl/500/DAL.png",
          "x": 14,
          "xanchor": "center",
          "xref": "x",
          "y": "DAL",
          "yanchor": "middle",
          "yref": "y"
         },
         {
          "opacity": 1,
          "sizex": 1.25,
          "sizey": 1.25,
          "sizing": "contain",
          "source": "https://a.espncdn.com/i/teamlogos/nfl/500/IND.png",
          "x": 10,
          "xanchor": "center",
          "xref": "x",
          "y": "IND",
          "yanchor": "middle",
          "yref": "y"
         },
         {
          "opacity": 1,
          "sizex": 1.25,
          "sizey": 1.25,
          "sizing": "contain",
          "source": "https://a.espncdn.com/i/teamlogos/nfl/500/LA.png",
          "x": 11,
          "xanchor": "center",
          "xref": "x",
          "y": "LA",
          "yanchor": "middle",
          "yref": "y"
         },
         {
          "opacity": 1,
          "sizex": 1.25,
          "sizey": 1.25,
          "sizing": "contain",
          "source": "https://a.espncdn.com/i/teamlogos/nfl/500/DEN.png",
          "x": 11,
          "xanchor": "center",
          "xref": "x",
          "y": "DEN",
          "yanchor": "middle",
          "yref": "y"
         },
         {
          "opacity": 1,
          "sizex": 1.25,
          "sizey": 1.25,
          "sizing": "contain",
          "source": "https://a.espncdn.com/i/teamlogos/nfl/500/CIN.png",
          "x": 13,
          "xanchor": "center",
          "xref": "x",
          "y": "CIN",
          "yanchor": "middle",
          "yref": "y"
         },
         {
          "opacity": 1,
          "sizex": 1.25,
          "sizey": 1.25,
          "sizing": "contain",
          "source": "https://a.espncdn.com/i/teamlogos/nfl/500/GB.png",
          "x": 13,
          "xanchor": "center",
          "xref": "x",
          "y": "GB",
          "yanchor": "middle",
          "yref": "y"
         },
         {
          "opacity": 1,
          "sizex": 1.25,
          "sizey": 1.25,
          "sizing": "contain",
          "source": "https://a.espncdn.com/i/teamlogos/nfl/500/KC.png",
          "x": 9,
          "xanchor": "center",
          "xref": "x",
          "y": "KC",
          "yanchor": "middle",
          "yref": "y"
         },
         {
          "opacity": 1,
          "sizex": 1.25,
          "sizey": 1.25,
          "sizing": "contain",
          "source": "https://a.espncdn.com/i/teamlogos/nfl/500/TEN.png",
          "x": 8,
          "xanchor": "center",
          "xref": "x",
          "y": "TEN",
          "yanchor": "middle",
          "yref": "y"
         },
         {
          "opacity": 1,
          "sizex": 1.25,
          "sizey": 1.25,
          "sizing": "contain",
          "source": "https://a.espncdn.com/i/teamlogos/nfl/500/NO.png",
          "x": 8,
          "xanchor": "center",
          "xref": "x",
          "y": "NO",
          "yanchor": "middle",
          "yref": "y"
         },
         {
          "opacity": 1,
          "sizex": 1.25,
          "sizey": 1.25,
          "sizing": "contain",
          "source": "https://a.espncdn.com/i/teamlogos/nfl/500/CAR.png",
          "x": 8,
          "xanchor": "center",
          "xref": "x",
          "y": "CAR",
          "yanchor": "middle",
          "yref": "y"
         },
         {
          "opacity": 1,
          "sizex": 1.25,
          "sizey": 1.25,
          "sizing": "contain",
          "source": "https://a.espncdn.com/i/teamlogos/nfl/500/ATL.png",
          "x": 11,
          "xanchor": "center",
          "xref": "x",
          "y": "ATL",
          "yanchor": "middle",
          "yref": "y"
         },
         {
          "opacity": 1,
          "sizex": 1.25,
          "sizey": 1.25,
          "sizing": "contain",
          "source": "https://a.espncdn.com/i/teamlogos/nfl/500/ARI.png",
          "x": 9,
          "xanchor": "center",
          "xref": "x",
          "y": "ARI",
          "yanchor": "middle",
          "yref": "y"
         },
         {
          "opacity": 1,
          "sizex": 1.25,
          "sizey": 1.25,
          "sizing": "contain",
          "source": "https://a.espncdn.com/i/teamlogos/nfl/500/NYG.png",
          "x": 8,
          "xanchor": "center",
          "xref": "x",
          "y": "NYG",
          "yanchor": "middle",
          "yref": "y"
         },
         {
          "opacity": 1,
          "sizex": 1.25,
          "sizey": 1.25,
          "sizing": "contain",
          "source": "https://a.espncdn.com/i/teamlogos/nfl/500/BUF.png",
          "x": 9,
          "xanchor": "center",
          "xref": "x",
          "y": "BUF",
          "yanchor": "middle",
          "yref": "y"
         },
         {
          "opacity": 1,
          "sizex": 1.25,
          "sizey": 1.25,
          "sizing": "contain",
          "source": "https://a.espncdn.com/i/teamlogos/nfl/500/SEA.png",
          "x": 7,
          "xanchor": "center",
          "xref": "x",
          "y": "SEA",
          "yanchor": "middle",
          "yref": "y"
         },
         {
          "opacity": 1,
          "sizex": 1.25,
          "sizey": 1.25,
          "sizing": "contain",
          "source": "https://a.espncdn.com/i/teamlogos/nfl/500/SF.png",
          "x": 8,
          "xanchor": "center",
          "xref": "x",
          "y": "SF",
          "yanchor": "middle",
          "yref": "y"
         },
         {
          "opacity": 1,
          "sizex": 1.25,
          "sizey": 1.25,
          "sizing": "contain",
          "source": "https://a.espncdn.com/i/teamlogos/nfl/500/TB.png",
          "x": 6,
          "xanchor": "center",
          "xref": "x",
          "y": "TB",
          "yanchor": "middle",
          "yref": "y"
         },
         {
          "opacity": 1,
          "sizex": 1.25,
          "sizey": 1.25,
          "sizing": "contain",
          "source": "https://a.espncdn.com/i/teamlogos/nfl/500/LV.png",
          "x": 6,
          "xanchor": "center",
          "xref": "x",
          "y": "LV",
          "yanchor": "middle",
          "yref": "y"
         },
         {
          "opacity": 1,
          "sizex": 1.25,
          "sizey": 1.25,
          "sizing": "contain",
          "source": "https://a.espncdn.com/i/teamlogos/nfl/500/MIA.png",
          "x": 6,
          "xanchor": "center",
          "xref": "x",
          "y": "MIA",
          "yanchor": "middle",
          "yref": "y"
         },
         {
          "opacity": 1,
          "sizex": 1.25,
          "sizey": 1.25,
          "sizing": "contain",
          "source": "https://a.espncdn.com/i/teamlogos/nfl/500/JAX.png",
          "x": 5,
          "xanchor": "center",
          "xref": "x",
          "y": "JAX",
          "yanchor": "middle",
          "yref": "y"
         },
         {
          "opacity": 1,
          "sizex": 1.25,
          "sizey": 1.25,
          "sizing": "contain",
          "source": "https://a.espncdn.com/i/teamlogos/nfl/500/NYJ.png",
          "x": 7,
          "xanchor": "center",
          "xref": "x",
          "y": "NYJ",
          "yanchor": "middle",
          "yref": "y"
         },
         {
          "opacity": 1,
          "sizex": 1.25,
          "sizey": 1.25,
          "sizing": "contain",
          "source": "https://a.espncdn.com/i/teamlogos/nfl/500/DET.png",
          "x": 3,
          "xanchor": "center",
          "xref": "x",
          "y": "DET",
          "yanchor": "middle",
          "yref": "y"
         },
         {
          "opacity": 1,
          "sizex": 1.25,
          "sizey": 1.25,
          "sizing": "contain",
          "source": "https://a.espncdn.com/i/teamlogos/nfl/500/HOU.png",
          "x": 2,
          "xanchor": "center",
          "xref": "x",
          "y": "HOU",
          "yanchor": "middle",
          "yref": "y"
         },
         {
          "opacity": 1,
          "sizex": 1.25,
          "sizey": 1.25,
          "sizing": "contain",
          "source": "https://a.espncdn.com/i/teamlogos/nfl/500/PIT.png",
          "x": 2,
          "xanchor": "center",
          "xref": "x",
          "y": "PIT",
          "yanchor": "middle",
          "yref": "y"
         }
        ],
        "legend": {
         "title": {
          "text": "team"
         },
         "tracegroupgap": 0
        },
        "margin": {
         "t": 60
        },
        "template": {
         "data": {
          "bar": [
           {
            "error_x": {
             "color": "#2a3f5f"
            },
            "error_y": {
             "color": "#2a3f5f"
            },
            "marker": {
             "line": {
              "color": "#E5ECF6",
              "width": 0.5
             },
             "pattern": {
              "fillmode": "overlay",
              "size": 10,
              "solidity": 0.2
             }
            },
            "type": "bar"
           }
          ],
          "barpolar": [
           {
            "marker": {
             "line": {
              "color": "#E5ECF6",
              "width": 0.5
             },
             "pattern": {
              "fillmode": "overlay",
              "size": 10,
              "solidity": 0.2
             }
            },
            "type": "barpolar"
           }
          ],
          "carpet": [
           {
            "aaxis": {
             "endlinecolor": "#2a3f5f",
             "gridcolor": "white",
             "linecolor": "white",
             "minorgridcolor": "white",
             "startlinecolor": "#2a3f5f"
            },
            "baxis": {
             "endlinecolor": "#2a3f5f",
             "gridcolor": "white",
             "linecolor": "white",
             "minorgridcolor": "white",
             "startlinecolor": "#2a3f5f"
            },
            "type": "carpet"
           }
          ],
          "choropleth": [
           {
            "colorbar": {
             "outlinewidth": 0,
             "ticks": ""
            },
            "type": "choropleth"
           }
          ],
          "contour": [
           {
            "colorbar": {
             "outlinewidth": 0,
             "ticks": ""
            },
            "colorscale": [
             [
              0,
              "#0d0887"
             ],
             [
              0.1111111111111111,
              "#46039f"
             ],
             [
              0.2222222222222222,
              "#7201a8"
             ],
             [
              0.3333333333333333,
              "#9c179e"
             ],
             [
              0.4444444444444444,
              "#bd3786"
             ],
             [
              0.5555555555555556,
              "#d8576b"
             ],
             [
              0.6666666666666666,
              "#ed7953"
             ],
             [
              0.7777777777777778,
              "#fb9f3a"
             ],
             [
              0.8888888888888888,
              "#fdca26"
             ],
             [
              1,
              "#f0f921"
             ]
            ],
            "type": "contour"
           }
          ],
          "contourcarpet": [
           {
            "colorbar": {
             "outlinewidth": 0,
             "ticks": ""
            },
            "type": "contourcarpet"
           }
          ],
          "heatmap": [
           {
            "colorbar": {
             "outlinewidth": 0,
             "ticks": ""
            },
            "colorscale": [
             [
              0,
              "#0d0887"
             ],
             [
              0.1111111111111111,
              "#46039f"
             ],
             [
              0.2222222222222222,
              "#7201a8"
             ],
             [
              0.3333333333333333,
              "#9c179e"
             ],
             [
              0.4444444444444444,
              "#bd3786"
             ],
             [
              0.5555555555555556,
              "#d8576b"
             ],
             [
              0.6666666666666666,
              "#ed7953"
             ],
             [
              0.7777777777777778,
              "#fb9f3a"
             ],
             [
              0.8888888888888888,
              "#fdca26"
             ],
             [
              1,
              "#f0f921"
             ]
            ],
            "type": "heatmap"
           }
          ],
          "heatmapgl": [
           {
            "colorbar": {
             "outlinewidth": 0,
             "ticks": ""
            },
            "colorscale": [
             [
              0,
              "#0d0887"
             ],
             [
              0.1111111111111111,
              "#46039f"
             ],
             [
              0.2222222222222222,
              "#7201a8"
             ],
             [
              0.3333333333333333,
              "#9c179e"
             ],
             [
              0.4444444444444444,
              "#bd3786"
             ],
             [
              0.5555555555555556,
              "#d8576b"
             ],
             [
              0.6666666666666666,
              "#ed7953"
             ],
             [
              0.7777777777777778,
              "#fb9f3a"
             ],
             [
              0.8888888888888888,
              "#fdca26"
             ],
             [
              1,
              "#f0f921"
             ]
            ],
            "type": "heatmapgl"
           }
          ],
          "histogram": [
           {
            "marker": {
             "pattern": {
              "fillmode": "overlay",
              "size": 10,
              "solidity": 0.2
             }
            },
            "type": "histogram"
           }
          ],
          "histogram2d": [
           {
            "colorbar": {
             "outlinewidth": 0,
             "ticks": ""
            },
            "colorscale": [
             [
              0,
              "#0d0887"
             ],
             [
              0.1111111111111111,
              "#46039f"
             ],
             [
              0.2222222222222222,
              "#7201a8"
             ],
             [
              0.3333333333333333,
              "#9c179e"
             ],
             [
              0.4444444444444444,
              "#bd3786"
             ],
             [
              0.5555555555555556,
              "#d8576b"
             ],
             [
              0.6666666666666666,
              "#ed7953"
             ],
             [
              0.7777777777777778,
              "#fb9f3a"
             ],
             [
              0.8888888888888888,
              "#fdca26"
             ],
             [
              1,
              "#f0f921"
             ]
            ],
            "type": "histogram2d"
           }
          ],
          "histogram2dcontour": [
           {
            "colorbar": {
             "outlinewidth": 0,
             "ticks": ""
            },
            "colorscale": [
             [
              0,
              "#0d0887"
             ],
             [
              0.1111111111111111,
              "#46039f"
             ],
             [
              0.2222222222222222,
              "#7201a8"
             ],
             [
              0.3333333333333333,
              "#9c179e"
             ],
             [
              0.4444444444444444,
              "#bd3786"
             ],
             [
              0.5555555555555556,
              "#d8576b"
             ],
             [
              0.6666666666666666,
              "#ed7953"
             ],
             [
              0.7777777777777778,
              "#fb9f3a"
             ],
             [
              0.8888888888888888,
              "#fdca26"
             ],
             [
              1,
              "#f0f921"
             ]
            ],
            "type": "histogram2dcontour"
           }
          ],
          "mesh3d": [
           {
            "colorbar": {
             "outlinewidth": 0,
             "ticks": ""
            },
            "type": "mesh3d"
           }
          ],
          "parcoords": [
           {
            "line": {
             "colorbar": {
              "outlinewidth": 0,
              "ticks": ""
             }
            },
            "type": "parcoords"
           }
          ],
          "pie": [
           {
            "automargin": true,
            "type": "pie"
           }
          ],
          "scatter": [
           {
            "fillpattern": {
             "fillmode": "overlay",
             "size": 10,
             "solidity": 0.2
            },
            "type": "scatter"
           }
          ],
          "scatter3d": [
           {
            "line": {
             "colorbar": {
              "outlinewidth": 0,
              "ticks": ""
             }
            },
            "marker": {
             "colorbar": {
              "outlinewidth": 0,
              "ticks": ""
             }
            },
            "type": "scatter3d"
           }
          ],
          "scattercarpet": [
           {
            "marker": {
             "colorbar": {
              "outlinewidth": 0,
              "ticks": ""
             }
            },
            "type": "scattercarpet"
           }
          ],
          "scattergeo": [
           {
            "marker": {
             "colorbar": {
              "outlinewidth": 0,
              "ticks": ""
             }
            },
            "type": "scattergeo"
           }
          ],
          "scattergl": [
           {
            "marker": {
             "colorbar": {
              "outlinewidth": 0,
              "ticks": ""
             }
            },
            "type": "scattergl"
           }
          ],
          "scattermapbox": [
           {
            "marker": {
             "colorbar": {
              "outlinewidth": 0,
              "ticks": ""
             }
            },
            "type": "scattermapbox"
           }
          ],
          "scatterpolar": [
           {
            "marker": {
             "colorbar": {
              "outlinewidth": 0,
              "ticks": ""
             }
            },
            "type": "scatterpolar"
           }
          ],
          "scatterpolargl": [
           {
            "marker": {
             "colorbar": {
              "outlinewidth": 0,
              "ticks": ""
             }
            },
            "type": "scatterpolargl"
           }
          ],
          "scatterternary": [
           {
            "marker": {
             "colorbar": {
              "outlinewidth": 0,
              "ticks": ""
             }
            },
            "type": "scatterternary"
           }
          ],
          "surface": [
           {
            "colorbar": {
             "outlinewidth": 0,
             "ticks": ""
            },
            "colorscale": [
             [
              0,
              "#0d0887"
             ],
             [
              0.1111111111111111,
              "#46039f"
             ],
             [
              0.2222222222222222,
              "#7201a8"
             ],
             [
              0.3333333333333333,
              "#9c179e"
             ],
             [
              0.4444444444444444,
              "#bd3786"
             ],
             [
              0.5555555555555556,
              "#d8576b"
             ],
             [
              0.6666666666666666,
              "#ed7953"
             ],
             [
              0.7777777777777778,
              "#fb9f3a"
             ],
             [
              0.8888888888888888,
              "#fdca26"
             ],
             [
              1,
              "#f0f921"
             ]
            ],
            "type": "surface"
           }
          ],
          "table": [
           {
            "cells": {
             "fill": {
              "color": "#EBF0F8"
             },
             "line": {
              "color": "white"
             }
            },
            "header": {
             "fill": {
              "color": "#C8D4E3"
             },
             "line": {
              "color": "white"
             }
            },
            "type": "table"
           }
          ]
         },
         "layout": {
          "annotationdefaults": {
           "arrowcolor": "#2a3f5f",
           "arrowhead": 0,
           "arrowwidth": 1
          },
          "autotypenumbers": "strict",
          "coloraxis": {
           "colorbar": {
            "outlinewidth": 0,
            "ticks": ""
           }
          },
          "colorscale": {
           "diverging": [
            [
             0,
             "#8e0152"
            ],
            [
             0.1,
             "#c51b7d"
            ],
            [
             0.2,
             "#de77ae"
            ],
            [
             0.3,
             "#f1b6da"
            ],
            [
             0.4,
             "#fde0ef"
            ],
            [
             0.5,
             "#f7f7f7"
            ],
            [
             0.6,
             "#e6f5d0"
            ],
            [
             0.7,
             "#b8e186"
            ],
            [
             0.8,
             "#7fbc41"
            ],
            [
             0.9,
             "#4d9221"
            ],
            [
             1,
             "#276419"
            ]
           ],
           "sequential": [
            [
             0,
             "#0d0887"
            ],
            [
             0.1111111111111111,
             "#46039f"
            ],
            [
             0.2222222222222222,
             "#7201a8"
            ],
            [
             0.3333333333333333,
             "#9c179e"
            ],
            [
             0.4444444444444444,
             "#bd3786"
            ],
            [
             0.5555555555555556,
             "#d8576b"
            ],
            [
             0.6666666666666666,
             "#ed7953"
            ],
            [
             0.7777777777777778,
             "#fb9f3a"
            ],
            [
             0.8888888888888888,
             "#fdca26"
            ],
            [
             1,
             "#f0f921"
            ]
           ],
           "sequentialminus": [
            [
             0,
             "#0d0887"
            ],
            [
             0.1111111111111111,
             "#46039f"
            ],
            [
             0.2222222222222222,
             "#7201a8"
            ],
            [
             0.3333333333333333,
             "#9c179e"
            ],
            [
             0.4444444444444444,
             "#bd3786"
            ],
            [
             0.5555555555555556,
             "#d8576b"
            ],
            [
             0.6666666666666666,
             "#ed7953"
            ],
            [
             0.7777777777777778,
             "#fb9f3a"
            ],
            [
             0.8888888888888888,
             "#fdca26"
            ],
            [
             1,
             "#f0f921"
            ]
           ]
          },
          "colorway": [
           "#636efa",
           "#EF553B",
           "#00cc96",
           "#ab63fa",
           "#FFA15A",
           "#19d3f3",
           "#FF6692",
           "#B6E880",
           "#FF97FF",
           "#FECB52"
          ],
          "font": {
           "color": "#2a3f5f"
          },
          "geo": {
           "bgcolor": "white",
           "lakecolor": "white",
           "landcolor": "#E5ECF6",
           "showlakes": true,
           "showland": true,
           "subunitcolor": "white"
          },
          "hoverlabel": {
           "align": "left"
          },
          "hovermode": "closest",
          "mapbox": {
           "style": "light"
          },
          "paper_bgcolor": "white",
          "plot_bgcolor": "#E5ECF6",
          "polar": {
           "angularaxis": {
            "gridcolor": "white",
            "linecolor": "white",
            "ticks": ""
           },
           "bgcolor": "#E5ECF6",
           "radialaxis": {
            "gridcolor": "white",
            "linecolor": "white",
            "ticks": ""
           }
          },
          "scene": {
           "xaxis": {
            "backgroundcolor": "#E5ECF6",
            "gridcolor": "white",
            "gridwidth": 2,
            "linecolor": "white",
            "showbackground": true,
            "ticks": "",
            "zerolinecolor": "white"
           },
           "yaxis": {
            "backgroundcolor": "#E5ECF6",
            "gridcolor": "white",
            "gridwidth": 2,
            "linecolor": "white",
            "showbackground": true,
            "ticks": "",
            "zerolinecolor": "white"
           },
           "zaxis": {
            "backgroundcolor": "#E5ECF6",
            "gridcolor": "white",
            "gridwidth": 2,
            "linecolor": "white",
            "showbackground": true,
            "ticks": "",
            "zerolinecolor": "white"
           }
          },
          "shapedefaults": {
           "line": {
            "color": "#2a3f5f"
           }
          },
          "ternary": {
           "aaxis": {
            "gridcolor": "white",
            "linecolor": "white",
            "ticks": ""
           },
           "baxis": {
            "gridcolor": "white",
            "linecolor": "white",
            "ticks": ""
           },
           "bgcolor": "#E5ECF6",
           "caxis": {
            "gridcolor": "white",
            "linecolor": "white",
            "ticks": ""
           }
          },
          "title": {
           "x": 0.05
          },
          "xaxis": {
           "automargin": true,
           "gridcolor": "white",
           "linecolor": "white",
           "ticks": "",
           "title": {
            "standoff": 15
           },
           "zerolinecolor": "white",
           "zerolinewidth": 2
          },
          "yaxis": {
           "automargin": true,
           "gridcolor": "white",
           "linecolor": "white",
           "ticks": "",
           "title": {
            "standoff": 15
           },
           "zerolinecolor": "white",
           "zerolinewidth": 2
          }
         }
        },
        "title": {
         "text": "Times Ben Picked a Team ATS"
        },
        "width": 800,
        "xaxis": {
         "anchor": "y",
         "domain": [
          0,
          1
         ],
         "title": {
          "text": "Times Picked ATS"
         }
        },
        "yaxis": {
         "anchor": "x",
         "categoryarray": [
          "PIT",
          "HOU",
          "DET",
          "NYJ",
          "JAX",
          "MIA",
          "LV",
          "TB",
          "SF",
          "SEA",
          "BUF",
          "NYG",
          "ARI",
          "ATL",
          "CAR",
          "NO",
          "TEN",
          "KC",
          "GB",
          "CIN",
          "DEN",
          "LA",
          "IND",
          "DAL",
          "CLE",
          "CHI",
          "NE",
          "BAL",
          "PHI",
          "LAC",
          "MIN",
          "WAS"
         ],
         "categoryorder": "total ascending",
         "domain": [
          0,
          1
         ],
         "title": {
          "text": "Teams"
         }
        }
       }
      }
     },
     "metadata": {},
     "output_type": "display_data"
    },
    {
     "data": {
      "application/vnd.plotly.v1+json": {
       "config": {
        "plotlyServerURL": "https://plot.ly"
       },
       "data": [
        {
         "alignmentgroup": "True",
         "hovertemplate": "team=%{y}<br>times_picked=%{x}<extra></extra>",
         "legendgroup": "CLE",
         "marker": {
          "color": "#FF3C00",
          "pattern": {
           "shape": ""
          }
         },
         "name": "CLE",
         "offsetgroup": "CLE",
         "orientation": "h",
         "showlegend": false,
         "textposition": "auto",
         "type": "bar",
         "x": [
          17
         ],
         "xaxis": "x",
         "y": [
          "CLE"
         ],
         "yaxis": "y"
        },
        {
         "alignmentgroup": "True",
         "hovertemplate": "team=%{y}<br>times_picked=%{x}<extra></extra>",
         "legendgroup": "GB",
         "marker": {
          "color": "#203731",
          "pattern": {
           "shape": ""
          }
         },
         "name": "GB",
         "offsetgroup": "GB",
         "orientation": "h",
         "showlegend": false,
         "textposition": "auto",
         "type": "bar",
         "x": [
          14
         ],
         "xaxis": "x",
         "y": [
          "GB"
         ],
         "yaxis": "y"
        },
        {
         "alignmentgroup": "True",
         "hovertemplate": "team=%{y}<br>times_picked=%{x}<extra></extra>",
         "legendgroup": "TEN",
         "marker": {
          "color": "#4B92DB",
          "pattern": {
           "shape": ""
          }
         },
         "name": "TEN",
         "offsetgroup": "TEN",
         "orientation": "h",
         "showlegend": false,
         "textposition": "auto",
         "type": "bar",
         "x": [
          14
         ],
         "xaxis": "x",
         "y": [
          "TEN"
         ],
         "yaxis": "y"
        },
        {
         "alignmentgroup": "True",
         "hovertemplate": "team=%{y}<br>times_picked=%{x}<extra></extra>",
         "legendgroup": "LA",
         "marker": {
          "color": "#003594",
          "pattern": {
           "shape": ""
          }
         },
         "name": "LA",
         "offsetgroup": "LA",
         "orientation": "h",
         "showlegend": false,
         "textposition": "auto",
         "type": "bar",
         "x": [
          13
         ],
         "xaxis": "x",
         "y": [
          "LA"
         ],
         "yaxis": "y"
        },
        {
         "alignmentgroup": "True",
         "hovertemplate": "team=%{y}<br>times_picked=%{x}<extra></extra>",
         "legendgroup": "SF",
         "marker": {
          "color": "#B3995D",
          "pattern": {
           "shape": ""
          }
         },
         "name": "SF",
         "offsetgroup": "SF",
         "orientation": "h",
         "showlegend": false,
         "textposition": "auto",
         "type": "bar",
         "x": [
          13
         ],
         "xaxis": "x",
         "y": [
          "SF"
         ],
         "yaxis": "y"
        },
        {
         "alignmentgroup": "True",
         "hovertemplate": "team=%{y}<br>times_picked=%{x}<extra></extra>",
         "legendgroup": "BUF",
         "marker": {
          "color": "#00338D",
          "pattern": {
           "shape": ""
          }
         },
         "name": "BUF",
         "offsetgroup": "BUF",
         "orientation": "h",
         "showlegend": false,
         "textposition": "auto",
         "type": "bar",
         "x": [
          12
         ],
         "xaxis": "x",
         "y": [
          "BUF"
         ],
         "yaxis": "y"
        },
        {
         "alignmentgroup": "True",
         "hovertemplate": "team=%{y}<br>times_picked=%{x}<extra></extra>",
         "legendgroup": "SEA",
         "marker": {
          "color": "#69be28",
          "pattern": {
           "shape": ""
          }
         },
         "name": "SEA",
         "offsetgroup": "SEA",
         "orientation": "h",
         "showlegend": false,
         "textposition": "auto",
         "type": "bar",
         "x": [
          12
         ],
         "xaxis": "x",
         "y": [
          "SEA"
         ],
         "yaxis": "y"
        },
        {
         "alignmentgroup": "True",
         "hovertemplate": "team=%{y}<br>times_picked=%{x}<extra></extra>",
         "legendgroup": "MIA",
         "marker": {
          "color": "#008E97",
          "pattern": {
           "shape": ""
          }
         },
         "name": "MIA",
         "offsetgroup": "MIA",
         "orientation": "h",
         "showlegend": false,
         "textposition": "auto",
         "type": "bar",
         "x": [
          12
         ],
         "xaxis": "x",
         "y": [
          "MIA"
         ],
         "yaxis": "y"
        },
        {
         "alignmentgroup": "True",
         "hovertemplate": "team=%{y}<br>times_picked=%{x}<extra></extra>",
         "legendgroup": "KC",
         "marker": {
          "color": "#E31837",
          "pattern": {
           "shape": ""
          }
         },
         "name": "KC",
         "offsetgroup": "KC",
         "orientation": "h",
         "showlegend": false,
         "textposition": "auto",
         "type": "bar",
         "x": [
          12
         ],
         "xaxis": "x",
         "y": [
          "KC"
         ],
         "yaxis": "y"
        },
        {
         "alignmentgroup": "True",
         "hovertemplate": "team=%{y}<br>times_picked=%{x}<extra></extra>",
         "legendgroup": "WAS",
         "marker": {
          "color": "#5A1414",
          "pattern": {
           "shape": ""
          }
         },
         "name": "WAS",
         "offsetgroup": "WAS",
         "orientation": "h",
         "showlegend": false,
         "textposition": "auto",
         "type": "bar",
         "x": [
          11
         ],
         "xaxis": "x",
         "y": [
          "WAS"
         ],
         "yaxis": "y"
        },
        {
         "alignmentgroup": "True",
         "hovertemplate": "team=%{y}<br>times_picked=%{x}<extra></extra>",
         "legendgroup": "CIN",
         "marker": {
          "color": "#FB4F14",
          "pattern": {
           "shape": ""
          }
         },
         "name": "CIN",
         "offsetgroup": "CIN",
         "orientation": "h",
         "showlegend": false,
         "textposition": "auto",
         "type": "bar",
         "x": [
          10
         ],
         "xaxis": "x",
         "y": [
          "CIN"
         ],
         "yaxis": "y"
        },
        {
         "alignmentgroup": "True",
         "hovertemplate": "team=%{y}<br>times_picked=%{x}<extra></extra>",
         "legendgroup": "NE",
         "marker": {
          "color": "#002244",
          "pattern": {
           "shape": ""
          }
         },
         "name": "NE",
         "offsetgroup": "NE",
         "orientation": "h",
         "showlegend": false,
         "textposition": "auto",
         "type": "bar",
         "x": [
          9
         ],
         "xaxis": "x",
         "y": [
          "NE"
         ],
         "yaxis": "y"
        },
        {
         "alignmentgroup": "True",
         "hovertemplate": "team=%{y}<br>times_picked=%{x}<extra></extra>",
         "legendgroup": "BAL",
         "marker": {
          "color": "#241773",
          "pattern": {
           "shape": ""
          }
         },
         "name": "BAL",
         "offsetgroup": "BAL",
         "orientation": "h",
         "showlegend": false,
         "textposition": "auto",
         "type": "bar",
         "x": [
          9
         ],
         "xaxis": "x",
         "y": [
          "BAL"
         ],
         "yaxis": "y"
        },
        {
         "alignmentgroup": "True",
         "hovertemplate": "team=%{y}<br>times_picked=%{x}<extra></extra>",
         "legendgroup": "LAC",
         "marker": {
          "color": "#007BC7",
          "pattern": {
           "shape": ""
          }
         },
         "name": "LAC",
         "offsetgroup": "LAC",
         "orientation": "h",
         "showlegend": false,
         "textposition": "auto",
         "type": "bar",
         "x": [
          9
         ],
         "xaxis": "x",
         "y": [
          "LAC"
         ],
         "yaxis": "y"
        },
        {
         "alignmentgroup": "True",
         "hovertemplate": "team=%{y}<br>times_picked=%{x}<extra></extra>",
         "legendgroup": "IND",
         "marker": {
          "color": "#002C5F",
          "pattern": {
           "shape": ""
          }
         },
         "name": "IND",
         "offsetgroup": "IND",
         "orientation": "h",
         "showlegend": false,
         "textposition": "auto",
         "type": "bar",
         "x": [
          8
         ],
         "xaxis": "x",
         "y": [
          "IND"
         ],
         "yaxis": "y"
        },
        {
         "alignmentgroup": "True",
         "hovertemplate": "team=%{y}<br>times_picked=%{x}<extra></extra>",
         "legendgroup": "DAL",
         "marker": {
          "color": "#002244",
          "pattern": {
           "shape": ""
          }
         },
         "name": "DAL",
         "offsetgroup": "DAL",
         "orientation": "h",
         "showlegend": false,
         "textposition": "auto",
         "type": "bar",
         "x": [
          8
         ],
         "xaxis": "x",
         "y": [
          "DAL"
         ],
         "yaxis": "y"
        },
        {
         "alignmentgroup": "True",
         "hovertemplate": "team=%{y}<br>times_picked=%{x}<extra></extra>",
         "legendgroup": "NYJ",
         "marker": {
          "color": "#003F2D",
          "pattern": {
           "shape": ""
          }
         },
         "name": "NYJ",
         "offsetgroup": "NYJ",
         "orientation": "h",
         "showlegend": false,
         "textposition": "auto",
         "type": "bar",
         "x": [
          8
         ],
         "xaxis": "x",
         "y": [
          "NYJ"
         ],
         "yaxis": "y"
        },
        {
         "alignmentgroup": "True",
         "hovertemplate": "team=%{y}<br>times_picked=%{x}<extra></extra>",
         "legendgroup": "MIN",
         "marker": {
          "color": "#4F2683",
          "pattern": {
           "shape": ""
          }
         },
         "name": "MIN",
         "offsetgroup": "MIN",
         "orientation": "h",
         "showlegend": false,
         "textposition": "auto",
         "type": "bar",
         "x": [
          8
         ],
         "xaxis": "x",
         "y": [
          "MIN"
         ],
         "yaxis": "y"
        },
        {
         "alignmentgroup": "True",
         "hovertemplate": "team=%{y}<br>times_picked=%{x}<extra></extra>",
         "legendgroup": "CHI",
         "marker": {
          "color": "#E64100",
          "pattern": {
           "shape": ""
          }
         },
         "name": "CHI",
         "offsetgroup": "CHI",
         "orientation": "h",
         "showlegend": false,
         "textposition": "auto",
         "type": "bar",
         "x": [
          7
         ],
         "xaxis": "x",
         "y": [
          "CHI"
         ],
         "yaxis": "y"
        },
        {
         "alignmentgroup": "True",
         "hovertemplate": "team=%{y}<br>times_picked=%{x}<extra></extra>",
         "legendgroup": "DET",
         "marker": {
          "color": "#0076B6",
          "pattern": {
           "shape": ""
          }
         },
         "name": "DET",
         "offsetgroup": "DET",
         "orientation": "h",
         "showlegend": false,
         "textposition": "auto",
         "type": "bar",
         "x": [
          7
         ],
         "xaxis": "x",
         "y": [
          "DET"
         ],
         "yaxis": "y"
        },
        {
         "alignmentgroup": "True",
         "hovertemplate": "team=%{y}<br>times_picked=%{x}<extra></extra>",
         "legendgroup": "JAX",
         "marker": {
          "color": "#006778",
          "pattern": {
           "shape": ""
          }
         },
         "name": "JAX",
         "offsetgroup": "JAX",
         "orientation": "h",
         "showlegend": false,
         "textposition": "auto",
         "type": "bar",
         "x": [
          7
         ],
         "xaxis": "x",
         "y": [
          "JAX"
         ],
         "yaxis": "y"
        },
        {
         "alignmentgroup": "True",
         "hovertemplate": "team=%{y}<br>times_picked=%{x}<extra></extra>",
         "legendgroup": "DEN",
         "marker": {
          "color": "#FB4F14",
          "pattern": {
           "shape": ""
          }
         },
         "name": "DEN",
         "offsetgroup": "DEN",
         "orientation": "h",
         "showlegend": false,
         "textposition": "auto",
         "type": "bar",
         "x": [
          6
         ],
         "xaxis": "x",
         "y": [
          "DEN"
         ],
         "yaxis": "y"
        },
        {
         "alignmentgroup": "True",
         "hovertemplate": "team=%{y}<br>times_picked=%{x}<extra></extra>",
         "legendgroup": "PIT",
         "marker": {
          "color": "#000000",
          "pattern": {
           "shape": ""
          }
         },
         "name": "PIT",
         "offsetgroup": "PIT",
         "orientation": "h",
         "showlegend": false,
         "textposition": "auto",
         "type": "bar",
         "x": [
          6
         ],
         "xaxis": "x",
         "y": [
          "PIT"
         ],
         "yaxis": "y"
        },
        {
         "alignmentgroup": "True",
         "hovertemplate": "team=%{y}<br>times_picked=%{x}<extra></extra>",
         "legendgroup": "TB",
         "marker": {
          "color": "#A71930",
          "pattern": {
           "shape": ""
          }
         },
         "name": "TB",
         "offsetgroup": "TB",
         "orientation": "h",
         "showlegend": false,
         "textposition": "auto",
         "type": "bar",
         "x": [
          6
         ],
         "xaxis": "x",
         "y": [
          "TB"
         ],
         "yaxis": "y"
        },
        {
         "alignmentgroup": "True",
         "hovertemplate": "team=%{y}<br>times_picked=%{x}<extra></extra>",
         "legendgroup": "LV",
         "marker": {
          "color": "#000000",
          "pattern": {
           "shape": ""
          }
         },
         "name": "LV",
         "offsetgroup": "LV",
         "orientation": "h",
         "showlegend": false,
         "textposition": "auto",
         "type": "bar",
         "x": [
          5
         ],
         "xaxis": "x",
         "y": [
          "LV"
         ],
         "yaxis": "y"
        },
        {
         "alignmentgroup": "True",
         "hovertemplate": "team=%{y}<br>times_picked=%{x}<extra></extra>",
         "legendgroup": "NO",
         "marker": {
          "color": "#D3BC8D",
          "pattern": {
           "shape": ""
          }
         },
         "name": "NO",
         "offsetgroup": "NO",
         "orientation": "h",
         "showlegend": false,
         "textposition": "auto",
         "type": "bar",
         "x": [
          5
         ],
         "xaxis": "x",
         "y": [
          "NO"
         ],
         "yaxis": "y"
        },
        {
         "alignmentgroup": "True",
         "hovertemplate": "team=%{y}<br>times_picked=%{x}<extra></extra>",
         "legendgroup": "NYG",
         "marker": {
          "color": "#0B2265",
          "pattern": {
           "shape": ""
          }
         },
         "name": "NYG",
         "offsetgroup": "NYG",
         "orientation": "h",
         "showlegend": false,
         "textposition": "auto",
         "type": "bar",
         "x": [
          5
         ],
         "xaxis": "x",
         "y": [
          "NYG"
         ],
         "yaxis": "y"
        },
        {
         "alignmentgroup": "True",
         "hovertemplate": "team=%{y}<br>times_picked=%{x}<extra></extra>",
         "legendgroup": "CAR",
         "marker": {
          "color": "#0085CA",
          "pattern": {
           "shape": ""
          }
         },
         "name": "CAR",
         "offsetgroup": "CAR",
         "orientation": "h",
         "showlegend": false,
         "textposition": "auto",
         "type": "bar",
         "x": [
          5
         ],
         "xaxis": "x",
         "y": [
          "CAR"
         ],
         "yaxis": "y"
        },
        {
         "alignmentgroup": "True",
         "hovertemplate": "team=%{y}<br>times_picked=%{x}<extra></extra>",
         "legendgroup": "PHI",
         "marker": {
          "color": "#004C54",
          "pattern": {
           "shape": ""
          }
         },
         "name": "PHI",
         "offsetgroup": "PHI",
         "orientation": "h",
         "showlegend": false,
         "textposition": "auto",
         "type": "bar",
         "x": [
          4
         ],
         "xaxis": "x",
         "y": [
          "PHI"
         ],
         "yaxis": "y"
        },
        {
         "alignmentgroup": "True",
         "hovertemplate": "team=%{y}<br>times_picked=%{x}<extra></extra>",
         "legendgroup": "ARI",
         "marker": {
          "color": "#97233F",
          "pattern": {
           "shape": ""
          }
         },
         "name": "ARI",
         "offsetgroup": "ARI",
         "orientation": "h",
         "showlegend": false,
         "textposition": "auto",
         "type": "bar",
         "x": [
          4
         ],
         "xaxis": "x",
         "y": [
          "ARI"
         ],
         "yaxis": "y"
        },
        {
         "alignmentgroup": "True",
         "hovertemplate": "team=%{y}<br>times_picked=%{x}<extra></extra>",
         "legendgroup": "ATL",
         "marker": {
          "color": "#A71930",
          "pattern": {
           "shape": ""
          }
         },
         "name": "ATL",
         "offsetgroup": "ATL",
         "orientation": "h",
         "showlegend": false,
         "textposition": "auto",
         "type": "bar",
         "x": [
          2
         ],
         "xaxis": "x",
         "y": [
          "ATL"
         ],
         "yaxis": "y"
        },
        {
         "alignmentgroup": "True",
         "hovertemplate": "team=%{y}<br>times_picked=%{x}<extra></extra>",
         "legendgroup": "HOU",
         "marker": {
          "color": "#03202F",
          "pattern": {
           "shape": ""
          }
         },
         "name": "HOU",
         "offsetgroup": "HOU",
         "orientation": "h",
         "showlegend": false,
         "textposition": "auto",
         "type": "bar",
         "x": [
          2
         ],
         "xaxis": "x",
         "y": [
          "HOU"
         ],
         "yaxis": "y"
        },
        {
         "marker": {
          "color": [
           "#FF3C00",
           "#203731",
           "#4B92DB",
           "#003594",
           "#B3995D",
           "#00338D",
           "#69be28",
           "#008E97",
           "#E31837",
           "#5A1414",
           "#FB4F14",
           "#002244",
           "#241773",
           "#007BC7",
           "#002C5F",
           "#002244",
           "#003F2D",
           "#4F2683",
           "#E64100",
           "#0076B6",
           "#006778",
           "#FB4F14",
           "#000000",
           "#A71930",
           "#000000",
           "#D3BC8D",
           "#0B2265",
           "#0085CA",
           "#004C54",
           "#97233F",
           "#A71930",
           "#03202F"
          ]
         },
         "opacity": 0.5,
         "orientation": "h",
         "showlegend": false,
         "type": "bar",
         "x": [
          3,
          3,
          2,
          1,
          5,
          2,
          3,
          4,
          2,
          2,
          2,
          1,
          0,
          2,
          0,
          0,
          0,
          1,
          0,
          0,
          1,
          0,
          1,
          0,
          0,
          0,
          1,
          0,
          1,
          1,
          1,
          0
         ],
         "y": [
          "CLE",
          "GB",
          "TEN",
          "LA",
          "SF",
          "BUF",
          "SEA",
          "MIA",
          "KC",
          "WAS",
          "CIN",
          "NE",
          "BAL",
          "LAC",
          "IND",
          "DAL",
          "NYJ",
          "MIN",
          "CHI",
          "DET",
          "JAX",
          "DEN",
          "PIT",
          "TB",
          "LV",
          "NO",
          "NYG",
          "CAR",
          "PHI",
          "ARI",
          "ATL",
          "HOU"
         ]
        }
       ],
       "layout": {
        "barmode": "relative",
        "height": 1000,
        "images": [
         {
          "opacity": 1,
          "sizex": 1.25,
          "sizey": 1.25,
          "sizing": "contain",
          "source": "https://a.espncdn.com/i/teamlogos/nfl/500/CLE.png",
          "x": 20,
          "xanchor": "center",
          "xref": "x",
          "y": "CLE",
          "yanchor": "middle",
          "yref": "y"
         },
         {
          "opacity": 1,
          "sizex": 1.25,
          "sizey": 1.25,
          "sizing": "contain",
          "source": "https://a.espncdn.com/i/teamlogos/nfl/500/GB.png",
          "x": 17,
          "xanchor": "center",
          "xref": "x",
          "y": "GB",
          "yanchor": "middle",
          "yref": "y"
         },
         {
          "opacity": 1,
          "sizex": 1.25,
          "sizey": 1.25,
          "sizing": "contain",
          "source": "https://a.espncdn.com/i/teamlogos/nfl/500/TEN.png",
          "x": 16,
          "xanchor": "center",
          "xref": "x",
          "y": "TEN",
          "yanchor": "middle",
          "yref": "y"
         },
         {
          "opacity": 1,
          "sizex": 1.25,
          "sizey": 1.25,
          "sizing": "contain",
          "source": "https://a.espncdn.com/i/teamlogos/nfl/500/LA.png",
          "x": 14,
          "xanchor": "center",
          "xref": "x",
          "y": "LA",
          "yanchor": "middle",
          "yref": "y"
         },
         {
          "opacity": 1,
          "sizex": 1.25,
          "sizey": 1.25,
          "sizing": "contain",
          "source": "https://a.espncdn.com/i/teamlogos/nfl/500/SF.png",
          "x": 18,
          "xanchor": "center",
          "xref": "x",
          "y": "SF",
          "yanchor": "middle",
          "yref": "y"
         },
         {
          "opacity": 1,
          "sizex": 1.25,
          "sizey": 1.25,
          "sizing": "contain",
          "source": "https://a.espncdn.com/i/teamlogos/nfl/500/BUF.png",
          "x": 14,
          "xanchor": "center",
          "xref": "x",
          "y": "BUF",
          "yanchor": "middle",
          "yref": "y"
         },
         {
          "opacity": 1,
          "sizex": 1.25,
          "sizey": 1.25,
          "sizing": "contain",
          "source": "https://a.espncdn.com/i/teamlogos/nfl/500/SEA.png",
          "x": 15,
          "xanchor": "center",
          "xref": "x",
          "y": "SEA",
          "yanchor": "middle",
          "yref": "y"
         },
         {
          "opacity": 1,
          "sizex": 1.25,
          "sizey": 1.25,
          "sizing": "contain",
          "source": "https://a.espncdn.com/i/teamlogos/nfl/500/MIA.png",
          "x": 16,
          "xanchor": "center",
          "xref": "x",
          "y": "MIA",
          "yanchor": "middle",
          "yref": "y"
         },
         {
          "opacity": 1,
          "sizex": 1.25,
          "sizey": 1.25,
          "sizing": "contain",
          "source": "https://a.espncdn.com/i/teamlogos/nfl/500/KC.png",
          "x": 14,
          "xanchor": "center",
          "xref": "x",
          "y": "KC",
          "yanchor": "middle",
          "yref": "y"
         },
         {
          "opacity": 1,
          "sizex": 1.25,
          "sizey": 1.25,
          "sizing": "contain",
          "source": "https://a.espncdn.com/i/teamlogos/nfl/500/WAS.png",
          "x": 13,
          "xanchor": "center",
          "xref": "x",
          "y": "WAS",
          "yanchor": "middle",
          "yref": "y"
         },
         {
          "opacity": 1,
          "sizex": 1.25,
          "sizey": 1.25,
          "sizing": "contain",
          "source": "https://a.espncdn.com/i/teamlogos/nfl/500/CIN.png",
          "x": 12,
          "xanchor": "center",
          "xref": "x",
          "y": "CIN",
          "yanchor": "middle",
          "yref": "y"
         },
         {
          "opacity": 1,
          "sizex": 1.25,
          "sizey": 1.25,
          "sizing": "contain",
          "source": "https://a.espncdn.com/i/teamlogos/nfl/500/NE.png",
          "x": 10,
          "xanchor": "center",
          "xref": "x",
          "y": "NE",
          "yanchor": "middle",
          "yref": "y"
         },
         {
          "opacity": 1,
          "sizex": 1.25,
          "sizey": 1.25,
          "sizing": "contain",
          "source": "https://a.espncdn.com/i/teamlogos/nfl/500/BAL.png",
          "x": 9,
          "xanchor": "center",
          "xref": "x",
          "y": "BAL",
          "yanchor": "middle",
          "yref": "y"
         },
         {
          "opacity": 1,
          "sizex": 1.25,
          "sizey": 1.25,
          "sizing": "contain",
          "source": "https://a.espncdn.com/i/teamlogos/nfl/500/LAC.png",
          "x": 11,
          "xanchor": "center",
          "xref": "x",
          "y": "LAC",
          "yanchor": "middle",
          "yref": "y"
         },
         {
          "opacity": 1,
          "sizex": 1.25,
          "sizey": 1.25,
          "sizing": "contain",
          "source": "https://a.espncdn.com/i/teamlogos/nfl/500/IND.png",
          "x": 8,
          "xanchor": "center",
          "xref": "x",
          "y": "IND",
          "yanchor": "middle",
          "yref": "y"
         },
         {
          "opacity": 1,
          "sizex": 1.25,
          "sizey": 1.25,
          "sizing": "contain",
          "source": "https://a.espncdn.com/i/teamlogos/nfl/500/DAL.png",
          "x": 8,
          "xanchor": "center",
          "xref": "x",
          "y": "DAL",
          "yanchor": "middle",
          "yref": "y"
         },
         {
          "opacity": 1,
          "sizex": 1.25,
          "sizey": 1.25,
          "sizing": "contain",
          "source": "https://a.espncdn.com/i/teamlogos/nfl/500/NYJ.png",
          "x": 8,
          "xanchor": "center",
          "xref": "x",
          "y": "NYJ",
          "yanchor": "middle",
          "yref": "y"
         },
         {
          "opacity": 1,
          "sizex": 1.25,
          "sizey": 1.25,
          "sizing": "contain",
          "source": "https://a.espncdn.com/i/teamlogos/nfl/500/MIN.png",
          "x": 9,
          "xanchor": "center",
          "xref": "x",
          "y": "MIN",
          "yanchor": "middle",
          "yref": "y"
         },
         {
          "opacity": 1,
          "sizex": 1.25,
          "sizey": 1.25,
          "sizing": "contain",
          "source": "https://a.espncdn.com/i/teamlogos/nfl/500/CHI.png",
          "x": 7,
          "xanchor": "center",
          "xref": "x",
          "y": "CHI",
          "yanchor": "middle",
          "yref": "y"
         },
         {
          "opacity": 1,
          "sizex": 1.25,
          "sizey": 1.25,
          "sizing": "contain",
          "source": "https://a.espncdn.com/i/teamlogos/nfl/500/DET.png",
          "x": 7,
          "xanchor": "center",
          "xref": "x",
          "y": "DET",
          "yanchor": "middle",
          "yref": "y"
         },
         {
          "opacity": 1,
          "sizex": 1.25,
          "sizey": 1.25,
          "sizing": "contain",
          "source": "https://a.espncdn.com/i/teamlogos/nfl/500/JAX.png",
          "x": 8,
          "xanchor": "center",
          "xref": "x",
          "y": "JAX",
          "yanchor": "middle",
          "yref": "y"
         },
         {
          "opacity": 1,
          "sizex": 1.25,
          "sizey": 1.25,
          "sizing": "contain",
          "source": "https://a.espncdn.com/i/teamlogos/nfl/500/DEN.png",
          "x": 6,
          "xanchor": "center",
          "xref": "x",
          "y": "DEN",
          "yanchor": "middle",
          "yref": "y"
         },
         {
          "opacity": 1,
          "sizex": 1.25,
          "sizey": 1.25,
          "sizing": "contain",
          "source": "https://a.espncdn.com/i/teamlogos/nfl/500/PIT.png",
          "x": 7,
          "xanchor": "center",
          "xref": "x",
          "y": "PIT",
          "yanchor": "middle",
          "yref": "y"
         },
         {
          "opacity": 1,
          "sizex": 1.25,
          "sizey": 1.25,
          "sizing": "contain",
          "source": "https://a.espncdn.com/i/teamlogos/nfl/500/TB.png",
          "x": 6,
          "xanchor": "center",
          "xref": "x",
          "y": "TB",
          "yanchor": "middle",
          "yref": "y"
         },
         {
          "opacity": 1,
          "sizex": 1.25,
          "sizey": 1.25,
          "sizing": "contain",
          "source": "https://a.espncdn.com/i/teamlogos/nfl/500/LV.png",
          "x": 5,
          "xanchor": "center",
          "xref": "x",
          "y": "LV",
          "yanchor": "middle",
          "yref": "y"
         },
         {
          "opacity": 1,
          "sizex": 1.25,
          "sizey": 1.25,
          "sizing": "contain",
          "source": "https://a.espncdn.com/i/teamlogos/nfl/500/NO.png",
          "x": 5,
          "xanchor": "center",
          "xref": "x",
          "y": "NO",
          "yanchor": "middle",
          "yref": "y"
         },
         {
          "opacity": 1,
          "sizex": 1.25,
          "sizey": 1.25,
          "sizing": "contain",
          "source": "https://a.espncdn.com/i/teamlogos/nfl/500/NYG.png",
          "x": 6,
          "xanchor": "center",
          "xref": "x",
          "y": "NYG",
          "yanchor": "middle",
          "yref": "y"
         },
         {
          "opacity": 1,
          "sizex": 1.25,
          "sizey": 1.25,
          "sizing": "contain",
          "source": "https://a.espncdn.com/i/teamlogos/nfl/500/CAR.png",
          "x": 5,
          "xanchor": "center",
          "xref": "x",
          "y": "CAR",
          "yanchor": "middle",
          "yref": "y"
         },
         {
          "opacity": 1,
          "sizex": 1.25,
          "sizey": 1.25,
          "sizing": "contain",
          "source": "https://a.espncdn.com/i/teamlogos/nfl/500/PHI.png",
          "x": 5,
          "xanchor": "center",
          "xref": "x",
          "y": "PHI",
          "yanchor": "middle",
          "yref": "y"
         },
         {
          "opacity": 1,
          "sizex": 1.25,
          "sizey": 1.25,
          "sizing": "contain",
          "source": "https://a.espncdn.com/i/teamlogos/nfl/500/ARI.png",
          "x": 5,
          "xanchor": "center",
          "xref": "x",
          "y": "ARI",
          "yanchor": "middle",
          "yref": "y"
         },
         {
          "opacity": 1,
          "sizex": 1.25,
          "sizey": 1.25,
          "sizing": "contain",
          "source": "https://a.espncdn.com/i/teamlogos/nfl/500/ATL.png",
          "x": 3,
          "xanchor": "center",
          "xref": "x",
          "y": "ATL",
          "yanchor": "middle",
          "yref": "y"
         },
         {
          "opacity": 1,
          "sizex": 1.25,
          "sizey": 1.25,
          "sizing": "contain",
          "source": "https://a.espncdn.com/i/teamlogos/nfl/500/HOU.png",
          "x": 2,
          "xanchor": "center",
          "xref": "x",
          "y": "HOU",
          "yanchor": "middle",
          "yref": "y"
         }
        ],
        "legend": {
         "title": {
          "text": "team"
         },
         "tracegroupgap": 0
        },
        "margin": {
         "t": 60
        },
        "template": {
         "data": {
          "bar": [
           {
            "error_x": {
             "color": "#2a3f5f"
            },
            "error_y": {
             "color": "#2a3f5f"
            },
            "marker": {
             "line": {
              "color": "#E5ECF6",
              "width": 0.5
             },
             "pattern": {
              "fillmode": "overlay",
              "size": 10,
              "solidity": 0.2
             }
            },
            "type": "bar"
           }
          ],
          "barpolar": [
           {
            "marker": {
             "line": {
              "color": "#E5ECF6",
              "width": 0.5
             },
             "pattern": {
              "fillmode": "overlay",
              "size": 10,
              "solidity": 0.2
             }
            },
            "type": "barpolar"
           }
          ],
          "carpet": [
           {
            "aaxis": {
             "endlinecolor": "#2a3f5f",
             "gridcolor": "white",
             "linecolor": "white",
             "minorgridcolor": "white",
             "startlinecolor": "#2a3f5f"
            },
            "baxis": {
             "endlinecolor": "#2a3f5f",
             "gridcolor": "white",
             "linecolor": "white",
             "minorgridcolor": "white",
             "startlinecolor": "#2a3f5f"
            },
            "type": "carpet"
           }
          ],
          "choropleth": [
           {
            "colorbar": {
             "outlinewidth": 0,
             "ticks": ""
            },
            "type": "choropleth"
           }
          ],
          "contour": [
           {
            "colorbar": {
             "outlinewidth": 0,
             "ticks": ""
            },
            "colorscale": [
             [
              0,
              "#0d0887"
             ],
             [
              0.1111111111111111,
              "#46039f"
             ],
             [
              0.2222222222222222,
              "#7201a8"
             ],
             [
              0.3333333333333333,
              "#9c179e"
             ],
             [
              0.4444444444444444,
              "#bd3786"
             ],
             [
              0.5555555555555556,
              "#d8576b"
             ],
             [
              0.6666666666666666,
              "#ed7953"
             ],
             [
              0.7777777777777778,
              "#fb9f3a"
             ],
             [
              0.8888888888888888,
              "#fdca26"
             ],
             [
              1,
              "#f0f921"
             ]
            ],
            "type": "contour"
           }
          ],
          "contourcarpet": [
           {
            "colorbar": {
             "outlinewidth": 0,
             "ticks": ""
            },
            "type": "contourcarpet"
           }
          ],
          "heatmap": [
           {
            "colorbar": {
             "outlinewidth": 0,
             "ticks": ""
            },
            "colorscale": [
             [
              0,
              "#0d0887"
             ],
             [
              0.1111111111111111,
              "#46039f"
             ],
             [
              0.2222222222222222,
              "#7201a8"
             ],
             [
              0.3333333333333333,
              "#9c179e"
             ],
             [
              0.4444444444444444,
              "#bd3786"
             ],
             [
              0.5555555555555556,
              "#d8576b"
             ],
             [
              0.6666666666666666,
              "#ed7953"
             ],
             [
              0.7777777777777778,
              "#fb9f3a"
             ],
             [
              0.8888888888888888,
              "#fdca26"
             ],
             [
              1,
              "#f0f921"
             ]
            ],
            "type": "heatmap"
           }
          ],
          "heatmapgl": [
           {
            "colorbar": {
             "outlinewidth": 0,
             "ticks": ""
            },
            "colorscale": [
             [
              0,
              "#0d0887"
             ],
             [
              0.1111111111111111,
              "#46039f"
             ],
             [
              0.2222222222222222,
              "#7201a8"
             ],
             [
              0.3333333333333333,
              "#9c179e"
             ],
             [
              0.4444444444444444,
              "#bd3786"
             ],
             [
              0.5555555555555556,
              "#d8576b"
             ],
             [
              0.6666666666666666,
              "#ed7953"
             ],
             [
              0.7777777777777778,
              "#fb9f3a"
             ],
             [
              0.8888888888888888,
              "#fdca26"
             ],
             [
              1,
              "#f0f921"
             ]
            ],
            "type": "heatmapgl"
           }
          ],
          "histogram": [
           {
            "marker": {
             "pattern": {
              "fillmode": "overlay",
              "size": 10,
              "solidity": 0.2
             }
            },
            "type": "histogram"
           }
          ],
          "histogram2d": [
           {
            "colorbar": {
             "outlinewidth": 0,
             "ticks": ""
            },
            "colorscale": [
             [
              0,
              "#0d0887"
             ],
             [
              0.1111111111111111,
              "#46039f"
             ],
             [
              0.2222222222222222,
              "#7201a8"
             ],
             [
              0.3333333333333333,
              "#9c179e"
             ],
             [
              0.4444444444444444,
              "#bd3786"
             ],
             [
              0.5555555555555556,
              "#d8576b"
             ],
             [
              0.6666666666666666,
              "#ed7953"
             ],
             [
              0.7777777777777778,
              "#fb9f3a"
             ],
             [
              0.8888888888888888,
              "#fdca26"
             ],
             [
              1,
              "#f0f921"
             ]
            ],
            "type": "histogram2d"
           }
          ],
          "histogram2dcontour": [
           {
            "colorbar": {
             "outlinewidth": 0,
             "ticks": ""
            },
            "colorscale": [
             [
              0,
              "#0d0887"
             ],
             [
              0.1111111111111111,
              "#46039f"
             ],
             [
              0.2222222222222222,
              "#7201a8"
             ],
             [
              0.3333333333333333,
              "#9c179e"
             ],
             [
              0.4444444444444444,
              "#bd3786"
             ],
             [
              0.5555555555555556,
              "#d8576b"
             ],
             [
              0.6666666666666666,
              "#ed7953"
             ],
             [
              0.7777777777777778,
              "#fb9f3a"
             ],
             [
              0.8888888888888888,
              "#fdca26"
             ],
             [
              1,
              "#f0f921"
             ]
            ],
            "type": "histogram2dcontour"
           }
          ],
          "mesh3d": [
           {
            "colorbar": {
             "outlinewidth": 0,
             "ticks": ""
            },
            "type": "mesh3d"
           }
          ],
          "parcoords": [
           {
            "line": {
             "colorbar": {
              "outlinewidth": 0,
              "ticks": ""
             }
            },
            "type": "parcoords"
           }
          ],
          "pie": [
           {
            "automargin": true,
            "type": "pie"
           }
          ],
          "scatter": [
           {
            "fillpattern": {
             "fillmode": "overlay",
             "size": 10,
             "solidity": 0.2
            },
            "type": "scatter"
           }
          ],
          "scatter3d": [
           {
            "line": {
             "colorbar": {
              "outlinewidth": 0,
              "ticks": ""
             }
            },
            "marker": {
             "colorbar": {
              "outlinewidth": 0,
              "ticks": ""
             }
            },
            "type": "scatter3d"
           }
          ],
          "scattercarpet": [
           {
            "marker": {
             "colorbar": {
              "outlinewidth": 0,
              "ticks": ""
             }
            },
            "type": "scattercarpet"
           }
          ],
          "scattergeo": [
           {
            "marker": {
             "colorbar": {
              "outlinewidth": 0,
              "ticks": ""
             }
            },
            "type": "scattergeo"
           }
          ],
          "scattergl": [
           {
            "marker": {
             "colorbar": {
              "outlinewidth": 0,
              "ticks": ""
             }
            },
            "type": "scattergl"
           }
          ],
          "scattermapbox": [
           {
            "marker": {
             "colorbar": {
              "outlinewidth": 0,
              "ticks": ""
             }
            },
            "type": "scattermapbox"
           }
          ],
          "scatterpolar": [
           {
            "marker": {
             "colorbar": {
              "outlinewidth": 0,
              "ticks": ""
             }
            },
            "type": "scatterpolar"
           }
          ],
          "scatterpolargl": [
           {
            "marker": {
             "colorbar": {
              "outlinewidth": 0,
              "ticks": ""
             }
            },
            "type": "scatterpolargl"
           }
          ],
          "scatterternary": [
           {
            "marker": {
             "colorbar": {
              "outlinewidth": 0,
              "ticks": ""
             }
            },
            "type": "scatterternary"
           }
          ],
          "surface": [
           {
            "colorbar": {
             "outlinewidth": 0,
             "ticks": ""
            },
            "colorscale": [
             [
              0,
              "#0d0887"
             ],
             [
              0.1111111111111111,
              "#46039f"
             ],
             [
              0.2222222222222222,
              "#7201a8"
             ],
             [
              0.3333333333333333,
              "#9c179e"
             ],
             [
              0.4444444444444444,
              "#bd3786"
             ],
             [
              0.5555555555555556,
              "#d8576b"
             ],
             [
              0.6666666666666666,
              "#ed7953"
             ],
             [
              0.7777777777777778,
              "#fb9f3a"
             ],
             [
              0.8888888888888888,
              "#fdca26"
             ],
             [
              1,
              "#f0f921"
             ]
            ],
            "type": "surface"
           }
          ],
          "table": [
           {
            "cells": {
             "fill": {
              "color": "#EBF0F8"
             },
             "line": {
              "color": "white"
             }
            },
            "header": {
             "fill": {
              "color": "#C8D4E3"
             },
             "line": {
              "color": "white"
             }
            },
            "type": "table"
           }
          ]
         },
         "layout": {
          "annotationdefaults": {
           "arrowcolor": "#2a3f5f",
           "arrowhead": 0,
           "arrowwidth": 1
          },
          "autotypenumbers": "strict",
          "coloraxis": {
           "colorbar": {
            "outlinewidth": 0,
            "ticks": ""
           }
          },
          "colorscale": {
           "diverging": [
            [
             0,
             "#8e0152"
            ],
            [
             0.1,
             "#c51b7d"
            ],
            [
             0.2,
             "#de77ae"
            ],
            [
             0.3,
             "#f1b6da"
            ],
            [
             0.4,
             "#fde0ef"
            ],
            [
             0.5,
             "#f7f7f7"
            ],
            [
             0.6,
             "#e6f5d0"
            ],
            [
             0.7,
             "#b8e186"
            ],
            [
             0.8,
             "#7fbc41"
            ],
            [
             0.9,
             "#4d9221"
            ],
            [
             1,
             "#276419"
            ]
           ],
           "sequential": [
            [
             0,
             "#0d0887"
            ],
            [
             0.1111111111111111,
             "#46039f"
            ],
            [
             0.2222222222222222,
             "#7201a8"
            ],
            [
             0.3333333333333333,
             "#9c179e"
            ],
            [
             0.4444444444444444,
             "#bd3786"
            ],
            [
             0.5555555555555556,
             "#d8576b"
            ],
            [
             0.6666666666666666,
             "#ed7953"
            ],
            [
             0.7777777777777778,
             "#fb9f3a"
            ],
            [
             0.8888888888888888,
             "#fdca26"
            ],
            [
             1,
             "#f0f921"
            ]
           ],
           "sequentialminus": [
            [
             0,
             "#0d0887"
            ],
            [
             0.1111111111111111,
             "#46039f"
            ],
            [
             0.2222222222222222,
             "#7201a8"
            ],
            [
             0.3333333333333333,
             "#9c179e"
            ],
            [
             0.4444444444444444,
             "#bd3786"
            ],
            [
             0.5555555555555556,
             "#d8576b"
            ],
            [
             0.6666666666666666,
             "#ed7953"
            ],
            [
             0.7777777777777778,
             "#fb9f3a"
            ],
            [
             0.8888888888888888,
             "#fdca26"
            ],
            [
             1,
             "#f0f921"
            ]
           ]
          },
          "colorway": [
           "#636efa",
           "#EF553B",
           "#00cc96",
           "#ab63fa",
           "#FFA15A",
           "#19d3f3",
           "#FF6692",
           "#B6E880",
           "#FF97FF",
           "#FECB52"
          ],
          "font": {
           "color": "#2a3f5f"
          },
          "geo": {
           "bgcolor": "white",
           "lakecolor": "white",
           "landcolor": "#E5ECF6",
           "showlakes": true,
           "showland": true,
           "subunitcolor": "white"
          },
          "hoverlabel": {
           "align": "left"
          },
          "hovermode": "closest",
          "mapbox": {
           "style": "light"
          },
          "paper_bgcolor": "white",
          "plot_bgcolor": "#E5ECF6",
          "polar": {
           "angularaxis": {
            "gridcolor": "white",
            "linecolor": "white",
            "ticks": ""
           },
           "bgcolor": "#E5ECF6",
           "radialaxis": {
            "gridcolor": "white",
            "linecolor": "white",
            "ticks": ""
           }
          },
          "scene": {
           "xaxis": {
            "backgroundcolor": "#E5ECF6",
            "gridcolor": "white",
            "gridwidth": 2,
            "linecolor": "white",
            "showbackground": true,
            "ticks": "",
            "zerolinecolor": "white"
           },
           "yaxis": {
            "backgroundcolor": "#E5ECF6",
            "gridcolor": "white",
            "gridwidth": 2,
            "linecolor": "white",
            "showbackground": true,
            "ticks": "",
            "zerolinecolor": "white"
           },
           "zaxis": {
            "backgroundcolor": "#E5ECF6",
            "gridcolor": "white",
            "gridwidth": 2,
            "linecolor": "white",
            "showbackground": true,
            "ticks": "",
            "zerolinecolor": "white"
           }
          },
          "shapedefaults": {
           "line": {
            "color": "#2a3f5f"
           }
          },
          "ternary": {
           "aaxis": {
            "gridcolor": "white",
            "linecolor": "white",
            "ticks": ""
           },
           "baxis": {
            "gridcolor": "white",
            "linecolor": "white",
            "ticks": ""
           },
           "bgcolor": "#E5ECF6",
           "caxis": {
            "gridcolor": "white",
            "linecolor": "white",
            "ticks": ""
           }
          },
          "title": {
           "x": 0.05
          },
          "xaxis": {
           "automargin": true,
           "gridcolor": "white",
           "linecolor": "white",
           "ticks": "",
           "title": {
            "standoff": 15
           },
           "zerolinecolor": "white",
           "zerolinewidth": 2
          },
          "yaxis": {
           "automargin": true,
           "gridcolor": "white",
           "linecolor": "white",
           "ticks": "",
           "title": {
            "standoff": 15
           },
           "zerolinecolor": "white",
           "zerolinewidth": 2
          }
         }
        },
        "title": {
         "text": "Times Hunter Picked a Team ATS"
        },
        "width": 800,
        "xaxis": {
         "anchor": "y",
         "domain": [
          0,
          1
         ],
         "title": {
          "text": "Times Picked ATS"
         }
        },
        "yaxis": {
         "anchor": "x",
         "categoryarray": [
          "HOU",
          "ATL",
          "ARI",
          "PHI",
          "CAR",
          "NYG",
          "NO",
          "LV",
          "TB",
          "PIT",
          "DEN",
          "JAX",
          "DET",
          "CHI",
          "MIN",
          "NYJ",
          "DAL",
          "IND",
          "LAC",
          "BAL",
          "NE",
          "CIN",
          "WAS",
          "KC",
          "MIA",
          "SEA",
          "BUF",
          "SF",
          "LA",
          "TEN",
          "GB",
          "CLE"
         ],
         "categoryorder": "total ascending",
         "domain": [
          0,
          1
         ],
         "title": {
          "text": "Teams"
         }
        }
       }
      }
     },
     "metadata": {},
     "output_type": "display_data"
    },
    {
     "data": {
      "application/vnd.plotly.v1+json": {
       "config": {
        "plotlyServerURL": "https://plot.ly"
       },
       "data": [
        {
         "alignmentgroup": "True",
         "hovertemplate": "team=%{y}<br>times_picked=%{x}<extra></extra>",
         "legendgroup": "CHI",
         "marker": {
          "color": "#E64100",
          "pattern": {
           "shape": ""
          }
         },
         "name": "CHI",
         "offsetgroup": "CHI",
         "orientation": "h",
         "showlegend": false,
         "textposition": "auto",
         "type": "bar",
         "x": [
          18
         ],
         "xaxis": "x",
         "y": [
          "CHI"
         ],
         "yaxis": "y"
        },
        {
         "alignmentgroup": "True",
         "hovertemplate": "team=%{y}<br>times_picked=%{x}<extra></extra>",
         "legendgroup": "LA",
         "marker": {
          "color": "#003594",
          "pattern": {
           "shape": ""
          }
         },
         "name": "LA",
         "offsetgroup": "LA",
         "orientation": "h",
         "showlegend": false,
         "textposition": "auto",
         "type": "bar",
         "x": [
          15
         ],
         "xaxis": "x",
         "y": [
          "LA"
         ],
         "yaxis": "y"
        },
        {
         "alignmentgroup": "True",
         "hovertemplate": "team=%{y}<br>times_picked=%{x}<extra></extra>",
         "legendgroup": "LAC",
         "marker": {
          "color": "#007BC7",
          "pattern": {
           "shape": ""
          }
         },
         "name": "LAC",
         "offsetgroup": "LAC",
         "orientation": "h",
         "showlegend": false,
         "textposition": "auto",
         "type": "bar",
         "x": [
          13
         ],
         "xaxis": "x",
         "y": [
          "LAC"
         ],
         "yaxis": "y"
        },
        {
         "alignmentgroup": "True",
         "hovertemplate": "team=%{y}<br>times_picked=%{x}<extra></extra>",
         "legendgroup": "KC",
         "marker": {
          "color": "#E31837",
          "pattern": {
           "shape": ""
          }
         },
         "name": "KC",
         "offsetgroup": "KC",
         "orientation": "h",
         "showlegend": false,
         "textposition": "auto",
         "type": "bar",
         "x": [
          12
         ],
         "xaxis": "x",
         "y": [
          "KC"
         ],
         "yaxis": "y"
        },
        {
         "alignmentgroup": "True",
         "hovertemplate": "team=%{y}<br>times_picked=%{x}<extra></extra>",
         "legendgroup": "GB",
         "marker": {
          "color": "#203731",
          "pattern": {
           "shape": ""
          }
         },
         "name": "GB",
         "offsetgroup": "GB",
         "orientation": "h",
         "showlegend": false,
         "textposition": "auto",
         "type": "bar",
         "x": [
          12
         ],
         "xaxis": "x",
         "y": [
          "GB"
         ],
         "yaxis": "y"
        },
        {
         "alignmentgroup": "True",
         "hovertemplate": "team=%{y}<br>times_picked=%{x}<extra></extra>",
         "legendgroup": "MIN",
         "marker": {
          "color": "#4F2683",
          "pattern": {
           "shape": ""
          }
         },
         "name": "MIN",
         "offsetgroup": "MIN",
         "orientation": "h",
         "showlegend": false,
         "textposition": "auto",
         "type": "bar",
         "x": [
          12
         ],
         "xaxis": "x",
         "y": [
          "MIN"
         ],
         "yaxis": "y"
        },
        {
         "alignmentgroup": "True",
         "hovertemplate": "team=%{y}<br>times_picked=%{x}<extra></extra>",
         "legendgroup": "NYJ",
         "marker": {
          "color": "#003F2D",
          "pattern": {
           "shape": ""
          }
         },
         "name": "NYJ",
         "offsetgroup": "NYJ",
         "orientation": "h",
         "showlegend": false,
         "textposition": "auto",
         "type": "bar",
         "x": [
          11
         ],
         "xaxis": "x",
         "y": [
          "NYJ"
         ],
         "yaxis": "y"
        },
        {
         "alignmentgroup": "True",
         "hovertemplate": "team=%{y}<br>times_picked=%{x}<extra></extra>",
         "legendgroup": "WAS",
         "marker": {
          "color": "#5A1414",
          "pattern": {
           "shape": ""
          }
         },
         "name": "WAS",
         "offsetgroup": "WAS",
         "orientation": "h",
         "showlegend": false,
         "textposition": "auto",
         "type": "bar",
         "x": [
          11
         ],
         "xaxis": "x",
         "y": [
          "WAS"
         ],
         "yaxis": "y"
        },
        {
         "alignmentgroup": "True",
         "hovertemplate": "team=%{y}<br>times_picked=%{x}<extra></extra>",
         "legendgroup": "BAL",
         "marker": {
          "color": "#241773",
          "pattern": {
           "shape": ""
          }
         },
         "name": "BAL",
         "offsetgroup": "BAL",
         "orientation": "h",
         "showlegend": false,
         "textposition": "auto",
         "type": "bar",
         "x": [
          11
         ],
         "xaxis": "x",
         "y": [
          "BAL"
         ],
         "yaxis": "y"
        },
        {
         "alignmentgroup": "True",
         "hovertemplate": "team=%{y}<br>times_picked=%{x}<extra></extra>",
         "legendgroup": "DET",
         "marker": {
          "color": "#0076B6",
          "pattern": {
           "shape": ""
          }
         },
         "name": "DET",
         "offsetgroup": "DET",
         "orientation": "h",
         "showlegend": false,
         "textposition": "auto",
         "type": "bar",
         "x": [
          10
         ],
         "xaxis": "x",
         "y": [
          "DET"
         ],
         "yaxis": "y"
        },
        {
         "alignmentgroup": "True",
         "hovertemplate": "team=%{y}<br>times_picked=%{x}<extra></extra>",
         "legendgroup": "TEN",
         "marker": {
          "color": "#4B92DB",
          "pattern": {
           "shape": ""
          }
         },
         "name": "TEN",
         "offsetgroup": "TEN",
         "orientation": "h",
         "showlegend": false,
         "textposition": "auto",
         "type": "bar",
         "x": [
          10
         ],
         "xaxis": "x",
         "y": [
          "TEN"
         ],
         "yaxis": "y"
        },
        {
         "alignmentgroup": "True",
         "hovertemplate": "team=%{y}<br>times_picked=%{x}<extra></extra>",
         "legendgroup": "PHI",
         "marker": {
          "color": "#004C54",
          "pattern": {
           "shape": ""
          }
         },
         "name": "PHI",
         "offsetgroup": "PHI",
         "orientation": "h",
         "showlegend": false,
         "textposition": "auto",
         "type": "bar",
         "x": [
          10
         ],
         "xaxis": "x",
         "y": [
          "PHI"
         ],
         "yaxis": "y"
        },
        {
         "alignmentgroup": "True",
         "hovertemplate": "team=%{y}<br>times_picked=%{x}<extra></extra>",
         "legendgroup": "CAR",
         "marker": {
          "color": "#0085CA",
          "pattern": {
           "shape": ""
          }
         },
         "name": "CAR",
         "offsetgroup": "CAR",
         "orientation": "h",
         "showlegend": false,
         "textposition": "auto",
         "type": "bar",
         "x": [
          9
         ],
         "xaxis": "x",
         "y": [
          "CAR"
         ],
         "yaxis": "y"
        },
        {
         "alignmentgroup": "True",
         "hovertemplate": "team=%{y}<br>times_picked=%{x}<extra></extra>",
         "legendgroup": "CLE",
         "marker": {
          "color": "#FF3C00",
          "pattern": {
           "shape": ""
          }
         },
         "name": "CLE",
         "offsetgroup": "CLE",
         "orientation": "h",
         "showlegend": false,
         "textposition": "auto",
         "type": "bar",
         "x": [
          9
         ],
         "xaxis": "x",
         "y": [
          "CLE"
         ],
         "yaxis": "y"
        },
        {
         "alignmentgroup": "True",
         "hovertemplate": "team=%{y}<br>times_picked=%{x}<extra></extra>",
         "legendgroup": "TB",
         "marker": {
          "color": "#A71930",
          "pattern": {
           "shape": ""
          }
         },
         "name": "TB",
         "offsetgroup": "TB",
         "orientation": "h",
         "showlegend": false,
         "textposition": "auto",
         "type": "bar",
         "x": [
          9
         ],
         "xaxis": "x",
         "y": [
          "TB"
         ],
         "yaxis": "y"
        },
        {
         "alignmentgroup": "True",
         "hovertemplate": "team=%{y}<br>times_picked=%{x}<extra></extra>",
         "legendgroup": "MIA",
         "marker": {
          "color": "#008E97",
          "pattern": {
           "shape": ""
          }
         },
         "name": "MIA",
         "offsetgroup": "MIA",
         "orientation": "h",
         "showlegend": false,
         "textposition": "auto",
         "type": "bar",
         "x": [
          8
         ],
         "xaxis": "x",
         "y": [
          "MIA"
         ],
         "yaxis": "y"
        },
        {
         "alignmentgroup": "True",
         "hovertemplate": "team=%{y}<br>times_picked=%{x}<extra></extra>",
         "legendgroup": "SEA",
         "marker": {
          "color": "#69be28",
          "pattern": {
           "shape": ""
          }
         },
         "name": "SEA",
         "offsetgroup": "SEA",
         "orientation": "h",
         "showlegend": false,
         "textposition": "auto",
         "type": "bar",
         "x": [
          8
         ],
         "xaxis": "x",
         "y": [
          "SEA"
         ],
         "yaxis": "y"
        },
        {
         "alignmentgroup": "True",
         "hovertemplate": "team=%{y}<br>times_picked=%{x}<extra></extra>",
         "legendgroup": "ARI",
         "marker": {
          "color": "#97233F",
          "pattern": {
           "shape": ""
          }
         },
         "name": "ARI",
         "offsetgroup": "ARI",
         "orientation": "h",
         "showlegend": false,
         "textposition": "auto",
         "type": "bar",
         "x": [
          8
         ],
         "xaxis": "x",
         "y": [
          "ARI"
         ],
         "yaxis": "y"
        },
        {
         "alignmentgroup": "True",
         "hovertemplate": "team=%{y}<br>times_picked=%{x}<extra></extra>",
         "legendgroup": "NO",
         "marker": {
          "color": "#D3BC8D",
          "pattern": {
           "shape": ""
          }
         },
         "name": "NO",
         "offsetgroup": "NO",
         "orientation": "h",
         "showlegend": false,
         "textposition": "auto",
         "type": "bar",
         "x": [
          7
         ],
         "xaxis": "x",
         "y": [
          "NO"
         ],
         "yaxis": "y"
        },
        {
         "alignmentgroup": "True",
         "hovertemplate": "team=%{y}<br>times_picked=%{x}<extra></extra>",
         "legendgroup": "NYG",
         "marker": {
          "color": "#0B2265",
          "pattern": {
           "shape": ""
          }
         },
         "name": "NYG",
         "offsetgroup": "NYG",
         "orientation": "h",
         "showlegend": false,
         "textposition": "auto",
         "type": "bar",
         "x": [
          7
         ],
         "xaxis": "x",
         "y": [
          "NYG"
         ],
         "yaxis": "y"
        },
        {
         "alignmentgroup": "True",
         "hovertemplate": "team=%{y}<br>times_picked=%{x}<extra></extra>",
         "legendgroup": "IND",
         "marker": {
          "color": "#002C5F",
          "pattern": {
           "shape": ""
          }
         },
         "name": "IND",
         "offsetgroup": "IND",
         "orientation": "h",
         "showlegend": false,
         "textposition": "auto",
         "type": "bar",
         "x": [
          7
         ],
         "xaxis": "x",
         "y": [
          "IND"
         ],
         "yaxis": "y"
        },
        {
         "alignmentgroup": "True",
         "hovertemplate": "team=%{y}<br>times_picked=%{x}<extra></extra>",
         "legendgroup": "DAL",
         "marker": {
          "color": "#002244",
          "pattern": {
           "shape": ""
          }
         },
         "name": "DAL",
         "offsetgroup": "DAL",
         "orientation": "h",
         "showlegend": false,
         "textposition": "auto",
         "type": "bar",
         "x": [
          7
         ],
         "xaxis": "x",
         "y": [
          "DAL"
         ],
         "yaxis": "y"
        },
        {
         "alignmentgroup": "True",
         "hovertemplate": "team=%{y}<br>times_picked=%{x}<extra></extra>",
         "legendgroup": "DEN",
         "marker": {
          "color": "#FB4F14",
          "pattern": {
           "shape": ""
          }
         },
         "name": "DEN",
         "offsetgroup": "DEN",
         "orientation": "h",
         "showlegend": false,
         "textposition": "auto",
         "type": "bar",
         "x": [
          6
         ],
         "xaxis": "x",
         "y": [
          "DEN"
         ],
         "yaxis": "y"
        },
        {
         "alignmentgroup": "True",
         "hovertemplate": "team=%{y}<br>times_picked=%{x}<extra></extra>",
         "legendgroup": "BUF",
         "marker": {
          "color": "#00338D",
          "pattern": {
           "shape": ""
          }
         },
         "name": "BUF",
         "offsetgroup": "BUF",
         "orientation": "h",
         "showlegend": false,
         "textposition": "auto",
         "type": "bar",
         "x": [
          6
         ],
         "xaxis": "x",
         "y": [
          "BUF"
         ],
         "yaxis": "y"
        },
        {
         "alignmentgroup": "True",
         "hovertemplate": "team=%{y}<br>times_picked=%{x}<extra></extra>",
         "legendgroup": "CIN",
         "marker": {
          "color": "#FB4F14",
          "pattern": {
           "shape": ""
          }
         },
         "name": "CIN",
         "offsetgroup": "CIN",
         "orientation": "h",
         "showlegend": false,
         "textposition": "auto",
         "type": "bar",
         "x": [
          6
         ],
         "xaxis": "x",
         "y": [
          "CIN"
         ],
         "yaxis": "y"
        },
        {
         "alignmentgroup": "True",
         "hovertemplate": "team=%{y}<br>times_picked=%{x}<extra></extra>",
         "legendgroup": "JAX",
         "marker": {
          "color": "#006778",
          "pattern": {
           "shape": ""
          }
         },
         "name": "JAX",
         "offsetgroup": "JAX",
         "orientation": "h",
         "showlegend": false,
         "textposition": "auto",
         "type": "bar",
         "x": [
          6
         ],
         "xaxis": "x",
         "y": [
          "JAX"
         ],
         "yaxis": "y"
        },
        {
         "alignmentgroup": "True",
         "hovertemplate": "team=%{y}<br>times_picked=%{x}<extra></extra>",
         "legendgroup": "LV",
         "marker": {
          "color": "#000000",
          "pattern": {
           "shape": ""
          }
         },
         "name": "LV",
         "offsetgroup": "LV",
         "orientation": "h",
         "showlegend": false,
         "textposition": "auto",
         "type": "bar",
         "x": [
          5
         ],
         "xaxis": "x",
         "y": [
          "LV"
         ],
         "yaxis": "y"
        },
        {
         "alignmentgroup": "True",
         "hovertemplate": "team=%{y}<br>times_picked=%{x}<extra></extra>",
         "legendgroup": "NE",
         "marker": {
          "color": "#002244",
          "pattern": {
           "shape": ""
          }
         },
         "name": "NE",
         "offsetgroup": "NE",
         "orientation": "h",
         "showlegend": false,
         "textposition": "auto",
         "type": "bar",
         "x": [
          5
         ],
         "xaxis": "x",
         "y": [
          "NE"
         ],
         "yaxis": "y"
        },
        {
         "alignmentgroup": "True",
         "hovertemplate": "team=%{y}<br>times_picked=%{x}<extra></extra>",
         "legendgroup": "ATL",
         "marker": {
          "color": "#A71930",
          "pattern": {
           "shape": ""
          }
         },
         "name": "ATL",
         "offsetgroup": "ATL",
         "orientation": "h",
         "showlegend": false,
         "textposition": "auto",
         "type": "bar",
         "x": [
          3
         ],
         "xaxis": "x",
         "y": [
          "ATL"
         ],
         "yaxis": "y"
        },
        {
         "alignmentgroup": "True",
         "hovertemplate": "team=%{y}<br>times_picked=%{x}<extra></extra>",
         "legendgroup": "SF",
         "marker": {
          "color": "#B3995D",
          "pattern": {
           "shape": ""
          }
         },
         "name": "SF",
         "offsetgroup": "SF",
         "orientation": "h",
         "showlegend": false,
         "textposition": "auto",
         "type": "bar",
         "x": [
          2
         ],
         "xaxis": "x",
         "y": [
          "SF"
         ],
         "yaxis": "y"
        },
        {
         "alignmentgroup": "True",
         "hovertemplate": "team=%{y}<br>times_picked=%{x}<extra></extra>",
         "legendgroup": "HOU",
         "marker": {
          "color": "#03202F",
          "pattern": {
           "shape": ""
          }
         },
         "name": "HOU",
         "offsetgroup": "HOU",
         "orientation": "h",
         "showlegend": false,
         "textposition": "auto",
         "type": "bar",
         "x": [
          2
         ],
         "xaxis": "x",
         "y": [
          "HOU"
         ],
         "yaxis": "y"
        },
        {
         "marker": {
          "color": [
           "#E64100",
           "#003594",
           "#007BC7",
           "#E31837",
           "#203731",
           "#4F2683",
           "#003F2D",
           "#5A1414",
           "#241773",
           "#0076B6",
           "#4B92DB",
           "#004C54",
           "#0085CA",
           "#FF3C00",
           "#A71930",
           "#008E97",
           "#69be28",
           "#97233F",
           "#D3BC8D",
           "#0B2265",
           "#002C5F",
           "#002244",
           "#FB4F14",
           "#00338D",
           "#FB4F14",
           "#006778",
           "#000000",
           "#002244",
           "#A71930",
           "#B3995D",
           "#03202F"
          ]
         },
         "opacity": 0.5,
         "orientation": "h",
         "showlegend": false,
         "type": "bar",
         "x": [
          3,
          4,
          2,
          2,
          3,
          3,
          2,
          1,
          2,
          2,
          0,
          1,
          0,
          1,
          3,
          1,
          0,
          0,
          1,
          1,
          0,
          1,
          0,
          1,
          1,
          0,
          0,
          0,
          0,
          2,
          0
         ],
         "y": [
          "CHI",
          "LA",
          "LAC",
          "KC",
          "GB",
          "MIN",
          "NYJ",
          "WAS",
          "BAL",
          "DET",
          "TEN",
          "PHI",
          "CAR",
          "CLE",
          "TB",
          "MIA",
          "SEA",
          "ARI",
          "NO",
          "NYG",
          "IND",
          "DAL",
          "DEN",
          "BUF",
          "CIN",
          "JAX",
          "LV",
          "NE",
          "ATL",
          "SF",
          "HOU"
         ]
        }
       ],
       "layout": {
        "barmode": "relative",
        "height": 1000,
        "images": [
         {
          "opacity": 1,
          "sizex": 1.25,
          "sizey": 1.25,
          "sizing": "contain",
          "source": "https://a.espncdn.com/i/teamlogos/nfl/500/CHI.png",
          "x": 21,
          "xanchor": "center",
          "xref": "x",
          "y": "CHI",
          "yanchor": "middle",
          "yref": "y"
         },
         {
          "opacity": 1,
          "sizex": 1.25,
          "sizey": 1.25,
          "sizing": "contain",
          "source": "https://a.espncdn.com/i/teamlogos/nfl/500/LA.png",
          "x": 19,
          "xanchor": "center",
          "xref": "x",
          "y": "LA",
          "yanchor": "middle",
          "yref": "y"
         },
         {
          "opacity": 1,
          "sizex": 1.25,
          "sizey": 1.25,
          "sizing": "contain",
          "source": "https://a.espncdn.com/i/teamlogos/nfl/500/LAC.png",
          "x": 15,
          "xanchor": "center",
          "xref": "x",
          "y": "LAC",
          "yanchor": "middle",
          "yref": "y"
         },
         {
          "opacity": 1,
          "sizex": 1.25,
          "sizey": 1.25,
          "sizing": "contain",
          "source": "https://a.espncdn.com/i/teamlogos/nfl/500/KC.png",
          "x": 14,
          "xanchor": "center",
          "xref": "x",
          "y": "KC",
          "yanchor": "middle",
          "yref": "y"
         },
         {
          "opacity": 1,
          "sizex": 1.25,
          "sizey": 1.25,
          "sizing": "contain",
          "source": "https://a.espncdn.com/i/teamlogos/nfl/500/GB.png",
          "x": 15,
          "xanchor": "center",
          "xref": "x",
          "y": "GB",
          "yanchor": "middle",
          "yref": "y"
         },
         {
          "opacity": 1,
          "sizex": 1.25,
          "sizey": 1.25,
          "sizing": "contain",
          "source": "https://a.espncdn.com/i/teamlogos/nfl/500/MIN.png",
          "x": 15,
          "xanchor": "center",
          "xref": "x",
          "y": "MIN",
          "yanchor": "middle",
          "yref": "y"
         },
         {
          "opacity": 1,
          "sizex": 1.25,
          "sizey": 1.25,
          "sizing": "contain",
          "source": "https://a.espncdn.com/i/teamlogos/nfl/500/NYJ.png",
          "x": 13,
          "xanchor": "center",
          "xref": "x",
          "y": "NYJ",
          "yanchor": "middle",
          "yref": "y"
         },
         {
          "opacity": 1,
          "sizex": 1.25,
          "sizey": 1.25,
          "sizing": "contain",
          "source": "https://a.espncdn.com/i/teamlogos/nfl/500/WAS.png",
          "x": 12,
          "xanchor": "center",
          "xref": "x",
          "y": "WAS",
          "yanchor": "middle",
          "yref": "y"
         },
         {
          "opacity": 1,
          "sizex": 1.25,
          "sizey": 1.25,
          "sizing": "contain",
          "source": "https://a.espncdn.com/i/teamlogos/nfl/500/BAL.png",
          "x": 13,
          "xanchor": "center",
          "xref": "x",
          "y": "BAL",
          "yanchor": "middle",
          "yref": "y"
         },
         {
          "opacity": 1,
          "sizex": 1.25,
          "sizey": 1.25,
          "sizing": "contain",
          "source": "https://a.espncdn.com/i/teamlogos/nfl/500/DET.png",
          "x": 12,
          "xanchor": "center",
          "xref": "x",
          "y": "DET",
          "yanchor": "middle",
          "yref": "y"
         },
         {
          "opacity": 1,
          "sizex": 1.25,
          "sizey": 1.25,
          "sizing": "contain",
          "source": "https://a.espncdn.com/i/teamlogos/nfl/500/TEN.png",
          "x": 10,
          "xanchor": "center",
          "xref": "x",
          "y": "TEN",
          "yanchor": "middle",
          "yref": "y"
         },
         {
          "opacity": 1,
          "sizex": 1.25,
          "sizey": 1.25,
          "sizing": "contain",
          "source": "https://a.espncdn.com/i/teamlogos/nfl/500/PHI.png",
          "x": 11,
          "xanchor": "center",
          "xref": "x",
          "y": "PHI",
          "yanchor": "middle",
          "yref": "y"
         },
         {
          "opacity": 1,
          "sizex": 1.25,
          "sizey": 1.25,
          "sizing": "contain",
          "source": "https://a.espncdn.com/i/teamlogos/nfl/500/CAR.png",
          "x": 9,
          "xanchor": "center",
          "xref": "x",
          "y": "CAR",
          "yanchor": "middle",
          "yref": "y"
         },
         {
          "opacity": 1,
          "sizex": 1.25,
          "sizey": 1.25,
          "sizing": "contain",
          "source": "https://a.espncdn.com/i/teamlogos/nfl/500/CLE.png",
          "x": 10,
          "xanchor": "center",
          "xref": "x",
          "y": "CLE",
          "yanchor": "middle",
          "yref": "y"
         },
         {
          "opacity": 1,
          "sizex": 1.25,
          "sizey": 1.25,
          "sizing": "contain",
          "source": "https://a.espncdn.com/i/teamlogos/nfl/500/TB.png",
          "x": 12,
          "xanchor": "center",
          "xref": "x",
          "y": "TB",
          "yanchor": "middle",
          "yref": "y"
         },
         {
          "opacity": 1,
          "sizex": 1.25,
          "sizey": 1.25,
          "sizing": "contain",
          "source": "https://a.espncdn.com/i/teamlogos/nfl/500/MIA.png",
          "x": 9,
          "xanchor": "center",
          "xref": "x",
          "y": "MIA",
          "yanchor": "middle",
          "yref": "y"
         },
         {
          "opacity": 1,
          "sizex": 1.25,
          "sizey": 1.25,
          "sizing": "contain",
          "source": "https://a.espncdn.com/i/teamlogos/nfl/500/SEA.png",
          "x": 8,
          "xanchor": "center",
          "xref": "x",
          "y": "SEA",
          "yanchor": "middle",
          "yref": "y"
         },
         {
          "opacity": 1,
          "sizex": 1.25,
          "sizey": 1.25,
          "sizing": "contain",
          "source": "https://a.espncdn.com/i/teamlogos/nfl/500/ARI.png",
          "x": 8,
          "xanchor": "center",
          "xref": "x",
          "y": "ARI",
          "yanchor": "middle",
          "yref": "y"
         },
         {
          "opacity": 1,
          "sizex": 1.25,
          "sizey": 1.25,
          "sizing": "contain",
          "source": "https://a.espncdn.com/i/teamlogos/nfl/500/NO.png",
          "x": 8,
          "xanchor": "center",
          "xref": "x",
          "y": "NO",
          "yanchor": "middle",
          "yref": "y"
         },
         {
          "opacity": 1,
          "sizex": 1.25,
          "sizey": 1.25,
          "sizing": "contain",
          "source": "https://a.espncdn.com/i/teamlogos/nfl/500/NYG.png",
          "x": 8,
          "xanchor": "center",
          "xref": "x",
          "y": "NYG",
          "yanchor": "middle",
          "yref": "y"
         },
         {
          "opacity": 1,
          "sizex": 1.25,
          "sizey": 1.25,
          "sizing": "contain",
          "source": "https://a.espncdn.com/i/teamlogos/nfl/500/IND.png",
          "x": 7,
          "xanchor": "center",
          "xref": "x",
          "y": "IND",
          "yanchor": "middle",
          "yref": "y"
         },
         {
          "opacity": 1,
          "sizex": 1.25,
          "sizey": 1.25,
          "sizing": "contain",
          "source": "https://a.espncdn.com/i/teamlogos/nfl/500/DAL.png",
          "x": 8,
          "xanchor": "center",
          "xref": "x",
          "y": "DAL",
          "yanchor": "middle",
          "yref": "y"
         },
         {
          "opacity": 1,
          "sizex": 1.25,
          "sizey": 1.25,
          "sizing": "contain",
          "source": "https://a.espncdn.com/i/teamlogos/nfl/500/DEN.png",
          "x": 6,
          "xanchor": "center",
          "xref": "x",
          "y": "DEN",
          "yanchor": "middle",
          "yref": "y"
         },
         {
          "opacity": 1,
          "sizex": 1.25,
          "sizey": 1.25,
          "sizing": "contain",
          "source": "https://a.espncdn.com/i/teamlogos/nfl/500/BUF.png",
          "x": 7,
          "xanchor": "center",
          "xref": "x",
          "y": "BUF",
          "yanchor": "middle",
          "yref": "y"
         },
         {
          "opacity": 1,
          "sizex": 1.25,
          "sizey": 1.25,
          "sizing": "contain",
          "source": "https://a.espncdn.com/i/teamlogos/nfl/500/CIN.png",
          "x": 7,
          "xanchor": "center",
          "xref": "x",
          "y": "CIN",
          "yanchor": "middle",
          "yref": "y"
         },
         {
          "opacity": 1,
          "sizex": 1.25,
          "sizey": 1.25,
          "sizing": "contain",
          "source": "https://a.espncdn.com/i/teamlogos/nfl/500/JAX.png",
          "x": 6,
          "xanchor": "center",
          "xref": "x",
          "y": "JAX",
          "yanchor": "middle",
          "yref": "y"
         },
         {
          "opacity": 1,
          "sizex": 1.25,
          "sizey": 1.25,
          "sizing": "contain",
          "source": "https://a.espncdn.com/i/teamlogos/nfl/500/LV.png",
          "x": 5,
          "xanchor": "center",
          "xref": "x",
          "y": "LV",
          "yanchor": "middle",
          "yref": "y"
         },
         {
          "opacity": 1,
          "sizex": 1.25,
          "sizey": 1.25,
          "sizing": "contain",
          "source": "https://a.espncdn.com/i/teamlogos/nfl/500/NE.png",
          "x": 5,
          "xanchor": "center",
          "xref": "x",
          "y": "NE",
          "yanchor": "middle",
          "yref": "y"
         },
         {
          "opacity": 1,
          "sizex": 1.25,
          "sizey": 1.25,
          "sizing": "contain",
          "source": "https://a.espncdn.com/i/teamlogos/nfl/500/ATL.png",
          "x": 3,
          "xanchor": "center",
          "xref": "x",
          "y": "ATL",
          "yanchor": "middle",
          "yref": "y"
         },
         {
          "opacity": 1,
          "sizex": 1.25,
          "sizey": 1.25,
          "sizing": "contain",
          "source": "https://a.espncdn.com/i/teamlogos/nfl/500/SF.png",
          "x": 4,
          "xanchor": "center",
          "xref": "x",
          "y": "SF",
          "yanchor": "middle",
          "yref": "y"
         },
         {
          "opacity": 1,
          "sizex": 1.25,
          "sizey": 1.25,
          "sizing": "contain",
          "source": "https://a.espncdn.com/i/teamlogos/nfl/500/HOU.png",
          "x": 2,
          "xanchor": "center",
          "xref": "x",
          "y": "HOU",
          "yanchor": "middle",
          "yref": "y"
         }
        ],
        "legend": {
         "title": {
          "text": "team"
         },
         "tracegroupgap": 0
        },
        "margin": {
         "t": 60
        },
        "template": {
         "data": {
          "bar": [
           {
            "error_x": {
             "color": "#2a3f5f"
            },
            "error_y": {
             "color": "#2a3f5f"
            },
            "marker": {
             "line": {
              "color": "#E5ECF6",
              "width": 0.5
             },
             "pattern": {
              "fillmode": "overlay",
              "size": 10,
              "solidity": 0.2
             }
            },
            "type": "bar"
           }
          ],
          "barpolar": [
           {
            "marker": {
             "line": {
              "color": "#E5ECF6",
              "width": 0.5
             },
             "pattern": {
              "fillmode": "overlay",
              "size": 10,
              "solidity": 0.2
             }
            },
            "type": "barpolar"
           }
          ],
          "carpet": [
           {
            "aaxis": {
             "endlinecolor": "#2a3f5f",
             "gridcolor": "white",
             "linecolor": "white",
             "minorgridcolor": "white",
             "startlinecolor": "#2a3f5f"
            },
            "baxis": {
             "endlinecolor": "#2a3f5f",
             "gridcolor": "white",
             "linecolor": "white",
             "minorgridcolor": "white",
             "startlinecolor": "#2a3f5f"
            },
            "type": "carpet"
           }
          ],
          "choropleth": [
           {
            "colorbar": {
             "outlinewidth": 0,
             "ticks": ""
            },
            "type": "choropleth"
           }
          ],
          "contour": [
           {
            "colorbar": {
             "outlinewidth": 0,
             "ticks": ""
            },
            "colorscale": [
             [
              0,
              "#0d0887"
             ],
             [
              0.1111111111111111,
              "#46039f"
             ],
             [
              0.2222222222222222,
              "#7201a8"
             ],
             [
              0.3333333333333333,
              "#9c179e"
             ],
             [
              0.4444444444444444,
              "#bd3786"
             ],
             [
              0.5555555555555556,
              "#d8576b"
             ],
             [
              0.6666666666666666,
              "#ed7953"
             ],
             [
              0.7777777777777778,
              "#fb9f3a"
             ],
             [
              0.8888888888888888,
              "#fdca26"
             ],
             [
              1,
              "#f0f921"
             ]
            ],
            "type": "contour"
           }
          ],
          "contourcarpet": [
           {
            "colorbar": {
             "outlinewidth": 0,
             "ticks": ""
            },
            "type": "contourcarpet"
           }
          ],
          "heatmap": [
           {
            "colorbar": {
             "outlinewidth": 0,
             "ticks": ""
            },
            "colorscale": [
             [
              0,
              "#0d0887"
             ],
             [
              0.1111111111111111,
              "#46039f"
             ],
             [
              0.2222222222222222,
              "#7201a8"
             ],
             [
              0.3333333333333333,
              "#9c179e"
             ],
             [
              0.4444444444444444,
              "#bd3786"
             ],
             [
              0.5555555555555556,
              "#d8576b"
             ],
             [
              0.6666666666666666,
              "#ed7953"
             ],
             [
              0.7777777777777778,
              "#fb9f3a"
             ],
             [
              0.8888888888888888,
              "#fdca26"
             ],
             [
              1,
              "#f0f921"
             ]
            ],
            "type": "heatmap"
           }
          ],
          "heatmapgl": [
           {
            "colorbar": {
             "outlinewidth": 0,
             "ticks": ""
            },
            "colorscale": [
             [
              0,
              "#0d0887"
             ],
             [
              0.1111111111111111,
              "#46039f"
             ],
             [
              0.2222222222222222,
              "#7201a8"
             ],
             [
              0.3333333333333333,
              "#9c179e"
             ],
             [
              0.4444444444444444,
              "#bd3786"
             ],
             [
              0.5555555555555556,
              "#d8576b"
             ],
             [
              0.6666666666666666,
              "#ed7953"
             ],
             [
              0.7777777777777778,
              "#fb9f3a"
             ],
             [
              0.8888888888888888,
              "#fdca26"
             ],
             [
              1,
              "#f0f921"
             ]
            ],
            "type": "heatmapgl"
           }
          ],
          "histogram": [
           {
            "marker": {
             "pattern": {
              "fillmode": "overlay",
              "size": 10,
              "solidity": 0.2
             }
            },
            "type": "histogram"
           }
          ],
          "histogram2d": [
           {
            "colorbar": {
             "outlinewidth": 0,
             "ticks": ""
            },
            "colorscale": [
             [
              0,
              "#0d0887"
             ],
             [
              0.1111111111111111,
              "#46039f"
             ],
             [
              0.2222222222222222,
              "#7201a8"
             ],
             [
              0.3333333333333333,
              "#9c179e"
             ],
             [
              0.4444444444444444,
              "#bd3786"
             ],
             [
              0.5555555555555556,
              "#d8576b"
             ],
             [
              0.6666666666666666,
              "#ed7953"
             ],
             [
              0.7777777777777778,
              "#fb9f3a"
             ],
             [
              0.8888888888888888,
              "#fdca26"
             ],
             [
              1,
              "#f0f921"
             ]
            ],
            "type": "histogram2d"
           }
          ],
          "histogram2dcontour": [
           {
            "colorbar": {
             "outlinewidth": 0,
             "ticks": ""
            },
            "colorscale": [
             [
              0,
              "#0d0887"
             ],
             [
              0.1111111111111111,
              "#46039f"
             ],
             [
              0.2222222222222222,
              "#7201a8"
             ],
             [
              0.3333333333333333,
              "#9c179e"
             ],
             [
              0.4444444444444444,
              "#bd3786"
             ],
             [
              0.5555555555555556,
              "#d8576b"
             ],
             [
              0.6666666666666666,
              "#ed7953"
             ],
             [
              0.7777777777777778,
              "#fb9f3a"
             ],
             [
              0.8888888888888888,
              "#fdca26"
             ],
             [
              1,
              "#f0f921"
             ]
            ],
            "type": "histogram2dcontour"
           }
          ],
          "mesh3d": [
           {
            "colorbar": {
             "outlinewidth": 0,
             "ticks": ""
            },
            "type": "mesh3d"
           }
          ],
          "parcoords": [
           {
            "line": {
             "colorbar": {
              "outlinewidth": 0,
              "ticks": ""
             }
            },
            "type": "parcoords"
           }
          ],
          "pie": [
           {
            "automargin": true,
            "type": "pie"
           }
          ],
          "scatter": [
           {
            "fillpattern": {
             "fillmode": "overlay",
             "size": 10,
             "solidity": 0.2
            },
            "type": "scatter"
           }
          ],
          "scatter3d": [
           {
            "line": {
             "colorbar": {
              "outlinewidth": 0,
              "ticks": ""
             }
            },
            "marker": {
             "colorbar": {
              "outlinewidth": 0,
              "ticks": ""
             }
            },
            "type": "scatter3d"
           }
          ],
          "scattercarpet": [
           {
            "marker": {
             "colorbar": {
              "outlinewidth": 0,
              "ticks": ""
             }
            },
            "type": "scattercarpet"
           }
          ],
          "scattergeo": [
           {
            "marker": {
             "colorbar": {
              "outlinewidth": 0,
              "ticks": ""
             }
            },
            "type": "scattergeo"
           }
          ],
          "scattergl": [
           {
            "marker": {
             "colorbar": {
              "outlinewidth": 0,
              "ticks": ""
             }
            },
            "type": "scattergl"
           }
          ],
          "scattermapbox": [
           {
            "marker": {
             "colorbar": {
              "outlinewidth": 0,
              "ticks": ""
             }
            },
            "type": "scattermapbox"
           }
          ],
          "scatterpolar": [
           {
            "marker": {
             "colorbar": {
              "outlinewidth": 0,
              "ticks": ""
             }
            },
            "type": "scatterpolar"
           }
          ],
          "scatterpolargl": [
           {
            "marker": {
             "colorbar": {
              "outlinewidth": 0,
              "ticks": ""
             }
            },
            "type": "scatterpolargl"
           }
          ],
          "scatterternary": [
           {
            "marker": {
             "colorbar": {
              "outlinewidth": 0,
              "ticks": ""
             }
            },
            "type": "scatterternary"
           }
          ],
          "surface": [
           {
            "colorbar": {
             "outlinewidth": 0,
             "ticks": ""
            },
            "colorscale": [
             [
              0,
              "#0d0887"
             ],
             [
              0.1111111111111111,
              "#46039f"
             ],
             [
              0.2222222222222222,
              "#7201a8"
             ],
             [
              0.3333333333333333,
              "#9c179e"
             ],
             [
              0.4444444444444444,
              "#bd3786"
             ],
             [
              0.5555555555555556,
              "#d8576b"
             ],
             [
              0.6666666666666666,
              "#ed7953"
             ],
             [
              0.7777777777777778,
              "#fb9f3a"
             ],
             [
              0.8888888888888888,
              "#fdca26"
             ],
             [
              1,
              "#f0f921"
             ]
            ],
            "type": "surface"
           }
          ],
          "table": [
           {
            "cells": {
             "fill": {
              "color": "#EBF0F8"
             },
             "line": {
              "color": "white"
             }
            },
            "header": {
             "fill": {
              "color": "#C8D4E3"
             },
             "line": {
              "color": "white"
             }
            },
            "type": "table"
           }
          ]
         },
         "layout": {
          "annotationdefaults": {
           "arrowcolor": "#2a3f5f",
           "arrowhead": 0,
           "arrowwidth": 1
          },
          "autotypenumbers": "strict",
          "coloraxis": {
           "colorbar": {
            "outlinewidth": 0,
            "ticks": ""
           }
          },
          "colorscale": {
           "diverging": [
            [
             0,
             "#8e0152"
            ],
            [
             0.1,
             "#c51b7d"
            ],
            [
             0.2,
             "#de77ae"
            ],
            [
             0.3,
             "#f1b6da"
            ],
            [
             0.4,
             "#fde0ef"
            ],
            [
             0.5,
             "#f7f7f7"
            ],
            [
             0.6,
             "#e6f5d0"
            ],
            [
             0.7,
             "#b8e186"
            ],
            [
             0.8,
             "#7fbc41"
            ],
            [
             0.9,
             "#4d9221"
            ],
            [
             1,
             "#276419"
            ]
           ],
           "sequential": [
            [
             0,
             "#0d0887"
            ],
            [
             0.1111111111111111,
             "#46039f"
            ],
            [
             0.2222222222222222,
             "#7201a8"
            ],
            [
             0.3333333333333333,
             "#9c179e"
            ],
            [
             0.4444444444444444,
             "#bd3786"
            ],
            [
             0.5555555555555556,
             "#d8576b"
            ],
            [
             0.6666666666666666,
             "#ed7953"
            ],
            [
             0.7777777777777778,
             "#fb9f3a"
            ],
            [
             0.8888888888888888,
             "#fdca26"
            ],
            [
             1,
             "#f0f921"
            ]
           ],
           "sequentialminus": [
            [
             0,
             "#0d0887"
            ],
            [
             0.1111111111111111,
             "#46039f"
            ],
            [
             0.2222222222222222,
             "#7201a8"
            ],
            [
             0.3333333333333333,
             "#9c179e"
            ],
            [
             0.4444444444444444,
             "#bd3786"
            ],
            [
             0.5555555555555556,
             "#d8576b"
            ],
            [
             0.6666666666666666,
             "#ed7953"
            ],
            [
             0.7777777777777778,
             "#fb9f3a"
            ],
            [
             0.8888888888888888,
             "#fdca26"
            ],
            [
             1,
             "#f0f921"
            ]
           ]
          },
          "colorway": [
           "#636efa",
           "#EF553B",
           "#00cc96",
           "#ab63fa",
           "#FFA15A",
           "#19d3f3",
           "#FF6692",
           "#B6E880",
           "#FF97FF",
           "#FECB52"
          ],
          "font": {
           "color": "#2a3f5f"
          },
          "geo": {
           "bgcolor": "white",
           "lakecolor": "white",
           "landcolor": "#E5ECF6",
           "showlakes": true,
           "showland": true,
           "subunitcolor": "white"
          },
          "hoverlabel": {
           "align": "left"
          },
          "hovermode": "closest",
          "mapbox": {
           "style": "light"
          },
          "paper_bgcolor": "white",
          "plot_bgcolor": "#E5ECF6",
          "polar": {
           "angularaxis": {
            "gridcolor": "white",
            "linecolor": "white",
            "ticks": ""
           },
           "bgcolor": "#E5ECF6",
           "radialaxis": {
            "gridcolor": "white",
            "linecolor": "white",
            "ticks": ""
           }
          },
          "scene": {
           "xaxis": {
            "backgroundcolor": "#E5ECF6",
            "gridcolor": "white",
            "gridwidth": 2,
            "linecolor": "white",
            "showbackground": true,
            "ticks": "",
            "zerolinecolor": "white"
           },
           "yaxis": {
            "backgroundcolor": "#E5ECF6",
            "gridcolor": "white",
            "gridwidth": 2,
            "linecolor": "white",
            "showbackground": true,
            "ticks": "",
            "zerolinecolor": "white"
           },
           "zaxis": {
            "backgroundcolor": "#E5ECF6",
            "gridcolor": "white",
            "gridwidth": 2,
            "linecolor": "white",
            "showbackground": true,
            "ticks": "",
            "zerolinecolor": "white"
           }
          },
          "shapedefaults": {
           "line": {
            "color": "#2a3f5f"
           }
          },
          "ternary": {
           "aaxis": {
            "gridcolor": "white",
            "linecolor": "white",
            "ticks": ""
           },
           "baxis": {
            "gridcolor": "white",
            "linecolor": "white",
            "ticks": ""
           },
           "bgcolor": "#E5ECF6",
           "caxis": {
            "gridcolor": "white",
            "linecolor": "white",
            "ticks": ""
           }
          },
          "title": {
           "x": 0.05
          },
          "xaxis": {
           "automargin": true,
           "gridcolor": "white",
           "linecolor": "white",
           "ticks": "",
           "title": {
            "standoff": 15
           },
           "zerolinecolor": "white",
           "zerolinewidth": 2
          },
          "yaxis": {
           "automargin": true,
           "gridcolor": "white",
           "linecolor": "white",
           "ticks": "",
           "title": {
            "standoff": 15
           },
           "zerolinecolor": "white",
           "zerolinewidth": 2
          }
         }
        },
        "title": {
         "text": "Times Chuck Picked a Team ATS"
        },
        "width": 800,
        "xaxis": {
         "anchor": "y",
         "domain": [
          0,
          1
         ],
         "title": {
          "text": "Times Picked ATS"
         }
        },
        "yaxis": {
         "anchor": "x",
         "categoryarray": [
          "HOU",
          "SF",
          "ATL",
          "NE",
          "LV",
          "JAX",
          "CIN",
          "BUF",
          "DEN",
          "DAL",
          "IND",
          "NYG",
          "NO",
          "ARI",
          "SEA",
          "MIA",
          "TB",
          "CLE",
          "CAR",
          "PHI",
          "TEN",
          "DET",
          "BAL",
          "WAS",
          "NYJ",
          "MIN",
          "GB",
          "KC",
          "LAC",
          "LA",
          "CHI"
         ],
         "categoryorder": "total ascending",
         "domain": [
          0,
          1
         ],
         "title": {
          "text": "Teams"
         }
        }
       }
      }
     },
     "metadata": {},
     "output_type": "display_data"
    },
    {
     "data": {
      "application/vnd.plotly.v1+json": {
       "config": {
        "plotlyServerURL": "https://plot.ly"
       },
       "data": [
        {
         "alignmentgroup": "True",
         "hovertemplate": "team=%{y}<br>times_picked=%{x}<extra></extra>",
         "legendgroup": "NO",
         "marker": {
          "color": "#D3BC8D",
          "pattern": {
           "shape": ""
          }
         },
         "name": "NO",
         "offsetgroup": "NO",
         "orientation": "h",
         "showlegend": false,
         "textposition": "auto",
         "type": "bar",
         "x": [
          15
         ],
         "xaxis": "x",
         "y": [
          "NO"
         ],
         "yaxis": "y"
        },
        {
         "alignmentgroup": "True",
         "hovertemplate": "team=%{y}<br>times_picked=%{x}<extra></extra>",
         "legendgroup": "IND",
         "marker": {
          "color": "#002C5F",
          "pattern": {
           "shape": ""
          }
         },
         "name": "IND",
         "offsetgroup": "IND",
         "orientation": "h",
         "showlegend": false,
         "textposition": "auto",
         "type": "bar",
         "x": [
          15
         ],
         "xaxis": "x",
         "y": [
          "IND"
         ],
         "yaxis": "y"
        },
        {
         "alignmentgroup": "True",
         "hovertemplate": "team=%{y}<br>times_picked=%{x}<extra></extra>",
         "legendgroup": "CLE",
         "marker": {
          "color": "#FF3C00",
          "pattern": {
           "shape": ""
          }
         },
         "name": "CLE",
         "offsetgroup": "CLE",
         "orientation": "h",
         "showlegend": false,
         "textposition": "auto",
         "type": "bar",
         "x": [
          14
         ],
         "xaxis": "x",
         "y": [
          "CLE"
         ],
         "yaxis": "y"
        },
        {
         "alignmentgroup": "True",
         "hovertemplate": "team=%{y}<br>times_picked=%{x}<extra></extra>",
         "legendgroup": "NYJ",
         "marker": {
          "color": "#003F2D",
          "pattern": {
           "shape": ""
          }
         },
         "name": "NYJ",
         "offsetgroup": "NYJ",
         "orientation": "h",
         "showlegend": false,
         "textposition": "auto",
         "type": "bar",
         "x": [
          12
         ],
         "xaxis": "x",
         "y": [
          "NYJ"
         ],
         "yaxis": "y"
        },
        {
         "alignmentgroup": "True",
         "hovertemplate": "team=%{y}<br>times_picked=%{x}<extra></extra>",
         "legendgroup": "LAC",
         "marker": {
          "color": "#007BC7",
          "pattern": {
           "shape": ""
          }
         },
         "name": "LAC",
         "offsetgroup": "LAC",
         "orientation": "h",
         "showlegend": false,
         "textposition": "auto",
         "type": "bar",
         "x": [
          11
         ],
         "xaxis": "x",
         "y": [
          "LAC"
         ],
         "yaxis": "y"
        },
        {
         "alignmentgroup": "True",
         "hovertemplate": "team=%{y}<br>times_picked=%{x}<extra></extra>",
         "legendgroup": "BUF",
         "marker": {
          "color": "#00338D",
          "pattern": {
           "shape": ""
          }
         },
         "name": "BUF",
         "offsetgroup": "BUF",
         "orientation": "h",
         "showlegend": false,
         "textposition": "auto",
         "type": "bar",
         "x": [
          11
         ],
         "xaxis": "x",
         "y": [
          "BUF"
         ],
         "yaxis": "y"
        },
        {
         "alignmentgroup": "True",
         "hovertemplate": "team=%{y}<br>times_picked=%{x}<extra></extra>",
         "legendgroup": "CAR",
         "marker": {
          "color": "#0085CA",
          "pattern": {
           "shape": ""
          }
         },
         "name": "CAR",
         "offsetgroup": "CAR",
         "orientation": "h",
         "showlegend": false,
         "textposition": "auto",
         "type": "bar",
         "x": [
          11
         ],
         "xaxis": "x",
         "y": [
          "CAR"
         ],
         "yaxis": "y"
        },
        {
         "alignmentgroup": "True",
         "hovertemplate": "team=%{y}<br>times_picked=%{x}<extra></extra>",
         "legendgroup": "DET",
         "marker": {
          "color": "#0076B6",
          "pattern": {
           "shape": ""
          }
         },
         "name": "DET",
         "offsetgroup": "DET",
         "orientation": "h",
         "showlegend": false,
         "textposition": "auto",
         "type": "bar",
         "x": [
          11
         ],
         "xaxis": "x",
         "y": [
          "DET"
         ],
         "yaxis": "y"
        },
        {
         "alignmentgroup": "True",
         "hovertemplate": "team=%{y}<br>times_picked=%{x}<extra></extra>",
         "legendgroup": "MIN",
         "marker": {
          "color": "#4F2683",
          "pattern": {
           "shape": ""
          }
         },
         "name": "MIN",
         "offsetgroup": "MIN",
         "orientation": "h",
         "showlegend": false,
         "textposition": "auto",
         "type": "bar",
         "x": [
          11
         ],
         "xaxis": "x",
         "y": [
          "MIN"
         ],
         "yaxis": "y"
        },
        {
         "alignmentgroup": "True",
         "hovertemplate": "team=%{y}<br>times_picked=%{x}<extra></extra>",
         "legendgroup": "HOU",
         "marker": {
          "color": "#03202F",
          "pattern": {
           "shape": ""
          }
         },
         "name": "HOU",
         "offsetgroup": "HOU",
         "orientation": "h",
         "showlegend": false,
         "textposition": "auto",
         "type": "bar",
         "x": [
          11
         ],
         "xaxis": "x",
         "y": [
          "HOU"
         ],
         "yaxis": "y"
        },
        {
         "alignmentgroup": "True",
         "hovertemplate": "team=%{y}<br>times_picked=%{x}<extra></extra>",
         "legendgroup": "WAS",
         "marker": {
          "color": "#5A1414",
          "pattern": {
           "shape": ""
          }
         },
         "name": "WAS",
         "offsetgroup": "WAS",
         "orientation": "h",
         "showlegend": false,
         "textposition": "auto",
         "type": "bar",
         "x": [
          10
         ],
         "xaxis": "x",
         "y": [
          "WAS"
         ],
         "yaxis": "y"
        },
        {
         "alignmentgroup": "True",
         "hovertemplate": "team=%{y}<br>times_picked=%{x}<extra></extra>",
         "legendgroup": "TEN",
         "marker": {
          "color": "#4B92DB",
          "pattern": {
           "shape": ""
          }
         },
         "name": "TEN",
         "offsetgroup": "TEN",
         "orientation": "h",
         "showlegend": false,
         "textposition": "auto",
         "type": "bar",
         "x": [
          10
         ],
         "xaxis": "x",
         "y": [
          "TEN"
         ],
         "yaxis": "y"
        },
        {
         "alignmentgroup": "True",
         "hovertemplate": "team=%{y}<br>times_picked=%{x}<extra></extra>",
         "legendgroup": "SF",
         "marker": {
          "color": "#B3995D",
          "pattern": {
           "shape": ""
          }
         },
         "name": "SF",
         "offsetgroup": "SF",
         "orientation": "h",
         "showlegend": false,
         "textposition": "auto",
         "type": "bar",
         "x": [
          10
         ],
         "xaxis": "x",
         "y": [
          "SF"
         ],
         "yaxis": "y"
        },
        {
         "alignmentgroup": "True",
         "hovertemplate": "team=%{y}<br>times_picked=%{x}<extra></extra>",
         "legendgroup": "DEN",
         "marker": {
          "color": "#FB4F14",
          "pattern": {
           "shape": ""
          }
         },
         "name": "DEN",
         "offsetgroup": "DEN",
         "orientation": "h",
         "showlegend": false,
         "textposition": "auto",
         "type": "bar",
         "x": [
          10
         ],
         "xaxis": "x",
         "y": [
          "DEN"
         ],
         "yaxis": "y"
        },
        {
         "alignmentgroup": "True",
         "hovertemplate": "team=%{y}<br>times_picked=%{x}<extra></extra>",
         "legendgroup": "LA",
         "marker": {
          "color": "#003594",
          "pattern": {
           "shape": ""
          }
         },
         "name": "LA",
         "offsetgroup": "LA",
         "orientation": "h",
         "showlegend": false,
         "textposition": "auto",
         "type": "bar",
         "x": [
          9
         ],
         "xaxis": "x",
         "y": [
          "LA"
         ],
         "yaxis": "y"
        },
        {
         "alignmentgroup": "True",
         "hovertemplate": "team=%{y}<br>times_picked=%{x}<extra></extra>",
         "legendgroup": "NYG",
         "marker": {
          "color": "#0B2265",
          "pattern": {
           "shape": ""
          }
         },
         "name": "NYG",
         "offsetgroup": "NYG",
         "orientation": "h",
         "showlegend": false,
         "textposition": "auto",
         "type": "bar",
         "x": [
          8
         ],
         "xaxis": "x",
         "y": [
          "NYG"
         ],
         "yaxis": "y"
        },
        {
         "alignmentgroup": "True",
         "hovertemplate": "team=%{y}<br>times_picked=%{x}<extra></extra>",
         "legendgroup": "NE",
         "marker": {
          "color": "#002244",
          "pattern": {
           "shape": ""
          }
         },
         "name": "NE",
         "offsetgroup": "NE",
         "orientation": "h",
         "showlegend": false,
         "textposition": "auto",
         "type": "bar",
         "x": [
          8
         ],
         "xaxis": "x",
         "y": [
          "NE"
         ],
         "yaxis": "y"
        },
        {
         "alignmentgroup": "True",
         "hovertemplate": "team=%{y}<br>times_picked=%{x}<extra></extra>",
         "legendgroup": "JAX",
         "marker": {
          "color": "#006778",
          "pattern": {
           "shape": ""
          }
         },
         "name": "JAX",
         "offsetgroup": "JAX",
         "orientation": "h",
         "showlegend": false,
         "textposition": "auto",
         "type": "bar",
         "x": [
          8
         ],
         "xaxis": "x",
         "y": [
          "JAX"
         ],
         "yaxis": "y"
        },
        {
         "alignmentgroup": "True",
         "hovertemplate": "team=%{y}<br>times_picked=%{x}<extra></extra>",
         "legendgroup": "MIA",
         "marker": {
          "color": "#008E97",
          "pattern": {
           "shape": ""
          }
         },
         "name": "MIA",
         "offsetgroup": "MIA",
         "orientation": "h",
         "showlegend": false,
         "textposition": "auto",
         "type": "bar",
         "x": [
          8
         ],
         "xaxis": "x",
         "y": [
          "MIA"
         ],
         "yaxis": "y"
        },
        {
         "alignmentgroup": "True",
         "hovertemplate": "team=%{y}<br>times_picked=%{x}<extra></extra>",
         "legendgroup": "GB",
         "marker": {
          "color": "#203731",
          "pattern": {
           "shape": ""
          }
         },
         "name": "GB",
         "offsetgroup": "GB",
         "orientation": "h",
         "showlegend": false,
         "textposition": "auto",
         "type": "bar",
         "x": [
          8
         ],
         "xaxis": "x",
         "y": [
          "GB"
         ],
         "yaxis": "y"
        },
        {
         "alignmentgroup": "True",
         "hovertemplate": "team=%{y}<br>times_picked=%{x}<extra></extra>",
         "legendgroup": "PIT",
         "marker": {
          "color": "#000000",
          "pattern": {
           "shape": ""
          }
         },
         "name": "PIT",
         "offsetgroup": "PIT",
         "orientation": "h",
         "showlegend": false,
         "textposition": "auto",
         "type": "bar",
         "x": [
          7
         ],
         "xaxis": "x",
         "y": [
          "PIT"
         ],
         "yaxis": "y"
        },
        {
         "alignmentgroup": "True",
         "hovertemplate": "team=%{y}<br>times_picked=%{x}<extra></extra>",
         "legendgroup": "KC",
         "marker": {
          "color": "#E31837",
          "pattern": {
           "shape": ""
          }
         },
         "name": "KC",
         "offsetgroup": "KC",
         "orientation": "h",
         "showlegend": false,
         "textposition": "auto",
         "type": "bar",
         "x": [
          7
         ],
         "xaxis": "x",
         "y": [
          "KC"
         ],
         "yaxis": "y"
        },
        {
         "alignmentgroup": "True",
         "hovertemplate": "team=%{y}<br>times_picked=%{x}<extra></extra>",
         "legendgroup": "ATL",
         "marker": {
          "color": "#A71930",
          "pattern": {
           "shape": ""
          }
         },
         "name": "ATL",
         "offsetgroup": "ATL",
         "orientation": "h",
         "showlegend": false,
         "textposition": "auto",
         "type": "bar",
         "x": [
          6
         ],
         "xaxis": "x",
         "y": [
          "ATL"
         ],
         "yaxis": "y"
        },
        {
         "alignmentgroup": "True",
         "hovertemplate": "team=%{y}<br>times_picked=%{x}<extra></extra>",
         "legendgroup": "LV",
         "marker": {
          "color": "#000000",
          "pattern": {
           "shape": ""
          }
         },
         "name": "LV",
         "offsetgroup": "LV",
         "orientation": "h",
         "showlegend": false,
         "textposition": "auto",
         "type": "bar",
         "x": [
          6
         ],
         "xaxis": "x",
         "y": [
          "LV"
         ],
         "yaxis": "y"
        },
        {
         "alignmentgroup": "True",
         "hovertemplate": "team=%{y}<br>times_picked=%{x}<extra></extra>",
         "legendgroup": "SEA",
         "marker": {
          "color": "#69be28",
          "pattern": {
           "shape": ""
          }
         },
         "name": "SEA",
         "offsetgroup": "SEA",
         "orientation": "h",
         "showlegend": false,
         "textposition": "auto",
         "type": "bar",
         "x": [
          6
         ],
         "xaxis": "x",
         "y": [
          "SEA"
         ],
         "yaxis": "y"
        },
        {
         "alignmentgroup": "True",
         "hovertemplate": "team=%{y}<br>times_picked=%{x}<extra></extra>",
         "legendgroup": "CHI",
         "marker": {
          "color": "#E64100",
          "pattern": {
           "shape": ""
          }
         },
         "name": "CHI",
         "offsetgroup": "CHI",
         "orientation": "h",
         "showlegend": false,
         "textposition": "auto",
         "type": "bar",
         "x": [
          6
         ],
         "xaxis": "x",
         "y": [
          "CHI"
         ],
         "yaxis": "y"
        },
        {
         "alignmentgroup": "True",
         "hovertemplate": "team=%{y}<br>times_picked=%{x}<extra></extra>",
         "legendgroup": "TB",
         "marker": {
          "color": "#A71930",
          "pattern": {
           "shape": ""
          }
         },
         "name": "TB",
         "offsetgroup": "TB",
         "orientation": "h",
         "showlegend": false,
         "textposition": "auto",
         "type": "bar",
         "x": [
          6
         ],
         "xaxis": "x",
         "y": [
          "TB"
         ],
         "yaxis": "y"
        },
        {
         "alignmentgroup": "True",
         "hovertemplate": "team=%{y}<br>times_picked=%{x}<extra></extra>",
         "legendgroup": "BAL",
         "marker": {
          "color": "#241773",
          "pattern": {
           "shape": ""
          }
         },
         "name": "BAL",
         "offsetgroup": "BAL",
         "orientation": "h",
         "showlegend": false,
         "textposition": "auto",
         "type": "bar",
         "x": [
          6
         ],
         "xaxis": "x",
         "y": [
          "BAL"
         ],
         "yaxis": "y"
        },
        {
         "alignmentgroup": "True",
         "hovertemplate": "team=%{y}<br>times_picked=%{x}<extra></extra>",
         "legendgroup": "DAL",
         "marker": {
          "color": "#002244",
          "pattern": {
           "shape": ""
          }
         },
         "name": "DAL",
         "offsetgroup": "DAL",
         "orientation": "h",
         "showlegend": false,
         "textposition": "auto",
         "type": "bar",
         "x": [
          5
         ],
         "xaxis": "x",
         "y": [
          "DAL"
         ],
         "yaxis": "y"
        },
        {
         "alignmentgroup": "True",
         "hovertemplate": "team=%{y}<br>times_picked=%{x}<extra></extra>",
         "legendgroup": "CIN",
         "marker": {
          "color": "#FB4F14",
          "pattern": {
           "shape": ""
          }
         },
         "name": "CIN",
         "offsetgroup": "CIN",
         "orientation": "h",
         "showlegend": false,
         "textposition": "auto",
         "type": "bar",
         "x": [
          5
         ],
         "xaxis": "x",
         "y": [
          "CIN"
         ],
         "yaxis": "y"
        },
        {
         "alignmentgroup": "True",
         "hovertemplate": "team=%{y}<br>times_picked=%{x}<extra></extra>",
         "legendgroup": "ARI",
         "marker": {
          "color": "#97233F",
          "pattern": {
           "shape": ""
          }
         },
         "name": "ARI",
         "offsetgroup": "ARI",
         "orientation": "h",
         "showlegend": false,
         "textposition": "auto",
         "type": "bar",
         "x": [
          5
         ],
         "xaxis": "x",
         "y": [
          "ARI"
         ],
         "yaxis": "y"
        },
        {
         "alignmentgroup": "True",
         "hovertemplate": "team=%{y}<br>times_picked=%{x}<extra></extra>",
         "legendgroup": "PHI",
         "marker": {
          "color": "#004C54",
          "pattern": {
           "shape": ""
          }
         },
         "name": "PHI",
         "offsetgroup": "PHI",
         "orientation": "h",
         "showlegend": false,
         "textposition": "auto",
         "type": "bar",
         "x": [
          1
         ],
         "xaxis": "x",
         "y": [
          "PHI"
         ],
         "yaxis": "y"
        },
        {
         "marker": {
          "color": [
           "#D3BC8D",
           "#002C5F",
           "#FF3C00",
           "#003F2D",
           "#007BC7",
           "#00338D",
           "#0085CA",
           "#0076B6",
           "#4F2683",
           "#03202F",
           "#5A1414",
           "#4B92DB",
           "#B3995D",
           "#FB4F14",
           "#003594",
           "#0B2265",
           "#002244",
           "#006778",
           "#008E97",
           "#203731",
           "#000000",
           "#E31837",
           "#A71930",
           "#000000",
           "#69be28",
           "#E64100",
           "#A71930",
           "#241773",
           "#002244",
           "#FB4F14",
           "#97233F",
           "#004C54"
          ]
         },
         "opacity": 0.5,
         "orientation": "h",
         "showlegend": false,
         "type": "bar",
         "x": [
          2,
          2,
          2,
          0,
          4,
          3,
          1,
          2,
          3,
          1,
          0,
          2,
          1,
          0,
          2,
          0,
          0,
          1,
          2,
          1,
          1,
          0,
          0,
          3,
          1,
          2,
          1,
          0,
          0,
          1,
          0,
          1
         ],
         "y": [
          "NO",
          "IND",
          "CLE",
          "NYJ",
          "LAC",
          "BUF",
          "CAR",
          "DET",
          "MIN",
          "HOU",
          "WAS",
          "TEN",
          "SF",
          "DEN",
          "LA",
          "NYG",
          "NE",
          "JAX",
          "MIA",
          "GB",
          "PIT",
          "KC",
          "ATL",
          "LV",
          "SEA",
          "CHI",
          "TB",
          "BAL",
          "DAL",
          "CIN",
          "ARI",
          "PHI"
         ]
        }
       ],
       "layout": {
        "barmode": "relative",
        "height": 1000,
        "images": [
         {
          "opacity": 1,
          "sizex": 1.25,
          "sizey": 1.25,
          "sizing": "contain",
          "source": "https://a.espncdn.com/i/teamlogos/nfl/500/NO.png",
          "x": 17,
          "xanchor": "center",
          "xref": "x",
          "y": "NO",
          "yanchor": "middle",
          "yref": "y"
         },
         {
          "opacity": 1,
          "sizex": 1.25,
          "sizey": 1.25,
          "sizing": "contain",
          "source": "https://a.espncdn.com/i/teamlogos/nfl/500/IND.png",
          "x": 17,
          "xanchor": "center",
          "xref": "x",
          "y": "IND",
          "yanchor": "middle",
          "yref": "y"
         },
         {
          "opacity": 1,
          "sizex": 1.25,
          "sizey": 1.25,
          "sizing": "contain",
          "source": "https://a.espncdn.com/i/teamlogos/nfl/500/CLE.png",
          "x": 16,
          "xanchor": "center",
          "xref": "x",
          "y": "CLE",
          "yanchor": "middle",
          "yref": "y"
         },
         {
          "opacity": 1,
          "sizex": 1.25,
          "sizey": 1.25,
          "sizing": "contain",
          "source": "https://a.espncdn.com/i/teamlogos/nfl/500/NYJ.png",
          "x": 12,
          "xanchor": "center",
          "xref": "x",
          "y": "NYJ",
          "yanchor": "middle",
          "yref": "y"
         },
         {
          "opacity": 1,
          "sizex": 1.25,
          "sizey": 1.25,
          "sizing": "contain",
          "source": "https://a.espncdn.com/i/teamlogos/nfl/500/LAC.png",
          "x": 15,
          "xanchor": "center",
          "xref": "x",
          "y": "LAC",
          "yanchor": "middle",
          "yref": "y"
         },
         {
          "opacity": 1,
          "sizex": 1.25,
          "sizey": 1.25,
          "sizing": "contain",
          "source": "https://a.espncdn.com/i/teamlogos/nfl/500/BUF.png",
          "x": 14,
          "xanchor": "center",
          "xref": "x",
          "y": "BUF",
          "yanchor": "middle",
          "yref": "y"
         },
         {
          "opacity": 1,
          "sizex": 1.25,
          "sizey": 1.25,
          "sizing": "contain",
          "source": "https://a.espncdn.com/i/teamlogos/nfl/500/CAR.png",
          "x": 12,
          "xanchor": "center",
          "xref": "x",
          "y": "CAR",
          "yanchor": "middle",
          "yref": "y"
         },
         {
          "opacity": 1,
          "sizex": 1.25,
          "sizey": 1.25,
          "sizing": "contain",
          "source": "https://a.espncdn.com/i/teamlogos/nfl/500/DET.png",
          "x": 13,
          "xanchor": "center",
          "xref": "x",
          "y": "DET",
          "yanchor": "middle",
          "yref": "y"
         },
         {
          "opacity": 1,
          "sizex": 1.25,
          "sizey": 1.25,
          "sizing": "contain",
          "source": "https://a.espncdn.com/i/teamlogos/nfl/500/MIN.png",
          "x": 14,
          "xanchor": "center",
          "xref": "x",
          "y": "MIN",
          "yanchor": "middle",
          "yref": "y"
         },
         {
          "opacity": 1,
          "sizex": 1.25,
          "sizey": 1.25,
          "sizing": "contain",
          "source": "https://a.espncdn.com/i/teamlogos/nfl/500/HOU.png",
          "x": 12,
          "xanchor": "center",
          "xref": "x",
          "y": "HOU",
          "yanchor": "middle",
          "yref": "y"
         },
         {
          "opacity": 1,
          "sizex": 1.25,
          "sizey": 1.25,
          "sizing": "contain",
          "source": "https://a.espncdn.com/i/teamlogos/nfl/500/WAS.png",
          "x": 10,
          "xanchor": "center",
          "xref": "x",
          "y": "WAS",
          "yanchor": "middle",
          "yref": "y"
         },
         {
          "opacity": 1,
          "sizex": 1.25,
          "sizey": 1.25,
          "sizing": "contain",
          "source": "https://a.espncdn.com/i/teamlogos/nfl/500/TEN.png",
          "x": 12,
          "xanchor": "center",
          "xref": "x",
          "y": "TEN",
          "yanchor": "middle",
          "yref": "y"
         },
         {
          "opacity": 1,
          "sizex": 1.25,
          "sizey": 1.25,
          "sizing": "contain",
          "source": "https://a.espncdn.com/i/teamlogos/nfl/500/SF.png",
          "x": 11,
          "xanchor": "center",
          "xref": "x",
          "y": "SF",
          "yanchor": "middle",
          "yref": "y"
         },
         {
          "opacity": 1,
          "sizex": 1.25,
          "sizey": 1.25,
          "sizing": "contain",
          "source": "https://a.espncdn.com/i/teamlogos/nfl/500/DEN.png",
          "x": 10,
          "xanchor": "center",
          "xref": "x",
          "y": "DEN",
          "yanchor": "middle",
          "yref": "y"
         },
         {
          "opacity": 1,
          "sizex": 1.25,
          "sizey": 1.25,
          "sizing": "contain",
          "source": "https://a.espncdn.com/i/teamlogos/nfl/500/LA.png",
          "x": 11,
          "xanchor": "center",
          "xref": "x",
          "y": "LA",
          "yanchor": "middle",
          "yref": "y"
         },
         {
          "opacity": 1,
          "sizex": 1.25,
          "sizey": 1.25,
          "sizing": "contain",
          "source": "https://a.espncdn.com/i/teamlogos/nfl/500/NYG.png",
          "x": 8,
          "xanchor": "center",
          "xref": "x",
          "y": "NYG",
          "yanchor": "middle",
          "yref": "y"
         },
         {
          "opacity": 1,
          "sizex": 1.25,
          "sizey": 1.25,
          "sizing": "contain",
          "source": "https://a.espncdn.com/i/teamlogos/nfl/500/NE.png",
          "x": 8,
          "xanchor": "center",
          "xref": "x",
          "y": "NE",
          "yanchor": "middle",
          "yref": "y"
         },
         {
          "opacity": 1,
          "sizex": 1.25,
          "sizey": 1.25,
          "sizing": "contain",
          "source": "https://a.espncdn.com/i/teamlogos/nfl/500/JAX.png",
          "x": 9,
          "xanchor": "center",
          "xref": "x",
          "y": "JAX",
          "yanchor": "middle",
          "yref": "y"
         },
         {
          "opacity": 1,
          "sizex": 1.25,
          "sizey": 1.25,
          "sizing": "contain",
          "source": "https://a.espncdn.com/i/teamlogos/nfl/500/MIA.png",
          "x": 10,
          "xanchor": "center",
          "xref": "x",
          "y": "MIA",
          "yanchor": "middle",
          "yref": "y"
         },
         {
          "opacity": 1,
          "sizex": 1.25,
          "sizey": 1.25,
          "sizing": "contain",
          "source": "https://a.espncdn.com/i/teamlogos/nfl/500/GB.png",
          "x": 9,
          "xanchor": "center",
          "xref": "x",
          "y": "GB",
          "yanchor": "middle",
          "yref": "y"
         },
         {
          "opacity": 1,
          "sizex": 1.25,
          "sizey": 1.25,
          "sizing": "contain",
          "source": "https://a.espncdn.com/i/teamlogos/nfl/500/PIT.png",
          "x": 8,
          "xanchor": "center",
          "xref": "x",
          "y": "PIT",
          "yanchor": "middle",
          "yref": "y"
         },
         {
          "opacity": 1,
          "sizex": 1.25,
          "sizey": 1.25,
          "sizing": "contain",
          "source": "https://a.espncdn.com/i/teamlogos/nfl/500/KC.png",
          "x": 7,
          "xanchor": "center",
          "xref": "x",
          "y": "KC",
          "yanchor": "middle",
          "yref": "y"
         },
         {
          "opacity": 1,
          "sizex": 1.25,
          "sizey": 1.25,
          "sizing": "contain",
          "source": "https://a.espncdn.com/i/teamlogos/nfl/500/ATL.png",
          "x": 6,
          "xanchor": "center",
          "xref": "x",
          "y": "ATL",
          "yanchor": "middle",
          "yref": "y"
         },
         {
          "opacity": 1,
          "sizex": 1.25,
          "sizey": 1.25,
          "sizing": "contain",
          "source": "https://a.espncdn.com/i/teamlogos/nfl/500/LV.png",
          "x": 9,
          "xanchor": "center",
          "xref": "x",
          "y": "LV",
          "yanchor": "middle",
          "yref": "y"
         },
         {
          "opacity": 1,
          "sizex": 1.25,
          "sizey": 1.25,
          "sizing": "contain",
          "source": "https://a.espncdn.com/i/teamlogos/nfl/500/SEA.png",
          "x": 7,
          "xanchor": "center",
          "xref": "x",
          "y": "SEA",
          "yanchor": "middle",
          "yref": "y"
         },
         {
          "opacity": 1,
          "sizex": 1.25,
          "sizey": 1.25,
          "sizing": "contain",
          "source": "https://a.espncdn.com/i/teamlogos/nfl/500/CHI.png",
          "x": 8,
          "xanchor": "center",
          "xref": "x",
          "y": "CHI",
          "yanchor": "middle",
          "yref": "y"
         },
         {
          "opacity": 1,
          "sizex": 1.25,
          "sizey": 1.25,
          "sizing": "contain",
          "source": "https://a.espncdn.com/i/teamlogos/nfl/500/TB.png",
          "x": 7,
          "xanchor": "center",
          "xref": "x",
          "y": "TB",
          "yanchor": "middle",
          "yref": "y"
         },
         {
          "opacity": 1,
          "sizex": 1.25,
          "sizey": 1.25,
          "sizing": "contain",
          "source": "https://a.espncdn.com/i/teamlogos/nfl/500/BAL.png",
          "x": 6,
          "xanchor": "center",
          "xref": "x",
          "y": "BAL",
          "yanchor": "middle",
          "yref": "y"
         },
         {
          "opacity": 1,
          "sizex": 1.25,
          "sizey": 1.25,
          "sizing": "contain",
          "source": "https://a.espncdn.com/i/teamlogos/nfl/500/DAL.png",
          "x": 5,
          "xanchor": "center",
          "xref": "x",
          "y": "DAL",
          "yanchor": "middle",
          "yref": "y"
         },
         {
          "opacity": 1,
          "sizex": 1.25,
          "sizey": 1.25,
          "sizing": "contain",
          "source": "https://a.espncdn.com/i/teamlogos/nfl/500/CIN.png",
          "x": 6,
          "xanchor": "center",
          "xref": "x",
          "y": "CIN",
          "yanchor": "middle",
          "yref": "y"
         },
         {
          "opacity": 1,
          "sizex": 1.25,
          "sizey": 1.25,
          "sizing": "contain",
          "source": "https://a.espncdn.com/i/teamlogos/nfl/500/ARI.png",
          "x": 5,
          "xanchor": "center",
          "xref": "x",
          "y": "ARI",
          "yanchor": "middle",
          "yref": "y"
         },
         {
          "opacity": 1,
          "sizex": 1.25,
          "sizey": 1.25,
          "sizing": "contain",
          "source": "https://a.espncdn.com/i/teamlogos/nfl/500/PHI.png",
          "x": 2,
          "xanchor": "center",
          "xref": "x",
          "y": "PHI",
          "yanchor": "middle",
          "yref": "y"
         }
        ],
        "legend": {
         "title": {
          "text": "team"
         },
         "tracegroupgap": 0
        },
        "margin": {
         "t": 60
        },
        "template": {
         "data": {
          "bar": [
           {
            "error_x": {
             "color": "#2a3f5f"
            },
            "error_y": {
             "color": "#2a3f5f"
            },
            "marker": {
             "line": {
              "color": "#E5ECF6",
              "width": 0.5
             },
             "pattern": {
              "fillmode": "overlay",
              "size": 10,
              "solidity": 0.2
             }
            },
            "type": "bar"
           }
          ],
          "barpolar": [
           {
            "marker": {
             "line": {
              "color": "#E5ECF6",
              "width": 0.5
             },
             "pattern": {
              "fillmode": "overlay",
              "size": 10,
              "solidity": 0.2
             }
            },
            "type": "barpolar"
           }
          ],
          "carpet": [
           {
            "aaxis": {
             "endlinecolor": "#2a3f5f",
             "gridcolor": "white",
             "linecolor": "white",
             "minorgridcolor": "white",
             "startlinecolor": "#2a3f5f"
            },
            "baxis": {
             "endlinecolor": "#2a3f5f",
             "gridcolor": "white",
             "linecolor": "white",
             "minorgridcolor": "white",
             "startlinecolor": "#2a3f5f"
            },
            "type": "carpet"
           }
          ],
          "choropleth": [
           {
            "colorbar": {
             "outlinewidth": 0,
             "ticks": ""
            },
            "type": "choropleth"
           }
          ],
          "contour": [
           {
            "colorbar": {
             "outlinewidth": 0,
             "ticks": ""
            },
            "colorscale": [
             [
              0,
              "#0d0887"
             ],
             [
              0.1111111111111111,
              "#46039f"
             ],
             [
              0.2222222222222222,
              "#7201a8"
             ],
             [
              0.3333333333333333,
              "#9c179e"
             ],
             [
              0.4444444444444444,
              "#bd3786"
             ],
             [
              0.5555555555555556,
              "#d8576b"
             ],
             [
              0.6666666666666666,
              "#ed7953"
             ],
             [
              0.7777777777777778,
              "#fb9f3a"
             ],
             [
              0.8888888888888888,
              "#fdca26"
             ],
             [
              1,
              "#f0f921"
             ]
            ],
            "type": "contour"
           }
          ],
          "contourcarpet": [
           {
            "colorbar": {
             "outlinewidth": 0,
             "ticks": ""
            },
            "type": "contourcarpet"
           }
          ],
          "heatmap": [
           {
            "colorbar": {
             "outlinewidth": 0,
             "ticks": ""
            },
            "colorscale": [
             [
              0,
              "#0d0887"
             ],
             [
              0.1111111111111111,
              "#46039f"
             ],
             [
              0.2222222222222222,
              "#7201a8"
             ],
             [
              0.3333333333333333,
              "#9c179e"
             ],
             [
              0.4444444444444444,
              "#bd3786"
             ],
             [
              0.5555555555555556,
              "#d8576b"
             ],
             [
              0.6666666666666666,
              "#ed7953"
             ],
             [
              0.7777777777777778,
              "#fb9f3a"
             ],
             [
              0.8888888888888888,
              "#fdca26"
             ],
             [
              1,
              "#f0f921"
             ]
            ],
            "type": "heatmap"
           }
          ],
          "heatmapgl": [
           {
            "colorbar": {
             "outlinewidth": 0,
             "ticks": ""
            },
            "colorscale": [
             [
              0,
              "#0d0887"
             ],
             [
              0.1111111111111111,
              "#46039f"
             ],
             [
              0.2222222222222222,
              "#7201a8"
             ],
             [
              0.3333333333333333,
              "#9c179e"
             ],
             [
              0.4444444444444444,
              "#bd3786"
             ],
             [
              0.5555555555555556,
              "#d8576b"
             ],
             [
              0.6666666666666666,
              "#ed7953"
             ],
             [
              0.7777777777777778,
              "#fb9f3a"
             ],
             [
              0.8888888888888888,
              "#fdca26"
             ],
             [
              1,
              "#f0f921"
             ]
            ],
            "type": "heatmapgl"
           }
          ],
          "histogram": [
           {
            "marker": {
             "pattern": {
              "fillmode": "overlay",
              "size": 10,
              "solidity": 0.2
             }
            },
            "type": "histogram"
           }
          ],
          "histogram2d": [
           {
            "colorbar": {
             "outlinewidth": 0,
             "ticks": ""
            },
            "colorscale": [
             [
              0,
              "#0d0887"
             ],
             [
              0.1111111111111111,
              "#46039f"
             ],
             [
              0.2222222222222222,
              "#7201a8"
             ],
             [
              0.3333333333333333,
              "#9c179e"
             ],
             [
              0.4444444444444444,
              "#bd3786"
             ],
             [
              0.5555555555555556,
              "#d8576b"
             ],
             [
              0.6666666666666666,
              "#ed7953"
             ],
             [
              0.7777777777777778,
              "#fb9f3a"
             ],
             [
              0.8888888888888888,
              "#fdca26"
             ],
             [
              1,
              "#f0f921"
             ]
            ],
            "type": "histogram2d"
           }
          ],
          "histogram2dcontour": [
           {
            "colorbar": {
             "outlinewidth": 0,
             "ticks": ""
            },
            "colorscale": [
             [
              0,
              "#0d0887"
             ],
             [
              0.1111111111111111,
              "#46039f"
             ],
             [
              0.2222222222222222,
              "#7201a8"
             ],
             [
              0.3333333333333333,
              "#9c179e"
             ],
             [
              0.4444444444444444,
              "#bd3786"
             ],
             [
              0.5555555555555556,
              "#d8576b"
             ],
             [
              0.6666666666666666,
              "#ed7953"
             ],
             [
              0.7777777777777778,
              "#fb9f3a"
             ],
             [
              0.8888888888888888,
              "#fdca26"
             ],
             [
              1,
              "#f0f921"
             ]
            ],
            "type": "histogram2dcontour"
           }
          ],
          "mesh3d": [
           {
            "colorbar": {
             "outlinewidth": 0,
             "ticks": ""
            },
            "type": "mesh3d"
           }
          ],
          "parcoords": [
           {
            "line": {
             "colorbar": {
              "outlinewidth": 0,
              "ticks": ""
             }
            },
            "type": "parcoords"
           }
          ],
          "pie": [
           {
            "automargin": true,
            "type": "pie"
           }
          ],
          "scatter": [
           {
            "fillpattern": {
             "fillmode": "overlay",
             "size": 10,
             "solidity": 0.2
            },
            "type": "scatter"
           }
          ],
          "scatter3d": [
           {
            "line": {
             "colorbar": {
              "outlinewidth": 0,
              "ticks": ""
             }
            },
            "marker": {
             "colorbar": {
              "outlinewidth": 0,
              "ticks": ""
             }
            },
            "type": "scatter3d"
           }
          ],
          "scattercarpet": [
           {
            "marker": {
             "colorbar": {
              "outlinewidth": 0,
              "ticks": ""
             }
            },
            "type": "scattercarpet"
           }
          ],
          "scattergeo": [
           {
            "marker": {
             "colorbar": {
              "outlinewidth": 0,
              "ticks": ""
             }
            },
            "type": "scattergeo"
           }
          ],
          "scattergl": [
           {
            "marker": {
             "colorbar": {
              "outlinewidth": 0,
              "ticks": ""
             }
            },
            "type": "scattergl"
           }
          ],
          "scattermapbox": [
           {
            "marker": {
             "colorbar": {
              "outlinewidth": 0,
              "ticks": ""
             }
            },
            "type": "scattermapbox"
           }
          ],
          "scatterpolar": [
           {
            "marker": {
             "colorbar": {
              "outlinewidth": 0,
              "ticks": ""
             }
            },
            "type": "scatterpolar"
           }
          ],
          "scatterpolargl": [
           {
            "marker": {
             "colorbar": {
              "outlinewidth": 0,
              "ticks": ""
             }
            },
            "type": "scatterpolargl"
           }
          ],
          "scatterternary": [
           {
            "marker": {
             "colorbar": {
              "outlinewidth": 0,
              "ticks": ""
             }
            },
            "type": "scatterternary"
           }
          ],
          "surface": [
           {
            "colorbar": {
             "outlinewidth": 0,
             "ticks": ""
            },
            "colorscale": [
             [
              0,
              "#0d0887"
             ],
             [
              0.1111111111111111,
              "#46039f"
             ],
             [
              0.2222222222222222,
              "#7201a8"
             ],
             [
              0.3333333333333333,
              "#9c179e"
             ],
             [
              0.4444444444444444,
              "#bd3786"
             ],
             [
              0.5555555555555556,
              "#d8576b"
             ],
             [
              0.6666666666666666,
              "#ed7953"
             ],
             [
              0.7777777777777778,
              "#fb9f3a"
             ],
             [
              0.8888888888888888,
              "#fdca26"
             ],
             [
              1,
              "#f0f921"
             ]
            ],
            "type": "surface"
           }
          ],
          "table": [
           {
            "cells": {
             "fill": {
              "color": "#EBF0F8"
             },
             "line": {
              "color": "white"
             }
            },
            "header": {
             "fill": {
              "color": "#C8D4E3"
             },
             "line": {
              "color": "white"
             }
            },
            "type": "table"
           }
          ]
         },
         "layout": {
          "annotationdefaults": {
           "arrowcolor": "#2a3f5f",
           "arrowhead": 0,
           "arrowwidth": 1
          },
          "autotypenumbers": "strict",
          "coloraxis": {
           "colorbar": {
            "outlinewidth": 0,
            "ticks": ""
           }
          },
          "colorscale": {
           "diverging": [
            [
             0,
             "#8e0152"
            ],
            [
             0.1,
             "#c51b7d"
            ],
            [
             0.2,
             "#de77ae"
            ],
            [
             0.3,
             "#f1b6da"
            ],
            [
             0.4,
             "#fde0ef"
            ],
            [
             0.5,
             "#f7f7f7"
            ],
            [
             0.6,
             "#e6f5d0"
            ],
            [
             0.7,
             "#b8e186"
            ],
            [
             0.8,
             "#7fbc41"
            ],
            [
             0.9,
             "#4d9221"
            ],
            [
             1,
             "#276419"
            ]
           ],
           "sequential": [
            [
             0,
             "#0d0887"
            ],
            [
             0.1111111111111111,
             "#46039f"
            ],
            [
             0.2222222222222222,
             "#7201a8"
            ],
            [
             0.3333333333333333,
             "#9c179e"
            ],
            [
             0.4444444444444444,
             "#bd3786"
            ],
            [
             0.5555555555555556,
             "#d8576b"
            ],
            [
             0.6666666666666666,
             "#ed7953"
            ],
            [
             0.7777777777777778,
             "#fb9f3a"
            ],
            [
             0.8888888888888888,
             "#fdca26"
            ],
            [
             1,
             "#f0f921"
            ]
           ],
           "sequentialminus": [
            [
             0,
             "#0d0887"
            ],
            [
             0.1111111111111111,
             "#46039f"
            ],
            [
             0.2222222222222222,
             "#7201a8"
            ],
            [
             0.3333333333333333,
             "#9c179e"
            ],
            [
             0.4444444444444444,
             "#bd3786"
            ],
            [
             0.5555555555555556,
             "#d8576b"
            ],
            [
             0.6666666666666666,
             "#ed7953"
            ],
            [
             0.7777777777777778,
             "#fb9f3a"
            ],
            [
             0.8888888888888888,
             "#fdca26"
            ],
            [
             1,
             "#f0f921"
            ]
           ]
          },
          "colorway": [
           "#636efa",
           "#EF553B",
           "#00cc96",
           "#ab63fa",
           "#FFA15A",
           "#19d3f3",
           "#FF6692",
           "#B6E880",
           "#FF97FF",
           "#FECB52"
          ],
          "font": {
           "color": "#2a3f5f"
          },
          "geo": {
           "bgcolor": "white",
           "lakecolor": "white",
           "landcolor": "#E5ECF6",
           "showlakes": true,
           "showland": true,
           "subunitcolor": "white"
          },
          "hoverlabel": {
           "align": "left"
          },
          "hovermode": "closest",
          "mapbox": {
           "style": "light"
          },
          "paper_bgcolor": "white",
          "plot_bgcolor": "#E5ECF6",
          "polar": {
           "angularaxis": {
            "gridcolor": "white",
            "linecolor": "white",
            "ticks": ""
           },
           "bgcolor": "#E5ECF6",
           "radialaxis": {
            "gridcolor": "white",
            "linecolor": "white",
            "ticks": ""
           }
          },
          "scene": {
           "xaxis": {
            "backgroundcolor": "#E5ECF6",
            "gridcolor": "white",
            "gridwidth": 2,
            "linecolor": "white",
            "showbackground": true,
            "ticks": "",
            "zerolinecolor": "white"
           },
           "yaxis": {
            "backgroundcolor": "#E5ECF6",
            "gridcolor": "white",
            "gridwidth": 2,
            "linecolor": "white",
            "showbackground": true,
            "ticks": "",
            "zerolinecolor": "white"
           },
           "zaxis": {
            "backgroundcolor": "#E5ECF6",
            "gridcolor": "white",
            "gridwidth": 2,
            "linecolor": "white",
            "showbackground": true,
            "ticks": "",
            "zerolinecolor": "white"
           }
          },
          "shapedefaults": {
           "line": {
            "color": "#2a3f5f"
           }
          },
          "ternary": {
           "aaxis": {
            "gridcolor": "white",
            "linecolor": "white",
            "ticks": ""
           },
           "baxis": {
            "gridcolor": "white",
            "linecolor": "white",
            "ticks": ""
           },
           "bgcolor": "#E5ECF6",
           "caxis": {
            "gridcolor": "white",
            "linecolor": "white",
            "ticks": ""
           }
          },
          "title": {
           "x": 0.05
          },
          "xaxis": {
           "automargin": true,
           "gridcolor": "white",
           "linecolor": "white",
           "ticks": "",
           "title": {
            "standoff": 15
           },
           "zerolinecolor": "white",
           "zerolinewidth": 2
          },
          "yaxis": {
           "automargin": true,
           "gridcolor": "white",
           "linecolor": "white",
           "ticks": "",
           "title": {
            "standoff": 15
           },
           "zerolinecolor": "white",
           "zerolinewidth": 2
          }
         }
        },
        "title": {
         "text": "Times Harry Picked a Team ATS"
        },
        "width": 800,
        "xaxis": {
         "anchor": "y",
         "domain": [
          0,
          1
         ],
         "title": {
          "text": "Times Picked ATS"
         }
        },
        "yaxis": {
         "anchor": "x",
         "categoryarray": [
          "PHI",
          "ARI",
          "CIN",
          "DAL",
          "BAL",
          "TB",
          "CHI",
          "SEA",
          "LV",
          "ATL",
          "KC",
          "PIT",
          "GB",
          "MIA",
          "JAX",
          "NE",
          "NYG",
          "LA",
          "DEN",
          "SF",
          "TEN",
          "WAS",
          "HOU",
          "MIN",
          "DET",
          "CAR",
          "BUF",
          "LAC",
          "NYJ",
          "CLE",
          "IND",
          "NO"
         ],
         "categoryorder": "total ascending",
         "domain": [
          0,
          1
         ],
         "title": {
          "text": "Teams"
         }
        }
       }
      }
     },
     "metadata": {},
     "output_type": "display_data"
    },
    {
     "data": {
      "application/vnd.plotly.v1+json": {
       "config": {
        "plotlyServerURL": "https://plot.ly"
       },
       "data": [
        {
         "alignmentgroup": "True",
         "hovertemplate": "team=%{y}<br>times_picked=%{x}<extra></extra>",
         "legendgroup": "WAS",
         "marker": {
          "color": "#5A1414",
          "pattern": {
           "shape": ""
          }
         },
         "name": "WAS",
         "offsetgroup": "WAS",
         "orientation": "h",
         "showlegend": false,
         "textposition": "auto",
         "type": "bar",
         "x": [
          13
         ],
         "xaxis": "x",
         "y": [
          "WAS"
         ],
         "yaxis": "y"
        },
        {
         "alignmentgroup": "True",
         "hovertemplate": "team=%{y}<br>times_picked=%{x}<extra></extra>",
         "legendgroup": "CLE",
         "marker": {
          "color": "#FF3C00",
          "pattern": {
           "shape": ""
          }
         },
         "name": "CLE",
         "offsetgroup": "CLE",
         "orientation": "h",
         "showlegend": false,
         "textposition": "auto",
         "type": "bar",
         "x": [
          12
         ],
         "xaxis": "x",
         "y": [
          "CLE"
         ],
         "yaxis": "y"
        },
        {
         "alignmentgroup": "True",
         "hovertemplate": "team=%{y}<br>times_picked=%{x}<extra></extra>",
         "legendgroup": "ARI",
         "marker": {
          "color": "#97233F",
          "pattern": {
           "shape": ""
          }
         },
         "name": "ARI",
         "offsetgroup": "ARI",
         "orientation": "h",
         "showlegend": false,
         "textposition": "auto",
         "type": "bar",
         "x": [
          12
         ],
         "xaxis": "x",
         "y": [
          "ARI"
         ],
         "yaxis": "y"
        },
        {
         "alignmentgroup": "True",
         "hovertemplate": "team=%{y}<br>times_picked=%{x}<extra></extra>",
         "legendgroup": "LA",
         "marker": {
          "color": "#003594",
          "pattern": {
           "shape": ""
          }
         },
         "name": "LA",
         "offsetgroup": "LA",
         "orientation": "h",
         "showlegend": false,
         "textposition": "auto",
         "type": "bar",
         "x": [
          12
         ],
         "xaxis": "x",
         "y": [
          "LA"
         ],
         "yaxis": "y"
        },
        {
         "alignmentgroup": "True",
         "hovertemplate": "team=%{y}<br>times_picked=%{x}<extra></extra>",
         "legendgroup": "KC",
         "marker": {
          "color": "#E31837",
          "pattern": {
           "shape": ""
          }
         },
         "name": "KC",
         "offsetgroup": "KC",
         "orientation": "h",
         "showlegend": false,
         "textposition": "auto",
         "type": "bar",
         "x": [
          10
         ],
         "xaxis": "x",
         "y": [
          "KC"
         ],
         "yaxis": "y"
        },
        {
         "alignmentgroup": "True",
         "hovertemplate": "team=%{y}<br>times_picked=%{x}<extra></extra>",
         "legendgroup": "TEN",
         "marker": {
          "color": "#4B92DB",
          "pattern": {
           "shape": ""
          }
         },
         "name": "TEN",
         "offsetgroup": "TEN",
         "orientation": "h",
         "showlegend": false,
         "textposition": "auto",
         "type": "bar",
         "x": [
          10
         ],
         "xaxis": "x",
         "y": [
          "TEN"
         ],
         "yaxis": "y"
        },
        {
         "alignmentgroup": "True",
         "hovertemplate": "team=%{y}<br>times_picked=%{x}<extra></extra>",
         "legendgroup": "SEA",
         "marker": {
          "color": "#69be28",
          "pattern": {
           "shape": ""
          }
         },
         "name": "SEA",
         "offsetgroup": "SEA",
         "orientation": "h",
         "showlegend": false,
         "textposition": "auto",
         "type": "bar",
         "x": [
          10
         ],
         "xaxis": "x",
         "y": [
          "SEA"
         ],
         "yaxis": "y"
        },
        {
         "alignmentgroup": "True",
         "hovertemplate": "team=%{y}<br>times_picked=%{x}<extra></extra>",
         "legendgroup": "LV",
         "marker": {
          "color": "#000000",
          "pattern": {
           "shape": ""
          }
         },
         "name": "LV",
         "offsetgroup": "LV",
         "orientation": "h",
         "showlegend": false,
         "textposition": "auto",
         "type": "bar",
         "x": [
          10
         ],
         "xaxis": "x",
         "y": [
          "LV"
         ],
         "yaxis": "y"
        },
        {
         "alignmentgroup": "True",
         "hovertemplate": "team=%{y}<br>times_picked=%{x}<extra></extra>",
         "legendgroup": "NE",
         "marker": {
          "color": "#002244",
          "pattern": {
           "shape": ""
          }
         },
         "name": "NE",
         "offsetgroup": "NE",
         "orientation": "h",
         "showlegend": false,
         "textposition": "auto",
         "type": "bar",
         "x": [
          9
         ],
         "xaxis": "x",
         "y": [
          "NE"
         ],
         "yaxis": "y"
        },
        {
         "alignmentgroup": "True",
         "hovertemplate": "team=%{y}<br>times_picked=%{x}<extra></extra>",
         "legendgroup": "GB",
         "marker": {
          "color": "#203731",
          "pattern": {
           "shape": ""
          }
         },
         "name": "GB",
         "offsetgroup": "GB",
         "orientation": "h",
         "showlegend": false,
         "textposition": "auto",
         "type": "bar",
         "x": [
          9
         ],
         "xaxis": "x",
         "y": [
          "GB"
         ],
         "yaxis": "y"
        },
        {
         "alignmentgroup": "True",
         "hovertemplate": "team=%{y}<br>times_picked=%{x}<extra></extra>",
         "legendgroup": "NO",
         "marker": {
          "color": "#D3BC8D",
          "pattern": {
           "shape": ""
          }
         },
         "name": "NO",
         "offsetgroup": "NO",
         "orientation": "h",
         "showlegend": false,
         "textposition": "auto",
         "type": "bar",
         "x": [
          8
         ],
         "xaxis": "x",
         "y": [
          "NO"
         ],
         "yaxis": "y"
        },
        {
         "alignmentgroup": "True",
         "hovertemplate": "team=%{y}<br>times_picked=%{x}<extra></extra>",
         "legendgroup": "ATL",
         "marker": {
          "color": "#A71930",
          "pattern": {
           "shape": ""
          }
         },
         "name": "ATL",
         "offsetgroup": "ATL",
         "orientation": "h",
         "showlegend": false,
         "textposition": "auto",
         "type": "bar",
         "x": [
          8
         ],
         "xaxis": "x",
         "y": [
          "ATL"
         ],
         "yaxis": "y"
        },
        {
         "alignmentgroup": "True",
         "hovertemplate": "team=%{y}<br>times_picked=%{x}<extra></extra>",
         "legendgroup": "LAC",
         "marker": {
          "color": "#007BC7",
          "pattern": {
           "shape": ""
          }
         },
         "name": "LAC",
         "offsetgroup": "LAC",
         "orientation": "h",
         "showlegend": false,
         "textposition": "auto",
         "type": "bar",
         "x": [
          8
         ],
         "xaxis": "x",
         "y": [
          "LAC"
         ],
         "yaxis": "y"
        },
        {
         "alignmentgroup": "True",
         "hovertemplate": "team=%{y}<br>times_picked=%{x}<extra></extra>",
         "legendgroup": "CIN",
         "marker": {
          "color": "#FB4F14",
          "pattern": {
           "shape": ""
          }
         },
         "name": "CIN",
         "offsetgroup": "CIN",
         "orientation": "h",
         "showlegend": false,
         "textposition": "auto",
         "type": "bar",
         "x": [
          8
         ],
         "xaxis": "x",
         "y": [
          "CIN"
         ],
         "yaxis": "y"
        },
        {
         "alignmentgroup": "True",
         "hovertemplate": "team=%{y}<br>times_picked=%{x}<extra></extra>",
         "legendgroup": "IND",
         "marker": {
          "color": "#002C5F",
          "pattern": {
           "shape": ""
          }
         },
         "name": "IND",
         "offsetgroup": "IND",
         "orientation": "h",
         "showlegend": false,
         "textposition": "auto",
         "type": "bar",
         "x": [
          7
         ],
         "xaxis": "x",
         "y": [
          "IND"
         ],
         "yaxis": "y"
        },
        {
         "alignmentgroup": "True",
         "hovertemplate": "team=%{y}<br>times_picked=%{x}<extra></extra>",
         "legendgroup": "MIA",
         "marker": {
          "color": "#008E97",
          "pattern": {
           "shape": ""
          }
         },
         "name": "MIA",
         "offsetgroup": "MIA",
         "orientation": "h",
         "showlegend": false,
         "textposition": "auto",
         "type": "bar",
         "x": [
          7
         ],
         "xaxis": "x",
         "y": [
          "MIA"
         ],
         "yaxis": "y"
        },
        {
         "alignmentgroup": "True",
         "hovertemplate": "team=%{y}<br>times_picked=%{x}<extra></extra>",
         "legendgroup": "SF",
         "marker": {
          "color": "#B3995D",
          "pattern": {
           "shape": ""
          }
         },
         "name": "SF",
         "offsetgroup": "SF",
         "orientation": "h",
         "showlegend": false,
         "textposition": "auto",
         "type": "bar",
         "x": [
          7
         ],
         "xaxis": "x",
         "y": [
          "SF"
         ],
         "yaxis": "y"
        },
        {
         "alignmentgroup": "True",
         "hovertemplate": "team=%{y}<br>times_picked=%{x}<extra></extra>",
         "legendgroup": "NYJ",
         "marker": {
          "color": "#003F2D",
          "pattern": {
           "shape": ""
          }
         },
         "name": "NYJ",
         "offsetgroup": "NYJ",
         "orientation": "h",
         "showlegend": false,
         "textposition": "auto",
         "type": "bar",
         "x": [
          7
         ],
         "xaxis": "x",
         "y": [
          "NYJ"
         ],
         "yaxis": "y"
        },
        {
         "alignmentgroup": "True",
         "hovertemplate": "team=%{y}<br>times_picked=%{x}<extra></extra>",
         "legendgroup": "JAX",
         "marker": {
          "color": "#006778",
          "pattern": {
           "shape": ""
          }
         },
         "name": "JAX",
         "offsetgroup": "JAX",
         "orientation": "h",
         "showlegend": false,
         "textposition": "auto",
         "type": "bar",
         "x": [
          7
         ],
         "xaxis": "x",
         "y": [
          "JAX"
         ],
         "yaxis": "y"
        },
        {
         "alignmentgroup": "True",
         "hovertemplate": "team=%{y}<br>times_picked=%{x}<extra></extra>",
         "legendgroup": "BUF",
         "marker": {
          "color": "#00338D",
          "pattern": {
           "shape": ""
          }
         },
         "name": "BUF",
         "offsetgroup": "BUF",
         "orientation": "h",
         "showlegend": false,
         "textposition": "auto",
         "type": "bar",
         "x": [
          7
         ],
         "xaxis": "x",
         "y": [
          "BUF"
         ],
         "yaxis": "y"
        },
        {
         "alignmentgroup": "True",
         "hovertemplate": "team=%{y}<br>times_picked=%{x}<extra></extra>",
         "legendgroup": "DAL",
         "marker": {
          "color": "#002244",
          "pattern": {
           "shape": ""
          }
         },
         "name": "DAL",
         "offsetgroup": "DAL",
         "orientation": "h",
         "showlegend": false,
         "textposition": "auto",
         "type": "bar",
         "x": [
          6
         ],
         "xaxis": "x",
         "y": [
          "DAL"
         ],
         "yaxis": "y"
        },
        {
         "alignmentgroup": "True",
         "hovertemplate": "team=%{y}<br>times_picked=%{x}<extra></extra>",
         "legendgroup": "DEN",
         "marker": {
          "color": "#FB4F14",
          "pattern": {
           "shape": ""
          }
         },
         "name": "DEN",
         "offsetgroup": "DEN",
         "orientation": "h",
         "showlegend": false,
         "textposition": "auto",
         "type": "bar",
         "x": [
          6
         ],
         "xaxis": "x",
         "y": [
          "DEN"
         ],
         "yaxis": "y"
        },
        {
         "alignmentgroup": "True",
         "hovertemplate": "team=%{y}<br>times_picked=%{x}<extra></extra>",
         "legendgroup": "NYG",
         "marker": {
          "color": "#0B2265",
          "pattern": {
           "shape": ""
          }
         },
         "name": "NYG",
         "offsetgroup": "NYG",
         "orientation": "h",
         "showlegend": false,
         "textposition": "auto",
         "type": "bar",
         "x": [
          6
         ],
         "xaxis": "x",
         "y": [
          "NYG"
         ],
         "yaxis": "y"
        },
        {
         "alignmentgroup": "True",
         "hovertemplate": "team=%{y}<br>times_picked=%{x}<extra></extra>",
         "legendgroup": "BAL",
         "marker": {
          "color": "#241773",
          "pattern": {
           "shape": ""
          }
         },
         "name": "BAL",
         "offsetgroup": "BAL",
         "orientation": "h",
         "showlegend": false,
         "textposition": "auto",
         "type": "bar",
         "x": [
          6
         ],
         "xaxis": "x",
         "y": [
          "BAL"
         ],
         "yaxis": "y"
        },
        {
         "alignmentgroup": "True",
         "hovertemplate": "team=%{y}<br>times_picked=%{x}<extra></extra>",
         "legendgroup": "PIT",
         "marker": {
          "color": "#000000",
          "pattern": {
           "shape": ""
          }
         },
         "name": "PIT",
         "offsetgroup": "PIT",
         "orientation": "h",
         "showlegend": false,
         "textposition": "auto",
         "type": "bar",
         "x": [
          5
         ],
         "xaxis": "x",
         "y": [
          "PIT"
         ],
         "yaxis": "y"
        },
        {
         "alignmentgroup": "True",
         "hovertemplate": "team=%{y}<br>times_picked=%{x}<extra></extra>",
         "legendgroup": "TB",
         "marker": {
          "color": "#A71930",
          "pattern": {
           "shape": ""
          }
         },
         "name": "TB",
         "offsetgroup": "TB",
         "orientation": "h",
         "showlegend": false,
         "textposition": "auto",
         "type": "bar",
         "x": [
          5
         ],
         "xaxis": "x",
         "y": [
          "TB"
         ],
         "yaxis": "y"
        },
        {
         "alignmentgroup": "True",
         "hovertemplate": "team=%{y}<br>times_picked=%{x}<extra></extra>",
         "legendgroup": "CHI",
         "marker": {
          "color": "#E64100",
          "pattern": {
           "shape": ""
          }
         },
         "name": "CHI",
         "offsetgroup": "CHI",
         "orientation": "h",
         "showlegend": false,
         "textposition": "auto",
         "type": "bar",
         "x": [
          5
         ],
         "xaxis": "x",
         "y": [
          "CHI"
         ],
         "yaxis": "y"
        },
        {
         "alignmentgroup": "True",
         "hovertemplate": "team=%{y}<br>times_picked=%{x}<extra></extra>",
         "legendgroup": "MIN",
         "marker": {
          "color": "#4F2683",
          "pattern": {
           "shape": ""
          }
         },
         "name": "MIN",
         "offsetgroup": "MIN",
         "orientation": "h",
         "showlegend": false,
         "textposition": "auto",
         "type": "bar",
         "x": [
          4
         ],
         "xaxis": "x",
         "y": [
          "MIN"
         ],
         "yaxis": "y"
        },
        {
         "alignmentgroup": "True",
         "hovertemplate": "team=%{y}<br>times_picked=%{x}<extra></extra>",
         "legendgroup": "HOU",
         "marker": {
          "color": "#03202F",
          "pattern": {
           "shape": ""
          }
         },
         "name": "HOU",
         "offsetgroup": "HOU",
         "orientation": "h",
         "showlegend": false,
         "textposition": "auto",
         "type": "bar",
         "x": [
          4
         ],
         "xaxis": "x",
         "y": [
          "HOU"
         ],
         "yaxis": "y"
        },
        {
         "alignmentgroup": "True",
         "hovertemplate": "team=%{y}<br>times_picked=%{x}<extra></extra>",
         "legendgroup": "PHI",
         "marker": {
          "color": "#004C54",
          "pattern": {
           "shape": ""
          }
         },
         "name": "PHI",
         "offsetgroup": "PHI",
         "orientation": "h",
         "showlegend": false,
         "textposition": "auto",
         "type": "bar",
         "x": [
          3
         ],
         "xaxis": "x",
         "y": [
          "PHI"
         ],
         "yaxis": "y"
        },
        {
         "alignmentgroup": "True",
         "hovertemplate": "team=%{y}<br>times_picked=%{x}<extra></extra>",
         "legendgroup": "CAR",
         "marker": {
          "color": "#0085CA",
          "pattern": {
           "shape": ""
          }
         },
         "name": "CAR",
         "offsetgroup": "CAR",
         "orientation": "h",
         "showlegend": false,
         "textposition": "auto",
         "type": "bar",
         "x": [
          2
         ],
         "xaxis": "x",
         "y": [
          "CAR"
         ],
         "yaxis": "y"
        },
        {
         "alignmentgroup": "True",
         "hovertemplate": "team=%{y}<br>times_picked=%{x}<extra></extra>",
         "legendgroup": "DET",
         "marker": {
          "color": "#0076B6",
          "pattern": {
           "shape": ""
          }
         },
         "name": "DET",
         "offsetgroup": "DET",
         "orientation": "h",
         "showlegend": false,
         "textposition": "auto",
         "type": "bar",
         "x": [
          2
         ],
         "xaxis": "x",
         "y": [
          "DET"
         ],
         "yaxis": "y"
        },
        {
         "marker": {
          "color": [
           "#5A1414",
           "#FF3C00",
           "#97233F",
           "#003594",
           "#E31837",
           "#4B92DB",
           "#69be28",
           "#000000",
           "#002244",
           "#203731",
           "#D3BC8D",
           "#A71930",
           "#007BC7",
           "#FB4F14",
           "#002C5F",
           "#008E97",
           "#B3995D",
           "#003F2D",
           "#006778",
           "#00338D",
           "#002244",
           "#FB4F14",
           "#0B2265",
           "#241773",
           "#000000",
           "#A71930",
           "#E64100",
           "#4F2683",
           "#03202F",
           "#004C54",
           "#0085CA",
           "#0076B6"
          ]
         },
         "opacity": 0.5,
         "orientation": "h",
         "showlegend": false,
         "type": "bar",
         "x": [
          0,
          3,
          2,
          1,
          1,
          0,
          3,
          3,
          1,
          3,
          0,
          1,
          1,
          2,
          3,
          1,
          1,
          1,
          2,
          0,
          0,
          0,
          1,
          1,
          0,
          1,
          1,
          0,
          0,
          0,
          0,
          0
         ],
         "y": [
          "WAS",
          "CLE",
          "ARI",
          "LA",
          "KC",
          "TEN",
          "SEA",
          "LV",
          "NE",
          "GB",
          "NO",
          "ATL",
          "LAC",
          "CIN",
          "IND",
          "MIA",
          "SF",
          "NYJ",
          "JAX",
          "BUF",
          "DAL",
          "DEN",
          "NYG",
          "BAL",
          "PIT",
          "TB",
          "CHI",
          "MIN",
          "HOU",
          "PHI",
          "CAR",
          "DET"
         ]
        }
       ],
       "layout": {
        "barmode": "relative",
        "height": 1000,
        "images": [
         {
          "opacity": 1,
          "sizex": 1.25,
          "sizey": 1.25,
          "sizing": "contain",
          "source": "https://a.espncdn.com/i/teamlogos/nfl/500/WAS.png",
          "x": 13,
          "xanchor": "center",
          "xref": "x",
          "y": "WAS",
          "yanchor": "middle",
          "yref": "y"
         },
         {
          "opacity": 1,
          "sizex": 1.25,
          "sizey": 1.25,
          "sizing": "contain",
          "source": "https://a.espncdn.com/i/teamlogos/nfl/500/CLE.png",
          "x": 15,
          "xanchor": "center",
          "xref": "x",
          "y": "CLE",
          "yanchor": "middle",
          "yref": "y"
         },
         {
          "opacity": 1,
          "sizex": 1.25,
          "sizey": 1.25,
          "sizing": "contain",
          "source": "https://a.espncdn.com/i/teamlogos/nfl/500/ARI.png",
          "x": 14,
          "xanchor": "center",
          "xref": "x",
          "y": "ARI",
          "yanchor": "middle",
          "yref": "y"
         },
         {
          "opacity": 1,
          "sizex": 1.25,
          "sizey": 1.25,
          "sizing": "contain",
          "source": "https://a.espncdn.com/i/teamlogos/nfl/500/LA.png",
          "x": 13,
          "xanchor": "center",
          "xref": "x",
          "y": "LA",
          "yanchor": "middle",
          "yref": "y"
         },
         {
          "opacity": 1,
          "sizex": 1.25,
          "sizey": 1.25,
          "sizing": "contain",
          "source": "https://a.espncdn.com/i/teamlogos/nfl/500/KC.png",
          "x": 11,
          "xanchor": "center",
          "xref": "x",
          "y": "KC",
          "yanchor": "middle",
          "yref": "y"
         },
         {
          "opacity": 1,
          "sizex": 1.25,
          "sizey": 1.25,
          "sizing": "contain",
          "source": "https://a.espncdn.com/i/teamlogos/nfl/500/TEN.png",
          "x": 10,
          "xanchor": "center",
          "xref": "x",
          "y": "TEN",
          "yanchor": "middle",
          "yref": "y"
         },
         {
          "opacity": 1,
          "sizex": 1.25,
          "sizey": 1.25,
          "sizing": "contain",
          "source": "https://a.espncdn.com/i/teamlogos/nfl/500/SEA.png",
          "x": 13,
          "xanchor": "center",
          "xref": "x",
          "y": "SEA",
          "yanchor": "middle",
          "yref": "y"
         },
         {
          "opacity": 1,
          "sizex": 1.25,
          "sizey": 1.25,
          "sizing": "contain",
          "source": "https://a.espncdn.com/i/teamlogos/nfl/500/LV.png",
          "x": 13,
          "xanchor": "center",
          "xref": "x",
          "y": "LV",
          "yanchor": "middle",
          "yref": "y"
         },
         {
          "opacity": 1,
          "sizex": 1.25,
          "sizey": 1.25,
          "sizing": "contain",
          "source": "https://a.espncdn.com/i/teamlogos/nfl/500/NE.png",
          "x": 10,
          "xanchor": "center",
          "xref": "x",
          "y": "NE",
          "yanchor": "middle",
          "yref": "y"
         },
         {
          "opacity": 1,
          "sizex": 1.25,
          "sizey": 1.25,
          "sizing": "contain",
          "source": "https://a.espncdn.com/i/teamlogos/nfl/500/GB.png",
          "x": 12,
          "xanchor": "center",
          "xref": "x",
          "y": "GB",
          "yanchor": "middle",
          "yref": "y"
         },
         {
          "opacity": 1,
          "sizex": 1.25,
          "sizey": 1.25,
          "sizing": "contain",
          "source": "https://a.espncdn.com/i/teamlogos/nfl/500/NO.png",
          "x": 8,
          "xanchor": "center",
          "xref": "x",
          "y": "NO",
          "yanchor": "middle",
          "yref": "y"
         },
         {
          "opacity": 1,
          "sizex": 1.25,
          "sizey": 1.25,
          "sizing": "contain",
          "source": "https://a.espncdn.com/i/teamlogos/nfl/500/ATL.png",
          "x": 9,
          "xanchor": "center",
          "xref": "x",
          "y": "ATL",
          "yanchor": "middle",
          "yref": "y"
         },
         {
          "opacity": 1,
          "sizex": 1.25,
          "sizey": 1.25,
          "sizing": "contain",
          "source": "https://a.espncdn.com/i/teamlogos/nfl/500/LAC.png",
          "x": 9,
          "xanchor": "center",
          "xref": "x",
          "y": "LAC",
          "yanchor": "middle",
          "yref": "y"
         },
         {
          "opacity": 1,
          "sizex": 1.25,
          "sizey": 1.25,
          "sizing": "contain",
          "source": "https://a.espncdn.com/i/teamlogos/nfl/500/CIN.png",
          "x": 10,
          "xanchor": "center",
          "xref": "x",
          "y": "CIN",
          "yanchor": "middle",
          "yref": "y"
         },
         {
          "opacity": 1,
          "sizex": 1.25,
          "sizey": 1.25,
          "sizing": "contain",
          "source": "https://a.espncdn.com/i/teamlogos/nfl/500/IND.png",
          "x": 10,
          "xanchor": "center",
          "xref": "x",
          "y": "IND",
          "yanchor": "middle",
          "yref": "y"
         },
         {
          "opacity": 1,
          "sizex": 1.25,
          "sizey": 1.25,
          "sizing": "contain",
          "source": "https://a.espncdn.com/i/teamlogos/nfl/500/MIA.png",
          "x": 8,
          "xanchor": "center",
          "xref": "x",
          "y": "MIA",
          "yanchor": "middle",
          "yref": "y"
         },
         {
          "opacity": 1,
          "sizex": 1.25,
          "sizey": 1.25,
          "sizing": "contain",
          "source": "https://a.espncdn.com/i/teamlogos/nfl/500/SF.png",
          "x": 8,
          "xanchor": "center",
          "xref": "x",
          "y": "SF",
          "yanchor": "middle",
          "yref": "y"
         },
         {
          "opacity": 1,
          "sizex": 1.25,
          "sizey": 1.25,
          "sizing": "contain",
          "source": "https://a.espncdn.com/i/teamlogos/nfl/500/NYJ.png",
          "x": 8,
          "xanchor": "center",
          "xref": "x",
          "y": "NYJ",
          "yanchor": "middle",
          "yref": "y"
         },
         {
          "opacity": 1,
          "sizex": 1.25,
          "sizey": 1.25,
          "sizing": "contain",
          "source": "https://a.espncdn.com/i/teamlogos/nfl/500/JAX.png",
          "x": 9,
          "xanchor": "center",
          "xref": "x",
          "y": "JAX",
          "yanchor": "middle",
          "yref": "y"
         },
         {
          "opacity": 1,
          "sizex": 1.25,
          "sizey": 1.25,
          "sizing": "contain",
          "source": "https://a.espncdn.com/i/teamlogos/nfl/500/BUF.png",
          "x": 7,
          "xanchor": "center",
          "xref": "x",
          "y": "BUF",
          "yanchor": "middle",
          "yref": "y"
         },
         {
          "opacity": 1,
          "sizex": 1.25,
          "sizey": 1.25,
          "sizing": "contain",
          "source": "https://a.espncdn.com/i/teamlogos/nfl/500/DAL.png",
          "x": 6,
          "xanchor": "center",
          "xref": "x",
          "y": "DAL",
          "yanchor": "middle",
          "yref": "y"
         },
         {
          "opacity": 1,
          "sizex": 1.25,
          "sizey": 1.25,
          "sizing": "contain",
          "source": "https://a.espncdn.com/i/teamlogos/nfl/500/DEN.png",
          "x": 6,
          "xanchor": "center",
          "xref": "x",
          "y": "DEN",
          "yanchor": "middle",
          "yref": "y"
         },
         {
          "opacity": 1,
          "sizex": 1.25,
          "sizey": 1.25,
          "sizing": "contain",
          "source": "https://a.espncdn.com/i/teamlogos/nfl/500/NYG.png",
          "x": 7,
          "xanchor": "center",
          "xref": "x",
          "y": "NYG",
          "yanchor": "middle",
          "yref": "y"
         },
         {
          "opacity": 1,
          "sizex": 1.25,
          "sizey": 1.25,
          "sizing": "contain",
          "source": "https://a.espncdn.com/i/teamlogos/nfl/500/BAL.png",
          "x": 7,
          "xanchor": "center",
          "xref": "x",
          "y": "BAL",
          "yanchor": "middle",
          "yref": "y"
         },
         {
          "opacity": 1,
          "sizex": 1.25,
          "sizey": 1.25,
          "sizing": "contain",
          "source": "https://a.espncdn.com/i/teamlogos/nfl/500/PIT.png",
          "x": 5,
          "xanchor": "center",
          "xref": "x",
          "y": "PIT",
          "yanchor": "middle",
          "yref": "y"
         },
         {
          "opacity": 1,
          "sizex": 1.25,
          "sizey": 1.25,
          "sizing": "contain",
          "source": "https://a.espncdn.com/i/teamlogos/nfl/500/TB.png",
          "x": 6,
          "xanchor": "center",
          "xref": "x",
          "y": "TB",
          "yanchor": "middle",
          "yref": "y"
         },
         {
          "opacity": 1,
          "sizex": 1.25,
          "sizey": 1.25,
          "sizing": "contain",
          "source": "https://a.espncdn.com/i/teamlogos/nfl/500/CHI.png",
          "x": 6,
          "xanchor": "center",
          "xref": "x",
          "y": "CHI",
          "yanchor": "middle",
          "yref": "y"
         },
         {
          "opacity": 1,
          "sizex": 1.25,
          "sizey": 1.25,
          "sizing": "contain",
          "source": "https://a.espncdn.com/i/teamlogos/nfl/500/MIN.png",
          "x": 4,
          "xanchor": "center",
          "xref": "x",
          "y": "MIN",
          "yanchor": "middle",
          "yref": "y"
         },
         {
          "opacity": 1,
          "sizex": 1.25,
          "sizey": 1.25,
          "sizing": "contain",
          "source": "https://a.espncdn.com/i/teamlogos/nfl/500/HOU.png",
          "x": 4,
          "xanchor": "center",
          "xref": "x",
          "y": "HOU",
          "yanchor": "middle",
          "yref": "y"
         },
         {
          "opacity": 1,
          "sizex": 1.25,
          "sizey": 1.25,
          "sizing": "contain",
          "source": "https://a.espncdn.com/i/teamlogos/nfl/500/PHI.png",
          "x": 3,
          "xanchor": "center",
          "xref": "x",
          "y": "PHI",
          "yanchor": "middle",
          "yref": "y"
         },
         {
          "opacity": 1,
          "sizex": 1.25,
          "sizey": 1.25,
          "sizing": "contain",
          "source": "https://a.espncdn.com/i/teamlogos/nfl/500/CAR.png",
          "x": 2,
          "xanchor": "center",
          "xref": "x",
          "y": "CAR",
          "yanchor": "middle",
          "yref": "y"
         },
         {
          "opacity": 1,
          "sizex": 1.25,
          "sizey": 1.25,
          "sizing": "contain",
          "source": "https://a.espncdn.com/i/teamlogos/nfl/500/DET.png",
          "x": 2,
          "xanchor": "center",
          "xref": "x",
          "y": "DET",
          "yanchor": "middle",
          "yref": "y"
         }
        ],
        "legend": {
         "title": {
          "text": "team"
         },
         "tracegroupgap": 0
        },
        "margin": {
         "t": 60
        },
        "template": {
         "data": {
          "bar": [
           {
            "error_x": {
             "color": "#2a3f5f"
            },
            "error_y": {
             "color": "#2a3f5f"
            },
            "marker": {
             "line": {
              "color": "#E5ECF6",
              "width": 0.5
             },
             "pattern": {
              "fillmode": "overlay",
              "size": 10,
              "solidity": 0.2
             }
            },
            "type": "bar"
           }
          ],
          "barpolar": [
           {
            "marker": {
             "line": {
              "color": "#E5ECF6",
              "width": 0.5
             },
             "pattern": {
              "fillmode": "overlay",
              "size": 10,
              "solidity": 0.2
             }
            },
            "type": "barpolar"
           }
          ],
          "carpet": [
           {
            "aaxis": {
             "endlinecolor": "#2a3f5f",
             "gridcolor": "white",
             "linecolor": "white",
             "minorgridcolor": "white",
             "startlinecolor": "#2a3f5f"
            },
            "baxis": {
             "endlinecolor": "#2a3f5f",
             "gridcolor": "white",
             "linecolor": "white",
             "minorgridcolor": "white",
             "startlinecolor": "#2a3f5f"
            },
            "type": "carpet"
           }
          ],
          "choropleth": [
           {
            "colorbar": {
             "outlinewidth": 0,
             "ticks": ""
            },
            "type": "choropleth"
           }
          ],
          "contour": [
           {
            "colorbar": {
             "outlinewidth": 0,
             "ticks": ""
            },
            "colorscale": [
             [
              0,
              "#0d0887"
             ],
             [
              0.1111111111111111,
              "#46039f"
             ],
             [
              0.2222222222222222,
              "#7201a8"
             ],
             [
              0.3333333333333333,
              "#9c179e"
             ],
             [
              0.4444444444444444,
              "#bd3786"
             ],
             [
              0.5555555555555556,
              "#d8576b"
             ],
             [
              0.6666666666666666,
              "#ed7953"
             ],
             [
              0.7777777777777778,
              "#fb9f3a"
             ],
             [
              0.8888888888888888,
              "#fdca26"
             ],
             [
              1,
              "#f0f921"
             ]
            ],
            "type": "contour"
           }
          ],
          "contourcarpet": [
           {
            "colorbar": {
             "outlinewidth": 0,
             "ticks": ""
            },
            "type": "contourcarpet"
           }
          ],
          "heatmap": [
           {
            "colorbar": {
             "outlinewidth": 0,
             "ticks": ""
            },
            "colorscale": [
             [
              0,
              "#0d0887"
             ],
             [
              0.1111111111111111,
              "#46039f"
             ],
             [
              0.2222222222222222,
              "#7201a8"
             ],
             [
              0.3333333333333333,
              "#9c179e"
             ],
             [
              0.4444444444444444,
              "#bd3786"
             ],
             [
              0.5555555555555556,
              "#d8576b"
             ],
             [
              0.6666666666666666,
              "#ed7953"
             ],
             [
              0.7777777777777778,
              "#fb9f3a"
             ],
             [
              0.8888888888888888,
              "#fdca26"
             ],
             [
              1,
              "#f0f921"
             ]
            ],
            "type": "heatmap"
           }
          ],
          "heatmapgl": [
           {
            "colorbar": {
             "outlinewidth": 0,
             "ticks": ""
            },
            "colorscale": [
             [
              0,
              "#0d0887"
             ],
             [
              0.1111111111111111,
              "#46039f"
             ],
             [
              0.2222222222222222,
              "#7201a8"
             ],
             [
              0.3333333333333333,
              "#9c179e"
             ],
             [
              0.4444444444444444,
              "#bd3786"
             ],
             [
              0.5555555555555556,
              "#d8576b"
             ],
             [
              0.6666666666666666,
              "#ed7953"
             ],
             [
              0.7777777777777778,
              "#fb9f3a"
             ],
             [
              0.8888888888888888,
              "#fdca26"
             ],
             [
              1,
              "#f0f921"
             ]
            ],
            "type": "heatmapgl"
           }
          ],
          "histogram": [
           {
            "marker": {
             "pattern": {
              "fillmode": "overlay",
              "size": 10,
              "solidity": 0.2
             }
            },
            "type": "histogram"
           }
          ],
          "histogram2d": [
           {
            "colorbar": {
             "outlinewidth": 0,
             "ticks": ""
            },
            "colorscale": [
             [
              0,
              "#0d0887"
             ],
             [
              0.1111111111111111,
              "#46039f"
             ],
             [
              0.2222222222222222,
              "#7201a8"
             ],
             [
              0.3333333333333333,
              "#9c179e"
             ],
             [
              0.4444444444444444,
              "#bd3786"
             ],
             [
              0.5555555555555556,
              "#d8576b"
             ],
             [
              0.6666666666666666,
              "#ed7953"
             ],
             [
              0.7777777777777778,
              "#fb9f3a"
             ],
             [
              0.8888888888888888,
              "#fdca26"
             ],
             [
              1,
              "#f0f921"
             ]
            ],
            "type": "histogram2d"
           }
          ],
          "histogram2dcontour": [
           {
            "colorbar": {
             "outlinewidth": 0,
             "ticks": ""
            },
            "colorscale": [
             [
              0,
              "#0d0887"
             ],
             [
              0.1111111111111111,
              "#46039f"
             ],
             [
              0.2222222222222222,
              "#7201a8"
             ],
             [
              0.3333333333333333,
              "#9c179e"
             ],
             [
              0.4444444444444444,
              "#bd3786"
             ],
             [
              0.5555555555555556,
              "#d8576b"
             ],
             [
              0.6666666666666666,
              "#ed7953"
             ],
             [
              0.7777777777777778,
              "#fb9f3a"
             ],
             [
              0.8888888888888888,
              "#fdca26"
             ],
             [
              1,
              "#f0f921"
             ]
            ],
            "type": "histogram2dcontour"
           }
          ],
          "mesh3d": [
           {
            "colorbar": {
             "outlinewidth": 0,
             "ticks": ""
            },
            "type": "mesh3d"
           }
          ],
          "parcoords": [
           {
            "line": {
             "colorbar": {
              "outlinewidth": 0,
              "ticks": ""
             }
            },
            "type": "parcoords"
           }
          ],
          "pie": [
           {
            "automargin": true,
            "type": "pie"
           }
          ],
          "scatter": [
           {
            "fillpattern": {
             "fillmode": "overlay",
             "size": 10,
             "solidity": 0.2
            },
            "type": "scatter"
           }
          ],
          "scatter3d": [
           {
            "line": {
             "colorbar": {
              "outlinewidth": 0,
              "ticks": ""
             }
            },
            "marker": {
             "colorbar": {
              "outlinewidth": 0,
              "ticks": ""
             }
            },
            "type": "scatter3d"
           }
          ],
          "scattercarpet": [
           {
            "marker": {
             "colorbar": {
              "outlinewidth": 0,
              "ticks": ""
             }
            },
            "type": "scattercarpet"
           }
          ],
          "scattergeo": [
           {
            "marker": {
             "colorbar": {
              "outlinewidth": 0,
              "ticks": ""
             }
            },
            "type": "scattergeo"
           }
          ],
          "scattergl": [
           {
            "marker": {
             "colorbar": {
              "outlinewidth": 0,
              "ticks": ""
             }
            },
            "type": "scattergl"
           }
          ],
          "scattermapbox": [
           {
            "marker": {
             "colorbar": {
              "outlinewidth": 0,
              "ticks": ""
             }
            },
            "type": "scattermapbox"
           }
          ],
          "scatterpolar": [
           {
            "marker": {
             "colorbar": {
              "outlinewidth": 0,
              "ticks": ""
             }
            },
            "type": "scatterpolar"
           }
          ],
          "scatterpolargl": [
           {
            "marker": {
             "colorbar": {
              "outlinewidth": 0,
              "ticks": ""
             }
            },
            "type": "scatterpolargl"
           }
          ],
          "scatterternary": [
           {
            "marker": {
             "colorbar": {
              "outlinewidth": 0,
              "ticks": ""
             }
            },
            "type": "scatterternary"
           }
          ],
          "surface": [
           {
            "colorbar": {
             "outlinewidth": 0,
             "ticks": ""
            },
            "colorscale": [
             [
              0,
              "#0d0887"
             ],
             [
              0.1111111111111111,
              "#46039f"
             ],
             [
              0.2222222222222222,
              "#7201a8"
             ],
             [
              0.3333333333333333,
              "#9c179e"
             ],
             [
              0.4444444444444444,
              "#bd3786"
             ],
             [
              0.5555555555555556,
              "#d8576b"
             ],
             [
              0.6666666666666666,
              "#ed7953"
             ],
             [
              0.7777777777777778,
              "#fb9f3a"
             ],
             [
              0.8888888888888888,
              "#fdca26"
             ],
             [
              1,
              "#f0f921"
             ]
            ],
            "type": "surface"
           }
          ],
          "table": [
           {
            "cells": {
             "fill": {
              "color": "#EBF0F8"
             },
             "line": {
              "color": "white"
             }
            },
            "header": {
             "fill": {
              "color": "#C8D4E3"
             },
             "line": {
              "color": "white"
             }
            },
            "type": "table"
           }
          ]
         },
         "layout": {
          "annotationdefaults": {
           "arrowcolor": "#2a3f5f",
           "arrowhead": 0,
           "arrowwidth": 1
          },
          "autotypenumbers": "strict",
          "coloraxis": {
           "colorbar": {
            "outlinewidth": 0,
            "ticks": ""
           }
          },
          "colorscale": {
           "diverging": [
            [
             0,
             "#8e0152"
            ],
            [
             0.1,
             "#c51b7d"
            ],
            [
             0.2,
             "#de77ae"
            ],
            [
             0.3,
             "#f1b6da"
            ],
            [
             0.4,
             "#fde0ef"
            ],
            [
             0.5,
             "#f7f7f7"
            ],
            [
             0.6,
             "#e6f5d0"
            ],
            [
             0.7,
             "#b8e186"
            ],
            [
             0.8,
             "#7fbc41"
            ],
            [
             0.9,
             "#4d9221"
            ],
            [
             1,
             "#276419"
            ]
           ],
           "sequential": [
            [
             0,
             "#0d0887"
            ],
            [
             0.1111111111111111,
             "#46039f"
            ],
            [
             0.2222222222222222,
             "#7201a8"
            ],
            [
             0.3333333333333333,
             "#9c179e"
            ],
            [
             0.4444444444444444,
             "#bd3786"
            ],
            [
             0.5555555555555556,
             "#d8576b"
            ],
            [
             0.6666666666666666,
             "#ed7953"
            ],
            [
             0.7777777777777778,
             "#fb9f3a"
            ],
            [
             0.8888888888888888,
             "#fdca26"
            ],
            [
             1,
             "#f0f921"
            ]
           ],
           "sequentialminus": [
            [
             0,
             "#0d0887"
            ],
            [
             0.1111111111111111,
             "#46039f"
            ],
            [
             0.2222222222222222,
             "#7201a8"
            ],
            [
             0.3333333333333333,
             "#9c179e"
            ],
            [
             0.4444444444444444,
             "#bd3786"
            ],
            [
             0.5555555555555556,
             "#d8576b"
            ],
            [
             0.6666666666666666,
             "#ed7953"
            ],
            [
             0.7777777777777778,
             "#fb9f3a"
            ],
            [
             0.8888888888888888,
             "#fdca26"
            ],
            [
             1,
             "#f0f921"
            ]
           ]
          },
          "colorway": [
           "#636efa",
           "#EF553B",
           "#00cc96",
           "#ab63fa",
           "#FFA15A",
           "#19d3f3",
           "#FF6692",
           "#B6E880",
           "#FF97FF",
           "#FECB52"
          ],
          "font": {
           "color": "#2a3f5f"
          },
          "geo": {
           "bgcolor": "white",
           "lakecolor": "white",
           "landcolor": "#E5ECF6",
           "showlakes": true,
           "showland": true,
           "subunitcolor": "white"
          },
          "hoverlabel": {
           "align": "left"
          },
          "hovermode": "closest",
          "mapbox": {
           "style": "light"
          },
          "paper_bgcolor": "white",
          "plot_bgcolor": "#E5ECF6",
          "polar": {
           "angularaxis": {
            "gridcolor": "white",
            "linecolor": "white",
            "ticks": ""
           },
           "bgcolor": "#E5ECF6",
           "radialaxis": {
            "gridcolor": "white",
            "linecolor": "white",
            "ticks": ""
           }
          },
          "scene": {
           "xaxis": {
            "backgroundcolor": "#E5ECF6",
            "gridcolor": "white",
            "gridwidth": 2,
            "linecolor": "white",
            "showbackground": true,
            "ticks": "",
            "zerolinecolor": "white"
           },
           "yaxis": {
            "backgroundcolor": "#E5ECF6",
            "gridcolor": "white",
            "gridwidth": 2,
            "linecolor": "white",
            "showbackground": true,
            "ticks": "",
            "zerolinecolor": "white"
           },
           "zaxis": {
            "backgroundcolor": "#E5ECF6",
            "gridcolor": "white",
            "gridwidth": 2,
            "linecolor": "white",
            "showbackground": true,
            "ticks": "",
            "zerolinecolor": "white"
           }
          },
          "shapedefaults": {
           "line": {
            "color": "#2a3f5f"
           }
          },
          "ternary": {
           "aaxis": {
            "gridcolor": "white",
            "linecolor": "white",
            "ticks": ""
           },
           "baxis": {
            "gridcolor": "white",
            "linecolor": "white",
            "ticks": ""
           },
           "bgcolor": "#E5ECF6",
           "caxis": {
            "gridcolor": "white",
            "linecolor": "white",
            "ticks": ""
           }
          },
          "title": {
           "x": 0.05
          },
          "xaxis": {
           "automargin": true,
           "gridcolor": "white",
           "linecolor": "white",
           "ticks": "",
           "title": {
            "standoff": 15
           },
           "zerolinecolor": "white",
           "zerolinewidth": 2
          },
          "yaxis": {
           "automargin": true,
           "gridcolor": "white",
           "linecolor": "white",
           "ticks": "",
           "title": {
            "standoff": 15
           },
           "zerolinecolor": "white",
           "zerolinewidth": 2
          }
         }
        },
        "title": {
         "text": "Times Griffin Picked a Team ATS"
        },
        "width": 800,
        "xaxis": {
         "anchor": "y",
         "domain": [
          0,
          1
         ],
         "title": {
          "text": "Times Picked ATS"
         }
        },
        "yaxis": {
         "anchor": "x",
         "categoryarray": [
          "DET",
          "CAR",
          "PHI",
          "HOU",
          "MIN",
          "CHI",
          "TB",
          "PIT",
          "BAL",
          "NYG",
          "DEN",
          "DAL",
          "BUF",
          "JAX",
          "NYJ",
          "SF",
          "MIA",
          "IND",
          "CIN",
          "LAC",
          "ATL",
          "NO",
          "GB",
          "NE",
          "LV",
          "SEA",
          "TEN",
          "KC",
          "LA",
          "ARI",
          "CLE",
          "WAS"
         ],
         "categoryorder": "total ascending",
         "domain": [
          0,
          1
         ],
         "title": {
          "text": "Teams"
         }
        }
       }
      }
     },
     "metadata": {},
     "output_type": "display_data"
    }
   ],
   "source": [
    "for picker in spread_picks['picker'].unique():\n",
    "    tmp = spread_picks[spread_picks['picker'] == picker].groupby('pick')['pick'].count().sort_values(ascending=False).to_frame().rename(columns={'pick': 'times_picked'}).reset_index().rename(columns={'pick': 'team'})\n",
    "\n",
    "    col = 'times_picked'\n",
    "\n",
    "    # Create the bar chart\n",
    "    fig = px.bar(tmp, x=col, y='team', orientation='h', color='team', color_discrete_map=utils.team_unique_colors)\n",
    "\n",
    "\n",
    "    tmp2 = spread_picks[spread_picks['picker'] == picker].groupby('pick')['best_bet'].sum().sort_values(ascending=False).to_frame().rename(columns={'pick': 'times_picked'}).reset_index().rename(columns={'pick': 'team'})\n",
    "    tmp2['color'] = tmp2['team'].map(utils.team_unique_colors)\n",
    "    \n",
    "    tmp = pd.merge(tmp, tmp2, how='outer', on='team')\n",
    "    \n",
    "    # Duplicate the data to create the stacked bar with lower opacity\n",
    "    fig.add_bar(x=tmp['best_bet'], y=tmp['team'], orientation='h', marker_color=tmp['color'], opacity=0.5)\n",
    "\n",
    "    fig.update_yaxes(categoryorder='total ascending')\n",
    "    fig.update_layout(\n",
    "        height=1000,\n",
    "        width=800,\n",
    "        xaxis_title=f'Times Picked ATS',\n",
    "        yaxis_title='Teams',\n",
    "        title=f'Times {picker.capitalize()} Picked a Team ATS',\n",
    "    )\n",
    "    fig.update_traces(showlegend=False)\n",
    "\n",
    "    # Iterate through the data and add logos to the chart\n",
    "    for index, row in tmp.iterrows():\n",
    "        team = row['team']\n",
    "        scale = 1.25\n",
    "        fig.add_layout_image(\n",
    "            dict(source=f'https://a.espncdn.com/i/teamlogos/nfl/500/{team}.png',\n",
    "                x=row[col]+row['best_bet'],  # Adjust the position\n",
    "                y=team,\n",
    "                xref=\"x\",\n",
    "                yref=\"y\",\n",
    "                sizex=scale,  # Adjust the size\n",
    "                sizey=scale,  # Adjust the size\n",
    "                sizing=\"contain\",\n",
    "                opacity=1,\n",
    "                xanchor=\"center\",\n",
    "                yanchor=\"middle\",        \n",
    "            )\n",
    "        )\n",
    "\n",
    "    # Show the chart\n",
    "    fig.show()"
   ]
  },
  {
   "cell_type": "code",
   "execution_count": 5,
   "metadata": {},
   "outputs": [
    {
     "data": {
      "application/vnd.plotly.v1+json": {
       "config": {
        "plotlyServerURL": "https://plot.ly"
       },
       "data": [
        {
         "alignmentgroup": "True",
         "hovertemplate": "team=%{y}<br>times_picked=%{x}<extra></extra>",
         "legendgroup": "WAS",
         "marker": {
          "color": "#5A1414",
          "pattern": {
           "shape": ""
          }
         },
         "name": "WAS",
         "offsetgroup": "WAS",
         "orientation": "h",
         "showlegend": false,
         "textposition": "auto",
         "type": "bar",
         "x": [
          13
         ],
         "xaxis": "x",
         "y": [
          "WAS"
         ],
         "yaxis": "y"
        },
        {
         "alignmentgroup": "True",
         "hovertemplate": "team=%{y}<br>times_picked=%{x}<extra></extra>",
         "legendgroup": "CLE",
         "marker": {
          "color": "#FF3C00",
          "pattern": {
           "shape": ""
          }
         },
         "name": "CLE",
         "offsetgroup": "CLE",
         "orientation": "h",
         "showlegend": false,
         "textposition": "auto",
         "type": "bar",
         "x": [
          12
         ],
         "xaxis": "x",
         "y": [
          "CLE"
         ],
         "yaxis": "y"
        },
        {
         "alignmentgroup": "True",
         "hovertemplate": "team=%{y}<br>times_picked=%{x}<extra></extra>",
         "legendgroup": "ARI",
         "marker": {
          "color": "#97233F",
          "pattern": {
           "shape": ""
          }
         },
         "name": "ARI",
         "offsetgroup": "ARI",
         "orientation": "h",
         "showlegend": false,
         "textposition": "auto",
         "type": "bar",
         "x": [
          12
         ],
         "xaxis": "x",
         "y": [
          "ARI"
         ],
         "yaxis": "y"
        },
        {
         "alignmentgroup": "True",
         "hovertemplate": "team=%{y}<br>times_picked=%{x}<extra></extra>",
         "legendgroup": "LA",
         "marker": {
          "color": "#003594",
          "pattern": {
           "shape": ""
          }
         },
         "name": "LA",
         "offsetgroup": "LA",
         "orientation": "h",
         "showlegend": false,
         "textposition": "auto",
         "type": "bar",
         "x": [
          12
         ],
         "xaxis": "x",
         "y": [
          "LA"
         ],
         "yaxis": "y"
        },
        {
         "alignmentgroup": "True",
         "hovertemplate": "team=%{y}<br>times_picked=%{x}<extra></extra>",
         "legendgroup": "KC",
         "marker": {
          "color": "#E31837",
          "pattern": {
           "shape": ""
          }
         },
         "name": "KC",
         "offsetgroup": "KC",
         "orientation": "h",
         "showlegend": false,
         "textposition": "auto",
         "type": "bar",
         "x": [
          10
         ],
         "xaxis": "x",
         "y": [
          "KC"
         ],
         "yaxis": "y"
        },
        {
         "alignmentgroup": "True",
         "hovertemplate": "team=%{y}<br>times_picked=%{x}<extra></extra>",
         "legendgroup": "TEN",
         "marker": {
          "color": "#4B92DB",
          "pattern": {
           "shape": ""
          }
         },
         "name": "TEN",
         "offsetgroup": "TEN",
         "orientation": "h",
         "showlegend": false,
         "textposition": "auto",
         "type": "bar",
         "x": [
          10
         ],
         "xaxis": "x",
         "y": [
          "TEN"
         ],
         "yaxis": "y"
        },
        {
         "alignmentgroup": "True",
         "hovertemplate": "team=%{y}<br>times_picked=%{x}<extra></extra>",
         "legendgroup": "SEA",
         "marker": {
          "color": "#69be28",
          "pattern": {
           "shape": ""
          }
         },
         "name": "SEA",
         "offsetgroup": "SEA",
         "orientation": "h",
         "showlegend": false,
         "textposition": "auto",
         "type": "bar",
         "x": [
          10
         ],
         "xaxis": "x",
         "y": [
          "SEA"
         ],
         "yaxis": "y"
        },
        {
         "alignmentgroup": "True",
         "hovertemplate": "team=%{y}<br>times_picked=%{x}<extra></extra>",
         "legendgroup": "LV",
         "marker": {
          "color": "#000000",
          "pattern": {
           "shape": ""
          }
         },
         "name": "LV",
         "offsetgroup": "LV",
         "orientation": "h",
         "showlegend": false,
         "textposition": "auto",
         "type": "bar",
         "x": [
          10
         ],
         "xaxis": "x",
         "y": [
          "LV"
         ],
         "yaxis": "y"
        },
        {
         "alignmentgroup": "True",
         "hovertemplate": "team=%{y}<br>times_picked=%{x}<extra></extra>",
         "legendgroup": "NE",
         "marker": {
          "color": "#002244",
          "pattern": {
           "shape": ""
          }
         },
         "name": "NE",
         "offsetgroup": "NE",
         "orientation": "h",
         "showlegend": false,
         "textposition": "auto",
         "type": "bar",
         "x": [
          9
         ],
         "xaxis": "x",
         "y": [
          "NE"
         ],
         "yaxis": "y"
        },
        {
         "alignmentgroup": "True",
         "hovertemplate": "team=%{y}<br>times_picked=%{x}<extra></extra>",
         "legendgroup": "GB",
         "marker": {
          "color": "#203731",
          "pattern": {
           "shape": ""
          }
         },
         "name": "GB",
         "offsetgroup": "GB",
         "orientation": "h",
         "showlegend": false,
         "textposition": "auto",
         "type": "bar",
         "x": [
          9
         ],
         "xaxis": "x",
         "y": [
          "GB"
         ],
         "yaxis": "y"
        },
        {
         "alignmentgroup": "True",
         "hovertemplate": "team=%{y}<br>times_picked=%{x}<extra></extra>",
         "legendgroup": "NO",
         "marker": {
          "color": "#D3BC8D",
          "pattern": {
           "shape": ""
          }
         },
         "name": "NO",
         "offsetgroup": "NO",
         "orientation": "h",
         "showlegend": false,
         "textposition": "auto",
         "type": "bar",
         "x": [
          8
         ],
         "xaxis": "x",
         "y": [
          "NO"
         ],
         "yaxis": "y"
        },
        {
         "alignmentgroup": "True",
         "hovertemplate": "team=%{y}<br>times_picked=%{x}<extra></extra>",
         "legendgroup": "ATL",
         "marker": {
          "color": "#A71930",
          "pattern": {
           "shape": ""
          }
         },
         "name": "ATL",
         "offsetgroup": "ATL",
         "orientation": "h",
         "showlegend": false,
         "textposition": "auto",
         "type": "bar",
         "x": [
          8
         ],
         "xaxis": "x",
         "y": [
          "ATL"
         ],
         "yaxis": "y"
        },
        {
         "alignmentgroup": "True",
         "hovertemplate": "team=%{y}<br>times_picked=%{x}<extra></extra>",
         "legendgroup": "LAC",
         "marker": {
          "color": "#007BC7",
          "pattern": {
           "shape": ""
          }
         },
         "name": "LAC",
         "offsetgroup": "LAC",
         "orientation": "h",
         "showlegend": false,
         "textposition": "auto",
         "type": "bar",
         "x": [
          8
         ],
         "xaxis": "x",
         "y": [
          "LAC"
         ],
         "yaxis": "y"
        },
        {
         "alignmentgroup": "True",
         "hovertemplate": "team=%{y}<br>times_picked=%{x}<extra></extra>",
         "legendgroup": "CIN",
         "marker": {
          "color": "#FB4F14",
          "pattern": {
           "shape": ""
          }
         },
         "name": "CIN",
         "offsetgroup": "CIN",
         "orientation": "h",
         "showlegend": false,
         "textposition": "auto",
         "type": "bar",
         "x": [
          8
         ],
         "xaxis": "x",
         "y": [
          "CIN"
         ],
         "yaxis": "y"
        },
        {
         "alignmentgroup": "True",
         "hovertemplate": "team=%{y}<br>times_picked=%{x}<extra></extra>",
         "legendgroup": "IND",
         "marker": {
          "color": "#002C5F",
          "pattern": {
           "shape": ""
          }
         },
         "name": "IND",
         "offsetgroup": "IND",
         "orientation": "h",
         "showlegend": false,
         "textposition": "auto",
         "type": "bar",
         "x": [
          7
         ],
         "xaxis": "x",
         "y": [
          "IND"
         ],
         "yaxis": "y"
        },
        {
         "alignmentgroup": "True",
         "hovertemplate": "team=%{y}<br>times_picked=%{x}<extra></extra>",
         "legendgroup": "MIA",
         "marker": {
          "color": "#008E97",
          "pattern": {
           "shape": ""
          }
         },
         "name": "MIA",
         "offsetgroup": "MIA",
         "orientation": "h",
         "showlegend": false,
         "textposition": "auto",
         "type": "bar",
         "x": [
          7
         ],
         "xaxis": "x",
         "y": [
          "MIA"
         ],
         "yaxis": "y"
        },
        {
         "alignmentgroup": "True",
         "hovertemplate": "team=%{y}<br>times_picked=%{x}<extra></extra>",
         "legendgroup": "SF",
         "marker": {
          "color": "#B3995D",
          "pattern": {
           "shape": ""
          }
         },
         "name": "SF",
         "offsetgroup": "SF",
         "orientation": "h",
         "showlegend": false,
         "textposition": "auto",
         "type": "bar",
         "x": [
          7
         ],
         "xaxis": "x",
         "y": [
          "SF"
         ],
         "yaxis": "y"
        },
        {
         "alignmentgroup": "True",
         "hovertemplate": "team=%{y}<br>times_picked=%{x}<extra></extra>",
         "legendgroup": "NYJ",
         "marker": {
          "color": "#003F2D",
          "pattern": {
           "shape": ""
          }
         },
         "name": "NYJ",
         "offsetgroup": "NYJ",
         "orientation": "h",
         "showlegend": false,
         "textposition": "auto",
         "type": "bar",
         "x": [
          7
         ],
         "xaxis": "x",
         "y": [
          "NYJ"
         ],
         "yaxis": "y"
        },
        {
         "alignmentgroup": "True",
         "hovertemplate": "team=%{y}<br>times_picked=%{x}<extra></extra>",
         "legendgroup": "JAX",
         "marker": {
          "color": "#006778",
          "pattern": {
           "shape": ""
          }
         },
         "name": "JAX",
         "offsetgroup": "JAX",
         "orientation": "h",
         "showlegend": false,
         "textposition": "auto",
         "type": "bar",
         "x": [
          7
         ],
         "xaxis": "x",
         "y": [
          "JAX"
         ],
         "yaxis": "y"
        },
        {
         "alignmentgroup": "True",
         "hovertemplate": "team=%{y}<br>times_picked=%{x}<extra></extra>",
         "legendgroup": "BUF",
         "marker": {
          "color": "#00338D",
          "pattern": {
           "shape": ""
          }
         },
         "name": "BUF",
         "offsetgroup": "BUF",
         "orientation": "h",
         "showlegend": false,
         "textposition": "auto",
         "type": "bar",
         "x": [
          7
         ],
         "xaxis": "x",
         "y": [
          "BUF"
         ],
         "yaxis": "y"
        },
        {
         "alignmentgroup": "True",
         "hovertemplate": "team=%{y}<br>times_picked=%{x}<extra></extra>",
         "legendgroup": "DAL",
         "marker": {
          "color": "#002244",
          "pattern": {
           "shape": ""
          }
         },
         "name": "DAL",
         "offsetgroup": "DAL",
         "orientation": "h",
         "showlegend": false,
         "textposition": "auto",
         "type": "bar",
         "x": [
          6
         ],
         "xaxis": "x",
         "y": [
          "DAL"
         ],
         "yaxis": "y"
        },
        {
         "alignmentgroup": "True",
         "hovertemplate": "team=%{y}<br>times_picked=%{x}<extra></extra>",
         "legendgroup": "DEN",
         "marker": {
          "color": "#FB4F14",
          "pattern": {
           "shape": ""
          }
         },
         "name": "DEN",
         "offsetgroup": "DEN",
         "orientation": "h",
         "showlegend": false,
         "textposition": "auto",
         "type": "bar",
         "x": [
          6
         ],
         "xaxis": "x",
         "y": [
          "DEN"
         ],
         "yaxis": "y"
        },
        {
         "alignmentgroup": "True",
         "hovertemplate": "team=%{y}<br>times_picked=%{x}<extra></extra>",
         "legendgroup": "NYG",
         "marker": {
          "color": "#0B2265",
          "pattern": {
           "shape": ""
          }
         },
         "name": "NYG",
         "offsetgroup": "NYG",
         "orientation": "h",
         "showlegend": false,
         "textposition": "auto",
         "type": "bar",
         "x": [
          6
         ],
         "xaxis": "x",
         "y": [
          "NYG"
         ],
         "yaxis": "y"
        },
        {
         "alignmentgroup": "True",
         "hovertemplate": "team=%{y}<br>times_picked=%{x}<extra></extra>",
         "legendgroup": "BAL",
         "marker": {
          "color": "#241773",
          "pattern": {
           "shape": ""
          }
         },
         "name": "BAL",
         "offsetgroup": "BAL",
         "orientation": "h",
         "showlegend": false,
         "textposition": "auto",
         "type": "bar",
         "x": [
          6
         ],
         "xaxis": "x",
         "y": [
          "BAL"
         ],
         "yaxis": "y"
        },
        {
         "alignmentgroup": "True",
         "hovertemplate": "team=%{y}<br>times_picked=%{x}<extra></extra>",
         "legendgroup": "PIT",
         "marker": {
          "color": "#000000",
          "pattern": {
           "shape": ""
          }
         },
         "name": "PIT",
         "offsetgroup": "PIT",
         "orientation": "h",
         "showlegend": false,
         "textposition": "auto",
         "type": "bar",
         "x": [
          5
         ],
         "xaxis": "x",
         "y": [
          "PIT"
         ],
         "yaxis": "y"
        },
        {
         "alignmentgroup": "True",
         "hovertemplate": "team=%{y}<br>times_picked=%{x}<extra></extra>",
         "legendgroup": "TB",
         "marker": {
          "color": "#A71930",
          "pattern": {
           "shape": ""
          }
         },
         "name": "TB",
         "offsetgroup": "TB",
         "orientation": "h",
         "showlegend": false,
         "textposition": "auto",
         "type": "bar",
         "x": [
          5
         ],
         "xaxis": "x",
         "y": [
          "TB"
         ],
         "yaxis": "y"
        },
        {
         "alignmentgroup": "True",
         "hovertemplate": "team=%{y}<br>times_picked=%{x}<extra></extra>",
         "legendgroup": "CHI",
         "marker": {
          "color": "#E64100",
          "pattern": {
           "shape": ""
          }
         },
         "name": "CHI",
         "offsetgroup": "CHI",
         "orientation": "h",
         "showlegend": false,
         "textposition": "auto",
         "type": "bar",
         "x": [
          5
         ],
         "xaxis": "x",
         "y": [
          "CHI"
         ],
         "yaxis": "y"
        },
        {
         "alignmentgroup": "True",
         "hovertemplate": "team=%{y}<br>times_picked=%{x}<extra></extra>",
         "legendgroup": "MIN",
         "marker": {
          "color": "#4F2683",
          "pattern": {
           "shape": ""
          }
         },
         "name": "MIN",
         "offsetgroup": "MIN",
         "orientation": "h",
         "showlegend": false,
         "textposition": "auto",
         "type": "bar",
         "x": [
          4
         ],
         "xaxis": "x",
         "y": [
          "MIN"
         ],
         "yaxis": "y"
        },
        {
         "alignmentgroup": "True",
         "hovertemplate": "team=%{y}<br>times_picked=%{x}<extra></extra>",
         "legendgroup": "HOU",
         "marker": {
          "color": "#03202F",
          "pattern": {
           "shape": ""
          }
         },
         "name": "HOU",
         "offsetgroup": "HOU",
         "orientation": "h",
         "showlegend": false,
         "textposition": "auto",
         "type": "bar",
         "x": [
          4
         ],
         "xaxis": "x",
         "y": [
          "HOU"
         ],
         "yaxis": "y"
        },
        {
         "alignmentgroup": "True",
         "hovertemplate": "team=%{y}<br>times_picked=%{x}<extra></extra>",
         "legendgroup": "PHI",
         "marker": {
          "color": "#004C54",
          "pattern": {
           "shape": ""
          }
         },
         "name": "PHI",
         "offsetgroup": "PHI",
         "orientation": "h",
         "showlegend": false,
         "textposition": "auto",
         "type": "bar",
         "x": [
          3
         ],
         "xaxis": "x",
         "y": [
          "PHI"
         ],
         "yaxis": "y"
        },
        {
         "alignmentgroup": "True",
         "hovertemplate": "team=%{y}<br>times_picked=%{x}<extra></extra>",
         "legendgroup": "CAR",
         "marker": {
          "color": "#0085CA",
          "pattern": {
           "shape": ""
          }
         },
         "name": "CAR",
         "offsetgroup": "CAR",
         "orientation": "h",
         "showlegend": false,
         "textposition": "auto",
         "type": "bar",
         "x": [
          2
         ],
         "xaxis": "x",
         "y": [
          "CAR"
         ],
         "yaxis": "y"
        },
        {
         "alignmentgroup": "True",
         "hovertemplate": "team=%{y}<br>times_picked=%{x}<extra></extra>",
         "legendgroup": "DET",
         "marker": {
          "color": "#0076B6",
          "pattern": {
           "shape": ""
          }
         },
         "name": "DET",
         "offsetgroup": "DET",
         "orientation": "h",
         "showlegend": false,
         "textposition": "auto",
         "type": "bar",
         "x": [
          2
         ],
         "xaxis": "x",
         "y": [
          "DET"
         ],
         "yaxis": "y"
        }
       ],
       "layout": {
        "barmode": "relative",
        "height": 1000,
        "legend": {
         "title": {
          "text": "team"
         },
         "tracegroupgap": 0
        },
        "margin": {
         "t": 60
        },
        "template": {
         "data": {
          "bar": [
           {
            "error_x": {
             "color": "#2a3f5f"
            },
            "error_y": {
             "color": "#2a3f5f"
            },
            "marker": {
             "line": {
              "color": "#E5ECF6",
              "width": 0.5
             },
             "pattern": {
              "fillmode": "overlay",
              "size": 10,
              "solidity": 0.2
             }
            },
            "type": "bar"
           }
          ],
          "barpolar": [
           {
            "marker": {
             "line": {
              "color": "#E5ECF6",
              "width": 0.5
             },
             "pattern": {
              "fillmode": "overlay",
              "size": 10,
              "solidity": 0.2
             }
            },
            "type": "barpolar"
           }
          ],
          "carpet": [
           {
            "aaxis": {
             "endlinecolor": "#2a3f5f",
             "gridcolor": "white",
             "linecolor": "white",
             "minorgridcolor": "white",
             "startlinecolor": "#2a3f5f"
            },
            "baxis": {
             "endlinecolor": "#2a3f5f",
             "gridcolor": "white",
             "linecolor": "white",
             "minorgridcolor": "white",
             "startlinecolor": "#2a3f5f"
            },
            "type": "carpet"
           }
          ],
          "choropleth": [
           {
            "colorbar": {
             "outlinewidth": 0,
             "ticks": ""
            },
            "type": "choropleth"
           }
          ],
          "contour": [
           {
            "colorbar": {
             "outlinewidth": 0,
             "ticks": ""
            },
            "colorscale": [
             [
              0,
              "#0d0887"
             ],
             [
              0.1111111111111111,
              "#46039f"
             ],
             [
              0.2222222222222222,
              "#7201a8"
             ],
             [
              0.3333333333333333,
              "#9c179e"
             ],
             [
              0.4444444444444444,
              "#bd3786"
             ],
             [
              0.5555555555555556,
              "#d8576b"
             ],
             [
              0.6666666666666666,
              "#ed7953"
             ],
             [
              0.7777777777777778,
              "#fb9f3a"
             ],
             [
              0.8888888888888888,
              "#fdca26"
             ],
             [
              1,
              "#f0f921"
             ]
            ],
            "type": "contour"
           }
          ],
          "contourcarpet": [
           {
            "colorbar": {
             "outlinewidth": 0,
             "ticks": ""
            },
            "type": "contourcarpet"
           }
          ],
          "heatmap": [
           {
            "colorbar": {
             "outlinewidth": 0,
             "ticks": ""
            },
            "colorscale": [
             [
              0,
              "#0d0887"
             ],
             [
              0.1111111111111111,
              "#46039f"
             ],
             [
              0.2222222222222222,
              "#7201a8"
             ],
             [
              0.3333333333333333,
              "#9c179e"
             ],
             [
              0.4444444444444444,
              "#bd3786"
             ],
             [
              0.5555555555555556,
              "#d8576b"
             ],
             [
              0.6666666666666666,
              "#ed7953"
             ],
             [
              0.7777777777777778,
              "#fb9f3a"
             ],
             [
              0.8888888888888888,
              "#fdca26"
             ],
             [
              1,
              "#f0f921"
             ]
            ],
            "type": "heatmap"
           }
          ],
          "heatmapgl": [
           {
            "colorbar": {
             "outlinewidth": 0,
             "ticks": ""
            },
            "colorscale": [
             [
              0,
              "#0d0887"
             ],
             [
              0.1111111111111111,
              "#46039f"
             ],
             [
              0.2222222222222222,
              "#7201a8"
             ],
             [
              0.3333333333333333,
              "#9c179e"
             ],
             [
              0.4444444444444444,
              "#bd3786"
             ],
             [
              0.5555555555555556,
              "#d8576b"
             ],
             [
              0.6666666666666666,
              "#ed7953"
             ],
             [
              0.7777777777777778,
              "#fb9f3a"
             ],
             [
              0.8888888888888888,
              "#fdca26"
             ],
             [
              1,
              "#f0f921"
             ]
            ],
            "type": "heatmapgl"
           }
          ],
          "histogram": [
           {
            "marker": {
             "pattern": {
              "fillmode": "overlay",
              "size": 10,
              "solidity": 0.2
             }
            },
            "type": "histogram"
           }
          ],
          "histogram2d": [
           {
            "colorbar": {
             "outlinewidth": 0,
             "ticks": ""
            },
            "colorscale": [
             [
              0,
              "#0d0887"
             ],
             [
              0.1111111111111111,
              "#46039f"
             ],
             [
              0.2222222222222222,
              "#7201a8"
             ],
             [
              0.3333333333333333,
              "#9c179e"
             ],
             [
              0.4444444444444444,
              "#bd3786"
             ],
             [
              0.5555555555555556,
              "#d8576b"
             ],
             [
              0.6666666666666666,
              "#ed7953"
             ],
             [
              0.7777777777777778,
              "#fb9f3a"
             ],
             [
              0.8888888888888888,
              "#fdca26"
             ],
             [
              1,
              "#f0f921"
             ]
            ],
            "type": "histogram2d"
           }
          ],
          "histogram2dcontour": [
           {
            "colorbar": {
             "outlinewidth": 0,
             "ticks": ""
            },
            "colorscale": [
             [
              0,
              "#0d0887"
             ],
             [
              0.1111111111111111,
              "#46039f"
             ],
             [
              0.2222222222222222,
              "#7201a8"
             ],
             [
              0.3333333333333333,
              "#9c179e"
             ],
             [
              0.4444444444444444,
              "#bd3786"
             ],
             [
              0.5555555555555556,
              "#d8576b"
             ],
             [
              0.6666666666666666,
              "#ed7953"
             ],
             [
              0.7777777777777778,
              "#fb9f3a"
             ],
             [
              0.8888888888888888,
              "#fdca26"
             ],
             [
              1,
              "#f0f921"
             ]
            ],
            "type": "histogram2dcontour"
           }
          ],
          "mesh3d": [
           {
            "colorbar": {
             "outlinewidth": 0,
             "ticks": ""
            },
            "type": "mesh3d"
           }
          ],
          "parcoords": [
           {
            "line": {
             "colorbar": {
              "outlinewidth": 0,
              "ticks": ""
             }
            },
            "type": "parcoords"
           }
          ],
          "pie": [
           {
            "automargin": true,
            "type": "pie"
           }
          ],
          "scatter": [
           {
            "fillpattern": {
             "fillmode": "overlay",
             "size": 10,
             "solidity": 0.2
            },
            "type": "scatter"
           }
          ],
          "scatter3d": [
           {
            "line": {
             "colorbar": {
              "outlinewidth": 0,
              "ticks": ""
             }
            },
            "marker": {
             "colorbar": {
              "outlinewidth": 0,
              "ticks": ""
             }
            },
            "type": "scatter3d"
           }
          ],
          "scattercarpet": [
           {
            "marker": {
             "colorbar": {
              "outlinewidth": 0,
              "ticks": ""
             }
            },
            "type": "scattercarpet"
           }
          ],
          "scattergeo": [
           {
            "marker": {
             "colorbar": {
              "outlinewidth": 0,
              "ticks": ""
             }
            },
            "type": "scattergeo"
           }
          ],
          "scattergl": [
           {
            "marker": {
             "colorbar": {
              "outlinewidth": 0,
              "ticks": ""
             }
            },
            "type": "scattergl"
           }
          ],
          "scattermapbox": [
           {
            "marker": {
             "colorbar": {
              "outlinewidth": 0,
              "ticks": ""
             }
            },
            "type": "scattermapbox"
           }
          ],
          "scatterpolar": [
           {
            "marker": {
             "colorbar": {
              "outlinewidth": 0,
              "ticks": ""
             }
            },
            "type": "scatterpolar"
           }
          ],
          "scatterpolargl": [
           {
            "marker": {
             "colorbar": {
              "outlinewidth": 0,
              "ticks": ""
             }
            },
            "type": "scatterpolargl"
           }
          ],
          "scatterternary": [
           {
            "marker": {
             "colorbar": {
              "outlinewidth": 0,
              "ticks": ""
             }
            },
            "type": "scatterternary"
           }
          ],
          "surface": [
           {
            "colorbar": {
             "outlinewidth": 0,
             "ticks": ""
            },
            "colorscale": [
             [
              0,
              "#0d0887"
             ],
             [
              0.1111111111111111,
              "#46039f"
             ],
             [
              0.2222222222222222,
              "#7201a8"
             ],
             [
              0.3333333333333333,
              "#9c179e"
             ],
             [
              0.4444444444444444,
              "#bd3786"
             ],
             [
              0.5555555555555556,
              "#d8576b"
             ],
             [
              0.6666666666666666,
              "#ed7953"
             ],
             [
              0.7777777777777778,
              "#fb9f3a"
             ],
             [
              0.8888888888888888,
              "#fdca26"
             ],
             [
              1,
              "#f0f921"
             ]
            ],
            "type": "surface"
           }
          ],
          "table": [
           {
            "cells": {
             "fill": {
              "color": "#EBF0F8"
             },
             "line": {
              "color": "white"
             }
            },
            "header": {
             "fill": {
              "color": "#C8D4E3"
             },
             "line": {
              "color": "white"
             }
            },
            "type": "table"
           }
          ]
         },
         "layout": {
          "annotationdefaults": {
           "arrowcolor": "#2a3f5f",
           "arrowhead": 0,
           "arrowwidth": 1
          },
          "autotypenumbers": "strict",
          "coloraxis": {
           "colorbar": {
            "outlinewidth": 0,
            "ticks": ""
           }
          },
          "colorscale": {
           "diverging": [
            [
             0,
             "#8e0152"
            ],
            [
             0.1,
             "#c51b7d"
            ],
            [
             0.2,
             "#de77ae"
            ],
            [
             0.3,
             "#f1b6da"
            ],
            [
             0.4,
             "#fde0ef"
            ],
            [
             0.5,
             "#f7f7f7"
            ],
            [
             0.6,
             "#e6f5d0"
            ],
            [
             0.7,
             "#b8e186"
            ],
            [
             0.8,
             "#7fbc41"
            ],
            [
             0.9,
             "#4d9221"
            ],
            [
             1,
             "#276419"
            ]
           ],
           "sequential": [
            [
             0,
             "#0d0887"
            ],
            [
             0.1111111111111111,
             "#46039f"
            ],
            [
             0.2222222222222222,
             "#7201a8"
            ],
            [
             0.3333333333333333,
             "#9c179e"
            ],
            [
             0.4444444444444444,
             "#bd3786"
            ],
            [
             0.5555555555555556,
             "#d8576b"
            ],
            [
             0.6666666666666666,
             "#ed7953"
            ],
            [
             0.7777777777777778,
             "#fb9f3a"
            ],
            [
             0.8888888888888888,
             "#fdca26"
            ],
            [
             1,
             "#f0f921"
            ]
           ],
           "sequentialminus": [
            [
             0,
             "#0d0887"
            ],
            [
             0.1111111111111111,
             "#46039f"
            ],
            [
             0.2222222222222222,
             "#7201a8"
            ],
            [
             0.3333333333333333,
             "#9c179e"
            ],
            [
             0.4444444444444444,
             "#bd3786"
            ],
            [
             0.5555555555555556,
             "#d8576b"
            ],
            [
             0.6666666666666666,
             "#ed7953"
            ],
            [
             0.7777777777777778,
             "#fb9f3a"
            ],
            [
             0.8888888888888888,
             "#fdca26"
            ],
            [
             1,
             "#f0f921"
            ]
           ]
          },
          "colorway": [
           "#636efa",
           "#EF553B",
           "#00cc96",
           "#ab63fa",
           "#FFA15A",
           "#19d3f3",
           "#FF6692",
           "#B6E880",
           "#FF97FF",
           "#FECB52"
          ],
          "font": {
           "color": "#2a3f5f"
          },
          "geo": {
           "bgcolor": "white",
           "lakecolor": "white",
           "landcolor": "#E5ECF6",
           "showlakes": true,
           "showland": true,
           "subunitcolor": "white"
          },
          "hoverlabel": {
           "align": "left"
          },
          "hovermode": "closest",
          "mapbox": {
           "style": "light"
          },
          "paper_bgcolor": "white",
          "plot_bgcolor": "#E5ECF6",
          "polar": {
           "angularaxis": {
            "gridcolor": "white",
            "linecolor": "white",
            "ticks": ""
           },
           "bgcolor": "#E5ECF6",
           "radialaxis": {
            "gridcolor": "white",
            "linecolor": "white",
            "ticks": ""
           }
          },
          "scene": {
           "xaxis": {
            "backgroundcolor": "#E5ECF6",
            "gridcolor": "white",
            "gridwidth": 2,
            "linecolor": "white",
            "showbackground": true,
            "ticks": "",
            "zerolinecolor": "white"
           },
           "yaxis": {
            "backgroundcolor": "#E5ECF6",
            "gridcolor": "white",
            "gridwidth": 2,
            "linecolor": "white",
            "showbackground": true,
            "ticks": "",
            "zerolinecolor": "white"
           },
           "zaxis": {
            "backgroundcolor": "#E5ECF6",
            "gridcolor": "white",
            "gridwidth": 2,
            "linecolor": "white",
            "showbackground": true,
            "ticks": "",
            "zerolinecolor": "white"
           }
          },
          "shapedefaults": {
           "line": {
            "color": "#2a3f5f"
           }
          },
          "ternary": {
           "aaxis": {
            "gridcolor": "white",
            "linecolor": "white",
            "ticks": ""
           },
           "baxis": {
            "gridcolor": "white",
            "linecolor": "white",
            "ticks": ""
           },
           "bgcolor": "#E5ECF6",
           "caxis": {
            "gridcolor": "white",
            "linecolor": "white",
            "ticks": ""
           }
          },
          "title": {
           "x": 0.05
          },
          "xaxis": {
           "automargin": true,
           "gridcolor": "white",
           "linecolor": "white",
           "ticks": "",
           "title": {
            "standoff": 15
           },
           "zerolinecolor": "white",
           "zerolinewidth": 2
          },
          "yaxis": {
           "automargin": true,
           "gridcolor": "white",
           "linecolor": "white",
           "ticks": "",
           "title": {
            "standoff": 15
           },
           "zerolinecolor": "white",
           "zerolinewidth": 2
          }
         }
        },
        "title": {
         "text": "Times Griffin Picked a Team ATS"
        },
        "width": 800,
        "xaxis": {
         "anchor": "y",
         "domain": [
          0,
          1
         ],
         "title": {
          "text": "Times Picked ATS"
         }
        },
        "yaxis": {
         "anchor": "x",
         "categoryarray": [
          "DET",
          "CAR",
          "PHI",
          "HOU",
          "MIN",
          "CHI",
          "TB",
          "PIT",
          "BAL",
          "NYG",
          "DEN",
          "DAL",
          "BUF",
          "JAX",
          "NYJ",
          "SF",
          "MIA",
          "IND",
          "CIN",
          "LAC",
          "ATL",
          "NO",
          "GB",
          "NE",
          "LV",
          "SEA",
          "TEN",
          "KC",
          "LA",
          "ARI",
          "CLE",
          "WAS"
         ],
         "categoryorder": "total ascending",
         "domain": [
          0,
          1
         ],
         "title": {
          "text": "Teams"
         }
        }
       }
      }
     },
     "metadata": {},
     "output_type": "display_data"
    }
   ],
   "source": [
    "picker='griffin'\n",
    "tmp = spread_picks[spread_picks['picker']==picker].groupby('pick')['pick'].count().sort_values(ascending=False).to_frame().rename(columns={'pick':'times_picked'}).reset_index().rename(columns={'pick':'team'})\n",
    "col = 'times_picked'\n",
    "\n",
    "# Create the bar chart\n",
    "fig = px.bar(tmp, x=col, y='team', orientation='h', color='team', color_discrete_map=utils.team_unique_colors)\n",
    "fig.update_yaxes(categoryorder='total ascending')\n",
    "fig.update_layout(\n",
    "    height=1000,\n",
    "    width=800,\n",
    "    xaxis_title=f'Times Picked ATS',\n",
    "    yaxis_title='Teams',\n",
    "    title=f'Times {picker.capitalize()} Picked a Team ATS',\n",
    ")\n",
    "fig.update_traces(showlegend=False)\n",
    "\n",
    "# # Iterate through the data and add logos to the chart\n",
    "# for index, row in tmp.iterrows():\n",
    "#     team = row['team']\n",
    "#     scale = 1.25\n",
    "#     fig.add_layout_image(\n",
    "#         dict(source=f'https://a.espncdn.com/i/teamlogos/nfl/500/{team}.png',\n",
    "#             x=row[col],  # Adjust the position\n",
    "#             y=team,\n",
    "#             xref=\"x\",\n",
    "#             yref=\"y\",\n",
    "#             sizex=scale,  # Adjust the size\n",
    "#             sizey=scale,  # Adjust the size\n",
    "#             sizing=\"contain\",\n",
    "#             opacity=1,\n",
    "#             xanchor=\"center\",\n",
    "#             yanchor=\"middle\",        \n",
    "#         )\n",
    "#     )\n",
    "\n",
    "# Show the chart\n",
    "fig.show()"
   ]
  },
  {
   "cell_type": "code",
   "execution_count": 17,
   "metadata": {},
   "outputs": [
    {
     "data": {
      "text/html": [
       "<div>\n",
       "<style scoped>\n",
       "    .dataframe tbody tr th:only-of-type {\n",
       "        vertical-align: middle;\n",
       "    }\n",
       "\n",
       "    .dataframe tbody tr th {\n",
       "        vertical-align: top;\n",
       "    }\n",
       "\n",
       "    .dataframe thead th {\n",
       "        text-align: right;\n",
       "    }\n",
       "</style>\n",
       "<table border=\"1\" class=\"dataframe\">\n",
       "  <thead>\n",
       "    <tr style=\"text-align: right;\">\n",
       "      <th></th>\n",
       "      <th>team</th>\n",
       "      <th>best_bet</th>\n",
       "    </tr>\n",
       "  </thead>\n",
       "  <tbody>\n",
       "    <tr>\n",
       "      <th>0</th>\n",
       "      <td>SEA</td>\n",
       "      <td>3</td>\n",
       "    </tr>\n",
       "    <tr>\n",
       "      <th>1</th>\n",
       "      <td>CLE</td>\n",
       "      <td>3</td>\n",
       "    </tr>\n",
       "    <tr>\n",
       "      <th>2</th>\n",
       "      <td>GB</td>\n",
       "      <td>3</td>\n",
       "    </tr>\n",
       "    <tr>\n",
       "      <th>3</th>\n",
       "      <td>LV</td>\n",
       "      <td>3</td>\n",
       "    </tr>\n",
       "    <tr>\n",
       "      <th>4</th>\n",
       "      <td>IND</td>\n",
       "      <td>3</td>\n",
       "    </tr>\n",
       "    <tr>\n",
       "      <th>5</th>\n",
       "      <td>ARI</td>\n",
       "      <td>2</td>\n",
       "    </tr>\n",
       "    <tr>\n",
       "      <th>6</th>\n",
       "      <td>CIN</td>\n",
       "      <td>2</td>\n",
       "    </tr>\n",
       "    <tr>\n",
       "      <th>7</th>\n",
       "      <td>JAX</td>\n",
       "      <td>2</td>\n",
       "    </tr>\n",
       "    <tr>\n",
       "      <th>8</th>\n",
       "      <td>ATL</td>\n",
       "      <td>1</td>\n",
       "    </tr>\n",
       "    <tr>\n",
       "      <th>9</th>\n",
       "      <td>TB</td>\n",
       "      <td>1</td>\n",
       "    </tr>\n",
       "    <tr>\n",
       "      <th>10</th>\n",
       "      <td>SF</td>\n",
       "      <td>1</td>\n",
       "    </tr>\n",
       "    <tr>\n",
       "      <th>11</th>\n",
       "      <td>NYJ</td>\n",
       "      <td>1</td>\n",
       "    </tr>\n",
       "    <tr>\n",
       "      <th>12</th>\n",
       "      <td>NYG</td>\n",
       "      <td>1</td>\n",
       "    </tr>\n",
       "    <tr>\n",
       "      <th>13</th>\n",
       "      <td>NE</td>\n",
       "      <td>1</td>\n",
       "    </tr>\n",
       "    <tr>\n",
       "      <th>14</th>\n",
       "      <td>MIA</td>\n",
       "      <td>1</td>\n",
       "    </tr>\n",
       "    <tr>\n",
       "      <th>15</th>\n",
       "      <td>LAC</td>\n",
       "      <td>1</td>\n",
       "    </tr>\n",
       "    <tr>\n",
       "      <th>16</th>\n",
       "      <td>LA</td>\n",
       "      <td>1</td>\n",
       "    </tr>\n",
       "    <tr>\n",
       "      <th>17</th>\n",
       "      <td>KC</td>\n",
       "      <td>1</td>\n",
       "    </tr>\n",
       "    <tr>\n",
       "      <th>18</th>\n",
       "      <td>CHI</td>\n",
       "      <td>1</td>\n",
       "    </tr>\n",
       "    <tr>\n",
       "      <th>19</th>\n",
       "      <td>BAL</td>\n",
       "      <td>1</td>\n",
       "    </tr>\n",
       "    <tr>\n",
       "      <th>20</th>\n",
       "      <td>HOU</td>\n",
       "      <td>0</td>\n",
       "    </tr>\n",
       "    <tr>\n",
       "      <th>21</th>\n",
       "      <td>DET</td>\n",
       "      <td>0</td>\n",
       "    </tr>\n",
       "    <tr>\n",
       "      <th>22</th>\n",
       "      <td>MIN</td>\n",
       "      <td>0</td>\n",
       "    </tr>\n",
       "    <tr>\n",
       "      <th>23</th>\n",
       "      <td>DEN</td>\n",
       "      <td>0</td>\n",
       "    </tr>\n",
       "    <tr>\n",
       "      <th>24</th>\n",
       "      <td>NO</td>\n",
       "      <td>0</td>\n",
       "    </tr>\n",
       "    <tr>\n",
       "      <th>25</th>\n",
       "      <td>DAL</td>\n",
       "      <td>0</td>\n",
       "    </tr>\n",
       "    <tr>\n",
       "      <th>26</th>\n",
       "      <td>PHI</td>\n",
       "      <td>0</td>\n",
       "    </tr>\n",
       "    <tr>\n",
       "      <th>27</th>\n",
       "      <td>PIT</td>\n",
       "      <td>0</td>\n",
       "    </tr>\n",
       "    <tr>\n",
       "      <th>28</th>\n",
       "      <td>CAR</td>\n",
       "      <td>0</td>\n",
       "    </tr>\n",
       "    <tr>\n",
       "      <th>29</th>\n",
       "      <td>BUF</td>\n",
       "      <td>0</td>\n",
       "    </tr>\n",
       "    <tr>\n",
       "      <th>30</th>\n",
       "      <td>TEN</td>\n",
       "      <td>0</td>\n",
       "    </tr>\n",
       "    <tr>\n",
       "      <th>31</th>\n",
       "      <td>WAS</td>\n",
       "      <td>0</td>\n",
       "    </tr>\n",
       "  </tbody>\n",
       "</table>\n",
       "</div>"
      ],
      "text/plain": [
       "   team  best_bet\n",
       "0   SEA         3\n",
       "1   CLE         3\n",
       "2    GB         3\n",
       "3    LV         3\n",
       "4   IND         3\n",
       "5   ARI         2\n",
       "6   CIN         2\n",
       "7   JAX         2\n",
       "8   ATL         1\n",
       "9    TB         1\n",
       "10   SF         1\n",
       "11  NYJ         1\n",
       "12  NYG         1\n",
       "13   NE         1\n",
       "14  MIA         1\n",
       "15  LAC         1\n",
       "16   LA         1\n",
       "17   KC         1\n",
       "18  CHI         1\n",
       "19  BAL         1\n",
       "20  HOU         0\n",
       "21  DET         0\n",
       "22  MIN         0\n",
       "23  DEN         0\n",
       "24   NO         0\n",
       "25  DAL         0\n",
       "26  PHI         0\n",
       "27  PIT         0\n",
       "28  CAR         0\n",
       "29  BUF         0\n",
       "30  TEN         0\n",
       "31  WAS         0"
      ]
     },
     "execution_count": 17,
     "metadata": {},
     "output_type": "execute_result"
    }
   ],
   "source": []
  },
  {
   "cell_type": "code",
   "execution_count": 31,
   "metadata": {},
   "outputs": [
    {
     "data": {
      "application/vnd.plotly.v1+json": {
       "config": {
        "plotlyServerURL": "https://plot.ly"
       },
       "data": [
        {
         "alignmentgroup": "True",
         "hovertemplate": "team=%{y}<br>times_picked=%{x}<extra></extra>",
         "legendgroup": "WAS",
         "marker": {
          "color": "#5A1414",
          "pattern": {
           "shape": ""
          }
         },
         "name": "WAS",
         "offsetgroup": "WAS",
         "orientation": "h",
         "showlegend": false,
         "textposition": "auto",
         "type": "bar",
         "x": [
          13
         ],
         "xaxis": "x",
         "y": [
          "WAS"
         ],
         "yaxis": "y"
        },
        {
         "alignmentgroup": "True",
         "hovertemplate": "team=%{y}<br>times_picked=%{x}<extra></extra>",
         "legendgroup": "CLE",
         "marker": {
          "color": "#FF3C00",
          "pattern": {
           "shape": ""
          }
         },
         "name": "CLE",
         "offsetgroup": "CLE",
         "orientation": "h",
         "showlegend": false,
         "textposition": "auto",
         "type": "bar",
         "x": [
          12
         ],
         "xaxis": "x",
         "y": [
          "CLE"
         ],
         "yaxis": "y"
        },
        {
         "alignmentgroup": "True",
         "hovertemplate": "team=%{y}<br>times_picked=%{x}<extra></extra>",
         "legendgroup": "ARI",
         "marker": {
          "color": "#97233F",
          "pattern": {
           "shape": ""
          }
         },
         "name": "ARI",
         "offsetgroup": "ARI",
         "orientation": "h",
         "showlegend": false,
         "textposition": "auto",
         "type": "bar",
         "x": [
          12
         ],
         "xaxis": "x",
         "y": [
          "ARI"
         ],
         "yaxis": "y"
        },
        {
         "alignmentgroup": "True",
         "hovertemplate": "team=%{y}<br>times_picked=%{x}<extra></extra>",
         "legendgroup": "LA",
         "marker": {
          "color": "#003594",
          "pattern": {
           "shape": ""
          }
         },
         "name": "LA",
         "offsetgroup": "LA",
         "orientation": "h",
         "showlegend": false,
         "textposition": "auto",
         "type": "bar",
         "x": [
          12
         ],
         "xaxis": "x",
         "y": [
          "LA"
         ],
         "yaxis": "y"
        },
        {
         "alignmentgroup": "True",
         "hovertemplate": "team=%{y}<br>times_picked=%{x}<extra></extra>",
         "legendgroup": "KC",
         "marker": {
          "color": "#E31837",
          "pattern": {
           "shape": ""
          }
         },
         "name": "KC",
         "offsetgroup": "KC",
         "orientation": "h",
         "showlegend": false,
         "textposition": "auto",
         "type": "bar",
         "x": [
          10
         ],
         "xaxis": "x",
         "y": [
          "KC"
         ],
         "yaxis": "y"
        },
        {
         "alignmentgroup": "True",
         "hovertemplate": "team=%{y}<br>times_picked=%{x}<extra></extra>",
         "legendgroup": "TEN",
         "marker": {
          "color": "#4B92DB",
          "pattern": {
           "shape": ""
          }
         },
         "name": "TEN",
         "offsetgroup": "TEN",
         "orientation": "h",
         "showlegend": false,
         "textposition": "auto",
         "type": "bar",
         "x": [
          10
         ],
         "xaxis": "x",
         "y": [
          "TEN"
         ],
         "yaxis": "y"
        },
        {
         "alignmentgroup": "True",
         "hovertemplate": "team=%{y}<br>times_picked=%{x}<extra></extra>",
         "legendgroup": "SEA",
         "marker": {
          "color": "#69be28",
          "pattern": {
           "shape": ""
          }
         },
         "name": "SEA",
         "offsetgroup": "SEA",
         "orientation": "h",
         "showlegend": false,
         "textposition": "auto",
         "type": "bar",
         "x": [
          10
         ],
         "xaxis": "x",
         "y": [
          "SEA"
         ],
         "yaxis": "y"
        },
        {
         "alignmentgroup": "True",
         "hovertemplate": "team=%{y}<br>times_picked=%{x}<extra></extra>",
         "legendgroup": "LV",
         "marker": {
          "color": "#000000",
          "pattern": {
           "shape": ""
          }
         },
         "name": "LV",
         "offsetgroup": "LV",
         "orientation": "h",
         "showlegend": false,
         "textposition": "auto",
         "type": "bar",
         "x": [
          10
         ],
         "xaxis": "x",
         "y": [
          "LV"
         ],
         "yaxis": "y"
        },
        {
         "alignmentgroup": "True",
         "hovertemplate": "team=%{y}<br>times_picked=%{x}<extra></extra>",
         "legendgroup": "NE",
         "marker": {
          "color": "#002244",
          "pattern": {
           "shape": ""
          }
         },
         "name": "NE",
         "offsetgroup": "NE",
         "orientation": "h",
         "showlegend": false,
         "textposition": "auto",
         "type": "bar",
         "x": [
          9
         ],
         "xaxis": "x",
         "y": [
          "NE"
         ],
         "yaxis": "y"
        },
        {
         "alignmentgroup": "True",
         "hovertemplate": "team=%{y}<br>times_picked=%{x}<extra></extra>",
         "legendgroup": "GB",
         "marker": {
          "color": "#203731",
          "pattern": {
           "shape": ""
          }
         },
         "name": "GB",
         "offsetgroup": "GB",
         "orientation": "h",
         "showlegend": false,
         "textposition": "auto",
         "type": "bar",
         "x": [
          9
         ],
         "xaxis": "x",
         "y": [
          "GB"
         ],
         "yaxis": "y"
        },
        {
         "alignmentgroup": "True",
         "hovertemplate": "team=%{y}<br>times_picked=%{x}<extra></extra>",
         "legendgroup": "NO",
         "marker": {
          "color": "#D3BC8D",
          "pattern": {
           "shape": ""
          }
         },
         "name": "NO",
         "offsetgroup": "NO",
         "orientation": "h",
         "showlegend": false,
         "textposition": "auto",
         "type": "bar",
         "x": [
          8
         ],
         "xaxis": "x",
         "y": [
          "NO"
         ],
         "yaxis": "y"
        },
        {
         "alignmentgroup": "True",
         "hovertemplate": "team=%{y}<br>times_picked=%{x}<extra></extra>",
         "legendgroup": "ATL",
         "marker": {
          "color": "#A71930",
          "pattern": {
           "shape": ""
          }
         },
         "name": "ATL",
         "offsetgroup": "ATL",
         "orientation": "h",
         "showlegend": false,
         "textposition": "auto",
         "type": "bar",
         "x": [
          8
         ],
         "xaxis": "x",
         "y": [
          "ATL"
         ],
         "yaxis": "y"
        },
        {
         "alignmentgroup": "True",
         "hovertemplate": "team=%{y}<br>times_picked=%{x}<extra></extra>",
         "legendgroup": "LAC",
         "marker": {
          "color": "#007BC7",
          "pattern": {
           "shape": ""
          }
         },
         "name": "LAC",
         "offsetgroup": "LAC",
         "orientation": "h",
         "showlegend": false,
         "textposition": "auto",
         "type": "bar",
         "x": [
          8
         ],
         "xaxis": "x",
         "y": [
          "LAC"
         ],
         "yaxis": "y"
        },
        {
         "alignmentgroup": "True",
         "hovertemplate": "team=%{y}<br>times_picked=%{x}<extra></extra>",
         "legendgroup": "CIN",
         "marker": {
          "color": "#FB4F14",
          "pattern": {
           "shape": ""
          }
         },
         "name": "CIN",
         "offsetgroup": "CIN",
         "orientation": "h",
         "showlegend": false,
         "textposition": "auto",
         "type": "bar",
         "x": [
          8
         ],
         "xaxis": "x",
         "y": [
          "CIN"
         ],
         "yaxis": "y"
        },
        {
         "alignmentgroup": "True",
         "hovertemplate": "team=%{y}<br>times_picked=%{x}<extra></extra>",
         "legendgroup": "IND",
         "marker": {
          "color": "#002C5F",
          "pattern": {
           "shape": ""
          }
         },
         "name": "IND",
         "offsetgroup": "IND",
         "orientation": "h",
         "showlegend": false,
         "textposition": "auto",
         "type": "bar",
         "x": [
          7
         ],
         "xaxis": "x",
         "y": [
          "IND"
         ],
         "yaxis": "y"
        },
        {
         "alignmentgroup": "True",
         "hovertemplate": "team=%{y}<br>times_picked=%{x}<extra></extra>",
         "legendgroup": "MIA",
         "marker": {
          "color": "#008E97",
          "pattern": {
           "shape": ""
          }
         },
         "name": "MIA",
         "offsetgroup": "MIA",
         "orientation": "h",
         "showlegend": false,
         "textposition": "auto",
         "type": "bar",
         "x": [
          7
         ],
         "xaxis": "x",
         "y": [
          "MIA"
         ],
         "yaxis": "y"
        },
        {
         "alignmentgroup": "True",
         "hovertemplate": "team=%{y}<br>times_picked=%{x}<extra></extra>",
         "legendgroup": "SF",
         "marker": {
          "color": "#B3995D",
          "pattern": {
           "shape": ""
          }
         },
         "name": "SF",
         "offsetgroup": "SF",
         "orientation": "h",
         "showlegend": false,
         "textposition": "auto",
         "type": "bar",
         "x": [
          7
         ],
         "xaxis": "x",
         "y": [
          "SF"
         ],
         "yaxis": "y"
        },
        {
         "alignmentgroup": "True",
         "hovertemplate": "team=%{y}<br>times_picked=%{x}<extra></extra>",
         "legendgroup": "NYJ",
         "marker": {
          "color": "#003F2D",
          "pattern": {
           "shape": ""
          }
         },
         "name": "NYJ",
         "offsetgroup": "NYJ",
         "orientation": "h",
         "showlegend": false,
         "textposition": "auto",
         "type": "bar",
         "x": [
          7
         ],
         "xaxis": "x",
         "y": [
          "NYJ"
         ],
         "yaxis": "y"
        },
        {
         "alignmentgroup": "True",
         "hovertemplate": "team=%{y}<br>times_picked=%{x}<extra></extra>",
         "legendgroup": "JAX",
         "marker": {
          "color": "#006778",
          "pattern": {
           "shape": ""
          }
         },
         "name": "JAX",
         "offsetgroup": "JAX",
         "orientation": "h",
         "showlegend": false,
         "textposition": "auto",
         "type": "bar",
         "x": [
          7
         ],
         "xaxis": "x",
         "y": [
          "JAX"
         ],
         "yaxis": "y"
        },
        {
         "alignmentgroup": "True",
         "hovertemplate": "team=%{y}<br>times_picked=%{x}<extra></extra>",
         "legendgroup": "BUF",
         "marker": {
          "color": "#00338D",
          "pattern": {
           "shape": ""
          }
         },
         "name": "BUF",
         "offsetgroup": "BUF",
         "orientation": "h",
         "showlegend": false,
         "textposition": "auto",
         "type": "bar",
         "x": [
          7
         ],
         "xaxis": "x",
         "y": [
          "BUF"
         ],
         "yaxis": "y"
        },
        {
         "alignmentgroup": "True",
         "hovertemplate": "team=%{y}<br>times_picked=%{x}<extra></extra>",
         "legendgroup": "DAL",
         "marker": {
          "color": "#002244",
          "pattern": {
           "shape": ""
          }
         },
         "name": "DAL",
         "offsetgroup": "DAL",
         "orientation": "h",
         "showlegend": false,
         "textposition": "auto",
         "type": "bar",
         "x": [
          6
         ],
         "xaxis": "x",
         "y": [
          "DAL"
         ],
         "yaxis": "y"
        },
        {
         "alignmentgroup": "True",
         "hovertemplate": "team=%{y}<br>times_picked=%{x}<extra></extra>",
         "legendgroup": "DEN",
         "marker": {
          "color": "#FB4F14",
          "pattern": {
           "shape": ""
          }
         },
         "name": "DEN",
         "offsetgroup": "DEN",
         "orientation": "h",
         "showlegend": false,
         "textposition": "auto",
         "type": "bar",
         "x": [
          6
         ],
         "xaxis": "x",
         "y": [
          "DEN"
         ],
         "yaxis": "y"
        },
        {
         "alignmentgroup": "True",
         "hovertemplate": "team=%{y}<br>times_picked=%{x}<extra></extra>",
         "legendgroup": "NYG",
         "marker": {
          "color": "#0B2265",
          "pattern": {
           "shape": ""
          }
         },
         "name": "NYG",
         "offsetgroup": "NYG",
         "orientation": "h",
         "showlegend": false,
         "textposition": "auto",
         "type": "bar",
         "x": [
          6
         ],
         "xaxis": "x",
         "y": [
          "NYG"
         ],
         "yaxis": "y"
        },
        {
         "alignmentgroup": "True",
         "hovertemplate": "team=%{y}<br>times_picked=%{x}<extra></extra>",
         "legendgroup": "BAL",
         "marker": {
          "color": "#241773",
          "pattern": {
           "shape": ""
          }
         },
         "name": "BAL",
         "offsetgroup": "BAL",
         "orientation": "h",
         "showlegend": false,
         "textposition": "auto",
         "type": "bar",
         "x": [
          6
         ],
         "xaxis": "x",
         "y": [
          "BAL"
         ],
         "yaxis": "y"
        },
        {
         "alignmentgroup": "True",
         "hovertemplate": "team=%{y}<br>times_picked=%{x}<extra></extra>",
         "legendgroup": "PIT",
         "marker": {
          "color": "#000000",
          "pattern": {
           "shape": ""
          }
         },
         "name": "PIT",
         "offsetgroup": "PIT",
         "orientation": "h",
         "showlegend": false,
         "textposition": "auto",
         "type": "bar",
         "x": [
          5
         ],
         "xaxis": "x",
         "y": [
          "PIT"
         ],
         "yaxis": "y"
        },
        {
         "alignmentgroup": "True",
         "hovertemplate": "team=%{y}<br>times_picked=%{x}<extra></extra>",
         "legendgroup": "TB",
         "marker": {
          "color": "#A71930",
          "pattern": {
           "shape": ""
          }
         },
         "name": "TB",
         "offsetgroup": "TB",
         "orientation": "h",
         "showlegend": false,
         "textposition": "auto",
         "type": "bar",
         "x": [
          5
         ],
         "xaxis": "x",
         "y": [
          "TB"
         ],
         "yaxis": "y"
        },
        {
         "alignmentgroup": "True",
         "hovertemplate": "team=%{y}<br>times_picked=%{x}<extra></extra>",
         "legendgroup": "CHI",
         "marker": {
          "color": "#E64100",
          "pattern": {
           "shape": ""
          }
         },
         "name": "CHI",
         "offsetgroup": "CHI",
         "orientation": "h",
         "showlegend": false,
         "textposition": "auto",
         "type": "bar",
         "x": [
          5
         ],
         "xaxis": "x",
         "y": [
          "CHI"
         ],
         "yaxis": "y"
        },
        {
         "alignmentgroup": "True",
         "hovertemplate": "team=%{y}<br>times_picked=%{x}<extra></extra>",
         "legendgroup": "MIN",
         "marker": {
          "color": "#4F2683",
          "pattern": {
           "shape": ""
          }
         },
         "name": "MIN",
         "offsetgroup": "MIN",
         "orientation": "h",
         "showlegend": false,
         "textposition": "auto",
         "type": "bar",
         "x": [
          4
         ],
         "xaxis": "x",
         "y": [
          "MIN"
         ],
         "yaxis": "y"
        },
        {
         "alignmentgroup": "True",
         "hovertemplate": "team=%{y}<br>times_picked=%{x}<extra></extra>",
         "legendgroup": "HOU",
         "marker": {
          "color": "#03202F",
          "pattern": {
           "shape": ""
          }
         },
         "name": "HOU",
         "offsetgroup": "HOU",
         "orientation": "h",
         "showlegend": false,
         "textposition": "auto",
         "type": "bar",
         "x": [
          4
         ],
         "xaxis": "x",
         "y": [
          "HOU"
         ],
         "yaxis": "y"
        },
        {
         "alignmentgroup": "True",
         "hovertemplate": "team=%{y}<br>times_picked=%{x}<extra></extra>",
         "legendgroup": "PHI",
         "marker": {
          "color": "#004C54",
          "pattern": {
           "shape": ""
          }
         },
         "name": "PHI",
         "offsetgroup": "PHI",
         "orientation": "h",
         "showlegend": false,
         "textposition": "auto",
         "type": "bar",
         "x": [
          3
         ],
         "xaxis": "x",
         "y": [
          "PHI"
         ],
         "yaxis": "y"
        },
        {
         "alignmentgroup": "True",
         "hovertemplate": "team=%{y}<br>times_picked=%{x}<extra></extra>",
         "legendgroup": "CAR",
         "marker": {
          "color": "#0085CA",
          "pattern": {
           "shape": ""
          }
         },
         "name": "CAR",
         "offsetgroup": "CAR",
         "orientation": "h",
         "showlegend": false,
         "textposition": "auto",
         "type": "bar",
         "x": [
          2
         ],
         "xaxis": "x",
         "y": [
          "CAR"
         ],
         "yaxis": "y"
        },
        {
         "alignmentgroup": "True",
         "hovertemplate": "team=%{y}<br>times_picked=%{x}<extra></extra>",
         "legendgroup": "DET",
         "marker": {
          "color": "#0076B6",
          "pattern": {
           "shape": ""
          }
         },
         "name": "DET",
         "offsetgroup": "DET",
         "orientation": "h",
         "showlegend": false,
         "textposition": "auto",
         "type": "bar",
         "x": [
          2
         ],
         "xaxis": "x",
         "y": [
          "DET"
         ],
         "yaxis": "y"
        },
        {
         "marker": {
          "color": [
           "#69be28",
           "#FF3C00",
           "#203731",
           "#000000",
           "#002C5F",
           "#97233F",
           "#FB4F14",
           "#006778",
           "#A71930",
           "#A71930",
           "#B3995D",
           "#003F2D",
           "#0B2265",
           "#002244",
           "#008E97",
           "#007BC7",
           "#003594",
           "#E31837",
           "#E64100",
           "#241773",
           "#03202F",
           "#0076B6",
           "#4F2683",
           "#FB4F14",
           "#D3BC8D",
           "#002244",
           "#004C54",
           "#000000",
           "#0085CA",
           "#00338D",
           "#4B92DB",
           "#5A1414"
          ]
         },
         "opacity": 0.5,
         "orientation": "h",
         "showlegend": false,
         "type": "bar",
         "x": [
          3,
          3,
          3,
          3,
          3,
          2,
          2,
          2,
          1,
          1,
          1,
          1,
          1,
          1,
          1,
          1,
          1,
          1,
          1,
          1,
          0,
          0,
          0,
          0,
          0,
          0,
          0,
          0,
          0,
          0,
          0,
          0
         ],
         "y": [
          "SEA",
          "CLE",
          "GB",
          "LV",
          "IND",
          "ARI",
          "CIN",
          "JAX",
          "ATL",
          "TB",
          "SF",
          "NYJ",
          "NYG",
          "NE",
          "MIA",
          "LAC",
          "LA",
          "KC",
          "CHI",
          "BAL",
          "HOU",
          "DET",
          "MIN",
          "DEN",
          "NO",
          "DAL",
          "PHI",
          "PIT",
          "CAR",
          "BUF",
          "TEN",
          "WAS"
         ]
        }
       ],
       "layout": {
        "barmode": "relative",
        "height": 1000,
        "legend": {
         "title": {
          "text": "team"
         },
         "tracegroupgap": 0
        },
        "margin": {
         "t": 60
        },
        "template": {
         "data": {
          "bar": [
           {
            "error_x": {
             "color": "#2a3f5f"
            },
            "error_y": {
             "color": "#2a3f5f"
            },
            "marker": {
             "line": {
              "color": "#E5ECF6",
              "width": 0.5
             },
             "pattern": {
              "fillmode": "overlay",
              "size": 10,
              "solidity": 0.2
             }
            },
            "type": "bar"
           }
          ],
          "barpolar": [
           {
            "marker": {
             "line": {
              "color": "#E5ECF6",
              "width": 0.5
             },
             "pattern": {
              "fillmode": "overlay",
              "size": 10,
              "solidity": 0.2
             }
            },
            "type": "barpolar"
           }
          ],
          "carpet": [
           {
            "aaxis": {
             "endlinecolor": "#2a3f5f",
             "gridcolor": "white",
             "linecolor": "white",
             "minorgridcolor": "white",
             "startlinecolor": "#2a3f5f"
            },
            "baxis": {
             "endlinecolor": "#2a3f5f",
             "gridcolor": "white",
             "linecolor": "white",
             "minorgridcolor": "white",
             "startlinecolor": "#2a3f5f"
            },
            "type": "carpet"
           }
          ],
          "choropleth": [
           {
            "colorbar": {
             "outlinewidth": 0,
             "ticks": ""
            },
            "type": "choropleth"
           }
          ],
          "contour": [
           {
            "colorbar": {
             "outlinewidth": 0,
             "ticks": ""
            },
            "colorscale": [
             [
              0,
              "#0d0887"
             ],
             [
              0.1111111111111111,
              "#46039f"
             ],
             [
              0.2222222222222222,
              "#7201a8"
             ],
             [
              0.3333333333333333,
              "#9c179e"
             ],
             [
              0.4444444444444444,
              "#bd3786"
             ],
             [
              0.5555555555555556,
              "#d8576b"
             ],
             [
              0.6666666666666666,
              "#ed7953"
             ],
             [
              0.7777777777777778,
              "#fb9f3a"
             ],
             [
              0.8888888888888888,
              "#fdca26"
             ],
             [
              1,
              "#f0f921"
             ]
            ],
            "type": "contour"
           }
          ],
          "contourcarpet": [
           {
            "colorbar": {
             "outlinewidth": 0,
             "ticks": ""
            },
            "type": "contourcarpet"
           }
          ],
          "heatmap": [
           {
            "colorbar": {
             "outlinewidth": 0,
             "ticks": ""
            },
            "colorscale": [
             [
              0,
              "#0d0887"
             ],
             [
              0.1111111111111111,
              "#46039f"
             ],
             [
              0.2222222222222222,
              "#7201a8"
             ],
             [
              0.3333333333333333,
              "#9c179e"
             ],
             [
              0.4444444444444444,
              "#bd3786"
             ],
             [
              0.5555555555555556,
              "#d8576b"
             ],
             [
              0.6666666666666666,
              "#ed7953"
             ],
             [
              0.7777777777777778,
              "#fb9f3a"
             ],
             [
              0.8888888888888888,
              "#fdca26"
             ],
             [
              1,
              "#f0f921"
             ]
            ],
            "type": "heatmap"
           }
          ],
          "heatmapgl": [
           {
            "colorbar": {
             "outlinewidth": 0,
             "ticks": ""
            },
            "colorscale": [
             [
              0,
              "#0d0887"
             ],
             [
              0.1111111111111111,
              "#46039f"
             ],
             [
              0.2222222222222222,
              "#7201a8"
             ],
             [
              0.3333333333333333,
              "#9c179e"
             ],
             [
              0.4444444444444444,
              "#bd3786"
             ],
             [
              0.5555555555555556,
              "#d8576b"
             ],
             [
              0.6666666666666666,
              "#ed7953"
             ],
             [
              0.7777777777777778,
              "#fb9f3a"
             ],
             [
              0.8888888888888888,
              "#fdca26"
             ],
             [
              1,
              "#f0f921"
             ]
            ],
            "type": "heatmapgl"
           }
          ],
          "histogram": [
           {
            "marker": {
             "pattern": {
              "fillmode": "overlay",
              "size": 10,
              "solidity": 0.2
             }
            },
            "type": "histogram"
           }
          ],
          "histogram2d": [
           {
            "colorbar": {
             "outlinewidth": 0,
             "ticks": ""
            },
            "colorscale": [
             [
              0,
              "#0d0887"
             ],
             [
              0.1111111111111111,
              "#46039f"
             ],
             [
              0.2222222222222222,
              "#7201a8"
             ],
             [
              0.3333333333333333,
              "#9c179e"
             ],
             [
              0.4444444444444444,
              "#bd3786"
             ],
             [
              0.5555555555555556,
              "#d8576b"
             ],
             [
              0.6666666666666666,
              "#ed7953"
             ],
             [
              0.7777777777777778,
              "#fb9f3a"
             ],
             [
              0.8888888888888888,
              "#fdca26"
             ],
             [
              1,
              "#f0f921"
             ]
            ],
            "type": "histogram2d"
           }
          ],
          "histogram2dcontour": [
           {
            "colorbar": {
             "outlinewidth": 0,
             "ticks": ""
            },
            "colorscale": [
             [
              0,
              "#0d0887"
             ],
             [
              0.1111111111111111,
              "#46039f"
             ],
             [
              0.2222222222222222,
              "#7201a8"
             ],
             [
              0.3333333333333333,
              "#9c179e"
             ],
             [
              0.4444444444444444,
              "#bd3786"
             ],
             [
              0.5555555555555556,
              "#d8576b"
             ],
             [
              0.6666666666666666,
              "#ed7953"
             ],
             [
              0.7777777777777778,
              "#fb9f3a"
             ],
             [
              0.8888888888888888,
              "#fdca26"
             ],
             [
              1,
              "#f0f921"
             ]
            ],
            "type": "histogram2dcontour"
           }
          ],
          "mesh3d": [
           {
            "colorbar": {
             "outlinewidth": 0,
             "ticks": ""
            },
            "type": "mesh3d"
           }
          ],
          "parcoords": [
           {
            "line": {
             "colorbar": {
              "outlinewidth": 0,
              "ticks": ""
             }
            },
            "type": "parcoords"
           }
          ],
          "pie": [
           {
            "automargin": true,
            "type": "pie"
           }
          ],
          "scatter": [
           {
            "fillpattern": {
             "fillmode": "overlay",
             "size": 10,
             "solidity": 0.2
            },
            "type": "scatter"
           }
          ],
          "scatter3d": [
           {
            "line": {
             "colorbar": {
              "outlinewidth": 0,
              "ticks": ""
             }
            },
            "marker": {
             "colorbar": {
              "outlinewidth": 0,
              "ticks": ""
             }
            },
            "type": "scatter3d"
           }
          ],
          "scattercarpet": [
           {
            "marker": {
             "colorbar": {
              "outlinewidth": 0,
              "ticks": ""
             }
            },
            "type": "scattercarpet"
           }
          ],
          "scattergeo": [
           {
            "marker": {
             "colorbar": {
              "outlinewidth": 0,
              "ticks": ""
             }
            },
            "type": "scattergeo"
           }
          ],
          "scattergl": [
           {
            "marker": {
             "colorbar": {
              "outlinewidth": 0,
              "ticks": ""
             }
            },
            "type": "scattergl"
           }
          ],
          "scattermapbox": [
           {
            "marker": {
             "colorbar": {
              "outlinewidth": 0,
              "ticks": ""
             }
            },
            "type": "scattermapbox"
           }
          ],
          "scatterpolar": [
           {
            "marker": {
             "colorbar": {
              "outlinewidth": 0,
              "ticks": ""
             }
            },
            "type": "scatterpolar"
           }
          ],
          "scatterpolargl": [
           {
            "marker": {
             "colorbar": {
              "outlinewidth": 0,
              "ticks": ""
             }
            },
            "type": "scatterpolargl"
           }
          ],
          "scatterternary": [
           {
            "marker": {
             "colorbar": {
              "outlinewidth": 0,
              "ticks": ""
             }
            },
            "type": "scatterternary"
           }
          ],
          "surface": [
           {
            "colorbar": {
             "outlinewidth": 0,
             "ticks": ""
            },
            "colorscale": [
             [
              0,
              "#0d0887"
             ],
             [
              0.1111111111111111,
              "#46039f"
             ],
             [
              0.2222222222222222,
              "#7201a8"
             ],
             [
              0.3333333333333333,
              "#9c179e"
             ],
             [
              0.4444444444444444,
              "#bd3786"
             ],
             [
              0.5555555555555556,
              "#d8576b"
             ],
             [
              0.6666666666666666,
              "#ed7953"
             ],
             [
              0.7777777777777778,
              "#fb9f3a"
             ],
             [
              0.8888888888888888,
              "#fdca26"
             ],
             [
              1,
              "#f0f921"
             ]
            ],
            "type": "surface"
           }
          ],
          "table": [
           {
            "cells": {
             "fill": {
              "color": "#EBF0F8"
             },
             "line": {
              "color": "white"
             }
            },
            "header": {
             "fill": {
              "color": "#C8D4E3"
             },
             "line": {
              "color": "white"
             }
            },
            "type": "table"
           }
          ]
         },
         "layout": {
          "annotationdefaults": {
           "arrowcolor": "#2a3f5f",
           "arrowhead": 0,
           "arrowwidth": 1
          },
          "autotypenumbers": "strict",
          "coloraxis": {
           "colorbar": {
            "outlinewidth": 0,
            "ticks": ""
           }
          },
          "colorscale": {
           "diverging": [
            [
             0,
             "#8e0152"
            ],
            [
             0.1,
             "#c51b7d"
            ],
            [
             0.2,
             "#de77ae"
            ],
            [
             0.3,
             "#f1b6da"
            ],
            [
             0.4,
             "#fde0ef"
            ],
            [
             0.5,
             "#f7f7f7"
            ],
            [
             0.6,
             "#e6f5d0"
            ],
            [
             0.7,
             "#b8e186"
            ],
            [
             0.8,
             "#7fbc41"
            ],
            [
             0.9,
             "#4d9221"
            ],
            [
             1,
             "#276419"
            ]
           ],
           "sequential": [
            [
             0,
             "#0d0887"
            ],
            [
             0.1111111111111111,
             "#46039f"
            ],
            [
             0.2222222222222222,
             "#7201a8"
            ],
            [
             0.3333333333333333,
             "#9c179e"
            ],
            [
             0.4444444444444444,
             "#bd3786"
            ],
            [
             0.5555555555555556,
             "#d8576b"
            ],
            [
             0.6666666666666666,
             "#ed7953"
            ],
            [
             0.7777777777777778,
             "#fb9f3a"
            ],
            [
             0.8888888888888888,
             "#fdca26"
            ],
            [
             1,
             "#f0f921"
            ]
           ],
           "sequentialminus": [
            [
             0,
             "#0d0887"
            ],
            [
             0.1111111111111111,
             "#46039f"
            ],
            [
             0.2222222222222222,
             "#7201a8"
            ],
            [
             0.3333333333333333,
             "#9c179e"
            ],
            [
             0.4444444444444444,
             "#bd3786"
            ],
            [
             0.5555555555555556,
             "#d8576b"
            ],
            [
             0.6666666666666666,
             "#ed7953"
            ],
            [
             0.7777777777777778,
             "#fb9f3a"
            ],
            [
             0.8888888888888888,
             "#fdca26"
            ],
            [
             1,
             "#f0f921"
            ]
           ]
          },
          "colorway": [
           "#636efa",
           "#EF553B",
           "#00cc96",
           "#ab63fa",
           "#FFA15A",
           "#19d3f3",
           "#FF6692",
           "#B6E880",
           "#FF97FF",
           "#FECB52"
          ],
          "font": {
           "color": "#2a3f5f"
          },
          "geo": {
           "bgcolor": "white",
           "lakecolor": "white",
           "landcolor": "#E5ECF6",
           "showlakes": true,
           "showland": true,
           "subunitcolor": "white"
          },
          "hoverlabel": {
           "align": "left"
          },
          "hovermode": "closest",
          "mapbox": {
           "style": "light"
          },
          "paper_bgcolor": "white",
          "plot_bgcolor": "#E5ECF6",
          "polar": {
           "angularaxis": {
            "gridcolor": "white",
            "linecolor": "white",
            "ticks": ""
           },
           "bgcolor": "#E5ECF6",
           "radialaxis": {
            "gridcolor": "white",
            "linecolor": "white",
            "ticks": ""
           }
          },
          "scene": {
           "xaxis": {
            "backgroundcolor": "#E5ECF6",
            "gridcolor": "white",
            "gridwidth": 2,
            "linecolor": "white",
            "showbackground": true,
            "ticks": "",
            "zerolinecolor": "white"
           },
           "yaxis": {
            "backgroundcolor": "#E5ECF6",
            "gridcolor": "white",
            "gridwidth": 2,
            "linecolor": "white",
            "showbackground": true,
            "ticks": "",
            "zerolinecolor": "white"
           },
           "zaxis": {
            "backgroundcolor": "#E5ECF6",
            "gridcolor": "white",
            "gridwidth": 2,
            "linecolor": "white",
            "showbackground": true,
            "ticks": "",
            "zerolinecolor": "white"
           }
          },
          "shapedefaults": {
           "line": {
            "color": "#2a3f5f"
           }
          },
          "ternary": {
           "aaxis": {
            "gridcolor": "white",
            "linecolor": "white",
            "ticks": ""
           },
           "baxis": {
            "gridcolor": "white",
            "linecolor": "white",
            "ticks": ""
           },
           "bgcolor": "#E5ECF6",
           "caxis": {
            "gridcolor": "white",
            "linecolor": "white",
            "ticks": ""
           }
          },
          "title": {
           "x": 0.05
          },
          "xaxis": {
           "automargin": true,
           "gridcolor": "white",
           "linecolor": "white",
           "ticks": "",
           "title": {
            "standoff": 15
           },
           "zerolinecolor": "white",
           "zerolinewidth": 2
          },
          "yaxis": {
           "automargin": true,
           "gridcolor": "white",
           "linecolor": "white",
           "ticks": "",
           "title": {
            "standoff": 15
           },
           "zerolinecolor": "white",
           "zerolinewidth": 2
          }
         }
        },
        "title": {
         "text": "Times Griffin Picked a Team ATS"
        },
        "width": 800,
        "xaxis": {
         "anchor": "y",
         "domain": [
          0,
          1
         ],
         "title": {
          "text": "Times Picked ATS"
         }
        },
        "yaxis": {
         "anchor": "x",
         "categoryarray": [
          "DET",
          "CAR",
          "PHI",
          "HOU",
          "MIN",
          "CHI",
          "TB",
          "PIT",
          "BAL",
          "NYG",
          "DEN",
          "DAL",
          "BUF",
          "JAX",
          "NYJ",
          "SF",
          "MIA",
          "IND",
          "CIN",
          "LAC",
          "ATL",
          "NO",
          "GB",
          "NE",
          "LV",
          "SEA",
          "TEN",
          "KC",
          "LA",
          "ARI",
          "CLE",
          "WAS"
         ],
         "categoryorder": "total ascending",
         "domain": [
          0,
          1
         ],
         "title": {
          "text": "Teams"
         }
        }
       }
      }
     },
     "metadata": {},
     "output_type": "display_data"
    }
   ],
   "source": [
    "picker = 'griffin'\n",
    "tmp = spread_picks[spread_picks['picker'] == picker].groupby('pick')['pick'].count().sort_values(ascending=False).to_frame().rename(columns={'pick': 'times_picked'}).reset_index().rename(columns={'pick': 'team'})\n",
    "\n",
    "col = 'times_picked'\n",
    "\n",
    "# Create the bar chart\n",
    "fig = px.bar(tmp, x=col, y='team', orientation='h', color='team', color_discrete_map=utils.team_unique_colors)\n",
    "\n",
    "\n",
    "tmp = spread_picks[spread_picks['picker'] == picker].groupby('pick')['best_bet'].sum().sort_values(ascending=False).to_frame().rename(columns={'pick': 'times_picked'}).reset_index().rename(columns={'pick': 'team'})\n",
    "tmp['color'] = tmp['team'].map(utils.team_unique_colors)\n",
    "# Duplicate the data to create the stacked bar with lower opacity\n",
    "fig.add_bar(x=tmp['best_bet'], y=tmp['team'], orientation='h', marker_color=tmp['color'], opacity=0.5)\n",
    "\n",
    "fig.update_yaxes(categoryorder='total ascending')\n",
    "fig.update_layout(\n",
    "    height=1000,\n",
    "    width=800,\n",
    "    xaxis_title=f'Times Picked ATS',\n",
    "    yaxis_title='Teams',\n",
    "    title=f'Times {picker.capitalize()} Picked a Team ATS',\n",
    ")\n",
    "fig.update_traces(showlegend=False)\n"
   ]
  },
  {
   "cell_type": "markdown",
   "metadata": {},
   "source": [
    "# Graveyard"
   ]
  },
  {
   "cell_type": "markdown",
   "metadata": {},
   "source": [
    "what do i need to do:\n",
    "* find the most popular picks\n",
    "* make a list of them with \"consensus\" as the picker and the other necessary cols\n",
    "* join in nfl data and evaluate\n"
   ]
  },
  {
   "cell_type": "code",
   "execution_count": null,
   "metadata": {},
   "outputs": [],
   "source": [
    "nfl_df = nfl.import_schedules([SEASON])[['game_id', 'season', 'week', 'away_team', 'home_team', 'away_score', 'home_score', 'result', 'spread_line']] \n",
    "\n",
    "\n",
    "\n",
    "\n",
    "# turn pick types into one hot cols to make lookup faster\n",
    "transformed['spread_pick'] = transformed['pick_type'].map({'ud': False, 'sd': False}).fillna(True)\n",
    "transformed['best_bet'] = transformed['pick_type'] == 'bb'\n",
    "transformed['underdog_pick'] = transformed['pick_type'] == 'ud'\n",
    "transformed['survivor_pick'] = transformed['pick_type'] == 'sd'\n",
    "transformed['mnf_pick'] = transformed['pick_type'] == 'mnf'\n",
    "transformed = transformed.drop(columns='pick_type')\n",
    "\n",
    "# join home and away picks\n",
    "joined_away = pd.merge(\n",
    "    transformed, \n",
    "    nfl_df,\n",
    "    left_on=['season', 'week', 'pick'],\n",
    "    right_on=['season', 'week', 'away_team']\n",
    ")\n",
    "joined_home = pd.merge(\n",
    "    transformed, \n",
    "    nfl_df,\n",
    "    left_on=['season', 'week', 'pick'],\n",
    "    right_on=['season', 'week', 'home_team']\n",
    ")\n",
    "\n",
    "\n",
    "week_final_picks = pd.concat([joined_home, joined_away], ignore_index=True)\n",
    "week_final_picks['away_pick'] = week_final_picks['pick'] == week_final_picks['away_team']\n",
    "week_final_picks['away_cover'] = week_final_picks.apply(utils.cover_result, axis=1)\n",
    "week_final_picks['home_cover'] = 1 - week_final_picks['away_cover']\n",
    "week_final_picks['pick_result'] = week_final_picks.apply(utils.pick_result, axis=1)\n",
    "\n"
   ]
  },
  {
   "cell_type": "code",
   "execution_count": null,
   "metadata": {},
   "outputs": [],
   "source": []
  },
  {
   "cell_type": "code",
   "execution_count": null,
   "metadata": {},
   "outputs": [],
   "source": []
  }
 ],
 "metadata": {
  "kernelspec": {
   "display_name": "nfl",
   "language": "python",
   "name": "python3"
  },
  "language_info": {
   "codemirror_mode": {
    "name": "ipython",
    "version": 3
   },
   "file_extension": ".py",
   "mimetype": "text/x-python",
   "name": "python",
   "nbconvert_exporter": "python",
   "pygments_lexer": "ipython3",
   "version": "3.10.12"
  },
  "orig_nbformat": 4
 },
 "nbformat": 4,
 "nbformat_minor": 2
}
