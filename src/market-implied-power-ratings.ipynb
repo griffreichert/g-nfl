{
 "cells": [
  {
   "cell_type": "code",
   "execution_count": 34,
   "metadata": {},
   "outputs": [],
   "source": [
    "from collections import defaultdict\n",
    "import nfl_data_py as nfl\n",
    "import pandas as pd\n",
    "import plotly.express as px\n",
    "from sklearn.linear_model import LinearRegression\n",
    "pd.set_option('display.max_columns', None)"
   ]
  },
  {
   "cell_type": "markdown",
   "metadata": {},
   "source": [
    "Inspired by Christopher Davis and the Deep Dive Pod [Youtube link](https://www.youtube.com/watch?v=QvNcnS-2EOY&ab_channel=ChristopherDavis%2CUCIrvine)"
   ]
  },
  {
   "cell_type": "code",
   "execution_count": 35,
   "metadata": {},
   "outputs": [
    {
     "data": {
      "text/html": [
       "<div>\n",
       "<style scoped>\n",
       "    .dataframe tbody tr th:only-of-type {\n",
       "        vertical-align: middle;\n",
       "    }\n",
       "\n",
       "    .dataframe tbody tr th {\n",
       "        vertical-align: top;\n",
       "    }\n",
       "\n",
       "    .dataframe thead th {\n",
       "        text-align: right;\n",
       "    }\n",
       "</style>\n",
       "<table border=\"1\" class=\"dataframe\">\n",
       "  <thead>\n",
       "    <tr style=\"text-align: right;\">\n",
       "      <th></th>\n",
       "      <th>game_id</th>\n",
       "      <th>season</th>\n",
       "      <th>game_type</th>\n",
       "      <th>week</th>\n",
       "      <th>gameday</th>\n",
       "      <th>weekday</th>\n",
       "      <th>gametime</th>\n",
       "      <th>away_team</th>\n",
       "      <th>away_score</th>\n",
       "      <th>home_team</th>\n",
       "      <th>home_score</th>\n",
       "      <th>location</th>\n",
       "      <th>result</th>\n",
       "      <th>total</th>\n",
       "      <th>overtime</th>\n",
       "      <th>old_game_id</th>\n",
       "      <th>gsis</th>\n",
       "      <th>nfl_detail_id</th>\n",
       "      <th>pfr</th>\n",
       "      <th>pff</th>\n",
       "      <th>espn</th>\n",
       "      <th>away_rest</th>\n",
       "      <th>home_rest</th>\n",
       "      <th>away_moneyline</th>\n",
       "      <th>home_moneyline</th>\n",
       "      <th>spread_line</th>\n",
       "      <th>away_spread_odds</th>\n",
       "      <th>home_spread_odds</th>\n",
       "      <th>total_line</th>\n",
       "      <th>under_odds</th>\n",
       "      <th>over_odds</th>\n",
       "      <th>div_game</th>\n",
       "      <th>roof</th>\n",
       "      <th>surface</th>\n",
       "      <th>temp</th>\n",
       "      <th>wind</th>\n",
       "      <th>away_qb_id</th>\n",
       "      <th>home_qb_id</th>\n",
       "      <th>away_qb_name</th>\n",
       "      <th>home_qb_name</th>\n",
       "      <th>away_coach</th>\n",
       "      <th>home_coach</th>\n",
       "      <th>referee</th>\n",
       "      <th>stadium_id</th>\n",
       "      <th>stadium</th>\n",
       "    </tr>\n",
       "  </thead>\n",
       "  <tbody>\n",
       "    <tr>\n",
       "      <th>5583</th>\n",
       "      <td>2020_01_HOU_KC</td>\n",
       "      <td>2020</td>\n",
       "      <td>REG</td>\n",
       "      <td>1</td>\n",
       "      <td>2020-09-10</td>\n",
       "      <td>Thursday</td>\n",
       "      <td>20:20</td>\n",
       "      <td>HOU</td>\n",
       "      <td>20.0</td>\n",
       "      <td>KC</td>\n",
       "      <td>34.0</td>\n",
       "      <td>Home</td>\n",
       "      <td>14.0</td>\n",
       "      <td>54.0</td>\n",
       "      <td>0.0</td>\n",
       "      <td>2020091000</td>\n",
       "      <td>58168.0</td>\n",
       "      <td>NaN</td>\n",
       "      <td>202009100kan</td>\n",
       "      <td>18532.0</td>\n",
       "      <td>401220225.0</td>\n",
       "      <td>7</td>\n",
       "      <td>7</td>\n",
       "      <td>349.0</td>\n",
       "      <td>-423.0</td>\n",
       "      <td>9.5</td>\n",
       "      <td>-105.0</td>\n",
       "      <td>-105.0</td>\n",
       "      <td>53.5</td>\n",
       "      <td>-109.0</td>\n",
       "      <td>-102.0</td>\n",
       "      <td>0</td>\n",
       "      <td>outdoors</td>\n",
       "      <td>grass</td>\n",
       "      <td>56.0</td>\n",
       "      <td>7.0</td>\n",
       "      <td>00-0033537</td>\n",
       "      <td>00-0033873</td>\n",
       "      <td>Deshaun Watson</td>\n",
       "      <td>Patrick Mahomes</td>\n",
       "      <td>Bill O'Brien</td>\n",
       "      <td>Andy Reid</td>\n",
       "      <td>Clete Blakeman</td>\n",
       "      <td>KAN00</td>\n",
       "      <td>Arrowhead Stadium</td>\n",
       "    </tr>\n",
       "    <tr>\n",
       "      <th>5584</th>\n",
       "      <td>2020_01_SEA_ATL</td>\n",
       "      <td>2020</td>\n",
       "      <td>REG</td>\n",
       "      <td>1</td>\n",
       "      <td>2020-09-13</td>\n",
       "      <td>Sunday</td>\n",
       "      <td>13:00</td>\n",
       "      <td>SEA</td>\n",
       "      <td>38.0</td>\n",
       "      <td>ATL</td>\n",
       "      <td>25.0</td>\n",
       "      <td>Home</td>\n",
       "      <td>-13.0</td>\n",
       "      <td>63.0</td>\n",
       "      <td>0.0</td>\n",
       "      <td>2020091300</td>\n",
       "      <td>58169.0</td>\n",
       "      <td>NaN</td>\n",
       "      <td>202009130atl</td>\n",
       "      <td>18533.0</td>\n",
       "      <td>401220313.0</td>\n",
       "      <td>7</td>\n",
       "      <td>7</td>\n",
       "      <td>102.0</td>\n",
       "      <td>-112.0</td>\n",
       "      <td>1.0</td>\n",
       "      <td>-105.0</td>\n",
       "      <td>-105.0</td>\n",
       "      <td>49.5</td>\n",
       "      <td>-108.0</td>\n",
       "      <td>-103.0</td>\n",
       "      <td>0</td>\n",
       "      <td>closed</td>\n",
       "      <td>fieldturf</td>\n",
       "      <td>NaN</td>\n",
       "      <td>NaN</td>\n",
       "      <td>00-0029263</td>\n",
       "      <td>00-0026143</td>\n",
       "      <td>Russell Wilson</td>\n",
       "      <td>Matt Ryan</td>\n",
       "      <td>Pete Carroll</td>\n",
       "      <td>Dan Quinn</td>\n",
       "      <td>Shawn Hochuli</td>\n",
       "      <td>ATL97</td>\n",
       "      <td>Mercedes-Benz Stadium</td>\n",
       "    </tr>\n",
       "    <tr>\n",
       "      <th>5585</th>\n",
       "      <td>2020_01_CLE_BAL</td>\n",
       "      <td>2020</td>\n",
       "      <td>REG</td>\n",
       "      <td>1</td>\n",
       "      <td>2020-09-13</td>\n",
       "      <td>Sunday</td>\n",
       "      <td>13:00</td>\n",
       "      <td>CLE</td>\n",
       "      <td>6.0</td>\n",
       "      <td>BAL</td>\n",
       "      <td>38.0</td>\n",
       "      <td>Home</td>\n",
       "      <td>32.0</td>\n",
       "      <td>44.0</td>\n",
       "      <td>0.0</td>\n",
       "      <td>2020091301</td>\n",
       "      <td>58170.0</td>\n",
       "      <td>NaN</td>\n",
       "      <td>202009130rav</td>\n",
       "      <td>18534.0</td>\n",
       "      <td>401220147.0</td>\n",
       "      <td>7</td>\n",
       "      <td>7</td>\n",
       "      <td>260.0</td>\n",
       "      <td>-302.0</td>\n",
       "      <td>7.0</td>\n",
       "      <td>-107.0</td>\n",
       "      <td>-103.0</td>\n",
       "      <td>47.0</td>\n",
       "      <td>100.0</td>\n",
       "      <td>-112.0</td>\n",
       "      <td>1</td>\n",
       "      <td>outdoors</td>\n",
       "      <td>grass</td>\n",
       "      <td>76.0</td>\n",
       "      <td>5.0</td>\n",
       "      <td>00-0034855</td>\n",
       "      <td>00-0034796</td>\n",
       "      <td>Baker Mayfield</td>\n",
       "      <td>Lamar Jackson</td>\n",
       "      <td>Kevin Stefanski</td>\n",
       "      <td>John Harbaugh</td>\n",
       "      <td>Ronald Torbert</td>\n",
       "      <td>BAL00</td>\n",
       "      <td>M&amp;T Bank Stadium</td>\n",
       "    </tr>\n",
       "    <tr>\n",
       "      <th>5586</th>\n",
       "      <td>2020_01_NYJ_BUF</td>\n",
       "      <td>2020</td>\n",
       "      <td>REG</td>\n",
       "      <td>1</td>\n",
       "      <td>2020-09-13</td>\n",
       "      <td>Sunday</td>\n",
       "      <td>13:00</td>\n",
       "      <td>NYJ</td>\n",
       "      <td>17.0</td>\n",
       "      <td>BUF</td>\n",
       "      <td>27.0</td>\n",
       "      <td>Home</td>\n",
       "      <td>10.0</td>\n",
       "      <td>44.0</td>\n",
       "      <td>0.0</td>\n",
       "      <td>2020091302</td>\n",
       "      <td>58171.0</td>\n",
       "      <td>NaN</td>\n",
       "      <td>202009130buf</td>\n",
       "      <td>18535.0</td>\n",
       "      <td>401220116.0</td>\n",
       "      <td>7</td>\n",
       "      <td>7</td>\n",
       "      <td>242.0</td>\n",
       "      <td>-279.0</td>\n",
       "      <td>6.5</td>\n",
       "      <td>-110.0</td>\n",
       "      <td>100.0</td>\n",
       "      <td>39.5</td>\n",
       "      <td>-114.0</td>\n",
       "      <td>102.0</td>\n",
       "      <td>1</td>\n",
       "      <td>outdoors</td>\n",
       "      <td>astroturf</td>\n",
       "      <td>67.0</td>\n",
       "      <td>15.0</td>\n",
       "      <td>00-0034869</td>\n",
       "      <td>00-0034857</td>\n",
       "      <td>Sam Darnold</td>\n",
       "      <td>Josh Allen</td>\n",
       "      <td>Adam Gase</td>\n",
       "      <td>Sean McDermott</td>\n",
       "      <td>Shawn Smith</td>\n",
       "      <td>BUF00</td>\n",
       "      <td>New Era Field</td>\n",
       "    </tr>\n",
       "    <tr>\n",
       "      <th>5587</th>\n",
       "      <td>2020_01_LV_CAR</td>\n",
       "      <td>2020</td>\n",
       "      <td>REG</td>\n",
       "      <td>1</td>\n",
       "      <td>2020-09-13</td>\n",
       "      <td>Sunday</td>\n",
       "      <td>13:00</td>\n",
       "      <td>LV</td>\n",
       "      <td>34.0</td>\n",
       "      <td>CAR</td>\n",
       "      <td>30.0</td>\n",
       "      <td>Home</td>\n",
       "      <td>-4.0</td>\n",
       "      <td>64.0</td>\n",
       "      <td>0.0</td>\n",
       "      <td>2020091303</td>\n",
       "      <td>58172.0</td>\n",
       "      <td>NaN</td>\n",
       "      <td>202009130car</td>\n",
       "      <td>18536.0</td>\n",
       "      <td>401220370.0</td>\n",
       "      <td>7</td>\n",
       "      <td>7</td>\n",
       "      <td>-124.0</td>\n",
       "      <td>134.0</td>\n",
       "      <td>-3.0</td>\n",
       "      <td>-112.0</td>\n",
       "      <td>-113.0</td>\n",
       "      <td>48.0</td>\n",
       "      <td>-101.0</td>\n",
       "      <td>-110.0</td>\n",
       "      <td>0</td>\n",
       "      <td>outdoors</td>\n",
       "      <td>grass</td>\n",
       "      <td>81.0</td>\n",
       "      <td>5.0</td>\n",
       "      <td>00-0031280</td>\n",
       "      <td>00-0031237</td>\n",
       "      <td>Derek Carr</td>\n",
       "      <td>Teddy Bridgewater</td>\n",
       "      <td>Jon Gruden</td>\n",
       "      <td>Matt Rhule</td>\n",
       "      <td>Brad Allen</td>\n",
       "      <td>CAR00</td>\n",
       "      <td>Bank of America Stadium</td>\n",
       "    </tr>\n",
       "  </tbody>\n",
       "</table>\n",
       "</div>"
      ],
      "text/plain": [
       "              game_id  season game_type  week     gameday   weekday gametime  \\\n",
       "5583   2020_01_HOU_KC    2020       REG     1  2020-09-10  Thursday    20:20   \n",
       "5584  2020_01_SEA_ATL    2020       REG     1  2020-09-13    Sunday    13:00   \n",
       "5585  2020_01_CLE_BAL    2020       REG     1  2020-09-13    Sunday    13:00   \n",
       "5586  2020_01_NYJ_BUF    2020       REG     1  2020-09-13    Sunday    13:00   \n",
       "5587   2020_01_LV_CAR    2020       REG     1  2020-09-13    Sunday    13:00   \n",
       "\n",
       "     away_team  away_score home_team  home_score location  result  total  \\\n",
       "5583       HOU        20.0        KC        34.0     Home    14.0   54.0   \n",
       "5584       SEA        38.0       ATL        25.0     Home   -13.0   63.0   \n",
       "5585       CLE         6.0       BAL        38.0     Home    32.0   44.0   \n",
       "5586       NYJ        17.0       BUF        27.0     Home    10.0   44.0   \n",
       "5587        LV        34.0       CAR        30.0     Home    -4.0   64.0   \n",
       "\n",
       "      overtime  old_game_id     gsis nfl_detail_id           pfr      pff  \\\n",
       "5583       0.0   2020091000  58168.0           NaN  202009100kan  18532.0   \n",
       "5584       0.0   2020091300  58169.0           NaN  202009130atl  18533.0   \n",
       "5585       0.0   2020091301  58170.0           NaN  202009130rav  18534.0   \n",
       "5586       0.0   2020091302  58171.0           NaN  202009130buf  18535.0   \n",
       "5587       0.0   2020091303  58172.0           NaN  202009130car  18536.0   \n",
       "\n",
       "             espn  away_rest  home_rest  away_moneyline  home_moneyline  \\\n",
       "5583  401220225.0          7          7           349.0          -423.0   \n",
       "5584  401220313.0          7          7           102.0          -112.0   \n",
       "5585  401220147.0          7          7           260.0          -302.0   \n",
       "5586  401220116.0          7          7           242.0          -279.0   \n",
       "5587  401220370.0          7          7          -124.0           134.0   \n",
       "\n",
       "      spread_line  away_spread_odds  home_spread_odds  total_line  under_odds  \\\n",
       "5583          9.5            -105.0            -105.0        53.5      -109.0   \n",
       "5584          1.0            -105.0            -105.0        49.5      -108.0   \n",
       "5585          7.0            -107.0            -103.0        47.0       100.0   \n",
       "5586          6.5            -110.0             100.0        39.5      -114.0   \n",
       "5587         -3.0            -112.0            -113.0        48.0      -101.0   \n",
       "\n",
       "      over_odds  div_game      roof    surface  temp  wind  away_qb_id  \\\n",
       "5583     -102.0         0  outdoors      grass  56.0   7.0  00-0033537   \n",
       "5584     -103.0         0    closed  fieldturf   NaN   NaN  00-0029263   \n",
       "5585     -112.0         1  outdoors      grass  76.0   5.0  00-0034855   \n",
       "5586      102.0         1  outdoors  astroturf  67.0  15.0  00-0034869   \n",
       "5587     -110.0         0  outdoors      grass  81.0   5.0  00-0031280   \n",
       "\n",
       "      home_qb_id    away_qb_name       home_qb_name       away_coach  \\\n",
       "5583  00-0033873  Deshaun Watson    Patrick Mahomes     Bill O'Brien   \n",
       "5584  00-0026143  Russell Wilson          Matt Ryan     Pete Carroll   \n",
       "5585  00-0034796  Baker Mayfield      Lamar Jackson  Kevin Stefanski   \n",
       "5586  00-0034857     Sam Darnold         Josh Allen        Adam Gase   \n",
       "5587  00-0031237      Derek Carr  Teddy Bridgewater       Jon Gruden   \n",
       "\n",
       "          home_coach         referee stadium_id                  stadium  \n",
       "5583       Andy Reid  Clete Blakeman      KAN00        Arrowhead Stadium  \n",
       "5584       Dan Quinn   Shawn Hochuli      ATL97    Mercedes-Benz Stadium  \n",
       "5585   John Harbaugh  Ronald Torbert      BAL00         M&T Bank Stadium  \n",
       "5586  Sean McDermott     Shawn Smith      BUF00            New Era Field  \n",
       "5587      Matt Rhule      Brad Allen      CAR00  Bank of America Stadium  "
      ]
     },
     "execution_count": 35,
     "metadata": {},
     "output_type": "execute_result"
    }
   ],
   "source": [
    "year = 2020\n",
    "\n",
    "schedule = nfl.import_schedules([year])\n",
    "schedule.head()"
   ]
  },
  {
   "cell_type": "code",
   "execution_count": 36,
   "metadata": {},
   "outputs": [
    {
     "data": {
      "text/html": [
       "<div>\n",
       "<style scoped>\n",
       "    .dataframe tbody tr th:only-of-type {\n",
       "        vertical-align: middle;\n",
       "    }\n",
       "\n",
       "    .dataframe tbody tr th {\n",
       "        vertical-align: top;\n",
       "    }\n",
       "\n",
       "    .dataframe thead th {\n",
       "        text-align: right;\n",
       "    }\n",
       "</style>\n",
       "<table border=\"1\" class=\"dataframe\">\n",
       "  <thead>\n",
       "    <tr style=\"text-align: right;\">\n",
       "      <th></th>\n",
       "      <th>game_id</th>\n",
       "      <th>week</th>\n",
       "      <th>away_team</th>\n",
       "      <th>home_team</th>\n",
       "      <th>total</th>\n",
       "      <th>spread_line</th>\n",
       "    </tr>\n",
       "  </thead>\n",
       "  <tbody>\n",
       "    <tr>\n",
       "      <th>5583</th>\n",
       "      <td>2020_01_HOU_KC</td>\n",
       "      <td>1</td>\n",
       "      <td>HOU</td>\n",
       "      <td>KC</td>\n",
       "      <td>54.0</td>\n",
       "      <td>9.5</td>\n",
       "    </tr>\n",
       "    <tr>\n",
       "      <th>5584</th>\n",
       "      <td>2020_01_SEA_ATL</td>\n",
       "      <td>1</td>\n",
       "      <td>SEA</td>\n",
       "      <td>ATL</td>\n",
       "      <td>63.0</td>\n",
       "      <td>1.0</td>\n",
       "    </tr>\n",
       "    <tr>\n",
       "      <th>5585</th>\n",
       "      <td>2020_01_CLE_BAL</td>\n",
       "      <td>1</td>\n",
       "      <td>CLE</td>\n",
       "      <td>BAL</td>\n",
       "      <td>44.0</td>\n",
       "      <td>7.0</td>\n",
       "    </tr>\n",
       "    <tr>\n",
       "      <th>5586</th>\n",
       "      <td>2020_01_NYJ_BUF</td>\n",
       "      <td>1</td>\n",
       "      <td>NYJ</td>\n",
       "      <td>BUF</td>\n",
       "      <td>44.0</td>\n",
       "      <td>6.5</td>\n",
       "    </tr>\n",
       "    <tr>\n",
       "      <th>5587</th>\n",
       "      <td>2020_01_LV_CAR</td>\n",
       "      <td>1</td>\n",
       "      <td>LV</td>\n",
       "      <td>CAR</td>\n",
       "      <td>64.0</td>\n",
       "      <td>-3.0</td>\n",
       "    </tr>\n",
       "  </tbody>\n",
       "</table>\n",
       "</div>"
      ],
      "text/plain": [
       "              game_id  week away_team home_team  total  spread_line\n",
       "5583   2020_01_HOU_KC     1       HOU        KC   54.0          9.5\n",
       "5584  2020_01_SEA_ATL     1       SEA       ATL   63.0          1.0\n",
       "5585  2020_01_CLE_BAL     1       CLE       BAL   44.0          7.0\n",
       "5586  2020_01_NYJ_BUF     1       NYJ       BUF   44.0          6.5\n",
       "5587   2020_01_LV_CAR     1        LV       CAR   64.0         -3.0"
      ]
     },
     "execution_count": 36,
     "metadata": {},
     "output_type": "execute_result"
    }
   ],
   "source": [
    "cols_of_interest = [\n",
    "    'game_id',\n",
    "    'week',\n",
    "    'away_team', \n",
    "    'home_team',\n",
    "    'total',\n",
    "    'spread_line'\n",
    "]\n",
    "# weeks_of_interest = list(range(9, 18))\n",
    "# df = schedule[schedule['week'].isin(weeks_of_interest)][cols_of_interest].copy()\n",
    "df = schedule[cols_of_interest].copy()\n",
    "df.head()"
   ]
  },
  {
   "cell_type": "code",
   "execution_count": 37,
   "metadata": {},
   "outputs": [
    {
     "name": "stdout",
     "output_type": "stream",
     "text": [
      "mean: 24.7453531598513\n",
      "median: 24.5\n",
      "dif: 0.24535315985130168\n"
     ]
    },
    {
     "data": {
      "text/html": [
       "<div>\n",
       "<style scoped>\n",
       "    .dataframe tbody tr th:only-of-type {\n",
       "        vertical-align: middle;\n",
       "    }\n",
       "\n",
       "    .dataframe tbody tr th {\n",
       "        vertical-align: top;\n",
       "    }\n",
       "\n",
       "    .dataframe thead th {\n",
       "        text-align: right;\n",
       "    }\n",
       "</style>\n",
       "<table border=\"1\" class=\"dataframe\">\n",
       "  <thead>\n",
       "    <tr style=\"text-align: right;\">\n",
       "      <th></th>\n",
       "      <th>game_id</th>\n",
       "      <th>week</th>\n",
       "      <th>away_team</th>\n",
       "      <th>home_team</th>\n",
       "      <th>total</th>\n",
       "      <th>spread_line</th>\n",
       "      <th>exp_away</th>\n",
       "      <th>exp_home</th>\n",
       "      <th>scaled_away</th>\n",
       "      <th>scaled_home</th>\n",
       "    </tr>\n",
       "  </thead>\n",
       "  <tbody>\n",
       "    <tr>\n",
       "      <th>5583</th>\n",
       "      <td>2020_01_HOU_KC</td>\n",
       "      <td>1</td>\n",
       "      <td>HOU</td>\n",
       "      <td>KC</td>\n",
       "      <td>54.0</td>\n",
       "      <td>9.5</td>\n",
       "      <td>22.25</td>\n",
       "      <td>31.75</td>\n",
       "      <td>-2.495353</td>\n",
       "      <td>7.004647</td>\n",
       "    </tr>\n",
       "    <tr>\n",
       "      <th>5584</th>\n",
       "      <td>2020_01_SEA_ATL</td>\n",
       "      <td>1</td>\n",
       "      <td>SEA</td>\n",
       "      <td>ATL</td>\n",
       "      <td>63.0</td>\n",
       "      <td>1.0</td>\n",
       "      <td>31.00</td>\n",
       "      <td>32.00</td>\n",
       "      <td>6.254647</td>\n",
       "      <td>7.254647</td>\n",
       "    </tr>\n",
       "    <tr>\n",
       "      <th>5585</th>\n",
       "      <td>2020_01_CLE_BAL</td>\n",
       "      <td>1</td>\n",
       "      <td>CLE</td>\n",
       "      <td>BAL</td>\n",
       "      <td>44.0</td>\n",
       "      <td>7.0</td>\n",
       "      <td>18.50</td>\n",
       "      <td>25.50</td>\n",
       "      <td>-6.245353</td>\n",
       "      <td>0.754647</td>\n",
       "    </tr>\n",
       "    <tr>\n",
       "      <th>5586</th>\n",
       "      <td>2020_01_NYJ_BUF</td>\n",
       "      <td>1</td>\n",
       "      <td>NYJ</td>\n",
       "      <td>BUF</td>\n",
       "      <td>44.0</td>\n",
       "      <td>6.5</td>\n",
       "      <td>18.75</td>\n",
       "      <td>25.25</td>\n",
       "      <td>-5.995353</td>\n",
       "      <td>0.504647</td>\n",
       "    </tr>\n",
       "    <tr>\n",
       "      <th>5587</th>\n",
       "      <td>2020_01_LV_CAR</td>\n",
       "      <td>1</td>\n",
       "      <td>LV</td>\n",
       "      <td>CAR</td>\n",
       "      <td>64.0</td>\n",
       "      <td>-3.0</td>\n",
       "      <td>33.50</td>\n",
       "      <td>30.50</td>\n",
       "      <td>8.754647</td>\n",
       "      <td>5.754647</td>\n",
       "    </tr>\n",
       "  </tbody>\n",
       "</table>\n",
       "</div>"
      ],
      "text/plain": [
       "              game_id  week away_team home_team  total  spread_line  exp_away  \\\n",
       "5583   2020_01_HOU_KC     1       HOU        KC   54.0          9.5     22.25   \n",
       "5584  2020_01_SEA_ATL     1       SEA       ATL   63.0          1.0     31.00   \n",
       "5585  2020_01_CLE_BAL     1       CLE       BAL   44.0          7.0     18.50   \n",
       "5586  2020_01_NYJ_BUF     1       NYJ       BUF   44.0          6.5     18.75   \n",
       "5587   2020_01_LV_CAR     1        LV       CAR   64.0         -3.0     33.50   \n",
       "\n",
       "      exp_home  scaled_away  scaled_home  \n",
       "5583     31.75    -2.495353     7.004647  \n",
       "5584     32.00     6.254647     7.254647  \n",
       "5585     25.50    -6.245353     0.754647  \n",
       "5586     25.25    -5.995353     0.504647  \n",
       "5587     30.50     8.754647     5.754647  "
      ]
     },
     "execution_count": 37,
     "metadata": {},
     "output_type": "execute_result"
    }
   ],
   "source": [
    "exp_home_score = lambda row: (row['total'] + row['spread_line'])/2\n",
    "exp_away_score = lambda row: (row['total'] - row['spread_line'])/2\n",
    "\n",
    "mean_score = df['total'].mean()/2\n",
    "median_score = df['total'].median()/2\n",
    "\n",
    "print(f'mean: {mean_score}\\nmedian: {median_score}\\ndif: {mean_score-median_score}')\n",
    "\n",
    "df['exp_away'] = df.apply(exp_away_score, axis=1)\n",
    "df['exp_home'] = df.apply(exp_home_score, axis=1)\n",
    "df['scaled_away'] = df['exp_away'] - mean_score\n",
    "df['scaled_home'] = df['exp_home'] - mean_score\n",
    "df.head()\n"
   ]
  },
  {
   "cell_type": "code",
   "execution_count": 38,
   "metadata": {},
   "outputs": [],
   "source": [
    "# create a system of equations where each row represents the coefficients for an offense going against a defense\n",
    "system = []\n",
    "for _, _, _, away_team, home_team, _, _, _, _, scaled_away, scaled_home in df.itertuples():\n",
    "    # Perspective of home team\n",
    "    # 1 * home_offense - 1 * away_defense + 0.5 * home_field_advantage = home_score\n",
    "    system.append({\n",
    "        f'{home_team}_off':  1,\n",
    "        f'{away_team}_def': -1,\n",
    "        'hfa': 0.5,\n",
    "        'score': scaled_home,\n",
    "    })\n",
    "    # Perspective of away team (home field hurts you)\n",
    "    # 1 * away_offense - 1 * home_defense - 0.5 * home_field_advantage = away_score\n",
    "    system.append({\n",
    "        f'{away_team}_off':  1,\n",
    "        f'{home_team}_def': -1,\n",
    "        'hfa': -0.5,\n",
    "        'score': scaled_away,\n",
    "    })"
   ]
  },
  {
   "cell_type": "code",
   "execution_count": 39,
   "metadata": {},
   "outputs": [
    {
     "data": {
      "text/html": [
       "<div>\n",
       "<style scoped>\n",
       "    .dataframe tbody tr th:only-of-type {\n",
       "        vertical-align: middle;\n",
       "    }\n",
       "\n",
       "    .dataframe tbody tr th {\n",
       "        vertical-align: top;\n",
       "    }\n",
       "\n",
       "    .dataframe thead th {\n",
       "        text-align: right;\n",
       "    }\n",
       "</style>\n",
       "<table border=\"1\" class=\"dataframe\">\n",
       "  <thead>\n",
       "    <tr style=\"text-align: right;\">\n",
       "      <th></th>\n",
       "      <th>ARI_def</th>\n",
       "      <th>ARI_off</th>\n",
       "      <th>ATL_def</th>\n",
       "      <th>ATL_off</th>\n",
       "      <th>BAL_def</th>\n",
       "      <th>BAL_off</th>\n",
       "      <th>BUF_def</th>\n",
       "      <th>BUF_off</th>\n",
       "      <th>CAR_def</th>\n",
       "      <th>CAR_off</th>\n",
       "      <th>CHI_def</th>\n",
       "      <th>CHI_off</th>\n",
       "      <th>CIN_def</th>\n",
       "      <th>CIN_off</th>\n",
       "      <th>CLE_def</th>\n",
       "      <th>CLE_off</th>\n",
       "      <th>DAL_def</th>\n",
       "      <th>DAL_off</th>\n",
       "      <th>DEN_def</th>\n",
       "      <th>DEN_off</th>\n",
       "      <th>DET_def</th>\n",
       "      <th>DET_off</th>\n",
       "      <th>GB_def</th>\n",
       "      <th>GB_off</th>\n",
       "      <th>HOU_def</th>\n",
       "      <th>HOU_off</th>\n",
       "      <th>IND_def</th>\n",
       "      <th>IND_off</th>\n",
       "      <th>JAX_def</th>\n",
       "      <th>JAX_off</th>\n",
       "      <th>KC_def</th>\n",
       "      <th>KC_off</th>\n",
       "      <th>LAC_def</th>\n",
       "      <th>LAC_off</th>\n",
       "      <th>LA_def</th>\n",
       "      <th>LA_off</th>\n",
       "      <th>LV_def</th>\n",
       "      <th>LV_off</th>\n",
       "      <th>MIA_def</th>\n",
       "      <th>MIA_off</th>\n",
       "      <th>MIN_def</th>\n",
       "      <th>MIN_off</th>\n",
       "      <th>NE_def</th>\n",
       "      <th>NE_off</th>\n",
       "      <th>NO_def</th>\n",
       "      <th>NO_off</th>\n",
       "      <th>NYG_def</th>\n",
       "      <th>NYG_off</th>\n",
       "      <th>NYJ_def</th>\n",
       "      <th>NYJ_off</th>\n",
       "      <th>PHI_def</th>\n",
       "      <th>PHI_off</th>\n",
       "      <th>PIT_def</th>\n",
       "      <th>PIT_off</th>\n",
       "      <th>SEA_def</th>\n",
       "      <th>SEA_off</th>\n",
       "      <th>SF_def</th>\n",
       "      <th>SF_off</th>\n",
       "      <th>TB_def</th>\n",
       "      <th>TB_off</th>\n",
       "      <th>TEN_def</th>\n",
       "      <th>TEN_off</th>\n",
       "      <th>WAS_def</th>\n",
       "      <th>WAS_off</th>\n",
       "      <th>hfa</th>\n",
       "      <th>score</th>\n",
       "    </tr>\n",
       "  </thead>\n",
       "  <tbody>\n",
       "    <tr>\n",
       "      <th>0</th>\n",
       "      <td>0.0</td>\n",
       "      <td>0.0</td>\n",
       "      <td>0.0</td>\n",
       "      <td>0.0</td>\n",
       "      <td>0.0</td>\n",
       "      <td>0.0</td>\n",
       "      <td>0.0</td>\n",
       "      <td>0.0</td>\n",
       "      <td>0.0</td>\n",
       "      <td>0.0</td>\n",
       "      <td>0.0</td>\n",
       "      <td>0.0</td>\n",
       "      <td>0.0</td>\n",
       "      <td>0.0</td>\n",
       "      <td>0.0</td>\n",
       "      <td>0.0</td>\n",
       "      <td>0.0</td>\n",
       "      <td>0.0</td>\n",
       "      <td>0.0</td>\n",
       "      <td>0.0</td>\n",
       "      <td>0.0</td>\n",
       "      <td>0.0</td>\n",
       "      <td>0.0</td>\n",
       "      <td>0.0</td>\n",
       "      <td>-1.0</td>\n",
       "      <td>0.0</td>\n",
       "      <td>0.0</td>\n",
       "      <td>0.0</td>\n",
       "      <td>0.0</td>\n",
       "      <td>0.0</td>\n",
       "      <td>0.0</td>\n",
       "      <td>1.0</td>\n",
       "      <td>0.0</td>\n",
       "      <td>0.0</td>\n",
       "      <td>0.0</td>\n",
       "      <td>0.0</td>\n",
       "      <td>0.0</td>\n",
       "      <td>0.0</td>\n",
       "      <td>0.0</td>\n",
       "      <td>0.0</td>\n",
       "      <td>0.0</td>\n",
       "      <td>0.0</td>\n",
       "      <td>0.0</td>\n",
       "      <td>0.0</td>\n",
       "      <td>0.0</td>\n",
       "      <td>0.0</td>\n",
       "      <td>0.0</td>\n",
       "      <td>0.0</td>\n",
       "      <td>0.0</td>\n",
       "      <td>0.0</td>\n",
       "      <td>0.0</td>\n",
       "      <td>0.0</td>\n",
       "      <td>0.0</td>\n",
       "      <td>0.0</td>\n",
       "      <td>0.0</td>\n",
       "      <td>0.0</td>\n",
       "      <td>0.0</td>\n",
       "      <td>0.0</td>\n",
       "      <td>0.0</td>\n",
       "      <td>0.0</td>\n",
       "      <td>0.0</td>\n",
       "      <td>0.0</td>\n",
       "      <td>0.0</td>\n",
       "      <td>0.0</td>\n",
       "      <td>0.5</td>\n",
       "      <td>7.004647</td>\n",
       "    </tr>\n",
       "    <tr>\n",
       "      <th>1</th>\n",
       "      <td>0.0</td>\n",
       "      <td>0.0</td>\n",
       "      <td>0.0</td>\n",
       "      <td>0.0</td>\n",
       "      <td>0.0</td>\n",
       "      <td>0.0</td>\n",
       "      <td>0.0</td>\n",
       "      <td>0.0</td>\n",
       "      <td>0.0</td>\n",
       "      <td>0.0</td>\n",
       "      <td>0.0</td>\n",
       "      <td>0.0</td>\n",
       "      <td>0.0</td>\n",
       "      <td>0.0</td>\n",
       "      <td>0.0</td>\n",
       "      <td>0.0</td>\n",
       "      <td>0.0</td>\n",
       "      <td>0.0</td>\n",
       "      <td>0.0</td>\n",
       "      <td>0.0</td>\n",
       "      <td>0.0</td>\n",
       "      <td>0.0</td>\n",
       "      <td>0.0</td>\n",
       "      <td>0.0</td>\n",
       "      <td>0.0</td>\n",
       "      <td>1.0</td>\n",
       "      <td>0.0</td>\n",
       "      <td>0.0</td>\n",
       "      <td>0.0</td>\n",
       "      <td>0.0</td>\n",
       "      <td>-1.0</td>\n",
       "      <td>0.0</td>\n",
       "      <td>0.0</td>\n",
       "      <td>0.0</td>\n",
       "      <td>0.0</td>\n",
       "      <td>0.0</td>\n",
       "      <td>0.0</td>\n",
       "      <td>0.0</td>\n",
       "      <td>0.0</td>\n",
       "      <td>0.0</td>\n",
       "      <td>0.0</td>\n",
       "      <td>0.0</td>\n",
       "      <td>0.0</td>\n",
       "      <td>0.0</td>\n",
       "      <td>0.0</td>\n",
       "      <td>0.0</td>\n",
       "      <td>0.0</td>\n",
       "      <td>0.0</td>\n",
       "      <td>0.0</td>\n",
       "      <td>0.0</td>\n",
       "      <td>0.0</td>\n",
       "      <td>0.0</td>\n",
       "      <td>0.0</td>\n",
       "      <td>0.0</td>\n",
       "      <td>0.0</td>\n",
       "      <td>0.0</td>\n",
       "      <td>0.0</td>\n",
       "      <td>0.0</td>\n",
       "      <td>0.0</td>\n",
       "      <td>0.0</td>\n",
       "      <td>0.0</td>\n",
       "      <td>0.0</td>\n",
       "      <td>0.0</td>\n",
       "      <td>0.0</td>\n",
       "      <td>-0.5</td>\n",
       "      <td>-2.495353</td>\n",
       "    </tr>\n",
       "    <tr>\n",
       "      <th>2</th>\n",
       "      <td>0.0</td>\n",
       "      <td>0.0</td>\n",
       "      <td>0.0</td>\n",
       "      <td>1.0</td>\n",
       "      <td>0.0</td>\n",
       "      <td>0.0</td>\n",
       "      <td>0.0</td>\n",
       "      <td>0.0</td>\n",
       "      <td>0.0</td>\n",
       "      <td>0.0</td>\n",
       "      <td>0.0</td>\n",
       "      <td>0.0</td>\n",
       "      <td>0.0</td>\n",
       "      <td>0.0</td>\n",
       "      <td>0.0</td>\n",
       "      <td>0.0</td>\n",
       "      <td>0.0</td>\n",
       "      <td>0.0</td>\n",
       "      <td>0.0</td>\n",
       "      <td>0.0</td>\n",
       "      <td>0.0</td>\n",
       "      <td>0.0</td>\n",
       "      <td>0.0</td>\n",
       "      <td>0.0</td>\n",
       "      <td>0.0</td>\n",
       "      <td>0.0</td>\n",
       "      <td>0.0</td>\n",
       "      <td>0.0</td>\n",
       "      <td>0.0</td>\n",
       "      <td>0.0</td>\n",
       "      <td>0.0</td>\n",
       "      <td>0.0</td>\n",
       "      <td>0.0</td>\n",
       "      <td>0.0</td>\n",
       "      <td>0.0</td>\n",
       "      <td>0.0</td>\n",
       "      <td>0.0</td>\n",
       "      <td>0.0</td>\n",
       "      <td>0.0</td>\n",
       "      <td>0.0</td>\n",
       "      <td>0.0</td>\n",
       "      <td>0.0</td>\n",
       "      <td>0.0</td>\n",
       "      <td>0.0</td>\n",
       "      <td>0.0</td>\n",
       "      <td>0.0</td>\n",
       "      <td>0.0</td>\n",
       "      <td>0.0</td>\n",
       "      <td>0.0</td>\n",
       "      <td>0.0</td>\n",
       "      <td>0.0</td>\n",
       "      <td>0.0</td>\n",
       "      <td>0.0</td>\n",
       "      <td>0.0</td>\n",
       "      <td>-1.0</td>\n",
       "      <td>0.0</td>\n",
       "      <td>0.0</td>\n",
       "      <td>0.0</td>\n",
       "      <td>0.0</td>\n",
       "      <td>0.0</td>\n",
       "      <td>0.0</td>\n",
       "      <td>0.0</td>\n",
       "      <td>0.0</td>\n",
       "      <td>0.0</td>\n",
       "      <td>0.5</td>\n",
       "      <td>7.254647</td>\n",
       "    </tr>\n",
       "    <tr>\n",
       "      <th>3</th>\n",
       "      <td>0.0</td>\n",
       "      <td>0.0</td>\n",
       "      <td>-1.0</td>\n",
       "      <td>0.0</td>\n",
       "      <td>0.0</td>\n",
       "      <td>0.0</td>\n",
       "      <td>0.0</td>\n",
       "      <td>0.0</td>\n",
       "      <td>0.0</td>\n",
       "      <td>0.0</td>\n",
       "      <td>0.0</td>\n",
       "      <td>0.0</td>\n",
       "      <td>0.0</td>\n",
       "      <td>0.0</td>\n",
       "      <td>0.0</td>\n",
       "      <td>0.0</td>\n",
       "      <td>0.0</td>\n",
       "      <td>0.0</td>\n",
       "      <td>0.0</td>\n",
       "      <td>0.0</td>\n",
       "      <td>0.0</td>\n",
       "      <td>0.0</td>\n",
       "      <td>0.0</td>\n",
       "      <td>0.0</td>\n",
       "      <td>0.0</td>\n",
       "      <td>0.0</td>\n",
       "      <td>0.0</td>\n",
       "      <td>0.0</td>\n",
       "      <td>0.0</td>\n",
       "      <td>0.0</td>\n",
       "      <td>0.0</td>\n",
       "      <td>0.0</td>\n",
       "      <td>0.0</td>\n",
       "      <td>0.0</td>\n",
       "      <td>0.0</td>\n",
       "      <td>0.0</td>\n",
       "      <td>0.0</td>\n",
       "      <td>0.0</td>\n",
       "      <td>0.0</td>\n",
       "      <td>0.0</td>\n",
       "      <td>0.0</td>\n",
       "      <td>0.0</td>\n",
       "      <td>0.0</td>\n",
       "      <td>0.0</td>\n",
       "      <td>0.0</td>\n",
       "      <td>0.0</td>\n",
       "      <td>0.0</td>\n",
       "      <td>0.0</td>\n",
       "      <td>0.0</td>\n",
       "      <td>0.0</td>\n",
       "      <td>0.0</td>\n",
       "      <td>0.0</td>\n",
       "      <td>0.0</td>\n",
       "      <td>0.0</td>\n",
       "      <td>0.0</td>\n",
       "      <td>1.0</td>\n",
       "      <td>0.0</td>\n",
       "      <td>0.0</td>\n",
       "      <td>0.0</td>\n",
       "      <td>0.0</td>\n",
       "      <td>0.0</td>\n",
       "      <td>0.0</td>\n",
       "      <td>0.0</td>\n",
       "      <td>0.0</td>\n",
       "      <td>-0.5</td>\n",
       "      <td>6.254647</td>\n",
       "    </tr>\n",
       "    <tr>\n",
       "      <th>4</th>\n",
       "      <td>0.0</td>\n",
       "      <td>0.0</td>\n",
       "      <td>0.0</td>\n",
       "      <td>0.0</td>\n",
       "      <td>0.0</td>\n",
       "      <td>1.0</td>\n",
       "      <td>0.0</td>\n",
       "      <td>0.0</td>\n",
       "      <td>0.0</td>\n",
       "      <td>0.0</td>\n",
       "      <td>0.0</td>\n",
       "      <td>0.0</td>\n",
       "      <td>0.0</td>\n",
       "      <td>0.0</td>\n",
       "      <td>-1.0</td>\n",
       "      <td>0.0</td>\n",
       "      <td>0.0</td>\n",
       "      <td>0.0</td>\n",
       "      <td>0.0</td>\n",
       "      <td>0.0</td>\n",
       "      <td>0.0</td>\n",
       "      <td>0.0</td>\n",
       "      <td>0.0</td>\n",
       "      <td>0.0</td>\n",
       "      <td>0.0</td>\n",
       "      <td>0.0</td>\n",
       "      <td>0.0</td>\n",
       "      <td>0.0</td>\n",
       "      <td>0.0</td>\n",
       "      <td>0.0</td>\n",
       "      <td>0.0</td>\n",
       "      <td>0.0</td>\n",
       "      <td>0.0</td>\n",
       "      <td>0.0</td>\n",
       "      <td>0.0</td>\n",
       "      <td>0.0</td>\n",
       "      <td>0.0</td>\n",
       "      <td>0.0</td>\n",
       "      <td>0.0</td>\n",
       "      <td>0.0</td>\n",
       "      <td>0.0</td>\n",
       "      <td>0.0</td>\n",
       "      <td>0.0</td>\n",
       "      <td>0.0</td>\n",
       "      <td>0.0</td>\n",
       "      <td>0.0</td>\n",
       "      <td>0.0</td>\n",
       "      <td>0.0</td>\n",
       "      <td>0.0</td>\n",
       "      <td>0.0</td>\n",
       "      <td>0.0</td>\n",
       "      <td>0.0</td>\n",
       "      <td>0.0</td>\n",
       "      <td>0.0</td>\n",
       "      <td>0.0</td>\n",
       "      <td>0.0</td>\n",
       "      <td>0.0</td>\n",
       "      <td>0.0</td>\n",
       "      <td>0.0</td>\n",
       "      <td>0.0</td>\n",
       "      <td>0.0</td>\n",
       "      <td>0.0</td>\n",
       "      <td>0.0</td>\n",
       "      <td>0.0</td>\n",
       "      <td>0.5</td>\n",
       "      <td>0.754647</td>\n",
       "    </tr>\n",
       "  </tbody>\n",
       "</table>\n",
       "</div>"
      ],
      "text/plain": [
       "   ARI_def  ARI_off  ATL_def  ATL_off  BAL_def  BAL_off  BUF_def  BUF_off  \\\n",
       "0      0.0      0.0      0.0      0.0      0.0      0.0      0.0      0.0   \n",
       "1      0.0      0.0      0.0      0.0      0.0      0.0      0.0      0.0   \n",
       "2      0.0      0.0      0.0      1.0      0.0      0.0      0.0      0.0   \n",
       "3      0.0      0.0     -1.0      0.0      0.0      0.0      0.0      0.0   \n",
       "4      0.0      0.0      0.0      0.0      0.0      1.0      0.0      0.0   \n",
       "\n",
       "   CAR_def  CAR_off  CHI_def  CHI_off  CIN_def  CIN_off  CLE_def  CLE_off  \\\n",
       "0      0.0      0.0      0.0      0.0      0.0      0.0      0.0      0.0   \n",
       "1      0.0      0.0      0.0      0.0      0.0      0.0      0.0      0.0   \n",
       "2      0.0      0.0      0.0      0.0      0.0      0.0      0.0      0.0   \n",
       "3      0.0      0.0      0.0      0.0      0.0      0.0      0.0      0.0   \n",
       "4      0.0      0.0      0.0      0.0      0.0      0.0     -1.0      0.0   \n",
       "\n",
       "   DAL_def  DAL_off  DEN_def  DEN_off  DET_def  DET_off  GB_def  GB_off  \\\n",
       "0      0.0      0.0      0.0      0.0      0.0      0.0     0.0     0.0   \n",
       "1      0.0      0.0      0.0      0.0      0.0      0.0     0.0     0.0   \n",
       "2      0.0      0.0      0.0      0.0      0.0      0.0     0.0     0.0   \n",
       "3      0.0      0.0      0.0      0.0      0.0      0.0     0.0     0.0   \n",
       "4      0.0      0.0      0.0      0.0      0.0      0.0     0.0     0.0   \n",
       "\n",
       "   HOU_def  HOU_off  IND_def  IND_off  JAX_def  JAX_off  KC_def  KC_off  \\\n",
       "0     -1.0      0.0      0.0      0.0      0.0      0.0     0.0     1.0   \n",
       "1      0.0      1.0      0.0      0.0      0.0      0.0    -1.0     0.0   \n",
       "2      0.0      0.0      0.0      0.0      0.0      0.0     0.0     0.0   \n",
       "3      0.0      0.0      0.0      0.0      0.0      0.0     0.0     0.0   \n",
       "4      0.0      0.0      0.0      0.0      0.0      0.0     0.0     0.0   \n",
       "\n",
       "   LAC_def  LAC_off  LA_def  LA_off  LV_def  LV_off  MIA_def  MIA_off  \\\n",
       "0      0.0      0.0     0.0     0.0     0.0     0.0      0.0      0.0   \n",
       "1      0.0      0.0     0.0     0.0     0.0     0.0      0.0      0.0   \n",
       "2      0.0      0.0     0.0     0.0     0.0     0.0      0.0      0.0   \n",
       "3      0.0      0.0     0.0     0.0     0.0     0.0      0.0      0.0   \n",
       "4      0.0      0.0     0.0     0.0     0.0     0.0      0.0      0.0   \n",
       "\n",
       "   MIN_def  MIN_off  NE_def  NE_off  NO_def  NO_off  NYG_def  NYG_off  \\\n",
       "0      0.0      0.0     0.0     0.0     0.0     0.0      0.0      0.0   \n",
       "1      0.0      0.0     0.0     0.0     0.0     0.0      0.0      0.0   \n",
       "2      0.0      0.0     0.0     0.0     0.0     0.0      0.0      0.0   \n",
       "3      0.0      0.0     0.0     0.0     0.0     0.0      0.0      0.0   \n",
       "4      0.0      0.0     0.0     0.0     0.0     0.0      0.0      0.0   \n",
       "\n",
       "   NYJ_def  NYJ_off  PHI_def  PHI_off  PIT_def  PIT_off  SEA_def  SEA_off  \\\n",
       "0      0.0      0.0      0.0      0.0      0.0      0.0      0.0      0.0   \n",
       "1      0.0      0.0      0.0      0.0      0.0      0.0      0.0      0.0   \n",
       "2      0.0      0.0      0.0      0.0      0.0      0.0     -1.0      0.0   \n",
       "3      0.0      0.0      0.0      0.0      0.0      0.0      0.0      1.0   \n",
       "4      0.0      0.0      0.0      0.0      0.0      0.0      0.0      0.0   \n",
       "\n",
       "   SF_def  SF_off  TB_def  TB_off  TEN_def  TEN_off  WAS_def  WAS_off  hfa  \\\n",
       "0     0.0     0.0     0.0     0.0      0.0      0.0      0.0      0.0  0.5   \n",
       "1     0.0     0.0     0.0     0.0      0.0      0.0      0.0      0.0 -0.5   \n",
       "2     0.0     0.0     0.0     0.0      0.0      0.0      0.0      0.0  0.5   \n",
       "3     0.0     0.0     0.0     0.0      0.0      0.0      0.0      0.0 -0.5   \n",
       "4     0.0     0.0     0.0     0.0      0.0      0.0      0.0      0.0  0.5   \n",
       "\n",
       "      score  \n",
       "0  7.004647  \n",
       "1 -2.495353  \n",
       "2  7.254647  \n",
       "3  6.254647  \n",
       "4  0.754647  "
      ]
     },
     "execution_count": 39,
     "metadata": {},
     "output_type": "execute_result"
    }
   ],
   "source": [
    "# create a sorted list of teams\n",
    "teams = list(sorted(df['home_team'].unique()))\n",
    "\n",
    "# turn the system of equations into a dataframe\n",
    "system_df = pd.DataFrame(system).fillna(0)\n",
    "\n",
    "# sort the columns of the system of equations\n",
    "sorted_system_cols = list(sorted(system_df.columns))\n",
    "sorted_system_cols.remove('hfa')\n",
    "sorted_system_cols.remove('score')\n",
    "sorted_system_cols += ['hfa', 'score']\n",
    "\n",
    "system_df = system_df[sorted_system_cols]\n",
    "system_df.head()"
   ]
  },
  {
   "cell_type": "code",
   "execution_count": 40,
   "metadata": {},
   "outputs": [
    {
     "name": "stdout",
     "output_type": "stream",
     "text": [
      "home field advantage: 1.11\n"
     ]
    }
   ],
   "source": [
    "# use linear regression to solve for the coefficients\n",
    "reg = LinearRegression(fit_intercept=False)\n",
    "# can use ridge regression to penalize large values if it makes them\n",
    "\n",
    "reg.fit(system_df.drop('score', axis=1), system_df['score'])\n",
    "\n",
    "hfa = round(reg.coef_[-1], 2)\n",
    "print('home field advantage:', hfa)"
   ]
  },
  {
   "cell_type": "code",
   "execution_count": 41,
   "metadata": {},
   "outputs": [],
   "source": [
    "# dict to hold team ratings\n",
    "rating_dict = defaultdict(dict)\n",
    "# iterate over offensive and defensive coefficients (ignore hfa and score columns)\n",
    "for team_str, rating in zip(system_df.columns[:-2], reg.coef_[:-1]):\n",
    "    team, unit = team_str.split('_')\n",
    "    rating_dict[team][unit] = rating"
   ]
  },
  {
   "cell_type": "code",
   "execution_count": 42,
   "metadata": {},
   "outputs": [
    {
     "data": {
      "text/html": [
       "<div>\n",
       "<style scoped>\n",
       "    .dataframe tbody tr th:only-of-type {\n",
       "        vertical-align: middle;\n",
       "    }\n",
       "\n",
       "    .dataframe tbody tr th {\n",
       "        vertical-align: top;\n",
       "    }\n",
       "\n",
       "    .dataframe thead th {\n",
       "        text-align: right;\n",
       "    }\n",
       "</style>\n",
       "<table border=\"1\" class=\"dataframe\">\n",
       "  <thead>\n",
       "    <tr style=\"text-align: right;\">\n",
       "      <th></th>\n",
       "      <th>ovr</th>\n",
       "      <th>off</th>\n",
       "      <th>def</th>\n",
       "    </tr>\n",
       "  </thead>\n",
       "  <tbody>\n",
       "    <tr>\n",
       "      <th>KC</th>\n",
       "      <td>6.859334</td>\n",
       "      <td>4.005409</td>\n",
       "      <td>2.853925</td>\n",
       "    </tr>\n",
       "    <tr>\n",
       "      <th>BAL</th>\n",
       "      <td>5.742363</td>\n",
       "      <td>0.940356</td>\n",
       "      <td>4.802007</td>\n",
       "    </tr>\n",
       "    <tr>\n",
       "      <th>NO</th>\n",
       "      <td>5.577369</td>\n",
       "      <td>2.660782</td>\n",
       "      <td>2.916587</td>\n",
       "    </tr>\n",
       "    <tr>\n",
       "      <th>GB</th>\n",
       "      <td>4.989946</td>\n",
       "      <td>4.731433</td>\n",
       "      <td>0.258513</td>\n",
       "    </tr>\n",
       "    <tr>\n",
       "      <th>TB</th>\n",
       "      <td>4.909879</td>\n",
       "      <td>4.099325</td>\n",
       "      <td>0.810554</td>\n",
       "    </tr>\n",
       "    <tr>\n",
       "      <th>SEA</th>\n",
       "      <td>4.098728</td>\n",
       "      <td>4.218229</td>\n",
       "      <td>-0.119501</td>\n",
       "    </tr>\n",
       "    <tr>\n",
       "      <th>PIT</th>\n",
       "      <td>3.344655</td>\n",
       "      <td>0.860380</td>\n",
       "      <td>2.484275</td>\n",
       "    </tr>\n",
       "    <tr>\n",
       "      <th>IND</th>\n",
       "      <td>3.205826</td>\n",
       "      <td>1.390751</td>\n",
       "      <td>1.815075</td>\n",
       "    </tr>\n",
       "    <tr>\n",
       "      <th>LA</th>\n",
       "      <td>3.039606</td>\n",
       "      <td>-1.762677</td>\n",
       "      <td>4.802284</td>\n",
       "    </tr>\n",
       "    <tr>\n",
       "      <th>BUF</th>\n",
       "      <td>2.908961</td>\n",
       "      <td>3.841936</td>\n",
       "      <td>-0.932975</td>\n",
       "    </tr>\n",
       "    <tr>\n",
       "      <th>TEN</th>\n",
       "      <td>2.268523</td>\n",
       "      <td>4.500639</td>\n",
       "      <td>-2.232116</td>\n",
       "    </tr>\n",
       "    <tr>\n",
       "      <th>ARI</th>\n",
       "      <td>1.240534</td>\n",
       "      <td>0.879386</td>\n",
       "      <td>0.361148</td>\n",
       "    </tr>\n",
       "    <tr>\n",
       "      <th>CLE</th>\n",
       "      <td>0.928825</td>\n",
       "      <td>2.627867</td>\n",
       "      <td>-1.699042</td>\n",
       "    </tr>\n",
       "    <tr>\n",
       "      <th>SF</th>\n",
       "      <td>0.635757</td>\n",
       "      <td>0.118666</td>\n",
       "      <td>0.517091</td>\n",
       "    </tr>\n",
       "    <tr>\n",
       "      <th>MIN</th>\n",
       "      <td>0.546644</td>\n",
       "      <td>2.926208</td>\n",
       "      <td>-2.379564</td>\n",
       "    </tr>\n",
       "    <tr>\n",
       "      <th>NE</th>\n",
       "      <td>0.392156</td>\n",
       "      <td>-3.281272</td>\n",
       "      <td>3.673428</td>\n",
       "    </tr>\n",
       "    <tr>\n",
       "      <th>LAC</th>\n",
       "      <td>0.051967</td>\n",
       "      <td>0.658795</td>\n",
       "      <td>-0.606828</td>\n",
       "    </tr>\n",
       "    <tr>\n",
       "      <th>LV</th>\n",
       "      <td>-0.429826</td>\n",
       "      <td>3.767984</td>\n",
       "      <td>-4.197810</td>\n",
       "    </tr>\n",
       "    <tr>\n",
       "      <th>HOU</th>\n",
       "      <td>-0.961762</td>\n",
       "      <td>0.942828</td>\n",
       "      <td>-1.904590</td>\n",
       "    </tr>\n",
       "    <tr>\n",
       "      <th>ATL</th>\n",
       "      <td>-0.976009</td>\n",
       "      <td>-0.817151</td>\n",
       "      <td>-0.158857</td>\n",
       "    </tr>\n",
       "    <tr>\n",
       "      <th>MIA</th>\n",
       "      <td>-1.356381</td>\n",
       "      <td>-1.788369</td>\n",
       "      <td>0.431988</td>\n",
       "    </tr>\n",
       "    <tr>\n",
       "      <th>CHI</th>\n",
       "      <td>-1.804184</td>\n",
       "      <td>-3.603236</td>\n",
       "      <td>1.799052</td>\n",
       "    </tr>\n",
       "    <tr>\n",
       "      <th>PHI</th>\n",
       "      <td>-1.863238</td>\n",
       "      <td>-1.554422</td>\n",
       "      <td>-0.308816</td>\n",
       "    </tr>\n",
       "    <tr>\n",
       "      <th>CAR</th>\n",
       "      <td>-2.423571</td>\n",
       "      <td>-2.981843</td>\n",
       "      <td>0.558272</td>\n",
       "    </tr>\n",
       "    <tr>\n",
       "      <th>DAL</th>\n",
       "      <td>-2.557499</td>\n",
       "      <td>2.225935</td>\n",
       "      <td>-4.783433</td>\n",
       "    </tr>\n",
       "    <tr>\n",
       "      <th>DET</th>\n",
       "      <td>-2.623141</td>\n",
       "      <td>1.650405</td>\n",
       "      <td>-4.273546</td>\n",
       "    </tr>\n",
       "    <tr>\n",
       "      <th>WAS</th>\n",
       "      <td>-4.255430</td>\n",
       "      <td>-5.540538</td>\n",
       "      <td>1.285108</td>\n",
       "    </tr>\n",
       "    <tr>\n",
       "      <th>DEN</th>\n",
       "      <td>-4.375464</td>\n",
       "      <td>-3.355059</td>\n",
       "      <td>-1.020405</td>\n",
       "    </tr>\n",
       "    <tr>\n",
       "      <th>NYG</th>\n",
       "      <td>-5.305551</td>\n",
       "      <td>-7.156627</td>\n",
       "      <td>1.851076</td>\n",
       "    </tr>\n",
       "    <tr>\n",
       "      <th>CIN</th>\n",
       "      <td>-6.672643</td>\n",
       "      <td>-4.948672</td>\n",
       "      <td>-1.723971</td>\n",
       "    </tr>\n",
       "    <tr>\n",
       "      <th>JAX</th>\n",
       "      <td>-7.020423</td>\n",
       "      <td>-4.045377</td>\n",
       "      <td>-2.975047</td>\n",
       "    </tr>\n",
       "    <tr>\n",
       "      <th>NYJ</th>\n",
       "      <td>-8.115953</td>\n",
       "      <td>-6.960927</td>\n",
       "      <td>-1.155026</td>\n",
       "    </tr>\n",
       "  </tbody>\n",
       "</table>\n",
       "</div>"
      ],
      "text/plain": [
       "          ovr       off       def\n",
       "KC   6.859334  4.005409  2.853925\n",
       "BAL  5.742363  0.940356  4.802007\n",
       "NO   5.577369  2.660782  2.916587\n",
       "GB   4.989946  4.731433  0.258513\n",
       "TB   4.909879  4.099325  0.810554\n",
       "SEA  4.098728  4.218229 -0.119501\n",
       "PIT  3.344655  0.860380  2.484275\n",
       "IND  3.205826  1.390751  1.815075\n",
       "LA   3.039606 -1.762677  4.802284\n",
       "BUF  2.908961  3.841936 -0.932975\n",
       "TEN  2.268523  4.500639 -2.232116\n",
       "ARI  1.240534  0.879386  0.361148\n",
       "CLE  0.928825  2.627867 -1.699042\n",
       "SF   0.635757  0.118666  0.517091\n",
       "MIN  0.546644  2.926208 -2.379564\n",
       "NE   0.392156 -3.281272  3.673428\n",
       "LAC  0.051967  0.658795 -0.606828\n",
       "LV  -0.429826  3.767984 -4.197810\n",
       "HOU -0.961762  0.942828 -1.904590\n",
       "ATL -0.976009 -0.817151 -0.158857\n",
       "MIA -1.356381 -1.788369  0.431988\n",
       "CHI -1.804184 -3.603236  1.799052\n",
       "PHI -1.863238 -1.554422 -0.308816\n",
       "CAR -2.423571 -2.981843  0.558272\n",
       "DAL -2.557499  2.225935 -4.783433\n",
       "DET -2.623141  1.650405 -4.273546\n",
       "WAS -4.255430 -5.540538  1.285108\n",
       "DEN -4.375464 -3.355059 -1.020405\n",
       "NYG -5.305551 -7.156627  1.851076\n",
       "CIN -6.672643 -4.948672 -1.723971\n",
       "JAX -7.020423 -4.045377 -2.975047\n",
       "NYJ -8.115953 -6.960927 -1.155026"
      ]
     },
     "execution_count": 42,
     "metadata": {},
     "output_type": "execute_result"
    }
   ],
   "source": [
    "power_ratings = pd.DataFrame(rating_dict).T\n",
    "power_ratings['ovr'] = power_ratings['off'] + power_ratings['def']\n",
    "power_ratings = power_ratings[['ovr', 'off', 'def']].copy()\n",
    "power_ratings.sort_values('ovr', ascending=False)"
   ]
  },
  {
   "cell_type": "code",
   "execution_count": 43,
   "metadata": {},
   "outputs": [
    {
     "data": {
      "application/vnd.plotly.v1+json": {
       "config": {
        "plotlyServerURL": "https://plot.ly"
       },
       "data": [
        {
         "hovertemplate": "off=%{x}<br>def=%{y}<br>index=%{text}<br>ovr=%{marker.color}<extra></extra>",
         "legendgroup": "",
         "marker": {
          "color": [
           1.240533608947433,
           -0.9760087593975486,
           5.742363020495784,
           2.9089611643116626,
           -2.423571304005341,
           -1.8041838103887926,
           -6.672642617713436,
           0.928824842258344,
           -2.5574985142485627,
           -4.375463840124919,
           -2.623140713942947,
           4.989946375702061,
           -0.9617620360382374,
           3.2058260598199073,
           -7.020423382323321,
           6.859334222150954,
           0.051967043713807115,
           3.039606286189482,
           -0.429826461724252,
           -1.3563812944491251,
           0.5466440528870802,
           0.3921557602449921,
           5.5773693398169835,
           -5.305550768353061,
           -8.115952577664977,
           -1.8632384908024995,
           3.344655245031505,
           4.0987283639968926,
           0.6357573719178347,
           4.909878529997393,
           2.268522845834629,
           -4.25542956213973
          ],
          "coloraxis": "coloraxis",
          "symbol": "circle"
         },
         "mode": "markers+text",
         "name": "",
         "orientation": "v",
         "showlegend": false,
         "text": [
          "ARI",
          "ATL",
          "BAL",
          "BUF",
          "CAR",
          "CHI",
          "CIN",
          "CLE",
          "DAL",
          "DEN",
          "DET",
          "GB",
          "HOU",
          "IND",
          "JAX",
          "KC",
          "LAC",
          "LA",
          "LV",
          "MIA",
          "MIN",
          "NE",
          "NO",
          "NYG",
          "NYJ",
          "PHI",
          "PIT",
          "SEA",
          "SF",
          "TB",
          "TEN",
          "WAS"
         ],
         "textposition": "top center",
         "type": "scatter",
         "x": [
          0.8793858557754932,
          -0.8171513123976071,
          0.9403559415745519,
          3.841935853569618,
          -2.9818431154611824,
          -3.6032360667341132,
          -4.948672105763462,
          2.627867124197853,
          2.2259347209321145,
          -3.355059160504759,
          1.65040533010001,
          4.731433195155728,
          0.9428282550632822,
          1.3907508251027494,
          -4.045376802306707,
          4.005408895447577,
          0.6587952845230338,
          -1.762677317151491,
          3.767983645638777,
          -1.7883692795104293,
          2.9262082442747026,
          -3.2812721530534303,
          2.660782151830288,
          -7.156627251108059,
          -6.960926950140729,
          -1.5544222819229994,
          0.8603800278353768,
          4.218229045805138,
          0.11866636114543949,
          4.09932454150184,
          4.500639153064,
          -5.54053755987289
         ],
         "xaxis": "x",
         "y": [
          0.36114775317193987,
          -0.15885744699994153,
          4.802007078921232,
          -0.9329746892579556,
          0.5582718114558416,
          1.7990522563453206,
          -1.7239705119499733,
          -1.699042281939509,
          -4.783433235180677,
          -1.0204046796201596,
          -4.2735460440429565,
          0.25851318054633277,
          -1.9045902911015196,
          1.8150752347171577,
          -2.975046580016613,
          2.8539253267033775,
          -0.6068282408092267,
          4.802283603340973,
          -4.197810107363029,
          0.43198798506130415,
          -2.3795641913876224,
          3.6734279132984224,
          2.9165871879866954,
          1.8510764827549973,
          -1.155025627524247,
          -0.3088162088795001,
          2.484275217196128,
          -0.11950068180824608,
          0.5170910107723952,
          0.8105539884955527,
          -2.2321163072293713,
          1.2851079977331605
         ],
         "yaxis": "y"
        }
       ],
       "layout": {
        "coloraxis": {
         "colorbar": {
          "title": {
           "text": "ovr"
          }
         },
         "colorscale": [
          [
           0,
           "#0d0887"
          ],
          [
           0.1111111111111111,
           "#46039f"
          ],
          [
           0.2222222222222222,
           "#7201a8"
          ],
          [
           0.3333333333333333,
           "#9c179e"
          ],
          [
           0.4444444444444444,
           "#bd3786"
          ],
          [
           0.5555555555555556,
           "#d8576b"
          ],
          [
           0.6666666666666666,
           "#ed7953"
          ],
          [
           0.7777777777777778,
           "#fb9f3a"
          ],
          [
           0.8888888888888888,
           "#fdca26"
          ],
          [
           1,
           "#f0f921"
          ]
         ]
        },
        "legend": {
         "tracegroupgap": 0
        },
        "template": {
         "data": {
          "bar": [
           {
            "error_x": {
             "color": "#2a3f5f"
            },
            "error_y": {
             "color": "#2a3f5f"
            },
            "marker": {
             "line": {
              "color": "#E5ECF6",
              "width": 0.5
             },
             "pattern": {
              "fillmode": "overlay",
              "size": 10,
              "solidity": 0.2
             }
            },
            "type": "bar"
           }
          ],
          "barpolar": [
           {
            "marker": {
             "line": {
              "color": "#E5ECF6",
              "width": 0.5
             },
             "pattern": {
              "fillmode": "overlay",
              "size": 10,
              "solidity": 0.2
             }
            },
            "type": "barpolar"
           }
          ],
          "carpet": [
           {
            "aaxis": {
             "endlinecolor": "#2a3f5f",
             "gridcolor": "white",
             "linecolor": "white",
             "minorgridcolor": "white",
             "startlinecolor": "#2a3f5f"
            },
            "baxis": {
             "endlinecolor": "#2a3f5f",
             "gridcolor": "white",
             "linecolor": "white",
             "minorgridcolor": "white",
             "startlinecolor": "#2a3f5f"
            },
            "type": "carpet"
           }
          ],
          "choropleth": [
           {
            "colorbar": {
             "outlinewidth": 0,
             "ticks": ""
            },
            "type": "choropleth"
           }
          ],
          "contour": [
           {
            "colorbar": {
             "outlinewidth": 0,
             "ticks": ""
            },
            "colorscale": [
             [
              0,
              "#0d0887"
             ],
             [
              0.1111111111111111,
              "#46039f"
             ],
             [
              0.2222222222222222,
              "#7201a8"
             ],
             [
              0.3333333333333333,
              "#9c179e"
             ],
             [
              0.4444444444444444,
              "#bd3786"
             ],
             [
              0.5555555555555556,
              "#d8576b"
             ],
             [
              0.6666666666666666,
              "#ed7953"
             ],
             [
              0.7777777777777778,
              "#fb9f3a"
             ],
             [
              0.8888888888888888,
              "#fdca26"
             ],
             [
              1,
              "#f0f921"
             ]
            ],
            "type": "contour"
           }
          ],
          "contourcarpet": [
           {
            "colorbar": {
             "outlinewidth": 0,
             "ticks": ""
            },
            "type": "contourcarpet"
           }
          ],
          "heatmap": [
           {
            "colorbar": {
             "outlinewidth": 0,
             "ticks": ""
            },
            "colorscale": [
             [
              0,
              "#0d0887"
             ],
             [
              0.1111111111111111,
              "#46039f"
             ],
             [
              0.2222222222222222,
              "#7201a8"
             ],
             [
              0.3333333333333333,
              "#9c179e"
             ],
             [
              0.4444444444444444,
              "#bd3786"
             ],
             [
              0.5555555555555556,
              "#d8576b"
             ],
             [
              0.6666666666666666,
              "#ed7953"
             ],
             [
              0.7777777777777778,
              "#fb9f3a"
             ],
             [
              0.8888888888888888,
              "#fdca26"
             ],
             [
              1,
              "#f0f921"
             ]
            ],
            "type": "heatmap"
           }
          ],
          "heatmapgl": [
           {
            "colorbar": {
             "outlinewidth": 0,
             "ticks": ""
            },
            "colorscale": [
             [
              0,
              "#0d0887"
             ],
             [
              0.1111111111111111,
              "#46039f"
             ],
             [
              0.2222222222222222,
              "#7201a8"
             ],
             [
              0.3333333333333333,
              "#9c179e"
             ],
             [
              0.4444444444444444,
              "#bd3786"
             ],
             [
              0.5555555555555556,
              "#d8576b"
             ],
             [
              0.6666666666666666,
              "#ed7953"
             ],
             [
              0.7777777777777778,
              "#fb9f3a"
             ],
             [
              0.8888888888888888,
              "#fdca26"
             ],
             [
              1,
              "#f0f921"
             ]
            ],
            "type": "heatmapgl"
           }
          ],
          "histogram": [
           {
            "marker": {
             "pattern": {
              "fillmode": "overlay",
              "size": 10,
              "solidity": 0.2
             }
            },
            "type": "histogram"
           }
          ],
          "histogram2d": [
           {
            "colorbar": {
             "outlinewidth": 0,
             "ticks": ""
            },
            "colorscale": [
             [
              0,
              "#0d0887"
             ],
             [
              0.1111111111111111,
              "#46039f"
             ],
             [
              0.2222222222222222,
              "#7201a8"
             ],
             [
              0.3333333333333333,
              "#9c179e"
             ],
             [
              0.4444444444444444,
              "#bd3786"
             ],
             [
              0.5555555555555556,
              "#d8576b"
             ],
             [
              0.6666666666666666,
              "#ed7953"
             ],
             [
              0.7777777777777778,
              "#fb9f3a"
             ],
             [
              0.8888888888888888,
              "#fdca26"
             ],
             [
              1,
              "#f0f921"
             ]
            ],
            "type": "histogram2d"
           }
          ],
          "histogram2dcontour": [
           {
            "colorbar": {
             "outlinewidth": 0,
             "ticks": ""
            },
            "colorscale": [
             [
              0,
              "#0d0887"
             ],
             [
              0.1111111111111111,
              "#46039f"
             ],
             [
              0.2222222222222222,
              "#7201a8"
             ],
             [
              0.3333333333333333,
              "#9c179e"
             ],
             [
              0.4444444444444444,
              "#bd3786"
             ],
             [
              0.5555555555555556,
              "#d8576b"
             ],
             [
              0.6666666666666666,
              "#ed7953"
             ],
             [
              0.7777777777777778,
              "#fb9f3a"
             ],
             [
              0.8888888888888888,
              "#fdca26"
             ],
             [
              1,
              "#f0f921"
             ]
            ],
            "type": "histogram2dcontour"
           }
          ],
          "mesh3d": [
           {
            "colorbar": {
             "outlinewidth": 0,
             "ticks": ""
            },
            "type": "mesh3d"
           }
          ],
          "parcoords": [
           {
            "line": {
             "colorbar": {
              "outlinewidth": 0,
              "ticks": ""
             }
            },
            "type": "parcoords"
           }
          ],
          "pie": [
           {
            "automargin": true,
            "type": "pie"
           }
          ],
          "scatter": [
           {
            "fillpattern": {
             "fillmode": "overlay",
             "size": 10,
             "solidity": 0.2
            },
            "type": "scatter"
           }
          ],
          "scatter3d": [
           {
            "line": {
             "colorbar": {
              "outlinewidth": 0,
              "ticks": ""
             }
            },
            "marker": {
             "colorbar": {
              "outlinewidth": 0,
              "ticks": ""
             }
            },
            "type": "scatter3d"
           }
          ],
          "scattercarpet": [
           {
            "marker": {
             "colorbar": {
              "outlinewidth": 0,
              "ticks": ""
             }
            },
            "type": "scattercarpet"
           }
          ],
          "scattergeo": [
           {
            "marker": {
             "colorbar": {
              "outlinewidth": 0,
              "ticks": ""
             }
            },
            "type": "scattergeo"
           }
          ],
          "scattergl": [
           {
            "marker": {
             "colorbar": {
              "outlinewidth": 0,
              "ticks": ""
             }
            },
            "type": "scattergl"
           }
          ],
          "scattermapbox": [
           {
            "marker": {
             "colorbar": {
              "outlinewidth": 0,
              "ticks": ""
             }
            },
            "type": "scattermapbox"
           }
          ],
          "scatterpolar": [
           {
            "marker": {
             "colorbar": {
              "outlinewidth": 0,
              "ticks": ""
             }
            },
            "type": "scatterpolar"
           }
          ],
          "scatterpolargl": [
           {
            "marker": {
             "colorbar": {
              "outlinewidth": 0,
              "ticks": ""
             }
            },
            "type": "scatterpolargl"
           }
          ],
          "scatterternary": [
           {
            "marker": {
             "colorbar": {
              "outlinewidth": 0,
              "ticks": ""
             }
            },
            "type": "scatterternary"
           }
          ],
          "surface": [
           {
            "colorbar": {
             "outlinewidth": 0,
             "ticks": ""
            },
            "colorscale": [
             [
              0,
              "#0d0887"
             ],
             [
              0.1111111111111111,
              "#46039f"
             ],
             [
              0.2222222222222222,
              "#7201a8"
             ],
             [
              0.3333333333333333,
              "#9c179e"
             ],
             [
              0.4444444444444444,
              "#bd3786"
             ],
             [
              0.5555555555555556,
              "#d8576b"
             ],
             [
              0.6666666666666666,
              "#ed7953"
             ],
             [
              0.7777777777777778,
              "#fb9f3a"
             ],
             [
              0.8888888888888888,
              "#fdca26"
             ],
             [
              1,
              "#f0f921"
             ]
            ],
            "type": "surface"
           }
          ],
          "table": [
           {
            "cells": {
             "fill": {
              "color": "#EBF0F8"
             },
             "line": {
              "color": "white"
             }
            },
            "header": {
             "fill": {
              "color": "#C8D4E3"
             },
             "line": {
              "color": "white"
             }
            },
            "type": "table"
           }
          ]
         },
         "layout": {
          "annotationdefaults": {
           "arrowcolor": "#2a3f5f",
           "arrowhead": 0,
           "arrowwidth": 1
          },
          "autotypenumbers": "strict",
          "coloraxis": {
           "colorbar": {
            "outlinewidth": 0,
            "ticks": ""
           }
          },
          "colorscale": {
           "diverging": [
            [
             0,
             "#8e0152"
            ],
            [
             0.1,
             "#c51b7d"
            ],
            [
             0.2,
             "#de77ae"
            ],
            [
             0.3,
             "#f1b6da"
            ],
            [
             0.4,
             "#fde0ef"
            ],
            [
             0.5,
             "#f7f7f7"
            ],
            [
             0.6,
             "#e6f5d0"
            ],
            [
             0.7,
             "#b8e186"
            ],
            [
             0.8,
             "#7fbc41"
            ],
            [
             0.9,
             "#4d9221"
            ],
            [
             1,
             "#276419"
            ]
           ],
           "sequential": [
            [
             0,
             "#0d0887"
            ],
            [
             0.1111111111111111,
             "#46039f"
            ],
            [
             0.2222222222222222,
             "#7201a8"
            ],
            [
             0.3333333333333333,
             "#9c179e"
            ],
            [
             0.4444444444444444,
             "#bd3786"
            ],
            [
             0.5555555555555556,
             "#d8576b"
            ],
            [
             0.6666666666666666,
             "#ed7953"
            ],
            [
             0.7777777777777778,
             "#fb9f3a"
            ],
            [
             0.8888888888888888,
             "#fdca26"
            ],
            [
             1,
             "#f0f921"
            ]
           ],
           "sequentialminus": [
            [
             0,
             "#0d0887"
            ],
            [
             0.1111111111111111,
             "#46039f"
            ],
            [
             0.2222222222222222,
             "#7201a8"
            ],
            [
             0.3333333333333333,
             "#9c179e"
            ],
            [
             0.4444444444444444,
             "#bd3786"
            ],
            [
             0.5555555555555556,
             "#d8576b"
            ],
            [
             0.6666666666666666,
             "#ed7953"
            ],
            [
             0.7777777777777778,
             "#fb9f3a"
            ],
            [
             0.8888888888888888,
             "#fdca26"
            ],
            [
             1,
             "#f0f921"
            ]
           ]
          },
          "colorway": [
           "#636efa",
           "#EF553B",
           "#00cc96",
           "#ab63fa",
           "#FFA15A",
           "#19d3f3",
           "#FF6692",
           "#B6E880",
           "#FF97FF",
           "#FECB52"
          ],
          "font": {
           "color": "#2a3f5f"
          },
          "geo": {
           "bgcolor": "white",
           "lakecolor": "white",
           "landcolor": "#E5ECF6",
           "showlakes": true,
           "showland": true,
           "subunitcolor": "white"
          },
          "hoverlabel": {
           "align": "left"
          },
          "hovermode": "closest",
          "mapbox": {
           "style": "light"
          },
          "paper_bgcolor": "white",
          "plot_bgcolor": "#E5ECF6",
          "polar": {
           "angularaxis": {
            "gridcolor": "white",
            "linecolor": "white",
            "ticks": ""
           },
           "bgcolor": "#E5ECF6",
           "radialaxis": {
            "gridcolor": "white",
            "linecolor": "white",
            "ticks": ""
           }
          },
          "scene": {
           "xaxis": {
            "backgroundcolor": "#E5ECF6",
            "gridcolor": "white",
            "gridwidth": 2,
            "linecolor": "white",
            "showbackground": true,
            "ticks": "",
            "zerolinecolor": "white"
           },
           "yaxis": {
            "backgroundcolor": "#E5ECF6",
            "gridcolor": "white",
            "gridwidth": 2,
            "linecolor": "white",
            "showbackground": true,
            "ticks": "",
            "zerolinecolor": "white"
           },
           "zaxis": {
            "backgroundcolor": "#E5ECF6",
            "gridcolor": "white",
            "gridwidth": 2,
            "linecolor": "white",
            "showbackground": true,
            "ticks": "",
            "zerolinecolor": "white"
           }
          },
          "shapedefaults": {
           "line": {
            "color": "#2a3f5f"
           }
          },
          "ternary": {
           "aaxis": {
            "gridcolor": "white",
            "linecolor": "white",
            "ticks": ""
           },
           "baxis": {
            "gridcolor": "white",
            "linecolor": "white",
            "ticks": ""
           },
           "bgcolor": "#E5ECF6",
           "caxis": {
            "gridcolor": "white",
            "linecolor": "white",
            "ticks": ""
           }
          },
          "title": {
           "x": 0.05
          },
          "xaxis": {
           "automargin": true,
           "gridcolor": "white",
           "linecolor": "white",
           "ticks": "",
           "title": {
            "standoff": 15
           },
           "zerolinecolor": "white",
           "zerolinewidth": 2
          },
          "yaxis": {
           "automargin": true,
           "gridcolor": "white",
           "linecolor": "white",
           "ticks": "",
           "title": {
            "standoff": 15
           },
           "zerolinecolor": "white",
           "zerolinewidth": 2
          }
         }
        },
        "title": {
         "text": "Market Derived Power Ratings 2020"
        },
        "xaxis": {
         "anchor": "y",
         "domain": [
          0,
          1
         ],
         "title": {
          "text": "off"
         }
        },
        "yaxis": {
         "anchor": "x",
         "domain": [
          0,
          1
         ],
         "title": {
          "text": "def"
         }
        }
       }
      }
     },
     "metadata": {},
     "output_type": "display_data"
    }
   ],
   "source": [
    "fig = px.scatter(power_ratings.reset_index(level=0), x='off', y='def', color='ovr', text='index', title=f'Market Derived Power Ratings {year}')\n",
    "fig.update_traces(textposition='top center')\n",
    "fig.show()"
   ]
  },
  {
   "cell_type": "code",
   "execution_count": 44,
   "metadata": {},
   "outputs": [],
   "source": [
    "fig.write_image(f\"{year}_power_ratings.png\")"
   ]
  }
 ],
 "metadata": {
  "kernelspec": {
   "display_name": "nfl",
   "language": "python",
   "name": "python3"
  },
  "language_info": {
   "codemirror_mode": {
    "name": "ipython",
    "version": 3
   },
   "file_extension": ".py",
   "mimetype": "text/x-python",
   "name": "python",
   "nbconvert_exporter": "python",
   "pygments_lexer": "ipython3",
   "version": "3.10.12"
  },
  "orig_nbformat": 4
 },
 "nbformat": 4,
 "nbformat_minor": 2
}
